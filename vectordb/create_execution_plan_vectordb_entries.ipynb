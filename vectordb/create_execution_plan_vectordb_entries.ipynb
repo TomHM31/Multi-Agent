{
 "cells": [
  {
   "cell_type": "code",
   "execution_count": 5,
   "id": "630daf33-0e5b-4389-984f-33abcc49845d",
   "metadata": {
    "tags": []
   },
   "outputs": [],
   "source": [
    "import pandas as pd"
   ]
  },
  {
   "cell_type": "code",
   "execution_count": 6,
   "id": "3ff02d26-76de-4470-97ad-6e991fb3b4aa",
   "metadata": {
    "tags": []
   },
   "outputs": [],
   "source": [
    "rows = []\n",
    "rows.append(['dummy', 'dummy', 'dummy'])"
   ]
  },
  {
   "cell_type": "code",
   "execution_count": 7,
   "id": "812d31b1-82ab-402f-8799-8faff62c5f48",
   "metadata": {
    "tags": []
   },
   "outputs": [],
   "source": [
    "df = pd.DataFrame(rows, columns=['task','plan','code'])"
   ]
  },
  {
   "cell_type": "code",
   "execution_count": 8,
   "id": "bff680c2-9de3-40f6-9898-d468b054aeab",
   "metadata": {
    "tags": []
   },
   "outputs": [],
   "source": [
    "df.to_csv('execution_plan.csv', index=False)"
   ]
  },
  {
   "cell_type": "code",
   "execution_count": null,
   "id": "32218385-1588-4c58-9826-5f2c76a282d3",
   "metadata": {},
   "outputs": [],
   "source": []
  },
  {
   "cell_type": "code",
   "execution_count": null,
   "id": "416dc0cc",
   "metadata": {},
   "outputs": [],
   "source": []
  }
 ],
 "metadata": {
  "kernelspec": {
   "display_name": "conda_python3",
   "language": "python",
   "name": "conda_python3"
  },
  "language_info": {
   "codemirror_mode": {
    "name": "ipython",
    "version": 3
   },
   "file_extension": ".py",
   "mimetype": "text/x-python",
   "name": "python",
   "nbconvert_exporter": "python",
   "pygments_lexer": "ipython3",
   "version": "3.10.13"
  }
 },
 "nbformat": 4,
 "nbformat_minor": 5
}
