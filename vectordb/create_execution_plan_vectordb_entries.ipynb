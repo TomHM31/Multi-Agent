{
 "cells": [
  {
   "cell_type": "code",
   "execution_count": 97,
   "id": "630daf33-0e5b-4389-984f-33abcc49845d",
   "metadata": {
    "tags": []
   },
   "outputs": [],
   "source": [
    "import pandas as pd"
   ]
  },
  {
   "cell_type": "code",
   "execution_count": 98,
   "id": "6b53d9ec",
   "metadata": {},
   "outputs": [],
   "source": [
    "seed_task = 'How many games did the Rays win in 2022?'"
   ]
  },
  {
   "cell_type": "code",
   "execution_count": 99,
   "id": "db6c682f",
   "metadata": {},
   "outputs": [],
   "source": [
    "seed_plan = '''1. Import the schedule_and_record function from pybaseball:\n",
    "\n",
    "```python\n",
    "from pybaseball import schedule_and_record\n",
    "```\n",
    "\n",
    "2. Get the 2022 schedule and results for the Tampa Bay Rays:\n",
    "\n",
    "```python\n",
    "rays_2022 = schedule_and_record(2022, 'TB')\n",
    "```\n",
    "\n",
    "3. Filter the dataframe to games where the Rays won (W/L == 'W') or had a walk-off win (W/L == 'W-wo'):\n",
    "\n",
    "```python\n",
    "rays_wins = rays_2022[(rays_2022['W/L'] == 'W') | (rays_2022['W/L'] == 'W-wo')]\n",
    "```\n",
    "\n",
    "4. Count the number of rows (games won) in the filtered dataframe:\n",
    "\n",
    "```python\n",
    "num_wins = len(rays_wins)\n",
    "print(f\"The Tampa Bay Rays won {num_wins} games in 2022.\")\n",
    "```'''"
   ]
  },
  {
   "cell_type": "code",
   "execution_count": 100,
   "id": "5bcbfe89",
   "metadata": {},
   "outputs": [],
   "source": [
    "seed_code = '''# 1. Import the schedule_and_record function from pybaseball\n",
    "from pybaseball import schedule_and_record\n",
    "# 2. Get the 2022 schedule and results for the Tampa Bay Rays\n",
    "rays_2022 = schedule_and_record(2022, 'TB')\n",
    "# 3. Filter the dataframe to games where the Rays won (W/L == 'W') or had a walk-off win (W/L == 'W-wo')\n",
    "rays_wins = rays_2022[(rays_2022['W/L'] == 'W') | (rays_2022['W/L'] == 'W-wo')]\n",
    "# 4. Count the number of rows (games won) in the filtered dataframe\n",
    "num_wins = len(rays_wins)\n",
    "print(f\"The Tampa Bay Rays won {num_wins} games in 2022.\")'''"
   ]
  },
  {
   "cell_type": "code",
   "execution_count": 101,
   "id": "fd37ce6d",
   "metadata": {},
   "outputs": [],
   "source": [
    "seed_function_detail = 'seed_function_detail'"
   ]
  },
  {
   "cell_type": "code",
   "execution_count": 102,
   "id": "3ff02d26-76de-4470-97ad-6e991fb3b4aa",
   "metadata": {
    "tags": []
   },
   "outputs": [],
   "source": [
    "rows = []\n",
    "rows.append([seed_task, seed_plan, seed_code, seed_function_detail])"
   ]
  },
  {
   "cell_type": "code",
   "execution_count": 103,
   "id": "812d31b1-82ab-402f-8799-8faff62c5f48",
   "metadata": {
    "tags": []
   },
   "outputs": [],
   "source": [
    "df = pd.DataFrame(rows, columns=['task','plan','code', 'function_detail'])"
   ]
  },
  {
   "cell_type": "code",
   "execution_count": 104,
   "id": "bff680c2-9de3-40f6-9898-d468b054aeab",
   "metadata": {
    "tags": []
   },
   "outputs": [],
   "source": [
    "df.to_csv('execution_plan.csv', index=False)"
   ]
  },
  {
   "cell_type": "code",
   "execution_count": null,
   "id": "32218385-1588-4c58-9826-5f2c76a282d3",
   "metadata": {},
   "outputs": [],
   "source": []
  },
  {
   "cell_type": "code",
   "execution_count": null,
   "id": "416dc0cc",
   "metadata": {},
   "outputs": [],
   "source": []
  }
 ],
 "metadata": {
  "kernelspec": {
   "display_name": "venv",
   "language": "python",
   "name": "python3"
  },
  "language_info": {
   "codemirror_mode": {
    "name": "ipython",
    "version": 3
   },
   "file_extension": ".py",
   "mimetype": "text/x-python",
   "name": "python",
   "nbconvert_exporter": "python",
   "pygments_lexer": "ipython3",
   "version": "3.10.8"
  }
 },
 "nbformat": 4,
 "nbformat_minor": 5
}
