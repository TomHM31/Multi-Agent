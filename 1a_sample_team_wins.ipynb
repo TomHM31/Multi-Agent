{
 "cells": [
  {
   "cell_type": "code",
   "execution_count": 1,
   "id": "7c01b355-66d2-40e0-92a4-c4553a8d2edd",
   "metadata": {
    "tags": []
   },
   "outputs": [],
   "source": [
    "# general\n",
    "from datetime import datetime\n",
    "from dotenv import load_dotenv, find_dotenv\n",
    "import os\n",
    "\n",
    "# custom local libs\n",
    "from lambda_function import baseball_lambda"
   ]
  },
  {
   "cell_type": "code",
   "execution_count": 2,
   "id": "7a2a54ab",
   "metadata": {},
   "outputs": [],
   "source": [
    "# read local .env file\n",
    "_ = load_dotenv(find_dotenv())"
   ]
  },
  {
   "cell_type": "code",
   "execution_count": 3,
   "id": "12b6af87",
   "metadata": {},
   "outputs": [],
   "source": [
    "# set Langsmith project\n",
    "today = datetime.now().strftime(\"%Y%m%d\")\n",
    "os.environ[\"LANGCHAIN_PROJECT\"] = f\"Baseball Wins - {today}\""
   ]
  },
  {
   "cell_type": "code",
   "execution_count": 4,
   "id": "6bf9b046",
   "metadata": {},
   "outputs": [],
   "source": [
    "session_id = '12345'"
   ]
  },
  {
   "cell_type": "code",
   "execution_count": 5,
   "id": "024b632a",
   "metadata": {},
   "outputs": [
    {
     "name": "stdout",
     "output_type": "stream",
     "text": [
      "{'Orchestrate': {'next': 'Plan'}}\n",
      "----\n",
      "Distance to neareast plan: 0.9246512651443481\n",
      "Formulating a new plan based on User input\n",
      "Collecting metadata for functions schedule_and_record\n",
      "Modifying plan with function metadata\n",
      "{'Plan': {'messages': [HumanMessage(content='Updated Plan:\\n\\n1. Use the `schedule_and_record` function from the pybaseball library to retrieve the game-level results for the Tampa Bay Rays for the 2022 season. To do this, you will need to pass in two specific attributes to the function:\\n   - `season`: Set this to `2022` to specify the year you are interested in.\\n   - `team`: Use the abbreviation for the Tampa Bay Rays, which is `\"TBR\"`. This is crucial as using the wrong abbreviation or a full team name will result in an unsuccessful query.\\n\\n2. Once you have the data, focus on the \"W/L\" column of the returned dataframe. This column indicates whether the Rays won or lost each game. \\n\\n3. To count the number of games won by the Rays in 2022, you will need to filter the dataframe for rows where the \"W/L\" column has a value of \"W\", which stands for a win.\\n\\n4. After filtering, count the number of rows in the filtered dataframe. This count will give you the total number of games won by the Rays in 2022.\\n\\n5. There is no need to manually check each game\\'s result. The filtering and counting steps will automatically calculate the total wins for you.\\n\\nBy following these steps, you will be able to accurately determine how many games the Tampa Bay Rays won in the 2022 season without manually going through each game\\'s result. This method is efficient and leverages the capabilities of the pybaseball library to handle baseball data effectively.\\n\\nAre you satisfied with this plan?', name='Plan')]}}\n",
      "----\n",
      "Updated Plan:\n",
      "\n",
      "1. Use the `schedule_and_record` function from the pybaseball library to retrieve the game-level results for the Tampa Bay Rays for the 2022 season. To do this, you will need to pass in two specific attributes to the function:\n",
      "   - `season`: Set this to `2022` to specify the year you are interested in.\n",
      "   - `team`: Use the abbreviation for the Tampa Bay Rays, which is `\"TBR\"`. This is crucial as using the wrong abbreviation or a full team name will result in an unsuccessful query.\n",
      "\n",
      "2. Once you have the data, focus on the \"W/L\" column of the returned dataframe. This column indicates whether the Rays won or lost each game. \n",
      "\n",
      "3. To count the number of games won by the Rays in 2022, you will need to filter the dataframe for rows where the \"W/L\" column has a value of \"W\", which stands for a win.\n",
      "\n",
      "4. After filtering, count the number of rows in the filtered dataframe. This count will give you the total number of games won by the Rays in 2022.\n",
      "\n",
      "5. There is no need to manually check each game's result. The filtering and counting steps will automatically calculate the total wins for you.\n",
      "\n",
      "By following these steps, you will be able to accurately determine how many games the Tampa Bay Rays won in the 2022 season without manually going through each game's result. This method is efficient and leverages the capabilities of the pybaseball library to handle baseball data effectively.\n",
      "\n",
      "Are you satisfied with this plan?\n"
     ]
    }
   ],
   "source": [
    "task = 'How many games did the Rays win in 2022?' \n",
    "result = baseball_lambda.execute_workflow(task, session_id)\n",
    "print(result)"
   ]
  },
  {
   "cell_type": "code",
   "execution_count": 6,
   "id": "1332fc28",
   "metadata": {},
   "outputs": [
    {
     "name": "stdout",
     "output_type": "stream",
     "text": [
      "{'Orchestrate': {'next': 'Revise'}}\n",
      "----\n",
      "{'Revise': {'messages': [HumanMessage(content='Updated Plan:\\n\\n1. Use the `schedule_and_record` function from the pybaseball library to retrieve the game-level results for the Tampa Bay Rays for the 2022 season. To do this, you will need to pass in two specific attributes to the function:\\n   - `season`: Set this to `2022` to specify the year you are interested in.\\n   - `team`: Use the abbreviation for the Tampa Bay Rays, which is `\"TBR\"`. This is crucial as using the wrong abbreviation or a full team name will result in an unsuccessful query.\\n\\n2. Once you have the data, focus on the \"W/L\" column of the returned dataframe. This column indicates whether the Rays won or lost each game. \\n\\n3. To count the number of games won by the Rays in 2022, you will need to filter the dataframe for rows where the \"W/L\" column has a value of \"W\" or \"W-wo\". \"W\" stands for a regular win, while \"W-wo\" stands for a walk-off win.\\n\\n4. After filtering, count the number of rows in the filtered dataframe. This count will give you the total number of games won by the Rays in 2022, including both regular wins and walk-off wins.\\n\\n5. There is no need to manually check each game\\'s result. The filtering and counting steps will automatically calculate the total wins for you, considering both regular wins and walk-off wins.\\n\\nBy following these steps, you will be able to accurately determine how many games the Tampa Bay Rays won in the 2022 season, including walk-off wins, without manually going through each game\\'s result. This method is efficient and leverages the capabilities of the pybaseball library to handle baseball data effectively.\\n\\nAre you satisfied with this plan?', name='Revisor')]}}\n",
      "----\n",
      "Updated Plan:\n",
      "\n",
      "1. Use the `schedule_and_record` function from the pybaseball library to retrieve the game-level results for the Tampa Bay Rays for the 2022 season. To do this, you will need to pass in two specific attributes to the function:\n",
      "   - `season`: Set this to `2022` to specify the year you are interested in.\n",
      "   - `team`: Use the abbreviation for the Tampa Bay Rays, which is `\"TBR\"`. This is crucial as using the wrong abbreviation or a full team name will result in an unsuccessful query.\n",
      "\n",
      "2. Once you have the data, focus on the \"W/L\" column of the returned dataframe. This column indicates whether the Rays won or lost each game. \n",
      "\n",
      "3. To count the number of games won by the Rays in 2022, you will need to filter the dataframe for rows where the \"W/L\" column has a value of \"W\" or \"W-wo\". \"W\" stands for a regular win, while \"W-wo\" stands for a walk-off win.\n",
      "\n",
      "4. After filtering, count the number of rows in the filtered dataframe. This count will give you the total number of games won by the Rays in 2022, including both regular wins and walk-off wins.\n",
      "\n",
      "5. There is no need to manually check each game's result. The filtering and counting steps will automatically calculate the total wins for you, considering both regular wins and walk-off wins.\n",
      "\n",
      "By following these steps, you will be able to accurately determine how many games the Tampa Bay Rays won in the 2022 season, including walk-off wins, without manually going through each game's result. This method is efficient and leverages the capabilities of the pybaseball library to handle baseball data effectively.\n",
      "\n",
      "Are you satisfied with this plan?\n"
     ]
    }
   ],
   "source": [
    "task = \"be sure to also count walk-off wins labeled as 'W-wo' in the 'W/L' column\"\n",
    "result = baseball_lambda.execute_workflow(task, session_id)\n",
    "print(result)"
   ]
  },
  {
   "cell_type": "code",
   "execution_count": 7,
   "id": "8c9e31b6",
   "metadata": {},
   "outputs": [
    {
     "name": "stdout",
     "output_type": "stream",
     "text": [
      "{'Orchestrate': {'next': 'Execute'}}\n",
      "----\n"
     ]
    },
    {
     "name": "stderr",
     "output_type": "stream",
     "text": [
      "Python REPL can execute arbitrary code. Use with caution.\n"
     ]
    },
    {
     "name": "stdout",
     "output_type": "stream",
     "text": [
      "{'agent': {'messages': [AIMessage(content='', additional_kwargs={'function_call': {'arguments': '{\\n  \"__arg1\": \"from pybaseball import schedule_and_record\"\\n}', 'name': 'Python_REPL'}})]}}\n",
      "----\n",
      "{'action': {'messages': [FunctionMessage(content='', name='Python_REPL')]}}\n",
      "----\n",
      "{'agent': {'messages': [AIMessage(content='', additional_kwargs={'function_call': {'arguments': '{\\n  \"__arg1\": \"rays_schedule_2022 = schedule_and_record(2022, \\'TBR\\')\"\\n}', 'name': 'Python_REPL'}})]}}\n",
      "----\n",
      "{'action': {'messages': [FunctionMessage(content='http://www.baseball-reference.com/teams/TBR/2022-schedule-scores.shtml\\n', name='Python_REPL')]}}\n",
      "----\n",
      "{'agent': {'messages': [AIMessage(content='', additional_kwargs={'function_call': {'arguments': '{\\n  \"__arg1\": \"rays_wins_2022 = rays_schedule_2022[rays_schedule_2022[\\'W/L\\'].isin([\\'W\\', \\'W-wo\\'])]\"\\n}', 'name': 'Python_REPL'}})]}}\n",
      "----\n",
      "{'action': {'messages': [FunctionMessage(content='', name='Python_REPL')]}}\n",
      "----\n",
      "{'agent': {'messages': [AIMessage(content='', additional_kwargs={'function_call': {'arguments': '{\\n  \"__arg1\": \"number_of_wins = len(rays_wins_2022)\"\\n}', 'name': 'Python_REPL'}})]}}\n",
      "----\n",
      "{'action': {'messages': [FunctionMessage(content='', name='Python_REPL')]}}\n",
      "----\n",
      "{'agent': {'messages': [AIMessage(content='', additional_kwargs={'function_call': {'arguments': '{\\n  \"__arg1\": \"print(number_of_wins)\"\\n}', 'name': 'Python_REPL'}})]}}\n",
      "----\n",
      "{'action': {'messages': [FunctionMessage(content='86\\n', name='Python_REPL')]}}\n",
      "----\n",
      "{'agent': {'messages': [AIMessage(content='', additional_kwargs={'function_call': {'arguments': '{\\n  \"answer\": \"The Rays won 86 games in 2022.\",\\n  \"python_code\": \"from pybaseball import schedule_and_record\\\\nrays_schedule_2022 = schedule_and_record(2022, \\'TBR\\')\\\\nrays_wins_2022 = rays_schedule_2022[rays_schedule_2022[\\'W/L\\'].isin([\\'W\\', \\'W-wo\\'])]\\\\nnumber_of_wins = len(rays_wins_2022)\\\\nprint(number_of_wins)\",\\n  \"modifications\": \"none\",\\n  \"plan\": \"1. Use the `schedule_and_record` function from the pybaseball library to retrieve the game-level results for the Tampa Bay Rays for the 2022 season. To do this, you will need to pass in two specific attributes to the function:\\\\n   - `season`: Set this to `2022` to specify the year you are interested in.\\\\n   - `team`: Use the abbreviation for the Tampa Bay Rays, which is `\\\\\"TBR\\\\\"`. This is crucial as using the wrong abbreviation or a full team name will result in an unsuccessful query.\\\\n\\\\n2. Once you have the data, focus on the \\\\\"W/L\\\\\" column of the returned dataframe. This column indicates whether the Rays won or lost each game. \\\\n\\\\n3. To count the number of games won by the Rays in 2022, you will need to filter the dataframe for rows where the \\\\\"W/L\\\\\" column has a value of \\\\\"W\\\\\" or \\\\\"W-wo\\\\\". \\\\\"W\\\\\" stands for a regular win, while \\\\\"W-wo\\\\\" stands for a walk-off win.\\\\n\\\\n4. After filtering, count the number of rows in the filtered dataframe. This count will give you the total number of games won by the Rays in 2022, including both regular wins and walk-off wins.\\\\n\\\\n5. There is no need to manually check each game\\'s result. The filtering and counting steps will automatically calculate the total wins for you, considering both regular wins and walk-off wins.\\\\n\\\\nBy following these steps, you will be able to accurately determine how many games the Tampa Bay Rays won in the 2022 season, including walk-off wins, without manually going through each game\\'s result. This method is efficient and leverages the capabilities of the pybaseball library to handle baseball data effectively.\"\\n}', 'name': 'ExecutorResponse'}})]}}\n",
      "----\n",
      "{'Execute': {'messages': [HumanMessage(content=\"The Rays won 86 games in 2022.\\n\\nHere is the Python code that was executed to solve this task:\\n\\n```\\nfrom pybaseball import schedule_and_record\\nrays_schedule_2022 = schedule_and_record(2022, 'TBR')\\nrays_wins_2022 = rays_schedule_2022[rays_schedule_2022['W/L'].isin(['W', 'W-wo'])]\\nnumber_of_wins = len(rays_wins_2022)\\nprint(number_of_wins)\\n```\\n\\nAre you satisfied with this result?\", additional_kwargs={'plan': '1. Use the `schedule_and_record` function from the pybaseball library to retrieve the game-level results for the Tampa Bay Rays for the 2022 season. To do this, you will need to pass in two specific attributes to the function:\\n   - `season`: Set this to `2022` to specify the year you are interested in.\\n   - `team`: Use the abbreviation for the Tampa Bay Rays, which is `\"TBR\"`. This is crucial as using the wrong abbreviation or a full team name will result in an unsuccessful query.\\n\\n2. Once you have the data, focus on the \"W/L\" column of the returned dataframe. This column indicates whether the Rays won or lost each game. \\n\\n3. To count the number of games won by the Rays in 2022, you will need to filter the dataframe for rows where the \"W/L\" column has a value of \"W\" or \"W-wo\". \"W\" stands for a regular win, while \"W-wo\" stands for a walk-off win.\\n\\n4. After filtering, count the number of rows in the filtered dataframe. This count will give you the total number of games won by the Rays in 2022, including both regular wins and walk-off wins.\\n\\n5. There is no need to manually check each game\\'s result. The filtering and counting steps will automatically calculate the total wins for you, considering both regular wins and walk-off wins.\\n\\nBy following these steps, you will be able to accurately determine how many games the Tampa Bay Rays won in the 2022 season, including walk-off wins, without manually going through each game\\'s result. This method is efficient and leverages the capabilities of the pybaseball library to handle baseball data effectively.'}, name='Executor')]}}\n",
      "----\n",
      "The Rays won 86 games in 2022.\n",
      "\n",
      "Here is the Python code that was executed to solve this task:\n",
      "\n",
      "```\n",
      "from pybaseball import schedule_and_record\n",
      "rays_schedule_2022 = schedule_and_record(2022, 'TBR')\n",
      "rays_wins_2022 = rays_schedule_2022[rays_schedule_2022['W/L'].isin(['W', 'W-wo'])]\n",
      "number_of_wins = len(rays_wins_2022)\n",
      "print(number_of_wins)\n",
      "```\n",
      "\n",
      "Are you satisfied with this result?\n"
     ]
    }
   ],
   "source": [
    "task = 'looks good'\n",
    "result = baseball_lambda.execute_workflow(task, session_id)\n",
    "print(result)"
   ]
  },
  {
   "cell_type": "code",
   "execution_count": 8,
   "id": "907e823a",
   "metadata": {},
   "outputs": [
    {
     "name": "stdout",
     "output_type": "stream",
     "text": [
      "{'Orchestrate': {'next': 'Memorize'}}\n",
      "----\n",
      "{'Memorize': {'messages': [HumanMessage(content='Thank you, task has been written to memory', name='Memorizer')]}}\n",
      "----\n",
      "Thank you, task has been written to memory\n"
     ]
    }
   ],
   "source": [
    "task = 'yes'\n",
    "result = baseball_lambda.execute_workflow(task, session_id)\n",
    "print(result)"
   ]
  },
  {
   "cell_type": "code",
   "execution_count": null,
   "id": "2ffd397a",
   "metadata": {},
   "outputs": [],
   "source": []
  }
 ],
 "metadata": {
  "kernelspec": {
   "display_name": "venv",
   "language": "python",
   "name": "python3"
  },
  "language_info": {
   "codemirror_mode": {
    "name": "ipython",
    "version": 3
   },
   "file_extension": ".py",
   "mimetype": "text/x-python",
   "name": "python",
   "nbconvert_exporter": "python",
   "pygments_lexer": "ipython3",
   "version": "3.10.8"
  }
 },
 "nbformat": 4,
 "nbformat_minor": 5
}
