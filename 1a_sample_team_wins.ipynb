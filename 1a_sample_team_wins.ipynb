{
 "cells": [
  {
   "cell_type": "code",
   "execution_count": 1,
   "id": "7c01b355-66d2-40e0-92a4-c4553a8d2edd",
   "metadata": {
    "tags": []
   },
   "outputs": [
    {
     "name": "stderr",
     "output_type": "stream",
     "text": [
      "/Users/rosclay/Documents/VSCode/langgraph-multi-agent/venv/lib/python3.10/site-packages/langchain_core/_api/beta_decorator.py:87: LangChainBetaWarning: The function `bind_tools` is in beta. It is actively being worked on, so the API may change.\n",
      "  warn_beta(\n",
      "Python REPL can execute arbitrary code. Use with caution.\n"
     ]
    }
   ],
   "source": [
    "# general\n",
    "from datetime import datetime\n",
    "from dotenv import load_dotenv, find_dotenv\n",
    "import os\n",
    "\n",
    "# custom local libs\n",
    "from function import baseball_lambda"
   ]
  },
  {
   "cell_type": "code",
   "execution_count": 2,
   "id": "7a2a54ab",
   "metadata": {
    "tags": []
   },
   "outputs": [],
   "source": [
    "# read local .env file\n",
    "_ = load_dotenv(find_dotenv())"
   ]
  },
  {
   "cell_type": "code",
   "execution_count": 3,
   "id": "12b6af87",
   "metadata": {
    "tags": []
   },
   "outputs": [],
   "source": [
    "# set Langsmith project\n",
    "today = datetime.now().strftime(\"%Y%m%d\")\n",
    "os.environ[\"LANGCHAIN_PROJECT\"] = f\"Baseball Wins - {today}\""
   ]
  },
  {
   "cell_type": "code",
   "execution_count": 4,
   "id": "6bf9b046",
   "metadata": {
    "tags": []
   },
   "outputs": [],
   "source": [
    "session_id = '7'"
   ]
  },
  {
   "cell_type": "code",
   "execution_count": 5,
   "id": "024b632a",
   "metadata": {
    "tags": []
   },
   "outputs": [
    {
     "name": "stdout",
     "output_type": "stream",
     "text": [
      "{'Orchestrate': {'next': 'Retrieve'}}\n",
      "----\n",
      "Distance to neareast plan: 0.5264779329299927\n",
      "{'Retrieve': {'next': 'Initialize', 'nearest_plan': '1. Import the schedule_and_record function from pybaseball:\\n\\n```python\\nfrom pybaseball import schedule_and_record\\n```\\n\\n2. Get the 2022 schedule and results for the Tampa Bay Rays:\\n\\n```python\\nrays_2022 = schedule_and_record(2022, \\'TB\\')\\n```\\n\\n3. Filter the dataframe to games where the Rays won (W/L == \\'W\\') or had a walk-off win (W/L == \\'W-wo\\'):\\n\\n```python\\nrays_wins = rays_2022[(rays_2022[\\'W/L\\'] == \\'W\\') | (rays_2022[\\'W/L\\'] == \\'W-wo\\')]\\n```\\n\\n4. Count the number of rows (games won) in the filtered dataframe:\\n\\n```python\\nnum_wins = len(rays_wins)\\nprint(f\"The Tampa Bay Rays won {num_wins} games in 2022.\")\\n```', 'nearest_task': 'How many games did the Rays win in 2022?', 'nearest_code': '# 1. Import the schedule_and_record function from pybaseball\\nfrom pybaseball import schedule_and_record\\n# 2. Get the 2022 schedule and results for the Tampa Bay Rays\\nrays_2022 = schedule_and_record(2022, \\'TB\\')\\n# 3. Filter the dataframe to games where the Rays won (W/L == \\'W\\') or had a walk-off win (W/L == \\'W-wo\\')\\nrays_wins = rays_2022[(rays_2022[\\'W/L\\'] == \\'W\\') | (rays_2022[\\'W/L\\'] == \\'W-wo\\')]\\n# 4. Count the number of rows (games won) in the filtered dataframe\\nnum_wins = len(rays_wins)\\nprint(f\"The Tampa Bay Rays won {num_wins} games in 2022.\")', 'task': 'How many home runs did Derek Jeter hit in 2010?', 'previous_node': 'Retrieve'}}\n",
      "----\n",
      "Formulating a new plan to solve the task.\n",
      "INITIAL CHAIN RESULT\n",
      "content=[{'text': \"<thinking>\\nTo find out how many home runs Derek Jeter hit in 2010, we can use the statcast_batter function from pybaseball. This will give us detailed pitch-level data for Jeter in the 2010 season.\\n\\nThe required parameters for statcast_batter are:\\n- start_dt: We can set this to '2010-01-01' to get data from the start of the 2010 season \\n- end_dt: We can set this to '2010-12-31' to get data through the end of the 2010 season\\n- player_id: We need to look up Derek Jeter's MLBAM player ID using the playerid_lookup function\\n\\nSo we have all the required parameters to make the statcast_batter call. We can then filter the results to only pitches that resulted in home runs, and count the number of rows to get Jeter's 2010 home run total.\\n</thinking>\", 'type': 'text'}, {'id': 'toolu_01Ar6hKWh1wv5QCufMsXBMTo', 'input': {'plan': '1. Import the statcast_batter and playerid_lookup functions from pybaseball:\\n\\n```python\\nfrom pybaseball import statcast_batter, playerid_lookup \\n```\\n\\n2. Look up Derek Jeter\\'s MLBAM player ID:\\n\\n```python\\njeter_id = playerid_lookup(\\'jeter\\', \\'derek\\')\\njeter_mlbam_id = jeter_id[\\'key_mlbam\\'][0]\\n```\\n\\n3. Get Derek Jeter\\'s statcast batting data for the 2010 season:\\n\\n```python\\njeter_2010_data = statcast_batter(\\'2010-01-01\\', \\'2010-12-31\\', player_id=jeter_mlbam_id)\\n```\\n\\n4. Filter to only pitches that resulted in home runs and count the number of rows:\\n\\n```python\\njeter_2010_hr = jeter_2010_data[jeter_2010_data[\\'events\\'] == \\'home_run\\']\\nhr_count = len(jeter_2010_hr)\\nprint(f\"Derek Jeter hit {hr_count} home runs in the 2010 season.\")\\n```', 'libraries': 'statcast_batter, playerid_lookup'}, 'name': 'InitialPlan', 'type': 'tool_use'}] response_metadata={'id': 'msg_01EsvgdZFUZrNLsAiz3xyndV', 'model': 'claude-3-opus-20240229', 'stop_reason': 'tool_use', 'stop_sequence': None, 'usage': {'input_tokens': 4314, 'output_tokens': 573}} id='run-ddfc0a61-2d21-4e5d-8827-7df7b29d0456-0'\n",
      "{'Initialize': {'plan': '1. Import the statcast_batter and playerid_lookup functions from pybaseball:\\n\\n```python\\nfrom pybaseball import statcast_batter, playerid_lookup \\n```\\n\\n2. Look up Derek Jeter\\'s MLBAM player ID:\\n\\n```python\\njeter_id = playerid_lookup(\\'jeter\\', \\'derek\\')\\njeter_mlbam_id = jeter_id[\\'key_mlbam\\'][0]\\n```\\n\\n3. Get Derek Jeter\\'s statcast batting data for the 2010 season:\\n\\n```python\\njeter_2010_data = statcast_batter(\\'2010-01-01\\', \\'2010-12-31\\', player_id=jeter_mlbam_id)\\n```\\n\\n4. Filter to only pitches that resulted in home runs and count the number of rows:\\n\\n```python\\njeter_2010_hr = jeter_2010_data[jeter_2010_data[\\'events\\'] == \\'home_run\\']\\nhr_count = len(jeter_2010_hr)\\nprint(f\"Derek Jeter hit {hr_count} home runs in the 2010 season.\")\\n```', 'previous_node': 'Initialize', 'pybaseball_libraries': 'statcast_batter, playerid_lookup'}}\n",
      "----\n",
      "Collecting documentation for statcast_batter, playerid_lookup\n",
      "Updating plan based function documentation\n",
      "{'Update': {'messages': [HumanMessage(content='How many home runs did Derek Jeter hit in 2010?', name='User'), AIMessage(content='1. Import the statcast_batter and playerid_lookup functions from pybaseball:\\n\\n```python\\nfrom pybaseball import statcast_batter, playerid_lookup \\n```\\n\\n2. Look up Derek Jeter\\'s MLBAM player ID using fuzzy matching:\\n\\n```python\\njeter_id = playerid_lookup(\\'jeter\\', \\'derek\\', fuzzy=True)  \\njeter_mlbam_id = jeter_id[\\'key_mlbam\\'][0]\\n```\\n\\n3. Get Derek Jeter\\'s statcast batting data for the 2010 season:\\n\\n```python\\njeter_2010_data = statcast_batter(\\'2010-01-01\\', \\'2010-12-31\\', player_id=jeter_mlbam_id)\\n```\\n\\n4. Filter to only pitches that resulted in home runs and count the number of rows:\\n\\n```python\\njeter_2010_hr = jeter_2010_data[jeter_2010_data[\\'events\\'] == \\'home_run\\'] \\nhr_count = len(jeter_2010_hr)\\nprint(f\"Derek Jeter hit {hr_count} home runs in the 2010 season.\")\\n```\\n\\nAre you satisfied with this plan?')], 'task': 'How many home runs did Derek Jeter hit in 2010?', 'plan': '1. Import the statcast_batter and playerid_lookup functions from pybaseball:\\n\\n```python\\nfrom pybaseball import statcast_batter, playerid_lookup \\n```\\n\\n2. Look up Derek Jeter\\'s MLBAM player ID using fuzzy matching:\\n\\n```python\\njeter_id = playerid_lookup(\\'jeter\\', \\'derek\\', fuzzy=True)  \\njeter_mlbam_id = jeter_id[\\'key_mlbam\\'][0]\\n```\\n\\n3. Get Derek Jeter\\'s statcast batting data for the 2010 season:\\n\\n```python\\njeter_2010_data = statcast_batter(\\'2010-01-01\\', \\'2010-12-31\\', player_id=jeter_mlbam_id)\\n```\\n\\n4. Filter to only pitches that resulted in home runs and count the number of rows:\\n\\n```python\\njeter_2010_hr = jeter_2010_data[jeter_2010_data[\\'events\\'] == \\'home_run\\'] \\nhr_count = len(jeter_2010_hr)\\nprint(f\"Derek Jeter hit {hr_count} home runs in the 2010 season.\")\\n```\\n\\nAre you satisfied with this plan?', 'previous_node': 'Update'}}\n",
      "----\n",
      "1. Import the statcast_batter and playerid_lookup functions from pybaseball:\n",
      "\n",
      "```python\n",
      "from pybaseball import statcast_batter, playerid_lookup \n",
      "```\n",
      "\n",
      "2. Look up Derek Jeter's MLBAM player ID using fuzzy matching:\n",
      "\n",
      "```python\n",
      "jeter_id = playerid_lookup('jeter', 'derek', fuzzy=True)  \n",
      "jeter_mlbam_id = jeter_id['key_mlbam'][0]\n",
      "```\n",
      "\n",
      "3. Get Derek Jeter's statcast batting data for the 2010 season:\n",
      "\n",
      "```python\n",
      "jeter_2010_data = statcast_batter('2010-01-01', '2010-12-31', player_id=jeter_mlbam_id)\n",
      "```\n",
      "\n",
      "4. Filter to only pitches that resulted in home runs and count the number of rows:\n",
      "\n",
      "```python\n",
      "jeter_2010_hr = jeter_2010_data[jeter_2010_data['events'] == 'home_run'] \n",
      "hr_count = len(jeter_2010_hr)\n",
      "print(f\"Derek Jeter hit {hr_count} home runs in the 2010 season.\")\n",
      "```\n",
      "\n",
      "Are you satisfied with this plan?\n"
     ]
    }
   ],
   "source": [
    "task = 'How many home runs did Derek Jeter hit in 2010?' \n",
    "result = baseball_lambda.execute_workflow(task, session_id)\n",
    "print(result)"
   ]
  },
  {
   "cell_type": "code",
   "execution_count": 6,
   "id": "0f1729ff",
   "metadata": {},
   "outputs": [
    {
     "name": "stdout",
     "output_type": "stream",
     "text": [
      "{'Orchestrate': {'next': 'Revise'}}\n",
      "----\n",
      "{'Revise': {'messages': [HumanMessage(content='How many home runs did Derek Jeter hit in 2010?', name='User'), AIMessage(content='1. Import the statcast_batter and playerid_lookup functions from pybaseball:\\n\\n```python\\nfrom pybaseball import statcast_batter, playerid_lookup \\n```\\n\\n2. Look up Derek Jeter\\'s MLBAM player ID using fuzzy matching:\\n\\n```python\\njeter_id = playerid_lookup(\\'jeter\\', \\'derek\\', fuzzy=True)  \\njeter_mlbam_id = jeter_id[\\'key_mlbam\\'][0]\\n```\\n\\n3. Get Derek Jeter\\'s statcast batting data for the 2010 season:\\n\\n```python\\njeter_2010_data = statcast_batter(\\'2010-01-01\\', \\'2010-12-31\\', player_id=jeter_mlbam_id)\\n```\\n\\n4. Filter to only pitches that resulted in home runs and count the number of rows:\\n\\n```python\\njeter_2010_hr = jeter_2010_data[jeter_2010_data[\\'events\\'] == \\'home_run\\'] \\nhr_count = len(jeter_2010_hr)\\nprint(f\"Derek Jeter hit {hr_count} home runs in the 2010 season.\")\\n```\\n\\nAre you satisfied with this plan?'), HumanMessage(content='use the 2008 season instead.  Use the RevisedPlan to to describe the plan.', name='User'), AIMessage(content='1. Import the statcast_batter and playerid_lookup functions from pybaseball:\\n\\n```python\\nfrom pybaseball import statcast_batter, playerid_lookup \\n```\\n\\n2. Look up Derek Jeter\\'s MLBAM player ID using fuzzy matching:\\n\\n```python\\njeter_id = playerid_lookup(\\'jeter\\', \\'derek\\', fuzzy=True)  \\njeter_mlbam_id = jeter_id[\\'key_mlbam\\'][0]\\n```\\n\\n3. Get Derek Jeter\\'s statcast batting data for the 2008 season:\\n\\n```python\\njeter_2008_data = statcast_batter(\\'2008-01-01\\', \\'2008-12-31\\', player_id=jeter_mlbam_id)\\n```\\n\\n4. Filter to only pitches that resulted in home runs and count the number of rows:\\n\\n```python\\njeter_2008_hr = jeter_2008_data[jeter_2008_data[\\'events\\'] == \\'home_run\\'] \\nhr_count = len(jeter_2008_hr)\\nprint(f\"Derek Jeter hit {hr_count} home runs in the 2008 season.\")\\n```\\n\\nAre you satisfied with this plan?')], 'plan': '1. Import the statcast_batter and playerid_lookup functions from pybaseball:\\n\\n```python\\nfrom pybaseball import statcast_batter, playerid_lookup \\n```\\n\\n2. Look up Derek Jeter\\'s MLBAM player ID using fuzzy matching:\\n\\n```python\\njeter_id = playerid_lookup(\\'jeter\\', \\'derek\\', fuzzy=True)  \\njeter_mlbam_id = jeter_id[\\'key_mlbam\\'][0]\\n```\\n\\n3. Get Derek Jeter\\'s statcast batting data for the 2008 season:\\n\\n```python\\njeter_2008_data = statcast_batter(\\'2008-01-01\\', \\'2008-12-31\\', player_id=jeter_mlbam_id)\\n```\\n\\n4. Filter to only pitches that resulted in home runs and count the number of rows:\\n\\n```python\\njeter_2008_hr = jeter_2008_data[jeter_2008_data[\\'events\\'] == \\'home_run\\'] \\nhr_count = len(jeter_2008_hr)\\nprint(f\"Derek Jeter hit {hr_count} home runs in the 2008 season.\")\\n```\\n\\nAre you satisfied with this plan?', 'task': 'How many home runs did Derek Jeter hit in 2008?', 'previous_node': 'Revise'}}\n",
      "----\n",
      "1. Import the statcast_batter and playerid_lookup functions from pybaseball:\n",
      "\n",
      "```python\n",
      "from pybaseball import statcast_batter, playerid_lookup \n",
      "```\n",
      "\n",
      "2. Look up Derek Jeter's MLBAM player ID using fuzzy matching:\n",
      "\n",
      "```python\n",
      "jeter_id = playerid_lookup('jeter', 'derek', fuzzy=True)  \n",
      "jeter_mlbam_id = jeter_id['key_mlbam'][0]\n",
      "```\n",
      "\n",
      "3. Get Derek Jeter's statcast batting data for the 2008 season:\n",
      "\n",
      "```python\n",
      "jeter_2008_data = statcast_batter('2008-01-01', '2008-12-31', player_id=jeter_mlbam_id)\n",
      "```\n",
      "\n",
      "4. Filter to only pitches that resulted in home runs and count the number of rows:\n",
      "\n",
      "```python\n",
      "jeter_2008_hr = jeter_2008_data[jeter_2008_data['events'] == 'home_run'] \n",
      "hr_count = len(jeter_2008_hr)\n",
      "print(f\"Derek Jeter hit {hr_count} home runs in the 2008 season.\")\n",
      "```\n",
      "\n",
      "Are you satisfied with this plan?\n"
     ]
    }
   ],
   "source": [
    "task = \"use the 2008 season instead\"\n",
    "result = baseball_lambda.execute_workflow(task, session_id)\n",
    "print(result)"
   ]
  },
  {
   "cell_type": "code",
   "execution_count": 7,
   "id": "8c9e31b6",
   "metadata": {
    "tags": []
   },
   "outputs": [
    {
     "name": "stdout",
     "output_type": "stream",
     "text": [
      "{'Orchestrate': {'next': 'Execute'}}\n",
      "----\n",
      "Executing: from pybaseball import statcast_batter, playerid_lookup\n",
      "Executing: jeter_id = playerid_lookup('jeter', 'derek', fuzzy=True)  \n",
      "jeter_mlbam_id = jeter_id['key_mlbam'][0]\n",
      "Result: Gathering player lookup table. This may take a moment.\n",
      "\n",
      "Executing: jeter_2008_data = statcast_batter('2008-01-01', '2008-12-31', player_id=jeter_mlbam_id)\n",
      "Result: Gathering Player Data\n",
      "\n",
      "Executing: # Filter to only pitches that resulted in home runs\n",
      "jeter_2008_hr = jeter_2008_data[jeter_2008_data['events'] == 'home_run']\n",
      "\n",
      "# Count the number of home runs \n",
      "hr_count = len(jeter_2008_hr)\n",
      "\n",
      "# Print the result\n",
      "print(f\"Derek Jeter hit {hr_count} home runs in the 2008 season.\")\n",
      "Result: Derek Jeter hit 12 home runs in the 2008 season.\n",
      "\n",
      "{'Execute': {'messages': [AIMessage(content='According to the analysis, Derek Jeter hit 12 home runs in the 2008 MLB season.\\nHere is the code that was used to reach this solution:\\n\\n```python\\n\\nfrom pybaseball import statcast_batter, playerid_lookup\\njeter_id = playerid_lookup(\\'jeter\\', \\'derek\\', fuzzy=True)  \\njeter_mlbam_id = jeter_id[\\'key_mlbam\\'][0]\\njeter_2008_data = statcast_batter(\\'2008-01-01\\', \\'2008-12-31\\', player_id=jeter_mlbam_id)\\n# Filter to only pitches that resulted in home runs\\njeter_2008_hr = jeter_2008_data[jeter_2008_data[\\'events\\'] == \\'home_run\\']\\n\\n# Count the number of home runs \\nhr_count = len(jeter_2008_hr)\\n\\n# Print the result\\nprint(f\"Derek Jeter hit {hr_count} home runs in the 2008 season.\")\\n```\\n\\nAre you satisfied with this result?')], 'previous_node': 'Execute', 'code': 'from pybaseball import statcast_batter, playerid_lookup\\njeter_id = playerid_lookup(\\'jeter\\', \\'derek\\', fuzzy=True)  \\njeter_mlbam_id = jeter_id[\\'key_mlbam\\'][0]\\njeter_2008_data = statcast_batter(\\'2008-01-01\\', \\'2008-12-31\\', player_id=jeter_mlbam_id)\\n# Filter to only pitches that resulted in home runs\\njeter_2008_hr = jeter_2008_data[jeter_2008_data[\\'events\\'] == \\'home_run\\']\\n\\n# Count the number of home runs \\nhr_count = len(jeter_2008_hr)\\n\\n# Print the result\\nprint(f\"Derek Jeter hit {hr_count} home runs in the 2008 season.\")', 'plan': 'Here is the updated plan with the code used:\\n\\n1. Import the statcast_batter and playerid_lookup functions from pybaseball:\\n\\n```python\\nfrom pybaseball import statcast_batter, playerid_lookup\\n```\\n\\n2. Look up Derek Jeter\\'s MLBAM player ID using fuzzy matching:\\n\\n```python \\njeter_id = playerid_lookup(\\'jeter\\', \\'derek\\', fuzzy=True)\\njeter_mlbam_id = jeter_id[\\'key_mlbam\\'][0]  \\n```\\n\\n3. Get Derek Jeter\\'s statcast batting data for the 2008 season:\\n\\n```python\\njeter_2008_data = statcast_batter(\\'2008-01-01\\', \\'2008-12-31\\', player_id=jeter_mlbam_id)\\n```\\n\\n4. Filter to only pitches that resulted in home runs and count the number of rows:\\n\\n```python\\n# Filter to only pitches that resulted in home runs\\njeter_2008_hr = jeter_2008_data[jeter_2008_data[\\'events\\'] == \\'home_run\\']\\n\\n# Count the number of home runs\\nhr_count = len(jeter_2008_hr) \\n\\n# Print the result\\nprint(f\"Derek Jeter hit {hr_count} home runs in the 2008 season.\")\\n```'}}\n",
      "----\n",
      "According to the analysis, Derek Jeter hit 12 home runs in the 2008 MLB season.\n",
      "Here is the code that was used to reach this solution:\n",
      "\n",
      "```python\n",
      "\n",
      "from pybaseball import statcast_batter, playerid_lookup\n",
      "jeter_id = playerid_lookup('jeter', 'derek', fuzzy=True)  \n",
      "jeter_mlbam_id = jeter_id['key_mlbam'][0]\n",
      "jeter_2008_data = statcast_batter('2008-01-01', '2008-12-31', player_id=jeter_mlbam_id)\n",
      "# Filter to only pitches that resulted in home runs\n",
      "jeter_2008_hr = jeter_2008_data[jeter_2008_data['events'] == 'home_run']\n",
      "\n",
      "# Count the number of home runs \n",
      "hr_count = len(jeter_2008_hr)\n",
      "\n",
      "# Print the result\n",
      "print(f\"Derek Jeter hit {hr_count} home runs in the 2008 season.\")\n",
      "```\n",
      "\n",
      "Are you satisfied with this result?\n"
     ]
    }
   ],
   "source": [
    "task = 'looks good'\n",
    "result = baseball_lambda.execute_workflow(task, session_id)\n",
    "print(result)"
   ]
  },
  {
   "cell_type": "code",
   "execution_count": 8,
   "id": "6c1ea32a",
   "metadata": {
    "tags": []
   },
   "outputs": [
    {
     "name": "stdout",
     "output_type": "stream",
     "text": [
      "{'Orchestrate': {'next': 'Memorize'}}\n",
      "----\n",
      "{'Memorize': {'messages': [AIMessage(content='Thank you, task has been commited to memory')], 'previous_node': 'Memorize'}}\n",
      "----\n",
      "Thank you, task has been commited to memory\n"
     ]
    }
   ],
   "source": [
    "task = 'yes'\n",
    "result = baseball_lambda.execute_workflow(task, session_id)\n",
    "print(result)"
   ]
  },
  {
   "cell_type": "code",
   "execution_count": null,
   "id": "9decb2a6",
   "metadata": {},
   "outputs": [],
   "source": []
  },
  {
   "cell_type": "code",
   "execution_count": null,
   "id": "c2ee63ae",
   "metadata": {},
   "outputs": [],
   "source": []
  },
  {
   "cell_type": "code",
   "execution_count": null,
   "id": "7e6f0138",
   "metadata": {},
   "outputs": [],
   "source": [
    "# core libraries=\n",
    "import json\n",
    "\n",
    "# langchain libraries\n",
    "from langchain_anthropic import ChatAnthropic\n",
    "#from langchain_community.chat_models import BedrockChat\n",
    "from langchain_core.prompts import ChatPromptTemplate\n",
    "from langchain_core.pydantic_v1 import BaseModel, Field\n",
    "\n",
    "with open('state/functions.json', 'r') as file:\n",
    "    library_dict = json.load(file)"
   ]
  },
  {
   "cell_type": "code",
   "execution_count": null,
   "id": "59f6c686",
   "metadata": {},
   "outputs": [],
   "source": [
    "', '.join(library_dict.keys())"
   ]
  },
  {
   "cell_type": "code",
   "execution_count": null,
   "id": "da078585",
   "metadata": {},
   "outputs": [],
   "source": []
  }
 ],
 "metadata": {
  "kernelspec": {
   "display_name": "venv",
   "language": "python",
   "name": "python3"
  },
  "language_info": {
   "codemirror_mode": {
    "name": "ipython",
    "version": 3
   },
   "file_extension": ".py",
   "mimetype": "text/x-python",
   "name": "python",
   "nbconvert_exporter": "python",
   "pygments_lexer": "ipython3",
   "version": "3.10.8"
  }
 },
 "nbformat": 4,
 "nbformat_minor": 5
}
