{
 "cells": [
  {
   "cell_type": "code",
   "execution_count": 1,
   "id": "7c01b355-66d2-40e0-92a4-c4553a8d2edd",
   "metadata": {
    "tags": []
   },
   "outputs": [
    {
     "name": "stderr",
     "output_type": "stream",
     "text": [
      "/Users/rosclay/Documents/VSCode/langgraph-multi-agent/venv/lib/python3.10/site-packages/langchain_core/_api/beta_decorator.py:87: LangChainBetaWarning: The function `bind_tools` is in beta. It is actively being worked on, so the API may change.\n",
      "  warn_beta(\n",
      "Python REPL can execute arbitrary code. Use with caution.\n"
     ]
    }
   ],
   "source": [
    "# general\n",
    "from datetime import datetime\n",
    "from dotenv import load_dotenv, find_dotenv\n",
    "import os\n",
    "\n",
    "# custom local libs\n",
    "from function import baseball_lambda"
   ]
  },
  {
   "cell_type": "code",
   "execution_count": 2,
   "id": "7a2a54ab",
   "metadata": {
    "tags": []
   },
   "outputs": [],
   "source": [
    "# read local .env file\n",
    "_ = load_dotenv(find_dotenv())"
   ]
  },
  {
   "cell_type": "code",
   "execution_count": 3,
   "id": "12b6af87",
   "metadata": {
    "tags": []
   },
   "outputs": [],
   "source": [
    "# set Langsmith project\n",
    "today = datetime.now().strftime(\"%Y%m%d\")\n",
    "os.environ[\"LANGCHAIN_PROJECT\"] = f\"Baseball Wins - {today}\""
   ]
  },
  {
   "cell_type": "code",
   "execution_count": 4,
   "id": "6bf9b046",
   "metadata": {
    "tags": []
   },
   "outputs": [],
   "source": [
    "session_id = '1'"
   ]
  },
  {
   "cell_type": "code",
   "execution_count": 5,
   "id": "024b632a",
   "metadata": {
    "tags": []
   },
   "outputs": [
    {
     "name": "stdout",
     "output_type": "stream",
     "text": [
      "{'Orchestrate': {'next': 'Plan'}}\n",
      "----\n",
      "Distance to neareast plan: 0.9124496579170227\n",
      "Formulating a new plan based on User input\n",
      "Collecting documentation for schedule_and_record\n",
      "Updating plan based function documentation\n",
      "{'Plan': {'messages': [HumanMessage(content='How many games did the Rays win in 2019?', name='User'), AIMessage(content=\"Step 1: Import the pybaseball library and the schedule_and_record function.\\n\\nimport pybaseball\\nfrom pybaseball import schedule_and_record  \\n\\nStep 2: Call the schedule_and_record function to get the 2019 Rays game results.\\n\\nrays_2019 = schedule_and_record(2019, 'TB')\\n\\nStep 3: Filter the dataframe to only include games where the Rays won. \\n\\nrays_wins = rays_2019[rays_2019['W/L'] == 'W']\\n\\nStep 4: Count the number of rows in the filtered dataframe to get the total wins.\\n\\ntotal_wins = len(rays_wins)\\n\\nStep 5: Print out the total wins for the 2019 Rays season.\\n\\nprint(f'The Tampa Bay Rays won {total_wins} games in the 2019 season.')\\n\\nAre you satisfied with this plan?\")], 'task': 'How many games did the Rays win in 2019?', 'plan': \"Step 1: Import the pybaseball library and the schedule_and_record function.\\n\\nimport pybaseball\\nfrom pybaseball import schedule_and_record  \\n\\nStep 2: Call the schedule_and_record function to get the 2019 Rays game results.\\n\\nrays_2019 = schedule_and_record(2019, 'TB')\\n\\nStep 3: Filter the dataframe to only include games where the Rays won. \\n\\nrays_wins = rays_2019[rays_2019['W/L'] == 'W']\\n\\nStep 4: Count the number of rows in the filtered dataframe to get the total wins.\\n\\ntotal_wins = len(rays_wins)\\n\\nStep 5: Print out the total wins for the 2019 Rays season.\\n\\nprint(f'The Tampa Bay Rays won {total_wins} games in the 2019 season.')\\n\\nAre you satisfied with this plan?\", 'previous_node': 'Plan', 'function_detail': 'Text between the <schedule_and_record_documentation></schedule_and_record_documentation> tags is documentation for the schedule_and_record library.  Consult this section to confirm which attributes to pass into the schedule_and_record library.\\n<schedule_and_record_documentation>\\n# Schedule and Record\\n\\n`schedule_and_record(season, team)`\\n\\nThe schedule_and_record function returns a dataframe of a team\\'s game-level results for a given season, including win/loss/tie result, score, attendance, and winning/losing/saving pitcher. If the season is incomplete, it will provide scheduling information for future games. \\n\\n## Arguments\\n`season:` Integer. The season for which you want a team\\'s record data. \\n\\n`team:` String. The abbreviation of the team for which you are requesting data (e.g. \"PHI\", \"BOS\", \"LAD\"). \\n\\nNote that if a team did not exist during the year you are requesting data for, the query will be unsuccessful. Historical name and city changes for teams in older seasons can cause some problems as well. The Los Angeles Dodgers (\"LAD\"), for example, are abbreviated \"BRO\" in older seasons, due to their origins as the Brooklyn Dodgers. This may at times require some detective work in certain cases.   \\n\\n## Examples of valid queries\\n\\n```python\\nfrom pybaseball import schedule_and_record\\n\\n# Game-by-game results from the Yankees\\' 1927 season\\ndata = schedule_and_record(1927, \"NYY\")\\n\\n# Results and upcoming schedule for the Phillies\\' current season (2017 at the time of writing)\\ndata = schedule_and_record(2017, \"PHI\")\\n```\\n\\n</schedule_and_record_documentation>\\nText between the <schedule_and_record_dictionary></schedule_and_record_dictionary> tags is the data dictionary for the schedule_and_record library.  Consult this section to confirm which columns are present in the response from the schedule_and_record library.\\n<schedule_and_record_dictionary>\\nDate: date the game was played\\nTm: team\\nHome_Away: indicator of Home (Home) or Away (@) game\\nOpp: opponenet\\nW/L: Win or Loss indicator\\nR: runs scored\\nRA: runs allowed\\nInn: innings played\\nW-L: team\\'s win-loss record after the game end\\nRank: team\\'s ranking in the division\\nGB: how many games back (or up) the team is in the divion\\nWin: winning pitcher\\nLoss: losing pitcher\\nSave: saving pitcher\\nTime: game duration\\nD/N: day or night game indicator\\nAttendance: game attendance\\ncLI: Championship Leverage Index. This is a statistic that measures the importance of winning a game to a team\\'s chances of winning the World Series.\\nStreak: how many consecutive wins or losses for the team.  Consecutive wins are represented with positive values while consecutive losses are represented with negative values\\nOrig. Scheduled: date the game was originally scheduled (if applicable)\\n</schedule_and_record_dictionary>'}}\n",
      "----\n",
      "Step 1: Import the pybaseball library and the schedule_and_record function.\n",
      "\n",
      "import pybaseball\n",
      "from pybaseball import schedule_and_record  \n",
      "\n",
      "Step 2: Call the schedule_and_record function to get the 2019 Rays game results.\n",
      "\n",
      "rays_2019 = schedule_and_record(2019, 'TB')\n",
      "\n",
      "Step 3: Filter the dataframe to only include games where the Rays won. \n",
      "\n",
      "rays_wins = rays_2019[rays_2019['W/L'] == 'W']\n",
      "\n",
      "Step 4: Count the number of rows in the filtered dataframe to get the total wins.\n",
      "\n",
      "total_wins = len(rays_wins)\n",
      "\n",
      "Step 5: Print out the total wins for the 2019 Rays season.\n",
      "\n",
      "print(f'The Tampa Bay Rays won {total_wins} games in the 2019 season.')\n",
      "\n",
      "Are you satisfied with this plan?\n"
     ]
    }
   ],
   "source": [
    "task = 'How many games did the Rays win in 2019?' \n",
    "result = baseball_lambda.execute_workflow(task, session_id)\n",
    "print(result)"
   ]
  },
  {
   "cell_type": "code",
   "execution_count": 6,
   "id": "1332fc28",
   "metadata": {
    "tags": []
   },
   "outputs": [
    {
     "name": "stdout",
     "output_type": "stream",
     "text": [
      "{'Orchestrate': {'next': 'Revise'}}\n",
      "----\n",
      "{'Revise': {'messages': [HumanMessage(content='How many games did the Rays win in 2019?', name='User'), AIMessage(content=\"Step 1: Import the pybaseball library and the schedule_and_record function.\\n\\nimport pybaseball\\nfrom pybaseball import schedule_and_record  \\n\\nStep 2: Call the schedule_and_record function to get the 2019 Rays game results.\\n\\nrays_2019 = schedule_and_record(2019, 'TB')\\n\\nStep 3: Filter the dataframe to only include games where the Rays won. \\n\\nrays_wins = rays_2019[rays_2019['W/L'] == 'W']\\n\\nStep 4: Count the number of rows in the filtered dataframe to get the total wins.\\n\\ntotal_wins = len(rays_wins)\\n\\nStep 5: Print out the total wins for the 2019 Rays season.\\n\\nprint(f'The Tampa Bay Rays won {total_wins} games in the 2019 season.')\\n\\nAre you satisfied with this plan?\"), HumanMessage(content=\"be sure to also count walk-off wins labeled as 'W-wo' in the 'W/L' column\", name='User'), AIMessage(content=\"Step 1: Import the pybaseball library and the schedule_and_record function.\\n\\nimport pybaseball\\nfrom pybaseball import schedule_and_record  \\n\\nStep 2: Call the schedule_and_record function to get the 2019 Rays game results.\\n\\nrays_2019 = schedule_and_record(2019, 'TB')\\n\\nStep 3: Filter the dataframe to include games where the Rays won (W) or had a walk-off win (W-wo).\\n\\nrays_wins = rays_2019[rays_2019['W/L'].isin(['W', 'W-wo'])]\\n\\nStep 4: Count the number of rows in the filtered dataframe to get the total wins including walk-offs.\\n\\ntotal_wins = len(rays_wins)\\n\\nStep 5: Print out the total wins for the 2019 Rays season including walk-offs.\\n\\nprint(f'The Tampa Bay Rays won {total_wins} games in the 2019 season including walk-off wins.')\\n\\nAre you satisfied with this plan?\")], 'plan': \"Step 1: Import the pybaseball library and the schedule_and_record function.\\n\\nimport pybaseball\\nfrom pybaseball import schedule_and_record  \\n\\nStep 2: Call the schedule_and_record function to get the 2019 Rays game results.\\n\\nrays_2019 = schedule_and_record(2019, 'TB')\\n\\nStep 3: Filter the dataframe to include games where the Rays won (W) or had a walk-off win (W-wo).\\n\\nrays_wins = rays_2019[rays_2019['W/L'].isin(['W', 'W-wo'])]\\n\\nStep 4: Count the number of rows in the filtered dataframe to get the total wins including walk-offs.\\n\\ntotal_wins = len(rays_wins)\\n\\nStep 5: Print out the total wins for the 2019 Rays season including walk-offs.\\n\\nprint(f'The Tampa Bay Rays won {total_wins} games in the 2019 season including walk-off wins.')\\n\\nAre you satisfied with this plan?\", 'task': 'How many games did the Rays win in 2019?', 'previous_node': 'Revise'}}\n",
      "----\n",
      "Step 1: Import the pybaseball library and the schedule_and_record function.\n",
      "\n",
      "import pybaseball\n",
      "from pybaseball import schedule_and_record  \n",
      "\n",
      "Step 2: Call the schedule_and_record function to get the 2019 Rays game results.\n",
      "\n",
      "rays_2019 = schedule_and_record(2019, 'TB')\n",
      "\n",
      "Step 3: Filter the dataframe to include games where the Rays won (W) or had a walk-off win (W-wo).\n",
      "\n",
      "rays_wins = rays_2019[rays_2019['W/L'].isin(['W', 'W-wo'])]\n",
      "\n",
      "Step 4: Count the number of rows in the filtered dataframe to get the total wins including walk-offs.\n",
      "\n",
      "total_wins = len(rays_wins)\n",
      "\n",
      "Step 5: Print out the total wins for the 2019 Rays season including walk-offs.\n",
      "\n",
      "print(f'The Tampa Bay Rays won {total_wins} games in the 2019 season including walk-off wins.')\n",
      "\n",
      "Are you satisfied with this plan?\n"
     ]
    }
   ],
   "source": [
    "task = \"be sure to also count walk-off wins labeled as 'W-wo' in the 'W/L' column\"\n",
    "result = baseball_lambda.execute_workflow(task, session_id)\n",
    "print(result)"
   ]
  },
  {
   "cell_type": "code",
   "execution_count": 7,
   "id": "0f1729ff",
   "metadata": {},
   "outputs": [
    {
     "name": "stdout",
     "output_type": "stream",
     "text": [
      "{'Orchestrate': {'next': 'Revise'}}\n",
      "----\n",
      "{'Revise': {'messages': [HumanMessage(content='How many games did the Rays win in 2019?', name='User'), AIMessage(content=\"Step 1: Import the pybaseball library and the schedule_and_record function.\\n\\nimport pybaseball\\nfrom pybaseball import schedule_and_record  \\n\\nStep 2: Call the schedule_and_record function to get the 2019 Rays game results.\\n\\nrays_2019 = schedule_and_record(2019, 'TB')\\n\\nStep 3: Filter the dataframe to only include games where the Rays won. \\n\\nrays_wins = rays_2019[rays_2019['W/L'] == 'W']\\n\\nStep 4: Count the number of rows in the filtered dataframe to get the total wins.\\n\\ntotal_wins = len(rays_wins)\\n\\nStep 5: Print out the total wins for the 2019 Rays season.\\n\\nprint(f'The Tampa Bay Rays won {total_wins} games in the 2019 season.')\\n\\nAre you satisfied with this plan?\"), HumanMessage(content=\"be sure to also count walk-off wins labeled as 'W-wo' in the 'W/L' column\", name='User'), AIMessage(content=\"Step 1: Import the pybaseball library and the schedule_and_record function.\\n\\nimport pybaseball\\nfrom pybaseball import schedule_and_record  \\n\\nStep 2: Call the schedule_and_record function to get the 2019 Rays game results.\\n\\nrays_2019 = schedule_and_record(2019, 'TB')\\n\\nStep 3: Filter the dataframe to include games where the Rays won (W) or had a walk-off win (W-wo).\\n\\nrays_wins = rays_2019[rays_2019['W/L'].isin(['W', 'W-wo'])]\\n\\nStep 4: Count the number of rows in the filtered dataframe to get the total wins including walk-offs.\\n\\ntotal_wins = len(rays_wins)\\n\\nStep 5: Print out the total wins for the 2019 Rays season including walk-offs.\\n\\nprint(f'The Tampa Bay Rays won {total_wins} games in the 2019 season including walk-off wins.')\\n\\nAre you satisfied with this plan?\"), HumanMessage(content='use the 2010 season instead', name='User'), AIMessage(content=\"Step 1: Import the pybaseball library and the schedule_and_record function.\\n\\nimport pybaseball\\nfrom pybaseball import schedule_and_record  \\n\\nStep 2: Call the schedule_and_record function to get the 2010 Rays game results.\\n\\nrays_2010 = schedule_and_record(2010, 'TB')\\n\\nStep 3: Filter the dataframe to include games where the Rays won (W) or had a walk-off win (W-wo).  \\n\\nrays_wins = rays_2010[rays_2010['W/L'].isin(['W', 'W-wo'])]\\n\\nStep 4: Count the number of rows in the filtered dataframe to get the total wins including walk-offs.\\n\\ntotal_wins = len(rays_wins)  \\n\\nStep 5: Print out the total wins for the 2010 Rays season including walk-offs.\\n\\nprint(f'The Tampa Bay Rays won {total_wins} games in the 2010 season including walk-off wins.')\\n\\nAre you satisfied with this plan?\")], 'plan': \"Step 1: Import the pybaseball library and the schedule_and_record function.\\n\\nimport pybaseball\\nfrom pybaseball import schedule_and_record  \\n\\nStep 2: Call the schedule_and_record function to get the 2010 Rays game results.\\n\\nrays_2010 = schedule_and_record(2010, 'TB')\\n\\nStep 3: Filter the dataframe to include games where the Rays won (W) or had a walk-off win (W-wo).  \\n\\nrays_wins = rays_2010[rays_2010['W/L'].isin(['W', 'W-wo'])]\\n\\nStep 4: Count the number of rows in the filtered dataframe to get the total wins including walk-offs.\\n\\ntotal_wins = len(rays_wins)  \\n\\nStep 5: Print out the total wins for the 2010 Rays season including walk-offs.\\n\\nprint(f'The Tampa Bay Rays won {total_wins} games in the 2010 season including walk-off wins.')\\n\\nAre you satisfied with this plan?\", 'task': 'How many games did the Rays win in 2010?', 'previous_node': 'Revise'}}\n",
      "----\n",
      "Step 1: Import the pybaseball library and the schedule_and_record function.\n",
      "\n",
      "import pybaseball\n",
      "from pybaseball import schedule_and_record  \n",
      "\n",
      "Step 2: Call the schedule_and_record function to get the 2010 Rays game results.\n",
      "\n",
      "rays_2010 = schedule_and_record(2010, 'TB')\n",
      "\n",
      "Step 3: Filter the dataframe to include games where the Rays won (W) or had a walk-off win (W-wo).  \n",
      "\n",
      "rays_wins = rays_2010[rays_2010['W/L'].isin(['W', 'W-wo'])]\n",
      "\n",
      "Step 4: Count the number of rows in the filtered dataframe to get the total wins including walk-offs.\n",
      "\n",
      "total_wins = len(rays_wins)  \n",
      "\n",
      "Step 5: Print out the total wins for the 2010 Rays season including walk-offs.\n",
      "\n",
      "print(f'The Tampa Bay Rays won {total_wins} games in the 2010 season including walk-off wins.')\n",
      "\n",
      "Are you satisfied with this plan?\n"
     ]
    }
   ],
   "source": [
    "task = \"use the 2010 season instead\"\n",
    "result = baseball_lambda.execute_workflow(task, session_id)\n",
    "print(result)"
   ]
  },
  {
   "cell_type": "code",
   "execution_count": 8,
   "id": "8c9e31b6",
   "metadata": {
    "tags": []
   },
   "outputs": [
    {
     "name": "stdout",
     "output_type": "stream",
     "text": [
      "{'Orchestrate': {'next': 'Execute'}}\n",
      "----\n",
      "Executing: # Step 1: Import the pybaseball library and the schedule_and_record function\n",
      "import pybaseball\n",
      "from pybaseball import schedule_and_record\n",
      "\n",
      "# Step 2: Call the schedule_and_record function to get the 2010 Rays game results\n",
      "rays_2010 = schedule_and_record(2010, 'TB')\n",
      "Result: http://www.baseball-reference.com/teams/TB/2010-schedule-scores.shtml\n",
      "\n",
      "Executing: # Step 3: Filter the dataframe to include games where the Rays won (W) or had a walk-off win (W-wo)\n",
      "rays_wins = rays_2010[rays_2010['W/L'].isin(['W', 'W-wo'])]\n",
      "Executing: # Step 4: Count the number of rows in the filtered dataframe to get the total wins including walk-offs\n",
      "total_wins = len(rays_wins)\n",
      "Executing: # Step 5: Print out the total wins for the 2010 Rays season including walk-offs\n",
      "print(f'The Tampa Bay Rays won {total_wins} games in the 2010 season including walk-off wins.')\n",
      "Result: The Tampa Bay Rays won 96 games in the 2010 season including walk-off wins.\n",
      "\n",
      "{'Execute': {'messages': [AIMessage(content=\"The Tampa Bay Rays won 96 games in the 2010 season including walk-off wins.\\nHere is the code that was used to reach this solution:\\n\\n```python\\n\\n# Step 1: Import the pybaseball library and the schedule_and_record function\\nimport pybaseball\\nfrom pybaseball import schedule_and_record\\n\\n# Step 2: Call the schedule_and_record function to get the 2010 Rays game results\\nrays_2010 = schedule_and_record(2010, 'TB')\\n# Step 3: Filter the dataframe to include games where the Rays won (W) or had a walk-off win (W-wo)\\nrays_wins = rays_2010[rays_2010['W/L'].isin(['W', 'W-wo'])]\\n# Step 4: Count the number of rows in the filtered dataframe to get the total wins including walk-offs\\ntotal_wins = len(rays_wins)\\n# Step 5: Print out the total wins for the 2010 Rays season including walk-offs\\nprint(f'The Tampa Bay Rays won {total_wins} games in the 2010 season including walk-off wins.')\\n```\\n\\nAre you satisfied with this result?\")], 'previous_node': 'Execute', 'code': \"# Step 1: Import the pybaseball library and the schedule_and_record function\\nimport pybaseball\\nfrom pybaseball import schedule_and_record\\n\\n# Step 2: Call the schedule_and_record function to get the 2010 Rays game results\\nrays_2010 = schedule_and_record(2010, 'TB')\\n# Step 3: Filter the dataframe to include games where the Rays won (W) or had a walk-off win (W-wo)\\nrays_wins = rays_2010[rays_2010['W/L'].isin(['W', 'W-wo'])]\\n# Step 4: Count the number of rows in the filtered dataframe to get the total wins including walk-offs\\ntotal_wins = len(rays_wins)\\n# Step 5: Print out the total wins for the 2010 Rays season including walk-offs\\nprint(f'The Tampa Bay Rays won {total_wins} games in the 2010 season including walk-off wins.')\", 'plan': \"Step 1: Import the pybaseball library and the schedule_and_record function.\\n\\nimport pybaseball\\nfrom pybaseball import schedule_and_record  \\n\\nStep 2: Call the schedule_and_record function to get the 2010 Rays game results.\\n\\nrays_2010 = schedule_and_record(2010, 'TB')\\n\\nStep 3: Filter the dataframe to include games where the Rays won (W) or had a walk-off win (W-wo).  \\n\\nrays_wins = rays_2010[rays_2010['W/L'].isin(['W', 'W-wo'])]\\n\\nStep 4: Count the number of rows in the filtered dataframe to get the total wins including walk-offs.\\n\\ntotal_wins = len(rays_wins)  \\n\\nStep 5: Print out the total wins for the 2010 Rays season including walk-offs.\\n\\nprint(f'The Tampa Bay Rays won {total_wins} games in the 2010 season including walk-off wins.')\"}}\n",
      "----\n",
      "The Tampa Bay Rays won 96 games in the 2010 season including walk-off wins.\n",
      "Here is the code that was used to reach this solution:\n",
      "\n",
      "```python\n",
      "\n",
      "# Step 1: Import the pybaseball library and the schedule_and_record function\n",
      "import pybaseball\n",
      "from pybaseball import schedule_and_record\n",
      "\n",
      "# Step 2: Call the schedule_and_record function to get the 2010 Rays game results\n",
      "rays_2010 = schedule_and_record(2010, 'TB')\n",
      "# Step 3: Filter the dataframe to include games where the Rays won (W) or had a walk-off win (W-wo)\n",
      "rays_wins = rays_2010[rays_2010['W/L'].isin(['W', 'W-wo'])]\n",
      "# Step 4: Count the number of rows in the filtered dataframe to get the total wins including walk-offs\n",
      "total_wins = len(rays_wins)\n",
      "# Step 5: Print out the total wins for the 2010 Rays season including walk-offs\n",
      "print(f'The Tampa Bay Rays won {total_wins} games in the 2010 season including walk-off wins.')\n",
      "```\n",
      "\n",
      "Are you satisfied with this result?\n"
     ]
    }
   ],
   "source": [
    "task = 'looks good'\n",
    "result = baseball_lambda.execute_workflow(task, session_id)\n",
    "print(result)"
   ]
  },
  {
   "cell_type": "code",
   "execution_count": 9,
   "id": "6c1ea32a",
   "metadata": {
    "tags": []
   },
   "outputs": [
    {
     "name": "stdout",
     "output_type": "stream",
     "text": [
      "{'Orchestrate': {'next': 'Memorize'}}\n",
      "----\n",
      "{'Memorize': {'messages': [AIMessage(content='Thank you, task has been commited to memory')], 'previous_node': 'Memorize'}}\n",
      "----\n",
      "Thank you, task has been commited to memory\n"
     ]
    }
   ],
   "source": [
    "task = 'yes'\n",
    "result = baseball_lambda.execute_workflow(task, session_id)\n",
    "print(result)"
   ]
  },
  {
   "cell_type": "code",
   "execution_count": null,
   "id": "9decb2a6",
   "metadata": {},
   "outputs": [],
   "source": []
  },
  {
   "cell_type": "code",
   "execution_count": null,
   "id": "2f586f1a",
   "metadata": {},
   "outputs": [],
   "source": []
  },
  {
   "cell_type": "code",
   "execution_count": null,
   "id": "d443cdf6",
   "metadata": {},
   "outputs": [],
   "source": []
  }
 ],
 "metadata": {
  "kernelspec": {
   "display_name": "venv",
   "language": "python",
   "name": "python3"
  },
  "language_info": {
   "codemirror_mode": {
    "name": "ipython",
    "version": 3
   },
   "file_extension": ".py",
   "mimetype": "text/x-python",
   "name": "python",
   "nbconvert_exporter": "python",
   "pygments_lexer": "ipython3",
   "version": "3.10.8"
  }
 },
 "nbformat": 4,
 "nbformat_minor": 5
}
