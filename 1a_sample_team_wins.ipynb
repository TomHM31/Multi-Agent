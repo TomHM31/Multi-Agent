{
 "cells": [
  {
   "cell_type": "code",
   "execution_count": 1,
   "id": "7c01b355-66d2-40e0-92a4-c4553a8d2edd",
   "metadata": {
    "tags": []
   },
   "outputs": [
    {
     "name": "stderr",
     "output_type": "stream",
     "text": [
      "Python REPL can execute arbitrary code. Use with caution.\n"
     ]
    }
   ],
   "source": [
    "# general\n",
    "from datetime import datetime\n",
    "from dotenv import load_dotenv, find_dotenv\n",
    "import os\n",
    "\n",
    "# custom local libs\n",
    "from function import baseball_lambda"
   ]
  },
  {
   "cell_type": "code",
   "execution_count": 2,
   "id": "7a2a54ab",
   "metadata": {
    "tags": []
   },
   "outputs": [],
   "source": [
    "# read local .env file\n",
    "_ = load_dotenv(find_dotenv())"
   ]
  },
  {
   "cell_type": "code",
   "execution_count": 3,
   "id": "12b6af87",
   "metadata": {
    "tags": []
   },
   "outputs": [],
   "source": [
    "# set Langsmith project\n",
    "today = datetime.now().strftime(\"%Y%m%d\")\n",
    "os.environ[\"LANGCHAIN_PROJECT\"] = f\"Baseball Wins - {today}\""
   ]
  },
  {
   "cell_type": "code",
   "execution_count": 4,
   "id": "6bf9b046",
   "metadata": {
    "tags": []
   },
   "outputs": [],
   "source": [
    "session_id = '8'"
   ]
  },
  {
   "cell_type": "code",
   "execution_count": 5,
   "id": "024b632a",
   "metadata": {
    "tags": []
   },
   "outputs": [
    {
     "name": "stdout",
     "output_type": "stream",
     "text": [
      "{'Orchestrate': {'next': 'Plan'}}\n",
      "----\n",
      "Distance to neareast plan: 0.9246512055397034\n",
      "Formulating a new plan based on User input\n",
      "Collecting metadata for functions schedule_and_record\n",
      "Modifying plan with function metadata\n",
      "{'Plan': {'messages': [HumanMessage(content='\\n1. Import the schedule_and_record function from the pybaseball library:\\n\\nfrom pybaseball import schedule_and_record\\n\\n2. Call the schedule_and_record function with the season (2022) and team (\\'TB\\' for Tampa Bay Rays):\\n\\nrays_2022 = schedule_and_record(2022, \\'TB\\')\\n\\n3. The schedule_and_record function returns a dataframe. To get the number of wins, filter the dataframe to only rows where the \\'W/L\\' column equals \\'W\\' (for wins).\\n\\nwins = rays_2022[rays_2022[\\'W/L\\'] == \\'W\\']\\n\\n4. Get the count of rows in the filtered dataframe to get the total number of wins:\\n\\nnum_wins = len(wins)\\n\\n5. Print out the number of wins:\\n\\nprint(f\"The Tampa Bay Rays won {num_wins} games in the 2022 season.\")\\n\\n\\nAre you satisfied with this plan?')], 'task': 'How many games did the Rays win in 2022?', 'plan': '\\n1. Import the schedule_and_record function from the pybaseball library:\\n\\nfrom pybaseball import schedule_and_record\\n\\n2. Call the schedule_and_record function with the season (2022) and team (\\'TB\\' for Tampa Bay Rays):\\n\\nrays_2022 = schedule_and_record(2022, \\'TB\\')\\n\\n3. The schedule_and_record function returns a dataframe. To get the number of wins, filter the dataframe to only rows where the \\'W/L\\' column equals \\'W\\' (for wins).\\n\\nwins = rays_2022[rays_2022[\\'W/L\\'] == \\'W\\']\\n\\n4. Get the count of rows in the filtered dataframe to get the total number of wins:\\n\\nnum_wins = len(wins)\\n\\n5. Print out the number of wins:\\n\\nprint(f\"The Tampa Bay Rays won {num_wins} games in the 2022 season.\")\\n\\n\\nAre you satisfied with this plan?', 'previous_node': 'Plan', 'function_detail': 'Text between the <schedule_and_record_documentation></schedule_and_record_documentation> tags is documentation for the schedule_and_record function.\\n<schedule_and_record_documentation>\\n# Schedule and Record\\n\\n`schedule_and_record(season, team)`\\n\\nThe schedule_and_record function returns a dataframe of a team\\'s game-level results for a given season, including win/loss/tie result, score, attendance, and winning/losing/saving pitcher. If the season is incomplete, it will provide scheduling information for future games. \\n\\n## Arguments\\n`season:` Integer. The season for which you want a team\\'s record data. \\n\\n`team:` String. The abbreviation of the team for which you are requesting data (e.g. \"PHI\", \"BOS\", \"LAD\"). \\n\\nNote that if a team did not exist during the year you are requesting data for, the query will be unsuccessful. Historical name and city changes for teams in older seasons can cause some problems as well. The Los Angeles Dodgers (\"LAD\"), for example, are abbreviated \"BRO\" in older seasons, due to their origins as the Brooklyn Dodgers. This may at times require some detective work in certain cases.   \\n\\n## Examples of valid queries\\n\\n```python\\nfrom pybaseball import schedule_and_record\\n\\n# Game-by-game results from the Yankees\\' 1927 season\\ndata = schedule_and_record(1927, \"NYY\")\\n\\n# Results and upcoming schedule for the Phillies\\' current season (2017 at the time of writing)\\ndata = schedule_and_record(2017, \"PHI\")\\n```\\n\\n</schedule_and_record_documentation>Text between the <schedule_and_record_dictionary></schedule_and_record_dictionary> tags is the data dictionary for the schedule_and_record function.\\n<schedule_and_record_dictionary>\\nDate: date the game was played\\nTm: team\\nHome_Away: indicator of Home (Home) or Away (@) game\\nOpp: opponenet\\nW/L: Win or Loss indicator\\nR: runs scored\\nRA: runs allowed\\nInn: innings played\\nW-L: team\\'s win-loss record after the game end\\nRank: team\\'s ranking in the division\\nGB: how many games back (or up) the team is in the divion\\nWin: winning pitcher\\nLoss: losing pitcher\\nSave: saving pitcher\\nTime: game duration\\nD/N: day or night game indicator\\nAttendance: game attendance\\ncLI: Championship Leverage Index. This is a statistic that measures the importance of winning a game to a team\\'s chances of winning the World Series.\\nStreak: how many consecutive wins or losses for the team.  Consecutive wins are represented with positive values while consecutive losses are represented with negative values\\nOrig. Scheduled: date the game was originally scheduled (if applicable)\\n</schedule_and_record_dictionary>'}}\n",
      "----\n",
      "\n",
      "1. Import the schedule_and_record function from the pybaseball library:\n",
      "\n",
      "from pybaseball import schedule_and_record\n",
      "\n",
      "2. Call the schedule_and_record function with the season (2022) and team ('TB' for Tampa Bay Rays):\n",
      "\n",
      "rays_2022 = schedule_and_record(2022, 'TB')\n",
      "\n",
      "3. The schedule_and_record function returns a dataframe. To get the number of wins, filter the dataframe to only rows where the 'W/L' column equals 'W' (for wins).\n",
      "\n",
      "wins = rays_2022[rays_2022['W/L'] == 'W']\n",
      "\n",
      "4. Get the count of rows in the filtered dataframe to get the total number of wins:\n",
      "\n",
      "num_wins = len(wins)\n",
      "\n",
      "5. Print out the number of wins:\n",
      "\n",
      "print(f\"The Tampa Bay Rays won {num_wins} games in the 2022 season.\")\n",
      "\n",
      "\n",
      "Are you satisfied with this plan?\n"
     ]
    }
   ],
   "source": [
    "task = 'How many games did the Rays win in 2022?' \n",
    "result = baseball_lambda.execute_workflow(task, session_id)\n",
    "print(result)"
   ]
  },
  {
   "cell_type": "code",
   "execution_count": 6,
   "id": "1332fc28",
   "metadata": {
    "tags": []
   },
   "outputs": [
    {
     "name": "stdout",
     "output_type": "stream",
     "text": [
      "{'Orchestrate': {'next': 'Revise'}}\n",
      "----\n",
      "{'Revise': {'messages': [HumanMessage(content='\\n1. Import the schedule_and_record function from the pybaseball library:\\n\\nfrom pybaseball import schedule_and_record\\n\\n2. Call the schedule_and_record function with the season (2022) and team (\\'TB\\' for Tampa Bay Rays):\\n\\nrays_2022 = schedule_and_record(2022, \\'TB\\')\\n\\n3. To get the number of wins, filter the dataframe to rows where the \\'W/L\\' column equals \\'W\\' (for wins) or \\'W-wo\\' (for walk-off wins):\\n\\nwins = rays_2022[(rays_2022[\\'W/L\\'] == \\'W\\') | (rays_2022[\\'W/L\\'] == \\'W-wo\\')]\\n\\n4. Get the count of rows in the filtered dataframe to get the total number of wins (including walk-offs):\\n\\nnum_wins = len(wins)\\n\\n5. Print out the number of wins:\\n\\nprint(f\"The Tampa Bay Rays won {num_wins} games in the 2022 season (including walk-offs).\")\\n\\n\\nAre you satisfied with this plan?')], 'plan': '\\n1. Import the schedule_and_record function from the pybaseball library:\\n\\nfrom pybaseball import schedule_and_record\\n\\n2. Call the schedule_and_record function with the season (2022) and team (\\'TB\\' for Tampa Bay Rays):\\n\\nrays_2022 = schedule_and_record(2022, \\'TB\\')\\n\\n3. To get the number of wins, filter the dataframe to rows where the \\'W/L\\' column equals \\'W\\' (for wins) or \\'W-wo\\' (for walk-off wins):\\n\\nwins = rays_2022[(rays_2022[\\'W/L\\'] == \\'W\\') | (rays_2022[\\'W/L\\'] == \\'W-wo\\')]\\n\\n4. Get the count of rows in the filtered dataframe to get the total number of wins (including walk-offs):\\n\\nnum_wins = len(wins)\\n\\n5. Print out the number of wins:\\n\\nprint(f\"The Tampa Bay Rays won {num_wins} games in the 2022 season (including walk-offs).\")\\n\\n\\nAre you satisfied with this plan?', 'previous_node': 'Revise'}}\n",
      "----\n",
      "\n",
      "1. Import the schedule_and_record function from the pybaseball library:\n",
      "\n",
      "from pybaseball import schedule_and_record\n",
      "\n",
      "2. Call the schedule_and_record function with the season (2022) and team ('TB' for Tampa Bay Rays):\n",
      "\n",
      "rays_2022 = schedule_and_record(2022, 'TB')\n",
      "\n",
      "3. To get the number of wins, filter the dataframe to rows where the 'W/L' column equals 'W' (for wins) or 'W-wo' (for walk-off wins):\n",
      "\n",
      "wins = rays_2022[(rays_2022['W/L'] == 'W') | (rays_2022['W/L'] == 'W-wo')]\n",
      "\n",
      "4. Get the count of rows in the filtered dataframe to get the total number of wins (including walk-offs):\n",
      "\n",
      "num_wins = len(wins)\n",
      "\n",
      "5. Print out the number of wins:\n",
      "\n",
      "print(f\"The Tampa Bay Rays won {num_wins} games in the 2022 season (including walk-offs).\")\n",
      "\n",
      "\n",
      "Are you satisfied with this plan?\n"
     ]
    }
   ],
   "source": [
    "task = \"be sure to also count walk-off wins labeled as 'W-wo' in the 'W/L' column\"\n",
    "result = baseball_lambda.execute_workflow(task, session_id)\n",
    "print(result)"
   ]
  },
  {
   "cell_type": "code",
   "execution_count": 7,
   "id": "8c9e31b6",
   "metadata": {
    "tags": []
   },
   "outputs": [
    {
     "name": "stdout",
     "output_type": "stream",
     "text": [
      "{'Orchestrate': {'next': 'Convert'}}\n",
      "----\n",
      "{'Convert': {'code': '\\n# Import the schedule_and_record function from the pybaseball library\\nfrom pybaseball import schedule_and_record\\n\\n# Call the schedule_and_record function with the season (2022) and team (\\'TB\\' for Tampa Bay Rays)\\nrays_2022 = schedule_and_record(2022, \\'TB\\')\\n\\n# To get the number of wins, filter the dataframe to rows where the \\'W/L\\' column equals \\'W\\' (for wins) or \\'W-wo\\' (for walk-off wins)\\nwins = rays_2022[(rays_2022[\\'W/L\\'] == \\'W\\') | (rays_2022[\\'W/L\\'] == \\'W-wo\\')]\\n\\n# Get the count of rows in the filtered dataframe to get the total number of wins (including walk-offs)\\nnum_wins = len(wins)\\n\\n# Print out the number of wins\\nprint(f\"The Tampa Bay Rays won {num_wins} games in the 2022 season (including walk-offs).\")\\n'}}\n",
      "----\n",
      "Executing: \n",
      "# Import the schedule_and_record function from the pybaseball library\n",
      "from pybaseball import schedule_and_record\n",
      "Executing: # Call the schedule_and_record function with the season (2022) and team ('TB' for Tampa Bay Rays)\n",
      "rays_2022 = schedule_and_record(2022, 'TB')\n",
      "Result: http://www.baseball-reference.com/teams/TB/2022-schedule-scores.shtml\n",
      "\n",
      "Executing: # To get the number of wins, filter the dataframe to rows where the 'W/L' column equals 'W' (for wins) or 'W-wo' (for walk-off wins)\n",
      "wins = rays_2022[(rays_2022['W/L'] == 'W') | (rays_2022['W/L'] == 'W-wo')]\n",
      "Executing: # Get the count of rows in the filtered dataframe to get the total number of wins (including walk-offs)\n",
      "num_wins = len(wins)\n",
      "Executing: # Print out the number of wins\n",
      "print(f\"The Tampa Bay Rays won {num_wins} games in the 2022 season (including walk-offs).\")\n",
      "\n",
      "Result: The Tampa Bay Rays won 86 games in the 2022 season (including walk-offs).\n",
      "\n",
      "{'Execute': {'messages': [AIMessage(content='The Tampa Bay Rays won 86 games in the 2022 season (including walk-offs).\\n\\nHere is the code that was used to reach this solution:\\n```python\\n\\n# Import the schedule_and_record function from the pybaseball library\\nfrom pybaseball import schedule_and_record\\n# Call the schedule_and_record function with the season (2022) and team (\\'TB\\' for Tampa Bay Rays)\\nrays_2022 = schedule_and_record(2022, \\'TB\\')\\n# To get the number of wins, filter the dataframe to rows where the \\'W/L\\' column equals \\'W\\' (for wins) or \\'W-wo\\' (for walk-off wins)\\nwins = rays_2022[(rays_2022[\\'W/L\\'] == \\'W\\') | (rays_2022[\\'W/L\\'] == \\'W-wo\\')]\\n# Get the count of rows in the filtered dataframe to get the total number of wins (including walk-offs)\\nnum_wins = len(wins)\\n# Print out the number of wins\\nprint(f\"The Tampa Bay Rays won {num_wins} games in the 2022 season (including walk-offs).\")\\n\\n```\\n\\nAre you satisfied with this result?')], 'previous_node': 'Execute', 'code': '\\n# Import the schedule_and_record function from the pybaseball library\\nfrom pybaseball import schedule_and_record\\n# Call the schedule_and_record function with the season (2022) and team (\\'TB\\' for Tampa Bay Rays)\\nrays_2022 = schedule_and_record(2022, \\'TB\\')\\n# To get the number of wins, filter the dataframe to rows where the \\'W/L\\' column equals \\'W\\' (for wins) or \\'W-wo\\' (for walk-off wins)\\nwins = rays_2022[(rays_2022[\\'W/L\\'] == \\'W\\') | (rays_2022[\\'W/L\\'] == \\'W-wo\\')]\\n# Get the count of rows in the filtered dataframe to get the total number of wins (including walk-offs)\\nnum_wins = len(wins)\\n# Print out the number of wins\\nprint(f\"The Tampa Bay Rays won {num_wins} games in the 2022 season (including walk-offs).\")\\n'}}\n",
      "----\n",
      "The Tampa Bay Rays won 86 games in the 2022 season (including walk-offs).\n",
      "\n",
      "Here is the code that was used to reach this solution:\n",
      "```python\n",
      "\n",
      "# Import the schedule_and_record function from the pybaseball library\n",
      "from pybaseball import schedule_and_record\n",
      "# Call the schedule_and_record function with the season (2022) and team ('TB' for Tampa Bay Rays)\n",
      "rays_2022 = schedule_and_record(2022, 'TB')\n",
      "# To get the number of wins, filter the dataframe to rows where the 'W/L' column equals 'W' (for wins) or 'W-wo' (for walk-off wins)\n",
      "wins = rays_2022[(rays_2022['W/L'] == 'W') | (rays_2022['W/L'] == 'W-wo')]\n",
      "# Get the count of rows in the filtered dataframe to get the total number of wins (including walk-offs)\n",
      "num_wins = len(wins)\n",
      "# Print out the number of wins\n",
      "print(f\"The Tampa Bay Rays won {num_wins} games in the 2022 season (including walk-offs).\")\n",
      "\n",
      "```\n",
      "\n",
      "Are you satisfied with this result?\n"
     ]
    }
   ],
   "source": [
    "task = 'looks good'\n",
    "result = baseball_lambda.execute_workflow(task, session_id)\n",
    "print(result)"
   ]
  },
  {
   "cell_type": "code",
   "execution_count": 8,
   "id": "6c1ea32a",
   "metadata": {
    "tags": []
   },
   "outputs": [
    {
     "name": "stdout",
     "output_type": "stream",
     "text": [
      "{'Orchestrate': {'next': 'Memorize'}}\n",
      "----\n",
      "{'Memorize': {'messages': [AIMessage(content='Thank you, task has been commited to memory')], 'previous_node': 'Memorize'}}\n",
      "----\n",
      "Thank you, task has been commited to memory\n"
     ]
    }
   ],
   "source": [
    "task = 'yes'\n",
    "result = baseball_lambda.execute_workflow(task, session_id)\n",
    "print(result)"
   ]
  },
  {
   "cell_type": "code",
   "execution_count": null,
   "id": "84ad7689",
   "metadata": {},
   "outputs": [],
   "source": []
  }
 ],
 "metadata": {
  "kernelspec": {
   "display_name": "venv",
   "language": "python",
   "name": "python3"
  },
  "language_info": {
   "codemirror_mode": {
    "name": "ipython",
    "version": 3
   },
   "file_extension": ".py",
   "mimetype": "text/x-python",
   "name": "python",
   "nbconvert_exporter": "python",
   "pygments_lexer": "ipython3",
   "version": "3.10.8"
  }
 },
 "nbformat": 4,
 "nbformat_minor": 5
}
