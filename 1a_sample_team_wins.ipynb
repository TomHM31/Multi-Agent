{
 "cells": [
  {
   "cell_type": "code",
   "execution_count": 1,
   "id": "7c01b355-66d2-40e0-92a4-c4553a8d2edd",
   "metadata": {
    "tags": []
   },
   "outputs": [
    {
     "name": "stderr",
     "output_type": "stream",
     "text": [
      "Python REPL can execute arbitrary code. Use with caution.\n"
     ]
    }
   ],
   "source": [
    "# general\n",
    "from datetime import datetime\n",
    "from dotenv import load_dotenv, find_dotenv\n",
    "import os\n",
    "\n",
    "# custom local libs\n",
    "from function import baseball_lambda"
   ]
  },
  {
   "cell_type": "code",
   "execution_count": 2,
   "id": "7a2a54ab",
   "metadata": {},
   "outputs": [],
   "source": [
    "# read local .env file\n",
    "_ = load_dotenv(find_dotenv())"
   ]
  },
  {
   "cell_type": "code",
   "execution_count": 3,
   "id": "12b6af87",
   "metadata": {},
   "outputs": [],
   "source": [
    "# set Langsmith project\n",
    "today = datetime.now().strftime(\"%Y%m%d\")\n",
    "os.environ[\"LANGCHAIN_PROJECT\"] = f\"Baseball Wins - {today}\""
   ]
  },
  {
   "cell_type": "code",
   "execution_count": 4,
   "id": "6bf9b046",
   "metadata": {},
   "outputs": [],
   "source": [
    "session_id = '160'"
   ]
  },
  {
   "cell_type": "code",
   "execution_count": 5,
   "id": "024b632a",
   "metadata": {},
   "outputs": [
    {
     "name": "stdout",
     "output_type": "stream",
     "text": [
      "{'Orchestrate': {'next': 'Plan'}}\n",
      "----\n",
      "Distance to neareast plan: 0.9246512055397034\n",
      "Formulating a new plan based on User input\n",
      "Collecting metadata for functions schedule_and_record\n",
      "Modifying plan with function metadata\n",
      "{'Plan': {'messages': [HumanMessage(content='Updated Plan:\\n\\n1. Use the `schedule_and_record` function from the pybaseball library.\\n2. Pass in the following attributes:\\n   - season: 2022\\n   - team: \"TBR\" (abbreviation for the Tampa Bay Rays)\\n3. Retrieve the output dataframe from the function.\\n4. Extract the \"W/L\" column from the dataframe, which indicates whether the Rays won or lost each game.\\n5. Count the number of games where the value in the \"W/L\" column is \"W\" (indicating a win).\\n6. The count obtained in step 5 represents the total number of games the Rays won in the 2022 season.\\n\\nAre you satisfied with this plan?')], 'task': 'How many games did the Rays win in 2022?', 'plan': 'Updated Plan:\\n\\n1. Use the `schedule_and_record` function from the pybaseball library.\\n2. Pass in the following attributes:\\n   - season: 2022\\n   - team: \"TBR\" (abbreviation for the Tampa Bay Rays)\\n3. Retrieve the output dataframe from the function.\\n4. Extract the \"W/L\" column from the dataframe, which indicates whether the Rays won or lost each game.\\n5. Count the number of games where the value in the \"W/L\" column is \"W\" (indicating a win).\\n6. The count obtained in step 5 represents the total number of games the Rays won in the 2022 season.\\n\\nAre you satisfied with this plan?', 'previous_node': 'Plan', 'function_detail': 'Here is the documentation for function schedule_and_record:\\n# Schedule and Record\\n\\n`schedule_and_record(season, team)`\\n\\nThe schedule_and_record function returns a dataframe of a team\\'s game-level results for a given season, including win/loss/tie result, score, attendance, and winning/losing/saving pitcher. If the season is incomplete, it will provide scheduling information for future games. \\n\\n## Arguments\\n`season:` Integer. The season for which you want a team\\'s record data. \\n\\n`team:` String. The abbreviation of the team for which you are requesting data (e.g. \"PHI\", \"BOS\", \"LAD\"). \\n\\nNote that if a team did not exist during the year you are requesting data for, the query will be unsuccessful. Historical name and city changes for teams in older seasons can cause some problems as well. The Los Angeles Dodgers (\"LAD\"), for example, are abbreviated \"BRO\" in older seasons, due to their origins as the Brooklyn Dodgers. This may at times require some detective work in certain cases.   \\n\\n## Examples of valid queries\\n\\n```python\\nfrom pybaseball import schedule_and_record\\n\\n# Game-by-game results from the Yankees\\' 1927 season\\ndata = schedule_and_record(1927, \"NYY\")\\n\\n# Results and upcoming schedule for the Phillies\\' current season (2017 at the time of writing)\\ndata = schedule_and_record(2017, \"PHI\")\\n```\\n\\nHere is the data dictionary for function schedule_and_record:\\nDate: date the game was played\\nTm: team\\nHome_Away: indicator of Home (Home) or Away (@) game\\nOpp: opponenet\\nW/L: Win or Loss indicator\\nR: runs scored\\nRA: runs allowed\\nInn: innings played\\nW-L: team\\'s win-loss record after the game end\\nRank: team\\'s ranking in the division\\nGB: how many games back (or up) the team is in the divion\\nWin: winning pitcher\\nLoss: losing pitcher\\nSave: saving pitcher\\nTime: game duration\\nD/N: day or night game indicator\\nAttendance: game attendance\\ncLI: Championship Leverage Index. This is a statistic that measures the importance of winning a game to a team\\'s chances of winning the World Series.\\nStreak: how many consecutive wins or losses for the team.  Consecutive wins are represented with positive values while consecutive losses are represented with negative values\\nOrig. Scheduled: date the game was originally scheduled (if applicable)'}}\n",
      "----\n",
      "Updated Plan:\n",
      "\n",
      "1. Use the `schedule_and_record` function from the pybaseball library.\n",
      "2. Pass in the following attributes:\n",
      "   - season: 2022\n",
      "   - team: \"TBR\" (abbreviation for the Tampa Bay Rays)\n",
      "3. Retrieve the output dataframe from the function.\n",
      "4. Extract the \"W/L\" column from the dataframe, which indicates whether the Rays won or lost each game.\n",
      "5. Count the number of games where the value in the \"W/L\" column is \"W\" (indicating a win).\n",
      "6. The count obtained in step 5 represents the total number of games the Rays won in the 2022 season.\n",
      "\n",
      "Are you satisfied with this plan?\n"
     ]
    }
   ],
   "source": [
    "task = 'How many games did the Rays win in 2022?' \n",
    "result = baseball_lambda.execute_workflow(task, session_id)\n",
    "print(result)"
   ]
  },
  {
   "cell_type": "code",
   "execution_count": 6,
   "id": "1332fc28",
   "metadata": {},
   "outputs": [
    {
     "name": "stdout",
     "output_type": "stream",
     "text": [
      "{'Orchestrate': {'next': 'Revise'}}\n",
      "----\n",
      "{'Revise': {'messages': [HumanMessage(content='Based on the feedback, it\\'s clear that the original plan needs to be adjusted to account for walk-off wins, which are labeled as \\'W-wo\\' in the \\'W/L\\' column. Here\\'s the revised plan:\\n\\nUpdated Plan:\\n\\n1. Use the `schedule_and_record` function from the pybaseball library.\\n2. Pass in the following attributes:\\n   - season: 2022\\n   - team: \"TBR\" (abbreviation for the Tampa Bay Rays)\\n3. Retrieve the output dataframe from the function.\\n4. Extract the \"W/L\" column from the dataframe, which indicates whether the Rays won or lost each game.\\n5. Modify the counting method to include both \"W\" (indicating a win) and \"W-wo\" (indicating a walk-off win) values in the \"W/L\" column.\\n6. To achieve this, you can use a condition that checks for both \"W\" and \"W-wo\" when counting the total number of wins.\\n7. The count obtained in step 6 represents the total number of games the Rays won in the 2022 season, including regular wins and walk-off wins.\\n\\nThis adjustment ensures that all types of wins are accurately counted, providing a more comprehensive understanding of the team\\'s performance in the season. \\n\\nAre you satisfied with this plan?')], 'plan': 'Based on the feedback, it\\'s clear that the original plan needs to be adjusted to account for walk-off wins, which are labeled as \\'W-wo\\' in the \\'W/L\\' column. Here\\'s the revised plan:\\n\\nUpdated Plan:\\n\\n1. Use the `schedule_and_record` function from the pybaseball library.\\n2. Pass in the following attributes:\\n   - season: 2022\\n   - team: \"TBR\" (abbreviation for the Tampa Bay Rays)\\n3. Retrieve the output dataframe from the function.\\n4. Extract the \"W/L\" column from the dataframe, which indicates whether the Rays won or lost each game.\\n5. Modify the counting method to include both \"W\" (indicating a win) and \"W-wo\" (indicating a walk-off win) values in the \"W/L\" column.\\n6. To achieve this, you can use a condition that checks for both \"W\" and \"W-wo\" when counting the total number of wins.\\n7. The count obtained in step 6 represents the total number of games the Rays won in the 2022 season, including regular wins and walk-off wins.\\n\\nThis adjustment ensures that all types of wins are accurately counted, providing a more comprehensive understanding of the team\\'s performance in the season. \\n\\nAre you satisfied with this plan?', 'previous_node': 'Revise'}}\n",
      "----\n",
      "Based on the feedback, it's clear that the original plan needs to be adjusted to account for walk-off wins, which are labeled as 'W-wo' in the 'W/L' column. Here's the revised plan:\n",
      "\n",
      "Updated Plan:\n",
      "\n",
      "1. Use the `schedule_and_record` function from the pybaseball library.\n",
      "2. Pass in the following attributes:\n",
      "   - season: 2022\n",
      "   - team: \"TBR\" (abbreviation for the Tampa Bay Rays)\n",
      "3. Retrieve the output dataframe from the function.\n",
      "4. Extract the \"W/L\" column from the dataframe, which indicates whether the Rays won or lost each game.\n",
      "5. Modify the counting method to include both \"W\" (indicating a win) and \"W-wo\" (indicating a walk-off win) values in the \"W/L\" column.\n",
      "6. To achieve this, you can use a condition that checks for both \"W\" and \"W-wo\" when counting the total number of wins.\n",
      "7. The count obtained in step 6 represents the total number of games the Rays won in the 2022 season, including regular wins and walk-off wins.\n",
      "\n",
      "This adjustment ensures that all types of wins are accurately counted, providing a more comprehensive understanding of the team's performance in the season. \n",
      "\n",
      "Are you satisfied with this plan?\n"
     ]
    }
   ],
   "source": [
    "task = \"be sure to also count walk-off wins labeled as 'W-wo' in the 'W/L' column\"\n",
    "result = baseball_lambda.execute_workflow(task, session_id)\n",
    "print(result)"
   ]
  },
  {
   "cell_type": "code",
   "execution_count": 7,
   "id": "8c9e31b6",
   "metadata": {},
   "outputs": [
    {
     "name": "stdout",
     "output_type": "stream",
     "text": [
      "{'Orchestrate': {'next': 'Convert'}}\n",
      "----\n",
      "{'Convert': {'code': '\\n# Importing the necessary library\\nfrom pybaseball import schedule_and_record\\n\\n# Using the schedule_and_record function from the pybaseball library to get the game records for Tampa Bay Rays for the 2022 season\\ndf = schedule_and_record(2022, \\'TBR\\')\\n\\n# Extracting the \"W/L\" column from the dataframe\\nwl_column = df[\\'W/L\\']\\n\\n# Counting the number of wins, including regular wins and walk-off wins\\n# We use the str.contains method to check if the \"W/L\" column contains either \"W\" or \"W-wo\"\\ntotal_wins = wl_column.str.contains(\\'W|W-wo\\').sum()\\n\\n# Printing the total number of wins\\nprint(\"The total number of games the Rays won in the 2022 season, including regular wins and walk-off wins, is:\", total_wins)\\n'}}\n",
      "----\n",
      "Executing: \n",
      "# Importing the necessary library\n",
      "from pybaseball import schedule_and_record\n",
      "Executing: # Using the schedule_and_record function from the pybaseball library to get the game records for Tampa Bay Rays for the 2022 season\n",
      "df = schedule_and_record(2022, 'TBR')\n",
      "Result: http://www.baseball-reference.com/teams/TBR/2022-schedule-scores.shtml\n",
      "\n",
      "Executing: # Extracting the \"W/L\" column from the dataframe\n",
      "wl_column = df['W/L']\n",
      "Executing: # Counting the number of wins, including regular wins and walk-off wins\n",
      "# We use the str.contains method to check if the \"W/L\" column contains either \"W\" or \"W-wo\"\n",
      "total_wins = wl_column.str.contains('W|W-wo').sum()\n",
      "Executing: # Printing the total number of wins\n",
      "print(\"The total number of games the Rays won in the 2022 season, including regular wins and walk-off wins, is:\", total_wins)\n",
      "\n",
      "Result: The total number of games the Rays won in the 2022 season, including regular wins and walk-off wins, is: 86\n",
      "\n",
      "{'Execute': {'messages': [AIMessage(content='The total number of games the Rays won in the 2022 season, including regular wins and walk-off wins, is: 86\\n\\nHere is the code that was used to reach this solution:\\n```python\\n\\n# Importing the necessary library\\nfrom pybaseball import schedule_and_record\\n# Using the schedule_and_record function from the pybaseball library to get the game records for Tampa Bay Rays for the 2022 season\\ndf = schedule_and_record(2022, \\'TBR\\')\\n# Extracting the \"W/L\" column from the dataframe\\nwl_column = df[\\'W/L\\']\\n# Counting the number of wins, including regular wins and walk-off wins\\n# We use the str.contains method to check if the \"W/L\" column contains either \"W\" or \"W-wo\"\\ntotal_wins = wl_column.str.contains(\\'W|W-wo\\').sum()\\n```\\n\\nAre you satisfied with this result?')], 'previous_node': 'Execute', 'code': '\\n# Importing the necessary library\\nfrom pybaseball import schedule_and_record\\n# Using the schedule_and_record function from the pybaseball library to get the game records for Tampa Bay Rays for the 2022 season\\ndf = schedule_and_record(2022, \\'TBR\\')\\n# Extracting the \"W/L\" column from the dataframe\\nwl_column = df[\\'W/L\\']\\n# Counting the number of wins, including regular wins and walk-off wins\\n# We use the str.contains method to check if the \"W/L\" column contains either \"W\" or \"W-wo\"\\ntotal_wins = wl_column.str.contains(\\'W|W-wo\\').sum()\\n# Printing the total number of wins\\nprint(\"The total number of games the Rays won in the 2022 season, including regular wins and walk-off wins, is:\", total_wins)\\n'}}\n",
      "----\n",
      "The total number of games the Rays won in the 2022 season, including regular wins and walk-off wins, is: 86\n",
      "\n",
      "Here is the code that was used to reach this solution:\n",
      "```python\n",
      "\n",
      "# Importing the necessary library\n",
      "from pybaseball import schedule_and_record\n",
      "# Using the schedule_and_record function from the pybaseball library to get the game records for Tampa Bay Rays for the 2022 season\n",
      "df = schedule_and_record(2022, 'TBR')\n",
      "# Extracting the \"W/L\" column from the dataframe\n",
      "wl_column = df['W/L']\n",
      "# Counting the number of wins, including regular wins and walk-off wins\n",
      "# We use the str.contains method to check if the \"W/L\" column contains either \"W\" or \"W-wo\"\n",
      "total_wins = wl_column.str.contains('W|W-wo').sum()\n",
      "```\n",
      "\n",
      "Are you satisfied with this result?\n"
     ]
    }
   ],
   "source": [
    "task = 'looks good'\n",
    "result = baseball_lambda.execute_workflow(task, session_id)\n",
    "print(result)"
   ]
  },
  {
   "cell_type": "code",
   "execution_count": 8,
   "id": "6c1ea32a",
   "metadata": {},
   "outputs": [
    {
     "name": "stdout",
     "output_type": "stream",
     "text": [
      "{'Orchestrate': {'next': 'Memorize'}}\n",
      "----\n",
      "{'Memorize': {'messages': [AIMessage(content='Thank you, task has been commited to memory')], 'previous_node': 'Memorize'}}\n",
      "----\n",
      "Thank you, task has been commited to memory\n"
     ]
    }
   ],
   "source": [
    "task = 'yes'\n",
    "result = baseball_lambda.execute_workflow(task, session_id)\n",
    "print(result)"
   ]
  },
  {
   "cell_type": "code",
   "execution_count": null,
   "id": "8f96754f",
   "metadata": {},
   "outputs": [],
   "source": []
  }
 ],
 "metadata": {
  "kernelspec": {
   "display_name": "venv",
   "language": "python",
   "name": "python3"
  },
  "language_info": {
   "codemirror_mode": {
    "name": "ipython",
    "version": 3
   },
   "file_extension": ".py",
   "mimetype": "text/x-python",
   "name": "python",
   "nbconvert_exporter": "python",
   "pygments_lexer": "ipython3",
   "version": "3.10.8"
  }
 },
 "nbformat": 4,
 "nbformat_minor": 5
}
