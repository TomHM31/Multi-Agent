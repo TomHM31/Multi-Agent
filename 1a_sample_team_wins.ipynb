{
 "cells": [
  {
   "cell_type": "code",
   "execution_count": 1,
   "id": "7c01b355-66d2-40e0-92a4-c4553a8d2edd",
   "metadata": {
    "tags": []
   },
   "outputs": [
    {
     "name": "stderr",
     "output_type": "stream",
     "text": [
      "/Users/rosclay/Documents/VSCode/langgraph-multi-agent/venv/lib/python3.10/site-packages/langchain_core/_api/beta_decorator.py:87: LangChainBetaWarning: The function `bind_tools` is in beta. It is actively being worked on, so the API may change.\n",
      "  warn_beta(\n",
      "Python REPL can execute arbitrary code. Use with caution.\n"
     ]
    }
   ],
   "source": [
    "# general\n",
    "from datetime import datetime\n",
    "from dotenv import load_dotenv, find_dotenv\n",
    "import os\n",
    "\n",
    "# custom local libs\n",
    "from function import baseball_lambda"
   ]
  },
  {
   "cell_type": "code",
   "execution_count": 2,
   "id": "7a2a54ab",
   "metadata": {
    "tags": []
   },
   "outputs": [],
   "source": [
    "# read local .env file\n",
    "_ = load_dotenv(find_dotenv())"
   ]
  },
  {
   "cell_type": "code",
   "execution_count": 3,
   "id": "12b6af87",
   "metadata": {
    "tags": []
   },
   "outputs": [],
   "source": [
    "# set Langsmith project\n",
    "today = datetime.now().strftime(\"%Y%m%d\")\n",
    "os.environ[\"LANGCHAIN_PROJECT\"] = f\"Baseball Wins - {today}\""
   ]
  },
  {
   "cell_type": "code",
   "execution_count": 4,
   "id": "6bf9b046",
   "metadata": {
    "tags": []
   },
   "outputs": [],
   "source": [
    "session_id = '016'"
   ]
  },
  {
   "cell_type": "code",
   "execution_count": 5,
   "id": "024b632a",
   "metadata": {
    "tags": []
   },
   "outputs": [
    {
     "name": "stdout",
     "output_type": "stream",
     "text": [
      "{'Orchestrate': {'next': 'Plan'}}\n",
      "----\n",
      "Distance to neareast plan: 0.9246512055397034\n",
      "Formulating a new plan based on User input\n",
      "Collecting documentation for schedule_and_record\n",
      "Updating plan based function documentation\n",
      "{'Plan': {'messages': [HumanMessage(content='How many games did the Rays win in 2022?', name='User'), AIMessage(content='Step 1: Import the necessary libraries\\nimport pandas as pd\\nfrom pybaseball import schedule_and_record\\n\\nStep 2: Use the schedule_and_record function to retrieve the Rays\\' 2022 game results \\nrays_2022 = schedule_and_record(2022, \\'TB\\')\\n\\nStep 3: Count the number of wins in the dataframe\\nnum_wins = len(rays_2022[rays_2022[\\'W/L\\'] == \\'W\\'])\\n\\nStep 4: Print the result\\nprint(f\"The Tampa Bay Rays won {num_wins} games in the 2022 season.\")\\n\\nAre you satisfied with this plan?')], 'task': 'How many games did the Rays win in 2022?', 'plan': 'Step 1: Import the necessary libraries\\nimport pandas as pd\\nfrom pybaseball import schedule_and_record\\n\\nStep 2: Use the schedule_and_record function to retrieve the Rays\\' 2022 game results \\nrays_2022 = schedule_and_record(2022, \\'TB\\')\\n\\nStep 3: Count the number of wins in the dataframe\\nnum_wins = len(rays_2022[rays_2022[\\'W/L\\'] == \\'W\\'])\\n\\nStep 4: Print the result\\nprint(f\"The Tampa Bay Rays won {num_wins} games in the 2022 season.\")\\n\\nAre you satisfied with this plan?', 'previous_node': 'Plan', 'function_detail': 'Text between the <schedule_and_record_documentation></schedule_and_record_documentation> tags is documentation for the schedule_and_record function.  Consult this section to confirm which attributes to pass into the schedule_and_record function.\\n<schedule_and_record_documentation>\\n# Schedule and Record\\n\\n`schedule_and_record(season, team)`\\n\\nThe schedule_and_record function returns a dataframe of a team\\'s game-level results for a given season, including win/loss/tie result, score, attendance, and winning/losing/saving pitcher. If the season is incomplete, it will provide scheduling information for future games. \\n\\n## Arguments\\n`season:` Integer. The season for which you want a team\\'s record data. \\n\\n`team:` String. The abbreviation of the team for which you are requesting data (e.g. \"PHI\", \"BOS\", \"LAD\"). \\n\\nNote that if a team did not exist during the year you are requesting data for, the query will be unsuccessful. Historical name and city changes for teams in older seasons can cause some problems as well. The Los Angeles Dodgers (\"LAD\"), for example, are abbreviated \"BRO\" in older seasons, due to their origins as the Brooklyn Dodgers. This may at times require some detective work in certain cases.   \\n\\n## Examples of valid queries\\n\\n```python\\nfrom pybaseball import schedule_and_record\\n\\n# Game-by-game results from the Yankees\\' 1927 season\\ndata = schedule_and_record(1927, \"NYY\")\\n\\n# Results and upcoming schedule for the Phillies\\' current season (2017 at the time of writing)\\ndata = schedule_and_record(2017, \"PHI\")\\n```\\n\\n</schedule_and_record_documentation>\\n'}}\n",
      "----\n",
      "Step 1: Import the necessary libraries\n",
      "import pandas as pd\n",
      "from pybaseball import schedule_and_record\n",
      "\n",
      "Step 2: Use the schedule_and_record function to retrieve the Rays' 2022 game results \n",
      "rays_2022 = schedule_and_record(2022, 'TB')\n",
      "\n",
      "Step 3: Count the number of wins in the dataframe\n",
      "num_wins = len(rays_2022[rays_2022['W/L'] == 'W'])\n",
      "\n",
      "Step 4: Print the result\n",
      "print(f\"The Tampa Bay Rays won {num_wins} games in the 2022 season.\")\n",
      "\n",
      "Are you satisfied with this plan?\n"
     ]
    }
   ],
   "source": [
    "task = 'How many games did the Rays win in 2022?' \n",
    "result = baseball_lambda.execute_workflow(task, session_id)\n",
    "print(result)"
   ]
  },
  {
   "cell_type": "code",
   "execution_count": 6,
   "id": "1332fc28",
   "metadata": {
    "tags": []
   },
   "outputs": [
    {
     "name": "stdout",
     "output_type": "stream",
     "text": [
      "{'Orchestrate': {'next': 'Revise'}}\n",
      "----\n",
      "{'Revise': {'messages': [HumanMessage(content='\\nStep 1: Import the necessary libraries\\nimport pandas as pd\\nfrom pybaseball import schedule_and_record\\n\\nStep 2: Use the schedule_and_record function to retrieve the Rays\\' 2022 game results\\nrays_2022 = schedule_and_record(2022, \\'TB\\')\\n\\nStep 3: Count the number of regular wins\\nnum_regular_wins = len(rays_2022[rays_2022[\\'W/L\\'] == \\'W\\'])\\n\\nStep 4: Count the number of walk-off wins\\nnum_walkoff_wins = len(rays_2022[rays_2022[\\'W/L\\'] == \\'W-wo\\'])\\n\\nStep 5: Calculate the total number of wins\\nnum_total_wins = num_regular_wins + num_walkoff_wins\\n\\nStep 6: Print the result\\nprint(f\"The Tampa Bay Rays won {num_total_wins} games in the 2022 season.\")\\n\\n\\nAre you satisfied with this plan?')], 'plan': '\\nStep 1: Import the necessary libraries\\nimport pandas as pd\\nfrom pybaseball import schedule_and_record\\n\\nStep 2: Use the schedule_and_record function to retrieve the Rays\\' 2022 game results\\nrays_2022 = schedule_and_record(2022, \\'TB\\')\\n\\nStep 3: Count the number of regular wins\\nnum_regular_wins = len(rays_2022[rays_2022[\\'W/L\\'] == \\'W\\'])\\n\\nStep 4: Count the number of walk-off wins\\nnum_walkoff_wins = len(rays_2022[rays_2022[\\'W/L\\'] == \\'W-wo\\'])\\n\\nStep 5: Calculate the total number of wins\\nnum_total_wins = num_regular_wins + num_walkoff_wins\\n\\nStep 6: Print the result\\nprint(f\"The Tampa Bay Rays won {num_total_wins} games in the 2022 season.\")\\n\\n\\nAre you satisfied with this plan?', 'previous_node': 'Revise'}}\n",
      "----\n",
      "\n",
      "Step 1: Import the necessary libraries\n",
      "import pandas as pd\n",
      "from pybaseball import schedule_and_record\n",
      "\n",
      "Step 2: Use the schedule_and_record function to retrieve the Rays' 2022 game results\n",
      "rays_2022 = schedule_and_record(2022, 'TB')\n",
      "\n",
      "Step 3: Count the number of regular wins\n",
      "num_regular_wins = len(rays_2022[rays_2022['W/L'] == 'W'])\n",
      "\n",
      "Step 4: Count the number of walk-off wins\n",
      "num_walkoff_wins = len(rays_2022[rays_2022['W/L'] == 'W-wo'])\n",
      "\n",
      "Step 5: Calculate the total number of wins\n",
      "num_total_wins = num_regular_wins + num_walkoff_wins\n",
      "\n",
      "Step 6: Print the result\n",
      "print(f\"The Tampa Bay Rays won {num_total_wins} games in the 2022 season.\")\n",
      "\n",
      "\n",
      "Are you satisfied with this plan?\n"
     ]
    }
   ],
   "source": [
    "task = \"be sure to also count walk-off wins labeled as 'W-wo' in the 'W/L' column\"\n",
    "result = baseball_lambda.execute_workflow(task, session_id)\n",
    "print(result)"
   ]
  },
  {
   "cell_type": "code",
   "execution_count": 7,
   "id": "8c9e31b6",
   "metadata": {
    "tags": []
   },
   "outputs": [
    {
     "name": "stdout",
     "output_type": "stream",
     "text": [
      "{'Orchestrate': {'next': 'Execute'}}\n",
      "----\n",
      "Executing: import pandas as pd\n",
      "from pybaseball import schedule_and_record\n",
      "Executing: rays_2022 = schedule_and_record(2022, 'TB')\n",
      "Result: http://www.baseball-reference.com/teams/TB/2022-schedule-scores.shtml\n",
      "\n",
      "Executing: num_regular_wins = len(rays_2022[rays_2022['W/L'] == 'W'])\n",
      "Executing: num_walkoff_wins = len(rays_2022[rays_2022['W/L'] == 'W-wo'])\n",
      "Executing: num_total_wins = num_regular_wins + num_walkoff_wins\n",
      "Executing: print(f\"The Tampa Bay Rays won {num_total_wins} games in the 2022 season.\")\n",
      "Result: The Tampa Bay Rays won 86 games in the 2022 season.\n",
      "\n",
      "{'Execute': {'messages': [AIMessage(content='The Tampa Bay Rays won 86 games in the 2022 MLB season.\\nHere is the code that was used to reach this solution:\\n\\n```python\\n\\nimport pandas as pd\\nfrom pybaseball import schedule_and_record\\nrays_2022 = schedule_and_record(2022, \\'TB\\')\\nnum_regular_wins = len(rays_2022[rays_2022[\\'W/L\\'] == \\'W\\'])\\nnum_walkoff_wins = len(rays_2022[rays_2022[\\'W/L\\'] == \\'W-wo\\'])\\nnum_total_wins = num_regular_wins + num_walkoff_wins\\nprint(f\"The Tampa Bay Rays won {num_total_wins} games in the 2022 season.\")\\n```\\n\\nAre you satisfied with this result?')], 'previous_node': 'Execute', 'code': 'import pandas as pd\\nfrom pybaseball import schedule_and_record\\nrays_2022 = schedule_and_record(2022, \\'TB\\')\\nnum_regular_wins = len(rays_2022[rays_2022[\\'W/L\\'] == \\'W\\'])\\nnum_walkoff_wins = len(rays_2022[rays_2022[\\'W/L\\'] == \\'W-wo\\'])\\nnum_total_wins = num_regular_wins + num_walkoff_wins\\nprint(f\"The Tampa Bay Rays won {num_total_wins} games in the 2022 season.\")', 'plan': 'Step 1: Import the necessary libraries\\nimport pandas as pd\\nfrom pybaseball import schedule_and_record\\n\\nStep 2: Use the schedule_and_record function to retrieve the Rays\\' 2022 game results\\nrays_2022 = schedule_and_record(2022, \\'TB\\')\\n\\nStep 3: Count the number of regular wins  \\nnum_regular_wins = len(rays_2022[rays_2022[\\'W/L\\'] == \\'W\\'])\\n\\nStep 4: Count the number of walk-off wins\\nnum_walkoff_wins = len(rays_2022[rays_2022[\\'W/L\\'] == \\'W-wo\\'])  \\n\\nStep 5: Calculate the total number of wins\\nnum_total_wins = num_regular_wins + num_walkoff_wins\\n\\nStep 6: Print the result\\nprint(f\"The Tampa Bay Rays won {num_total_wins} games in the 2022 season.\")'}}\n",
      "----\n",
      "The Tampa Bay Rays won 86 games in the 2022 MLB season.\n",
      "Here is the code that was used to reach this solution:\n",
      "\n",
      "```python\n",
      "\n",
      "import pandas as pd\n",
      "from pybaseball import schedule_and_record\n",
      "rays_2022 = schedule_and_record(2022, 'TB')\n",
      "num_regular_wins = len(rays_2022[rays_2022['W/L'] == 'W'])\n",
      "num_walkoff_wins = len(rays_2022[rays_2022['W/L'] == 'W-wo'])\n",
      "num_total_wins = num_regular_wins + num_walkoff_wins\n",
      "print(f\"The Tampa Bay Rays won {num_total_wins} games in the 2022 season.\")\n",
      "```\n",
      "\n",
      "Are you satisfied with this result?\n"
     ]
    }
   ],
   "source": [
    "task = 'looks good'\n",
    "result = baseball_lambda.execute_workflow(task, session_id)\n",
    "print(result)"
   ]
  },
  {
   "cell_type": "code",
   "execution_count": 8,
   "id": "6c1ea32a",
   "metadata": {
    "tags": []
   },
   "outputs": [
    {
     "name": "stdout",
     "output_type": "stream",
     "text": [
      "{'Orchestrate': {'next': 'Memorize'}}\n",
      "----\n",
      "{'Memorize': {'messages': [AIMessage(content='Thank you, task has been commited to memory')], 'previous_node': 'Memorize'}}\n",
      "----\n",
      "Thank you, task has been commited to memory\n"
     ]
    }
   ],
   "source": [
    "task = 'yes'\n",
    "result = baseball_lambda.execute_workflow(task, session_id)\n",
    "print(result)"
   ]
  },
  {
   "cell_type": "code",
   "execution_count": null,
   "id": "84ad7689",
   "metadata": {},
   "outputs": [],
   "source": []
  },
  {
   "cell_type": "code",
   "execution_count": null,
   "id": "38276a95",
   "metadata": {},
   "outputs": [],
   "source": []
  }
 ],
 "metadata": {
  "kernelspec": {
   "display_name": "venv",
   "language": "python",
   "name": "python3"
  },
  "language_info": {
   "codemirror_mode": {
    "name": "ipython",
    "version": 3
   },
   "file_extension": ".py",
   "mimetype": "text/x-python",
   "name": "python",
   "nbconvert_exporter": "python",
   "pygments_lexer": "ipython3",
   "version": "3.10.8"
  }
 },
 "nbformat": 4,
 "nbformat_minor": 5
}
