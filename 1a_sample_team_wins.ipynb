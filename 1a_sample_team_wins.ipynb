{
 "cells": [
  {
   "cell_type": "code",
   "execution_count": 1,
   "id": "7c01b355-66d2-40e0-92a4-c4553a8d2edd",
   "metadata": {
    "tags": []
   },
   "outputs": [
    {
     "name": "stderr",
     "output_type": "stream",
     "text": [
      "Python REPL can execute arbitrary code. Use with caution.\n"
     ]
    }
   ],
   "source": [
    "# general\n",
    "from datetime import datetime\n",
    "from dotenv import load_dotenv, find_dotenv\n",
    "import os\n",
    "\n",
    "# custom local libs\n",
    "from function import baseball_lambda"
   ]
  },
  {
   "cell_type": "code",
   "execution_count": 2,
   "id": "7a2a54ab",
   "metadata": {
    "tags": []
   },
   "outputs": [],
   "source": [
    "# read local .env file\n",
    "_ = load_dotenv(find_dotenv())"
   ]
  },
  {
   "cell_type": "code",
   "execution_count": 3,
   "id": "12b6af87",
   "metadata": {
    "tags": []
   },
   "outputs": [],
   "source": [
    "# set Langsmith project\n",
    "today = datetime.now().strftime(\"%Y%m%d\")\n",
    "os.environ[\"LANGCHAIN_PROJECT\"] = f\"Baseball Wins - {today}\""
   ]
  },
  {
   "cell_type": "code",
   "execution_count": 4,
   "id": "6bf9b046",
   "metadata": {
    "tags": []
   },
   "outputs": [],
   "source": [
    "session_id = '165'"
   ]
  },
  {
   "cell_type": "code",
   "execution_count": 5,
   "id": "024b632a",
   "metadata": {
    "tags": []
   },
   "outputs": [
    {
     "name": "stdout",
     "output_type": "stream",
     "text": [
      "{'Orchestrate': {'next': 'Plan'}}\n",
      "----\n",
      "Distance to neareast plan: 0.9246512055397034\n",
      "Formulating a new plan based on User input\n",
      "Collecting metadata for functions schedule_and_record\n",
      "Modifying plan with function metadata\n",
      "{'Plan': {'messages': [HumanMessage(content=' Here is an updated plan for determining how many games the Rays won in 2022 using pybaseball:\\n\\n1. Use the schedule_and_record() function to get the Rays\\' 2022 season schedule and results. Pass in 2022 for the season and \"TBR\" for the Rays team abbreviation.\\n\\n2. From the schedule_and_record output, filter the dataframe to only include rows where the Home_Away column equals \\'Home\\' or \\'Away\\'. This will remove extraneous rows. \\n\\n3. Create a new column in the filtered dataframe called \\'Rays Win\\' that indicates whether the Rays won each game. Set to 1 if the W/L column equals \\'W\\' for a Rays win, and 0 if W/L equals \\'L\\' for a Rays loss.\\n\\n4. Sum the Rays Win column to get the total number of Rays wins for the season.\\n\\nAre you satisfied with this plan?')], 'task': 'How many games did the Rays win in 2022?', 'plan': ' Here is an updated plan for determining how many games the Rays won in 2022 using pybaseball:\\n\\n1. Use the schedule_and_record() function to get the Rays\\' 2022 season schedule and results. Pass in 2022 for the season and \"TBR\" for the Rays team abbreviation.\\n\\n2. From the schedule_and_record output, filter the dataframe to only include rows where the Home_Away column equals \\'Home\\' or \\'Away\\'. This will remove extraneous rows. \\n\\n3. Create a new column in the filtered dataframe called \\'Rays Win\\' that indicates whether the Rays won each game. Set to 1 if the W/L column equals \\'W\\' for a Rays win, and 0 if W/L equals \\'L\\' for a Rays loss.\\n\\n4. Sum the Rays Win column to get the total number of Rays wins for the season.\\n\\nAre you satisfied with this plan?', 'previous_node': 'Plan', 'function_detail': 'Here is the documentation for function schedule_and_record:\\n# Schedule and Record\\n\\n`schedule_and_record(season, team)`\\n\\nThe schedule_and_record function returns a dataframe of a team\\'s game-level results for a given season, including win/loss/tie result, score, attendance, and winning/losing/saving pitcher. If the season is incomplete, it will provide scheduling information for future games. \\n\\n## Arguments\\n`season:` Integer. The season for which you want a team\\'s record data. \\n\\n`team:` String. The abbreviation of the team for which you are requesting data (e.g. \"PHI\", \"BOS\", \"LAD\"). \\n\\nNote that if a team did not exist during the year you are requesting data for, the query will be unsuccessful. Historical name and city changes for teams in older seasons can cause some problems as well. The Los Angeles Dodgers (\"LAD\"), for example, are abbreviated \"BRO\" in older seasons, due to their origins as the Brooklyn Dodgers. This may at times require some detective work in certain cases.   \\n\\n## Examples of valid queries\\n\\n```python\\nfrom pybaseball import schedule_and_record\\n\\n# Game-by-game results from the Yankees\\' 1927 season\\ndata = schedule_and_record(1927, \"NYY\")\\n\\n# Results and upcoming schedule for the Phillies\\' current season (2017 at the time of writing)\\ndata = schedule_and_record(2017, \"PHI\")\\n```\\n\\nHere is the data dictionary for function schedule_and_record:\\nDate: date the game was played\\nTm: team\\nHome_Away: indicator of Home (Home) or Away (@) game\\nOpp: opponenet\\nW/L: Win or Loss indicator\\nR: runs scored\\nRA: runs allowed\\nInn: innings played\\nW-L: team\\'s win-loss record after the game end\\nRank: team\\'s ranking in the division\\nGB: how many games back (or up) the team is in the divion\\nWin: winning pitcher\\nLoss: losing pitcher\\nSave: saving pitcher\\nTime: game duration\\nD/N: day or night game indicator\\nAttendance: game attendance\\ncLI: Championship Leverage Index. This is a statistic that measures the importance of winning a game to a team\\'s chances of winning the World Series.\\nStreak: how many consecutive wins or losses for the team.  Consecutive wins are represented with positive values while consecutive losses are represented with negative values\\nOrig. Scheduled: date the game was originally scheduled (if applicable)'}}\n",
      "----\n",
      " Here is an updated plan for determining how many games the Rays won in 2022 using pybaseball:\n",
      "\n",
      "1. Use the schedule_and_record() function to get the Rays' 2022 season schedule and results. Pass in 2022 for the season and \"TBR\" for the Rays team abbreviation.\n",
      "\n",
      "2. From the schedule_and_record output, filter the dataframe to only include rows where the Home_Away column equals 'Home' or 'Away'. This will remove extraneous rows. \n",
      "\n",
      "3. Create a new column in the filtered dataframe called 'Rays Win' that indicates whether the Rays won each game. Set to 1 if the W/L column equals 'W' for a Rays win, and 0 if W/L equals 'L' for a Rays loss.\n",
      "\n",
      "4. Sum the Rays Win column to get the total number of Rays wins for the season.\n",
      "\n",
      "Are you satisfied with this plan?\n"
     ]
    }
   ],
   "source": [
    "task = 'How many games did the Rays win in 2022?' \n",
    "result = baseball_lambda.execute_workflow(task, session_id)\n",
    "print(result)"
   ]
  },
  {
   "cell_type": "code",
   "execution_count": 6,
   "id": "1bbec71d-7470-4c95-9adf-1e677181bac9",
   "metadata": {
    "tags": []
   },
   "outputs": [
    {
     "name": "stdout",
     "output_type": "stream",
     "text": [
      "{'Orchestrate': {'next': 'Revise'}}\n",
      "----\n",
      "{'Revise': {'messages': [HumanMessage(content=' Here is an updated plan for determining how many games the Rays won in 2022 using pybaseball:\\n\\n1. Use the schedule_and_record() function to get the Rays\\' 2022 season schedule and results. Pass in 2022 for the season and \"TBR\" for the Rays team abbreviation.  \\n\\n2. From the schedule_and_record output, filter the dataframe to only include rows where the Home_Away column equals \\'Home\\' or \\'@\\'. This will remove extraneous rows and correctly identify away games.\\n\\n3. Create a new column in the filtered dataframe called \\'Rays Win\\' that indicates whether the Rays won each game. Set to 1 if the W/L column equals \\'W\\' for a Rays win, and 0 if W/L equals \\'L\\' for a Rays loss.  \\n\\n4. Sum the Rays Win column to get the total number of Rays wins for the season.\\n\\nAre you satisfied with this plan?')], 'plan': ' Here is an updated plan for determining how many games the Rays won in 2022 using pybaseball:\\n\\n1. Use the schedule_and_record() function to get the Rays\\' 2022 season schedule and results. Pass in 2022 for the season and \"TBR\" for the Rays team abbreviation.  \\n\\n2. From the schedule_and_record output, filter the dataframe to only include rows where the Home_Away column equals \\'Home\\' or \\'@\\'. This will remove extraneous rows and correctly identify away games.\\n\\n3. Create a new column in the filtered dataframe called \\'Rays Win\\' that indicates whether the Rays won each game. Set to 1 if the W/L column equals \\'W\\' for a Rays win, and 0 if W/L equals \\'L\\' for a Rays loss.  \\n\\n4. Sum the Rays Win column to get the total number of Rays wins for the season.\\n\\nAre you satisfied with this plan?', 'previous_node': 'Revise'}}\n",
      "----\n",
      " Here is an updated plan for determining how many games the Rays won in 2022 using pybaseball:\n",
      "\n",
      "1. Use the schedule_and_record() function to get the Rays' 2022 season schedule and results. Pass in 2022 for the season and \"TBR\" for the Rays team abbreviation.  \n",
      "\n",
      "2. From the schedule_and_record output, filter the dataframe to only include rows where the Home_Away column equals 'Home' or '@'. This will remove extraneous rows and correctly identify away games.\n",
      "\n",
      "3. Create a new column in the filtered dataframe called 'Rays Win' that indicates whether the Rays won each game. Set to 1 if the W/L column equals 'W' for a Rays win, and 0 if W/L equals 'L' for a Rays loss.  \n",
      "\n",
      "4. Sum the Rays Win column to get the total number of Rays wins for the season.\n",
      "\n",
      "Are you satisfied with this plan?\n"
     ]
    }
   ],
   "source": [
    "task = \"away games are identified with '@' not 'Away'\"\n",
    "result = baseball_lambda.execute_workflow(task, session_id)\n",
    "print(result)"
   ]
  },
  {
   "cell_type": "code",
   "execution_count": 7,
   "id": "1332fc28",
   "metadata": {
    "tags": []
   },
   "outputs": [
    {
     "name": "stdout",
     "output_type": "stream",
     "text": [
      "{'Orchestrate': {'next': 'Revise'}}\n",
      "----\n",
      "{'Revise': {'messages': [HumanMessage(content=' Here is an updated plan for determining how many games the Rays won in 2022 using pybaseball:\\n\\n1. Use the schedule_and_record() function to get the Rays\\' 2022 season schedule and results. Pass in 2022 for the season and \"TBR\" for the Rays team abbreviation.\\n\\n2. From the schedule_and_record output, filter the dataframe to only include rows where the Home_Away column equals \\'Home\\' or \\'@\\'. This will remove extraneous rows and correctly identify away games. \\n\\n3. Create a new column in the filtered dataframe called \\'Rays Win\\' that indicates whether the Rays won each game. Set to 1 if the W/L column equals \\'W\\' or \\'W-wo\\' for a Rays win, and 0 if W/L equals \\'L\\' for a Rays loss.\\n\\n4. Sum the Rays Win column to get the total number of Rays wins for the season, including walk-off wins.\\n\\nAre you satisfied with this plan?')], 'plan': ' Here is an updated plan for determining how many games the Rays won in 2022 using pybaseball:\\n\\n1. Use the schedule_and_record() function to get the Rays\\' 2022 season schedule and results. Pass in 2022 for the season and \"TBR\" for the Rays team abbreviation.\\n\\n2. From the schedule_and_record output, filter the dataframe to only include rows where the Home_Away column equals \\'Home\\' or \\'@\\'. This will remove extraneous rows and correctly identify away games. \\n\\n3. Create a new column in the filtered dataframe called \\'Rays Win\\' that indicates whether the Rays won each game. Set to 1 if the W/L column equals \\'W\\' or \\'W-wo\\' for a Rays win, and 0 if W/L equals \\'L\\' for a Rays loss.\\n\\n4. Sum the Rays Win column to get the total number of Rays wins for the season, including walk-off wins.\\n\\nAre you satisfied with this plan?', 'previous_node': 'Revise'}}\n",
      "----\n",
      " Here is an updated plan for determining how many games the Rays won in 2022 using pybaseball:\n",
      "\n",
      "1. Use the schedule_and_record() function to get the Rays' 2022 season schedule and results. Pass in 2022 for the season and \"TBR\" for the Rays team abbreviation.\n",
      "\n",
      "2. From the schedule_and_record output, filter the dataframe to only include rows where the Home_Away column equals 'Home' or '@'. This will remove extraneous rows and correctly identify away games. \n",
      "\n",
      "3. Create a new column in the filtered dataframe called 'Rays Win' that indicates whether the Rays won each game. Set to 1 if the W/L column equals 'W' or 'W-wo' for a Rays win, and 0 if W/L equals 'L' for a Rays loss.\n",
      "\n",
      "4. Sum the Rays Win column to get the total number of Rays wins for the season, including walk-off wins.\n",
      "\n",
      "Are you satisfied with this plan?\n"
     ]
    }
   ],
   "source": [
    "task = \"be sure to also count walk-off wins labeled as 'W-wo' in the 'W/L' column\"\n",
    "result = baseball_lambda.execute_workflow(task, session_id)\n",
    "print(result)"
   ]
  },
  {
   "cell_type": "code",
   "execution_count": 8,
   "id": "8c9e31b6",
   "metadata": {
    "tags": []
   },
   "outputs": [
    {
     "name": "stdout",
     "output_type": "stream",
     "text": [
      "{'Orchestrate': {'next': 'Convert'}}\n",
      "----\n",
      "{'Convert': {'code': '\\nimport pandas as pd\\nfrom pybaseball import schedule_and_record\\n\\n# 1. Get Rays 2022 schedule data\\nrays_2022 = schedule_and_record(2022, \"TBR\")\\n\\n# 2. Filter for home and away games\\nrays_2022 = rays_2022[(rays_2022.Home_Away == \"Home\") | (rays_2022.Home_Away == \"@\")]\\n\\n# 3. Add column indicating whether Rays won\\nrays_2022[\"Rays Win\"] = rays_2022.WL.apply(lambda x: 1 if x in [\"W\", \"W-wo\"] else 0)\\n\\n# 4. Sum Rays Win column to get total wins \\nrays_wins = rays_2022[\"Rays Win\"].sum()\\n\\nprint(f\"The Tampa Bay Rays won {rays_wins} games in 2022\")\\n'}}\n",
      "----\n",
      "Executing: \n",
      "import pandas as pd\n",
      "from pybaseball import schedule_and_record\n",
      "Executing: # 1. Get Rays 2022 schedule data\n",
      "rays_2022 = schedule_and_record(2022, \"TBR\")\n",
      "Result: http://www.baseball-reference.com/teams/TBR/2022-schedule-scores.shtml\n",
      "\n",
      "Executing: # 2. Filter for home and away games\n",
      "rays_2022 = rays_2022[(rays_2022.Home_Away == \"Home\") | (rays_2022.Home_Away == \"@\")]\n",
      "Executing: # 3. Add column indicating whether Rays won\n",
      "rays_2022[\"Rays Win\"] = rays_2022.WL.apply(lambda x: 1 if x in [\"W\", \"W-wo\"] else 0)\n",
      "Result: AttributeError(\"'DataFrame' object has no attribute 'WL'\")\n",
      "Executing: \n",
      "# 3. Add column indicating whether Rays won\n",
      "rays_2022[\"Rays Win\"] = rays_2022[\"W/L\"].apply(lambda x: 1 if x in [\"W\", \"W-wo\"] else 0)\n",
      "\n",
      "Executing: # 4. Sum Rays Win column to get total wins \n",
      "rays_wins = rays_2022[\"Rays Win\"].sum()\n",
      "Executing: print(f\"The Tampa Bay Rays won {rays_wins} games in 2022\")\n",
      "\n",
      "Result: The Tampa Bay Rays won 86 games in 2022\n",
      "\n",
      "{'Execute': {'messages': [AIMessage(content='The Tampa Bay Rays won 86 games in 2022\\n\\nHere is the code that was used to reach this solution:\\n```python\\n\\nimport pandas as pd\\nfrom pybaseball import schedule_and_record\\n# 1. Get Rays 2022 schedule data\\nrays_2022 = schedule_and_record(2022, \"TBR\")\\n# 2. Filter for home and away games\\nrays_2022 = rays_2022[(rays_2022.Home_Away == \"Home\") | (rays_2022.Home_Away == \"@\")]\\n\\n# 3. Add column indicating whether Rays won\\nrays_2022[\"Rays Win\"] = rays_2022[\"W/L\"].apply(lambda x: 1 if x in [\"W\", \"W-wo\"] else 0)\\n\\n# 4. Sum Rays Win column to get total wins \\nrays_wins = rays_2022[\"Rays Win\"].sum()\\n```\\n\\nAre you satisfied with this result?')], 'previous_node': 'Execute', 'code': '\\nimport pandas as pd\\nfrom pybaseball import schedule_and_record\\n# 1. Get Rays 2022 schedule data\\nrays_2022 = schedule_and_record(2022, \"TBR\")\\n# 2. Filter for home and away games\\nrays_2022 = rays_2022[(rays_2022.Home_Away == \"Home\") | (rays_2022.Home_Away == \"@\")]\\n\\n# 3. Add column indicating whether Rays won\\nrays_2022[\"Rays Win\"] = rays_2022[\"W/L\"].apply(lambda x: 1 if x in [\"W\", \"W-wo\"] else 0)\\n\\n# 4. Sum Rays Win column to get total wins \\nrays_wins = rays_2022[\"Rays Win\"].sum()\\nprint(f\"The Tampa Bay Rays won {rays_wins} games in 2022\")\\n'}}\n",
      "----\n",
      "The Tampa Bay Rays won 86 games in 2022\n",
      "\n",
      "Here is the code that was used to reach this solution:\n",
      "```python\n",
      "\n",
      "import pandas as pd\n",
      "from pybaseball import schedule_and_record\n",
      "# 1. Get Rays 2022 schedule data\n",
      "rays_2022 = schedule_and_record(2022, \"TBR\")\n",
      "# 2. Filter for home and away games\n",
      "rays_2022 = rays_2022[(rays_2022.Home_Away == \"Home\") | (rays_2022.Home_Away == \"@\")]\n",
      "\n",
      "# 3. Add column indicating whether Rays won\n",
      "rays_2022[\"Rays Win\"] = rays_2022[\"W/L\"].apply(lambda x: 1 if x in [\"W\", \"W-wo\"] else 0)\n",
      "\n",
      "# 4. Sum Rays Win column to get total wins \n",
      "rays_wins = rays_2022[\"Rays Win\"].sum()\n",
      "```\n",
      "\n",
      "Are you satisfied with this result?\n"
     ]
    }
   ],
   "source": [
    "task = 'looks good'\n",
    "result = baseball_lambda.execute_workflow(task, session_id)\n",
    "print(result)"
   ]
  },
  {
   "cell_type": "code",
   "execution_count": 9,
   "id": "6c1ea32a",
   "metadata": {
    "tags": []
   },
   "outputs": [
    {
     "name": "stdout",
     "output_type": "stream",
     "text": [
      "{'Orchestrate': {'next': 'Memorize'}}\n",
      "----\n",
      "{'Memorize': {'messages': [AIMessage(content='Thank you, task has been commited to memory')], 'previous_node': 'Memorize'}}\n",
      "----\n",
      "Thank you, task has been commited to memory\n"
     ]
    }
   ],
   "source": [
    "task = 'yes'\n",
    "result = baseball_lambda.execute_workflow(task, session_id)\n",
    "print(result)"
   ]
  },
  {
   "cell_type": "code",
   "execution_count": null,
   "id": "8f96754f",
   "metadata": {},
   "outputs": [],
   "source": []
  }
 ],
 "metadata": {
  "kernelspec": {
   "display_name": "conda_python3",
   "language": "python",
   "name": "conda_python3"
  },
  "language_info": {
   "codemirror_mode": {
    "name": "ipython",
    "version": 3
   },
   "file_extension": ".py",
   "mimetype": "text/x-python",
   "name": "python",
   "nbconvert_exporter": "python",
   "pygments_lexer": "ipython3",
   "version": "3.10.13"
  }
 },
 "nbformat": 4,
 "nbformat_minor": 5
}
