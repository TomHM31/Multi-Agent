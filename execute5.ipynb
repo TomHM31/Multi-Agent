{
 "cells": [
  {
   "cell_type": "code",
   "execution_count": 1,
   "metadata": {},
   "outputs": [
    {
     "name": "stderr",
     "output_type": "stream",
     "text": [
      "Python REPL can execute arbitrary code. Use with caution.\n"
     ]
    },
    {
     "data": {
      "text/plain": [
       "''"
      ]
     },
     "execution_count": 1,
     "metadata": {},
     "output_type": "execute_result"
    }
   ],
   "source": [
    "from langchain_experimental.tools import PythonREPLTool\n",
    "import text\n",
    "\n",
    "# define python repl\n",
    "python_repl = PythonREPLTool()\n",
    "\n",
    "# initiate python_repl to ignore warnings\n",
    "python_repl.invoke('import warnings\\nwarnings.simplefilter(\"ignore\")')"
   ]
  },
  {
   "cell_type": "code",
   "execution_count": 2,
   "metadata": {},
   "outputs": [],
   "source": [
    "from dotenv import load_dotenv, find_dotenv\n",
    "import re\n",
    "\n",
    "from langchain_core.messages import HumanMessage, AIMessage\n",
    "from langchain_core.prompts import ChatPromptTemplate, MessagesPlaceholder\n",
    "from langchain_core.runnables import RunnableLambda\n",
    "from langchain_community.chat_models import BedrockChat\n",
    "\n",
    "# read local .env file\n",
    "_ = load_dotenv(find_dotenv()) \n",
    "\n",
    "# define language model\n",
    "model_id = 'anthropic.claude-3-sonnet-20240229-v1:0'\n",
    "#model_id = 'anthropic.claude-3-haiku-20240307-v1:0'\n",
    "llm = BedrockChat(model_id=model_id, model_kwargs={'temperature': 0})\n",
    "\n",
    "# set a distance threshold for when to create a new plan vs modify an existing plan\n",
    "threshold = .5\n",
    "\n",
    "\n",
    "def extract_text_between_markers(text):\n",
    "    '''Helper function to extract code'''\n",
    "    start_marker = '```python'\n",
    "    end_marker = '```'\n",
    "\n",
    "    pattern = re.compile(f'{re.escape(start_marker)}(.*?){re.escape(end_marker)}', re.DOTALL)\n",
    "    matches = pattern.findall(text.content)\n",
    "    return matches[0]\n",
    "\n",
    "\n",
    "CONVERT_SYSTEM_PROMPT = '''<instructions>You are a highly skilled Python programmer.  Your goal is to help a user execute a plan by writing code for a Python REPL.</instructions>\n",
    "\n",
    "Text between the <function_detail></function_detail> tags is documentation on the functions in use.  Do not attempt to use any feature that is not explicitly listed in the data dictionary for that function.\n",
    "<function_detail> \n",
    "{function_detail}\n",
    "</function_detail>\n",
    "\n",
    "Text between the <task></task> tags is the goal of the plan.\n",
    "<task>\n",
    "{task}\n",
    "</task>\n",
    "\n",
    "Text between the <plan></plan> tags is the entire plan that will be executed.\n",
    "<plan>\n",
    "{plan}\n",
    "</plan>\n",
    "\n",
    "Text between the <rules></rules> tags are rules that must be followed.\n",
    "<rules>\n",
    "1. Import all necessary libraries at the start of your code.\n",
    "2. Always assign the result of a pybaseball function call to a variable.\n",
    "3. When writing code for the last step in the plan, always use print() to write a detailed summary of the results.\n",
    "4. Never write functions\n",
    "5. Return all python code between three tick marks like this:\n",
    "```python\n",
    "python code goes here\n",
    "```\n",
    "6. Comment your code liberally to be clear about what is happening and why.\n",
    "</rules>\n",
    "'''"
   ]
  },
  {
   "cell_type": "code",
   "execution_count": 3,
   "metadata": {},
   "outputs": [],
   "source": [
    "convert_prompt_template = ChatPromptTemplate.from_messages([\n",
    "    (\"system\", CONVERT_SYSTEM_PROMPT),\n",
    "    MessagesPlaceholder(variable_name=\"messages\"), \n",
    "]).partial(function_detail=text.function_detail, task=text.task, plan=text.plan)\n",
    "\n",
    "convert_chain = convert_prompt_template | llm | RunnableLambda(extract_text_between_markers)\n",
    "\n",
    "convert_message = 'Convert the next step of the plan into code that can be executed in a Python REPL.'\n",
    "\n",
    "messages = [HumanMessage(content=convert_message)]\n",
    "\n",
    "# invoke convert chain\n",
    "code = convert_chain.invoke({'messages':messages}) "
   ]
  },
  {
   "cell_type": "code",
   "execution_count": 4,
   "metadata": {},
   "outputs": [
    {
     "name": "stdout",
     "output_type": "stream",
     "text": [
      "\n",
      "# Import necessary libraries\n",
      "from pybaseball import statcast\n",
      "import pandas as pd\n",
      "\n",
      "# Get all pitch data from 2020-08-01 to 2020-08-07\n",
      "all_pitches = statcast('2020-08-01', '2020-08-07')\n",
      "\n"
     ]
    }
   ],
   "source": [
    "print(code)"
   ]
  },
  {
   "cell_type": "code",
   "execution_count": 5,
   "metadata": {},
   "outputs": [
    {
     "name": "stderr",
     "output_type": "stream",
     "text": [
      "100%|██████████| 7/7 [00:04<00:00,  1.62it/s]\n"
     ]
    }
   ],
   "source": [
    "result = python_repl.invoke(code)"
   ]
  },
  {
   "cell_type": "code",
   "execution_count": 6,
   "metadata": {},
   "outputs": [
    {
     "data": {
      "text/plain": [
       "'This is a large query, it may take a moment to complete\\n'"
      ]
     },
     "execution_count": 6,
     "metadata": {},
     "output_type": "execute_result"
    }
   ],
   "source": [
    "result"
   ]
  },
  {
   "cell_type": "code",
   "execution_count": 7,
   "metadata": {},
   "outputs": [
    {
     "data": {
      "text/plain": [
       "'\\nstep = \"\"\"2. Filter for just curveballs:\\nall_curves = all_pitches[all_pitches[\\'pitch_type\\'] == \\'CU\\']\"\"\"\\n'"
      ]
     },
     "execution_count": 7,
     "metadata": {},
     "output_type": "execute_result"
    }
   ],
   "source": [
    "'''\n",
    "step = \"\"\"2. Filter for just curveballs:\n",
    "all_curves = all_pitches[all_pitches['pitch_type'] == 'CU']\"\"\"\n",
    "'''"
   ]
  },
  {
   "cell_type": "code",
   "execution_count": 8,
   "metadata": {},
   "outputs": [],
   "source": [
    "messages.append(AIMessage(content=f'The previous step completed successfully with the following code:\\n\\n```python\\n{code}\\n```\\n\\nHere was the result: {result}'))\n",
    "messages.append(HumanMessage(content=convert_message))\n",
    "\n",
    "# invoke convert chain\n",
    "code = convert_chain.invoke({'messages':messages}) "
   ]
  },
  {
   "cell_type": "code",
   "execution_count": 9,
   "metadata": {},
   "outputs": [
    {
     "name": "stdout",
     "output_type": "stream",
     "text": [
      "\n",
      "# Filter for just curveballs\n",
      "all_curves = all_pitches[all_pitches['pitch_type'] == 'CU']\n",
      "\n"
     ]
    }
   ],
   "source": [
    "print(code)"
   ]
  },
  {
   "cell_type": "code",
   "execution_count": 10,
   "metadata": {},
   "outputs": [],
   "source": [
    "result = python_repl.invoke(code)"
   ]
  },
  {
   "cell_type": "code",
   "execution_count": 11,
   "metadata": {},
   "outputs": [
    {
     "name": "stdout",
     "output_type": "stream",
     "text": [
      "\n"
     ]
    }
   ],
   "source": [
    "print(result)"
   ]
  },
  {
   "cell_type": "code",
   "execution_count": 12,
   "metadata": {},
   "outputs": [],
   "source": [
    "messages.append(AIMessage(content=f'The previous step completed successfully with the following code:\\n\\n```python\\n{code}\\n```\\n\\nHere was the result: {result}'))\n",
    "messages.append(HumanMessage(content=convert_message))\n",
    "\n",
    "# invoke convert chain\n",
    "code = convert_chain.invoke({'messages':messages}) "
   ]
  },
  {
   "cell_type": "code",
   "execution_count": 13,
   "metadata": {},
   "outputs": [
    {
     "name": "stdout",
     "output_type": "stream",
     "text": [
      "\n",
      "# Create a feature vector for each pitcher's curveballs\n",
      "pitcher_curves = all_curves.groupby('pitcher')\n",
      "pitcher_features = pitcher_curves[['release_speed', 'release_spin', 'pfx_x', 'pfx_z']].mean().reset_index()\n",
      "\n"
     ]
    }
   ],
   "source": [
    "print(code)"
   ]
  },
  {
   "cell_type": "code",
   "execution_count": 14,
   "metadata": {},
   "outputs": [],
   "source": [
    "result = python_repl.invoke(code)"
   ]
  },
  {
   "cell_type": "code",
   "execution_count": 15,
   "metadata": {},
   "outputs": [
    {
     "data": {
      "text/plain": [
       "'KeyError(\"Columns not found: \\'release_spin\\'\")'"
      ]
     },
     "execution_count": 15,
     "metadata": {},
     "output_type": "execute_result"
    }
   ],
   "source": [
    "result"
   ]
  },
  {
   "cell_type": "code",
   "execution_count": 16,
   "metadata": {},
   "outputs": [],
   "source": [
    "messages.append(AIMessage(content=f'The previous step reached an error with the following code:\\n\\n```python\\n{code}\\n```\\n\\nHere was the error: {result}'))\n",
    "messages.append(HumanMessage(content=f'What information would be useful in order to troubleshoot this error?  Write Python code that can be executed in a python repl to confirm this information.'))\n",
    "\n",
    "# invoke convert chain\n",
    "code = convert_chain.invoke({'messages':messages}) "
   ]
  },
  {
   "cell_type": "code",
   "execution_count": 17,
   "metadata": {},
   "outputs": [
    {
     "name": "stdout",
     "output_type": "stream",
     "text": [
      "\n",
      "print(all_curves.columns)\n",
      "\n"
     ]
    }
   ],
   "source": [
    "print(code)"
   ]
  },
  {
   "cell_type": "code",
   "execution_count": 18,
   "metadata": {},
   "outputs": [],
   "source": [
    "result = python_repl.invoke(code)"
   ]
  },
  {
   "cell_type": "code",
   "execution_count": 19,
   "metadata": {},
   "outputs": [
    {
     "name": "stdout",
     "output_type": "stream",
     "text": [
      "Index(['pitch_type', 'game_date', 'release_speed', 'release_pos_x',\n",
      "       'release_pos_z', 'player_name', 'batter', 'pitcher', 'events',\n",
      "       'description', 'spin_dir', 'spin_rate_deprecated',\n",
      "       'break_angle_deprecated', 'break_length_deprecated', 'zone', 'des',\n",
      "       'game_type', 'stand', 'p_throws', 'home_team', 'away_team', 'type',\n",
      "       'hit_location', 'bb_type', 'balls', 'strikes', 'game_year', 'pfx_x',\n",
      "       'pfx_z', 'plate_x', 'plate_z', 'on_3b', 'on_2b', 'on_1b',\n",
      "       'outs_when_up', 'inning', 'inning_topbot', 'hc_x', 'hc_y',\n",
      "       'tfs_deprecated', 'tfs_zulu_deprecated', 'fielder_2', 'umpire', 'sv_id',\n",
      "       'vx0', 'vy0', 'vz0', 'ax', 'ay', 'az', 'sz_top', 'sz_bot',\n",
      "       'hit_distance_sc', 'launch_speed', 'launch_angle', 'effective_speed',\n",
      "       'release_spin_rate', 'release_extension', 'game_pk', 'pitcher.1',\n",
      "       'fielder_2.1', 'fielder_3', 'fielder_4', 'fielder_5', 'fielder_6',\n",
      "       'fielder_7', 'fielder_8', 'fielder_9', 'release_pos_y',\n",
      "       'estimated_ba_using_speedangle', 'estimated_woba_using_speedangle',\n",
      "       'woba_value', 'woba_denom', 'babip_value', 'iso_value',\n",
      "       'launch_speed_angle', 'at_bat_number', 'pitch_number', 'pitch_name',\n",
      "       'home_score', 'away_score', 'bat_score', 'fld_score', 'post_away_score',\n",
      "       'post_home_score', 'post_bat_score', 'post_fld_score',\n",
      "       'if_fielding_alignment', 'of_fielding_alignment', 'spin_axis',\n",
      "       'delta_home_win_exp', 'delta_run_exp'],\n",
      "      dtype='object')\n",
      "\n"
     ]
    }
   ],
   "source": [
    "print(result)"
   ]
  },
  {
   "cell_type": "code",
   "execution_count": 20,
   "metadata": {},
   "outputs": [],
   "source": [
    "messages.append(AIMessage(content=f'The following code was executed to help troubleshoot this error:\\n\\n```python\\n{code}\\n```\\n\\nHere is the result:\\n\\n{result}'))\n",
    "messages.append(HumanMessage(content=convert_message))\n",
    "\n",
    "# invoke convert chain\n",
    "code = convert_chain.invoke({'messages':messages}) "
   ]
  },
  {
   "cell_type": "code",
   "execution_count": 21,
   "metadata": {},
   "outputs": [
    {
     "name": "stdout",
     "output_type": "stream",
     "text": [
      "\n",
      "# Create a feature vector for each pitcher's curveballs \n",
      "pitcher_curves = all_curves.groupby('pitcher')\n",
      "pitcher_features = pitcher_curves[['release_speed', 'release_spin_rate', 'pfx_x', 'pfx_z']].mean().reset_index()\n",
      "\n"
     ]
    }
   ],
   "source": [
    "print(code)"
   ]
  },
  {
   "cell_type": "code",
   "execution_count": 22,
   "metadata": {},
   "outputs": [],
   "source": [
    "result = python_repl.invoke(code)"
   ]
  },
  {
   "cell_type": "code",
   "execution_count": 23,
   "metadata": {},
   "outputs": [
    {
     "name": "stdout",
     "output_type": "stream",
     "text": [
      "\n"
     ]
    }
   ],
   "source": [
    "print(result)"
   ]
  },
  {
   "cell_type": "code",
   "execution_count": 24,
   "metadata": {},
   "outputs": [],
   "source": [
    "messages.append(AIMessage(content=f'The previous step completed successfully with the following code:\\n\\n```python\\n{code}\\n```\\n\\nHere was the result: {result}'))\n",
    "messages.append(HumanMessage(content=convert_message))\n",
    "\n",
    "# invoke convert chain\n",
    "code = convert_chain.invoke({'messages':messages}) "
   ]
  },
  {
   "cell_type": "code",
   "execution_count": 25,
   "metadata": {},
   "outputs": [
    {
     "name": "stdout",
     "output_type": "stream",
     "text": [
      "\n",
      "# Import necessary libraries\n",
      "from pybaseball import playerid_lookup\n",
      "\n",
      "# Get Max Scherzer's player ID\n",
      "scherzer_id = playerid_lookup('scherzer', 'max')['key_mlbam'][0]\n",
      "\n"
     ]
    }
   ],
   "source": [
    "print(code)"
   ]
  },
  {
   "cell_type": "code",
   "execution_count": 26,
   "metadata": {},
   "outputs": [],
   "source": [
    "result = python_repl.invoke(code)"
   ]
  },
  {
   "cell_type": "code",
   "execution_count": 27,
   "metadata": {},
   "outputs": [
    {
     "name": "stdout",
     "output_type": "stream",
     "text": [
      "Gathering player lookup table. This may take a moment.\n",
      "\n"
     ]
    }
   ],
   "source": [
    "print(result)"
   ]
  },
  {
   "cell_type": "code",
   "execution_count": 28,
   "metadata": {},
   "outputs": [],
   "source": [
    "messages.append(AIMessage(content=f'The previous step completed successfully with the following code:\\n\\n```python\\n{code}\\n```\\n\\nHere was the result: {result}'))\n",
    "messages.append(HumanMessage(content=convert_message))\n",
    "\n",
    "# invoke convert chain\n",
    "code = convert_chain.invoke({'messages':messages}) "
   ]
  },
  {
   "cell_type": "code",
   "execution_count": 29,
   "metadata": {},
   "outputs": [
    {
     "name": "stdout",
     "output_type": "stream",
     "text": [
      "\n",
      "\n",
      "# Get Scherzer's feature vector\n",
      "scherzer_features = pitcher_features[pitcher_features['pitcher'] == scherzer_id]\n",
      "\n",
      "\n"
     ]
    }
   ],
   "source": [
    "print(code)"
   ]
  },
  {
   "cell_type": "code",
   "execution_count": 30,
   "metadata": {},
   "outputs": [],
   "source": [
    "result = python_repl.invoke(code)"
   ]
  },
  {
   "cell_type": "code",
   "execution_count": 31,
   "metadata": {},
   "outputs": [
    {
     "name": "stdout",
     "output_type": "stream",
     "text": [
      "\n"
     ]
    }
   ],
   "source": [
    "print(result)"
   ]
  },
  {
   "cell_type": "code",
   "execution_count": 32,
   "metadata": {},
   "outputs": [],
   "source": [
    "messages.append(AIMessage(content=f'The previous step completed successfully with the following code:\\n\\n```python\\n{code}\\n```\\n\\nHere was the result: {result}'))\n",
    "messages.append(HumanMessage(content=convert_message))\n",
    "\n",
    "# invoke convert chain\n",
    "code = convert_chain.invoke({'messages':messages}) "
   ]
  },
  {
   "cell_type": "code",
   "execution_count": 33,
   "metadata": {},
   "outputs": [
    {
     "name": "stdout",
     "output_type": "stream",
     "text": [
      "\n",
      "# Import scikit-learn and create a knn model\n",
      "from sklearn.neighbors import NearestNeighbors\n",
      "knn = NearestNeighbors(n_neighbors=4)\n",
      "knn.fit(pitcher_features[['release_speed', 'release_spin_rate', 'pfx_x', 'pfx_z']])\n",
      "\n"
     ]
    }
   ],
   "source": [
    "print(code)"
   ]
  },
  {
   "cell_type": "code",
   "execution_count": 34,
   "metadata": {},
   "outputs": [],
   "source": [
    "result = python_repl.invoke(code)"
   ]
  },
  {
   "cell_type": "code",
   "execution_count": 35,
   "metadata": {},
   "outputs": [
    {
     "name": "stdout",
     "output_type": "stream",
     "text": [
      "\n"
     ]
    }
   ],
   "source": [
    "print(result)"
   ]
  },
  {
   "cell_type": "code",
   "execution_count": 36,
   "metadata": {},
   "outputs": [],
   "source": [
    "messages.append(AIMessage(content=f'The previous step completed successfully with the following code:\\n\\n```python\\n{code}\\n```\\n\\nHere was the result: {result}'))\n",
    "messages.append(HumanMessage(content=convert_message))\n",
    "\n",
    "# invoke convert chain\n",
    "code = convert_chain.invoke({'messages':messages}) "
   ]
  },
  {
   "cell_type": "code",
   "execution_count": 37,
   "metadata": {},
   "outputs": [
    {
     "name": "stdout",
     "output_type": "stream",
     "text": [
      "\n",
      "\n",
      "# Find the 3 pitchers closest to Scherzer\n",
      "distances, indices = knn.kneighbors(scherzer_features[['release_speed', 'release_spin_rate', 'pfx_x', 'pfx_z']])\n",
      "closest_indices = indices[0][1:4]\n",
      "similar_pitchers = pitcher_features.iloc[closest_indices]\n",
      "\n",
      "\n"
     ]
    }
   ],
   "source": [
    "print(code)"
   ]
  },
  {
   "cell_type": "code",
   "execution_count": 38,
   "metadata": {},
   "outputs": [],
   "source": [
    "result = python_repl.invoke(code)"
   ]
  },
  {
   "cell_type": "code",
   "execution_count": 40,
   "metadata": {},
   "outputs": [
    {
     "name": "stdout",
     "output_type": "stream",
     "text": [
      "\n"
     ]
    }
   ],
   "source": [
    "print(result)"
   ]
  },
  {
   "cell_type": "code",
   "execution_count": 42,
   "metadata": {},
   "outputs": [],
   "source": [
    "result = python_repl.invoke('print(similar_pitchers)')"
   ]
  },
  {
   "cell_type": "code",
   "execution_count": 43,
   "metadata": {},
   "outputs": [
    {
     "name": "stdout",
     "output_type": "stream",
     "text": [
      "     pitcher  release_speed  release_spin_rate     pfx_x     pfx_z\n",
      "85    593833          74.55             2866.0     1.105     -1.01\n",
      "199   664285      80.103333        2865.466667 -1.099333 -1.139333\n",
      "122   608331      75.194118        2853.058824 -0.944118 -1.347647\n",
      "\n"
     ]
    }
   ],
   "source": [
    "print(result)"
   ]
  },
  {
   "cell_type": "code",
   "execution_count": null,
   "metadata": {},
   "outputs": [],
   "source": []
  }
 ],
 "metadata": {
  "kernelspec": {
   "display_name": "venv",
   "language": "python",
   "name": "python3"
  },
  "language_info": {
   "codemirror_mode": {
    "name": "ipython",
    "version": 3
   },
   "file_extension": ".py",
   "mimetype": "text/x-python",
   "name": "python",
   "nbconvert_exporter": "python",
   "pygments_lexer": "ipython3",
   "version": "3.10.8"
  }
 },
 "nbformat": 4,
 "nbformat_minor": 2
}
