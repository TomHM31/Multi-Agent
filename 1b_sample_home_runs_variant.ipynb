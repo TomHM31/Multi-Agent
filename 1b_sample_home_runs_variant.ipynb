{
 "cells": [
  {
   "cell_type": "code",
   "execution_count": 1,
   "id": "7c01b355-66d2-40e0-92a4-c4553a8d2edd",
   "metadata": {
    "tags": []
   },
   "outputs": [
    {
     "name": "stderr",
     "output_type": "stream",
     "text": [
      "/Users/rosclay/Documents/VSCode/langgraph-multi-agent/venv/lib/python3.10/site-packages/langchain_core/_api/beta_decorator.py:87: LangChainBetaWarning: The function `bind_tools` is in beta. It is actively being worked on, so the API may change.\n",
      "  warn_beta(\n",
      "Python REPL can execute arbitrary code. Use with caution.\n"
     ]
    }
   ],
   "source": [
    "# general\n",
    "from datetime import datetime\n",
    "from dotenv import load_dotenv, find_dotenv\n",
    "import os\n",
    "\n",
    "# custom local libs\n",
    "from function import baseball_lambda"
   ]
  },
  {
   "cell_type": "code",
   "execution_count": 2,
   "id": "7a2a54ab",
   "metadata": {
    "tags": []
   },
   "outputs": [],
   "source": [
    "# read local .env file\n",
    "_ = load_dotenv(find_dotenv()) "
   ]
  },
  {
   "cell_type": "code",
   "execution_count": 3,
   "id": "12b6af87",
   "metadata": {
    "tags": []
   },
   "outputs": [],
   "source": [
    "# set Langsmith project\n",
    "today = datetime.now().strftime(\"%Y%m%d\")\n",
    "os.environ[\"LANGCHAIN_PROJECT\"] = f\"Baseball Homeruns - {today}\""
   ]
  },
  {
   "cell_type": "code",
   "execution_count": 4,
   "id": "a9ed0aff",
   "metadata": {
    "tags": []
   },
   "outputs": [],
   "source": [
    "session_id = '543108'"
   ]
  },
  {
   "cell_type": "code",
   "execution_count": 5,
   "id": "024b632a",
   "metadata": {
    "tags": []
   },
   "outputs": [
    {
     "name": "stdout",
     "output_type": "stream",
     "text": [
      "{'Orchestrate': {'next': 'Retrieve'}}\n",
      "----\n",
      "Distance to neareast plan: 0.4730713367462158\n",
      "{'Retrieve': {'messages': [HumanMessage(content='How many doubles did Whit Merrifield hit in 2019?', name='User')], 'session_id': '543108', 'previous_node': 'Retrieve', 'next': 'Modify', 'plan': None, 'task': 'How many doubles did Whit Merrifield hit in 2019?', 'code': None, 'function_detail': 'Text between the <statcast_batter_documentation></statcast_batter_documentation> tags is documentation for the statcast_batter library.  Consult this section to confirm which attributes to pass into the statcast_batter library.\\n<statcast_batter_documentation>\\n# Statcast Batter\\n`statcast_batter(start_dt=[yesterday\\'s date], end_dt=None, player_id)`\\n\\nThe statcast function retrieves pitch-level statcast data for a given date or range or dates. \\n\\n## Arguments\\n`start_dt:` first day for which you want to retrieve data. Defaults to yesterday\\'s date if nothing is entered. If you only want data for one date, supply a `start_dt` value but not an `end_dt` value. Format: YYYY-MM-DD. \\n\\n`end_dt:` last day for which you want to retrieve data. Defaults to None. If you want to retrieve data for more than one day, both a `start_dt` and `end_dt` value must be given. Format: YYYY-MM-DD. \\n\\n`player_id:` MLBAM player ID for the player you want to retrieve data for. To find a player\\'s MLBAM ID, see the function [playerid_lookup](http://github.com/jldbc/pybaseball/docs/playerid_lookup.md) or the examples below. \\n\\n### A note on data availability \\nThe earliest available statcast data comes from the 2008 season when the system was first introduced to Major League Baseball. Queries before this year will not work. Further, some features were introduced after the 2008 season. Launch speed angle, for example, is only available from the 2015 season forward. \\n\\n## Examples of valid queries\\n\\n```python\\nfrom pybaseball import statcast_batter\\nfrom pybaseball import playerid_lookup\\n\\n# find David Ortiz\\'s player id (mlbam_key)\\nplayerid_lookup(\\'ortiz\\',\\'david\\')\\n\\n# get all available data\\ndata = statcast_batter(\\'2008-04-01\\', \\'2017-07-15\\', player_id = 120074)\\n\\n# get data for August 16th, 2014\\ndata = statcast_batter(\\'2014-08-16\\', player_id = 120074)\\n```\\n\\n</statcast_batter_documentation>\\nText between the <playerid_lookup_documentation></playerid_lookup_documentation> tags is documentation for the playerid_lookup library.  Consult this section to confirm which attributes to pass into the playerid_lookup library.\\n<playerid_lookup_documentation>\\n# Player ID Lookup\\n\\n## Single Player Lookup\\n\\n`playerid_lookup(last, first=None, fuzzy=False)`\\n\\nLook up a player\\'s MLBAM, Retrosheet, FanGraphs, and Baseball Reference ID by name.\\n\\n## Arguments\\n`last:` String. The player\\'s last name. Case insensitive.\\n\\n`first:` String. Optional. The player\\'s first name. Case insensitive.\\n\\n`fuzzy:` Boolean. Optional. Search for inexact name matches, the 5 closest will be returned.\\n\\nProviding last name only will return all available id data for players with that last name (this will return several rows for a common last name like Jones, for example.) If multiple players exist for a (last name, first name) pair, you can figure out who\\'s who by seeing their first and last years of play in the fields `mlb_played_first` and `mlb_played_last`.\\n\\nThis data comes from Chadwick Bureau, meaning that there are several people in this data who are not MLB players. For this reason, supplying both last and first name is recommended to narrow your search. \\n\\n## Examples of valid queries\\n\\n```python\\nfrom pybaseball import playerid_lookup\\n\\n# find the ids of all players with last name Jones (returns 1,314 rows)\\ndata = playerid_lookup(\\'jones\\')\\n\\n# only return the ids of chipper jones (returns one row)\\ndata = playerid_lookup(\\'jones\\',\\'chipper\\')\\n\\n# Will return all players named Pedro Martinez (returns *2* rows)\\ndata = playerid_lookup(\"martinez\", \"pedro\", fuzzy=True)\\n\\n# Will return the 5 closest names to \"yadi molina\" (returns 5 rows)\\n# First row will be Yadier Molina\\ndata = playerid_lookup(\"molina\", \"yadi\", fuzzy=True)\\n```\\n\\n## List Lookup\\n\\n`player_search_list(player_list)`\\n\\nLook up a list of player ID\\'s by name, return a data frame of all players\\n\\n`player_list:` List. A list of tuples, of the form `(last, first)`. Case Insensitive.\\n\\nSources are the same as those used in the above `playerid_lookup` function. Queries for this function must be exact name matches.\\n\\n## Examples of valid queries\\n\\n```python\\n\\nfrom pybaseball import player_search_list\\n\\n# Will return the ids for both Lou Brock and Chipper Jones (returns 2 rows)\\ndata = player_search_list([(\"brock\",\"lou\"), (\"jones\",\"chipper\")])\\n\\n```\\n</playerid_lookup_documentation>\\n', 'nearest_task': 'How many home runs did Derek Jeter hit in 2008?', 'nearest_plan': '1. Import the statcast_batter and playerid_lookup functions from pybaseball, as well as datetime for date handling:\\n\\n```python\\nfrom pybaseball import statcast_batter, playerid_lookup \\nfrom datetime import datetime\\n```\\n\\n2. Look up Derek Jeter\\'s MLBAM player ID:\\n\\n```python\\njeter_id = playerid_lookup(\\'jeter\\', \\'derek\\')\\njeter_mlbam_id = jeter_id.loc[0,\\'key_mlbam\\'] \\n```\\n\\n3. Get Derek Jeter\\'s statcast batting data for the 2008 season. Convert the start and end dates to datetime objects: \\n\\n```python\\nstart_date = datetime(2008, 1, 1)\\nend_date = datetime(2008, 12, 31)\\njeter_2008_data = statcast_batter(start_date, end_date, player_id=jeter_mlbam_id)\\n```\\n\\n4. Filter to just home runs and count the number of rows:\\n\\n```python\\njeter_2008_hr = jeter_2008_data[jeter_2008_data[\\'events\\'] == \\'home_run\\'] \\nhr_count = len(jeter_2008_hr)\\nprint(f\"Derek Jeter hit {hr_count} home runs in the 2008 season.\")  \\n```\\n\\nAre you satisfied with this plan?', 'nearest_code': '# 1. Import necessary libraries\\nfrom pybaseball import statcast_batter, playerid_lookup\\nfrom datetime import datetime\\n# 2. Look up Derek Jeter\\'s player ID \\njeter_id = playerid_lookup(\\'jeter\\', \\'derek\\')\\njeter_mlbam_id = jeter_id.loc[0,\\'key_mlbam\\']\\nprint(f\"Derek Jeter\\'s MLBAM ID is: {jeter_mlbam_id}\")\\n# 3. Get Derek Jeter\\'s 2008 batting data  \\nstart_date = datetime(2008, 1, 1).strftime(\\'%Y-%m-%d\\')\\nend_date = datetime(2008, 12, 31).strftime(\\'%Y-%m-%d\\') \\njeter_2008_data = statcast_batter(start_date, end_date, player_id=jeter_mlbam_id)\\n# 4. Filter to home runs and count\\njeter_2008_hr = jeter_2008_data[jeter_2008_data[\\'events\\'] == \\'home_run\\']  \\nhr_count = len(jeter_2008_hr)\\nprint(f\"Derek Jeter hit {hr_count} home runs in the 2008 season.\")', 'known_plan': True}}\n",
      "----\n",
      "Modifying nearest plan with User input\n",
      "{'Modify': {'messages': [HumanMessage(content='How many doubles did Whit Merrifield hit in 2019?', name='User'), AIMessage(content='1. Import the statcast_batter and playerid_lookup functions from pybaseball, as well as datetime for date handling:\\n\\n```python\\nfrom pybaseball import statcast_batter, playerid_lookup\\nfrom datetime import datetime\\n```\\n\\n2. Look up Whit Merrifield\\'s MLBAM player ID:\\n\\n```python\\nmerrifield_id = playerid_lookup(\\'merrifield\\', \\'whit\\')\\nmerrifield_mlbam_id = merrifield_id.loc[0,\\'key_mlbam\\']\\n```\\n\\n3. Get Whit Merrifield\\'s statcast batting data for the 2019 season. Convert the start and end dates to datetime objects:\\n\\n```python\\nstart_date = datetime(2019, 1, 1)\\nend_date = datetime(2019, 12, 31)\\nmerrifield_2019_data = statcast_batter(start_date, end_date, player_id=merrifield_mlbam_id)\\n```\\n\\n4. Filter to just doubles and count the number of rows:\\n\\n```python\\nmerrifield_2019_doubles = merrifield_2019_data[merrifield_2019_data[\\'events\\'] == \\'double\\']\\ndoubles_count = len(merrifield_2019_doubles)\\nprint(f\"Whit Merrifield hit {doubles_count} doubles in the 2019 season.\")\\n```')], 'session_id': '543108', 'previous_node': 'Modify', 'next': 'Modify', 'plan': '1. Import the statcast_batter and playerid_lookup functions from pybaseball, as well as datetime for date handling:\\n\\n```python\\nfrom pybaseball import statcast_batter, playerid_lookup\\nfrom datetime import datetime\\n```\\n\\n2. Look up Whit Merrifield\\'s MLBAM player ID:\\n\\n```python\\nmerrifield_id = playerid_lookup(\\'merrifield\\', \\'whit\\')\\nmerrifield_mlbam_id = merrifield_id.loc[0,\\'key_mlbam\\']\\n```\\n\\n3. Get Whit Merrifield\\'s statcast batting data for the 2019 season. Convert the start and end dates to datetime objects:\\n\\n```python\\nstart_date = datetime(2019, 1, 1)\\nend_date = datetime(2019, 12, 31)\\nmerrifield_2019_data = statcast_batter(start_date, end_date, player_id=merrifield_mlbam_id)\\n```\\n\\n4. Filter to just doubles and count the number of rows:\\n\\n```python\\nmerrifield_2019_doubles = merrifield_2019_data[merrifield_2019_data[\\'events\\'] == \\'double\\']\\ndoubles_count = len(merrifield_2019_doubles)\\nprint(f\"Whit Merrifield hit {doubles_count} doubles in the 2019 season.\")\\n```', 'task': 'How many doubles did Whit Merrifield hit in 2019?', 'code': None, 'function_detail': 'Text between the <statcast_batter_documentation></statcast_batter_documentation> tags is documentation for the statcast_batter library.  Consult this section to confirm which attributes to pass into the statcast_batter library.\\n<statcast_batter_documentation>\\n# Statcast Batter\\n`statcast_batter(start_dt=[yesterday\\'s date], end_dt=None, player_id)`\\n\\nThe statcast function retrieves pitch-level statcast data for a given date or range or dates. \\n\\n## Arguments\\n`start_dt:` first day for which you want to retrieve data. Defaults to yesterday\\'s date if nothing is entered. If you only want data for one date, supply a `start_dt` value but not an `end_dt` value. Format: YYYY-MM-DD. \\n\\n`end_dt:` last day for which you want to retrieve data. Defaults to None. If you want to retrieve data for more than one day, both a `start_dt` and `end_dt` value must be given. Format: YYYY-MM-DD. \\n\\n`player_id:` MLBAM player ID for the player you want to retrieve data for. To find a player\\'s MLBAM ID, see the function [playerid_lookup](http://github.com/jldbc/pybaseball/docs/playerid_lookup.md) or the examples below. \\n\\n### A note on data availability \\nThe earliest available statcast data comes from the 2008 season when the system was first introduced to Major League Baseball. Queries before this year will not work. Further, some features were introduced after the 2008 season. Launch speed angle, for example, is only available from the 2015 season forward. \\n\\n## Examples of valid queries\\n\\n```python\\nfrom pybaseball import statcast_batter\\nfrom pybaseball import playerid_lookup\\n\\n# find David Ortiz\\'s player id (mlbam_key)\\nplayerid_lookup(\\'ortiz\\',\\'david\\')\\n\\n# get all available data\\ndata = statcast_batter(\\'2008-04-01\\', \\'2017-07-15\\', player_id = 120074)\\n\\n# get data for August 16th, 2014\\ndata = statcast_batter(\\'2014-08-16\\', player_id = 120074)\\n```\\n\\n</statcast_batter_documentation>\\nText between the <playerid_lookup_documentation></playerid_lookup_documentation> tags is documentation for the playerid_lookup library.  Consult this section to confirm which attributes to pass into the playerid_lookup library.\\n<playerid_lookup_documentation>\\n# Player ID Lookup\\n\\n## Single Player Lookup\\n\\n`playerid_lookup(last, first=None, fuzzy=False)`\\n\\nLook up a player\\'s MLBAM, Retrosheet, FanGraphs, and Baseball Reference ID by name.\\n\\n## Arguments\\n`last:` String. The player\\'s last name. Case insensitive.\\n\\n`first:` String. Optional. The player\\'s first name. Case insensitive.\\n\\n`fuzzy:` Boolean. Optional. Search for inexact name matches, the 5 closest will be returned.\\n\\nProviding last name only will return all available id data for players with that last name (this will return several rows for a common last name like Jones, for example.) If multiple players exist for a (last name, first name) pair, you can figure out who\\'s who by seeing their first and last years of play in the fields `mlb_played_first` and `mlb_played_last`.\\n\\nThis data comes from Chadwick Bureau, meaning that there are several people in this data who are not MLB players. For this reason, supplying both last and first name is recommended to narrow your search. \\n\\n## Examples of valid queries\\n\\n```python\\nfrom pybaseball import playerid_lookup\\n\\n# find the ids of all players with last name Jones (returns 1,314 rows)\\ndata = playerid_lookup(\\'jones\\')\\n\\n# only return the ids of chipper jones (returns one row)\\ndata = playerid_lookup(\\'jones\\',\\'chipper\\')\\n\\n# Will return all players named Pedro Martinez (returns *2* rows)\\ndata = playerid_lookup(\"martinez\", \"pedro\", fuzzy=True)\\n\\n# Will return the 5 closest names to \"yadi molina\" (returns 5 rows)\\n# First row will be Yadier Molina\\ndata = playerid_lookup(\"molina\", \"yadi\", fuzzy=True)\\n```\\n\\n## List Lookup\\n\\n`player_search_list(player_list)`\\n\\nLook up a list of player ID\\'s by name, return a data frame of all players\\n\\n`player_list:` List. A list of tuples, of the form `(last, first)`. Case Insensitive.\\n\\nSources are the same as those used in the above `playerid_lookup` function. Queries for this function must be exact name matches.\\n\\n## Examples of valid queries\\n\\n```python\\n\\nfrom pybaseball import player_search_list\\n\\n# Will return the ids for both Lou Brock and Chipper Jones (returns 2 rows)\\ndata = player_search_list([(\"brock\",\"lou\"), (\"jones\",\"chipper\")])\\n\\n```\\n</playerid_lookup_documentation>\\n', 'nearest_task': 'How many home runs did Derek Jeter hit in 2008?', 'nearest_plan': '1. Import the statcast_batter and playerid_lookup functions from pybaseball, as well as datetime for date handling:\\n\\n```python\\nfrom pybaseball import statcast_batter, playerid_lookup \\nfrom datetime import datetime\\n```\\n\\n2. Look up Derek Jeter\\'s MLBAM player ID:\\n\\n```python\\njeter_id = playerid_lookup(\\'jeter\\', \\'derek\\')\\njeter_mlbam_id = jeter_id.loc[0,\\'key_mlbam\\'] \\n```\\n\\n3. Get Derek Jeter\\'s statcast batting data for the 2008 season. Convert the start and end dates to datetime objects: \\n\\n```python\\nstart_date = datetime(2008, 1, 1)\\nend_date = datetime(2008, 12, 31)\\njeter_2008_data = statcast_batter(start_date, end_date, player_id=jeter_mlbam_id)\\n```\\n\\n4. Filter to just home runs and count the number of rows:\\n\\n```python\\njeter_2008_hr = jeter_2008_data[jeter_2008_data[\\'events\\'] == \\'home_run\\'] \\nhr_count = len(jeter_2008_hr)\\nprint(f\"Derek Jeter hit {hr_count} home runs in the 2008 season.\")  \\n```\\n\\nAre you satisfied with this plan?', 'nearest_code': '# 1. Import necessary libraries\\nfrom pybaseball import statcast_batter, playerid_lookup\\nfrom datetime import datetime\\n# 2. Look up Derek Jeter\\'s player ID \\njeter_id = playerid_lookup(\\'jeter\\', \\'derek\\')\\njeter_mlbam_id = jeter_id.loc[0,\\'key_mlbam\\']\\nprint(f\"Derek Jeter\\'s MLBAM ID is: {jeter_mlbam_id}\")\\n# 3. Get Derek Jeter\\'s 2008 batting data  \\nstart_date = datetime(2008, 1, 1).strftime(\\'%Y-%m-%d\\')\\nend_date = datetime(2008, 12, 31).strftime(\\'%Y-%m-%d\\') \\njeter_2008_data = statcast_batter(start_date, end_date, player_id=jeter_mlbam_id)\\n# 4. Filter to home runs and count\\njeter_2008_hr = jeter_2008_data[jeter_2008_data[\\'events\\'] == \\'home_run\\']  \\nhr_count = len(jeter_2008_hr)\\nprint(f\"Derek Jeter hit {hr_count} home runs in the 2008 season.\")', 'known_plan': True}}\n",
      "----\n",
      "1. Import the statcast_batter and playerid_lookup functions from pybaseball, as well as datetime for date handling:\n",
      "\n",
      "```python\n",
      "from pybaseball import statcast_batter, playerid_lookup\n",
      "from datetime import datetime\n",
      "```\n",
      "\n",
      "2. Look up Whit Merrifield's MLBAM player ID:\n",
      "\n",
      "```python\n",
      "merrifield_id = playerid_lookup('merrifield', 'whit')\n",
      "merrifield_mlbam_id = merrifield_id.loc[0,'key_mlbam']\n",
      "```\n",
      "\n",
      "3. Get Whit Merrifield's statcast batting data for the 2019 season. Convert the start and end dates to datetime objects:\n",
      "\n",
      "```python\n",
      "start_date = datetime(2019, 1, 1)\n",
      "end_date = datetime(2019, 12, 31)\n",
      "merrifield_2019_data = statcast_batter(start_date, end_date, player_id=merrifield_mlbam_id)\n",
      "```\n",
      "\n",
      "4. Filter to just doubles and count the number of rows:\n",
      "\n",
      "```python\n",
      "merrifield_2019_doubles = merrifield_2019_data[merrifield_2019_data['events'] == 'double']\n",
      "doubles_count = len(merrifield_2019_doubles)\n",
      "print(f\"Whit Merrifield hit {doubles_count} doubles in the 2019 season.\")\n",
      "```\n"
     ]
    }
   ],
   "source": [
    "task = 'How many doubles did Whit Merrifield hit in 2019?' \n",
    "result = baseball_lambda.execute_workflow(task, session_id)\n",
    "print(result)"
   ]
  },
  {
   "cell_type": "code",
   "execution_count": 6,
   "id": "8c9e31b6",
   "metadata": {
    "tags": []
   },
   "outputs": [
    {
     "name": "stdout",
     "output_type": "stream",
     "text": [
      "{'Orchestrate': {'next': 'Execute'}}\n",
      "----\n",
      "Known plan. Executing with Sonnet\n",
      "Executing: # Import necessary libraries\n",
      "from pybaseball import statcast_batter, playerid_lookup \n",
      "from datetime import datetime\n",
      "Executing: # Look up Whit Merrifield's player ID\n",
      "merrifield_id = playerid_lookup('merrifield', 'whit')\n",
      "merrifield_mlbam_id = merrifield_id.loc[0,'key_mlbam']\n",
      "print(f\"Whit Merrifield's MLBAM ID is: {merrifield_mlbam_id}\")\n",
      "Result: Gathering player lookup table. This may take a moment.\n",
      "Whit Merrifield's MLBAM ID is: 593160\n",
      "\n",
      "Executing: # Get 2019 statcast data for Merrifield \n",
      "start_date = datetime(2019, 1, 1)\n",
      "end_date = datetime(2019, 12, 31)\n",
      "merrifield_2019_data = statcast_batter(start_date, end_date, player_id=593160)\n",
      "Result: TypeError('strptime() argument 1 must be str, not datetime.datetime')\n",
      "Executing: start_date = datetime(2019, 1, 1).strftime('%Y-%m-%d') \n",
      "end_date = datetime(2019, 12, 31).strftime('%Y-%m-%d')\n",
      "merrifield_2019_data = statcast_batter(start_date, end_date, player_id=593160)\n",
      "Result: Gathering Player Data\n",
      "\n",
      "Executing: # Filter to doubles and count\n",
      "merrifield_2019_doubles = merrifield_2019_data[merrifield_2019_data['events'] == 'double']\n",
      "doubles_count = len(merrifield_2019_doubles)\n",
      "print(f\"Whit Merrifield hit {doubles_count} doubles in the 2019 season.\")\n",
      "Result: Whit Merrifield hit 45 doubles in the 2019 season.\n",
      "\n",
      "Summarizing execution result\n",
      "{'Execute': {'messages': [HumanMessage(content='How many doubles did Whit Merrifield hit in 2019?', name='User'), AIMessage(content='1. Import the statcast_batter and playerid_lookup functions from pybaseball, as well as datetime for date handling:\\n\\n```python\\nfrom pybaseball import statcast_batter, playerid_lookup\\nfrom datetime import datetime\\n```\\n\\n2. Look up Whit Merrifield\\'s MLBAM player ID:\\n\\n```python\\nmerrifield_id = playerid_lookup(\\'merrifield\\', \\'whit\\')\\nmerrifield_mlbam_id = merrifield_id.loc[0,\\'key_mlbam\\']\\n```\\n\\n3. Get Whit Merrifield\\'s statcast batting data for the 2019 season. Convert the start and end dates to datetime objects:\\n\\n```python\\nstart_date = datetime(2019, 1, 1)\\nend_date = datetime(2019, 12, 31)\\nmerrifield_2019_data = statcast_batter(start_date, end_date, player_id=merrifield_mlbam_id)\\n```\\n\\n4. Filter to just doubles and count the number of rows:\\n\\n```python\\nmerrifield_2019_doubles = merrifield_2019_data[merrifield_2019_data[\\'events\\'] == \\'double\\']\\ndoubles_count = len(merrifield_2019_doubles)\\nprint(f\"Whit Merrifield hit {doubles_count} doubles in the 2019 season.\")\\n```'), HumanMessage(content='looks good', name='User'), AIMessage(content='Whit Merrifield hit 45 doubles in 2019.\\n\\nHere is the code that was used to reach this solution:\\n\\n```python\\n\\n# Import necessary libraries\\nfrom pybaseball import statcast_batter, playerid_lookup \\nfrom datetime import datetime\\n# Look up Whit Merrifield\\'s player ID\\nmerrifield_id = playerid_lookup(\\'merrifield\\', \\'whit\\')\\nmerrifield_mlbam_id = merrifield_id.loc[0,\\'key_mlbam\\']\\nprint(f\"Whit Merrifield\\'s MLBAM ID is: {merrifield_mlbam_id}\")\\nstart_date = datetime(2019, 1, 1).strftime(\\'%Y-%m-%d\\') \\nend_date = datetime(2019, 12, 31).strftime(\\'%Y-%m-%d\\')\\nmerrifield_2019_data = statcast_batter(start_date, end_date, player_id=593160)\\n# Filter to doubles and count\\nmerrifield_2019_doubles = merrifield_2019_data[merrifield_2019_data[\\'events\\'] == \\'double\\']\\ndoubles_count = len(merrifield_2019_doubles)\\nprint(f\"Whit Merrifield hit {doubles_count} doubles in the 2019 season.\")\\n```\\n\\nAre you satisfied with this result?')], 'session_id': '543108', 'previous_node': 'Execute', 'next': 'Execute', 'plan': '1. Import the statcast_batter and playerid_lookup functions from pybaseball, as well as datetime for date handling:\\n\\n```python\\nfrom pybaseball import statcast_batter, playerid_lookup\\nfrom datetime import datetime\\n```\\n\\n2. Look up Whit Merrifield\\'s MLBAM player ID:\\n\\n```python\\nmerrifield_id = playerid_lookup(\\'merrifield\\', \\'whit\\')\\nmerrifield_mlbam_id = merrifield_id.loc[0,\\'key_mlbam\\']\\n```\\n\\n3. Get Whit Merrifield\\'s statcast batting data for the 2019 season. Convert the start and end dates to datetime objects:\\n\\n```python\\nstart_date = datetime(2019, 1, 1)\\nend_date = datetime(2019, 12, 31)\\nmerrifield_2019_data = statcast_batter(start_date, end_date, player_id=merrifield_mlbam_id)\\n```\\n\\n4. Filter to just doubles and count the number of rows:\\n\\n```python\\nmerrifield_2019_doubles = merrifield_2019_data[merrifield_2019_data[\\'events\\'] == \\'double\\']\\ndoubles_count = len(merrifield_2019_doubles)\\nprint(f\"Whit Merrifield hit {doubles_count} doubles in the 2019 season.\")\\n```', 'task': 'How many doubles did Whit Merrifield hit in 2019?', 'code': '# Import necessary libraries\\nfrom pybaseball import statcast_batter, playerid_lookup \\nfrom datetime import datetime\\n# Look up Whit Merrifield\\'s player ID\\nmerrifield_id = playerid_lookup(\\'merrifield\\', \\'whit\\')\\nmerrifield_mlbam_id = merrifield_id.loc[0,\\'key_mlbam\\']\\nprint(f\"Whit Merrifield\\'s MLBAM ID is: {merrifield_mlbam_id}\")\\nstart_date = datetime(2019, 1, 1).strftime(\\'%Y-%m-%d\\') \\nend_date = datetime(2019, 12, 31).strftime(\\'%Y-%m-%d\\')\\nmerrifield_2019_data = statcast_batter(start_date, end_date, player_id=593160)\\n# Filter to doubles and count\\nmerrifield_2019_doubles = merrifield_2019_data[merrifield_2019_data[\\'events\\'] == \\'double\\']\\ndoubles_count = len(merrifield_2019_doubles)\\nprint(f\"Whit Merrifield hit {doubles_count} doubles in the 2019 season.\")', 'function_detail': 'Text between the <statcast_batter_documentation></statcast_batter_documentation> tags is documentation for the statcast_batter library.  Consult this section to confirm which attributes to pass into the statcast_batter library.\\n<statcast_batter_documentation>\\n# Statcast Batter\\n`statcast_batter(start_dt=[yesterday\\'s date], end_dt=None, player_id)`\\n\\nThe statcast function retrieves pitch-level statcast data for a given date or range or dates. \\n\\n## Arguments\\n`start_dt:` first day for which you want to retrieve data. Defaults to yesterday\\'s date if nothing is entered. If you only want data for one date, supply a `start_dt` value but not an `end_dt` value. Format: YYYY-MM-DD. \\n\\n`end_dt:` last day for which you want to retrieve data. Defaults to None. If you want to retrieve data for more than one day, both a `start_dt` and `end_dt` value must be given. Format: YYYY-MM-DD. \\n\\n`player_id:` MLBAM player ID for the player you want to retrieve data for. To find a player\\'s MLBAM ID, see the function [playerid_lookup](http://github.com/jldbc/pybaseball/docs/playerid_lookup.md) or the examples below. \\n\\n### A note on data availability \\nThe earliest available statcast data comes from the 2008 season when the system was first introduced to Major League Baseball. Queries before this year will not work. Further, some features were introduced after the 2008 season. Launch speed angle, for example, is only available from the 2015 season forward. \\n\\n## Examples of valid queries\\n\\n```python\\nfrom pybaseball import statcast_batter\\nfrom pybaseball import playerid_lookup\\n\\n# find David Ortiz\\'s player id (mlbam_key)\\nplayerid_lookup(\\'ortiz\\',\\'david\\')\\n\\n# get all available data\\ndata = statcast_batter(\\'2008-04-01\\', \\'2017-07-15\\', player_id = 120074)\\n\\n# get data for August 16th, 2014\\ndata = statcast_batter(\\'2014-08-16\\', player_id = 120074)\\n```\\n\\n</statcast_batter_documentation>\\nText between the <playerid_lookup_documentation></playerid_lookup_documentation> tags is documentation for the playerid_lookup library.  Consult this section to confirm which attributes to pass into the playerid_lookup library.\\n<playerid_lookup_documentation>\\n# Player ID Lookup\\n\\n## Single Player Lookup\\n\\n`playerid_lookup(last, first=None, fuzzy=False)`\\n\\nLook up a player\\'s MLBAM, Retrosheet, FanGraphs, and Baseball Reference ID by name.\\n\\n## Arguments\\n`last:` String. The player\\'s last name. Case insensitive.\\n\\n`first:` String. Optional. The player\\'s first name. Case insensitive.\\n\\n`fuzzy:` Boolean. Optional. Search for inexact name matches, the 5 closest will be returned.\\n\\nProviding last name only will return all available id data for players with that last name (this will return several rows for a common last name like Jones, for example.) If multiple players exist for a (last name, first name) pair, you can figure out who\\'s who by seeing their first and last years of play in the fields `mlb_played_first` and `mlb_played_last`.\\n\\nThis data comes from Chadwick Bureau, meaning that there are several people in this data who are not MLB players. For this reason, supplying both last and first name is recommended to narrow your search. \\n\\n## Examples of valid queries\\n\\n```python\\nfrom pybaseball import playerid_lookup\\n\\n# find the ids of all players with last name Jones (returns 1,314 rows)\\ndata = playerid_lookup(\\'jones\\')\\n\\n# only return the ids of chipper jones (returns one row)\\ndata = playerid_lookup(\\'jones\\',\\'chipper\\')\\n\\n# Will return all players named Pedro Martinez (returns *2* rows)\\ndata = playerid_lookup(\"martinez\", \"pedro\", fuzzy=True)\\n\\n# Will return the 5 closest names to \"yadi molina\" (returns 5 rows)\\n# First row will be Yadier Molina\\ndata = playerid_lookup(\"molina\", \"yadi\", fuzzy=True)\\n```\\n\\n## List Lookup\\n\\n`player_search_list(player_list)`\\n\\nLook up a list of player ID\\'s by name, return a data frame of all players\\n\\n`player_list:` List. A list of tuples, of the form `(last, first)`. Case Insensitive.\\n\\nSources are the same as those used in the above `playerid_lookup` function. Queries for this function must be exact name matches.\\n\\n## Examples of valid queries\\n\\n```python\\n\\nfrom pybaseball import player_search_list\\n\\n# Will return the ids for both Lou Brock and Chipper Jones (returns 2 rows)\\ndata = player_search_list([(\"brock\",\"lou\"), (\"jones\",\"chipper\")])\\n\\n```\\n</playerid_lookup_documentation>\\n', 'nearest_task': 'How many home runs did Derek Jeter hit in 2008?', 'nearest_plan': '1. Import the statcast_batter and playerid_lookup functions from pybaseball, as well as datetime for date handling:\\n\\n```python\\nfrom pybaseball import statcast_batter, playerid_lookup \\nfrom datetime import datetime\\n```\\n\\n2. Look up Derek Jeter\\'s MLBAM player ID:\\n\\n```python\\njeter_id = playerid_lookup(\\'jeter\\', \\'derek\\')\\njeter_mlbam_id = jeter_id.loc[0,\\'key_mlbam\\'] \\n```\\n\\n3. Get Derek Jeter\\'s statcast batting data for the 2008 season. Convert the start and end dates to datetime objects: \\n\\n```python\\nstart_date = datetime(2008, 1, 1)\\nend_date = datetime(2008, 12, 31)\\njeter_2008_data = statcast_batter(start_date, end_date, player_id=jeter_mlbam_id)\\n```\\n\\n4. Filter to just home runs and count the number of rows:\\n\\n```python\\njeter_2008_hr = jeter_2008_data[jeter_2008_data[\\'events\\'] == \\'home_run\\'] \\nhr_count = len(jeter_2008_hr)\\nprint(f\"Derek Jeter hit {hr_count} home runs in the 2008 season.\")  \\n```\\n\\nAre you satisfied with this plan?', 'nearest_code': '# 1. Import necessary libraries\\nfrom pybaseball import statcast_batter, playerid_lookup\\nfrom datetime import datetime\\n# 2. Look up Derek Jeter\\'s player ID \\njeter_id = playerid_lookup(\\'jeter\\', \\'derek\\')\\njeter_mlbam_id = jeter_id.loc[0,\\'key_mlbam\\']\\nprint(f\"Derek Jeter\\'s MLBAM ID is: {jeter_mlbam_id}\")\\n# 3. Get Derek Jeter\\'s 2008 batting data  \\nstart_date = datetime(2008, 1, 1).strftime(\\'%Y-%m-%d\\')\\nend_date = datetime(2008, 12, 31).strftime(\\'%Y-%m-%d\\') \\njeter_2008_data = statcast_batter(start_date, end_date, player_id=jeter_mlbam_id)\\n# 4. Filter to home runs and count\\njeter_2008_hr = jeter_2008_data[jeter_2008_data[\\'events\\'] == \\'home_run\\']  \\nhr_count = len(jeter_2008_hr)\\nprint(f\"Derek Jeter hit {hr_count} home runs in the 2008 season.\")', 'known_plan': True}}\n",
      "----\n",
      "Whit Merrifield hit 45 doubles in 2019.\n",
      "\n",
      "Here is the code that was used to reach this solution:\n",
      "\n",
      "```python\n",
      "\n",
      "# Import necessary libraries\n",
      "from pybaseball import statcast_batter, playerid_lookup \n",
      "from datetime import datetime\n",
      "# Look up Whit Merrifield's player ID\n",
      "merrifield_id = playerid_lookup('merrifield', 'whit')\n",
      "merrifield_mlbam_id = merrifield_id.loc[0,'key_mlbam']\n",
      "print(f\"Whit Merrifield's MLBAM ID is: {merrifield_mlbam_id}\")\n",
      "start_date = datetime(2019, 1, 1).strftime('%Y-%m-%d') \n",
      "end_date = datetime(2019, 12, 31).strftime('%Y-%m-%d')\n",
      "merrifield_2019_data = statcast_batter(start_date, end_date, player_id=593160)\n",
      "# Filter to doubles and count\n",
      "merrifield_2019_doubles = merrifield_2019_data[merrifield_2019_data['events'] == 'double']\n",
      "doubles_count = len(merrifield_2019_doubles)\n",
      "print(f\"Whit Merrifield hit {doubles_count} doubles in the 2019 season.\")\n",
      "```\n",
      "\n",
      "Are you satisfied with this result?\n"
     ]
    }
   ],
   "source": [
    "task = \"looks good\"\n",
    "result = baseball_lambda.execute_workflow(task, session_id)\n",
    "print(result)"
   ]
  },
  {
   "cell_type": "code",
   "execution_count": 7,
   "id": "907e823a",
   "metadata": {
    "tags": []
   },
   "outputs": [
    {
     "name": "stdout",
     "output_type": "stream",
     "text": [
      "{'Orchestrate': {'next': 'Memorize'}}\n",
      "----\n",
      "{'Memorize': {'messages': [HumanMessage(content='How many doubles did Whit Merrifield hit in 2019?', name='User'), AIMessage(content='1. Import the statcast_batter and playerid_lookup functions from pybaseball, as well as datetime for date handling:\\n\\n```python\\nfrom pybaseball import statcast_batter, playerid_lookup\\nfrom datetime import datetime\\n```\\n\\n2. Look up Whit Merrifield\\'s MLBAM player ID:\\n\\n```python\\nmerrifield_id = playerid_lookup(\\'merrifield\\', \\'whit\\')\\nmerrifield_mlbam_id = merrifield_id.loc[0,\\'key_mlbam\\']\\n```\\n\\n3. Get Whit Merrifield\\'s statcast batting data for the 2019 season. Convert the start and end dates to datetime objects:\\n\\n```python\\nstart_date = datetime(2019, 1, 1)\\nend_date = datetime(2019, 12, 31)\\nmerrifield_2019_data = statcast_batter(start_date, end_date, player_id=merrifield_mlbam_id)\\n```\\n\\n4. Filter to just doubles and count the number of rows:\\n\\n```python\\nmerrifield_2019_doubles = merrifield_2019_data[merrifield_2019_data[\\'events\\'] == \\'double\\']\\ndoubles_count = len(merrifield_2019_doubles)\\nprint(f\"Whit Merrifield hit {doubles_count} doubles in the 2019 season.\")\\n```'), HumanMessage(content='looks good', name='User'), AIMessage(content='Whit Merrifield hit 45 doubles in 2019.\\n\\nHere is the code that was used to reach this solution:\\n\\n```python\\n\\n# Import necessary libraries\\nfrom pybaseball import statcast_batter, playerid_lookup \\nfrom datetime import datetime\\n# Look up Whit Merrifield\\'s player ID\\nmerrifield_id = playerid_lookup(\\'merrifield\\', \\'whit\\')\\nmerrifield_mlbam_id = merrifield_id.loc[0,\\'key_mlbam\\']\\nprint(f\"Whit Merrifield\\'s MLBAM ID is: {merrifield_mlbam_id}\")\\nstart_date = datetime(2019, 1, 1).strftime(\\'%Y-%m-%d\\') \\nend_date = datetime(2019, 12, 31).strftime(\\'%Y-%m-%d\\')\\nmerrifield_2019_data = statcast_batter(start_date, end_date, player_id=593160)\\n# Filter to doubles and count\\nmerrifield_2019_doubles = merrifield_2019_data[merrifield_2019_data[\\'events\\'] == \\'double\\']\\ndoubles_count = len(merrifield_2019_doubles)\\nprint(f\"Whit Merrifield hit {doubles_count} doubles in the 2019 season.\")\\n```\\n\\nAre you satisfied with this result?'), HumanMessage(content='yes', name='User'), AIMessage(content='Thank you, task has been commited to memory')], 'session_id': '543108', 'previous_node': 'Execute', 'next': 'Memorize', 'plan': '1. Import the statcast_batter and playerid_lookup functions from pybaseball, as well as datetime for date handling:\\n\\n```python\\nfrom pybaseball import statcast_batter, playerid_lookup\\nfrom datetime import datetime\\n```\\n\\n2. Look up Whit Merrifield\\'s MLBAM player ID:\\n\\n```python\\nmerrifield_id = playerid_lookup(\\'merrifield\\', \\'whit\\')\\nmerrifield_mlbam_id = merrifield_id.loc[0,\\'key_mlbam\\']\\n```\\n\\n3. Get Whit Merrifield\\'s statcast batting data for the 2019 season. Convert the start and end dates to datetime objects:\\n\\n```python\\nstart_date = datetime(2019, 1, 1)\\nend_date = datetime(2019, 12, 31)\\nmerrifield_2019_data = statcast_batter(start_date, end_date, player_id=merrifield_mlbam_id)\\n```\\n\\n4. Filter to just doubles and count the number of rows:\\n\\n```python\\nmerrifield_2019_doubles = merrifield_2019_data[merrifield_2019_data[\\'events\\'] == \\'double\\']\\ndoubles_count = len(merrifield_2019_doubles)\\nprint(f\"Whit Merrifield hit {doubles_count} doubles in the 2019 season.\")\\n```', 'task': 'How many doubles did Whit Merrifield hit in 2019?', 'code': '# Import necessary libraries\\nfrom pybaseball import statcast_batter, playerid_lookup \\nfrom datetime import datetime\\n# Look up Whit Merrifield\\'s player ID\\nmerrifield_id = playerid_lookup(\\'merrifield\\', \\'whit\\')\\nmerrifield_mlbam_id = merrifield_id.loc[0,\\'key_mlbam\\']\\nprint(f\"Whit Merrifield\\'s MLBAM ID is: {merrifield_mlbam_id}\")\\nstart_date = datetime(2019, 1, 1).strftime(\\'%Y-%m-%d\\') \\nend_date = datetime(2019, 12, 31).strftime(\\'%Y-%m-%d\\')\\nmerrifield_2019_data = statcast_batter(start_date, end_date, player_id=593160)\\n# Filter to doubles and count\\nmerrifield_2019_doubles = merrifield_2019_data[merrifield_2019_data[\\'events\\'] == \\'double\\']\\ndoubles_count = len(merrifield_2019_doubles)\\nprint(f\"Whit Merrifield hit {doubles_count} doubles in the 2019 season.\")', 'function_detail': 'Text between the <statcast_batter_documentation></statcast_batter_documentation> tags is documentation for the statcast_batter library.  Consult this section to confirm which attributes to pass into the statcast_batter library.\\n<statcast_batter_documentation>\\n# Statcast Batter\\n`statcast_batter(start_dt=[yesterday\\'s date], end_dt=None, player_id)`\\n\\nThe statcast function retrieves pitch-level statcast data for a given date or range or dates. \\n\\n## Arguments\\n`start_dt:` first day for which you want to retrieve data. Defaults to yesterday\\'s date if nothing is entered. If you only want data for one date, supply a `start_dt` value but not an `end_dt` value. Format: YYYY-MM-DD. \\n\\n`end_dt:` last day for which you want to retrieve data. Defaults to None. If you want to retrieve data for more than one day, both a `start_dt` and `end_dt` value must be given. Format: YYYY-MM-DD. \\n\\n`player_id:` MLBAM player ID for the player you want to retrieve data for. To find a player\\'s MLBAM ID, see the function [playerid_lookup](http://github.com/jldbc/pybaseball/docs/playerid_lookup.md) or the examples below. \\n\\n### A note on data availability \\nThe earliest available statcast data comes from the 2008 season when the system was first introduced to Major League Baseball. Queries before this year will not work. Further, some features were introduced after the 2008 season. Launch speed angle, for example, is only available from the 2015 season forward. \\n\\n## Examples of valid queries\\n\\n```python\\nfrom pybaseball import statcast_batter\\nfrom pybaseball import playerid_lookup\\n\\n# find David Ortiz\\'s player id (mlbam_key)\\nplayerid_lookup(\\'ortiz\\',\\'david\\')\\n\\n# get all available data\\ndata = statcast_batter(\\'2008-04-01\\', \\'2017-07-15\\', player_id = 120074)\\n\\n# get data for August 16th, 2014\\ndata = statcast_batter(\\'2014-08-16\\', player_id = 120074)\\n```\\n\\n</statcast_batter_documentation>\\nText between the <playerid_lookup_documentation></playerid_lookup_documentation> tags is documentation for the playerid_lookup library.  Consult this section to confirm which attributes to pass into the playerid_lookup library.\\n<playerid_lookup_documentation>\\n# Player ID Lookup\\n\\n## Single Player Lookup\\n\\n`playerid_lookup(last, first=None, fuzzy=False)`\\n\\nLook up a player\\'s MLBAM, Retrosheet, FanGraphs, and Baseball Reference ID by name.\\n\\n## Arguments\\n`last:` String. The player\\'s last name. Case insensitive.\\n\\n`first:` String. Optional. The player\\'s first name. Case insensitive.\\n\\n`fuzzy:` Boolean. Optional. Search for inexact name matches, the 5 closest will be returned.\\n\\nProviding last name only will return all available id data for players with that last name (this will return several rows for a common last name like Jones, for example.) If multiple players exist for a (last name, first name) pair, you can figure out who\\'s who by seeing their first and last years of play in the fields `mlb_played_first` and `mlb_played_last`.\\n\\nThis data comes from Chadwick Bureau, meaning that there are several people in this data who are not MLB players. For this reason, supplying both last and first name is recommended to narrow your search. \\n\\n## Examples of valid queries\\n\\n```python\\nfrom pybaseball import playerid_lookup\\n\\n# find the ids of all players with last name Jones (returns 1,314 rows)\\ndata = playerid_lookup(\\'jones\\')\\n\\n# only return the ids of chipper jones (returns one row)\\ndata = playerid_lookup(\\'jones\\',\\'chipper\\')\\n\\n# Will return all players named Pedro Martinez (returns *2* rows)\\ndata = playerid_lookup(\"martinez\", \"pedro\", fuzzy=True)\\n\\n# Will return the 5 closest names to \"yadi molina\" (returns 5 rows)\\n# First row will be Yadier Molina\\ndata = playerid_lookup(\"molina\", \"yadi\", fuzzy=True)\\n```\\n\\n## List Lookup\\n\\n`player_search_list(player_list)`\\n\\nLook up a list of player ID\\'s by name, return a data frame of all players\\n\\n`player_list:` List. A list of tuples, of the form `(last, first)`. Case Insensitive.\\n\\nSources are the same as those used in the above `playerid_lookup` function. Queries for this function must be exact name matches.\\n\\n## Examples of valid queries\\n\\n```python\\n\\nfrom pybaseball import player_search_list\\n\\n# Will return the ids for both Lou Brock and Chipper Jones (returns 2 rows)\\ndata = player_search_list([(\"brock\",\"lou\"), (\"jones\",\"chipper\")])\\n\\n```\\n</playerid_lookup_documentation>\\n', 'nearest_task': 'How many home runs did Derek Jeter hit in 2008?', 'nearest_plan': '1. Import the statcast_batter and playerid_lookup functions from pybaseball, as well as datetime for date handling:\\n\\n```python\\nfrom pybaseball import statcast_batter, playerid_lookup \\nfrom datetime import datetime\\n```\\n\\n2. Look up Derek Jeter\\'s MLBAM player ID:\\n\\n```python\\njeter_id = playerid_lookup(\\'jeter\\', \\'derek\\')\\njeter_mlbam_id = jeter_id.loc[0,\\'key_mlbam\\'] \\n```\\n\\n3. Get Derek Jeter\\'s statcast batting data for the 2008 season. Convert the start and end dates to datetime objects: \\n\\n```python\\nstart_date = datetime(2008, 1, 1)\\nend_date = datetime(2008, 12, 31)\\njeter_2008_data = statcast_batter(start_date, end_date, player_id=jeter_mlbam_id)\\n```\\n\\n4. Filter to just home runs and count the number of rows:\\n\\n```python\\njeter_2008_hr = jeter_2008_data[jeter_2008_data[\\'events\\'] == \\'home_run\\'] \\nhr_count = len(jeter_2008_hr)\\nprint(f\"Derek Jeter hit {hr_count} home runs in the 2008 season.\")  \\n```\\n\\nAre you satisfied with this plan?', 'nearest_code': '# 1. Import necessary libraries\\nfrom pybaseball import statcast_batter, playerid_lookup\\nfrom datetime import datetime\\n# 2. Look up Derek Jeter\\'s player ID \\njeter_id = playerid_lookup(\\'jeter\\', \\'derek\\')\\njeter_mlbam_id = jeter_id.loc[0,\\'key_mlbam\\']\\nprint(f\"Derek Jeter\\'s MLBAM ID is: {jeter_mlbam_id}\")\\n# 3. Get Derek Jeter\\'s 2008 batting data  \\nstart_date = datetime(2008, 1, 1).strftime(\\'%Y-%m-%d\\')\\nend_date = datetime(2008, 12, 31).strftime(\\'%Y-%m-%d\\') \\njeter_2008_data = statcast_batter(start_date, end_date, player_id=jeter_mlbam_id)\\n# 4. Filter to home runs and count\\njeter_2008_hr = jeter_2008_data[jeter_2008_data[\\'events\\'] == \\'home_run\\']  \\nhr_count = len(jeter_2008_hr)\\nprint(f\"Derek Jeter hit {hr_count} home runs in the 2008 season.\")', 'known_plan': True}}\n",
      "----\n",
      "Thank you, task has been commited to memory\n"
     ]
    }
   ],
   "source": [
    "task = \"yes\"\n",
    "result = baseball_lambda.execute_workflow(task, session_id)\n",
    "print(result)"
   ]
  },
  {
   "cell_type": "code",
   "execution_count": null,
   "id": "e21fc241",
   "metadata": {},
   "outputs": [],
   "source": []
  }
 ],
 "metadata": {
  "kernelspec": {
   "display_name": "venv",
   "language": "python",
   "name": "python3"
  },
  "language_info": {
   "codemirror_mode": {
    "name": "ipython",
    "version": 3
   },
   "file_extension": ".py",
   "mimetype": "text/x-python",
   "name": "python",
   "nbconvert_exporter": "python",
   "pygments_lexer": "ipython3",
   "version": "3.10.8"
  }
 },
 "nbformat": 4,
 "nbformat_minor": 5
}
