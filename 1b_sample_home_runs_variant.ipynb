{
 "cells": [
  {
   "cell_type": "code",
   "execution_count": 1,
   "id": "7c01b355-66d2-40e0-92a4-c4553a8d2edd",
   "metadata": {
    "tags": []
   },
   "outputs": [
    {
     "name": "stderr",
     "output_type": "stream",
     "text": [
      "/Users/rosclay/Documents/VSCode/langgraph-multi-agent/venv/lib/python3.10/site-packages/langchain_core/_api/beta_decorator.py:87: LangChainBetaWarning: The function `bind_tools` is in beta. It is actively being worked on, so the API may change.\n",
      "  warn_beta(\n",
      "Python REPL can execute arbitrary code. Use with caution.\n"
     ]
    }
   ],
   "source": [
    "# general\n",
    "from datetime import datetime\n",
    "from dotenv import load_dotenv, find_dotenv\n",
    "import os\n",
    "\n",
    "# custom local libs\n",
    "from function import baseball_lambda"
   ]
  },
  {
   "cell_type": "code",
   "execution_count": 2,
   "id": "7a2a54ab",
   "metadata": {
    "tags": []
   },
   "outputs": [],
   "source": [
    "# read local .env file\n",
    "_ = load_dotenv(find_dotenv()) "
   ]
  },
  {
   "cell_type": "code",
   "execution_count": 3,
   "id": "12b6af87",
   "metadata": {
    "tags": []
   },
   "outputs": [],
   "source": [
    "# set Langsmith project\n",
    "today = datetime.now().strftime(\"%Y%m%d\")\n",
    "os.environ[\"LANGCHAIN_PROJECT\"] = f\"Baseball Homeruns - {today}\""
   ]
  },
  {
   "cell_type": "code",
   "execution_count": 4,
   "id": "a9ed0aff",
   "metadata": {
    "tags": []
   },
   "outputs": [],
   "source": [
    "session_id = '543108'"
   ]
  },
  {
   "cell_type": "code",
   "execution_count": 5,
   "id": "024b632a",
   "metadata": {
    "tags": []
   },
   "outputs": [
    {
     "name": "stdout",
     "output_type": "stream",
     "text": [
      "\n",
      "*** Entered Orchestrate Node ***\n",
      "\n",
      "*** Entered Retrieve Node ***\n",
      "\n",
      "Distance to neareast plan: 0.4730713367462158\n",
      "\n",
      "*** Entered Modify Node ***\n",
      "\n",
      "Modifying nearest plan with User input\n",
      "1. Import the statcast_batter and playerid_lookup functions from pybaseball:\n",
      "\n",
      "```python\n",
      "from pybaseball import statcast_batter, playerid_lookup\n",
      "```\n",
      "\n",
      "2. Look up Whit Merrifield's MLBAM player ID:\n",
      "\n",
      "```python\n",
      "merrifield_id = playerid_lookup('merrifield', 'whit')\n",
      "merrifield_mlbam_id = merrifield_id.loc[0,'key_mlbam']\n",
      "```\n",
      "\n",
      "3. Get Whit Merrifield's statcast batting data for the 2019 season:\n",
      "\n",
      "```python\n",
      "merrifield_2019_data = statcast_batter('2019-01-01', '2019-12-31', player_id=merrifield_mlbam_id)\n",
      "```\n",
      "\n",
      "4. Filter to just doubles and count the number of rows:\n",
      "\n",
      "```python\n",
      "merrifield_2019_doubles = merrifield_2019_data[merrifield_2019_data['events'] == 'double']\n",
      "doubles_count = len(merrifield_2019_doubles)\n",
      "print(f\"Whit Merrifield hit {doubles_count} doubles in the 2019 season.\")\n",
      "```\n"
     ]
    }
   ],
   "source": [
    "task = 'How many doubles did Whit Merrifield hit in 2019?' \n",
    "result = baseball_lambda.execute_workflow(task, session_id)\n",
    "print(result)"
   ]
  },
  {
   "cell_type": "code",
   "execution_count": 6,
   "id": "8c9e31b6",
   "metadata": {
    "tags": []
   },
   "outputs": [
    {
     "name": "stdout",
     "output_type": "stream",
     "text": [
      "\n",
      "*** Entered Orchestrate Node ***\n",
      "Known plan. Executing with Sonnet\n",
      "\n",
      "*** Entered Generate Node ***\n",
      "\n",
      "\n",
      "*** Entered Execute Node ***\n",
      "\n",
      "\n",
      "Executing:\n",
      "# 1. Import libraries\n",
      "from pybaseball import statcast_batter, playerid_lookup\n",
      "\n",
      "*** Entered Generate Node ***\n",
      "\n",
      "\n",
      "*** Entered Execute Node ***\n",
      "\n",
      "\n",
      "Executing:\n",
      "# 2. Look up Merrifield's MLBAM ID \n",
      "merrifield_id = playerid_lookup('merrifield', 'whit')\n",
      "merrifield_mlbam_id = merrifield_id.loc[0,'key_mlbam']\n",
      "print(f\"Whit Merrifield's MLBAM ID is {merrifield_mlbam_id}\")\n",
      "\n",
      "Result:\n",
      "Gathering player lookup table. This may take a moment.\n",
      "Whit Merrifield's MLBAM ID is 593160\n",
      "\n",
      "\n",
      "*** Entered Generate Node ***\n",
      "\n",
      "\n",
      "*** Entered Execute Node ***\n",
      "\n",
      "\n",
      "Executing:\n",
      "# 3. Get 2019 statcast data\n",
      "merrifield_2019_data = statcast_batter('2019-01-01', '2019-12-31', player_id=merrifield_mlbam_id)\n",
      "\n",
      "Result:\n",
      "Gathering Player Data\n",
      "\n",
      "\n",
      "*** Entered Generate Node ***\n",
      "\n",
      "\n",
      "*** Entered Execute Node ***\n",
      "\n",
      "\n",
      "Executing:\n",
      "# 4. Filter for doubles and count\n",
      "merrifield_2019_doubles = merrifield_2019_data[merrifield_2019_data['events'] == 'double']\n",
      "doubles_count = len(merrifield_2019_doubles)\n",
      "print(f\"Whit Merrifield hit {doubles_count} doubles in the 2019 season.\")\n",
      "\n",
      "Result:\n",
      "Whit Merrifield hit 45 doubles in the 2019 season.\n",
      "\n",
      "\n",
      "*** Entered Generate Node ***\n",
      "\n",
      "\n",
      "*** Entered Summarize Node ***\n",
      "\n",
      "Whit Merrifield hit 45 doubles in the 2019 season.\n",
      "\n",
      "Here is the code that was used to reach this solution:\n",
      "\n",
      "```python\n",
      "\n",
      "# 1. Import libraries\n",
      "from pybaseball import statcast_batter, playerid_lookup\n",
      "\n",
      "# 2. Look up Merrifield's MLBAM ID \n",
      "merrifield_id = playerid_lookup('merrifield', 'whit')\n",
      "merrifield_mlbam_id = merrifield_id.loc[0,'key_mlbam']\n",
      "print(f\"Whit Merrifield's MLBAM ID is {merrifield_mlbam_id}\")\n",
      "\n",
      "# 3. Get 2019 statcast data\n",
      "merrifield_2019_data = statcast_batter('2019-01-01', '2019-12-31', player_id=merrifield_mlbam_id)\n",
      "\n",
      "# 4. Filter for doubles and count\n",
      "merrifield_2019_doubles = merrifield_2019_data[merrifield_2019_data['events'] == 'double']\n",
      "doubles_count = len(merrifield_2019_doubles)\n",
      "print(f\"Whit Merrifield hit {doubles_count} doubles in the 2019 season.\")\n",
      "```\n",
      "\n",
      "Are you satisfied with this result?\n"
     ]
    }
   ],
   "source": [
    "task = \"looks good\"\n",
    "result = baseball_lambda.execute_workflow(task, session_id)\n",
    "print(result)"
   ]
  },
  {
   "cell_type": "code",
   "execution_count": 7,
   "id": "907e823a",
   "metadata": {
    "tags": []
   },
   "outputs": [
    {
     "name": "stdout",
     "output_type": "stream",
     "text": [
      "\n",
      "*** Entered Orchestrate Node ***\n",
      "\n",
      "*** Entered Memorize Node ***\n",
      "\n",
      "Thank you, task has been commited to memory\n"
     ]
    }
   ],
   "source": [
    "task = \"yes\"\n",
    "result = baseball_lambda.execute_workflow(task, session_id)\n",
    "print(result)"
   ]
  },
  {
   "cell_type": "code",
   "execution_count": null,
   "id": "e21fc241",
   "metadata": {},
   "outputs": [],
   "source": []
  }
 ],
 "metadata": {
  "kernelspec": {
   "display_name": "venv",
   "language": "python",
   "name": "python3"
  },
  "language_info": {
   "codemirror_mode": {
    "name": "ipython",
    "version": 3
   },
   "file_extension": ".py",
   "mimetype": "text/x-python",
   "name": "python",
   "nbconvert_exporter": "python",
   "pygments_lexer": "ipython3",
   "version": "3.10.8"
  }
 },
 "nbformat": 4,
 "nbformat_minor": 5
}
