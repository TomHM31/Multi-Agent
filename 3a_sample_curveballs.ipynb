{
 "cells": [
  {
   "cell_type": "code",
   "execution_count": 1,
   "id": "7c01b355-66d2-40e0-92a4-c4553a8d2edd",
   "metadata": {
    "tags": []
   },
   "outputs": [
    {
     "name": "stderr",
     "output_type": "stream",
     "text": [
      "Python REPL can execute arbitrary code. Use with caution.\n"
     ]
    }
   ],
   "source": [
    "# general\n",
    "from datetime import datetime\n",
    "from dotenv import load_dotenv, find_dotenv\n",
    "import os\n",
    "\n",
    "# custom local libs\n",
    "from function import baseball_lambda"
   ]
  },
  {
   "cell_type": "code",
   "execution_count": 2,
   "id": "7a2a54ab",
   "metadata": {},
   "outputs": [],
   "source": [
    "# read local .env file\n",
    "_ = load_dotenv(find_dotenv()) "
   ]
  },
  {
   "cell_type": "code",
   "execution_count": 3,
   "id": "12b6af87",
   "metadata": {},
   "outputs": [],
   "source": [
    "# set Langsmith project\n",
    "today = datetime.now().strftime(\"%Y%m%d\")\n",
    "os.environ[\"LANGCHAIN_PROJECT\"] = f\"Baseball Curveballs - {today}\""
   ]
  },
  {
   "cell_type": "code",
   "execution_count": 4,
   "id": "6bf9b046",
   "metadata": {},
   "outputs": [],
   "source": [
    "session_id = '4911'"
   ]
  },
  {
   "cell_type": "code",
   "execution_count": 5,
   "id": "483dc6f3",
   "metadata": {},
   "outputs": [
    {
     "name": "stdout",
     "output_type": "stream",
     "text": [
      "{'Orchestrate': {'next': 'Plan'}}\n",
      "----\n",
      "Distance to neareast plan: 0.7576422095298767\n",
      "Formulating a new plan based on User input\n",
      "Collecting metadata for functions playerid_lookup,statcast_pitcher,statcast\n",
      "Modifying plan with function metadata\n",
      "{'Plan': {'messages': [HumanMessage(content='Updated Plan:\\n\\n1. Use the `statcast_pitcher` function from the pybaseball library.\\n2. Pass in the following attributes:\\n   - start_dt: \"2020-08-01\"\\n   - end_dt: \"2020-08-07\"\\n   - player_id: MLBAM player ID for Max Scherzer\\n3. Retrieve the output dataframe from the function.\\n4. Filter the dataframe to only include curveballs thrown by Max Scherzer.\\n5. Extract the relevant fields from the dataframe:\\n   - pitch_type\\n   - release_speed\\n   - release_spin\\n   - release_extension\\n6. Calculate a similarity metric between the curveballs thrown by Max Scherzer and other pitchers\\' curveballs. This can be done using a combination of release_speed, release_spin, and release_extension.\\n7. Rank the pitchers based on the similarity metric to identify the top 3 pitchers whose curveballs are most similar to Max Scherzer\\'s.\\n\\nAre you satisfied with this plan?')], 'task': \"Consider the first week of August 2020 - find 3 pitchers who's curveballs were most similar to Max Scherzer's.\", 'plan': 'Updated Plan:\\n\\n1. Use the `statcast_pitcher` function from the pybaseball library.\\n2. Pass in the following attributes:\\n   - start_dt: \"2020-08-01\"\\n   - end_dt: \"2020-08-07\"\\n   - player_id: MLBAM player ID for Max Scherzer\\n3. Retrieve the output dataframe from the function.\\n4. Filter the dataframe to only include curveballs thrown by Max Scherzer.\\n5. Extract the relevant fields from the dataframe:\\n   - pitch_type\\n   - release_speed\\n   - release_spin\\n   - release_extension\\n6. Calculate a similarity metric between the curveballs thrown by Max Scherzer and other pitchers\\' curveballs. This can be done using a combination of release_speed, release_spin, and release_extension.\\n7. Rank the pitchers based on the similarity metric to identify the top 3 pitchers whose curveballs are most similar to Max Scherzer\\'s.\\n\\nAre you satisfied with this plan?', 'previous_node': 'Plan', 'function_detail': 'Here is the documentation for function playerid_lookup:\\n# Player ID Lookup\\n\\n## Single Player Lookup\\n\\n`playerid_lookup(last, first=None, fuzzy=False)`\\n\\nLook up a player\\'s MLBAM, Retrosheet, FanGraphs, and Baseball Reference ID by name.\\n\\n## Arguments\\n`last:` String. The player\\'s last name. Case insensitive.\\n\\n`first:` String. Optional. The player\\'s first name. Case insensitive.\\n\\n`fuzzy:` Boolean. Optional. Search for inexact name matches, the 5 closest will be returned.\\n\\nProviding last name only will return all available id data for players with that last name (this will return several rows for a common last name like Jones, for example.) If multiple players exist for a (last name, first name) pair, you can figure out who\\'s who by seeing their first and last years of play in the fields `mlb_played_first` and `mlb_played_last`.\\n\\nThis data comes from Chadwick Bureau, meaning that there are several people in this data who are not MLB players. For this reason, supplying both last and first name is recommended to narrow your search. \\n\\n## Examples of valid queries\\n\\n```python\\nfrom pybaseball import playerid_lookup\\n\\n# find the ids of all players with last name Jones (returns 1,314 rows)\\ndata = playerid_lookup(\\'jones\\')\\n\\n# only return the ids of chipper jones (returns one row)\\ndata = playerid_lookup(\\'jones\\',\\'chipper\\')\\n\\n# Will return all players named Pedro Martinez (returns *2* rows)\\ndata = playerid_lookup(\"martinez\", \"pedro\", fuzzy=True)\\n\\n# Will return the 5 closest names to \"yadi molina\" (returns 5 rows)\\n# First row will be Yadier Molina\\ndata = playerid_lookup(\"molina\", \"yadi\", fuzzy=True)\\n```\\n\\n## List Lookup\\n\\n`player_search_list(player_list)`\\n\\nLook up a list of player ID\\'s by name, return a data frame of all players\\n\\n`player_list:` List. A list of tuples, of the form `(last, first)`. Case Insensitive.\\n\\nSources are the same as those used in the above `playerid_lookup` function. Queries for this function must be exact name matches.\\n\\n## Examples of valid queries\\n\\n```python\\n\\nfrom pybaseball import player_search_list\\n\\n# Will return the ids for both Lou Brock and Chipper Jones (returns 2 rows)\\ndata = player_search_list([(\"brock\",\"lou\"), (\"jones\",\"chipper\")])\\n\\n```\\nHere is the data dictionary for function playerid_lookup:\\n\\nname_last: player\\'s last name\\nname_first: player\\'s first name\\nkey_mlbam: MLB Advanced Media ID\\nkey_retro: MLB Retrosheet ID\\nkey_bbref: MLB Baseball Reference ID\\nkey_fangraphs: MLB FanGraphs ID\\nmlb_played_first: first season played by the player\\nmlb_played_last: last season played by the playerHere is the documentation for function statcast_pitcher:\\n# Statcast Pitcher\\n`statcast_pitcher(start_dt=[yesterday\\'s date], end_dt=None, player_id)`\\n\\nThe statcast function retrieves pitch-level statcast data for a given date or range or dates. \\n\\n## Arguments\\n`start_dt:` first day for which you want to retrieve data. Defaults to yesterday\\'s date if nothing is entered. If you only want data for one date, supply a `start_dt` value but not an `end_dt` value. Format: YYYY-MM-DD. \\n\\n`end_dt:` last day for which you want to retrieve data. Defaults to None. If you want to retrieve data for more than one day, both a `start_dt` and `end_dt` value must be given. Format: YYYY-MM-DD. \\n\\n`player_id:` MLBAM player ID for the pitcher you want to retrieve data for. To find a player\\'s MLBAM ID, see the function [playerid_lookup](http://github.com/jldbc/pybaseball/docs/playerid_lookup.md) or the examples below. \\n\\n### A note on data availability \\nThe earliest available statcast data comes from the 2008 season when the system was first introduced to Major League Baseball. Queries before this year will not work. Further, some features were introduced after the 2008 season. Launch speed angle, for example, is only available from the 2015 season forward. \\n\\n### Known issue\\nIn rare cases where a player has seen greater than 30,000 pitches over the time period specified in your query, only the first 30,000 of these plays will be returned. There is a fix in the works for this\\n\\n## Examples of valid queries\\n\\n```python\\nfrom pybaseball import statcast_pitcher\\nfrom pybaseball import playerid_lookup\\n\\n# find Chris Sale\\'s player id (mlbam_key)\\nplayerid_lookup(\\'sale\\',\\'chris\\')\\n\\n# get all available data\\ndata = statcast_pitcher(\\'2008-04-01\\', \\'2017-07-15\\', player_id = 519242)\\n\\n# get data for July 15th, 2017\\ndata = statcast_pitcher(\\'2017-07-15\\',\\'2017-07-15\\', player_id = 519242)\\n```\\nHere is the data dictionary for function statcast_pitcher:\\n\\npitch_type\\nThe type of pitch derived from Statcast.\\n\\ngame_date\\nDate of the Game.\\n\\nrelease_speed\\nPitch velocities from 2008-16 are via Pitch F/X, and adjusted to roughly out-of-hand release point. All velocities from 2017 and beyond are Statcast, which are reported out-of-hand.\\n\\nrelease_pos_x\\nHorizontal Release Position of the ball measured in feet from the catcher\\'s perspective.\\n\\nrelease_pos_z\\nVertical Release Position of the ball measured in feet from the catcher\\'s perspective.\\n\\nplayer_name\\nPlayer\\'s name tied to the event of the search formatted as \"Last Name, First Name\"\\n\\nbatter\\nMLB Player Id tied to the play event.\\n\\npitcher\\nMLB Player Id tied to the play event.\\n\\nevents\\nEvent of the resulting Plate Appearance.\\n\\ndescription\\nDescription of the resulting pitch.\\n\\nzone\\nZone location of the ball when it crosses the plate from the catcher\\'s perspective.\\n\\ndes\\nPlate appearance description from game day.\\n\\ngame_type\\nType of Game. E = Exhibition, S = Spring Training, R = Regular Season, F = Wild Card, D = Divisional Series, L = League Championship Series, W = World Series\\n\\nstand\\nSide of the plate batter is standing.\\n\\np_throws\\nHand pitcher throws with.\\n\\nhome_team\\nAbbreviation of home team.\\n\\naway_team\\nAbbreviation of away team.\\n\\ntype\\nShort hand of pitch result. B = ball, S = strike, X = in play.\\n\\nhit_location\\nPosition of first fielder to touch the ball.\\n\\nbb_type\\nBatted ball type, ground_ball, line_drive, fly_ball, popup.\\n\\nballs\\nPre-pitch number of balls in count.\\n\\nstrikes\\nPre-pitch number of strikes in count.\\n\\ngame_year\\nYear game took place.\\n\\npfx_x\\nHorizontal movement in feet from the catcher\\'s perspective.\\n\\npfx_z\\nVertical movement in feet from the catcher\\'s perpsective.\\n\\nplate_x\\nHorizontal position of the ball when it crosses home plate from the catcher\\'s perspective.\\n\\nplate_z\\nVertical position of the ball when it crosses home plate from the catcher\\'s perspective.\\n\\non_3b\\nPre-pitch MLB Player Id of Runner on 3B.\\n\\non_2b\\nPre-pitch MLB Player Id of Runner on 2B.\\n\\non_1b\\nPre-pitch MLB Player Id of Runner on 1B.\\n\\nouts_when_up\\nPre-pitch number of outs.\\n\\ninning\\nPre-pitch inning number.\\n\\ninning_topbot\\nPre-pitch top or bottom of inning.\\n\\nhc_x\\nHit coordinate X of batted ball.\\n\\nhc_y\\nHit coordinate Y of batted ball.\\n\\nsv_id\\nNon-unique Id of play event per game.\\n\\nvx0\\nThe velocity of the pitch, in feet per second, in x-dimension, determined at y=50 feet.\\n\\nvy0\\nThe velocity of the pitch, in feet per second, in y-dimension, determined at y=50 feet.\\n\\nvy0\\nThe velocity of the pitch, in feet per second, in z-dimension, determined at y=50 feet.\\n\\nax\\nThe acceleration of the pitch, in feet per second per second, in x-dimension, determined at y=50 feet.\\n\\nay\\nThe acceleration of the pitch, in feet per second per second, in y-dimension, determined at y=50 feet.\\n\\naz\\nThe acceleration of the pitch, in feet per second per second, in z-dimension, determined at y=50 feet.\\n\\nsz_top\\nTop of the batter\\'s strike zone set by the operator when the ball is halfway to the plate.\\n\\nsz_bot\\nBottom of the batter\\'s strike zone set by the operator when the ball is halfway to the plate.\\n\\nhit_distance\\nProjected hit distance of the batted ball.\\n\\nlaunch_speed\\nExit velocity of the batted ball as tracked by Statcast. For the limited subset of batted balls not tracked directly, estimates are included based on the process described here.\\n\\nlaunch_angle\\nLaunch angle of the batted ball as tracked by Statcast. For the limited subset of batted balls not tracked directly, estimates are included based on the process described here.\\n\\neffective_speed\\nDerived speed based on the the extension of the pitcher\\'s release.\\n\\nrelease_spin\\nSpin rate of pitch tracked by Statcast.\\n\\nrelease_extension\\nRelease extension of pitch in feet as tracked by Statcast.\\n\\ngame_pk\\nUnique Id for Game.\\n\\npitcher\\nMLB Player Id tied to the play event.\\n\\nfielder_2\\nMLB Player Id for catcher.\\n\\nfielder_3\\nMLB Player Id for 1B.\\n\\nfielder_4\\nMLB Player Id for 2B.\\n\\nfielder_5\\nMLB Player Id for 3B.\\n\\nfielder_6\\nMLB Player Id for SS.\\n\\nfielder_7\\nMLB Player Id for LF.\\n\\nfielder_8\\nMLB Player Id for CF.\\n\\nfielder_9\\nMLB Player Id for RF.\\n\\nrelease_pos_y\\nRelease position of pitch measured in feet from the catcher\\'s perspective.\\n\\nestimated_ba_using_speedangle\\nEstimated Batting Avg based on launch angle and exit velocity.\\n\\nestimated_woba_using_speedangle\\nEstimated wOBA based on launch angle and exit velocity.\\n\\nwoba_value\\nwOBA value based on result of play.\\n\\nwoba_denom\\nwOBA denominator based on result of play.\\n\\nbabip_value\\nBABIP value based on result of play.\\n\\niso_value\\nISO value based on result of play.\\n\\nlaunch_speed_angle\\nLaunch speed/angle zone based on launch angle and exit velocity.\\n1: Weak\\n2: Topped\\n3: Under\\n4: Flare/Burner\\n5: Solid Contact\\n6: Barrel\\n\\n\\nat_bat_number\\nPlate appearance number of the game.\\n\\npitch_number\\nTotal pitch number of the plate appearance.\\n\\npitch_name\\nThe name of the pitch derived from the Statcast Data.\\n\\nhome_score\\nPre-pitch home score\\n\\naway_score\\nPre-pitch away score\\n\\nbat_score\\nPre-pitch bat team score\\n\\nfld_score\\nPre-pitch field team score\\n\\npost_home_score\\nPost-pitch home score\\n\\npost_away_score\\nPost-pitch away score\\n\\npost_bat_score\\nPost-pitch bat team score\\n\\nif_fielding_alignment\\nInfield fielding alignment at the time of the pitch.\\n\\nof_fielding_alignment\\nOutfield fielding alignment at the time of the pitch.\\n\\nspin_axis\\nThe Spin Axis in the 2D X-Z plane in degrees from 0 to 360, such that 180 represents a pure backspin fastball and 0 degrees represents a pure topspin (12-6) curveball\\n\\ndelta_home_win_exp\\nThe change in Win Expectancy before the Plate Appearance and after the Plate Appearance\\n\\ndelta_run_exp\\nThe change in Run Expectancy before the Pitch and after the Pitch\\nHere is the documentation for function statcast:\\n# Statcast\\n`statcast(start_dt=[yesterday\\'s date], end_dt=None, team=None, verbose=True, parallel=True)`\\n\\nThe `statcast` function retrieves pitch-level statcast data for a given date or range or dates. \\n\\n## Returned data\\nThis function returns a pandas `DataFrame` with one entry for each pitch in the\\nquery. The data returned for each pitch is explained on\\n[Baseball Savant](https://baseballsavant.mlb.com/csv-docs).\\n\\n## Arguments\\n`start_dt:` first day for which you want to retrieve data. Defaults to yesterday\\'s date if nothing is entered. If you only want data for one date, supply a `start_dt` value but not an `end_dt` value. Format: YYYY-MM-DD. \\n\\n`end_dt:` last day for which you want to retrieve data. Defaults to None. If you want to retrieve data for more than one day, both a `start_dt` and `end_dt` value must be given. Format: YYYY-MM-DD. \\n\\n`team:` optional. If you only want statcast data for one team, supply that team\\'s abbreviation here (i.e. BOS, SEA, NYY, etc).\\n\\n`verbose:` Boolean, default=True. If set to True this will provide updates on query progress, if set to False it will not. \\n\\n`parallel:` Boolean, default=True. Whether to parallelize HTTP requests in large queries.\\n\\n### A note on data availability \\nThe earliest available statcast data comes from the 2008 season when the system was first introduced to Major League Baseball. Queries before this year will not work. Further, some features were introduced after the 2008 season. Launch speed angle, for example, is only available from the 2015 season forward. \\n\\n### A note on query time\\nBaseball savant limits queries to 30000 rows each. For this reason, if your request is for a period of greater than 5 days, it will be broken into two or more smaller requests. The data will still be returned to you in a single dataframe, but it will take slightly longer. \\n\\n### A note on parallelization\\nLarge queries with requests made in parallel complete substantially faster. This option exists to accommodate compute environments where multiprocessing is disabled (e.g. some AWS Lambda environments).\\n\\n## Examples of valid queries\\n\\n```python\\nfrom pybaseball import statcast\\n\\n# get all statcast data for July 4th, 2017\\ndata = statcast(\\'2017-07-04\\')\\n\\n#get data for the first seven days of August in 2016\\ndata = statcast(\\'2016-08-01\\', \\'2016-08-07\\')\\n\\n#get all data for the Texas Rangers in the 2016 season\\ndata = statcast(\\'2016-04-01\\', \\'2016-10-30\\', team=\\'TEX\\')\\n\\n# get data for yesterday\\ndata = statcast()```\\n\\nHere is the data dictionary for function statcast:\\n\\npitch_type\\nThe type of pitch derived from Statcast.\\n\\ngame_date\\nDate of the Game.\\n\\nrelease_speed\\nPitch velocities from 2008-16 are via Pitch F/X, and adjusted to roughly out-of-hand release point. All velocities from 2017 and beyond are Statcast, which are reported out-of-hand.\\n\\nrelease_pos_x\\nHorizontal Release Position of the ball measured in feet from the catcher\\'s perspective.\\n\\nrelease_pos_z\\nVertical Release Position of the ball measured in feet from the catcher\\'s perspective.\\n\\nplayer_name\\nPlayer\\'s name tied to the event of the search formatted as \"Last Name, First Name\"\\n\\nbatter\\nMLB Player Id tied to the play event.\\n\\npitcher\\nMLB Player Id tied to the play event.\\n\\nevents\\nEvent of the resulting Plate Appearance.\\n\\ndescription\\nDescription of the resulting pitch.\\n\\nzone\\nZone location of the ball when it crosses the plate from the catcher\\'s perspective.\\n\\ndes\\nPlate appearance description from game day.\\n\\ngame_type\\nType of Game. E = Exhibition, S = Spring Training, R = Regular Season, F = Wild Card, D = Divisional Series, L = League Championship Series, W = World Series\\n\\nstand\\nSide of the plate batter is standing.\\n\\np_throws\\nHand pitcher throws with.\\n\\nhome_team\\nAbbreviation of home team.\\n\\naway_team\\nAbbreviation of away team.\\n\\ntype\\nShort hand of pitch result. B = ball, S = strike, X = in play.\\n\\nhit_location\\nPosition of first fielder to touch the ball.\\n\\nbb_type\\nBatted ball type, ground_ball, line_drive, fly_ball, popup.\\n\\nballs\\nPre-pitch number of balls in count.\\n\\nstrikes\\nPre-pitch number of strikes in count.\\n\\ngame_year\\nYear game took place.\\n\\npfx_x\\nHorizontal movement in feet from the catcher\\'s perspective.\\n\\npfx_z\\nVertical movement in feet from the catcher\\'s perpsective.\\n\\nplate_x\\nHorizontal position of the ball when it crosses home plate from the catcher\\'s perspective.\\n\\nplate_z\\nVertical position of the ball when it crosses home plate from the catcher\\'s perspective.\\n\\non_3b\\nPre-pitch MLB Player Id of Runner on 3B.\\n\\non_2b\\nPre-pitch MLB Player Id of Runner on 2B.\\n\\non_1b\\nPre-pitch MLB Player Id of Runner on 1B.\\n\\nouts_when_up\\nPre-pitch number of outs.\\n\\ninning\\nPre-pitch inning number.\\n\\ninning_topbot\\nPre-pitch top or bottom of inning.\\n\\nhc_x\\nHit coordinate X of batted ball.\\n\\nhc_y\\nHit coordinate Y of batted ball.\\n\\nsv_id\\nNon-unique Id of play event per game.\\n\\nvx0\\nThe velocity of the pitch, in feet per second, in x-dimension, determined at y=50 feet.\\n\\nvy0\\nThe velocity of the pitch, in feet per second, in y-dimension, determined at y=50 feet.\\n\\nvy0\\nThe velocity of the pitch, in feet per second, in z-dimension, determined at y=50 feet.\\n\\nax\\nThe acceleration of the pitch, in feet per second per second, in x-dimension, determined at y=50 feet.\\n\\nay\\nThe acceleration of the pitch, in feet per second per second, in y-dimension, determined at y=50 feet.\\n\\naz\\nThe acceleration of the pitch, in feet per second per second, in z-dimension, determined at y=50 feet.\\n\\nsz_top\\nTop of the batter\\'s strike zone set by the operator when the ball is halfway to the plate.\\n\\nsz_bot\\nBottom of the batter\\'s strike zone set by the operator when the ball is halfway to the plate.\\n\\nhit_distance\\nProjected hit distance of the batted ball.\\n\\nlaunch_speed\\nExit velocity of the batted ball as tracked by Statcast. For the limited subset of batted balls not tracked directly, estimates are included based on the process described here.\\n\\nlaunch_angle\\nLaunch angle of the batted ball as tracked by Statcast. For the limited subset of batted balls not tracked directly, estimates are included based on the process described here.\\n\\neffective_speed\\nDerived speed based on the the extension of the pitcher\\'s release.\\n\\nrelease_spin\\nSpin rate of pitch tracked by Statcast.\\n\\nrelease_extension\\nRelease extension of pitch in feet as tracked by Statcast.\\n\\ngame_pk\\nUnique Id for Game.\\n\\npitcher\\nMLB Player Id tied to the play event.\\n\\nfielder_2\\nMLB Player Id for catcher.\\n\\nfielder_3\\nMLB Player Id for 1B.\\n\\nfielder_4\\nMLB Player Id for 2B.\\n\\nfielder_5\\nMLB Player Id for 3B.\\n\\nfielder_6\\nMLB Player Id for SS.\\n\\nfielder_7\\nMLB Player Id for LF.\\n\\nfielder_8\\nMLB Player Id for CF.\\n\\nfielder_9\\nMLB Player Id for RF.\\n\\nrelease_pos_y\\nRelease position of pitch measured in feet from the catcher\\'s perspective.\\n\\nestimated_ba_using_speedangle\\nEstimated Batting Avg based on launch angle and exit velocity.\\n\\nestimated_woba_using_speedangle\\nEstimated wOBA based on launch angle and exit velocity.\\n\\nwoba_value\\nwOBA value based on result of play.\\n\\nwoba_denom\\nwOBA denominator based on result of play.\\n\\nbabip_value\\nBABIP value based on result of play.\\n\\niso_value\\nISO value based on result of play.\\n\\nlaunch_speed_angle\\nLaunch speed/angle zone based on launch angle and exit velocity.\\n1: Weak\\n2: Topped\\n3: Under\\n4: Flare/Burner\\n5: Solid Contact\\n6: Barrel\\n\\n\\nat_bat_number\\nPlate appearance number of the game.\\n\\npitch_number\\nTotal pitch number of the plate appearance.\\n\\npitch_name\\nThe name of the pitch derived from the Statcast Data.\\n\\nhome_score\\nPre-pitch home score\\n\\naway_score\\nPre-pitch away score\\n\\nbat_score\\nPre-pitch bat team score\\n\\nfld_score\\nPre-pitch field team score\\n\\npost_home_score\\nPost-pitch home score\\n\\npost_away_score\\nPost-pitch away score\\n\\npost_bat_score\\nPost-pitch bat team score\\n\\nif_fielding_alignment\\nInfield fielding alignment at the time of the pitch.\\n\\nof_fielding_alignment\\nOutfield fielding alignment at the time of the pitch.\\n\\nspin_axis\\nThe Spin Axis in the 2D X-Z plane in degrees from 0 to 360, such that 180 represents a pure backspin fastball and 0 degrees represents a pure topspin (12-6) curveball\\n\\ndelta_home_win_exp\\nThe change in Win Expectancy before the Plate Appearance and after the Plate Appearance\\n\\ndelta_run_exp\\nThe change in Run Expectancy before the Pitch and after the Pitch\\n'}}\n",
      "----\n",
      "Updated Plan:\n",
      "\n",
      "1. Use the `statcast_pitcher` function from the pybaseball library.\n",
      "2. Pass in the following attributes:\n",
      "   - start_dt: \"2020-08-01\"\n",
      "   - end_dt: \"2020-08-07\"\n",
      "   - player_id: MLBAM player ID for Max Scherzer\n",
      "3. Retrieve the output dataframe from the function.\n",
      "4. Filter the dataframe to only include curveballs thrown by Max Scherzer.\n",
      "5. Extract the relevant fields from the dataframe:\n",
      "   - pitch_type\n",
      "   - release_speed\n",
      "   - release_spin\n",
      "   - release_extension\n",
      "6. Calculate a similarity metric between the curveballs thrown by Max Scherzer and other pitchers' curveballs. This can be done using a combination of release_speed, release_spin, and release_extension.\n",
      "7. Rank the pitchers based on the similarity metric to identify the top 3 pitchers whose curveballs are most similar to Max Scherzer's.\n",
      "\n",
      "Are you satisfied with this plan?\n"
     ]
    }
   ],
   "source": [
    "task =  \"Consider the first week of August 2020 - find 3 pitchers who's curveballs were most similar to Max Scherzer's.\"\n",
    "result = baseball_lambda.execute_workflow(task, session_id)\n",
    "print(result)"
   ]
  },
  {
   "cell_type": "code",
   "execution_count": 6,
   "id": "f96260a3",
   "metadata": {},
   "outputs": [
    {
     "name": "stdout",
     "output_type": "stream",
     "text": [
      "{'Orchestrate': {'next': 'Revise'}}\n",
      "----\n",
      "{'Revise': {'messages': [HumanMessage(content='Based on the feedback provided, here is the revised plan that incorporates the suggested steps of creating an average vector for each pitcher\\'s curveball, training a KNN model, and using this model to find the 3 pitchers with the most similar curveball to Max Scherzer\\'s, excluding Scherzer himself:\\n\\n1. Use the `playerid_lookup` function from the pybaseball library to find Max Scherzer\\'s MLBAM player ID.\\n   - Pass in \"Scherzer\" as the last name and \"Max\" as the first name.\\n   \\n2. Use the `statcast_pitcher` function to retrieve Max Scherzer\\'s pitching data.\\n   - Pass in the appropriate date range and Max Scherzer\\'s MLBAM player ID.\\n   \\n3. Filter the retrieved data to only include curveballs thrown by Max Scherzer.\\n   - Use the `pitch_type` field to filter for curveballs.\\n   \\n4. Calculate the average vector for Max Scherzer\\'s curveballs using relevant fields such as `release_speed`, `release_spin`, and `release_extension`.\\n\\n5. Retrieve a comprehensive dataset of pitchers and their pitches within the same timeframe as Max Scherzer\\'s data.\\n   - Use the `statcast` function with the same date range as used for Scherzer but without specifying a player ID.\\n   \\n6. Filter this dataset to only include curveballs.\\n   - Again, use the `pitch_type` field to filter for curveballs.\\n   \\n7. Group the data by pitcher and calculate the average vector for each pitcher\\'s curveballs using the same fields as for Scherzer.\\n\\n8. Train a KNN (K-Nearest Neighbors) model on this dataset of average vectors for each pitcher.\\n   - Exclude Max Scherzer\\'s data from the training set.\\n   \\n9. Use the trained KNN model to find the 3 pitchers with the most similar curveball to Max Scherzer\\'s based on the average vector calculated in step 4.\\n   - Input Max Scherzer\\'s average curveball vector into the model to find the nearest neighbors.\\n\\n10. Present the findings, including the names and IDs of the 3 pitchers with the most similar curveballs to Max Scherzer\\'s.\\n\\nThis plan follows a data-driven approach to identify pitchers with similar curveballs to Max Scherzer by leveraging machine learning (specifically, KNN) for comparison. It ensures that the analysis is comprehensive and objective by using quantifiable metrics for comparison.\\n\\nAre you satisfied with this plan?')], 'plan': 'Based on the feedback provided, here is the revised plan that incorporates the suggested steps of creating an average vector for each pitcher\\'s curveball, training a KNN model, and using this model to find the 3 pitchers with the most similar curveball to Max Scherzer\\'s, excluding Scherzer himself:\\n\\n1. Use the `playerid_lookup` function from the pybaseball library to find Max Scherzer\\'s MLBAM player ID.\\n   - Pass in \"Scherzer\" as the last name and \"Max\" as the first name.\\n   \\n2. Use the `statcast_pitcher` function to retrieve Max Scherzer\\'s pitching data.\\n   - Pass in the appropriate date range and Max Scherzer\\'s MLBAM player ID.\\n   \\n3. Filter the retrieved data to only include curveballs thrown by Max Scherzer.\\n   - Use the `pitch_type` field to filter for curveballs.\\n   \\n4. Calculate the average vector for Max Scherzer\\'s curveballs using relevant fields such as `release_speed`, `release_spin`, and `release_extension`.\\n\\n5. Retrieve a comprehensive dataset of pitchers and their pitches within the same timeframe as Max Scherzer\\'s data.\\n   - Use the `statcast` function with the same date range as used for Scherzer but without specifying a player ID.\\n   \\n6. Filter this dataset to only include curveballs.\\n   - Again, use the `pitch_type` field to filter for curveballs.\\n   \\n7. Group the data by pitcher and calculate the average vector for each pitcher\\'s curveballs using the same fields as for Scherzer.\\n\\n8. Train a KNN (K-Nearest Neighbors) model on this dataset of average vectors for each pitcher.\\n   - Exclude Max Scherzer\\'s data from the training set.\\n   \\n9. Use the trained KNN model to find the 3 pitchers with the most similar curveball to Max Scherzer\\'s based on the average vector calculated in step 4.\\n   - Input Max Scherzer\\'s average curveball vector into the model to find the nearest neighbors.\\n\\n10. Present the findings, including the names and IDs of the 3 pitchers with the most similar curveballs to Max Scherzer\\'s.\\n\\nThis plan follows a data-driven approach to identify pitchers with similar curveballs to Max Scherzer by leveraging machine learning (specifically, KNN) for comparison. It ensures that the analysis is comprehensive and objective by using quantifiable metrics for comparison.\\n\\nAre you satisfied with this plan?', 'previous_node': 'Revise'}}\n",
      "----\n",
      "Based on the feedback provided, here is the revised plan that incorporates the suggested steps of creating an average vector for each pitcher's curveball, training a KNN model, and using this model to find the 3 pitchers with the most similar curveball to Max Scherzer's, excluding Scherzer himself:\n",
      "\n",
      "1. Use the `playerid_lookup` function from the pybaseball library to find Max Scherzer's MLBAM player ID.\n",
      "   - Pass in \"Scherzer\" as the last name and \"Max\" as the first name.\n",
      "   \n",
      "2. Use the `statcast_pitcher` function to retrieve Max Scherzer's pitching data.\n",
      "   - Pass in the appropriate date range and Max Scherzer's MLBAM player ID.\n",
      "   \n",
      "3. Filter the retrieved data to only include curveballs thrown by Max Scherzer.\n",
      "   - Use the `pitch_type` field to filter for curveballs.\n",
      "   \n",
      "4. Calculate the average vector for Max Scherzer's curveballs using relevant fields such as `release_speed`, `release_spin`, and `release_extension`.\n",
      "\n",
      "5. Retrieve a comprehensive dataset of pitchers and their pitches within the same timeframe as Max Scherzer's data.\n",
      "   - Use the `statcast` function with the same date range as used for Scherzer but without specifying a player ID.\n",
      "   \n",
      "6. Filter this dataset to only include curveballs.\n",
      "   - Again, use the `pitch_type` field to filter for curveballs.\n",
      "   \n",
      "7. Group the data by pitcher and calculate the average vector for each pitcher's curveballs using the same fields as for Scherzer.\n",
      "\n",
      "8. Train a KNN (K-Nearest Neighbors) model on this dataset of average vectors for each pitcher.\n",
      "   - Exclude Max Scherzer's data from the training set.\n",
      "   \n",
      "9. Use the trained KNN model to find the 3 pitchers with the most similar curveball to Max Scherzer's based on the average vector calculated in step 4.\n",
      "   - Input Max Scherzer's average curveball vector into the model to find the nearest neighbors.\n",
      "\n",
      "10. Present the findings, including the names and IDs of the 3 pitchers with the most similar curveballs to Max Scherzer's.\n",
      "\n",
      "This plan follows a data-driven approach to identify pitchers with similar curveballs to Max Scherzer by leveraging machine learning (specifically, KNN) for comparison. It ensures that the analysis is comprehensive and objective by using quantifiable metrics for comparison.\n",
      "\n",
      "Are you satisfied with this plan?\n"
     ]
    }
   ],
   "source": [
    "task = \"\"\"\n",
    "make sure the plan follows this general flow:\n",
    "1) create an average vector for each pitcher's curveball.\n",
    "2) Train a knn model on this data\n",
    "3) Use this model to find the 3 pitchers with the most similar curveball (not including Max Scherzer himself)\n",
    "\"\"\"\n",
    "result = baseball_lambda.execute_workflow(task, session_id)\n",
    "print(result)"
   ]
  },
  {
   "cell_type": "code",
   "execution_count": 7,
   "id": "4d6b35ae",
   "metadata": {},
   "outputs": [
    {
     "name": "stdout",
     "output_type": "stream",
     "text": [
      "{'Orchestrate': {'next': 'Convert'}}\n",
      "----\n",
      "{'Convert': {'code': '\\n# Importing necessary libraries\\nfrom pybaseball import playerid_lookup, statcast_pitcher, statcast\\nfrom sklearn.neighbors import NearestNeighbors\\nimport pandas as pd\\n\\n# Step 1: Find Max Scherzer\\'s MLBAM player ID\\nplayer_id_df = playerid_lookup(\\'Scherzer\\', \\'Max\\')\\nplayer_id = player_id_df[\\'key_mlbam\\'].values[0]\\n\\n# Step 2: Retrieve Max Scherzer\\'s pitching data\\nsch_pitch_data = statcast_pitcher(\\'2021-04-01\\', \\'2021-10-01\\', player_id)\\n\\n# Step 3: Filter data to only include curveballs thrown by Max Scherzer\\nsch_curveballs = sch_pitch_data[sch_pitch_data[\\'pitch_type\\'] == \\'CU\\']\\n\\n# Step 4: Calculate the average vector for Max Scherzer\\'s curveballs\\nsch_avg_vector = sch_curveballs[[\\'release_speed\\', \\'release_spin_rate\\', \\'release_extension\\']].mean()\\n\\n# Step 5: Retrieve a comprehensive dataset of pitchers and their pitches\\nall_pitch_data = statcast(\\'2021-04-01\\', \\'2021-10-01\\')\\n\\n# Step 6: Filter this dataset to only include curveballs\\nall_curveballs = all_pitch_data[all_pitch_data[\\'pitch_type\\'] == \\'CU\\']\\n\\n# Step 7: Group the data by pitcher and calculate the average vector for each pitcher\\'s curveballs\\npitcher_avg_vectors = all_curveballs.groupby(\\'player_name\\')[[\\'release_speed\\', \\'release_spin_rate\\', \\'release_extension\\']].mean()\\n\\n# Exclude Max Scherzer\\'s data from the training set\\npitcher_avg_vectors = pitcher_avg_vectors[pitcher_avg_vectors.index != \\'Max Scherzer\\']\\n\\n# Step 8: Train a KNN model on this dataset of average vectors for each pitcher\\nknn = NearestNeighbors(n_neighbors=3)\\nknn.fit(pitcher_avg_vectors)\\n\\n# Step 9: Use the trained KNN model to find the 3 pitchers with the most similar curveball to Max Scherzer\\'s\\ndistances, indices = knn.kneighbors([sch_avg_vector])\\n\\n# Step 10: Present the findings\\nsimilar_pitchers = pitcher_avg_vectors.iloc[indices[0]]\\nprint(\"The 3 pitchers with the most similar curveballs to Max Scherzer\\'s are:\")\\nprint(similar_pitchers)\\n'}}\n",
      "----\n",
      "Executing: \n",
      "# Importing necessary libraries\n",
      "from pybaseball import playerid_lookup, statcast_pitcher, statcast\n",
      "from sklearn.neighbors import NearestNeighbors\n",
      "import pandas as pd\n",
      "Executing: # Step 1: Find Max Scherzer's MLBAM player ID\n",
      "player_id_df = playerid_lookup('Scherzer', 'Max')\n",
      "player_id = player_id_df['key_mlbam'].values[0]\n",
      "Result: Gathering player lookup table. This may take a moment.\n",
      "\n",
      "Executing: # Step 2: Retrieve Max Scherzer's pitching data\n",
      "sch_pitch_data = statcast_pitcher('2021-04-01', '2021-10-01', player_id)\n"
     ]
    },
    {
     "name": "stderr",
     "output_type": "stream",
     "text": [
      "  0%|          | 0/184 [00:00<?, ?it/s]"
     ]
    },
    {
     "name": "stdout",
     "output_type": "stream",
     "text": [
      "Result: Gathering Player Data\n",
      "\n",
      "Executing: # Step 3: Filter data to only include curveballs thrown by Max Scherzer\n",
      "sch_curveballs = sch_pitch_data[sch_pitch_data['pitch_type'] == 'CU']\n",
      "Executing: # Step 4: Calculate the average vector for Max Scherzer's curveballs\n",
      "sch_avg_vector = sch_curveballs[['release_speed', 'release_spin_rate', 'release_extension']].mean()\n",
      "Executing: # Step 5: Retrieve a comprehensive dataset of pitchers and their pitches\n",
      "all_pitch_data = statcast('2021-04-01', '2021-10-01')\n"
     ]
    },
    {
     "name": "stderr",
     "output_type": "stream",
     "text": [
      "100%|██████████| 184/184 [02:29<00:00,  1.23it/s]\n"
     ]
    },
    {
     "name": "stdout",
     "output_type": "stream",
     "text": [
      "Result: This is a large query, it may take a moment to complete\n",
      "\n",
      "Executing: # Step 6: Filter this dataset to only include curveballs\n",
      "all_curveballs = all_pitch_data[all_pitch_data['pitch_type'] == 'CU']\n",
      "Executing: # Step 7: Group the data by pitcher and calculate the average vector for each pitcher's curveballs\n",
      "pitcher_avg_vectors = all_curveballs.groupby('player_name')[['release_speed', 'release_spin_rate', 'release_extension']].mean()\n",
      "Executing: # Exclude Max Scherzer's data from the training set\n",
      "pitcher_avg_vectors = pitcher_avg_vectors[pitcher_avg_vectors.index != 'Max Scherzer']\n",
      "Executing: # Step 8: Train a KNN model on this dataset of average vectors for each pitcher\n",
      "knn = NearestNeighbors(n_neighbors=3)\n",
      "knn.fit(pitcher_avg_vectors)\n",
      "Result: ValueError('Input X contains NaN.\\nNearestNeighbors does not accept missing values encoded as NaN natively. For supervised learning, you might want to consider sklearn.ensemble.HistGradientBoostingClassifier and Regressor which accept missing values encoded as NaNs natively. Alternatively, it is possible to preprocess the data, for instance by using an imputer transformer in a pipeline or drop samples with missing values. See https://scikit-learn.org/stable/modules/impute.html You can find a list of all estimators that handle NaN values at the following page: https://scikit-learn.org/stable/modules/impute.html#estimators-that-handle-nan-values')\n",
      "Executing: \n",
      "# Step 8: Train a KNN model on this dataset of average vectors for each pitcher\n",
      "from sklearn.impute import SimpleImputer\n",
      "\n",
      "# Impute missing values with the mean\n",
      "imputer = SimpleImputer(strategy='mean')\n",
      "pitcher_avg_vectors_imputed = imputer.fit_transform(pitcher_avg_vectors)\n",
      "\n",
      "knn = NearestNeighbors(n_neighbors=3)\n",
      "knn.fit(pitcher_avg_vectors_imputed)\n",
      "\n",
      "Executing: # Step 9: Use the trained KNN model to find the 3 pitchers with the most similar curveball to Max Scherzer's\n",
      "distances, indices = knn.kneighbors([sch_avg_vector])\n",
      "Executing: # Step 10: Present the findings\n",
      "similar_pitchers = pitcher_avg_vectors.iloc[indices[0]]\n",
      "print(\"The 3 pitchers with the most similar curveballs to Max Scherzer's are:\")\n",
      "print(similar_pitchers)\n",
      "\n",
      "Result: The 3 pitchers with the most similar curveballs to Max Scherzer's are:\n",
      "                  release_speed  release_spin_rate  release_extension\n",
      "player_name                                                          \n",
      "Scherzer, Max         76.863538        2660.692029            6.29639\n",
      "Gsellman, Robert           77.8        2658.333333                6.0\n",
      "Eickhoff, Jerad       75.003636        2658.945455           6.038182\n",
      "\n",
      "{'Execute': {'messages': [AIMessage(content=\"The 3 pitchers with the most similar curveballs to Max Scherzer's are:\\n                  release_speed  release_spin_rate  release_extension\\nplayer_name                                                          \\nScherzer, Max         76.863538        2660.692029            6.29639\\nGsellman, Robert           77.8        2658.333333                6.0\\nEickhoff, Jerad       75.003636        2658.945455           6.038182\\n\\nHere is the code that was used to reach this solution:\\n```python\\n\\n# Importing necessary libraries\\nfrom pybaseball import playerid_lookup, statcast_pitcher, statcast\\nfrom sklearn.neighbors import NearestNeighbors\\nimport pandas as pd\\n# Step 1: Find Max Scherzer's MLBAM player ID\\nplayer_id_df = playerid_lookup('Scherzer', 'Max')\\nplayer_id = player_id_df['key_mlbam'].values[0]\\n# Step 2: Retrieve Max Scherzer's pitching data\\nsch_pitch_data = statcast_pitcher('2021-04-01', '2021-10-01', player_id)\\n# Step 3: Filter data to only include curveballs thrown by Max Scherzer\\nsch_curveballs = sch_pitch_data[sch_pitch_data['pitch_type'] == 'CU']\\n# Step 4: Calculate the average vector for Max Scherzer's curveballs\\nsch_avg_vector = sch_curveballs[['release_speed', 'release_spin_rate', 'release_extension']].mean()\\n# Step 5: Retrieve a comprehensive dataset of pitchers and their pitches\\nall_pitch_data = statcast('2021-04-01', '2021-10-01')\\n# Step 6: Filter this dataset to only include curveballs\\nall_curveballs = all_pitch_data[all_pitch_data['pitch_type'] == 'CU']\\n# Step 7: Group the data by pitcher and calculate the average vector for each pitcher's curveballs\\npitcher_avg_vectors = all_curveballs.groupby('player_name')[['release_speed', 'release_spin_rate', 'release_extension']].mean()\\n# Exclude Max Scherzer's data from the training set\\npitcher_avg_vectors = pitcher_avg_vectors[pitcher_avg_vectors.index != 'Max Scherzer']\\n\\n# Step 8: Train a KNN model on this dataset of average vectors for each pitcher\\nfrom sklearn.impute import SimpleImputer\\n\\n# Impute missing values with the mean\\nimputer = SimpleImputer(strategy='mean')\\npitcher_avg_vectors_imputed = imputer.fit_transform(pitcher_avg_vectors)\\n\\nknn = NearestNeighbors(n_neighbors=3)\\nknn.fit(pitcher_avg_vectors_imputed)\\n\\n# Step 9: Use the trained KNN model to find the 3 pitchers with the most similar curveball to Max Scherzer's\\ndistances, indices = knn.kneighbors([sch_avg_vector])\\n```\\n\\nAre you satisfied with this result?\")], 'previous_node': 'Execute', 'code': '\\n# Importing necessary libraries\\nfrom pybaseball import playerid_lookup, statcast_pitcher, statcast\\nfrom sklearn.neighbors import NearestNeighbors\\nimport pandas as pd\\n# Step 1: Find Max Scherzer\\'s MLBAM player ID\\nplayer_id_df = playerid_lookup(\\'Scherzer\\', \\'Max\\')\\nplayer_id = player_id_df[\\'key_mlbam\\'].values[0]\\n# Step 2: Retrieve Max Scherzer\\'s pitching data\\nsch_pitch_data = statcast_pitcher(\\'2021-04-01\\', \\'2021-10-01\\', player_id)\\n# Step 3: Filter data to only include curveballs thrown by Max Scherzer\\nsch_curveballs = sch_pitch_data[sch_pitch_data[\\'pitch_type\\'] == \\'CU\\']\\n# Step 4: Calculate the average vector for Max Scherzer\\'s curveballs\\nsch_avg_vector = sch_curveballs[[\\'release_speed\\', \\'release_spin_rate\\', \\'release_extension\\']].mean()\\n# Step 5: Retrieve a comprehensive dataset of pitchers and their pitches\\nall_pitch_data = statcast(\\'2021-04-01\\', \\'2021-10-01\\')\\n# Step 6: Filter this dataset to only include curveballs\\nall_curveballs = all_pitch_data[all_pitch_data[\\'pitch_type\\'] == \\'CU\\']\\n# Step 7: Group the data by pitcher and calculate the average vector for each pitcher\\'s curveballs\\npitcher_avg_vectors = all_curveballs.groupby(\\'player_name\\')[[\\'release_speed\\', \\'release_spin_rate\\', \\'release_extension\\']].mean()\\n# Exclude Max Scherzer\\'s data from the training set\\npitcher_avg_vectors = pitcher_avg_vectors[pitcher_avg_vectors.index != \\'Max Scherzer\\']\\n\\n# Step 8: Train a KNN model on this dataset of average vectors for each pitcher\\nfrom sklearn.impute import SimpleImputer\\n\\n# Impute missing values with the mean\\nimputer = SimpleImputer(strategy=\\'mean\\')\\npitcher_avg_vectors_imputed = imputer.fit_transform(pitcher_avg_vectors)\\n\\nknn = NearestNeighbors(n_neighbors=3)\\nknn.fit(pitcher_avg_vectors_imputed)\\n\\n# Step 9: Use the trained KNN model to find the 3 pitchers with the most similar curveball to Max Scherzer\\'s\\ndistances, indices = knn.kneighbors([sch_avg_vector])\\n# Step 10: Present the findings\\nsimilar_pitchers = pitcher_avg_vectors.iloc[indices[0]]\\nprint(\"The 3 pitchers with the most similar curveballs to Max Scherzer\\'s are:\")\\nprint(similar_pitchers)\\n'}}\n",
      "----\n",
      "The 3 pitchers with the most similar curveballs to Max Scherzer's are:\n",
      "                  release_speed  release_spin_rate  release_extension\n",
      "player_name                                                          \n",
      "Scherzer, Max         76.863538        2660.692029            6.29639\n",
      "Gsellman, Robert           77.8        2658.333333                6.0\n",
      "Eickhoff, Jerad       75.003636        2658.945455           6.038182\n",
      "\n",
      "Here is the code that was used to reach this solution:\n",
      "```python\n",
      "\n",
      "# Importing necessary libraries\n",
      "from pybaseball import playerid_lookup, statcast_pitcher, statcast\n",
      "from sklearn.neighbors import NearestNeighbors\n",
      "import pandas as pd\n",
      "# Step 1: Find Max Scherzer's MLBAM player ID\n",
      "player_id_df = playerid_lookup('Scherzer', 'Max')\n",
      "player_id = player_id_df['key_mlbam'].values[0]\n",
      "# Step 2: Retrieve Max Scherzer's pitching data\n",
      "sch_pitch_data = statcast_pitcher('2021-04-01', '2021-10-01', player_id)\n",
      "# Step 3: Filter data to only include curveballs thrown by Max Scherzer\n",
      "sch_curveballs = sch_pitch_data[sch_pitch_data['pitch_type'] == 'CU']\n",
      "# Step 4: Calculate the average vector for Max Scherzer's curveballs\n",
      "sch_avg_vector = sch_curveballs[['release_speed', 'release_spin_rate', 'release_extension']].mean()\n",
      "# Step 5: Retrieve a comprehensive dataset of pitchers and their pitches\n",
      "all_pitch_data = statcast('2021-04-01', '2021-10-01')\n",
      "# Step 6: Filter this dataset to only include curveballs\n",
      "all_curveballs = all_pitch_data[all_pitch_data['pitch_type'] == 'CU']\n",
      "# Step 7: Group the data by pitcher and calculate the average vector for each pitcher's curveballs\n",
      "pitcher_avg_vectors = all_curveballs.groupby('player_name')[['release_speed', 'release_spin_rate', 'release_extension']].mean()\n",
      "# Exclude Max Scherzer's data from the training set\n",
      "pitcher_avg_vectors = pitcher_avg_vectors[pitcher_avg_vectors.index != 'Max Scherzer']\n",
      "\n",
      "# Step 8: Train a KNN model on this dataset of average vectors for each pitcher\n",
      "from sklearn.impute import SimpleImputer\n",
      "\n",
      "# Impute missing values with the mean\n",
      "imputer = SimpleImputer(strategy='mean')\n",
      "pitcher_avg_vectors_imputed = imputer.fit_transform(pitcher_avg_vectors)\n",
      "\n",
      "knn = NearestNeighbors(n_neighbors=3)\n",
      "knn.fit(pitcher_avg_vectors_imputed)\n",
      "\n",
      "# Step 9: Use the trained KNN model to find the 3 pitchers with the most similar curveball to Max Scherzer's\n",
      "distances, indices = knn.kneighbors([sch_avg_vector])\n",
      "```\n",
      "\n",
      "Are you satisfied with this result?\n"
     ]
    }
   ],
   "source": [
    "task = 'approved'\n",
    "result = baseball_lambda.execute_workflow(task, session_id)\n",
    "print(result)"
   ]
  },
  {
   "cell_type": "code",
   "execution_count": 8,
   "id": "d980d14b",
   "metadata": {},
   "outputs": [
    {
     "name": "stdout",
     "output_type": "stream",
     "text": [
      "{'Orchestrate': {'next': 'Memorize'}}\n",
      "----\n",
      "{'Memorize': {'messages': [AIMessage(content='Thank you, task has been commited to memory')], 'previous_node': 'Memorize'}}\n",
      "----\n",
      "Thank you, task has been commited to memory\n"
     ]
    }
   ],
   "source": [
    "task = 'yes'\n",
    "result = baseball_lambda.execute_workflow(task, session_id)\n",
    "print(result)"
   ]
  },
  {
   "cell_type": "code",
   "execution_count": null,
   "id": "79e9b557",
   "metadata": {},
   "outputs": [],
   "source": []
  }
 ],
 "metadata": {
  "kernelspec": {
   "display_name": "venv",
   "language": "python",
   "name": "python3"
  },
  "language_info": {
   "codemirror_mode": {
    "name": "ipython",
    "version": 3
   },
   "file_extension": ".py",
   "mimetype": "text/x-python",
   "name": "python",
   "nbconvert_exporter": "python",
   "pygments_lexer": "ipython3",
   "version": "3.10.8"
  }
 },
 "nbformat": 4,
 "nbformat_minor": 5
}
