{
 "cells": [
  {
   "cell_type": "code",
   "execution_count": 1,
   "id": "7c01b355-66d2-40e0-92a4-c4553a8d2edd",
   "metadata": {
    "tags": []
   },
   "outputs": [
    {
     "name": "stderr",
     "output_type": "stream",
     "text": [
      "/Users/rosclay/Documents/VSCode/langgraph-multi-agent/venv/lib/python3.10/site-packages/langchain_core/_api/beta_decorator.py:87: LangChainBetaWarning: The function `bind_tools` is in beta. It is actively being worked on, so the API may change.\n",
      "  warn_beta(\n",
      "Python REPL can execute arbitrary code. Use with caution.\n"
     ]
    }
   ],
   "source": [
    "# general\n",
    "from datetime import datetime\n",
    "from dotenv import load_dotenv, find_dotenv\n",
    "import os\n",
    "\n",
    "# custom local libs\n",
    "from function import baseball_lambda"
   ]
  },
  {
   "cell_type": "code",
   "execution_count": 2,
   "id": "7a2a54ab",
   "metadata": {},
   "outputs": [],
   "source": [
    "# read local .env file\n",
    "_ = load_dotenv(find_dotenv()) "
   ]
  },
  {
   "cell_type": "code",
   "execution_count": 3,
   "id": "12b6af87",
   "metadata": {},
   "outputs": [],
   "source": [
    "# set Langsmith project\n",
    "today = datetime.now().strftime(\"%Y%m%d\")\n",
    "os.environ[\"LANGCHAIN_PROJECT\"] = f\"Baseball Curveballs A - {today}\""
   ]
  },
  {
   "cell_type": "code",
   "execution_count": 4,
   "id": "6bf9b046",
   "metadata": {},
   "outputs": [],
   "source": [
    "session_id = '2113415'"
   ]
  },
  {
   "cell_type": "code",
   "execution_count": 5,
   "id": "483dc6f3",
   "metadata": {},
   "outputs": [
    {
     "name": "stdout",
     "output_type": "stream",
     "text": [
      "{'Orchestrate': {'next': 'Retrieve'}}\n",
      "----\n",
      "Distance to neareast plan: 0.5695837736129761\n",
      "{'Retrieve': {'next': 'Initialize', 'nearest_plan': \"1. Import the necessary libraries:\\n\\n```python\\nfrom pybaseball import playerid_lookup, statcast_pitcher\\nimport matplotlib.pyplot as plt\\n```\\n\\n2. Look up Danny Duffy's player ID:\\n\\n```python\\nduffy_id = playerid_lookup('duffy', 'danny')['key_mlbam'][0]  \\n```\\n\\n3. Get Danny Duffy's statcast pitching data for the 2018 season:\\n\\n```python\\nduffy_2018 = statcast_pitcher('2018-03-29', '2018-10-01', duffy_id)\\n```\\n\\n4. Sum the strikeouts per game, skipping NaN values:\\n\\n```python\\nduffy_2018['strikeouts'] = duffy_2018['events'].str.contains('strikeout', na=False).astype(int)\\nstrikeouts_by_game = duffy_2018.groupby('game_date')['strikeouts'].sum()\\n```\\n\\n5. Calculate the cumulative sum of strikeouts:\\n\\n```python \\nstrikeouts_by_game_cumsum = strikeouts_by_game.cumsum()\\n```\\n\\n6. Plot the results:\\n\\n```python\\nplt.figure(figsize=(10,6))\\nplt.plot(strikeouts_by_game_cumsum.index, strikeouts_by_game_cumsum) \\nplt.xlabel('game date')\\nplt.ylabel('total k\\\\'s')\\nplt.title('Danny Duffy 2018 Cumulative Strikeouts') \\nplt.show()\\n```\", 'nearest_task': 'Plot the cumulative sum of strikeouts thrown by Danny Duffy in the 2018 season.', 'nearest_code': '# Check if pybaseball is imported\\nimport pybaseball\\nfrom pybaseball import playerid_lookup, statcast_pitcher\\n\\n# Look up Danny Duffy\\'s player ID\\nduffy_id = playerid_lookup(\\'duffy\\', \\'danny\\')[\\'key_mlbam\\'][0]\\n\\n# Get Danny Duffy\\'s statcast pitching data for the 2018 season\\nduffy_2018 = statcast_pitcher(\\'2018-03-29\\', \\'2018-10-01\\', duffy_id)\\nprint(f\"Retrieved {len(duffy_2018)} rows of data for Danny Duffy\\'s 2018 season\")\\nfrom pybaseball import playerid_lookup, statcast_pitcher\\n\\n# Look up Danny Duffy\\'s player ID\\nduffy_id = playerid_lookup(\\'duffy\\', \\'danny\\')[\\'key_mlbam\\'][0]\\n\\n# Get Danny Duffy\\'s statcast pitching data for the 2018 season\\nduffy_2018 = statcast_pitcher(\\'2018-03-29\\', \\'2018-10-01\\', duffy_id)\\n\\n# Check for NaN values in the \\'events\\' column\\nprint(f\"Number of NaN values in \\'events\\' column: {duffy_2018[\\'events\\'].isnull().sum()}\")\\nfrom pybaseball import playerid_lookup, statcast_pitcher\\n\\n# Look up Danny Duffy\\'s player ID\\nduffy_id = playerid_lookup(\\'duffy\\', \\'danny\\')[\\'key_mlbam\\'][0]\\n\\n# Get Danny Duffy\\'s statcast pitching data for the 2018 season\\nduffy_2018 = statcast_pitcher(\\'2018-03-29\\', \\'2018-10-01\\', duffy_id)\\n\\n# Sum the strikeouts per game, skipping NaN values\\nduffy_2018[\\'strikeouts\\'] = duffy_2018[\\'events\\'].str.contains(\\'strikeout\\', na=False).astype(int)\\nstrikeouts_by_game = duffy_2018.groupby(\\'game_date\\')[\\'strikeouts\\'].sum()\\n\\n# Calculate the cumulative sum of strikeouts\\nstrikeouts_by_game_cumsum = strikeouts_by_game.cumsum()\\nprint(strikeouts_by_game_cumsum.head())\\nfrom pybaseball import playerid_lookup, statcast_pitcher\\nimport matplotlib.pyplot as plt\\n\\n# Look up Danny Duffy\\'s player ID\\nduffy_id = playerid_lookup(\\'duffy\\', \\'danny\\')[\\'key_mlbam\\'][0]\\n\\n# Get Danny Duffy\\'s statcast pitching data for the 2018 season\\nduffy_2018 = statcast_pitcher(\\'2018-03-29\\', \\'2018-10-01\\', duffy_id)\\n\\n# Sum the strikeouts per game, skipping NaN values\\nduffy_2018[\\'strikeouts\\'] = duffy_2018[\\'events\\'].str.contains(\\'strikeout\\', na=False).astype(int)\\nstrikeouts_by_game = duffy_2018.groupby(\\'game_date\\')[\\'strikeouts\\'].sum()\\n\\n# Calculate the cumulative sum of strikeouts\\nstrikeouts_by_game_cumsum = strikeouts_by_game.cumsum()\\n\\n# Plot the results\\nplt.figure(figsize=(10,6))\\nplt.plot(strikeouts_by_game_cumsum.index, strikeouts_by_game_cumsum)\\nplt.xlabel(\\'game date\\')\\nplt.ylabel(\\'total k\\\\\\'s\\') \\nplt.title(\\'Danny Duffy 2018 Cumulative Strikeouts\\')\\nplt.show()', 'task': \"Consider the first week of August 2020 - find the names of 3 pitchers who's curveballs were most similar to Max Scherzer's.\", 'previous_node': 'Retrieve'}}\n",
      "----\n",
      "Formulating a new plan to solve the task.\n",
      "{'Initialize': {'plan': \"1. Use playerid_lookup to find Max Scherzer's MLBAM player ID \\n\\n2. Get Max Scherzer's statcast pitching data for Aug 1-7, 2020 using statcast_pitcher with parameters:\\n- start_dt = '2020-08-01'  \\n- end_dt = '2020-08-07'\\n- player_id = Max Scherzer's MLBAM ID\\n\\n3. Filter Scherzer's data to only include pitches where pitch_type = 'CU' (curveball)\\n\\n4. Calculate the average speed, spin rate, horizontal and vertical movement for Scherzer's curveballs\\n\\n5. Get statcast pitching data for the same date range for all other pitchers (requires a list of all pitcher IDs as input)\\n\\n6. Filter the data for each pitcher to only their curveballs \\n\\n7. For each pitcher, calculate the average speed, spin rate, horizontal and vertical movement of their curveballs\\n\\n8. Calculate a similarity score between each pitcher's average curveball metrics and Scherzer's averages\\n  \\n9. Find the 3 pitchers with the highest similarity scores\\n\\n10. Print out the names of the 3 most similar pitchers to Scherzer in terms of curveball characteristics\\n\\nTo fully execute this plan, I would still need a list of all pitcher IDs to get their statcast data for comparison in step 5. Let me know if you can provide that list of IDs, or the names of pitchers to lookup, so I can proceed with the full analysis!\", 'previous_node': 'Initialize', 'pybaseball_libraries': 'playerid_lookup, statcast_pitcher'}}\n",
      "----\n",
      "Collecting documentation for playerid_lookup, statcast_pitcher\n",
      "Updating plan based function documentation\n",
      "{'Update': {'messages': [HumanMessage(content=\"Consider the first week of August 2020 - find the names of 3 pitchers who's curveballs were most similar to Max Scherzer's.\", name='User'), AIMessage(content='1. Use playerid_lookup to find Max Scherzer\\'s MLBAM player ID by passing his last name \"Scherzer\" and first name \"Max\"\\n\\n2. Get Max Scherzer\\'s statcast pitching data for Aug 1-7, 2020 using statcast_pitcher with parameters:\\n- start_dt = \\'2020-08-01\\'  \\n- end_dt = \\'2020-08-07\\'\\n- player_id = Max Scherzer\\'s MLBAM ID from step 1\\n\\n3. Filter Scherzer\\'s data to only include pitches where pitch_type = \\'CU\\' (curveball)\\n\\n4. Calculate the average speed, spin rate, horizontal and vertical movement for Scherzer\\'s curveballs\\n\\n5. Use playerid_lookup with fuzzy=True to get a list of all players, then filter to only pitchers who pitched between \\'2020-08-01\\' and \\'2020-08-07\\' to get their MLBAM IDs\\n\\n6. Get statcast pitching data for Aug 1-7, 2020 for all pitchers from step 5 by passing their IDs and the date range to statcast_pitcher \\n\\n7. For each pitcher, filter their data to only curveballs (pitch_type = \\'CU\\')\\n\\n8. For each pitcher, calculate the average speed, spin rate, horizontal and vertical movement of their curveballs\\n\\n9. Calculate a similarity score between each pitcher\\'s average curveball metrics and Scherzer\\'s averages\\n  \\n10. Find the 3 pitchers with the highest similarity scores to Scherzer\\n\\n11. Print out the names of the 3 pitchers who had the most similar curveballs to Scherzer in early August 2020\\n\\nAre you satisfied with this plan?')], 'task': \"Consider the first week of August 2020 - find the names of 3 pitchers who's curveballs were most similar to Max Scherzer's.\", 'plan': '1. Use playerid_lookup to find Max Scherzer\\'s MLBAM player ID by passing his last name \"Scherzer\" and first name \"Max\"\\n\\n2. Get Max Scherzer\\'s statcast pitching data for Aug 1-7, 2020 using statcast_pitcher with parameters:\\n- start_dt = \\'2020-08-01\\'  \\n- end_dt = \\'2020-08-07\\'\\n- player_id = Max Scherzer\\'s MLBAM ID from step 1\\n\\n3. Filter Scherzer\\'s data to only include pitches where pitch_type = \\'CU\\' (curveball)\\n\\n4. Calculate the average speed, spin rate, horizontal and vertical movement for Scherzer\\'s curveballs\\n\\n5. Use playerid_lookup with fuzzy=True to get a list of all players, then filter to only pitchers who pitched between \\'2020-08-01\\' and \\'2020-08-07\\' to get their MLBAM IDs\\n\\n6. Get statcast pitching data for Aug 1-7, 2020 for all pitchers from step 5 by passing their IDs and the date range to statcast_pitcher \\n\\n7. For each pitcher, filter their data to only curveballs (pitch_type = \\'CU\\')\\n\\n8. For each pitcher, calculate the average speed, spin rate, horizontal and vertical movement of their curveballs\\n\\n9. Calculate a similarity score between each pitcher\\'s average curveball metrics and Scherzer\\'s averages\\n  \\n10. Find the 3 pitchers with the highest similarity scores to Scherzer\\n\\n11. Print out the names of the 3 pitchers who had the most similar curveballs to Scherzer in early August 2020\\n\\nAre you satisfied with this plan?', 'previous_node': 'Update'}}\n",
      "----\n",
      "1. Use playerid_lookup to find Max Scherzer's MLBAM player ID by passing his last name \"Scherzer\" and first name \"Max\"\n",
      "\n",
      "2. Get Max Scherzer's statcast pitching data for Aug 1-7, 2020 using statcast_pitcher with parameters:\n",
      "- start_dt = '2020-08-01'  \n",
      "- end_dt = '2020-08-07'\n",
      "- player_id = Max Scherzer's MLBAM ID from step 1\n",
      "\n",
      "3. Filter Scherzer's data to only include pitches where pitch_type = 'CU' (curveball)\n",
      "\n",
      "4. Calculate the average speed, spin rate, horizontal and vertical movement for Scherzer's curveballs\n",
      "\n",
      "5. Use playerid_lookup with fuzzy=True to get a list of all players, then filter to only pitchers who pitched between '2020-08-01' and '2020-08-07' to get their MLBAM IDs\n",
      "\n",
      "6. Get statcast pitching data for Aug 1-7, 2020 for all pitchers from step 5 by passing their IDs and the date range to statcast_pitcher \n",
      "\n",
      "7. For each pitcher, filter their data to only curveballs (pitch_type = 'CU')\n",
      "\n",
      "8. For each pitcher, calculate the average speed, spin rate, horizontal and vertical movement of their curveballs\n",
      "\n",
      "9. Calculate a similarity score between each pitcher's average curveball metrics and Scherzer's averages\n",
      "  \n",
      "10. Find the 3 pitchers with the highest similarity scores to Scherzer\n",
      "\n",
      "11. Print out the names of the 3 pitchers who had the most similar curveballs to Scherzer in early August 2020\n",
      "\n",
      "Are you satisfied with this plan?\n"
     ]
    }
   ],
   "source": [
    "task =  \"Consider the first week of August 2020 - find the names of 3 pitchers who's curveballs were most similar to Max Scherzer's.\"\n",
    "result = baseball_lambda.execute_workflow(task, session_id)\n",
    "print(result)"
   ]
  },
  {
   "cell_type": "code",
   "execution_count": 6,
   "id": "f96260a3",
   "metadata": {},
   "outputs": [
    {
     "name": "stdout",
     "output_type": "stream",
     "text": [
      "{'Orchestrate': {'next': 'Revise'}}\n",
      "----\n"
     ]
    },
    {
     "ename": "AttributeError",
     "evalue": "'NoneType' object has no attribute 'plan'",
     "output_type": "error",
     "traceback": [
      "\u001b[0;31m---------------------------------------------------------------------------\u001b[0m",
      "\u001b[0;31mAttributeError\u001b[0m                            Traceback (most recent call last)",
      "Cell \u001b[0;32mIn[6], line 2\u001b[0m\n\u001b[1;32m      1\u001b[0m task \u001b[38;5;241m=\u001b[39m \u001b[38;5;124m'\u001b[39m\u001b[38;5;124msolve the task by training a KNN algorithm\u001b[39m\u001b[38;5;124m'\u001b[39m\n\u001b[0;32m----> 2\u001b[0m result \u001b[38;5;241m=\u001b[39m \u001b[43mbaseball_lambda\u001b[49m\u001b[38;5;241;43m.\u001b[39;49m\u001b[43mexecute_workflow\u001b[49m\u001b[43m(\u001b[49m\u001b[43mtask\u001b[49m\u001b[43m,\u001b[49m\u001b[43m \u001b[49m\u001b[43msession_id\u001b[49m\u001b[43m)\u001b[49m\n\u001b[1;32m      3\u001b[0m \u001b[38;5;28mprint\u001b[39m(result)\n",
      "File \u001b[0;32m~/Documents/VSCode/langgraph-multi-agent/function/baseball_lambda.py:33\u001b[0m, in \u001b[0;36mexecute_workflow\u001b[0;34m(task, session_id)\u001b[0m\n\u001b[1;32m     30\u001b[0m     state_dict[session_id][\u001b[38;5;124m'\u001b[39m\u001b[38;5;124mmessages\u001b[39m\u001b[38;5;124m'\u001b[39m] \u001b[38;5;241m=\u001b[39m [human_message]\n\u001b[1;32m     32\u001b[0m \u001b[38;5;66;03m# execute\u001b[39;00m\n\u001b[0;32m---> 33\u001b[0m \u001b[38;5;28;01mfor\u001b[39;00m s \u001b[38;5;129;01min\u001b[39;00m orchestrate_graph\u001b[38;5;241m.\u001b[39mgraph\u001b[38;5;241m.\u001b[39mstream(state_dict[session_id]):\n\u001b[1;32m     34\u001b[0m     \u001b[38;5;28;01mif\u001b[39;00m \u001b[38;5;124m\"\u001b[39m\u001b[38;5;124m__end__\u001b[39m\u001b[38;5;124m\"\u001b[39m \u001b[38;5;129;01mnot\u001b[39;00m \u001b[38;5;129;01min\u001b[39;00m s:\n\u001b[1;32m     35\u001b[0m         \u001b[38;5;28mprint\u001b[39m(s)\n",
      "File \u001b[0;32m~/Documents/VSCode/langgraph-multi-agent/venv/lib/python3.10/site-packages/langgraph/pregel/__init__.py:567\u001b[0m, in \u001b[0;36mPregel.transform\u001b[0;34m(self, input, config, output_keys, input_keys, **kwargs)\u001b[0m\n\u001b[1;32m    558\u001b[0m \u001b[38;5;28;01mdef\u001b[39;00m \u001b[38;5;21mtransform\u001b[39m(\n\u001b[1;32m    559\u001b[0m     \u001b[38;5;28mself\u001b[39m,\n\u001b[1;32m    560\u001b[0m     \u001b[38;5;28minput\u001b[39m: Iterator[Union[\u001b[38;5;28mdict\u001b[39m[\u001b[38;5;28mstr\u001b[39m, Any], Any]],\n\u001b[0;32m   (...)\u001b[0m\n\u001b[1;32m    565\u001b[0m     \u001b[38;5;241m*\u001b[39m\u001b[38;5;241m*\u001b[39mkwargs: Any,\n\u001b[1;32m    566\u001b[0m ) \u001b[38;5;241m-\u001b[39m\u001b[38;5;241m>\u001b[39m Iterator[Union[\u001b[38;5;28mdict\u001b[39m[\u001b[38;5;28mstr\u001b[39m, Any], Any]]:\n\u001b[0;32m--> 567\u001b[0m     \u001b[38;5;28;01mfor\u001b[39;00m chunk \u001b[38;5;129;01min\u001b[39;00m \u001b[38;5;28mself\u001b[39m\u001b[38;5;241m.\u001b[39m_transform_stream_with_config(\n\u001b[1;32m    568\u001b[0m         \u001b[38;5;28minput\u001b[39m,\n\u001b[1;32m    569\u001b[0m         \u001b[38;5;28mself\u001b[39m\u001b[38;5;241m.\u001b[39m_transform,\n\u001b[1;32m    570\u001b[0m         config,\n\u001b[1;32m    571\u001b[0m         output_keys\u001b[38;5;241m=\u001b[39moutput_keys,\n\u001b[1;32m    572\u001b[0m         input_keys\u001b[38;5;241m=\u001b[39minput_keys,\n\u001b[1;32m    573\u001b[0m         \u001b[38;5;241m*\u001b[39m\u001b[38;5;241m*\u001b[39mkwargs,\n\u001b[1;32m    574\u001b[0m     ):\n\u001b[1;32m    575\u001b[0m         \u001b[38;5;28;01myield\u001b[39;00m chunk\n",
      "File \u001b[0;32m~/Documents/VSCode/langgraph-multi-agent/venv/lib/python3.10/site-packages/langchain_core/runnables/base.py:1880\u001b[0m, in \u001b[0;36mRunnable._transform_stream_with_config\u001b[0;34m(self, input, transformer, config, run_type, **kwargs)\u001b[0m\n\u001b[1;32m   1878\u001b[0m \u001b[38;5;28;01mtry\u001b[39;00m:\n\u001b[1;32m   1879\u001b[0m     \u001b[38;5;28;01mwhile\u001b[39;00m \u001b[38;5;28;01mTrue\u001b[39;00m:\n\u001b[0;32m-> 1880\u001b[0m         chunk: Output \u001b[38;5;241m=\u001b[39m \u001b[43mcontext\u001b[49m\u001b[38;5;241;43m.\u001b[39;49m\u001b[43mrun\u001b[49m\u001b[43m(\u001b[49m\u001b[38;5;28;43mnext\u001b[39;49m\u001b[43m,\u001b[49m\u001b[43m \u001b[49m\u001b[43miterator\u001b[49m\u001b[43m)\u001b[49m  \u001b[38;5;66;03m# type: ignore\u001b[39;00m\n\u001b[1;32m   1881\u001b[0m         \u001b[38;5;28;01myield\u001b[39;00m chunk\n\u001b[1;32m   1882\u001b[0m         \u001b[38;5;28;01mif\u001b[39;00m final_output_supported:\n",
      "File \u001b[0;32m~/Documents/VSCode/langgraph-multi-agent/venv/lib/python3.10/site-packages/langgraph/pregel/__init__.py:342\u001b[0m, in \u001b[0;36mPregel._transform\u001b[0;34m(self, input, run_manager, config, input_keys, output_keys)\u001b[0m\n\u001b[1;32m    332\u001b[0m done, inflight \u001b[38;5;241m=\u001b[39m concurrent\u001b[38;5;241m.\u001b[39mfutures\u001b[38;5;241m.\u001b[39mwait(\n\u001b[1;32m    333\u001b[0m     [\n\u001b[1;32m    334\u001b[0m         executor\u001b[38;5;241m.\u001b[39msubmit(proc\u001b[38;5;241m.\u001b[39minvoke, \u001b[38;5;28minput\u001b[39m, config)\n\u001b[0;32m   (...)\u001b[0m\n\u001b[1;32m    338\u001b[0m     timeout\u001b[38;5;241m=\u001b[39m\u001b[38;5;28mself\u001b[39m\u001b[38;5;241m.\u001b[39mstep_timeout,\n\u001b[1;32m    339\u001b[0m )\n\u001b[1;32m    341\u001b[0m \u001b[38;5;66;03m# interrupt on failure or timeout\u001b[39;00m\n\u001b[0;32m--> 342\u001b[0m \u001b[43m_interrupt_or_proceed\u001b[49m\u001b[43m(\u001b[49m\u001b[43mdone\u001b[49m\u001b[43m,\u001b[49m\u001b[43m \u001b[49m\u001b[43minflight\u001b[49m\u001b[43m,\u001b[49m\u001b[43m \u001b[49m\u001b[43mstep\u001b[49m\u001b[43m)\u001b[49m\n\u001b[1;32m    344\u001b[0m \u001b[38;5;66;03m# apply writes to channels\u001b[39;00m\n\u001b[1;32m    345\u001b[0m _apply_writes(checkpoint, channels, pending_writes, config, step \u001b[38;5;241m+\u001b[39m \u001b[38;5;241m1\u001b[39m)\n",
      "File \u001b[0;32m~/Documents/VSCode/langgraph-multi-agent/venv/lib/python3.10/site-packages/langgraph/pregel/__init__.py:650\u001b[0m, in \u001b[0;36m_interrupt_or_proceed\u001b[0;34m(done, inflight, step)\u001b[0m\n\u001b[1;32m    648\u001b[0m             inflight\u001b[38;5;241m.\u001b[39mpop()\u001b[38;5;241m.\u001b[39mcancel()\n\u001b[1;32m    649\u001b[0m         \u001b[38;5;66;03m# raise the exception\u001b[39;00m\n\u001b[0;32m--> 650\u001b[0m         \u001b[38;5;28;01mraise\u001b[39;00m exc\n\u001b[1;32m    651\u001b[0m         \u001b[38;5;66;03m# TODO this is where retry of an entire step would happen\u001b[39;00m\n\u001b[1;32m    653\u001b[0m \u001b[38;5;28;01mif\u001b[39;00m inflight:\n\u001b[1;32m    654\u001b[0m     \u001b[38;5;66;03m# if we got here means we timed out\u001b[39;00m\n",
      "File \u001b[0;32m/usr/local/Cellar/python@3.10/3.10.8/Frameworks/Python.framework/Versions/3.10/lib/python3.10/concurrent/futures/thread.py:58\u001b[0m, in \u001b[0;36m_WorkItem.run\u001b[0;34m(self)\u001b[0m\n\u001b[1;32m     55\u001b[0m     \u001b[38;5;28;01mreturn\u001b[39;00m\n\u001b[1;32m     57\u001b[0m \u001b[38;5;28;01mtry\u001b[39;00m:\n\u001b[0;32m---> 58\u001b[0m     result \u001b[38;5;241m=\u001b[39m \u001b[38;5;28;43mself\u001b[39;49m\u001b[38;5;241;43m.\u001b[39;49m\u001b[43mfn\u001b[49m\u001b[43m(\u001b[49m\u001b[38;5;241;43m*\u001b[39;49m\u001b[38;5;28;43mself\u001b[39;49m\u001b[38;5;241;43m.\u001b[39;49m\u001b[43margs\u001b[49m\u001b[43m,\u001b[49m\u001b[43m \u001b[49m\u001b[38;5;241;43m*\u001b[39;49m\u001b[38;5;241;43m*\u001b[39;49m\u001b[38;5;28;43mself\u001b[39;49m\u001b[38;5;241;43m.\u001b[39;49m\u001b[43mkwargs\u001b[49m\u001b[43m)\u001b[49m\n\u001b[1;32m     59\u001b[0m \u001b[38;5;28;01mexcept\u001b[39;00m \u001b[38;5;167;01mBaseException\u001b[39;00m \u001b[38;5;28;01mas\u001b[39;00m exc:\n\u001b[1;32m     60\u001b[0m     \u001b[38;5;28mself\u001b[39m\u001b[38;5;241m.\u001b[39mfuture\u001b[38;5;241m.\u001b[39mset_exception(exc)\n",
      "File \u001b[0;32m~/Documents/VSCode/langgraph-multi-agent/venv/lib/python3.10/site-packages/langchain_core/runnables/base.py:4511\u001b[0m, in \u001b[0;36mRunnableBindingBase.invoke\u001b[0;34m(self, input, config, **kwargs)\u001b[0m\n\u001b[1;32m   4505\u001b[0m \u001b[38;5;28;01mdef\u001b[39;00m \u001b[38;5;21minvoke\u001b[39m(\n\u001b[1;32m   4506\u001b[0m     \u001b[38;5;28mself\u001b[39m,\n\u001b[1;32m   4507\u001b[0m     \u001b[38;5;28minput\u001b[39m: Input,\n\u001b[1;32m   4508\u001b[0m     config: Optional[RunnableConfig] \u001b[38;5;241m=\u001b[39m \u001b[38;5;28;01mNone\u001b[39;00m,\n\u001b[1;32m   4509\u001b[0m     \u001b[38;5;241m*\u001b[39m\u001b[38;5;241m*\u001b[39mkwargs: Optional[Any],\n\u001b[1;32m   4510\u001b[0m ) \u001b[38;5;241m-\u001b[39m\u001b[38;5;241m>\u001b[39m Output:\n\u001b[0;32m-> 4511\u001b[0m     \u001b[38;5;28;01mreturn\u001b[39;00m \u001b[38;5;28;43mself\u001b[39;49m\u001b[38;5;241;43m.\u001b[39;49m\u001b[43mbound\u001b[49m\u001b[38;5;241;43m.\u001b[39;49m\u001b[43minvoke\u001b[49m\u001b[43m(\u001b[49m\n\u001b[1;32m   4512\u001b[0m \u001b[43m        \u001b[49m\u001b[38;5;28;43minput\u001b[39;49m\u001b[43m,\u001b[49m\n\u001b[1;32m   4513\u001b[0m \u001b[43m        \u001b[49m\u001b[38;5;28;43mself\u001b[39;49m\u001b[38;5;241;43m.\u001b[39;49m\u001b[43m_merge_configs\u001b[49m\u001b[43m(\u001b[49m\u001b[43mconfig\u001b[49m\u001b[43m)\u001b[49m\u001b[43m,\u001b[49m\n\u001b[1;32m   4514\u001b[0m \u001b[43m        \u001b[49m\u001b[38;5;241;43m*\u001b[39;49m\u001b[38;5;241;43m*\u001b[39;49m\u001b[43m{\u001b[49m\u001b[38;5;241;43m*\u001b[39;49m\u001b[38;5;241;43m*\u001b[39;49m\u001b[38;5;28;43mself\u001b[39;49m\u001b[38;5;241;43m.\u001b[39;49m\u001b[43mkwargs\u001b[49m\u001b[43m,\u001b[49m\u001b[43m \u001b[49m\u001b[38;5;241;43m*\u001b[39;49m\u001b[38;5;241;43m*\u001b[39;49m\u001b[43mkwargs\u001b[49m\u001b[43m}\u001b[49m\u001b[43m,\u001b[49m\n\u001b[1;32m   4515\u001b[0m \u001b[43m    \u001b[49m\u001b[43m)\u001b[49m\n",
      "File \u001b[0;32m~/Documents/VSCode/langgraph-multi-agent/venv/lib/python3.10/site-packages/langchain_core/runnables/base.py:2499\u001b[0m, in \u001b[0;36mRunnableSequence.invoke\u001b[0;34m(self, input, config)\u001b[0m\n\u001b[1;32m   2497\u001b[0m \u001b[38;5;28;01mtry\u001b[39;00m:\n\u001b[1;32m   2498\u001b[0m     \u001b[38;5;28;01mfor\u001b[39;00m i, step \u001b[38;5;129;01min\u001b[39;00m \u001b[38;5;28menumerate\u001b[39m(\u001b[38;5;28mself\u001b[39m\u001b[38;5;241m.\u001b[39msteps):\n\u001b[0;32m-> 2499\u001b[0m         \u001b[38;5;28minput\u001b[39m \u001b[38;5;241m=\u001b[39m \u001b[43mstep\u001b[49m\u001b[38;5;241;43m.\u001b[39;49m\u001b[43minvoke\u001b[49m\u001b[43m(\u001b[49m\n\u001b[1;32m   2500\u001b[0m \u001b[43m            \u001b[49m\u001b[38;5;28;43minput\u001b[39;49m\u001b[43m,\u001b[49m\n\u001b[1;32m   2501\u001b[0m \u001b[43m            \u001b[49m\u001b[38;5;66;43;03m# mark each step as a child run\u001b[39;49;00m\n\u001b[1;32m   2502\u001b[0m \u001b[43m            \u001b[49m\u001b[43mpatch_config\u001b[49m\u001b[43m(\u001b[49m\n\u001b[1;32m   2503\u001b[0m \u001b[43m                \u001b[49m\u001b[43mconfig\u001b[49m\u001b[43m,\u001b[49m\u001b[43m \u001b[49m\u001b[43mcallbacks\u001b[49m\u001b[38;5;241;43m=\u001b[39;49m\u001b[43mrun_manager\u001b[49m\u001b[38;5;241;43m.\u001b[39;49m\u001b[43mget_child\u001b[49m\u001b[43m(\u001b[49m\u001b[38;5;124;43mf\u001b[39;49m\u001b[38;5;124;43m\"\u001b[39;49m\u001b[38;5;124;43mseq:step:\u001b[39;49m\u001b[38;5;132;43;01m{\u001b[39;49;00m\u001b[43mi\u001b[49m\u001b[38;5;241;43m+\u001b[39;49m\u001b[38;5;241;43m1\u001b[39;49m\u001b[38;5;132;43;01m}\u001b[39;49;00m\u001b[38;5;124;43m\"\u001b[39;49m\u001b[43m)\u001b[49m\n\u001b[1;32m   2504\u001b[0m \u001b[43m            \u001b[49m\u001b[43m)\u001b[49m\u001b[43m,\u001b[49m\n\u001b[1;32m   2505\u001b[0m \u001b[43m        \u001b[49m\u001b[43m)\u001b[49m\n\u001b[1;32m   2506\u001b[0m \u001b[38;5;66;03m# finish the root run\u001b[39;00m\n\u001b[1;32m   2507\u001b[0m \u001b[38;5;28;01mexcept\u001b[39;00m \u001b[38;5;167;01mBaseException\u001b[39;00m \u001b[38;5;28;01mas\u001b[39;00m e:\n",
      "File \u001b[0;32m~/Documents/VSCode/langgraph-multi-agent/venv/lib/python3.10/site-packages/langchain_core/runnables/base.py:3961\u001b[0m, in \u001b[0;36mRunnableLambda.invoke\u001b[0;34m(self, input, config, **kwargs)\u001b[0m\n\u001b[1;32m   3959\u001b[0m \u001b[38;5;250m\u001b[39m\u001b[38;5;124;03m\"\"\"Invoke this runnable synchronously.\"\"\"\u001b[39;00m\n\u001b[1;32m   3960\u001b[0m \u001b[38;5;28;01mif\u001b[39;00m \u001b[38;5;28mhasattr\u001b[39m(\u001b[38;5;28mself\u001b[39m, \u001b[38;5;124m\"\u001b[39m\u001b[38;5;124mfunc\u001b[39m\u001b[38;5;124m\"\u001b[39m):\n\u001b[0;32m-> 3961\u001b[0m     \u001b[38;5;28;01mreturn\u001b[39;00m \u001b[38;5;28;43mself\u001b[39;49m\u001b[38;5;241;43m.\u001b[39;49m\u001b[43m_call_with_config\u001b[49m\u001b[43m(\u001b[49m\n\u001b[1;32m   3962\u001b[0m \u001b[43m        \u001b[49m\u001b[38;5;28;43mself\u001b[39;49m\u001b[38;5;241;43m.\u001b[39;49m\u001b[43m_invoke\u001b[49m\u001b[43m,\u001b[49m\n\u001b[1;32m   3963\u001b[0m \u001b[43m        \u001b[49m\u001b[38;5;28;43minput\u001b[39;49m\u001b[43m,\u001b[49m\n\u001b[1;32m   3964\u001b[0m \u001b[43m        \u001b[49m\u001b[38;5;28;43mself\u001b[39;49m\u001b[38;5;241;43m.\u001b[39;49m\u001b[43m_config\u001b[49m\u001b[43m(\u001b[49m\u001b[43mconfig\u001b[49m\u001b[43m,\u001b[49m\u001b[43m \u001b[49m\u001b[38;5;28;43mself\u001b[39;49m\u001b[38;5;241;43m.\u001b[39;49m\u001b[43mfunc\u001b[49m\u001b[43m)\u001b[49m\u001b[43m,\u001b[49m\n\u001b[1;32m   3965\u001b[0m \u001b[43m        \u001b[49m\u001b[38;5;241;43m*\u001b[39;49m\u001b[38;5;241;43m*\u001b[39;49m\u001b[43mkwargs\u001b[49m\u001b[43m,\u001b[49m\n\u001b[1;32m   3966\u001b[0m \u001b[43m    \u001b[49m\u001b[43m)\u001b[49m\n\u001b[1;32m   3967\u001b[0m \u001b[38;5;28;01melse\u001b[39;00m:\n\u001b[1;32m   3968\u001b[0m     \u001b[38;5;28;01mraise\u001b[39;00m \u001b[38;5;167;01mTypeError\u001b[39;00m(\n\u001b[1;32m   3969\u001b[0m         \u001b[38;5;124m\"\u001b[39m\u001b[38;5;124mCannot invoke a coroutine function synchronously.\u001b[39m\u001b[38;5;124m\"\u001b[39m\n\u001b[1;32m   3970\u001b[0m         \u001b[38;5;124m\"\u001b[39m\u001b[38;5;124mUse `ainvoke` instead.\u001b[39m\u001b[38;5;124m\"\u001b[39m\n\u001b[1;32m   3971\u001b[0m     )\n",
      "File \u001b[0;32m~/Documents/VSCode/langgraph-multi-agent/venv/lib/python3.10/site-packages/langchain_core/runnables/base.py:1625\u001b[0m, in \u001b[0;36mRunnable._call_with_config\u001b[0;34m(self, func, input, config, run_type, **kwargs)\u001b[0m\n\u001b[1;32m   1621\u001b[0m     context \u001b[38;5;241m=\u001b[39m copy_context()\n\u001b[1;32m   1622\u001b[0m     context\u001b[38;5;241m.\u001b[39mrun(var_child_runnable_config\u001b[38;5;241m.\u001b[39mset, child_config)\n\u001b[1;32m   1623\u001b[0m     output \u001b[38;5;241m=\u001b[39m cast(\n\u001b[1;32m   1624\u001b[0m         Output,\n\u001b[0;32m-> 1625\u001b[0m         \u001b[43mcontext\u001b[49m\u001b[38;5;241;43m.\u001b[39;49m\u001b[43mrun\u001b[49m\u001b[43m(\u001b[49m\n\u001b[1;32m   1626\u001b[0m \u001b[43m            \u001b[49m\u001b[43mcall_func_with_variable_args\u001b[49m\u001b[43m,\u001b[49m\u001b[43m  \u001b[49m\u001b[38;5;66;43;03m# type: ignore[arg-type]\u001b[39;49;00m\n\u001b[1;32m   1627\u001b[0m \u001b[43m            \u001b[49m\u001b[43mfunc\u001b[49m\u001b[43m,\u001b[49m\u001b[43m  \u001b[49m\u001b[38;5;66;43;03m# type: ignore[arg-type]\u001b[39;49;00m\n\u001b[1;32m   1628\u001b[0m \u001b[43m            \u001b[49m\u001b[38;5;28;43minput\u001b[39;49m\u001b[43m,\u001b[49m\u001b[43m  \u001b[49m\u001b[38;5;66;43;03m# type: ignore[arg-type]\u001b[39;49;00m\n\u001b[1;32m   1629\u001b[0m \u001b[43m            \u001b[49m\u001b[43mconfig\u001b[49m\u001b[43m,\u001b[49m\n\u001b[1;32m   1630\u001b[0m \u001b[43m            \u001b[49m\u001b[43mrun_manager\u001b[49m\u001b[43m,\u001b[49m\n\u001b[1;32m   1631\u001b[0m \u001b[43m            \u001b[49m\u001b[38;5;241;43m*\u001b[39;49m\u001b[38;5;241;43m*\u001b[39;49m\u001b[43mkwargs\u001b[49m\u001b[43m,\u001b[49m\n\u001b[1;32m   1632\u001b[0m \u001b[43m        \u001b[49m\u001b[43m)\u001b[49m,\n\u001b[1;32m   1633\u001b[0m     )\n\u001b[1;32m   1634\u001b[0m \u001b[38;5;28;01mexcept\u001b[39;00m \u001b[38;5;167;01mBaseException\u001b[39;00m \u001b[38;5;28;01mas\u001b[39;00m e:\n\u001b[1;32m   1635\u001b[0m     run_manager\u001b[38;5;241m.\u001b[39mon_chain_error(e)\n",
      "File \u001b[0;32m~/Documents/VSCode/langgraph-multi-agent/venv/lib/python3.10/site-packages/langchain_core/runnables/config.py:347\u001b[0m, in \u001b[0;36mcall_func_with_variable_args\u001b[0;34m(func, input, config, run_manager, **kwargs)\u001b[0m\n\u001b[1;32m    345\u001b[0m \u001b[38;5;28;01mif\u001b[39;00m run_manager \u001b[38;5;129;01mis\u001b[39;00m \u001b[38;5;129;01mnot\u001b[39;00m \u001b[38;5;28;01mNone\u001b[39;00m \u001b[38;5;129;01mand\u001b[39;00m accepts_run_manager(func):\n\u001b[1;32m    346\u001b[0m     kwargs[\u001b[38;5;124m\"\u001b[39m\u001b[38;5;124mrun_manager\u001b[39m\u001b[38;5;124m\"\u001b[39m] \u001b[38;5;241m=\u001b[39m run_manager\n\u001b[0;32m--> 347\u001b[0m \u001b[38;5;28;01mreturn\u001b[39;00m \u001b[43mfunc\u001b[49m\u001b[43m(\u001b[49m\u001b[38;5;28;43minput\u001b[39;49m\u001b[43m,\u001b[49m\u001b[43m \u001b[49m\u001b[38;5;241;43m*\u001b[39;49m\u001b[38;5;241;43m*\u001b[39;49m\u001b[43mkwargs\u001b[49m\u001b[43m)\u001b[49m\n",
      "File \u001b[0;32m~/Documents/VSCode/langgraph-multi-agent/venv/lib/python3.10/site-packages/langchain_core/runnables/base.py:3835\u001b[0m, in \u001b[0;36mRunnableLambda._invoke\u001b[0;34m(self, input, run_manager, config, **kwargs)\u001b[0m\n\u001b[1;32m   3833\u001b[0m                 output \u001b[38;5;241m=\u001b[39m chunk\n\u001b[1;32m   3834\u001b[0m \u001b[38;5;28;01melse\u001b[39;00m:\n\u001b[0;32m-> 3835\u001b[0m     output \u001b[38;5;241m=\u001b[39m \u001b[43mcall_func_with_variable_args\u001b[49m\u001b[43m(\u001b[49m\n\u001b[1;32m   3836\u001b[0m \u001b[43m        \u001b[49m\u001b[38;5;28;43mself\u001b[39;49m\u001b[38;5;241;43m.\u001b[39;49m\u001b[43mfunc\u001b[49m\u001b[43m,\u001b[49m\u001b[43m \u001b[49m\u001b[38;5;28;43minput\u001b[39;49m\u001b[43m,\u001b[49m\u001b[43m \u001b[49m\u001b[43mconfig\u001b[49m\u001b[43m,\u001b[49m\u001b[43m \u001b[49m\u001b[43mrun_manager\u001b[49m\u001b[43m,\u001b[49m\u001b[43m \u001b[49m\u001b[38;5;241;43m*\u001b[39;49m\u001b[38;5;241;43m*\u001b[39;49m\u001b[43mkwargs\u001b[49m\n\u001b[1;32m   3837\u001b[0m \u001b[43m    \u001b[49m\u001b[43m)\u001b[49m\n\u001b[1;32m   3838\u001b[0m \u001b[38;5;66;03m# If the output is a runnable, invoke it\u001b[39;00m\n\u001b[1;32m   3839\u001b[0m \u001b[38;5;28;01mif\u001b[39;00m \u001b[38;5;28misinstance\u001b[39m(output, Runnable):\n",
      "File \u001b[0;32m~/Documents/VSCode/langgraph-multi-agent/venv/lib/python3.10/site-packages/langchain_core/runnables/config.py:347\u001b[0m, in \u001b[0;36mcall_func_with_variable_args\u001b[0;34m(func, input, config, run_manager, **kwargs)\u001b[0m\n\u001b[1;32m    345\u001b[0m \u001b[38;5;28;01mif\u001b[39;00m run_manager \u001b[38;5;129;01mis\u001b[39;00m \u001b[38;5;129;01mnot\u001b[39;00m \u001b[38;5;28;01mNone\u001b[39;00m \u001b[38;5;129;01mand\u001b[39;00m accepts_run_manager(func):\n\u001b[1;32m    346\u001b[0m     kwargs[\u001b[38;5;124m\"\u001b[39m\u001b[38;5;124mrun_manager\u001b[39m\u001b[38;5;124m\"\u001b[39m] \u001b[38;5;241m=\u001b[39m run_manager\n\u001b[0;32m--> 347\u001b[0m \u001b[38;5;28;01mreturn\u001b[39;00m \u001b[43mfunc\u001b[49m\u001b[43m(\u001b[49m\u001b[38;5;28;43minput\u001b[39;49m\u001b[43m,\u001b[49m\u001b[43m \u001b[49m\u001b[38;5;241;43m*\u001b[39;49m\u001b[38;5;241;43m*\u001b[39;49m\u001b[43mkwargs\u001b[49m\u001b[43m)\u001b[49m\n",
      "File \u001b[0;32m~/Documents/VSCode/langgraph-multi-agent/nodes/orchestrate/revise_node.py:85\u001b[0m, in \u001b[0;36mnode\u001b[0;34m(state)\u001b[0m\n\u001b[1;32m     83\u001b[0m \u001b[38;5;66;03m# invoke revise chain\u001b[39;00m\n\u001b[1;32m     84\u001b[0m revised \u001b[38;5;241m=\u001b[39m revision_chain\u001b[38;5;241m.\u001b[39minvoke({\u001b[38;5;124m'\u001b[39m\u001b[38;5;124mplan\u001b[39m\u001b[38;5;124m'\u001b[39m: plan, \u001b[38;5;124m'\u001b[39m\u001b[38;5;124mfunction_detail\u001b[39m\u001b[38;5;124m'\u001b[39m: function_detail, \u001b[38;5;124m'\u001b[39m\u001b[38;5;124mtask\u001b[39m\u001b[38;5;124m'\u001b[39m: task, \u001b[38;5;124m'\u001b[39m\u001b[38;5;124mmessages\u001b[39m\u001b[38;5;124m'\u001b[39m: [messages[\u001b[38;5;241m-\u001b[39m\u001b[38;5;241m1\u001b[39m]]}, config\u001b[38;5;241m=\u001b[39mlangchain_config)\n\u001b[0;32m---> 85\u001b[0m revised_plan \u001b[38;5;241m=\u001b[39m \u001b[43mrevised\u001b[49m\u001b[38;5;241;43m.\u001b[39;49m\u001b[43mplan\u001b[49m \u001b[38;5;241m+\u001b[39m \u001b[38;5;124m'\u001b[39m\u001b[38;5;130;01m\\n\u001b[39;00m\u001b[38;5;130;01m\\n\u001b[39;00m\u001b[38;5;124mAre you satisfied with this plan?\u001b[39m\u001b[38;5;124m'\u001b[39m\n\u001b[1;32m     87\u001b[0m messages\u001b[38;5;241m.\u001b[39mappend(AIMessage(content\u001b[38;5;241m=\u001b[39mrevised_plan))\n\u001b[1;32m     89\u001b[0m \u001b[38;5;28;01mreturn\u001b[39;00m {\u001b[38;5;124m\"\u001b[39m\u001b[38;5;124mmessages\u001b[39m\u001b[38;5;124m\"\u001b[39m: messages, \n\u001b[1;32m     90\u001b[0m         \u001b[38;5;124m\"\u001b[39m\u001b[38;5;124mplan\u001b[39m\u001b[38;5;124m\"\u001b[39m: revised_plan, \n\u001b[1;32m     91\u001b[0m         \u001b[38;5;124m'\u001b[39m\u001b[38;5;124mtask\u001b[39m\u001b[38;5;124m'\u001b[39m: revised\u001b[38;5;241m.\u001b[39mtask,\n\u001b[1;32m     92\u001b[0m         \u001b[38;5;124m\"\u001b[39m\u001b[38;5;124mprevious_node\u001b[39m\u001b[38;5;124m\"\u001b[39m: \u001b[38;5;124m\"\u001b[39m\u001b[38;5;124mRevise\u001b[39m\u001b[38;5;124m\"\u001b[39m \n\u001b[1;32m     93\u001b[0m        }\n",
      "\u001b[0;31mAttributeError\u001b[0m: 'NoneType' object has no attribute 'plan'"
     ]
    }
   ],
   "source": [
    "task = 'solve the task by training a KNN algorithm'\n",
    "result = baseball_lambda.execute_workflow(task, session_id)\n",
    "print(result)"
   ]
  },
  {
   "cell_type": "code",
   "execution_count": null,
   "id": "4d6b35ae",
   "metadata": {},
   "outputs": [],
   "source": [
    "task = 'approved'\n",
    "result = baseball_lambda.execute_workflow(task, session_id)\n",
    "print(result)"
   ]
  },
  {
   "cell_type": "code",
   "execution_count": null,
   "id": "af341538",
   "metadata": {},
   "outputs": [],
   "source": [
    "task = 'who were the three pitchers?'\n",
    "result = baseball_lambda.execute_workflow(task, session_id)\n",
    "print(result)"
   ]
  },
  {
   "cell_type": "code",
   "execution_count": null,
   "id": "d980d14b",
   "metadata": {},
   "outputs": [],
   "source": [
    "task = 'yes'\n",
    "result = baseball_lambda.execute_workflow(task, session_id)\n",
    "print(result)"
   ]
  },
  {
   "cell_type": "code",
   "execution_count": null,
   "id": "79e9b557",
   "metadata": {},
   "outputs": [],
   "source": [
    "task = 'yes, thank you'\n",
    "result = baseball_lambda.execute_workflow(task, session_id)\n",
    "print(result)"
   ]
  },
  {
   "cell_type": "code",
   "execution_count": null,
   "id": "2c3d054d",
   "metadata": {},
   "outputs": [],
   "source": []
  }
 ],
 "metadata": {
  "kernelspec": {
   "display_name": "venv",
   "language": "python",
   "name": "python3"
  },
  "language_info": {
   "codemirror_mode": {
    "name": "ipython",
    "version": 3
   },
   "file_extension": ".py",
   "mimetype": "text/x-python",
   "name": "python",
   "nbconvert_exporter": "python",
   "pygments_lexer": "ipython3",
   "version": "3.10.8"
  }
 },
 "nbformat": 4,
 "nbformat_minor": 5
}
