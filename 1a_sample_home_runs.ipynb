{
 "cells": [
  {
   "cell_type": "code",
   "execution_count": 1,
   "id": "7c01b355-66d2-40e0-92a4-c4553a8d2edd",
   "metadata": {
    "tags": []
   },
   "outputs": [
    {
     "name": "stderr",
     "output_type": "stream",
     "text": [
      "/Users/rosclay/Documents/VSCode/langgraph-multi-agent/venv/lib/python3.10/site-packages/langchain_core/_api/beta_decorator.py:87: LangChainBetaWarning: The function `bind_tools` is in beta. It is actively being worked on, so the API may change.\n",
      "  warn_beta(\n",
      "Python REPL can execute arbitrary code. Use with caution.\n"
     ]
    }
   ],
   "source": [
    "# general\n",
    "from datetime import datetime\n",
    "from dotenv import load_dotenv, find_dotenv\n",
    "import os\n",
    "\n",
    "# custom local libs\n",
    "from function import baseball_lambda"
   ]
  },
  {
   "cell_type": "code",
   "execution_count": 2,
   "id": "7a2a54ab",
   "metadata": {
    "tags": []
   },
   "outputs": [],
   "source": [
    "# read local .env file\n",
    "_ = load_dotenv(find_dotenv())"
   ]
  },
  {
   "cell_type": "code",
   "execution_count": 3,
   "id": "12b6af87",
   "metadata": {
    "tags": []
   },
   "outputs": [],
   "source": [
    "# set Langsmith project\n",
    "today = datetime.now().strftime(\"%Y%m%d\")\n",
    "os.environ[\"LANGCHAIN_PROJECT\"] = f\"Baseball Homeruns - {today}\""
   ]
  },
  {
   "cell_type": "code",
   "execution_count": 4,
   "id": "6bf9b046",
   "metadata": {
    "tags": []
   },
   "outputs": [],
   "source": [
    "session_id = '2146'"
   ]
  },
  {
   "cell_type": "code",
   "execution_count": 5,
   "id": "024b632a",
   "metadata": {
    "tags": []
   },
   "outputs": [
    {
     "name": "stdout",
     "output_type": "stream",
     "text": [
      "\n",
      "*** Entered Orchestrate Node ***\n",
      "\n",
      "*** Entered Retrieve Node ***\n",
      "\n",
      "Distance to neareast plan: 0.5264779329299927\n",
      "\n",
      "*** Entered Initialize Node ***\n",
      "\n",
      "Formulating a new plan to solve the task.\n",
      "Collecting documentation for statcast_batter, playerid_lookup\n",
      "\n",
      "*** Entered Update Node ***\n",
      "\n",
      "Updating plan based function documentation\n",
      "1. Import the statcast_batter and playerid_lookup functions from pybaseball:\n",
      "\n",
      "```python \n",
      "from pybaseball import statcast_batter, playerid_lookup\n",
      "```\n",
      "\n",
      "2. Look up Derek Jeter's MLBAM player ID:\n",
      "\n",
      "```python\n",
      "player_search = playerid_lookup('jeter', 'derek')\n",
      "if len(player_search) > 0:\n",
      "    jeter_id = player_search.iloc[0].key_mlbam\n",
      "else:\n",
      "    raise ValueError('Could not find player ID for Derek Jeter')\n",
      "```\n",
      "\n",
      "3. Get Derek Jeter's statcast batting data for the 2010 season:\n",
      "\n",
      "```python\n",
      "jeter_2010 = statcast_batter('2010-01-01', '2010-12-31', player_id=jeter_id) \n",
      "```\n",
      "\n",
      "4. Filter to just home runs and count the number of rows:\n",
      "\n",
      "```python\n",
      "jeter_2010_hr = jeter_2010[jeter_2010.events == 'home_run']\n",
      "hr_count = len(jeter_2010_hr)\n",
      "\n",
      "print(f\"Derek Jeter hit {hr_count} home runs in the 2010 season.\")\n",
      "```\n",
      "\n",
      "The main change is adding some error handling in step 2 in case the playerid_lookup function doesn't return any results for Derek Jeter. This will raise an error and halt execution rather than trying to proceed with an invalid player ID.\n",
      "\n",
      "Otherwise, the statcast_batter and playerid_lookup functions are being called with the correct parameters based on the documentation, so this plan should successfully retrieve the number of home runs Derek Jeter hit in the 2010 season.\n",
      "\n",
      "Are you satisfied with this plan?\n"
     ]
    }
   ],
   "source": [
    "task = 'How many home runs did Derek Jeter hit in 2010?' \n",
    "result = baseball_lambda.execute_workflow(task, session_id)\n",
    "print(result)"
   ]
  },
  {
   "cell_type": "code",
   "execution_count": 6,
   "id": "0f1729ff",
   "metadata": {},
   "outputs": [
    {
     "name": "stdout",
     "output_type": "stream",
     "text": [
      "\n",
      "*** Entered Orchestrate Node ***\n",
      "\n",
      "*** Entered Revise Node ***\n",
      "\n",
      "1. Import the statcast_batter and playerid_lookup functions from pybaseball:\n",
      "\n",
      "```python \n",
      "from pybaseball import statcast_batter, playerid_lookup\n",
      "```\n",
      "\n",
      "2. Look up Derek Jeter's MLBAM player ID:\n",
      "\n",
      "```python\n",
      "player_search = playerid_lookup('jeter', 'derek')  \n",
      "if len(player_search) > 0:\n",
      "    jeter_id = player_search.iloc[0].key_mlbam\n",
      "else:\n",
      "    raise ValueError('Could not find player ID for Derek Jeter')\n",
      "```\n",
      "\n",
      "3. Get Derek Jeter's statcast batting data for the 2008 season:\n",
      "\n",
      "```python\n",
      "jeter_2008 = statcast_batter('2008-01-01', '2008-12-31', player_id=jeter_id)\n",
      "```\n",
      "\n",
      "4. Filter to just home runs and count the number of rows:\n",
      "\n",
      "```python  \n",
      "jeter_2008_hr = jeter_2008[jeter_2008.events == 'home_run']\n",
      "hr_count = len(jeter_2008_hr)\n",
      "\n",
      "print(f\"Derek Jeter hit {hr_count} home runs in the 2008 season.\")  \n",
      "```\n",
      "\n",
      "The key change is using the start and end dates for the 2008 season when calling statcast_batter, rather than the 2010 season dates. \n",
      "\n",
      "The error handling when looking up Jeter's player ID and the filtering of the statcast data to home runs remains the same.\n",
      "\n",
      "This revised plan should retrieve the number of home runs Derek Jeter hit in the 2008 season.\n",
      "\n",
      "Are you satisfied with this plan?\n"
     ]
    }
   ],
   "source": [
    "task = \"use the 2008 season instead\"\n",
    "result = baseball_lambda.execute_workflow(task, session_id)\n",
    "print(result)"
   ]
  },
  {
   "cell_type": "code",
   "execution_count": 7,
   "id": "8c9e31b6",
   "metadata": {
    "tags": []
   },
   "outputs": [
    {
     "name": "stdout",
     "output_type": "stream",
     "text": [
      "\n",
      "*** Entered Orchestrate Node ***\n",
      "Unknown plan. Executing with Opus\n",
      "\n",
      "*** Entered Generate Node ***\n",
      "\n",
      "\n",
      "*** Entered Execute Node ***\n",
      "\n",
      "\n",
      "Executing:\n",
      "# 1. Import the statcast_batter and playerid_lookup functions from pybaseball\n",
      "from pybaseball import statcast_batter, playerid_lookup\n",
      "\n",
      "*** Entered Generate Node ***\n",
      "\n",
      "\n",
      "*** Entered Execute Node ***\n",
      "\n",
      "\n",
      "Executing:\n",
      "# 2. Look up Derek Jeter's MLBAM player ID\n",
      "player_search = playerid_lookup('jeter', 'derek')  \n",
      "if len(player_search) > 0:\n",
      "    jeter_id = player_search.iloc[0].key_mlbam\n",
      "else:\n",
      "    raise ValueError('Could not find player ID for Derek Jeter')\n",
      "\n",
      "Result:\n",
      "Gathering player lookup table. This may take a moment.\n",
      "\n",
      "\n",
      "*** Entered Generate Node ***\n",
      "\n",
      "\n",
      "*** Entered Execute Node ***\n",
      "\n",
      "\n",
      "Executing:\n",
      "# 3. Get Derek Jeter's statcast batting data for the 2008 season\n",
      "jeter_2008 = statcast_batter('2008-01-01', '2008-12-31', player_id=jeter_id)\n",
      "\n",
      "Result:\n",
      "Gathering Player Data\n",
      "\n",
      "\n",
      "*** Entered Generate Node ***\n",
      "\n",
      "\n",
      "*** Entered Execute Node ***\n",
      "\n",
      "\n",
      "Executing:\n",
      "# 4. Filter to just home runs and count the number of rows\n",
      "jeter_2008_hr = jeter_2008[jeter_2008.events == 'home_run'] \n",
      "hr_count = len(jeter_2008_hr)\n",
      "\n",
      "print(f\"Derek Jeter hit {hr_count} home runs in the 2008 season.\")\n",
      "\n",
      "Result:\n",
      "Derek Jeter hit 12 home runs in the 2008 season.\n",
      "\n",
      "\n",
      "*** Entered Generate Node ***\n",
      "\n",
      "\n",
      "*** Entered Summarize Node ***\n",
      "\n",
      "Derek Jeter hit 12 home runs in the 2008 MLB season.\n",
      "\n",
      "Here is the code that was used to reach this solution:\n",
      "\n",
      "```python\n",
      "\n",
      "# 1. Import the statcast_batter and playerid_lookup functions from pybaseball\n",
      "from pybaseball import statcast_batter, playerid_lookup\n",
      "\n",
      "# 2. Look up Derek Jeter's MLBAM player ID\n",
      "player_search = playerid_lookup('jeter', 'derek')  \n",
      "if len(player_search) > 0:\n",
      "    jeter_id = player_search.iloc[0].key_mlbam\n",
      "else:\n",
      "    raise ValueError('Could not find player ID for Derek Jeter')\n",
      "\n",
      "# 3. Get Derek Jeter's statcast batting data for the 2008 season\n",
      "jeter_2008 = statcast_batter('2008-01-01', '2008-12-31', player_id=jeter_id)\n",
      "\n",
      "# 4. Filter to just home runs and count the number of rows\n",
      "jeter_2008_hr = jeter_2008[jeter_2008.events == 'home_run'] \n",
      "hr_count = len(jeter_2008_hr)\n",
      "\n",
      "print(f\"Derek Jeter hit {hr_count} home runs in the 2008 season.\")\n",
      "```\n",
      "\n",
      "Are you satisfied with this result?\n"
     ]
    }
   ],
   "source": [
    "task = 'looks good'\n",
    "result = baseball_lambda.execute_workflow(task, session_id)\n",
    "print(result)"
   ]
  },
  {
   "cell_type": "code",
   "execution_count": 8,
   "id": "6c1ea32a",
   "metadata": {
    "tags": []
   },
   "outputs": [
    {
     "name": "stdout",
     "output_type": "stream",
     "text": [
      "\n",
      "*** Entered Orchestrate Node ***\n",
      "\n",
      "*** Entered Memorize Node ***\n",
      "\n",
      "Thank you, task has been commited to memory\n"
     ]
    }
   ],
   "source": [
    "task = 'yes'\n",
    "result = baseball_lambda.execute_workflow(task, session_id)\n",
    "print(result)"
   ]
  },
  {
   "cell_type": "code",
   "execution_count": null,
   "id": "67ae03b0",
   "metadata": {},
   "outputs": [],
   "source": []
  }
 ],
 "metadata": {
  "kernelspec": {
   "display_name": "venv",
   "language": "python",
   "name": "python3"
  },
  "language_info": {
   "codemirror_mode": {
    "name": "ipython",
    "version": 3
   },
   "file_extension": ".py",
   "mimetype": "text/x-python",
   "name": "python",
   "nbconvert_exporter": "python",
   "pygments_lexer": "ipython3",
   "version": "3.10.8"
  }
 },
 "nbformat": 4,
 "nbformat_minor": 5
}
