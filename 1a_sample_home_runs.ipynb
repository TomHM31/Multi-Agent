{
 "cells": [
  {
   "cell_type": "code",
   "execution_count": 1,
   "id": "7c01b355-66d2-40e0-92a4-c4553a8d2edd",
   "metadata": {
    "tags": []
   },
   "outputs": [
    {
     "name": "stderr",
     "output_type": "stream",
     "text": [
      "/Users/rosclay/Documents/VSCode/langgraph-multi-agent/venv/lib/python3.10/site-packages/langchain_core/_api/beta_decorator.py:87: LangChainBetaWarning: The function `bind_tools` is in beta. It is actively being worked on, so the API may change.\n",
      "  warn_beta(\n",
      "Python REPL can execute arbitrary code. Use with caution.\n"
     ]
    }
   ],
   "source": [
    "# general\n",
    "from datetime import datetime\n",
    "from dotenv import load_dotenv, find_dotenv\n",
    "import os\n",
    "\n",
    "# custom local libs\n",
    "from function import baseball_lambda"
   ]
  },
  {
   "cell_type": "code",
   "execution_count": 2,
   "id": "7a2a54ab",
   "metadata": {
    "tags": []
   },
   "outputs": [],
   "source": [
    "# read local .env file\n",
    "_ = load_dotenv(find_dotenv())"
   ]
  },
  {
   "cell_type": "code",
   "execution_count": 3,
   "id": "12b6af87",
   "metadata": {
    "tags": []
   },
   "outputs": [],
   "source": [
    "# set Langsmith project\n",
    "today = datetime.now().strftime(\"%Y%m%d\")\n",
    "os.environ[\"LANGCHAIN_PROJECT\"] = f\"Baseball Homeruns - {today}\""
   ]
  },
  {
   "cell_type": "code",
   "execution_count": 4,
   "id": "6bf9b046",
   "metadata": {
    "tags": []
   },
   "outputs": [],
   "source": [
    "session_id = '12'"
   ]
  },
  {
   "cell_type": "code",
   "execution_count": 5,
   "id": "139520c4",
   "metadata": {},
   "outputs": [
    {
     "name": "stdout",
     "output_type": "stream",
     "text": [
      "{'Orchestrate': {'next': 'Retrieve'}}\n",
      "----\n",
      "Distance to neareast plan: 0.442912220954895\n",
      "{'Retrieve': {'next': 'Modify', 'nearest_plan': '1. Import the schedule_and_record function from pybaseball:\\n\\n```python\\nfrom pybaseball import schedule_and_record\\n```\\n\\n2. Get the 2022 schedule and results for the Tampa Bay Rays:\\n\\n```python\\nrays_2022 = schedule_and_record(2022, \\'TB\\')\\n```\\n\\n3. Filter the dataframe to games where the Rays won (W/L == \\'W\\') or had a walk-off win (W/L == \\'W-wo\\'):\\n\\n```python\\nrays_wins = rays_2022[(rays_2022[\\'W/L\\'] == \\'W\\') | (rays_2022[\\'W/L\\'] == \\'W-wo\\')]\\n```\\n\\n4. Count the number of rows (games won) in the filtered dataframe:\\n\\n```python\\nnum_wins = len(rays_wins)\\nprint(f\"The Tampa Bay Rays won {num_wins} games in 2022.\")\\n```', 'nearest_task': 'How many games did the Rays win in 2022?', 'nearest_code': '# 1. Import the schedule_and_record function from pybaseball\\nfrom pybaseball import schedule_and_record\\n# 2. Get the 2022 schedule and results for the Tampa Bay Rays\\nrays_2022 = schedule_and_record(2022, \\'TB\\')\\n# 3. Filter the dataframe to games where the Rays won (W/L == \\'W\\') or had a walk-off win (W/L == \\'W-wo\\')\\nrays_wins = rays_2022[(rays_2022[\\'W/L\\'] == \\'W\\') | (rays_2022[\\'W/L\\'] == \\'W-wo\\')]\\n# 4. Count the number of rows (games won) in the filtered dataframe\\nnum_wins = len(rays_wins)\\nprint(f\"The Tampa Bay Rays won {num_wins} games in 2022.\")', 'function_detail': 'seed_function_detail', 'task': 'How many games did the royals win in 2012?', 'previous_node': 'Retrieve'}}\n",
      "----\n",
      "Modifying nearest plan with User input\n",
      "{'Modify': {'messages': [HumanMessage(content='How many games did the royals win in 2012?', name='User'), AIMessage(content='1. Import the schedule_and_record function from pybaseball:\\n\\n```python\\nfrom pybaseball import schedule_and_record\\n```\\n\\n2. Get the 2012 schedule and results for the Kansas City Royals:\\n\\n```python\\nroyals_2012 = schedule_and_record(2012, \\'KC\\')\\n```\\n\\n3. Filter the dataframe to games where the Royals won (W/L == \\'W\\') or had a walk-off win (W/L == \\'W-wo\\'):\\n\\n```python\\nroyals_wins = royals_2012[(royals_2012[\\'W/L\\'] == \\'W\\') | (royals_2012[\\'W/L\\'] == \\'W-wo\\')]\\n```\\n\\n4. Count the number of rows (games won) in the filtered dataframe:\\n\\n```python\\nnum_wins = len(royals_wins)\\nprint(f\"The Kansas City Royals won {num_wins} games in 2012.\")\\n```')], 'task': 'How many games did the royals win in 2012?', 'plan': '1. Import the schedule_and_record function from pybaseball:\\n\\n```python\\nfrom pybaseball import schedule_and_record\\n```\\n\\n2. Get the 2012 schedule and results for the Kansas City Royals:\\n\\n```python\\nroyals_2012 = schedule_and_record(2012, \\'KC\\')\\n```\\n\\n3. Filter the dataframe to games where the Royals won (W/L == \\'W\\') or had a walk-off win (W/L == \\'W-wo\\'):\\n\\n```python\\nroyals_wins = royals_2012[(royals_2012[\\'W/L\\'] == \\'W\\') | (royals_2012[\\'W/L\\'] == \\'W-wo\\')]\\n```\\n\\n4. Count the number of rows (games won) in the filtered dataframe:\\n\\n```python\\nnum_wins = len(royals_wins)\\nprint(f\"The Kansas City Royals won {num_wins} games in 2012.\")\\n```', 'previous_node': 'Modify'}}\n",
      "----\n",
      "1. Import the schedule_and_record function from pybaseball:\n",
      "\n",
      "```python\n",
      "from pybaseball import schedule_and_record\n",
      "```\n",
      "\n",
      "2. Get the 2012 schedule and results for the Kansas City Royals:\n",
      "\n",
      "```python\n",
      "royals_2012 = schedule_and_record(2012, 'KC')\n",
      "```\n",
      "\n",
      "3. Filter the dataframe to games where the Royals won (W/L == 'W') or had a walk-off win (W/L == 'W-wo'):\n",
      "\n",
      "```python\n",
      "royals_wins = royals_2012[(royals_2012['W/L'] == 'W') | (royals_2012['W/L'] == 'W-wo')]\n",
      "```\n",
      "\n",
      "4. Count the number of rows (games won) in the filtered dataframe:\n",
      "\n",
      "```python\n",
      "num_wins = len(royals_wins)\n",
      "print(f\"The Kansas City Royals won {num_wins} games in 2012.\")\n",
      "```\n"
     ]
    }
   ],
   "source": [
    "task = 'How many games did the royals win in 2012?' \n",
    "result = baseball_lambda.execute_workflow(task, session_id)\n",
    "print(result)"
   ]
  },
  {
   "cell_type": "code",
   "execution_count": 6,
   "id": "7ae078e5",
   "metadata": {},
   "outputs": [
    {
     "name": "stdout",
     "output_type": "stream",
     "text": [
      "{'Orchestrate': {'next': 'Execute'}}\n",
      "----\n",
      "Executing: # 1. Import the schedule_and_record function from pybaseball\n",
      "from pybaseball import schedule_and_record\n",
      "Executing: # 2. Get the 2012 schedule and results for the Kansas City Royals\n",
      "royals_2012 = schedule_and_record(2012, 'KC')\n",
      "Result: http://www.baseball-reference.com/teams/KC/2012-schedule-scores.shtml\n",
      "\n",
      "Executing: # 3. Filter the dataframe to games where the Royals won (W/L == 'W') or had a walk-off win (W/L == 'W-wo')\n",
      "royals_wins = royals_2012[(royals_2012['W/L'] == 'W') | (royals_2012['W/L'] == 'W-wo')]\n",
      "Executing: # 4. Count the number of rows (games won) in the filtered dataframe\n",
      "num_wins = len(royals_wins)\n",
      "print(f\"The Kansas City Royals won {num_wins} games in 2012.\")\n",
      "Result: The Kansas City Royals won 72 games in 2012.\n",
      "\n",
      "Summarizing execution result\n",
      "END\n",
      "{'__end__': {'messages': [HumanMessage(content='Begin!'), AIMessage(content=[{'text': '<thinking>\\nTo answer the question of how many games the Kansas City Royals won in 2012, the relevant tool is the PythonREPL. This will allow me to execute Python code to retrieve the Royals\\' 2012 schedule and results using the pybaseball library, filter it to only wins, and count the number of wins.\\n\\nThe PythonREPL tool requires a single parameter:\\n- code: A string containing the Python code to execute\\n\\nI have been provided a full plan with the necessary Python code to answer this question. The plan includes importing the required pybaseball function, retrieving the 2012 Royals schedule, filtering to wins, counting the wins, and printing the result.\\n\\nSince I have been given all the information needed to populate the required \"code\" parameter, I can proceed with executing the plan using the PythonREPL tool.\\n</thinking>', 'type': 'text'}, {'id': 'toolu_01EKxzh3nZXv4x8vG2GHnzta', 'input': {'code': '# 1. Import the schedule_and_record function from pybaseball\\nfrom pybaseball import schedule_and_record'}, 'name': 'PythonREPL', 'type': 'tool_use'}], response_metadata={'id': 'msg_011R75kbvujDFHPtR3V3q4Cu', 'model': 'claude-3-opus-20240229', 'stop_reason': 'tool_use', 'stop_sequence': None, 'usage': {'input_tokens': 1296, 'output_tokens': 280}}, id='run-426a650c-24f1-4267-aafa-3023f3ac2436-0'), ToolMessage(content='The previous step completed successfully.', tool_call_id='toolu_01EKxzh3nZXv4x8vG2GHnzta'), AIMessage(content=[{'id': 'toolu_01Ti99kgYah1aVyMde86f9TY', 'input': {'code': \"# 2. Get the 2012 schedule and results for the Kansas City Royals\\nroyals_2012 = schedule_and_record(2012, 'KC')\"}, 'name': 'PythonREPL', 'type': 'tool_use'}], response_metadata={'id': 'msg_01D5bLvQkayCXo1kLJiypBg7', 'model': 'claude-3-opus-20240229', 'stop_reason': 'tool_use', 'stop_sequence': None, 'usage': {'input_tokens': 1590, 'output_tokens': 97}}, id='run-f5bb92ec-bbf2-4192-ad8b-4bf391c54a35-0'), ToolMessage(content='The previous step completed successfully.  Here was the result: http://www.baseball-reference.com/teams/KC/2012-schedule-scores.shtml\\n', tool_call_id='toolu_01Ti99kgYah1aVyMde86f9TY'), AIMessage(content=[{'id': 'toolu_01AgGwWcWnmSVaKHvfnZmTr1', 'input': {'code': \"# 3. Filter the dataframe to games where the Royals won (W/L == 'W') or had a walk-off win (W/L == 'W-wo')\\nroyals_wins = royals_2012[(royals_2012['W/L'] == 'W') | (royals_2012['W/L'] == 'W-wo')]\"}, 'name': 'PythonREPL', 'type': 'tool_use'}], response_metadata={'id': 'msg_01FSe1TWRhpEpbyx5ZUo2M9i', 'model': 'claude-3-opus-20240229', 'stop_reason': 'tool_use', 'stop_sequence': None, 'usage': {'input_tokens': 1734, 'output_tokens': 145}}, id='run-b7bdd251-1e0b-4f14-b17d-9c0de58175d0-0'), ToolMessage(content='The previous step completed successfully.', tool_call_id='toolu_01AgGwWcWnmSVaKHvfnZmTr1'), AIMessage(content=[{'id': 'toolu_011tBcg9zsPSdadKkR1V7BAL', 'input': {'code': '# 4. Count the number of rows (games won) in the filtered dataframe\\nnum_wins = len(royals_wins)\\nprint(f\"The Kansas City Royals won {num_wins} games in 2012.\")'}, 'name': 'PythonREPL', 'type': 'tool_use'}], response_metadata={'id': 'msg_01URuey67FU1Lpndf1S2UJsH', 'model': 'claude-3-opus-20240229', 'stop_reason': 'tool_use', 'stop_sequence': None, 'usage': {'input_tokens': 1895, 'output_tokens': 109}}, id='run-701c7899-570d-4293-b729-d8af942d4352-0'), ToolMessage(content='The previous step completed successfully.  Here was the result: The Kansas City Royals won 72 games in 2012.\\n', tool_call_id='toolu_011tBcg9zsPSdadKkR1V7BAL'), AIMessage(content='<result>\\nAccording to the analysis using the pybaseball library, the Kansas City Royals won 72 games in the 2012 season.\\n</result>', response_metadata={'id': 'msg_01SJsR8Xd6ppL35FNv9QCPCr', 'model': 'claude-3-opus-20240229', 'stop_reason': 'end_turn', 'stop_sequence': None, 'usage': {'input_tokens': 2044, 'output_tokens': 42}}, id='run-a73847b9-7c04-4392-8f49-54bfda893c92-0'), AIMessage(content='The Kansas City Royals won 72 games in the 2012 season.', response_metadata={'id': 'msg_01EDzTnzN7haz3QxHBtNC9fP', 'model': 'claude-3-haiku-20240307', 'stop_reason': 'end_turn', 'stop_sequence': None, 'usage': {'input_tokens': 104, 'output_tokens': 22}}, id='run-2f203da7-f8eb-4fcc-b59e-0ae13ea7ac51-0')], 'session_id': '12', 'plan': '1. Import the schedule_and_record function from pybaseball:\\n\\n```python\\nfrom pybaseball import schedule_and_record\\n```\\n\\n2. Get the 2012 schedule and results for the Kansas City Royals:\\n\\n```python\\nroyals_2012 = schedule_and_record(2012, \\'KC\\')\\n```\\n\\n3. Filter the dataframe to games where the Royals won (W/L == \\'W\\') or had a walk-off win (W/L == \\'W-wo\\'):\\n\\n```python\\nroyals_wins = royals_2012[(royals_2012[\\'W/L\\'] == \\'W\\') | (royals_2012[\\'W/L\\'] == \\'W-wo\\')]\\n```\\n\\n4. Count the number of rows (games won) in the filtered dataframe:\\n\\n```python\\nnum_wins = len(royals_wins)\\nprint(f\"The Kansas City Royals won {num_wins} games in 2012.\")\\n```', 'task': 'How many games did the royals win in 2012?', 'function_detail': 'seed_function_detail', 'successful_code': ['# 1. Import the schedule_and_record function from pybaseball\\nfrom pybaseball import schedule_and_record', \"# 2. Get the 2012 schedule and results for the Kansas City Royals\\nroyals_2012 = schedule_and_record(2012, 'KC')\", \"# 3. Filter the dataframe to games where the Royals won (W/L == 'W') or had a walk-off win (W/L == 'W-wo')\\nroyals_wins = royals_2012[(royals_2012['W/L'] == 'W') | (royals_2012['W/L'] == 'W-wo')]\", '# 4. Count the number of rows (games won) in the filtered dataframe\\nnum_wins = len(royals_wins)\\nprint(f\"The Kansas City Royals won {num_wins} games in 2012.\")'], 'nearest_code': '# 1. Import the schedule_and_record function from pybaseball\\nfrom pybaseball import schedule_and_record\\n# 2. Get the 2022 schedule and results for the Tampa Bay Rays\\nrays_2022 = schedule_and_record(2022, \\'TB\\')\\n# 3. Filter the dataframe to games where the Rays won (W/L == \\'W\\') or had a walk-off win (W/L == \\'W-wo\\')\\nrays_wins = rays_2022[(rays_2022[\\'W/L\\'] == \\'W\\') | (rays_2022[\\'W/L\\'] == \\'W-wo\\')]\\n# 4. Count the number of rows (games won) in the filtered dataframe\\nnum_wins = len(rays_wins)\\nprint(f\"The Tampa Bay Rays won {num_wins} games in 2022.\")'}}\n",
      "{'Execute': {'messages': [AIMessage(content='The Kansas City Royals won 72 games in the 2012 season.\\n\\nHere is the code that was used to reach this solution:\\n\\n```python\\n\\n# 1. Import the schedule_and_record function from pybaseball\\nfrom pybaseball import schedule_and_record\\n# 2. Get the 2012 schedule and results for the Kansas City Royals\\nroyals_2012 = schedule_and_record(2012, \\'KC\\')\\n# 3. Filter the dataframe to games where the Royals won (W/L == \\'W\\') or had a walk-off win (W/L == \\'W-wo\\')\\nroyals_wins = royals_2012[(royals_2012[\\'W/L\\'] == \\'W\\') | (royals_2012[\\'W/L\\'] == \\'W-wo\\')]\\n# 4. Count the number of rows (games won) in the filtered dataframe\\nnum_wins = len(royals_wins)\\nprint(f\"The Kansas City Royals won {num_wins} games in 2012.\")\\n```\\n\\nAre you satisfied with this result?')], 'previous_node': 'Execute', 'code': '# 1. Import the schedule_and_record function from pybaseball\\nfrom pybaseball import schedule_and_record\\n# 2. Get the 2012 schedule and results for the Kansas City Royals\\nroyals_2012 = schedule_and_record(2012, \\'KC\\')\\n# 3. Filter the dataframe to games where the Royals won (W/L == \\'W\\') or had a walk-off win (W/L == \\'W-wo\\')\\nroyals_wins = royals_2012[(royals_2012[\\'W/L\\'] == \\'W\\') | (royals_2012[\\'W/L\\'] == \\'W-wo\\')]\\n# 4. Count the number of rows (games won) in the filtered dataframe\\nnum_wins = len(royals_wins)\\nprint(f\"The Kansas City Royals won {num_wins} games in 2012.\")', 'plan': '1. Import the schedule_and_record function from pybaseball:\\n\\n```python\\nfrom pybaseball import schedule_and_record\\n```\\n\\n2. Get the 2012 schedule and results for the Kansas City Royals:\\n\\n```python\\nroyals_2012 = schedule_and_record(2012, \\'KC\\')\\n```\\n\\n3. Filter the dataframe to games where the Royals won (W/L == \\'W\\') or had a walk-off win (W/L == \\'W-wo\\'):\\n\\n```python\\nroyals_wins = royals_2012[(royals_2012[\\'W/L\\'] == \\'W\\') | (royals_2012[\\'W/L\\'] == \\'W-wo\\')]\\n```\\n\\n4. Count the number of rows (games won) in the filtered dataframe:\\n\\n```python\\nnum_wins = len(royals_wins)\\nprint(f\"The Kansas City Royals won {num_wins} games in 2012.\")\\n```'}}\n",
      "----\n",
      "The Kansas City Royals won 72 games in the 2012 season.\n",
      "\n",
      "Here is the code that was used to reach this solution:\n",
      "\n",
      "```python\n",
      "\n",
      "# 1. Import the schedule_and_record function from pybaseball\n",
      "from pybaseball import schedule_and_record\n",
      "# 2. Get the 2012 schedule and results for the Kansas City Royals\n",
      "royals_2012 = schedule_and_record(2012, 'KC')\n",
      "# 3. Filter the dataframe to games where the Royals won (W/L == 'W') or had a walk-off win (W/L == 'W-wo')\n",
      "royals_wins = royals_2012[(royals_2012['W/L'] == 'W') | (royals_2012['W/L'] == 'W-wo')]\n",
      "# 4. Count the number of rows (games won) in the filtered dataframe\n",
      "num_wins = len(royals_wins)\n",
      "print(f\"The Kansas City Royals won {num_wins} games in 2012.\")\n",
      "```\n",
      "\n",
      "Are you satisfied with this result?\n"
     ]
    }
   ],
   "source": [
    "task = 'looks good'\n",
    "result = baseball_lambda.execute_workflow(task, session_id)\n",
    "print(result)"
   ]
  },
  {
   "cell_type": "code",
   "execution_count": null,
   "id": "024b632a",
   "metadata": {
    "tags": []
   },
   "outputs": [],
   "source": [
    "task = 'How many home runs did Derek Jeter hit in 2010?' \n",
    "result = baseball_lambda.execute_workflow(task, session_id)\n",
    "print(result)"
   ]
  },
  {
   "cell_type": "code",
   "execution_count": null,
   "id": "0f1729ff",
   "metadata": {},
   "outputs": [],
   "source": [
    "task = \"use the 2008 season instead\"\n",
    "result = baseball_lambda.execute_workflow(task, session_id)\n",
    "print(result)"
   ]
  },
  {
   "cell_type": "code",
   "execution_count": null,
   "id": "8c9e31b6",
   "metadata": {
    "tags": []
   },
   "outputs": [],
   "source": [
    "task = 'looks good'\n",
    "result = baseball_lambda.execute_workflow(task, session_id)\n",
    "print(result)"
   ]
  },
  {
   "cell_type": "code",
   "execution_count": 7,
   "id": "6c1ea32a",
   "metadata": {
    "tags": []
   },
   "outputs": [
    {
     "name": "stdout",
     "output_type": "stream",
     "text": [
      "{'Orchestrate': {'next': 'Memorize'}}\n",
      "----\n",
      "{'Memorize': {'messages': [AIMessage(content='Thank you, task has been commited to memory')], 'previous_node': 'Memorize'}}\n",
      "----\n",
      "Thank you, task has been commited to memory\n"
     ]
    }
   ],
   "source": [
    "task = 'yes'\n",
    "result = baseball_lambda.execute_workflow(task, session_id)\n",
    "print(result)"
   ]
  },
  {
   "cell_type": "code",
   "execution_count": null,
   "id": "02d887ea",
   "metadata": {},
   "outputs": [],
   "source": []
  },
  {
   "cell_type": "code",
   "execution_count": null,
   "id": "8ff03e33",
   "metadata": {},
   "outputs": [],
   "source": []
  },
  {
   "cell_type": "code",
   "execution_count": null,
   "id": "5a7ce084",
   "metadata": {},
   "outputs": [],
   "source": [
    "from langchain_core.messages import AIMessage, HumanMessage, ToolMessage"
   ]
  },
  {
   "cell_type": "code",
   "execution_count": null,
   "id": "95656728",
   "metadata": {},
   "outputs": [],
   "source": [
    "s = {'__end__': {'messages': [HumanMessage(content='Begin!'), AIMessage(content=[{'text': \"<thinking>\\nTo answer the question of how many games the Kansas City Royals won in 2012, the relevant tool is the PythonREPL. This will allow me to execute Python code to retrieve the Royals' 2012 schedule and results using the pybaseball library, filter it to only wins, and count the number of wins.\\n\\nThe PythonREPL tool requires a single parameter:\\n- code: This is the Python code to be executed. The plan provided outlines the specific code steps needed.\\n\\nSince the full code is provided in the plan, I have all the information needed to proceed with using the PythonREPL tool to execute the code and get the answer.\\n</thinking>\", 'type': 'text'}, {'id': 'toolu_01KQebWVhrQGekDJgm1Jnkdt', 'input': {'code': '# 1. Import the schedule_and_record function from pybaseball\\nfrom pybaseball import schedule_and_record\\n\\n# 2. Get the 2012 schedule and results for the Kansas City Royals \\nroyals_2012 = schedule_and_record(2012, \\'KC\\')\\n\\n# 3. Filter the dataframe to games where the Royals won (W/L == \\'W\\') or had a walk-off win (W/L == \\'W-wo\\')\\nroyals_wins = royals_2012[(royals_2012[\\'W/L\\'] == \\'W\\') | (royals_2012[\\'W/L\\'] == \\'W-wo\\')]\\n\\n# 4. Count the number of rows (games won) in the filtered dataframe\\nnum_wins = len(royals_wins)\\nprint(f\"The Kansas City Royals won {num_wins} games in 2012.\")'}, 'name': 'PythonREPL', 'type': 'tool_use'}], response_metadata={'id': 'msg_01CpSb2FmAdXCH6KD4WgZVyv', 'model': 'claude-3-opus-20240229', 'stop_reason': 'tool_use', 'stop_sequence': None, 'usage': {'input_tokens': 1296, 'output_tokens': 427}}, id='run-859705ac-0e4b-4341-bbc3-ebef57ee6882-0'), ToolMessage(content='The previous step completed successfully.  Here was the result: http://www.baseball-reference.com/teams/KC/2012-schedule-scores.shtml\\nThe Kansas City Royals won 72 games in 2012.\\n', tool_call_id='toolu_01KQebWVhrQGekDJgm1Jnkdt'), AIMessage(content='<result>\\nAccording to the analysis using data from the pybaseball library, the Kansas City Royals won 72 games during the 2012 MLB season.\\n</result>', response_metadata={'id': 'msg_01L2mXiqVu8N8tWXj1e36wmq', 'model': 'claude-3-opus-20240229', 'stop_reason': 'end_turn', 'stop_sequence': None, 'usage': {'input_tokens': 1785, 'output_tokens': 45}}, id='run-30c270c5-4dc2-4097-841c-581606166d07-0'), AIMessage(content=\"Thank you for providing the information about the Kansas City Royals' 2012 season. Based on the context you provided, the Royals won 72 games that year.\", response_metadata={'id': 'msg_01VX7zxZ911SKv8wJiRpaBPo', 'model': 'claude-3-haiku-20240307', 'stop_reason': 'end_turn', 'stop_sequence': None, 'usage': {'input_tokens': 75, 'output_tokens': 42}}, id='run-b40e616a-1b63-4a4e-a183-187a889c7828-0')], 'session_id': '10', 'plan': '1. Import the schedule_and_record function from pybaseball:\\n\\n```python\\nfrom pybaseball import schedule_and_record\\n```\\n\\n2. Get the 2012 schedule and results for the Kansas City Royals:\\n\\n```python\\nroyals_2012 = schedule_and_record(2012, \\'KC\\')\\n```\\n\\n3. Filter the dataframe to games where the Royals won (W/L == \\'W\\') or had a walk-off win (W/L == \\'W-wo\\'):\\n\\n```python\\nroyals_wins = royals_2012[(royals_2012[\\'W/L\\'] == \\'W\\') | (royals_2012[\\'W/L\\'] == \\'W-wo\\')]\\n```\\n\\n4. Count the number of rows (games won) in the filtered dataframe:\\n\\n```python\\nnum_wins = len(royals_wins)\\nprint(f\"The Kansas City Royals won {num_wins} games in 2012.\")\\n```', 'task': 'How many games did the royals win in 2012?', 'function_detail': 'seed_function_detail', 'successful_code': ['# 1. Import the schedule_and_record function from pybaseball\\nfrom pybaseball import schedule_and_record\\n\\n# 2. Get the 2012 schedule and results for the Kansas City Royals \\nroyals_2012 = schedule_and_record(2012, \\'KC\\')\\n\\n# 3. Filter the dataframe to games where the Royals won (W/L == \\'W\\') or had a walk-off win (W/L == \\'W-wo\\')\\nroyals_wins = royals_2012[(royals_2012[\\'W/L\\'] == \\'W\\') | (royals_2012[\\'W/L\\'] == \\'W-wo\\')]\\n\\n# 4. Count the number of rows (games won) in the filtered dataframe\\nnum_wins = len(royals_wins)\\nprint(f\"The Kansas City Royals won {num_wins} games in 2012.\")'], 'nearest_code': '# 1. Import the schedule_and_record function from pybaseball\\nfrom pybaseball import schedule_and_record\\n# 2. Get the 2022 schedule and results for the Tampa Bay Rays\\nrays_2022 = schedule_and_record(2022, \\'TB\\')\\n# 3. Filter the dataframe to games where the Rays won (W/L == \\'W\\') or had a walk-off win (W/L == \\'W-wo\\')\\nrays_wins = rays_2022[(rays_2022[\\'W/L\\'] == \\'W\\') | (rays_2022[\\'W/L\\'] == \\'W-wo\\')]\\n# 4. Count the number of rows (games won) in the filtered dataframe\\nnum_wins = len(rays_wins)\\nprint(f\"The Tampa Bay Rays won {num_wins} games in 2022.\")'}}"
   ]
  },
  {
   "cell_type": "code",
   "execution_count": null,
   "id": "435bf392",
   "metadata": {},
   "outputs": [],
   "source": [
    "s['__end__']['messages'][-1]"
   ]
  },
  {
   "cell_type": "code",
   "execution_count": null,
   "id": "8b343e07",
   "metadata": {},
   "outputs": [],
   "source": [
    "s['__end__']['messages'][-2]"
   ]
  },
  {
   "cell_type": "code",
   "execution_count": null,
   "id": "240ba9b9",
   "metadata": {},
   "outputs": [],
   "source": [
    "s['__end__']['messages']"
   ]
  },
  {
   "cell_type": "code",
   "execution_count": null,
   "id": "14f8596f",
   "metadata": {},
   "outputs": [],
   "source": [
    "s['__end__']"
   ]
  },
  {
   "cell_type": "code",
   "execution_count": null,
   "id": "4660327c",
   "metadata": {},
   "outputs": [],
   "source": []
  }
 ],
 "metadata": {
  "kernelspec": {
   "display_name": "venv",
   "language": "python",
   "name": "python3"
  },
  "language_info": {
   "codemirror_mode": {
    "name": "ipython",
    "version": 3
   },
   "file_extension": ".py",
   "mimetype": "text/x-python",
   "name": "python",
   "nbconvert_exporter": "python",
   "pygments_lexer": "ipython3",
   "version": "3.10.8"
  }
 },
 "nbformat": 4,
 "nbformat_minor": 5
}
