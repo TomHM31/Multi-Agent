{
 "cells": [
  {
   "cell_type": "code",
   "execution_count": 1,
   "id": "7c01b355-66d2-40e0-92a4-c4553a8d2edd",
   "metadata": {
    "tags": []
   },
   "outputs": [
    {
     "name": "stderr",
     "output_type": "stream",
     "text": [
      "/Users/rosclay/Documents/VSCode/langgraph-multi-agent/venv/lib/python3.10/site-packages/langchain_core/_api/beta_decorator.py:87: LangChainBetaWarning: The function `bind_tools` is in beta. It is actively being worked on, so the API may change.\n",
      "  warn_beta(\n",
      "Python REPL can execute arbitrary code. Use with caution.\n"
     ]
    }
   ],
   "source": [
    "# general\n",
    "from datetime import datetime\n",
    "from dotenv import load_dotenv, find_dotenv\n",
    "import os\n",
    "\n",
    "# custom local libs\n",
    "from function import baseball_lambda"
   ]
  },
  {
   "cell_type": "code",
   "execution_count": 2,
   "id": "7a2a54ab",
   "metadata": {
    "tags": []
   },
   "outputs": [],
   "source": [
    "# read local .env file\n",
    "_ = load_dotenv(find_dotenv())"
   ]
  },
  {
   "cell_type": "code",
   "execution_count": 3,
   "id": "12b6af87",
   "metadata": {
    "tags": []
   },
   "outputs": [],
   "source": [
    "# set Langsmith project\n",
    "today = datetime.now().strftime(\"%Y%m%d\")\n",
    "os.environ[\"LANGCHAIN_PROJECT\"] = f\"Baseball Homeruns - {today}\""
   ]
  },
  {
   "cell_type": "code",
   "execution_count": 4,
   "id": "6bf9b046",
   "metadata": {
    "tags": []
   },
   "outputs": [],
   "source": [
    "session_id = '2'"
   ]
  },
  {
   "cell_type": "code",
   "execution_count": 5,
   "id": "024b632a",
   "metadata": {
    "tags": []
   },
   "outputs": [
    {
     "name": "stdout",
     "output_type": "stream",
     "text": [
      "{'Orchestrate': {'next': 'Retrieve'}}\n",
      "----\n",
      "Distance to neareast plan: 0.5264779329299927\n",
      "{'Retrieve': {'messages': [HumanMessage(content='How many home runs did Derek Jeter hit in 2010?', name='User')], 'session_id': '2', 'previous_node': 'Retrieve', 'next': 'Initialize', 'plan': None, 'task': 'How many home runs did Derek Jeter hit in 2010?', 'code': None, 'function_detail': 'seed_function_detail', 'nearest_task': 'How many games did the Rays win in 2022?', 'nearest_plan': '1. Import the schedule_and_record function from pybaseball:\\n\\n```python\\nfrom pybaseball import schedule_and_record\\n```\\n\\n2. Get the 2022 schedule and results for the Tampa Bay Rays:\\n\\n```python\\nrays_2022 = schedule_and_record(2022, \\'TB\\')\\n```\\n\\n3. Filter the dataframe to games where the Rays won (W/L == \\'W\\') or had a walk-off win (W/L == \\'W-wo\\'):\\n\\n```python\\nrays_wins = rays_2022[(rays_2022[\\'W/L\\'] == \\'W\\') | (rays_2022[\\'W/L\\'] == \\'W-wo\\')]\\n```\\n\\n4. Count the number of rows (games won) in the filtered dataframe:\\n\\n```python\\nnum_wins = len(rays_wins)\\nprint(f\"The Tampa Bay Rays won {num_wins} games in 2022.\")\\n```', 'nearest_code': '# 1. Import the schedule_and_record function from pybaseball\\nfrom pybaseball import schedule_and_record\\n# 2. Get the 2022 schedule and results for the Tampa Bay Rays\\nrays_2022 = schedule_and_record(2022, \\'TB\\')\\n# 3. Filter the dataframe to games where the Rays won (W/L == \\'W\\') or had a walk-off win (W/L == \\'W-wo\\')\\nrays_wins = rays_2022[(rays_2022[\\'W/L\\'] == \\'W\\') | (rays_2022[\\'W/L\\'] == \\'W-wo\\')]\\n# 4. Count the number of rows (games won) in the filtered dataframe\\nnum_wins = len(rays_wins)\\nprint(f\"The Tampa Bay Rays won {num_wins} games in 2022.\")', 'known_plan': False}}\n",
      "----\n",
      "Formulating a new plan to solve the task.\n",
      "Collecting documentation for statcast_batter, playerid_lookup\n",
      "{'Initialize': {'messages': [HumanMessage(content='How many home runs did Derek Jeter hit in 2010?', name='User')], 'session_id': '2', 'previous_node': 'Initialize', 'next': 'Initialize', 'plan': '1. Import the statcast_batter and playerid_lookup functions from pybaseball:\\n\\n```python\\nfrom pybaseball import statcast_batter, playerid_lookup \\n```\\n\\n2. Look up Derek Jeter\\'s MLBAM player ID:\\n\\n```python\\njeter_id = playerid_lookup(\\'jeter\\', \\'derek\\')\\njeter_mlbam_id = jeter_id[\\'key_mlbam\\'][0]\\n```\\n\\n3. Get Derek Jeter\\'s statcast batting data for the 2010 season:\\n\\n```python\\njeter_2010_data = statcast_batter(\\'2010-01-01\\', \\'2010-12-31\\', player_id=jeter_mlbam_id)\\n```\\n\\n4. Filter to only pitches that resulted in home runs and count them:\\n\\n```python\\njeter_2010_hr = jeter_2010_data[jeter_2010_data[\\'events\\'] == \\'home_run\\']\\nhr_count = len(jeter_2010_hr)\\nprint(f\"Derek Jeter hit {hr_count} home runs in the 2010 season.\")\\n```', 'task': 'How many home runs did Derek Jeter hit in 2010?', 'code': None, 'function_detail': 'Text between the <statcast_batter_documentation></statcast_batter_documentation> tags is documentation for the statcast_batter library.  Consult this section to confirm which attributes to pass into the statcast_batter library.\\n<statcast_batter_documentation>\\n# Statcast Batter\\n`statcast_batter(start_dt=[yesterday\\'s date], end_dt=None, player_id)`\\n\\nThe statcast function retrieves pitch-level statcast data for a given date or range or dates. \\n\\n## Arguments\\n`start_dt:` first day for which you want to retrieve data. Defaults to yesterday\\'s date if nothing is entered. If you only want data for one date, supply a `start_dt` value but not an `end_dt` value. Format: YYYY-MM-DD. \\n\\n`end_dt:` last day for which you want to retrieve data. Defaults to None. If you want to retrieve data for more than one day, both a `start_dt` and `end_dt` value must be given. Format: YYYY-MM-DD. \\n\\n`player_id:` MLBAM player ID for the player you want to retrieve data for. To find a player\\'s MLBAM ID, see the function [playerid_lookup](http://github.com/jldbc/pybaseball/docs/playerid_lookup.md) or the examples below. \\n\\n### A note on data availability \\nThe earliest available statcast data comes from the 2008 season when the system was first introduced to Major League Baseball. Queries before this year will not work. Further, some features were introduced after the 2008 season. Launch speed angle, for example, is only available from the 2015 season forward. \\n\\n## Examples of valid queries\\n\\n```python\\nfrom pybaseball import statcast_batter\\nfrom pybaseball import playerid_lookup\\n\\n# find David Ortiz\\'s player id (mlbam_key)\\nplayerid_lookup(\\'ortiz\\',\\'david\\')\\n\\n# get all available data\\ndata = statcast_batter(\\'2008-04-01\\', \\'2017-07-15\\', player_id = 120074)\\n\\n# get data for August 16th, 2014\\ndata = statcast_batter(\\'2014-08-16\\', player_id = 120074)\\n```\\n\\n</statcast_batter_documentation>\\nText between the <playerid_lookup_documentation></playerid_lookup_documentation> tags is documentation for the playerid_lookup library.  Consult this section to confirm which attributes to pass into the playerid_lookup library.\\n<playerid_lookup_documentation>\\n# Player ID Lookup\\n\\n## Single Player Lookup\\n\\n`playerid_lookup(last, first=None, fuzzy=False)`\\n\\nLook up a player\\'s MLBAM, Retrosheet, FanGraphs, and Baseball Reference ID by name.\\n\\n## Arguments\\n`last:` String. The player\\'s last name. Case insensitive.\\n\\n`first:` String. Optional. The player\\'s first name. Case insensitive.\\n\\n`fuzzy:` Boolean. Optional. Search for inexact name matches, the 5 closest will be returned.\\n\\nProviding last name only will return all available id data for players with that last name (this will return several rows for a common last name like Jones, for example.) If multiple players exist for a (last name, first name) pair, you can figure out who\\'s who by seeing their first and last years of play in the fields `mlb_played_first` and `mlb_played_last`.\\n\\nThis data comes from Chadwick Bureau, meaning that there are several people in this data who are not MLB players. For this reason, supplying both last and first name is recommended to narrow your search. \\n\\n## Examples of valid queries\\n\\n```python\\nfrom pybaseball import playerid_lookup\\n\\n# find the ids of all players with last name Jones (returns 1,314 rows)\\ndata = playerid_lookup(\\'jones\\')\\n\\n# only return the ids of chipper jones (returns one row)\\ndata = playerid_lookup(\\'jones\\',\\'chipper\\')\\n\\n# Will return all players named Pedro Martinez (returns *2* rows)\\ndata = playerid_lookup(\"martinez\", \"pedro\", fuzzy=True)\\n\\n# Will return the 5 closest names to \"yadi molina\" (returns 5 rows)\\n# First row will be Yadier Molina\\ndata = playerid_lookup(\"molina\", \"yadi\", fuzzy=True)\\n```\\n\\n## List Lookup\\n\\n`player_search_list(player_list)`\\n\\nLook up a list of player ID\\'s by name, return a data frame of all players\\n\\n`player_list:` List. A list of tuples, of the form `(last, first)`. Case Insensitive.\\n\\nSources are the same as those used in the above `playerid_lookup` function. Queries for this function must be exact name matches.\\n\\n## Examples of valid queries\\n\\n```python\\n\\nfrom pybaseball import player_search_list\\n\\n# Will return the ids for both Lou Brock and Chipper Jones (returns 2 rows)\\ndata = player_search_list([(\"brock\",\"lou\"), (\"jones\",\"chipper\")])\\n\\n```\\n</playerid_lookup_documentation>\\n', 'nearest_task': 'How many games did the Rays win in 2022?', 'nearest_plan': '1. Import the schedule_and_record function from pybaseball:\\n\\n```python\\nfrom pybaseball import schedule_and_record\\n```\\n\\n2. Get the 2022 schedule and results for the Tampa Bay Rays:\\n\\n```python\\nrays_2022 = schedule_and_record(2022, \\'TB\\')\\n```\\n\\n3. Filter the dataframe to games where the Rays won (W/L == \\'W\\') or had a walk-off win (W/L == \\'W-wo\\'):\\n\\n```python\\nrays_wins = rays_2022[(rays_2022[\\'W/L\\'] == \\'W\\') | (rays_2022[\\'W/L\\'] == \\'W-wo\\')]\\n```\\n\\n4. Count the number of rows (games won) in the filtered dataframe:\\n\\n```python\\nnum_wins = len(rays_wins)\\nprint(f\"The Tampa Bay Rays won {num_wins} games in 2022.\")\\n```', 'nearest_code': '# 1. Import the schedule_and_record function from pybaseball\\nfrom pybaseball import schedule_and_record\\n# 2. Get the 2022 schedule and results for the Tampa Bay Rays\\nrays_2022 = schedule_and_record(2022, \\'TB\\')\\n# 3. Filter the dataframe to games where the Rays won (W/L == \\'W\\') or had a walk-off win (W/L == \\'W-wo\\')\\nrays_wins = rays_2022[(rays_2022[\\'W/L\\'] == \\'W\\') | (rays_2022[\\'W/L\\'] == \\'W-wo\\')]\\n# 4. Count the number of rows (games won) in the filtered dataframe\\nnum_wins = len(rays_wins)\\nprint(f\"The Tampa Bay Rays won {num_wins} games in 2022.\")', 'known_plan': False}}\n",
      "----\n",
      "Updating plan based function documentation\n",
      "{'Update': {'messages': [HumanMessage(content='How many home runs did Derek Jeter hit in 2010?', name='User'), AIMessage(content='The current plan looks good as is and does not need any updates. It is using the pybaseball functions correctly:\\n\\n1. Import the statcast_batter and playerid_lookup functions from pybaseball:\\n\\n```python\\nfrom pybaseball import statcast_batter, playerid_lookup \\n```\\n\\n2. Look up Derek Jeter\\'s MLBAM player ID:\\n\\n```python\\njeter_id = playerid_lookup(\\'jeter\\', \\'derek\\')  \\njeter_mlbam_id = jeter_id[\\'key_mlbam\\'][0]\\n```\\n\\n3. Get Derek Jeter\\'s statcast batting data for the 2010 season:\\n\\n```python \\njeter_2010_data = statcast_batter(\\'2010-01-01\\', \\'2010-12-31\\', player_id=jeter_mlbam_id)\\n```\\n\\n4. Filter to only pitches that resulted in home runs and count them:\\n\\n```python\\njeter_2010_hr = jeter_2010_data[jeter_2010_data[\\'events\\'] == \\'home_run\\'] \\nhr_count = len(jeter_2010_hr)\\nprint(f\"Derek Jeter hit {hr_count} home runs in the 2010 season.\")\\n```\\n\\nThis plan passes the correct parameters to playerid_lookup to get Jeter\\'s MLBAM ID, and then passes that ID along with the desired date range to statcast_batter to retrieve his batting data for the 2010 season. It then correctly filters the data to home runs only and counts the results to get his home run total.\\n\\nAre you satisfied with this plan?')], 'session_id': '2', 'previous_node': 'Update', 'next': 'Initialize', 'plan': 'The current plan looks good as is and does not need any updates. It is using the pybaseball functions correctly:\\n\\n1. Import the statcast_batter and playerid_lookup functions from pybaseball:\\n\\n```python\\nfrom pybaseball import statcast_batter, playerid_lookup \\n```\\n\\n2. Look up Derek Jeter\\'s MLBAM player ID:\\n\\n```python\\njeter_id = playerid_lookup(\\'jeter\\', \\'derek\\')  \\njeter_mlbam_id = jeter_id[\\'key_mlbam\\'][0]\\n```\\n\\n3. Get Derek Jeter\\'s statcast batting data for the 2010 season:\\n\\n```python \\njeter_2010_data = statcast_batter(\\'2010-01-01\\', \\'2010-12-31\\', player_id=jeter_mlbam_id)\\n```\\n\\n4. Filter to only pitches that resulted in home runs and count them:\\n\\n```python\\njeter_2010_hr = jeter_2010_data[jeter_2010_data[\\'events\\'] == \\'home_run\\'] \\nhr_count = len(jeter_2010_hr)\\nprint(f\"Derek Jeter hit {hr_count} home runs in the 2010 season.\")\\n```\\n\\nThis plan passes the correct parameters to playerid_lookup to get Jeter\\'s MLBAM ID, and then passes that ID along with the desired date range to statcast_batter to retrieve his batting data for the 2010 season. It then correctly filters the data to home runs only and counts the results to get his home run total.\\n\\nAre you satisfied with this plan?', 'task': 'How many home runs did Derek Jeter hit in 2010?', 'code': None, 'function_detail': 'Text between the <statcast_batter_documentation></statcast_batter_documentation> tags is documentation for the statcast_batter library.  Consult this section to confirm which attributes to pass into the statcast_batter library.\\n<statcast_batter_documentation>\\n# Statcast Batter\\n`statcast_batter(start_dt=[yesterday\\'s date], end_dt=None, player_id)`\\n\\nThe statcast function retrieves pitch-level statcast data for a given date or range or dates. \\n\\n## Arguments\\n`start_dt:` first day for which you want to retrieve data. Defaults to yesterday\\'s date if nothing is entered. If you only want data for one date, supply a `start_dt` value but not an `end_dt` value. Format: YYYY-MM-DD. \\n\\n`end_dt:` last day for which you want to retrieve data. Defaults to None. If you want to retrieve data for more than one day, both a `start_dt` and `end_dt` value must be given. Format: YYYY-MM-DD. \\n\\n`player_id:` MLBAM player ID for the player you want to retrieve data for. To find a player\\'s MLBAM ID, see the function [playerid_lookup](http://github.com/jldbc/pybaseball/docs/playerid_lookup.md) or the examples below. \\n\\n### A note on data availability \\nThe earliest available statcast data comes from the 2008 season when the system was first introduced to Major League Baseball. Queries before this year will not work. Further, some features were introduced after the 2008 season. Launch speed angle, for example, is only available from the 2015 season forward. \\n\\n## Examples of valid queries\\n\\n```python\\nfrom pybaseball import statcast_batter\\nfrom pybaseball import playerid_lookup\\n\\n# find David Ortiz\\'s player id (mlbam_key)\\nplayerid_lookup(\\'ortiz\\',\\'david\\')\\n\\n# get all available data\\ndata = statcast_batter(\\'2008-04-01\\', \\'2017-07-15\\', player_id = 120074)\\n\\n# get data for August 16th, 2014\\ndata = statcast_batter(\\'2014-08-16\\', player_id = 120074)\\n```\\n\\n</statcast_batter_documentation>\\nText between the <playerid_lookup_documentation></playerid_lookup_documentation> tags is documentation for the playerid_lookup library.  Consult this section to confirm which attributes to pass into the playerid_lookup library.\\n<playerid_lookup_documentation>\\n# Player ID Lookup\\n\\n## Single Player Lookup\\n\\n`playerid_lookup(last, first=None, fuzzy=False)`\\n\\nLook up a player\\'s MLBAM, Retrosheet, FanGraphs, and Baseball Reference ID by name.\\n\\n## Arguments\\n`last:` String. The player\\'s last name. Case insensitive.\\n\\n`first:` String. Optional. The player\\'s first name. Case insensitive.\\n\\n`fuzzy:` Boolean. Optional. Search for inexact name matches, the 5 closest will be returned.\\n\\nProviding last name only will return all available id data for players with that last name (this will return several rows for a common last name like Jones, for example.) If multiple players exist for a (last name, first name) pair, you can figure out who\\'s who by seeing their first and last years of play in the fields `mlb_played_first` and `mlb_played_last`.\\n\\nThis data comes from Chadwick Bureau, meaning that there are several people in this data who are not MLB players. For this reason, supplying both last and first name is recommended to narrow your search. \\n\\n## Examples of valid queries\\n\\n```python\\nfrom pybaseball import playerid_lookup\\n\\n# find the ids of all players with last name Jones (returns 1,314 rows)\\ndata = playerid_lookup(\\'jones\\')\\n\\n# only return the ids of chipper jones (returns one row)\\ndata = playerid_lookup(\\'jones\\',\\'chipper\\')\\n\\n# Will return all players named Pedro Martinez (returns *2* rows)\\ndata = playerid_lookup(\"martinez\", \"pedro\", fuzzy=True)\\n\\n# Will return the 5 closest names to \"yadi molina\" (returns 5 rows)\\n# First row will be Yadier Molina\\ndata = playerid_lookup(\"molina\", \"yadi\", fuzzy=True)\\n```\\n\\n## List Lookup\\n\\n`player_search_list(player_list)`\\n\\nLook up a list of player ID\\'s by name, return a data frame of all players\\n\\n`player_list:` List. A list of tuples, of the form `(last, first)`. Case Insensitive.\\n\\nSources are the same as those used in the above `playerid_lookup` function. Queries for this function must be exact name matches.\\n\\n## Examples of valid queries\\n\\n```python\\n\\nfrom pybaseball import player_search_list\\n\\n# Will return the ids for both Lou Brock and Chipper Jones (returns 2 rows)\\ndata = player_search_list([(\"brock\",\"lou\"), (\"jones\",\"chipper\")])\\n\\n```\\n</playerid_lookup_documentation>\\n', 'nearest_task': 'How many games did the Rays win in 2022?', 'nearest_plan': '1. Import the schedule_and_record function from pybaseball:\\n\\n```python\\nfrom pybaseball import schedule_and_record\\n```\\n\\n2. Get the 2022 schedule and results for the Tampa Bay Rays:\\n\\n```python\\nrays_2022 = schedule_and_record(2022, \\'TB\\')\\n```\\n\\n3. Filter the dataframe to games where the Rays won (W/L == \\'W\\') or had a walk-off win (W/L == \\'W-wo\\'):\\n\\n```python\\nrays_wins = rays_2022[(rays_2022[\\'W/L\\'] == \\'W\\') | (rays_2022[\\'W/L\\'] == \\'W-wo\\')]\\n```\\n\\n4. Count the number of rows (games won) in the filtered dataframe:\\n\\n```python\\nnum_wins = len(rays_wins)\\nprint(f\"The Tampa Bay Rays won {num_wins} games in 2022.\")\\n```', 'nearest_code': '# 1. Import the schedule_and_record function from pybaseball\\nfrom pybaseball import schedule_and_record\\n# 2. Get the 2022 schedule and results for the Tampa Bay Rays\\nrays_2022 = schedule_and_record(2022, \\'TB\\')\\n# 3. Filter the dataframe to games where the Rays won (W/L == \\'W\\') or had a walk-off win (W/L == \\'W-wo\\')\\nrays_wins = rays_2022[(rays_2022[\\'W/L\\'] == \\'W\\') | (rays_2022[\\'W/L\\'] == \\'W-wo\\')]\\n# 4. Count the number of rows (games won) in the filtered dataframe\\nnum_wins = len(rays_wins)\\nprint(f\"The Tampa Bay Rays won {num_wins} games in 2022.\")', 'known_plan': False}}\n",
      "----\n",
      "The current plan looks good as is and does not need any updates. It is using the pybaseball functions correctly:\n",
      "\n",
      "1. Import the statcast_batter and playerid_lookup functions from pybaseball:\n",
      "\n",
      "```python\n",
      "from pybaseball import statcast_batter, playerid_lookup \n",
      "```\n",
      "\n",
      "2. Look up Derek Jeter's MLBAM player ID:\n",
      "\n",
      "```python\n",
      "jeter_id = playerid_lookup('jeter', 'derek')  \n",
      "jeter_mlbam_id = jeter_id['key_mlbam'][0]\n",
      "```\n",
      "\n",
      "3. Get Derek Jeter's statcast batting data for the 2010 season:\n",
      "\n",
      "```python \n",
      "jeter_2010_data = statcast_batter('2010-01-01', '2010-12-31', player_id=jeter_mlbam_id)\n",
      "```\n",
      "\n",
      "4. Filter to only pitches that resulted in home runs and count them:\n",
      "\n",
      "```python\n",
      "jeter_2010_hr = jeter_2010_data[jeter_2010_data['events'] == 'home_run'] \n",
      "hr_count = len(jeter_2010_hr)\n",
      "print(f\"Derek Jeter hit {hr_count} home runs in the 2010 season.\")\n",
      "```\n",
      "\n",
      "This plan passes the correct parameters to playerid_lookup to get Jeter's MLBAM ID, and then passes that ID along with the desired date range to statcast_batter to retrieve his batting data for the 2010 season. It then correctly filters the data to home runs only and counts the results to get his home run total.\n",
      "\n",
      "Are you satisfied with this plan?\n"
     ]
    }
   ],
   "source": [
    "task = 'How many home runs did Derek Jeter hit in 2010?' \n",
    "result = baseball_lambda.execute_workflow(task, session_id)\n",
    "print(result)"
   ]
  },
  {
   "cell_type": "code",
   "execution_count": 6,
   "id": "0f1729ff",
   "metadata": {},
   "outputs": [
    {
     "name": "stdout",
     "output_type": "stream",
     "text": [
      "{'Orchestrate': {'next': 'Revise'}}\n",
      "----\n",
      "{'Revise': {'messages': [HumanMessage(content='How many home runs did Derek Jeter hit in 2010?', name='User'), AIMessage(content='The current plan looks good as is and does not need any updates. It is using the pybaseball functions correctly:\\n\\n1. Import the statcast_batter and playerid_lookup functions from pybaseball:\\n\\n```python\\nfrom pybaseball import statcast_batter, playerid_lookup \\n```\\n\\n2. Look up Derek Jeter\\'s MLBAM player ID:\\n\\n```python\\njeter_id = playerid_lookup(\\'jeter\\', \\'derek\\')  \\njeter_mlbam_id = jeter_id[\\'key_mlbam\\'][0]\\n```\\n\\n3. Get Derek Jeter\\'s statcast batting data for the 2010 season:\\n\\n```python \\njeter_2010_data = statcast_batter(\\'2010-01-01\\', \\'2010-12-31\\', player_id=jeter_mlbam_id)\\n```\\n\\n4. Filter to only pitches that resulted in home runs and count them:\\n\\n```python\\njeter_2010_hr = jeter_2010_data[jeter_2010_data[\\'events\\'] == \\'home_run\\'] \\nhr_count = len(jeter_2010_hr)\\nprint(f\"Derek Jeter hit {hr_count} home runs in the 2010 season.\")\\n```\\n\\nThis plan passes the correct parameters to playerid_lookup to get Jeter\\'s MLBAM ID, and then passes that ID along with the desired date range to statcast_batter to retrieve his batting data for the 2010 season. It then correctly filters the data to home runs only and counts the results to get his home run total.\\n\\nAre you satisfied with this plan?'), HumanMessage(content='use the 2008 season instead.  Use the RevisedPlan to to describe the plan.', name='User'), AIMessage(content='Here is the revised plan to find how many home runs Derek Jeter hit in the 2008 season:\\n\\n1. Import the statcast_batter and playerid_lookup functions from pybaseball:\\n\\n```python\\nfrom pybaseball import statcast_batter, playerid_lookup\\n```\\n\\n2. Look up Derek Jeter\\'s MLBAM player ID: \\n\\n```python\\njeter_id = playerid_lookup(\\'jeter\\', \\'derek\\')\\njeter_mlbam_id = jeter_id[\\'key_mlbam\\'][0]  \\n```\\n\\n3. Get Derek Jeter\\'s statcast batting data for the 2008 season:\\n\\n```python\\njeter_2008_data = statcast_batter(\\'2008-01-01\\', \\'2008-12-31\\', player_id=jeter_mlbam_id)\\n```\\n\\n4. Filter to only pitches that resulted in home runs and count them:\\n\\n```python\\njeter_2008_hr = jeter_2008_data[jeter_2008_data[\\'events\\'] == \\'home_run\\']\\nhr_count = len(jeter_2008_hr)\\nprint(f\"Derek Jeter hit {hr_count} home runs in the 2008 season.\")\\n```\\n\\nThe only change from the original plan is updating the date range in step 3 to retrieve data for 2008 instead of 2010. Everything else remains the same.\\n\\nAre you satisfied with this plan?')], 'session_id': '2', 'previous_node': 'Revise', 'next': 'Revise', 'plan': 'Here is the revised plan to find how many home runs Derek Jeter hit in the 2008 season:\\n\\n1. Import the statcast_batter and playerid_lookup functions from pybaseball:\\n\\n```python\\nfrom pybaseball import statcast_batter, playerid_lookup\\n```\\n\\n2. Look up Derek Jeter\\'s MLBAM player ID: \\n\\n```python\\njeter_id = playerid_lookup(\\'jeter\\', \\'derek\\')\\njeter_mlbam_id = jeter_id[\\'key_mlbam\\'][0]  \\n```\\n\\n3. Get Derek Jeter\\'s statcast batting data for the 2008 season:\\n\\n```python\\njeter_2008_data = statcast_batter(\\'2008-01-01\\', \\'2008-12-31\\', player_id=jeter_mlbam_id)\\n```\\n\\n4. Filter to only pitches that resulted in home runs and count them:\\n\\n```python\\njeter_2008_hr = jeter_2008_data[jeter_2008_data[\\'events\\'] == \\'home_run\\']\\nhr_count = len(jeter_2008_hr)\\nprint(f\"Derek Jeter hit {hr_count} home runs in the 2008 season.\")\\n```\\n\\nThe only change from the original plan is updating the date range in step 3 to retrieve data for 2008 instead of 2010. Everything else remains the same.\\n\\nAre you satisfied with this plan?', 'task': 'How many home runs did Derek Jeter hit in 2008?', 'code': None, 'function_detail': 'Text between the <statcast_batter_documentation></statcast_batter_documentation> tags is documentation for the statcast_batter library.  Consult this section to confirm which attributes to pass into the statcast_batter library.\\n<statcast_batter_documentation>\\n# Statcast Batter\\n`statcast_batter(start_dt=[yesterday\\'s date], end_dt=None, player_id)`\\n\\nThe statcast function retrieves pitch-level statcast data for a given date or range or dates. \\n\\n## Arguments\\n`start_dt:` first day for which you want to retrieve data. Defaults to yesterday\\'s date if nothing is entered. If you only want data for one date, supply a `start_dt` value but not an `end_dt` value. Format: YYYY-MM-DD. \\n\\n`end_dt:` last day for which you want to retrieve data. Defaults to None. If you want to retrieve data for more than one day, both a `start_dt` and `end_dt` value must be given. Format: YYYY-MM-DD. \\n\\n`player_id:` MLBAM player ID for the player you want to retrieve data for. To find a player\\'s MLBAM ID, see the function [playerid_lookup](http://github.com/jldbc/pybaseball/docs/playerid_lookup.md) or the examples below. \\n\\n### A note on data availability \\nThe earliest available statcast data comes from the 2008 season when the system was first introduced to Major League Baseball. Queries before this year will not work. Further, some features were introduced after the 2008 season. Launch speed angle, for example, is only available from the 2015 season forward. \\n\\n## Examples of valid queries\\n\\n```python\\nfrom pybaseball import statcast_batter\\nfrom pybaseball import playerid_lookup\\n\\n# find David Ortiz\\'s player id (mlbam_key)\\nplayerid_lookup(\\'ortiz\\',\\'david\\')\\n\\n# get all available data\\ndata = statcast_batter(\\'2008-04-01\\', \\'2017-07-15\\', player_id = 120074)\\n\\n# get data for August 16th, 2014\\ndata = statcast_batter(\\'2014-08-16\\', player_id = 120074)\\n```\\n\\n</statcast_batter_documentation>\\nText between the <playerid_lookup_documentation></playerid_lookup_documentation> tags is documentation for the playerid_lookup library.  Consult this section to confirm which attributes to pass into the playerid_lookup library.\\n<playerid_lookup_documentation>\\n# Player ID Lookup\\n\\n## Single Player Lookup\\n\\n`playerid_lookup(last, first=None, fuzzy=False)`\\n\\nLook up a player\\'s MLBAM, Retrosheet, FanGraphs, and Baseball Reference ID by name.\\n\\n## Arguments\\n`last:` String. The player\\'s last name. Case insensitive.\\n\\n`first:` String. Optional. The player\\'s first name. Case insensitive.\\n\\n`fuzzy:` Boolean. Optional. Search for inexact name matches, the 5 closest will be returned.\\n\\nProviding last name only will return all available id data for players with that last name (this will return several rows for a common last name like Jones, for example.) If multiple players exist for a (last name, first name) pair, you can figure out who\\'s who by seeing their first and last years of play in the fields `mlb_played_first` and `mlb_played_last`.\\n\\nThis data comes from Chadwick Bureau, meaning that there are several people in this data who are not MLB players. For this reason, supplying both last and first name is recommended to narrow your search. \\n\\n## Examples of valid queries\\n\\n```python\\nfrom pybaseball import playerid_lookup\\n\\n# find the ids of all players with last name Jones (returns 1,314 rows)\\ndata = playerid_lookup(\\'jones\\')\\n\\n# only return the ids of chipper jones (returns one row)\\ndata = playerid_lookup(\\'jones\\',\\'chipper\\')\\n\\n# Will return all players named Pedro Martinez (returns *2* rows)\\ndata = playerid_lookup(\"martinez\", \"pedro\", fuzzy=True)\\n\\n# Will return the 5 closest names to \"yadi molina\" (returns 5 rows)\\n# First row will be Yadier Molina\\ndata = playerid_lookup(\"molina\", \"yadi\", fuzzy=True)\\n```\\n\\n## List Lookup\\n\\n`player_search_list(player_list)`\\n\\nLook up a list of player ID\\'s by name, return a data frame of all players\\n\\n`player_list:` List. A list of tuples, of the form `(last, first)`. Case Insensitive.\\n\\nSources are the same as those used in the above `playerid_lookup` function. Queries for this function must be exact name matches.\\n\\n## Examples of valid queries\\n\\n```python\\n\\nfrom pybaseball import player_search_list\\n\\n# Will return the ids for both Lou Brock and Chipper Jones (returns 2 rows)\\ndata = player_search_list([(\"brock\",\"lou\"), (\"jones\",\"chipper\")])\\n\\n```\\n</playerid_lookup_documentation>\\n', 'nearest_task': 'How many games did the Rays win in 2022?', 'nearest_plan': '1. Import the schedule_and_record function from pybaseball:\\n\\n```python\\nfrom pybaseball import schedule_and_record\\n```\\n\\n2. Get the 2022 schedule and results for the Tampa Bay Rays:\\n\\n```python\\nrays_2022 = schedule_and_record(2022, \\'TB\\')\\n```\\n\\n3. Filter the dataframe to games where the Rays won (W/L == \\'W\\') or had a walk-off win (W/L == \\'W-wo\\'):\\n\\n```python\\nrays_wins = rays_2022[(rays_2022[\\'W/L\\'] == \\'W\\') | (rays_2022[\\'W/L\\'] == \\'W-wo\\')]\\n```\\n\\n4. Count the number of rows (games won) in the filtered dataframe:\\n\\n```python\\nnum_wins = len(rays_wins)\\nprint(f\"The Tampa Bay Rays won {num_wins} games in 2022.\")\\n```', 'nearest_code': '# 1. Import the schedule_and_record function from pybaseball\\nfrom pybaseball import schedule_and_record\\n# 2. Get the 2022 schedule and results for the Tampa Bay Rays\\nrays_2022 = schedule_and_record(2022, \\'TB\\')\\n# 3. Filter the dataframe to games where the Rays won (W/L == \\'W\\') or had a walk-off win (W/L == \\'W-wo\\')\\nrays_wins = rays_2022[(rays_2022[\\'W/L\\'] == \\'W\\') | (rays_2022[\\'W/L\\'] == \\'W-wo\\')]\\n# 4. Count the number of rows (games won) in the filtered dataframe\\nnum_wins = len(rays_wins)\\nprint(f\"The Tampa Bay Rays won {num_wins} games in 2022.\")', 'known_plan': False}}\n",
      "----\n",
      "Here is the revised plan to find how many home runs Derek Jeter hit in the 2008 season:\n",
      "\n",
      "1. Import the statcast_batter and playerid_lookup functions from pybaseball:\n",
      "\n",
      "```python\n",
      "from pybaseball import statcast_batter, playerid_lookup\n",
      "```\n",
      "\n",
      "2. Look up Derek Jeter's MLBAM player ID: \n",
      "\n",
      "```python\n",
      "jeter_id = playerid_lookup('jeter', 'derek')\n",
      "jeter_mlbam_id = jeter_id['key_mlbam'][0]  \n",
      "```\n",
      "\n",
      "3. Get Derek Jeter's statcast batting data for the 2008 season:\n",
      "\n",
      "```python\n",
      "jeter_2008_data = statcast_batter('2008-01-01', '2008-12-31', player_id=jeter_mlbam_id)\n",
      "```\n",
      "\n",
      "4. Filter to only pitches that resulted in home runs and count them:\n",
      "\n",
      "```python\n",
      "jeter_2008_hr = jeter_2008_data[jeter_2008_data['events'] == 'home_run']\n",
      "hr_count = len(jeter_2008_hr)\n",
      "print(f\"Derek Jeter hit {hr_count} home runs in the 2008 season.\")\n",
      "```\n",
      "\n",
      "The only change from the original plan is updating the date range in step 3 to retrieve data for 2008 instead of 2010. Everything else remains the same.\n",
      "\n",
      "Are you satisfied with this plan?\n"
     ]
    }
   ],
   "source": [
    "task = \"use the 2008 season instead\"\n",
    "result = baseball_lambda.execute_workflow(task, session_id)\n",
    "print(result)"
   ]
  },
  {
   "cell_type": "code",
   "execution_count": 7,
   "id": "8c9e31b6",
   "metadata": {
    "tags": []
   },
   "outputs": [
    {
     "name": "stdout",
     "output_type": "stream",
     "text": [
      "{'Orchestrate': {'next': 'Execute'}}\n",
      "----\n",
      "Unknown plan. Executing with Opus\n",
      "\n",
      "Executing:\n",
      "# 1. Import the statcast_batter and playerid_lookup functions from pybaseball\n",
      "from pybaseball import statcast_batter, playerid_lookup\n",
      "\n",
      "Executing:\n",
      "# 2. Look up Derek Jeter's MLBAM player ID\n",
      "jeter_id = playerid_lookup('jeter', 'derek') \n",
      "jeter_mlbam_id = jeter_id['key_mlbam'][0]\n",
      "print(f\"Derek Jeter's MLBAM ID is: {jeter_mlbam_id}\")\n",
      "\n",
      "Result:\n",
      "Gathering player lookup table. This may take a moment.\n",
      "Derek Jeter's MLBAM ID is: 116539\n",
      "\n",
      "\n",
      "Executing:\n",
      "# 3. Get Derek Jeter's statcast batting data for the 2008 season\n",
      "jeter_2008_data = statcast_batter('2008-01-01', '2008-12-31', player_id=jeter_mlbam_id)\n",
      "\n",
      "Result:\n",
      "Gathering Player Data\n",
      "\n",
      "\n",
      "Executing:\n",
      "# 4. Filter to only pitches that resulted in home runs and count them\n",
      "jeter_2008_hr = jeter_2008_data[jeter_2008_data['events'] == 'home_run'] \n",
      "hr_count = len(jeter_2008_hr)\n",
      "print(f\"Derek Jeter hit {hr_count} home runs in the 2008 season.\")\n",
      "\n",
      "Result:\n",
      "Derek Jeter hit 12 home runs in the 2008 season.\n",
      "\n",
      "Summarizing execution result\n",
      "{'Execute': {'messages': [HumanMessage(content='How many home runs did Derek Jeter hit in 2010?', name='User'), AIMessage(content='The current plan looks good as is and does not need any updates. It is using the pybaseball functions correctly:\\n\\n1. Import the statcast_batter and playerid_lookup functions from pybaseball:\\n\\n```python\\nfrom pybaseball import statcast_batter, playerid_lookup \\n```\\n\\n2. Look up Derek Jeter\\'s MLBAM player ID:\\n\\n```python\\njeter_id = playerid_lookup(\\'jeter\\', \\'derek\\')  \\njeter_mlbam_id = jeter_id[\\'key_mlbam\\'][0]\\n```\\n\\n3. Get Derek Jeter\\'s statcast batting data for the 2010 season:\\n\\n```python \\njeter_2010_data = statcast_batter(\\'2010-01-01\\', \\'2010-12-31\\', player_id=jeter_mlbam_id)\\n```\\n\\n4. Filter to only pitches that resulted in home runs and count them:\\n\\n```python\\njeter_2010_hr = jeter_2010_data[jeter_2010_data[\\'events\\'] == \\'home_run\\'] \\nhr_count = len(jeter_2010_hr)\\nprint(f\"Derek Jeter hit {hr_count} home runs in the 2010 season.\")\\n```\\n\\nThis plan passes the correct parameters to playerid_lookup to get Jeter\\'s MLBAM ID, and then passes that ID along with the desired date range to statcast_batter to retrieve his batting data for the 2010 season. It then correctly filters the data to home runs only and counts the results to get his home run total.\\n\\nAre you satisfied with this plan?'), HumanMessage(content='use the 2008 season instead.  Use the RevisedPlan to to describe the plan.', name='User'), AIMessage(content='Here is the revised plan to find how many home runs Derek Jeter hit in the 2008 season:\\n\\n1. Import the statcast_batter and playerid_lookup functions from pybaseball:\\n\\n```python\\nfrom pybaseball import statcast_batter, playerid_lookup\\n```\\n\\n2. Look up Derek Jeter\\'s MLBAM player ID: \\n\\n```python\\njeter_id = playerid_lookup(\\'jeter\\', \\'derek\\')\\njeter_mlbam_id = jeter_id[\\'key_mlbam\\'][0]  \\n```\\n\\n3. Get Derek Jeter\\'s statcast batting data for the 2008 season:\\n\\n```python\\njeter_2008_data = statcast_batter(\\'2008-01-01\\', \\'2008-12-31\\', player_id=jeter_mlbam_id)\\n```\\n\\n4. Filter to only pitches that resulted in home runs and count them:\\n\\n```python\\njeter_2008_hr = jeter_2008_data[jeter_2008_data[\\'events\\'] == \\'home_run\\']\\nhr_count = len(jeter_2008_hr)\\nprint(f\"Derek Jeter hit {hr_count} home runs in the 2008 season.\")\\n```\\n\\nThe only change from the original plan is updating the date range in step 3 to retrieve data for 2008 instead of 2010. Everything else remains the same.\\n\\nAre you satisfied with this plan?'), HumanMessage(content='looks good', name='User'), AIMessage(content='Derek Jeter hit 12 home runs in the 2008 MLB season.\\n\\nHere is the code that was used to reach this solution:\\n\\n```python\\n\\n# 1. Import the statcast_batter and playerid_lookup functions from pybaseball\\nfrom pybaseball import statcast_batter, playerid_lookup\\n\\n# 2. Look up Derek Jeter\\'s MLBAM player ID\\njeter_id = playerid_lookup(\\'jeter\\', \\'derek\\') \\njeter_mlbam_id = jeter_id[\\'key_mlbam\\'][0]\\nprint(f\"Derek Jeter\\'s MLBAM ID is: {jeter_mlbam_id}\")\\n\\n# 3. Get Derek Jeter\\'s statcast batting data for the 2008 season\\njeter_2008_data = statcast_batter(\\'2008-01-01\\', \\'2008-12-31\\', player_id=jeter_mlbam_id)\\n\\n# 4. Filter to only pitches that resulted in home runs and count them\\njeter_2008_hr = jeter_2008_data[jeter_2008_data[\\'events\\'] == \\'home_run\\'] \\nhr_count = len(jeter_2008_hr)\\nprint(f\"Derek Jeter hit {hr_count} home runs in the 2008 season.\")\\n```\\n\\nAre you satisfied with this result?')], 'session_id': '2', 'previous_node': 'Execute', 'next': 'Execute', 'plan': 'Here is the revised plan to find how many home runs Derek Jeter hit in the 2008 season:\\n\\n1. Import the statcast_batter and playerid_lookup functions from pybaseball:\\n\\n```python\\nfrom pybaseball import statcast_batter, playerid_lookup\\n```\\n\\n2. Look up Derek Jeter\\'s MLBAM player ID: \\n\\n```python\\njeter_id = playerid_lookup(\\'jeter\\', \\'derek\\')\\njeter_mlbam_id = jeter_id[\\'key_mlbam\\'][0]  \\n```\\n\\n3. Get Derek Jeter\\'s statcast batting data for the 2008 season:\\n\\n```python\\njeter_2008_data = statcast_batter(\\'2008-01-01\\', \\'2008-12-31\\', player_id=jeter_mlbam_id)\\n```\\n\\n4. Filter to only pitches that resulted in home runs and count them:\\n\\n```python\\njeter_2008_hr = jeter_2008_data[jeter_2008_data[\\'events\\'] == \\'home_run\\']\\nhr_count = len(jeter_2008_hr)\\nprint(f\"Derek Jeter hit {hr_count} home runs in the 2008 season.\")\\n```\\n\\nThe only change from the original plan is updating the date range in step 3 to retrieve data for 2008 instead of 2010. Everything else remains the same.\\n\\nAre you satisfied with this plan?', 'task': 'How many home runs did Derek Jeter hit in 2008?', 'code': '# 1. Import the statcast_batter and playerid_lookup functions from pybaseball\\nfrom pybaseball import statcast_batter, playerid_lookup\\n\\n# 2. Look up Derek Jeter\\'s MLBAM player ID\\njeter_id = playerid_lookup(\\'jeter\\', \\'derek\\') \\njeter_mlbam_id = jeter_id[\\'key_mlbam\\'][0]\\nprint(f\"Derek Jeter\\'s MLBAM ID is: {jeter_mlbam_id}\")\\n\\n# 3. Get Derek Jeter\\'s statcast batting data for the 2008 season\\njeter_2008_data = statcast_batter(\\'2008-01-01\\', \\'2008-12-31\\', player_id=jeter_mlbam_id)\\n\\n# 4. Filter to only pitches that resulted in home runs and count them\\njeter_2008_hr = jeter_2008_data[jeter_2008_data[\\'events\\'] == \\'home_run\\'] \\nhr_count = len(jeter_2008_hr)\\nprint(f\"Derek Jeter hit {hr_count} home runs in the 2008 season.\")', 'function_detail': 'Text between the <statcast_batter_documentation></statcast_batter_documentation> tags is documentation for the statcast_batter library.  Consult this section to confirm which attributes to pass into the statcast_batter library.\\n<statcast_batter_documentation>\\n# Statcast Batter\\n`statcast_batter(start_dt=[yesterday\\'s date], end_dt=None, player_id)`\\n\\nThe statcast function retrieves pitch-level statcast data for a given date or range or dates. \\n\\n## Arguments\\n`start_dt:` first day for which you want to retrieve data. Defaults to yesterday\\'s date if nothing is entered. If you only want data for one date, supply a `start_dt` value but not an `end_dt` value. Format: YYYY-MM-DD. \\n\\n`end_dt:` last day for which you want to retrieve data. Defaults to None. If you want to retrieve data for more than one day, both a `start_dt` and `end_dt` value must be given. Format: YYYY-MM-DD. \\n\\n`player_id:` MLBAM player ID for the player you want to retrieve data for. To find a player\\'s MLBAM ID, see the function [playerid_lookup](http://github.com/jldbc/pybaseball/docs/playerid_lookup.md) or the examples below. \\n\\n### A note on data availability \\nThe earliest available statcast data comes from the 2008 season when the system was first introduced to Major League Baseball. Queries before this year will not work. Further, some features were introduced after the 2008 season. Launch speed angle, for example, is only available from the 2015 season forward. \\n\\n## Examples of valid queries\\n\\n```python\\nfrom pybaseball import statcast_batter\\nfrom pybaseball import playerid_lookup\\n\\n# find David Ortiz\\'s player id (mlbam_key)\\nplayerid_lookup(\\'ortiz\\',\\'david\\')\\n\\n# get all available data\\ndata = statcast_batter(\\'2008-04-01\\', \\'2017-07-15\\', player_id = 120074)\\n\\n# get data for August 16th, 2014\\ndata = statcast_batter(\\'2014-08-16\\', player_id = 120074)\\n```\\n\\n</statcast_batter_documentation>\\nText between the <playerid_lookup_documentation></playerid_lookup_documentation> tags is documentation for the playerid_lookup library.  Consult this section to confirm which attributes to pass into the playerid_lookup library.\\n<playerid_lookup_documentation>\\n# Player ID Lookup\\n\\n## Single Player Lookup\\n\\n`playerid_lookup(last, first=None, fuzzy=False)`\\n\\nLook up a player\\'s MLBAM, Retrosheet, FanGraphs, and Baseball Reference ID by name.\\n\\n## Arguments\\n`last:` String. The player\\'s last name. Case insensitive.\\n\\n`first:` String. Optional. The player\\'s first name. Case insensitive.\\n\\n`fuzzy:` Boolean. Optional. Search for inexact name matches, the 5 closest will be returned.\\n\\nProviding last name only will return all available id data for players with that last name (this will return several rows for a common last name like Jones, for example.) If multiple players exist for a (last name, first name) pair, you can figure out who\\'s who by seeing their first and last years of play in the fields `mlb_played_first` and `mlb_played_last`.\\n\\nThis data comes from Chadwick Bureau, meaning that there are several people in this data who are not MLB players. For this reason, supplying both last and first name is recommended to narrow your search. \\n\\n## Examples of valid queries\\n\\n```python\\nfrom pybaseball import playerid_lookup\\n\\n# find the ids of all players with last name Jones (returns 1,314 rows)\\ndata = playerid_lookup(\\'jones\\')\\n\\n# only return the ids of chipper jones (returns one row)\\ndata = playerid_lookup(\\'jones\\',\\'chipper\\')\\n\\n# Will return all players named Pedro Martinez (returns *2* rows)\\ndata = playerid_lookup(\"martinez\", \"pedro\", fuzzy=True)\\n\\n# Will return the 5 closest names to \"yadi molina\" (returns 5 rows)\\n# First row will be Yadier Molina\\ndata = playerid_lookup(\"molina\", \"yadi\", fuzzy=True)\\n```\\n\\n## List Lookup\\n\\n`player_search_list(player_list)`\\n\\nLook up a list of player ID\\'s by name, return a data frame of all players\\n\\n`player_list:` List. A list of tuples, of the form `(last, first)`. Case Insensitive.\\n\\nSources are the same as those used in the above `playerid_lookup` function. Queries for this function must be exact name matches.\\n\\n## Examples of valid queries\\n\\n```python\\n\\nfrom pybaseball import player_search_list\\n\\n# Will return the ids for both Lou Brock and Chipper Jones (returns 2 rows)\\ndata = player_search_list([(\"brock\",\"lou\"), (\"jones\",\"chipper\")])\\n\\n```\\n</playerid_lookup_documentation>\\n', 'nearest_task': 'How many games did the Rays win in 2022?', 'nearest_plan': '1. Import the schedule_and_record function from pybaseball:\\n\\n```python\\nfrom pybaseball import schedule_and_record\\n```\\n\\n2. Get the 2022 schedule and results for the Tampa Bay Rays:\\n\\n```python\\nrays_2022 = schedule_and_record(2022, \\'TB\\')\\n```\\n\\n3. Filter the dataframe to games where the Rays won (W/L == \\'W\\') or had a walk-off win (W/L == \\'W-wo\\'):\\n\\n```python\\nrays_wins = rays_2022[(rays_2022[\\'W/L\\'] == \\'W\\') | (rays_2022[\\'W/L\\'] == \\'W-wo\\')]\\n```\\n\\n4. Count the number of rows (games won) in the filtered dataframe:\\n\\n```python\\nnum_wins = len(rays_wins)\\nprint(f\"The Tampa Bay Rays won {num_wins} games in 2022.\")\\n```', 'nearest_code': '# 1. Import the schedule_and_record function from pybaseball\\nfrom pybaseball import schedule_and_record\\n# 2. Get the 2022 schedule and results for the Tampa Bay Rays\\nrays_2022 = schedule_and_record(2022, \\'TB\\')\\n# 3. Filter the dataframe to games where the Rays won (W/L == \\'W\\') or had a walk-off win (W/L == \\'W-wo\\')\\nrays_wins = rays_2022[(rays_2022[\\'W/L\\'] == \\'W\\') | (rays_2022[\\'W/L\\'] == \\'W-wo\\')]\\n# 4. Count the number of rows (games won) in the filtered dataframe\\nnum_wins = len(rays_wins)\\nprint(f\"The Tampa Bay Rays won {num_wins} games in 2022.\")', 'known_plan': False}}\n",
      "----\n",
      "Derek Jeter hit 12 home runs in the 2008 MLB season.\n",
      "\n",
      "Here is the code that was used to reach this solution:\n",
      "\n",
      "```python\n",
      "\n",
      "# 1. Import the statcast_batter and playerid_lookup functions from pybaseball\n",
      "from pybaseball import statcast_batter, playerid_lookup\n",
      "\n",
      "# 2. Look up Derek Jeter's MLBAM player ID\n",
      "jeter_id = playerid_lookup('jeter', 'derek') \n",
      "jeter_mlbam_id = jeter_id['key_mlbam'][0]\n",
      "print(f\"Derek Jeter's MLBAM ID is: {jeter_mlbam_id}\")\n",
      "\n",
      "# 3. Get Derek Jeter's statcast batting data for the 2008 season\n",
      "jeter_2008_data = statcast_batter('2008-01-01', '2008-12-31', player_id=jeter_mlbam_id)\n",
      "\n",
      "# 4. Filter to only pitches that resulted in home runs and count them\n",
      "jeter_2008_hr = jeter_2008_data[jeter_2008_data['events'] == 'home_run'] \n",
      "hr_count = len(jeter_2008_hr)\n",
      "print(f\"Derek Jeter hit {hr_count} home runs in the 2008 season.\")\n",
      "```\n",
      "\n",
      "Are you satisfied with this result?\n"
     ]
    }
   ],
   "source": [
    "task = 'looks good'\n",
    "result = baseball_lambda.execute_workflow(task, session_id)\n",
    "print(result)"
   ]
  },
  {
   "cell_type": "code",
   "execution_count": 8,
   "id": "6c1ea32a",
   "metadata": {
    "tags": []
   },
   "outputs": [
    {
     "name": "stdout",
     "output_type": "stream",
     "text": [
      "{'Orchestrate': {'next': 'Memorize'}}\n",
      "----\n",
      "{'Memorize': {'messages': [HumanMessage(content='How many home runs did Derek Jeter hit in 2010?', name='User'), AIMessage(content='The current plan looks good as is and does not need any updates. It is using the pybaseball functions correctly:\\n\\n1. Import the statcast_batter and playerid_lookup functions from pybaseball:\\n\\n```python\\nfrom pybaseball import statcast_batter, playerid_lookup \\n```\\n\\n2. Look up Derek Jeter\\'s MLBAM player ID:\\n\\n```python\\njeter_id = playerid_lookup(\\'jeter\\', \\'derek\\')  \\njeter_mlbam_id = jeter_id[\\'key_mlbam\\'][0]\\n```\\n\\n3. Get Derek Jeter\\'s statcast batting data for the 2010 season:\\n\\n```python \\njeter_2010_data = statcast_batter(\\'2010-01-01\\', \\'2010-12-31\\', player_id=jeter_mlbam_id)\\n```\\n\\n4. Filter to only pitches that resulted in home runs and count them:\\n\\n```python\\njeter_2010_hr = jeter_2010_data[jeter_2010_data[\\'events\\'] == \\'home_run\\'] \\nhr_count = len(jeter_2010_hr)\\nprint(f\"Derek Jeter hit {hr_count} home runs in the 2010 season.\")\\n```\\n\\nThis plan passes the correct parameters to playerid_lookup to get Jeter\\'s MLBAM ID, and then passes that ID along with the desired date range to statcast_batter to retrieve his batting data for the 2010 season. It then correctly filters the data to home runs only and counts the results to get his home run total.\\n\\nAre you satisfied with this plan?'), HumanMessage(content='use the 2008 season instead.  Use the RevisedPlan to to describe the plan.', name='User'), AIMessage(content='Here is the revised plan to find how many home runs Derek Jeter hit in the 2008 season:\\n\\n1. Import the statcast_batter and playerid_lookup functions from pybaseball:\\n\\n```python\\nfrom pybaseball import statcast_batter, playerid_lookup\\n```\\n\\n2. Look up Derek Jeter\\'s MLBAM player ID: \\n\\n```python\\njeter_id = playerid_lookup(\\'jeter\\', \\'derek\\')\\njeter_mlbam_id = jeter_id[\\'key_mlbam\\'][0]  \\n```\\n\\n3. Get Derek Jeter\\'s statcast batting data for the 2008 season:\\n\\n```python\\njeter_2008_data = statcast_batter(\\'2008-01-01\\', \\'2008-12-31\\', player_id=jeter_mlbam_id)\\n```\\n\\n4. Filter to only pitches that resulted in home runs and count them:\\n\\n```python\\njeter_2008_hr = jeter_2008_data[jeter_2008_data[\\'events\\'] == \\'home_run\\']\\nhr_count = len(jeter_2008_hr)\\nprint(f\"Derek Jeter hit {hr_count} home runs in the 2008 season.\")\\n```\\n\\nThe only change from the original plan is updating the date range in step 3 to retrieve data for 2008 instead of 2010. Everything else remains the same.\\n\\nAre you satisfied with this plan?'), HumanMessage(content='looks good', name='User'), AIMessage(content='Derek Jeter hit 12 home runs in the 2008 MLB season.\\n\\nHere is the code that was used to reach this solution:\\n\\n```python\\n\\n# 1. Import the statcast_batter and playerid_lookup functions from pybaseball\\nfrom pybaseball import statcast_batter, playerid_lookup\\n\\n# 2. Look up Derek Jeter\\'s MLBAM player ID\\njeter_id = playerid_lookup(\\'jeter\\', \\'derek\\') \\njeter_mlbam_id = jeter_id[\\'key_mlbam\\'][0]\\nprint(f\"Derek Jeter\\'s MLBAM ID is: {jeter_mlbam_id}\")\\n\\n# 3. Get Derek Jeter\\'s statcast batting data for the 2008 season\\njeter_2008_data = statcast_batter(\\'2008-01-01\\', \\'2008-12-31\\', player_id=jeter_mlbam_id)\\n\\n# 4. Filter to only pitches that resulted in home runs and count them\\njeter_2008_hr = jeter_2008_data[jeter_2008_data[\\'events\\'] == \\'home_run\\'] \\nhr_count = len(jeter_2008_hr)\\nprint(f\"Derek Jeter hit {hr_count} home runs in the 2008 season.\")\\n```\\n\\nAre you satisfied with this result?'), HumanMessage(content='yes', name='User'), AIMessage(content='Thank you, task has been commited to memory')], 'session_id': '2', 'previous_node': 'Execute', 'next': 'Memorize', 'plan': 'Here is the revised plan to find how many home runs Derek Jeter hit in the 2008 season:\\n\\n1. Import the statcast_batter and playerid_lookup functions from pybaseball:\\n\\n```python\\nfrom pybaseball import statcast_batter, playerid_lookup\\n```\\n\\n2. Look up Derek Jeter\\'s MLBAM player ID: \\n\\n```python\\njeter_id = playerid_lookup(\\'jeter\\', \\'derek\\')\\njeter_mlbam_id = jeter_id[\\'key_mlbam\\'][0]  \\n```\\n\\n3. Get Derek Jeter\\'s statcast batting data for the 2008 season:\\n\\n```python\\njeter_2008_data = statcast_batter(\\'2008-01-01\\', \\'2008-12-31\\', player_id=jeter_mlbam_id)\\n```\\n\\n4. Filter to only pitches that resulted in home runs and count them:\\n\\n```python\\njeter_2008_hr = jeter_2008_data[jeter_2008_data[\\'events\\'] == \\'home_run\\']\\nhr_count = len(jeter_2008_hr)\\nprint(f\"Derek Jeter hit {hr_count} home runs in the 2008 season.\")\\n```\\n\\nThe only change from the original plan is updating the date range in step 3 to retrieve data for 2008 instead of 2010. Everything else remains the same.\\n\\nAre you satisfied with this plan?', 'task': 'How many home runs did Derek Jeter hit in 2008?', 'code': '# 1. Import the statcast_batter and playerid_lookup functions from pybaseball\\nfrom pybaseball import statcast_batter, playerid_lookup\\n\\n# 2. Look up Derek Jeter\\'s MLBAM player ID\\njeter_id = playerid_lookup(\\'jeter\\', \\'derek\\') \\njeter_mlbam_id = jeter_id[\\'key_mlbam\\'][0]\\nprint(f\"Derek Jeter\\'s MLBAM ID is: {jeter_mlbam_id}\")\\n\\n# 3. Get Derek Jeter\\'s statcast batting data for the 2008 season\\njeter_2008_data = statcast_batter(\\'2008-01-01\\', \\'2008-12-31\\', player_id=jeter_mlbam_id)\\n\\n# 4. Filter to only pitches that resulted in home runs and count them\\njeter_2008_hr = jeter_2008_data[jeter_2008_data[\\'events\\'] == \\'home_run\\'] \\nhr_count = len(jeter_2008_hr)\\nprint(f\"Derek Jeter hit {hr_count} home runs in the 2008 season.\")', 'function_detail': 'Text between the <statcast_batter_documentation></statcast_batter_documentation> tags is documentation for the statcast_batter library.  Consult this section to confirm which attributes to pass into the statcast_batter library.\\n<statcast_batter_documentation>\\n# Statcast Batter\\n`statcast_batter(start_dt=[yesterday\\'s date], end_dt=None, player_id)`\\n\\nThe statcast function retrieves pitch-level statcast data for a given date or range or dates. \\n\\n## Arguments\\n`start_dt:` first day for which you want to retrieve data. Defaults to yesterday\\'s date if nothing is entered. If you only want data for one date, supply a `start_dt` value but not an `end_dt` value. Format: YYYY-MM-DD. \\n\\n`end_dt:` last day for which you want to retrieve data. Defaults to None. If you want to retrieve data for more than one day, both a `start_dt` and `end_dt` value must be given. Format: YYYY-MM-DD. \\n\\n`player_id:` MLBAM player ID for the player you want to retrieve data for. To find a player\\'s MLBAM ID, see the function [playerid_lookup](http://github.com/jldbc/pybaseball/docs/playerid_lookup.md) or the examples below. \\n\\n### A note on data availability \\nThe earliest available statcast data comes from the 2008 season when the system was first introduced to Major League Baseball. Queries before this year will not work. Further, some features were introduced after the 2008 season. Launch speed angle, for example, is only available from the 2015 season forward. \\n\\n## Examples of valid queries\\n\\n```python\\nfrom pybaseball import statcast_batter\\nfrom pybaseball import playerid_lookup\\n\\n# find David Ortiz\\'s player id (mlbam_key)\\nplayerid_lookup(\\'ortiz\\',\\'david\\')\\n\\n# get all available data\\ndata = statcast_batter(\\'2008-04-01\\', \\'2017-07-15\\', player_id = 120074)\\n\\n# get data for August 16th, 2014\\ndata = statcast_batter(\\'2014-08-16\\', player_id = 120074)\\n```\\n\\n</statcast_batter_documentation>\\nText between the <playerid_lookup_documentation></playerid_lookup_documentation> tags is documentation for the playerid_lookup library.  Consult this section to confirm which attributes to pass into the playerid_lookup library.\\n<playerid_lookup_documentation>\\n# Player ID Lookup\\n\\n## Single Player Lookup\\n\\n`playerid_lookup(last, first=None, fuzzy=False)`\\n\\nLook up a player\\'s MLBAM, Retrosheet, FanGraphs, and Baseball Reference ID by name.\\n\\n## Arguments\\n`last:` String. The player\\'s last name. Case insensitive.\\n\\n`first:` String. Optional. The player\\'s first name. Case insensitive.\\n\\n`fuzzy:` Boolean. Optional. Search for inexact name matches, the 5 closest will be returned.\\n\\nProviding last name only will return all available id data for players with that last name (this will return several rows for a common last name like Jones, for example.) If multiple players exist for a (last name, first name) pair, you can figure out who\\'s who by seeing their first and last years of play in the fields `mlb_played_first` and `mlb_played_last`.\\n\\nThis data comes from Chadwick Bureau, meaning that there are several people in this data who are not MLB players. For this reason, supplying both last and first name is recommended to narrow your search. \\n\\n## Examples of valid queries\\n\\n```python\\nfrom pybaseball import playerid_lookup\\n\\n# find the ids of all players with last name Jones (returns 1,314 rows)\\ndata = playerid_lookup(\\'jones\\')\\n\\n# only return the ids of chipper jones (returns one row)\\ndata = playerid_lookup(\\'jones\\',\\'chipper\\')\\n\\n# Will return all players named Pedro Martinez (returns *2* rows)\\ndata = playerid_lookup(\"martinez\", \"pedro\", fuzzy=True)\\n\\n# Will return the 5 closest names to \"yadi molina\" (returns 5 rows)\\n# First row will be Yadier Molina\\ndata = playerid_lookup(\"molina\", \"yadi\", fuzzy=True)\\n```\\n\\n## List Lookup\\n\\n`player_search_list(player_list)`\\n\\nLook up a list of player ID\\'s by name, return a data frame of all players\\n\\n`player_list:` List. A list of tuples, of the form `(last, first)`. Case Insensitive.\\n\\nSources are the same as those used in the above `playerid_lookup` function. Queries for this function must be exact name matches.\\n\\n## Examples of valid queries\\n\\n```python\\n\\nfrom pybaseball import player_search_list\\n\\n# Will return the ids for both Lou Brock and Chipper Jones (returns 2 rows)\\ndata = player_search_list([(\"brock\",\"lou\"), (\"jones\",\"chipper\")])\\n\\n```\\n</playerid_lookup_documentation>\\n', 'nearest_task': 'How many games did the Rays win in 2022?', 'nearest_plan': '1. Import the schedule_and_record function from pybaseball:\\n\\n```python\\nfrom pybaseball import schedule_and_record\\n```\\n\\n2. Get the 2022 schedule and results for the Tampa Bay Rays:\\n\\n```python\\nrays_2022 = schedule_and_record(2022, \\'TB\\')\\n```\\n\\n3. Filter the dataframe to games where the Rays won (W/L == \\'W\\') or had a walk-off win (W/L == \\'W-wo\\'):\\n\\n```python\\nrays_wins = rays_2022[(rays_2022[\\'W/L\\'] == \\'W\\') | (rays_2022[\\'W/L\\'] == \\'W-wo\\')]\\n```\\n\\n4. Count the number of rows (games won) in the filtered dataframe:\\n\\n```python\\nnum_wins = len(rays_wins)\\nprint(f\"The Tampa Bay Rays won {num_wins} games in 2022.\")\\n```', 'nearest_code': '# 1. Import the schedule_and_record function from pybaseball\\nfrom pybaseball import schedule_and_record\\n# 2. Get the 2022 schedule and results for the Tampa Bay Rays\\nrays_2022 = schedule_and_record(2022, \\'TB\\')\\n# 3. Filter the dataframe to games where the Rays won (W/L == \\'W\\') or had a walk-off win (W/L == \\'W-wo\\')\\nrays_wins = rays_2022[(rays_2022[\\'W/L\\'] == \\'W\\') | (rays_2022[\\'W/L\\'] == \\'W-wo\\')]\\n# 4. Count the number of rows (games won) in the filtered dataframe\\nnum_wins = len(rays_wins)\\nprint(f\"The Tampa Bay Rays won {num_wins} games in 2022.\")', 'known_plan': False}}\n",
      "----\n",
      "Thank you, task has been commited to memory\n"
     ]
    }
   ],
   "source": [
    "task = 'yes'\n",
    "result = baseball_lambda.execute_workflow(task, session_id)\n",
    "print(result)"
   ]
  },
  {
   "cell_type": "code",
   "execution_count": null,
   "id": "11f601a4",
   "metadata": {},
   "outputs": [],
   "source": []
  }
 ],
 "metadata": {
  "kernelspec": {
   "display_name": "venv",
   "language": "python",
   "name": "python3"
  },
  "language_info": {
   "codemirror_mode": {
    "name": "ipython",
    "version": 3
   },
   "file_extension": ".py",
   "mimetype": "text/x-python",
   "name": "python",
   "nbconvert_exporter": "python",
   "pygments_lexer": "ipython3",
   "version": "3.10.8"
  }
 },
 "nbformat": 4,
 "nbformat_minor": 5
}
