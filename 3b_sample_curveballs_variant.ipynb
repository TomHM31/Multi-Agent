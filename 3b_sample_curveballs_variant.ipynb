{
 "cells": [
  {
   "cell_type": "code",
   "execution_count": 1,
   "id": "7c01b355-66d2-40e0-92a4-c4553a8d2edd",
   "metadata": {
    "tags": []
   },
   "outputs": [
    {
     "name": "stderr",
     "output_type": "stream",
     "text": [
      "Python REPL can execute arbitrary code. Use with caution.\n"
     ]
    }
   ],
   "source": [
    "# general\n",
    "from datetime import datetime\n",
    "from dotenv import load_dotenv, find_dotenv\n",
    "import os\n",
    "\n",
    "# custom local libs\n",
    "from function import baseball_lambda"
   ]
  },
  {
   "cell_type": "code",
   "execution_count": 2,
   "id": "7a2a54ab",
   "metadata": {},
   "outputs": [],
   "source": [
    "# read local .env file\n",
    "_ = load_dotenv(find_dotenv()) "
   ]
  },
  {
   "cell_type": "code",
   "execution_count": 3,
   "id": "12b6af87",
   "metadata": {},
   "outputs": [],
   "source": [
    "# set Langsmith project\n",
    "today = datetime.now().strftime(\"%Y%m%d\")\n",
    "os.environ[\"LANGCHAIN_PROJECT\"] = f\"Baseball Curveballs - {today}\""
   ]
  },
  {
   "cell_type": "code",
   "execution_count": 4,
   "id": "6bf9b046",
   "metadata": {},
   "outputs": [],
   "source": [
    "session_id = '882432'"
   ]
  },
  {
   "cell_type": "code",
   "execution_count": 5,
   "id": "483dc6f3",
   "metadata": {},
   "outputs": [
    {
     "name": "stdout",
     "output_type": "stream",
     "text": [
      "{'Orchestrate': {'next': 'Plan'}}\n",
      "----\n",
      "Distance to neareast plan: 0.3152533769607544\n",
      "Modifying nearest plan with User input\n",
      "{'Plan': {'messages': [HumanMessage(content='Updated Plan:\\nBased on the new request to find 3 pitchers whose changeups were most similar to Justin Verlander\\'s during the first week of June 2019, the plan will be updated as follows:\\n\\n1. Use the `playerid_lookup` function from the pybaseball library to find Justin Verlander\\'s MLBAM player ID.\\n   - Pass in \"Verlander\" as the last name and \"Justin\" as the first name.\\n\\n2. Use the `statcast_pitcher` function to retrieve Justin Verlander\\'s pitching data for the first week of June 2019.\\n   - Pass in the appropriate date range and Justin Verlander\\'s MLBAM player ID.\\n\\n3. Filter the retrieved data to only include changeups thrown by Justin Verlander.\\n   - Use the `pitch_type` field to filter for changeups.\\n\\n4. Calculate the average vector for Justin Verlander\\'s changeups using relevant fields such as `release_speed`, `release_spin`, and `release_extension`.\\n\\n5. Retrieve a comprehensive dataset of pitchers and their pitches within the same timeframe as Justin Verlander\\'s data for the first week of June 2019.\\n   - Use the `statcast` function with the same date range as used for Verlander but without specifying a player ID.\\n\\n6. Filter this dataset to only include changeups.\\n   - Again, use the `pitch_type` field to filter for changeups.\\n\\n7. Group the data by pitcher and calculate the average vector for each pitcher\\'s changeups using the same fields as for Verlander.\\n\\n8. Train a KNN (K-Nearest Neighbors) model on this dataset of average vectors for each pitcher.\\n   - Exclude Justin Verlander\\'s data from the training set.\\n\\n9. Use the trained KNN model to find the 3 pitchers with the most similar changeup to Justin Verlander\\'s based on the average vector calculated in step 4.\\n   - Input Justin Verlander\\'s average changeup vector into the model to find the nearest neighbors.\\n\\n10. Present the findings, including the names and IDs of the 3 pitchers with the most similar changeups to Justin Verlander\\'s during the first week of June 2019.\\n\\nThis updated plan now focuses on finding pitchers with similar changeups to Justin Verlander during the specified timeframe, following a similar approach as the original plan but tailored to the new request.\\n\\nAre you satisfied with this plan?')], 'task': \"Consider the first week of June 2019 - find 3 pitchers who's changeups were most similar to Justin Verlander's\", 'plan': 'Updated Plan:\\nBased on the new request to find 3 pitchers whose changeups were most similar to Justin Verlander\\'s during the first week of June 2019, the plan will be updated as follows:\\n\\n1. Use the `playerid_lookup` function from the pybaseball library to find Justin Verlander\\'s MLBAM player ID.\\n   - Pass in \"Verlander\" as the last name and \"Justin\" as the first name.\\n\\n2. Use the `statcast_pitcher` function to retrieve Justin Verlander\\'s pitching data for the first week of June 2019.\\n   - Pass in the appropriate date range and Justin Verlander\\'s MLBAM player ID.\\n\\n3. Filter the retrieved data to only include changeups thrown by Justin Verlander.\\n   - Use the `pitch_type` field to filter for changeups.\\n\\n4. Calculate the average vector for Justin Verlander\\'s changeups using relevant fields such as `release_speed`, `release_spin`, and `release_extension`.\\n\\n5. Retrieve a comprehensive dataset of pitchers and their pitches within the same timeframe as Justin Verlander\\'s data for the first week of June 2019.\\n   - Use the `statcast` function with the same date range as used for Verlander but without specifying a player ID.\\n\\n6. Filter this dataset to only include changeups.\\n   - Again, use the `pitch_type` field to filter for changeups.\\n\\n7. Group the data by pitcher and calculate the average vector for each pitcher\\'s changeups using the same fields as for Verlander.\\n\\n8. Train a KNN (K-Nearest Neighbors) model on this dataset of average vectors for each pitcher.\\n   - Exclude Justin Verlander\\'s data from the training set.\\n\\n9. Use the trained KNN model to find the 3 pitchers with the most similar changeup to Justin Verlander\\'s based on the average vector calculated in step 4.\\n   - Input Justin Verlander\\'s average changeup vector into the model to find the nearest neighbors.\\n\\n10. Present the findings, including the names and IDs of the 3 pitchers with the most similar changeups to Justin Verlander\\'s during the first week of June 2019.\\n\\nThis updated plan now focuses on finding pitchers with similar changeups to Justin Verlander during the specified timeframe, following a similar approach as the original plan but tailored to the new request.\\n\\nAre you satisfied with this plan?', 'previous_node': 'Plan'}}\n",
      "----\n",
      "Updated Plan:\n",
      "Based on the new request to find 3 pitchers whose changeups were most similar to Justin Verlander's during the first week of June 2019, the plan will be updated as follows:\n",
      "\n",
      "1. Use the `playerid_lookup` function from the pybaseball library to find Justin Verlander's MLBAM player ID.\n",
      "   - Pass in \"Verlander\" as the last name and \"Justin\" as the first name.\n",
      "\n",
      "2. Use the `statcast_pitcher` function to retrieve Justin Verlander's pitching data for the first week of June 2019.\n",
      "   - Pass in the appropriate date range and Justin Verlander's MLBAM player ID.\n",
      "\n",
      "3. Filter the retrieved data to only include changeups thrown by Justin Verlander.\n",
      "   - Use the `pitch_type` field to filter for changeups.\n",
      "\n",
      "4. Calculate the average vector for Justin Verlander's changeups using relevant fields such as `release_speed`, `release_spin`, and `release_extension`.\n",
      "\n",
      "5. Retrieve a comprehensive dataset of pitchers and their pitches within the same timeframe as Justin Verlander's data for the first week of June 2019.\n",
      "   - Use the `statcast` function with the same date range as used for Verlander but without specifying a player ID.\n",
      "\n",
      "6. Filter this dataset to only include changeups.\n",
      "   - Again, use the `pitch_type` field to filter for changeups.\n",
      "\n",
      "7. Group the data by pitcher and calculate the average vector for each pitcher's changeups using the same fields as for Verlander.\n",
      "\n",
      "8. Train a KNN (K-Nearest Neighbors) model on this dataset of average vectors for each pitcher.\n",
      "   - Exclude Justin Verlander's data from the training set.\n",
      "\n",
      "9. Use the trained KNN model to find the 3 pitchers with the most similar changeup to Justin Verlander's based on the average vector calculated in step 4.\n",
      "   - Input Justin Verlander's average changeup vector into the model to find the nearest neighbors.\n",
      "\n",
      "10. Present the findings, including the names and IDs of the 3 pitchers with the most similar changeups to Justin Verlander's during the first week of June 2019.\n",
      "\n",
      "This updated plan now focuses on finding pitchers with similar changeups to Justin Verlander during the specified timeframe, following a similar approach as the original plan but tailored to the new request.\n",
      "\n",
      "Are you satisfied with this plan?\n"
     ]
    }
   ],
   "source": [
    "task = \"Consider the first week of June 2019 - find 3 pitchers who's changeups were most similar to Justin Verlander's\"\n",
    "result = baseball_lambda.execute_workflow(task, session_id)\n",
    "print(result)"
   ]
  },
  {
   "cell_type": "code",
   "execution_count": 6,
   "id": "4d6b35ae",
   "metadata": {},
   "outputs": [
    {
     "name": "stdout",
     "output_type": "stream",
     "text": [
      "{'Orchestrate': {'next': 'Convert'}}\n",
      "----\n",
      "{'Convert': {'code': '\\n# Importing necessary libraries\\nfrom pybaseball import playerid_lookup, statcast_pitcher, statcast\\nfrom sklearn.neighbors import NearestNeighbors\\nimport pandas as pd\\n\\n# Step 1: Find Justin Verlander\\'s MLBAM player ID\\nplayer_id_df = playerid_lookup(\\'Verlander\\', \\'Justin\\')\\nplayer_id = player_id_df[\\'key_mlbam\\'].values[0]\\n\\n# Step 2: Retrieve Justin Verlander\\'s pitching data for the first week of June 2019\\nver_pitch_data = statcast_pitcher(\\'2019-06-01\\', \\'2019-06-07\\', player_id)\\n\\n# Step 3: Filter data to only include changeups thrown by Justin Verlander\\nver_changeups = ver_pitch_data[ver_pitch_data[\\'pitch_type\\'] == \\'CH\\']\\n\\n# Step 4: Calculate the average vector for Justin Verlander\\'s changeups\\nver_avg_vector = ver_changeups[[\\'release_speed\\', \\'release_spin_rate\\', \\'release_extension\\']].mean()\\n\\n# Step 5: Retrieve a comprehensive dataset of pitchers and their pitches for the first week of June 2019\\nall_pitch_data = statcast(\\'2019-06-01\\', \\'2019-06-07\\')\\n\\n# Step 6: Filter this dataset to only include changeups\\nall_changeups = all_pitch_data[all_pitch_data[\\'pitch_type\\'] == \\'CH\\']\\n\\n# Step 7: Group the data by pitcher and calculate the average vector for each pitcher\\'s changeups\\npitcher_avg_vectors = all_changeups.groupby(\\'player_name\\')[[\\'release_speed\\', \\'release_spin_rate\\', \\'release_extension\\']].mean()\\n\\n# Exclude Justin Verlander\\'s data from the training set\\npitcher_avg_vectors = pitcher_avg_vectors[pitcher_avg_vectors.index != \\'Justin Verlander\\']\\n\\n# Step 8: Train a KNN model on this dataset of average vectors for each pitcher\\nfrom sklearn.impute import SimpleImputer\\n\\n# Impute missing values with the mean\\nimputer = SimpleImputer(strategy=\\'mean\\')\\npitcher_avg_vectors_imputed = imputer.fit_transform(pitcher_avg_vectors)\\n\\nknn = NearestNeighbors(n_neighbors=3)\\nknn.fit(pitcher_avg_vectors_imputed)\\n\\n# Step 9: Use the trained KNN model to find the 3 pitchers with the most similar changeup to Justin Verlander\\'s\\ndistances, indices = knn.kneighbors([ver_avg_vector])\\n\\n# Step 10: Present the findings\\nsimilar_pitchers = pitcher_avg_vectors.iloc[indices[0]]\\nprint(\"The 3 pitchers with the most similar changeups to Justin Verlander\\'s are:\")\\nprint(similar_pitchers)\\n'}}\n",
      "----\n",
      "Executing: \n",
      "# Importing necessary libraries\n",
      "from pybaseball import playerid_lookup, statcast_pitcher, statcast\n",
      "from sklearn.neighbors import NearestNeighbors\n",
      "import pandas as pd\n",
      "Executing: # Step 1: Find Justin Verlander's MLBAM player ID\n",
      "player_id_df = playerid_lookup('Verlander', 'Justin')\n",
      "player_id = player_id_df['key_mlbam'].values[0]\n",
      "Result: Gathering player lookup table. This may take a moment.\n",
      "\n",
      "Executing: # Step 2: Retrieve Justin Verlander's pitching data for the first week of June 2019\n",
      "ver_pitch_data = statcast_pitcher('2019-06-01', '2019-06-07', player_id)\n"
     ]
    },
    {
     "name": "stderr",
     "output_type": "stream",
     "text": [
      "  0%|          | 0/7 [00:00<?, ?it/s]"
     ]
    },
    {
     "name": "stdout",
     "output_type": "stream",
     "text": [
      "Result: Gathering Player Data\n",
      "\n",
      "Executing: # Step 3: Filter data to only include changeups thrown by Justin Verlander\n",
      "ver_changeups = ver_pitch_data[ver_pitch_data['pitch_type'] == 'CH']\n",
      "Executing: # Step 4: Calculate the average vector for Justin Verlander's changeups\n",
      "ver_avg_vector = ver_changeups[['release_speed', 'release_spin_rate', 'release_extension']].mean()\n",
      "Executing: # Step 5: Retrieve a comprehensive dataset of pitchers and their pitches for the first week of June 2019\n",
      "all_pitch_data = statcast('2019-06-01', '2019-06-07')\n"
     ]
    },
    {
     "name": "stderr",
     "output_type": "stream",
     "text": [
      "100%|██████████| 7/7 [00:05<00:00,  1.34it/s]\n"
     ]
    },
    {
     "name": "stdout",
     "output_type": "stream",
     "text": [
      "Result: This is a large query, it may take a moment to complete\n",
      "\n",
      "Executing: # Step 6: Filter this dataset to only include changeups\n",
      "all_changeups = all_pitch_data[all_pitch_data['pitch_type'] == 'CH']\n",
      "Executing: # Step 7: Group the data by pitcher and calculate the average vector for each pitcher's changeups\n",
      "pitcher_avg_vectors = all_changeups.groupby('player_name')[['release_speed', 'release_spin_rate', 'release_extension']].mean()\n",
      "Executing: # Exclude Justin Verlander's data from the training set\n",
      "pitcher_avg_vectors = pitcher_avg_vectors[pitcher_avg_vectors.index != 'Justin Verlander']\n",
      "Executing: # Step 8: Train a KNN model on this dataset of average vectors for each pitcher\n",
      "from sklearn.impute import SimpleImputer\n",
      "Executing: # Impute missing values with the mean\n",
      "imputer = SimpleImputer(strategy='mean')\n",
      "pitcher_avg_vectors_imputed = imputer.fit_transform(pitcher_avg_vectors)\n",
      "Executing: knn = NearestNeighbors(n_neighbors=3)\n",
      "knn.fit(pitcher_avg_vectors_imputed)\n",
      "Executing: # Step 9: Use the trained KNN model to find the 3 pitchers with the most similar changeup to Justin Verlander's\n",
      "distances, indices = knn.kneighbors([ver_avg_vector])\n",
      "Executing: # Step 10: Present the findings\n",
      "similar_pitchers = pitcher_avg_vectors.iloc[indices[0]]\n",
      "print(\"The 3 pitchers with the most similar changeups to Justin Verlander's are:\")\n",
      "print(similar_pitchers)\n",
      "\n",
      "Result: The 3 pitchers with the most similar changeups to Justin Verlander's are:\n",
      "                   release_speed  release_spin_rate  release_extension\n",
      "player_name                                                           \n",
      "Verlander, Justin          87.95            1762.75              6.175\n",
      "Warren, Adam            84.30625           1759.875              6.375\n",
      "Woodruff, Brandon      87.222222        1757.166667           6.638889\n",
      "\n",
      "{'Execute': {'messages': [AIMessage(content=\"The 3 pitchers with the most similar changeups to Justin Verlander's are:\\n                   release_speed  release_spin_rate  release_extension\\nplayer_name                                                           \\nVerlander, Justin          87.95            1762.75              6.175\\nWarren, Adam            84.30625           1759.875              6.375\\nWoodruff, Brandon      87.222222        1757.166667           6.638889\\n\\nHere is the code that was used to reach this solution:\\n```python\\n\\n# Importing necessary libraries\\nfrom pybaseball import playerid_lookup, statcast_pitcher, statcast\\nfrom sklearn.neighbors import NearestNeighbors\\nimport pandas as pd\\n# Step 1: Find Justin Verlander's MLBAM player ID\\nplayer_id_df = playerid_lookup('Verlander', 'Justin')\\nplayer_id = player_id_df['key_mlbam'].values[0]\\n# Step 2: Retrieve Justin Verlander's pitching data for the first week of June 2019\\nver_pitch_data = statcast_pitcher('2019-06-01', '2019-06-07', player_id)\\n# Step 3: Filter data to only include changeups thrown by Justin Verlander\\nver_changeups = ver_pitch_data[ver_pitch_data['pitch_type'] == 'CH']\\n# Step 4: Calculate the average vector for Justin Verlander's changeups\\nver_avg_vector = ver_changeups[['release_speed', 'release_spin_rate', 'release_extension']].mean()\\n# Step 5: Retrieve a comprehensive dataset of pitchers and their pitches for the first week of June 2019\\nall_pitch_data = statcast('2019-06-01', '2019-06-07')\\n# Step 6: Filter this dataset to only include changeups\\nall_changeups = all_pitch_data[all_pitch_data['pitch_type'] == 'CH']\\n# Step 7: Group the data by pitcher and calculate the average vector for each pitcher's changeups\\npitcher_avg_vectors = all_changeups.groupby('player_name')[['release_speed', 'release_spin_rate', 'release_extension']].mean()\\n# Exclude Justin Verlander's data from the training set\\npitcher_avg_vectors = pitcher_avg_vectors[pitcher_avg_vectors.index != 'Justin Verlander']\\n# Step 8: Train a KNN model on this dataset of average vectors for each pitcher\\nfrom sklearn.impute import SimpleImputer\\n# Impute missing values with the mean\\nimputer = SimpleImputer(strategy='mean')\\npitcher_avg_vectors_imputed = imputer.fit_transform(pitcher_avg_vectors)\\nknn = NearestNeighbors(n_neighbors=3)\\nknn.fit(pitcher_avg_vectors_imputed)\\n# Step 9: Use the trained KNN model to find the 3 pitchers with the most similar changeup to Justin Verlander's\\ndistances, indices = knn.kneighbors([ver_avg_vector])\\n```\\n\\nAre you satisfied with this result?\")], 'previous_node': 'Execute', 'code': '\\n# Importing necessary libraries\\nfrom pybaseball import playerid_lookup, statcast_pitcher, statcast\\nfrom sklearn.neighbors import NearestNeighbors\\nimport pandas as pd\\n# Step 1: Find Justin Verlander\\'s MLBAM player ID\\nplayer_id_df = playerid_lookup(\\'Verlander\\', \\'Justin\\')\\nplayer_id = player_id_df[\\'key_mlbam\\'].values[0]\\n# Step 2: Retrieve Justin Verlander\\'s pitching data for the first week of June 2019\\nver_pitch_data = statcast_pitcher(\\'2019-06-01\\', \\'2019-06-07\\', player_id)\\n# Step 3: Filter data to only include changeups thrown by Justin Verlander\\nver_changeups = ver_pitch_data[ver_pitch_data[\\'pitch_type\\'] == \\'CH\\']\\n# Step 4: Calculate the average vector for Justin Verlander\\'s changeups\\nver_avg_vector = ver_changeups[[\\'release_speed\\', \\'release_spin_rate\\', \\'release_extension\\']].mean()\\n# Step 5: Retrieve a comprehensive dataset of pitchers and their pitches for the first week of June 2019\\nall_pitch_data = statcast(\\'2019-06-01\\', \\'2019-06-07\\')\\n# Step 6: Filter this dataset to only include changeups\\nall_changeups = all_pitch_data[all_pitch_data[\\'pitch_type\\'] == \\'CH\\']\\n# Step 7: Group the data by pitcher and calculate the average vector for each pitcher\\'s changeups\\npitcher_avg_vectors = all_changeups.groupby(\\'player_name\\')[[\\'release_speed\\', \\'release_spin_rate\\', \\'release_extension\\']].mean()\\n# Exclude Justin Verlander\\'s data from the training set\\npitcher_avg_vectors = pitcher_avg_vectors[pitcher_avg_vectors.index != \\'Justin Verlander\\']\\n# Step 8: Train a KNN model on this dataset of average vectors for each pitcher\\nfrom sklearn.impute import SimpleImputer\\n# Impute missing values with the mean\\nimputer = SimpleImputer(strategy=\\'mean\\')\\npitcher_avg_vectors_imputed = imputer.fit_transform(pitcher_avg_vectors)\\nknn = NearestNeighbors(n_neighbors=3)\\nknn.fit(pitcher_avg_vectors_imputed)\\n# Step 9: Use the trained KNN model to find the 3 pitchers with the most similar changeup to Justin Verlander\\'s\\ndistances, indices = knn.kneighbors([ver_avg_vector])\\n# Step 10: Present the findings\\nsimilar_pitchers = pitcher_avg_vectors.iloc[indices[0]]\\nprint(\"The 3 pitchers with the most similar changeups to Justin Verlander\\'s are:\")\\nprint(similar_pitchers)\\n'}}\n",
      "----\n",
      "The 3 pitchers with the most similar changeups to Justin Verlander's are:\n",
      "                   release_speed  release_spin_rate  release_extension\n",
      "player_name                                                           \n",
      "Verlander, Justin          87.95            1762.75              6.175\n",
      "Warren, Adam            84.30625           1759.875              6.375\n",
      "Woodruff, Brandon      87.222222        1757.166667           6.638889\n",
      "\n",
      "Here is the code that was used to reach this solution:\n",
      "```python\n",
      "\n",
      "# Importing necessary libraries\n",
      "from pybaseball import playerid_lookup, statcast_pitcher, statcast\n",
      "from sklearn.neighbors import NearestNeighbors\n",
      "import pandas as pd\n",
      "# Step 1: Find Justin Verlander's MLBAM player ID\n",
      "player_id_df = playerid_lookup('Verlander', 'Justin')\n",
      "player_id = player_id_df['key_mlbam'].values[0]\n",
      "# Step 2: Retrieve Justin Verlander's pitching data for the first week of June 2019\n",
      "ver_pitch_data = statcast_pitcher('2019-06-01', '2019-06-07', player_id)\n",
      "# Step 3: Filter data to only include changeups thrown by Justin Verlander\n",
      "ver_changeups = ver_pitch_data[ver_pitch_data['pitch_type'] == 'CH']\n",
      "# Step 4: Calculate the average vector for Justin Verlander's changeups\n",
      "ver_avg_vector = ver_changeups[['release_speed', 'release_spin_rate', 'release_extension']].mean()\n",
      "# Step 5: Retrieve a comprehensive dataset of pitchers and their pitches for the first week of June 2019\n",
      "all_pitch_data = statcast('2019-06-01', '2019-06-07')\n",
      "# Step 6: Filter this dataset to only include changeups\n",
      "all_changeups = all_pitch_data[all_pitch_data['pitch_type'] == 'CH']\n",
      "# Step 7: Group the data by pitcher and calculate the average vector for each pitcher's changeups\n",
      "pitcher_avg_vectors = all_changeups.groupby('player_name')[['release_speed', 'release_spin_rate', 'release_extension']].mean()\n",
      "# Exclude Justin Verlander's data from the training set\n",
      "pitcher_avg_vectors = pitcher_avg_vectors[pitcher_avg_vectors.index != 'Justin Verlander']\n",
      "# Step 8: Train a KNN model on this dataset of average vectors for each pitcher\n",
      "from sklearn.impute import SimpleImputer\n",
      "# Impute missing values with the mean\n",
      "imputer = SimpleImputer(strategy='mean')\n",
      "pitcher_avg_vectors_imputed = imputer.fit_transform(pitcher_avg_vectors)\n",
      "knn = NearestNeighbors(n_neighbors=3)\n",
      "knn.fit(pitcher_avg_vectors_imputed)\n",
      "# Step 9: Use the trained KNN model to find the 3 pitchers with the most similar changeup to Justin Verlander's\n",
      "distances, indices = knn.kneighbors([ver_avg_vector])\n",
      "```\n",
      "\n",
      "Are you satisfied with this result?\n"
     ]
    }
   ],
   "source": [
    "task = \"looks good\"\n",
    "result = baseball_lambda.execute_workflow(task, session_id)\n",
    "print(result)"
   ]
  },
  {
   "cell_type": "code",
   "execution_count": 7,
   "id": "a33d03ae",
   "metadata": {},
   "outputs": [
    {
     "name": "stdout",
     "output_type": "stream",
     "text": [
      "{'Orchestrate': {'next': 'Memorize'}}\n",
      "----\n",
      "{'Memorize': {'messages': [AIMessage(content='Thank you, task has been commited to memory')], 'previous_node': 'Memorize'}}\n",
      "----\n",
      "Thank you, task has been commited to memory\n"
     ]
    }
   ],
   "source": [
    "task = \"yes\"\n",
    "result = baseball_lambda.execute_workflow(task, session_id)\n",
    "print(result)"
   ]
  },
  {
   "cell_type": "code",
   "execution_count": null,
   "id": "781bf191",
   "metadata": {},
   "outputs": [],
   "source": []
  }
 ],
 "metadata": {
  "kernelspec": {
   "display_name": "venv",
   "language": "python",
   "name": "python3"
  },
  "language_info": {
   "codemirror_mode": {
    "name": "ipython",
    "version": 3
   },
   "file_extension": ".py",
   "mimetype": "text/x-python",
   "name": "python",
   "nbconvert_exporter": "python",
   "pygments_lexer": "ipython3",
   "version": "3.10.8"
  }
 },
 "nbformat": 4,
 "nbformat_minor": 5
}
