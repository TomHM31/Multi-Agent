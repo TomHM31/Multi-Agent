{
 "cells": [
  {
   "cell_type": "code",
   "execution_count": 1,
   "id": "7c01b355-66d2-40e0-92a4-c4553a8d2edd",
   "metadata": {
    "tags": []
   },
   "outputs": [
    {
     "name": "stderr",
     "output_type": "stream",
     "text": [
      "Python REPL can execute arbitrary code. Use with caution.\n"
     ]
    }
   ],
   "source": [
    "# general\n",
    "from datetime import datetime\n",
    "from dotenv import load_dotenv, find_dotenv\n",
    "import os\n",
    "\n",
    "# custom local libs\n",
    "from function import baseball_lambda"
   ]
  },
  {
   "cell_type": "code",
   "execution_count": 2,
   "id": "7a2a54ab",
   "metadata": {},
   "outputs": [],
   "source": [
    "# read local .env file\n",
    "_ = load_dotenv(find_dotenv()) "
   ]
  },
  {
   "cell_type": "code",
   "execution_count": 3,
   "id": "12b6af87",
   "metadata": {},
   "outputs": [],
   "source": [
    "# set Langsmith project\n",
    "today = datetime.now().strftime(\"%Y%m%d\")\n",
    "os.environ[\"LANGCHAIN_PROJECT\"] = f\"Baseball Curveballs - {today}\""
   ]
  },
  {
   "cell_type": "code",
   "execution_count": 4,
   "id": "6bf9b046",
   "metadata": {},
   "outputs": [],
   "source": [
    "session_id = '882432'"
   ]
  },
  {
   "cell_type": "code",
   "execution_count": 5,
   "id": "483dc6f3",
   "metadata": {},
   "outputs": [
    {
     "name": "stdout",
     "output_type": "stream",
     "text": [
      "{'Orchestrate': {'next': 'Plan'}}\n",
      "----\n",
      "Distance to neareast plan: 0.3152533769607544\n",
      "Modifying nearest plan with User input\n",
      "{'Plan': {'messages': [HumanMessage(content=\"Okay, here is an updated plan to find the 3 pitchers with the most similar changeups to Justin Verlander's during the first week of June 2019:\\n\\n1. Use the `playerid_lookup` function to get the 'key_mlbam' ID for Justin Verlander by passing in his last name 'verlander' and first name 'justin'.\\n\\n2. Use the `statcast` function to get pitch-level data for all games between '2019-06-01' and '2019-06-07'. \\n\\n3. From the output, filter to only include rows where the 'pitch_type' is 'CH' (changeup).\\n\\n4. Create a feature matrix X containing the following columns for each changeup:\\n   - 'release_speed'\\n   - 'release_spin'\\n   - 'pfx_x' (horizontal movement)  \\n   - 'pfx_z' (vertical movement)\\n\\n5. Create a target vector y containing the 'player_name' value for each row.\\n\\n6. Remove the rows for Justin Verlander's changeups from X and y.\\n\\n7. Fit a k-Nearest Neighbors model on X and y to learn a representation of each pitcher's changeup.\\n\\n8. Create an average feature vector for Verlander's changeups during this period.\\n\\n9. Pass this average vector into the knn model's .kneighbors() method to find the k=3 nearest neighbor pitchers.\\n\\n10. The 3 pitcher names returned will be the pitchers predicted to have the changeups most similar to Justin Verlander's during that week, excluding Verlander himself.\\n\\nBy using 'player_name' in the target y instead of just 'pitcher', the final output will be the actual names of the 3 most similar pitchers, not just their IDs.\\n\\nDoes this plan look good for finding the 3 pitchers with the most similar changeups to Justin Verlander's during the first week of June 2019? Let me know if you need any clarification or have additional requirements.\\n\\nAre you satisfied with this plan?\")], 'task': \"Consider the first week of June 2019 - find 3 pitchers who's changeups were most similar to Justin Verlander's\", 'plan': \"Okay, here is an updated plan to find the 3 pitchers with the most similar changeups to Justin Verlander's during the first week of June 2019:\\n\\n1. Use the `playerid_lookup` function to get the 'key_mlbam' ID for Justin Verlander by passing in his last name 'verlander' and first name 'justin'.\\n\\n2. Use the `statcast` function to get pitch-level data for all games between '2019-06-01' and '2019-06-07'. \\n\\n3. From the output, filter to only include rows where the 'pitch_type' is 'CH' (changeup).\\n\\n4. Create a feature matrix X containing the following columns for each changeup:\\n   - 'release_speed'\\n   - 'release_spin'\\n   - 'pfx_x' (horizontal movement)  \\n   - 'pfx_z' (vertical movement)\\n\\n5. Create a target vector y containing the 'player_name' value for each row.\\n\\n6. Remove the rows for Justin Verlander's changeups from X and y.\\n\\n7. Fit a k-Nearest Neighbors model on X and y to learn a representation of each pitcher's changeup.\\n\\n8. Create an average feature vector for Verlander's changeups during this period.\\n\\n9. Pass this average vector into the knn model's .kneighbors() method to find the k=3 nearest neighbor pitchers.\\n\\n10. The 3 pitcher names returned will be the pitchers predicted to have the changeups most similar to Justin Verlander's during that week, excluding Verlander himself.\\n\\nBy using 'player_name' in the target y instead of just 'pitcher', the final output will be the actual names of the 3 most similar pitchers, not just their IDs.\\n\\nDoes this plan look good for finding the 3 pitchers with the most similar changeups to Justin Verlander's during the first week of June 2019? Let me know if you need any clarification or have additional requirements.\\n\\nAre you satisfied with this plan?\", 'previous_node': 'Plan'}}\n",
      "----\n",
      "Okay, here is an updated plan to find the 3 pitchers with the most similar changeups to Justin Verlander's during the first week of June 2019:\n",
      "\n",
      "1. Use the `playerid_lookup` function to get the 'key_mlbam' ID for Justin Verlander by passing in his last name 'verlander' and first name 'justin'.\n",
      "\n",
      "2. Use the `statcast` function to get pitch-level data for all games between '2019-06-01' and '2019-06-07'. \n",
      "\n",
      "3. From the output, filter to only include rows where the 'pitch_type' is 'CH' (changeup).\n",
      "\n",
      "4. Create a feature matrix X containing the following columns for each changeup:\n",
      "   - 'release_speed'\n",
      "   - 'release_spin'\n",
      "   - 'pfx_x' (horizontal movement)  \n",
      "   - 'pfx_z' (vertical movement)\n",
      "\n",
      "5. Create a target vector y containing the 'player_name' value for each row.\n",
      "\n",
      "6. Remove the rows for Justin Verlander's changeups from X and y.\n",
      "\n",
      "7. Fit a k-Nearest Neighbors model on X and y to learn a representation of each pitcher's changeup.\n",
      "\n",
      "8. Create an average feature vector for Verlander's changeups during this period.\n",
      "\n",
      "9. Pass this average vector into the knn model's .kneighbors() method to find the k=3 nearest neighbor pitchers.\n",
      "\n",
      "10. The 3 pitcher names returned will be the pitchers predicted to have the changeups most similar to Justin Verlander's during that week, excluding Verlander himself.\n",
      "\n",
      "By using 'player_name' in the target y instead of just 'pitcher', the final output will be the actual names of the 3 most similar pitchers, not just their IDs.\n",
      "\n",
      "Does this plan look good for finding the 3 pitchers with the most similar changeups to Justin Verlander's during the first week of June 2019? Let me know if you need any clarification or have additional requirements.\n",
      "\n",
      "Are you satisfied with this plan?\n"
     ]
    }
   ],
   "source": [
    "task = \"Consider the first week of June 2019 - find 3 pitchers who's changeups were most similar to Justin Verlander's\"\n",
    "result = baseball_lambda.execute_workflow(task, session_id)\n",
    "print(result)"
   ]
  },
  {
   "cell_type": "code",
   "execution_count": 6,
   "id": "4d6b35ae",
   "metadata": {},
   "outputs": [
    {
     "name": "stdout",
     "output_type": "stream",
     "text": [
      "{'Orchestrate': {'next': 'Convert'}}\n",
      "----\n",
      "{'Convert': {'code': '\\n# Import necessary libraries\\nimport pandas as pd\\nfrom pybaseball import playerid_lookup, statcast\\nfrom sklearn.neighbors import NearestNeighbors\\nfrom sklearn.impute import SimpleImputer\\n\\n# 1. Get Justin Verlander\\'s \\'key_mlbam\\' ID\\nverlander_id = playerid_lookup(\\'verlander\\', \\'justin\\')[\\'key_mlbam\\'].values[0]\\n\\n# 2. Get pitch-level data for 2019-06-01 to 2019-06-07\\npitches = statcast(\\'2019-06-01\\', \\'2019-06-07\\')\\n\\n# 3. Filter for changeups only\\nchangeups = pitches[pitches[\\'pitch_type\\'] == \\'CH\\']\\n\\n# 4. Create feature matrix X\\nX = changeups[[\\'release_speed\\', \\'release_spin_rate\\', \\'pfx_x\\', \\'pfx_z\\']]\\n\\n# 5. Create target vector y with pitcher names\\ny = changeups[\\'player_name\\']\\n\\n# 6. Remove Verlander\\'s changeups from X and y\\nverlander_mask = changeups[\\'player_name\\'] != \\'Justin Verlander\\'\\nX_other = X[verlander_mask]\\ny_other = y[verlander_mask]\\n\\n# 7. Fit kNN model on other pitchers\\' changeups\\nimputer = SimpleImputer(strategy=\\'mean\\')\\nX_other_imputed = imputer.fit_transform(X_other)\\nknn = NearestNeighbors(n_neighbors=3)\\nknn.fit(X_other_imputed)\\n\\n# 8. Create average feature vector for Verlander\\'s changeups\\nverlander_changes = X[~verlander_mask]\\nverlander_avg = verlander_changes.mean().values.reshape(1, -1)\\n\\n# 9. Find 3 nearest neighbors to Verlander\\'s average changeup\\nverlander_avg_imputed = imputer.transform(verlander_avg)\\n_, indices = knn.kneighbors(verlander_avg_imputed)\\n\\n# 10. Print the 3 most similar pitcher names\\nsimilar_pitchers = y_other.iloc[indices[0]].values\\nprint(f\"The 3 pitchers with changeups most similar to Justin Verlander\\'s during 2019-06-01 to 2019-06-07 were: {\\', \\'.join(similar_pitchers)}\")\\n'}}\n",
      "----\n",
      "Executing: \n",
      "# Import necessary libraries\n",
      "import pandas as pd\n",
      "from pybaseball import playerid_lookup, statcast\n",
      "from sklearn.neighbors import NearestNeighbors\n",
      "from sklearn.impute import SimpleImputer\n",
      "Executing: # 1. Get Justin Verlander's 'key_mlbam' ID\n",
      "verlander_id = playerid_lookup('verlander', 'justin')['key_mlbam'].values[0]\n"
     ]
    },
    {
     "name": "stderr",
     "output_type": "stream",
     "text": [
      "  0%|          | 0/7 [00:00<?, ?it/s]"
     ]
    },
    {
     "name": "stdout",
     "output_type": "stream",
     "text": [
      "Result: Gathering player lookup table. This may take a moment.\n",
      "\n",
      "Executing: # 2. Get pitch-level data for 2019-06-01 to 2019-06-07\n",
      "pitches = statcast('2019-06-01', '2019-06-07')\n"
     ]
    },
    {
     "name": "stderr",
     "output_type": "stream",
     "text": [
      "100%|██████████| 7/7 [00:13<00:00,  1.99s/it]\n"
     ]
    },
    {
     "name": "stdout",
     "output_type": "stream",
     "text": [
      "Result: This is a large query, it may take a moment to complete\n",
      "\n",
      "Executing: # 3. Filter for changeups only\n",
      "changeups = pitches[pitches['pitch_type'] == 'CH']\n",
      "Executing: # 4. Create feature matrix X\n",
      "X = changeups[['release_speed', 'release_spin_rate', 'pfx_x', 'pfx_z']]\n",
      "Executing: # 5. Create target vector y with pitcher names\n",
      "y = changeups['player_name']\n",
      "Executing: # 6. Remove Verlander's changeups from X and y\n",
      "verlander_mask = changeups['player_name'] != 'Justin Verlander'\n",
      "X_other = X[verlander_mask]\n",
      "y_other = y[verlander_mask]\n",
      "Executing: # 7. Fit kNN model on other pitchers' changeups\n",
      "imputer = SimpleImputer(strategy='mean')\n",
      "X_other_imputed = imputer.fit_transform(X_other)\n",
      "knn = NearestNeighbors(n_neighbors=3)\n",
      "knn.fit(X_other_imputed)\n",
      "Executing: # 8. Create average feature vector for Verlander's changeups\n",
      "verlander_changes = X[~verlander_mask]\n",
      "verlander_avg = verlander_changes.mean().values.reshape(1, -1)\n",
      "Executing: # 9. Find 3 nearest neighbors to Verlander's average changeup\n",
      "verlander_avg_imputed = imputer.transform(verlander_avg)\n",
      "_, indices = knn.kneighbors(verlander_avg_imputed)\n",
      "Executing: # 10. Print the 3 most similar pitcher names\n",
      "similar_pitchers = y_other.iloc[indices[0]].values\n",
      "print(f\"The 3 pitchers with changeups most similar to Justin Verlander's during 2019-06-01 to 2019-06-07 were: {', '.join(similar_pitchers)}\")\n",
      "\n",
      "Result: The 3 pitchers with changeups most similar to Justin Verlander's during 2019-06-01 to 2019-06-07 were: Davis, Rookie, Straily, Dan, Hamels, Cole\n",
      "\n",
      "{'Execute': {'messages': [AIMessage(content=\"The 3 pitchers with changeups most similar to Justin Verlander's during 2019-06-01 to 2019-06-07 were: Davis, Rookie, Straily, Dan, Hamels, Cole\\n\\nHere is the code that was used to reach this solution:\\n```python\\n\\n# Import necessary libraries\\nimport pandas as pd\\nfrom pybaseball import playerid_lookup, statcast\\nfrom sklearn.neighbors import NearestNeighbors\\nfrom sklearn.impute import SimpleImputer\\n# 1. Get Justin Verlander's 'key_mlbam' ID\\nverlander_id = playerid_lookup('verlander', 'justin')['key_mlbam'].values[0]\\n# 2. Get pitch-level data for 2019-06-01 to 2019-06-07\\npitches = statcast('2019-06-01', '2019-06-07')\\n# 3. Filter for changeups only\\nchangeups = pitches[pitches['pitch_type'] == 'CH']\\n# 4. Create feature matrix X\\nX = changeups[['release_speed', 'release_spin_rate', 'pfx_x', 'pfx_z']]\\n# 5. Create target vector y with pitcher names\\ny = changeups['player_name']\\n# 6. Remove Verlander's changeups from X and y\\nverlander_mask = changeups['player_name'] != 'Justin Verlander'\\nX_other = X[verlander_mask]\\ny_other = y[verlander_mask]\\n# 7. Fit kNN model on other pitchers' changeups\\nimputer = SimpleImputer(strategy='mean')\\nX_other_imputed = imputer.fit_transform(X_other)\\nknn = NearestNeighbors(n_neighbors=3)\\nknn.fit(X_other_imputed)\\n# 8. Create average feature vector for Verlander's changeups\\nverlander_changes = X[~verlander_mask]\\nverlander_avg = verlander_changes.mean().values.reshape(1, -1)\\n# 9. Find 3 nearest neighbors to Verlander's average changeup\\nverlander_avg_imputed = imputer.transform(verlander_avg)\\n_, indices = knn.kneighbors(verlander_avg_imputed)\\n```\\n\\nAre you satisfied with this result?\")], 'previous_node': 'Execute', 'code': '\\n# Import necessary libraries\\nimport pandas as pd\\nfrom pybaseball import playerid_lookup, statcast\\nfrom sklearn.neighbors import NearestNeighbors\\nfrom sklearn.impute import SimpleImputer\\n# 1. Get Justin Verlander\\'s \\'key_mlbam\\' ID\\nverlander_id = playerid_lookup(\\'verlander\\', \\'justin\\')[\\'key_mlbam\\'].values[0]\\n# 2. Get pitch-level data for 2019-06-01 to 2019-06-07\\npitches = statcast(\\'2019-06-01\\', \\'2019-06-07\\')\\n# 3. Filter for changeups only\\nchangeups = pitches[pitches[\\'pitch_type\\'] == \\'CH\\']\\n# 4. Create feature matrix X\\nX = changeups[[\\'release_speed\\', \\'release_spin_rate\\', \\'pfx_x\\', \\'pfx_z\\']]\\n# 5. Create target vector y with pitcher names\\ny = changeups[\\'player_name\\']\\n# 6. Remove Verlander\\'s changeups from X and y\\nverlander_mask = changeups[\\'player_name\\'] != \\'Justin Verlander\\'\\nX_other = X[verlander_mask]\\ny_other = y[verlander_mask]\\n# 7. Fit kNN model on other pitchers\\' changeups\\nimputer = SimpleImputer(strategy=\\'mean\\')\\nX_other_imputed = imputer.fit_transform(X_other)\\nknn = NearestNeighbors(n_neighbors=3)\\nknn.fit(X_other_imputed)\\n# 8. Create average feature vector for Verlander\\'s changeups\\nverlander_changes = X[~verlander_mask]\\nverlander_avg = verlander_changes.mean().values.reshape(1, -1)\\n# 9. Find 3 nearest neighbors to Verlander\\'s average changeup\\nverlander_avg_imputed = imputer.transform(verlander_avg)\\n_, indices = knn.kneighbors(verlander_avg_imputed)\\n# 10. Print the 3 most similar pitcher names\\nsimilar_pitchers = y_other.iloc[indices[0]].values\\nprint(f\"The 3 pitchers with changeups most similar to Justin Verlander\\'s during 2019-06-01 to 2019-06-07 were: {\\', \\'.join(similar_pitchers)}\")\\n'}}\n",
      "----\n",
      "The 3 pitchers with changeups most similar to Justin Verlander's during 2019-06-01 to 2019-06-07 were: Davis, Rookie, Straily, Dan, Hamels, Cole\n",
      "\n",
      "Here is the code that was used to reach this solution:\n",
      "```python\n",
      "\n",
      "# Import necessary libraries\n",
      "import pandas as pd\n",
      "from pybaseball import playerid_lookup, statcast\n",
      "from sklearn.neighbors import NearestNeighbors\n",
      "from sklearn.impute import SimpleImputer\n",
      "# 1. Get Justin Verlander's 'key_mlbam' ID\n",
      "verlander_id = playerid_lookup('verlander', 'justin')['key_mlbam'].values[0]\n",
      "# 2. Get pitch-level data for 2019-06-01 to 2019-06-07\n",
      "pitches = statcast('2019-06-01', '2019-06-07')\n",
      "# 3. Filter for changeups only\n",
      "changeups = pitches[pitches['pitch_type'] == 'CH']\n",
      "# 4. Create feature matrix X\n",
      "X = changeups[['release_speed', 'release_spin_rate', 'pfx_x', 'pfx_z']]\n",
      "# 5. Create target vector y with pitcher names\n",
      "y = changeups['player_name']\n",
      "# 6. Remove Verlander's changeups from X and y\n",
      "verlander_mask = changeups['player_name'] != 'Justin Verlander'\n",
      "X_other = X[verlander_mask]\n",
      "y_other = y[verlander_mask]\n",
      "# 7. Fit kNN model on other pitchers' changeups\n",
      "imputer = SimpleImputer(strategy='mean')\n",
      "X_other_imputed = imputer.fit_transform(X_other)\n",
      "knn = NearestNeighbors(n_neighbors=3)\n",
      "knn.fit(X_other_imputed)\n",
      "# 8. Create average feature vector for Verlander's changeups\n",
      "verlander_changes = X[~verlander_mask]\n",
      "verlander_avg = verlander_changes.mean().values.reshape(1, -1)\n",
      "# 9. Find 3 nearest neighbors to Verlander's average changeup\n",
      "verlander_avg_imputed = imputer.transform(verlander_avg)\n",
      "_, indices = knn.kneighbors(verlander_avg_imputed)\n",
      "```\n",
      "\n",
      "Are you satisfied with this result?\n"
     ]
    }
   ],
   "source": [
    "task = \"looks good\"\n",
    "result = baseball_lambda.execute_workflow(task, session_id)\n",
    "print(result)"
   ]
  },
  {
   "cell_type": "code",
   "execution_count": 7,
   "id": "a33d03ae",
   "metadata": {},
   "outputs": [
    {
     "name": "stdout",
     "output_type": "stream",
     "text": [
      "{'Orchestrate': {'next': 'Memorize'}}\n",
      "----\n",
      "{'Memorize': {'messages': [AIMessage(content='Thank you, task has been commited to memory')], 'previous_node': 'Memorize'}}\n",
      "----\n",
      "Thank you, task has been commited to memory\n"
     ]
    }
   ],
   "source": [
    "task = \"yes\"\n",
    "result = baseball_lambda.execute_workflow(task, session_id)\n",
    "print(result)"
   ]
  },
  {
   "cell_type": "code",
   "execution_count": null,
   "id": "781bf191",
   "metadata": {},
   "outputs": [],
   "source": []
  }
 ],
 "metadata": {
  "kernelspec": {
   "display_name": "venv",
   "language": "python",
   "name": "python3"
  },
  "language_info": {
   "codemirror_mode": {
    "name": "ipython",
    "version": 3
   },
   "file_extension": ".py",
   "mimetype": "text/x-python",
   "name": "python",
   "nbconvert_exporter": "python",
   "pygments_lexer": "ipython3",
   "version": "3.10.13"
  }
 },
 "nbformat": 4,
 "nbformat_minor": 5
}
