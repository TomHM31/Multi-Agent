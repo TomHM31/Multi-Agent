{
 "cells": [
  {
   "cell_type": "code",
   "execution_count": 1,
   "id": "7c01b355-66d2-40e0-92a4-c4553a8d2edd",
   "metadata": {
    "tags": []
   },
   "outputs": [],
   "source": [
    "# general\n",
    "from datetime import datetime\n",
    "from dotenv import load_dotenv, find_dotenv\n",
    "import os\n",
    "\n",
    "# custom local libs\n",
    "from lambda_function import baseball_lambda"
   ]
  },
  {
   "cell_type": "code",
   "execution_count": 2,
   "id": "7a2a54ab",
   "metadata": {},
   "outputs": [],
   "source": [
    "# read local .env file\n",
    "_ = load_dotenv(find_dotenv()) "
   ]
  },
  {
   "cell_type": "code",
   "execution_count": 3,
   "id": "12b6af87",
   "metadata": {},
   "outputs": [],
   "source": [
    "# set Langsmith project\n",
    "today = datetime.now().strftime(\"%Y%m%d\")\n",
    "os.environ[\"LANGCHAIN_PROJECT\"] = f\"Baseball Curveballs - {today}\""
   ]
  },
  {
   "cell_type": "code",
   "execution_count": 4,
   "id": "6bf9b046",
   "metadata": {},
   "outputs": [],
   "source": [
    "session_id = '882432'"
   ]
  },
  {
   "cell_type": "code",
   "execution_count": 5,
   "id": "483dc6f3",
   "metadata": {},
   "outputs": [
    {
     "name": "stdout",
     "output_type": "stream",
     "text": [
      "{'Orchestrate': {'next': 'Plan'}}\n",
      "----\n",
      "Distance to neareast plan: 0.3361414670944214\n",
      "Modifying nearest plan with User input\n",
      "{'Plan': {'messages': [HumanMessage(content='Original Plan:\\nRevised Plan:\\n\\n1. Use the `playerid_lookup` function to find Justin Verlander\\'s MLBAM player ID. Pass in \"Verlander\" as the `last` argument and \"Justin\" as the `first` argument. From the output, note the `key_mlbam` field for Justin Verlander.\\n\\n2. Use the `statcast_pitcher` function to retrieve pitch-level statcast data for Justin Verlander for the first week of June 2019. Set `start_dt` to \"2019-06-01\", `end_dt` to \"2019-06-07\", and `player_id` to Justin Verlander\\'s MLBAM ID obtained in step 1. \\n\\n3. From the output of `statcast_pitcher`, filter the data to only include pitches where `pitch_type` is \"CH\" (changeup). Note the average values of `release_speed`, `release_spin`, `pfx_x`, and `pfx_z` for Verlander\\'s changeups.\\n\\n4. Use the `statcast_pitcher` function to retrieve pitch-level statcast data for all pitchers for the first week of June 2019. Set `start_dt` to \"2019-06-01\", `end_dt` to \"2019-06-07\". This will retrieve a large dataset, so ensure you have sufficient memory and processing power.\\n\\n5. From the output of `statcast_pitcher`, filter the data to only include pitches where `pitch_type` is \"CH\" (changeup).\\n\\n6. For each pitcher in the dataset, calculate the average `release_speed`, `release_spin`, `pfx_x`, and `pfx_z` for their changeups. Create an average vector for each pitcher\\'s changeup.\\n\\n7. Train a k-nearest neighbors (KNN) model on the dataset of average changeup vectors, using the parameters `release_speed`, `release_spin`, `pfx_x`, and `pfx_z` as features.\\n\\n8. Use the trained KNN model to find the three pitchers (excluding Justin Verlander) with the most similar changeups to Justin Verlander\\'s changeup. Exclude Justin Verlander from the results.\\n\\n9. For each of the three pitchers identified, use the `playerid_lookup` function to retrieve their names by passing their MLBAM player IDs as the `player_list` argument in the form of a list of tuples, where each tuple contains the pitcher\\'s last and first names. This step is to ensure you can present the names of the pitchers rather than just their IDs.\\n\\nBy following these steps, you will have identified three pitchers (excluding Justin Verlander) whose changeups were most similar to Justin Verlander\\'s during the first week of June 2019, based on the specified parameters using a KNN model.\\n\\nAre you satisfied with this plan?', name='Plan')]}}\n",
      "----\n",
      "Original Plan:\n",
      "Revised Plan:\n",
      "\n",
      "1. Use the `playerid_lookup` function to find Justin Verlander's MLBAM player ID. Pass in \"Verlander\" as the `last` argument and \"Justin\" as the `first` argument. From the output, note the `key_mlbam` field for Justin Verlander.\n",
      "\n",
      "2. Use the `statcast_pitcher` function to retrieve pitch-level statcast data for Justin Verlander for the first week of June 2019. Set `start_dt` to \"2019-06-01\", `end_dt` to \"2019-06-07\", and `player_id` to Justin Verlander's MLBAM ID obtained in step 1. \n",
      "\n",
      "3. From the output of `statcast_pitcher`, filter the data to only include pitches where `pitch_type` is \"CH\" (changeup). Note the average values of `release_speed`, `release_spin`, `pfx_x`, and `pfx_z` for Verlander's changeups.\n",
      "\n",
      "4. Use the `statcast_pitcher` function to retrieve pitch-level statcast data for all pitchers for the first week of June 2019. Set `start_dt` to \"2019-06-01\", `end_dt` to \"2019-06-07\". This will retrieve a large dataset, so ensure you have sufficient memory and processing power.\n",
      "\n",
      "5. From the output of `statcast_pitcher`, filter the data to only include pitches where `pitch_type` is \"CH\" (changeup).\n",
      "\n",
      "6. For each pitcher in the dataset, calculate the average `release_speed`, `release_spin`, `pfx_x`, and `pfx_z` for their changeups. Create an average vector for each pitcher's changeup.\n",
      "\n",
      "7. Train a k-nearest neighbors (KNN) model on the dataset of average changeup vectors, using the parameters `release_speed`, `release_spin`, `pfx_x`, and `pfx_z` as features.\n",
      "\n",
      "8. Use the trained KNN model to find the three pitchers (excluding Justin Verlander) with the most similar changeups to Justin Verlander's changeup. Exclude Justin Verlander from the results.\n",
      "\n",
      "9. For each of the three pitchers identified, use the `playerid_lookup` function to retrieve their names by passing their MLBAM player IDs as the `player_list` argument in the form of a list of tuples, where each tuple contains the pitcher's last and first names. This step is to ensure you can present the names of the pitchers rather than just their IDs.\n",
      "\n",
      "By following these steps, you will have identified three pitchers (excluding Justin Verlander) whose changeups were most similar to Justin Verlander's during the first week of June 2019, based on the specified parameters using a KNN model.\n",
      "\n",
      "Are you satisfied with this plan?\n"
     ]
    }
   ],
   "source": [
    "task = \"Consider the first week of June 2019 - find 3 pitchers who's changeups were most similar to Justin Verlander's\"\n",
    "result = baseball_lambda.execute_workflow(task, session_id)\n",
    "print(result)"
   ]
  },
  {
   "cell_type": "code",
   "execution_count": 6,
   "id": "4d6b35ae",
   "metadata": {},
   "outputs": [
    {
     "name": "stdout",
     "output_type": "stream",
     "text": [
      "{'Orchestrate': {'next': 'Execute'}}\n",
      "----\n"
     ]
    },
    {
     "name": "stderr",
     "output_type": "stream",
     "text": [
      "Python REPL can execute arbitrary code. Use with caution.\n"
     ]
    },
    {
     "name": "stdout",
     "output_type": "stream",
     "text": [
      "{'agent': {'messages': [AIMessage(content='', additional_kwargs={'function_call': {'arguments': '{\\n  \"__arg1\": \"from pybaseball import playerid_lookup\\\\n\\\\nverlander_id = playerid_lookup(\\'Verlander\\', \\'Justin\\')[\\'key_mlbam\\'][0]\\\\nprint(verlander_id)\"\\n}', 'name': 'Python_REPL'}})]}}\n",
      "----\n",
      "{'action': {'messages': [FunctionMessage(content='Gathering player lookup table. This may take a moment.\\n434378\\n', name='Python_REPL')]}}\n",
      "----\n",
      "{'agent': {'messages': [AIMessage(content='', additional_kwargs={'function_call': {'arguments': '{\\n  \"__arg1\": \"from pybaseball import statcast_pitcher\\\\n\\\\nverlander_data = statcast_pitcher(\\'2019-06-01\\', \\'2019-06-07\\', verlander_id)\\\\nverlander_changeups = verlander_data[verlander_data[\\'pitch_type\\'] == \\'CH\\']\\\\n\\\\nverlander_avg_release_speed = verlander_changeups[\\'release_speed\\'].mean()\\\\nverlander_avg_release_spin = verlander_changeups[\\'release_spin_rate\\'].mean()\\\\nverlander_avg_pfx_x = verlander_changeups[\\'pfx_x\\'].mean()\\\\nverlander_avg_pfx_z = verlander_changeups[\\'pfx_z\\'].mean()\\\\n\\\\nprint(verlander_avg_release_speed, verlander_avg_release_spin, verlander_avg_pfx_x, verlander_avg_pfx_z)\"\\n}', 'name': 'Python_REPL'}})]}}\n",
      "----\n",
      "{'action': {'messages': [FunctionMessage(content='Gathering Player Data\\n87.95 1762.75 -1.28 0.7174999999999999\\n', name='Python_REPL')]}}\n",
      "----\n",
      "{'agent': {'messages': [AIMessage(content='', additional_kwargs={'function_call': {'arguments': '{\\n  \"__arg1\": \"all_pitchers_data = statcast_pitcher(\\'2019-06-01\\', \\'2019-06-07\\')\\\\nall_changeups = all_pitchers_data[all_pitchers_data[\\'pitch_type\\'] == \\'CH\\']\\\\n\\\\npitcher_avg_values = all_changeups.groupby(\\'player_name\\').agg({\\'release_speed\\': \\'mean\\', \\'release_spin_rate\\': \\'mean\\', \\'pfx_x\\': \\'mean\\', \\'pfx_z\\': \\'mean\\'})\\\\npitcher_avg_values = pitcher_avg_values.dropna()\\\\n\\\\nprint(pitcher_avg_values)\"\\n}', 'name': 'Python_REPL'}})]}}\n",
      "----\n",
      "{'action': {'messages': [FunctionMessage(content='ValueError(\"Player ID is required. If you need to find a player\\'s id, try pybaseball.playerid_lookup(last_name, first_name) and use their key_mlbam. If you want statcast data for all players, try the statcast() function.\")', name='Python_REPL')]}}\n",
      "----\n"
     ]
    },
    {
     "name": "stderr",
     "output_type": "stream",
     "text": [
      "  0%|          | 0/7 [00:00<?, ?it/s]"
     ]
    },
    {
     "name": "stdout",
     "output_type": "stream",
     "text": [
      "{'agent': {'messages': [AIMessage(content='It seems like the `statcast_pitcher` function requires a player ID and cannot be used to retrieve data for all players. I will need to modify the plan to use the `statcast` function instead, which retrieves data for all players.\\n\\nModified Plan:\\n\\n1. Use the `playerid_lookup` function to find Justin Verlander\\'s MLBAM player ID. Pass in \"Verlander\" as the `last` argument and \"Justin\" as the `first` argument. From the output, note the `key_mlbam` field for Justin Verlander.\\n\\n2. Use the `statcast_pitcher` function to retrieve pitch-level statcast data for Justin Verlander for the first week of June 2019. Set `start_dt` to \"2019-06-01\", `end_dt` to \"2019-06-07\", and `player_id` to Justin Verlander\\'s MLBAM ID obtained in step 1. \\n\\n3. From the output of `statcast_pitcher`, filter the data to only include pitches where `pitch_type` is \"CH\" (changeup). Note the average values of `release_speed`, `release_spin`, `pfx_x`, and `pfx_z` for Verlander\\'s changeups.\\n\\n4. Use the `statcast` function to retrieve pitch-level statcast data for all players for the first week of June 2019. Set `start_dt` to \"2019-06-01\", `end_dt` to \"2019-06-07\". This will retrieve a large dataset, so ensure you have sufficient memory and processing power.\\n\\n5. From the output of `statcast`, filter the data to only include pitches where `pitch_type` is \"CH\" (changeup).\\n\\n6. For each pitcher in the dataset, calculate the average `release_speed`, `release_spin`, `pfx_x`, and `pfx_z` for their changeups. Create an average vector for each pitcher\\'s changeup.\\n\\n7. Train a k-nearest neighbors (KNN) model on the dataset of average changeup vectors, using the parameters `release_speed`, `release_spin`, `pfx_x`, and `pfx_z` as features.\\n\\n8. Use the trained KNN model to find the three pitchers (excluding Justin Verlander) with the most similar changeups to Justin Verlander\\'s changeup. Exclude Justin Verlander from the results.\\n\\n9. For each of the three pitchers identified, use the `playerid_lookup` function to retrieve their names by passing their MLBAM player IDs as the `player_list` argument in the form of a list of tuples, where each tuple contains the pitcher\\'s last and first names. This step is to ensure you can present the names of the pitchers rather than just their IDs.\\n\\nBy following these steps, you will have identified three pitchers (excluding Justin Verlander) whose changeups were most similar to Justin Verlander\\'s during the first week of June 2019, based on the specified parameters using a KNN model.', additional_kwargs={'function_call': {'arguments': '{\\n  \"__arg1\": \"from pybaseball import statcast\\\\n\\\\nall_players_data = statcast(\\'2019-06-01\\', \\'2019-06-07\\')\\\\nall_changeups = all_players_data[all_players_data[\\'pitch_type\\'] == \\'CH\\']\\\\n\\\\npitcher_avg_values = all_changeups.groupby(\\'player_name\\').agg({\\'release_speed\\': \\'mean\\', \\'release_spin_rate\\': \\'mean\\', \\'pfx_x\\': \\'mean\\', \\'pfx_z\\': \\'mean\\'})\\\\npitcher_avg_values = pitcher_avg_values.dropna()\\\\n\\\\nprint(pitcher_avg_values)\"\\n}', 'name': 'Python_REPL'}})]}}\n",
      "----\n"
     ]
    },
    {
     "name": "stderr",
     "output_type": "stream",
     "text": [
      "100%|██████████| 7/7 [00:03<00:00,  1.99it/s]\n"
     ]
    },
    {
     "name": "stdout",
     "output_type": "stream",
     "text": [
      "{'action': {'messages': [FunctionMessage(content='This is a large query, it may take a moment to complete\\n                   release_speed  release_spin_rate     pfx_x     pfx_z\\nplayer_name                                                            \\nAdams, Austin               90.3             2006.0     -1.15      0.31\\nAlbers, Matt           82.533333        1467.333333 -1.096667      0.49\\nAlcantara, Sandy       88.354545        1957.363636     -1.32  0.431818\\nAlcántara, Victor           88.7             1852.0     -1.41      0.65\\nAlexander, Scott            87.7             1711.5      1.06     0.185\\n...                          ...                ...       ...       ...\\nWood, Hunter            85.54375          1656.5625 -0.834375  1.191875\\nWoodruff, Brandon      87.222222        1757.166667 -1.253611  0.656389\\nYarbrough, Ryan        79.113636        2028.954545     1.445      0.69\\nYnoa, Gabriel          85.606667        1909.566667    -1.429  0.703333\\ndeGrom, Jacob          90.854545        1698.863636 -1.068636      0.29\\n\\n[253 rows x 4 columns]\\n', name='Python_REPL')]}}\n",
      "----\n",
      "{'agent': {'messages': [AIMessage(content='', additional_kwargs={'function_call': {'arguments': '{\\n  \"__arg1\": \"from sklearn.neighbors import NearestNeighbors\\\\n\\\\n# Remove Verlander from the dataset\\\\npitcher_avg_values = pitcher_avg_values.drop(\\'Verlander, Justin\\', errors=\\'ignore\\')\\\\n\\\\n# Train the KNN model\\\\nknn = NearestNeighbors(n_neighbors=3)\\\\nknn.fit(pitcher_avg_values)\\\\n\\\\n# Find the 3 most similar pitchers to Verlander\\\\nverlander_vector = [[verlander_avg_release_speed, verlander_avg_release_spin, verlander_avg_pfx_x, verlander_avg_pfx_z]]\\\\ndistances, indices = knn.kneighbors(verlander_vector)\\\\n\\\\nsimilar_pitchers = pitcher_avg_values.iloc[indices[0]].index\\\\nprint(similar_pitchers)\"\\n}', 'name': 'Python_REPL'}})]}}\n",
      "----\n",
      "{'action': {'messages': [FunctionMessage(content=\"Index(['Warren, Adam', 'Woodruff, Brandon', 'Williams, Taylor'], dtype='object', name='player_name')\\n\", name='Python_REPL')]}}\n",
      "----\n"
     ]
    },
    {
     "name": "stderr",
     "output_type": "stream",
     "text": [
      "/Users/rosclay/Documents/VSCode/baseball-langchain-agents/venv/lib/python3.10/site-packages/sklearn/base.py:465: UserWarning: X does not have valid feature names, but NearestNeighbors was fitted with feature names\n",
      "  warnings.warn(\n"
     ]
    },
    {
     "name": "stdout",
     "output_type": "stream",
     "text": [
      "{'agent': {'messages': [AIMessage(content='', additional_kwargs={'function_call': {'arguments': '{\\n  \"answer\": \"The three pitchers whose changeups were most similar to Justin Verlander\\'s during the first week of June 2019 are Adam Warren, Brandon Woodruff, and Taylor Williams.\",\\n  \"python_code\": \"from pybaseball import playerid_lookup\\\\n\\\\nverlander_id = playerid_lookup(\\'Verlander\\', \\'Justin\\')[\\'key_mlbam\\'][0]\\\\n\\\\nfrom pybaseball import statcast_pitcher\\\\n\\\\nverlander_data = statcast_pitcher(\\'2019-06-01\\', \\'2019-06-07\\', verlander_id)\\\\nverlander_changeups = verlander_data[verlander_data[\\'pitch_type\\'] == \\'CH\\']\\\\n\\\\nverlander_avg_release_speed = verlander_changeups[\\'release_speed\\'].mean()\\\\nverlander_avg_release_spin = verlander_changeups[\\'release_spin_rate\\'].mean()\\\\nverlander_avg_pfx_x = verlander_changeups[\\'pfx_x\\'].mean()\\\\nverlander_avg_pfx_z = verlander_changeups[\\'pfx_z\\'].mean()\\\\n\\\\nfrom pybaseball import statcast\\\\n\\\\nall_players_data = statcast(\\'2019-06-01\\', \\'2019-06-07\\')\\\\nall_changeups = all_players_data[all_players_data[\\'pitch_type\\'] == \\'CH\\']\\\\n\\\\npitcher_avg_values = all_changeups.groupby(\\'player_name\\').agg({\\'release_speed\\': \\'mean\\', \\'release_spin_rate\\': \\'mean\\', \\'pfx_x\\': \\'mean\\', \\'pfx_z\\': \\'mean\\'})\\\\npitcher_avg_values = pitcher_avg_values.dropna()\\\\n\\\\nfrom sklearn.neighbors import NearestNeighbors\\\\n\\\\n# Remove Verlander from the dataset\\\\npitcher_avg_values = pitcher_avg_values.drop(\\'Verlander, Justin\\', errors=\\'ignore\\')\\\\n\\\\n# Train the KNN model\\\\nknn = NearestNeighbors(n_neighbors=3)\\\\nknn.fit(pitcher_avg_values)\\\\n\\\\n# Find the 3 most similar pitchers to Verlander\\\\nverlander_vector = [[verlander_avg_release_speed, verlander_avg_release_spin, verlander_avg_pfx_x, verlander_avg_pfx_z]]\\\\ndistances, indices = knn.kneighbors(verlander_vector)\\\\n\\\\nsimilar_pitchers = pitcher_avg_values.iloc[indices[0]].index\",\\n  \"modifications\": \"The original plan called for using the `statcast_pitcher` function to retrieve data for all pitchers, but this function requires a player ID and cannot be used to retrieve data for all players. The plan was modified to use the `statcast` function instead, which retrieves data for all players.\",\\n  \"plan\": \"1. Use the `playerid_lookup` function to find Justin Verlander\\'s MLBAM player ID. Pass in \\\\\"Verlander\\\\\" as the `last` argument and \\\\\"Justin\\\\\" as the `first` argument. From the output, note the `key_mlbam` field for Justin Verlander.\\\\n\\\\n2. Use the `statcast_pitcher` function to retrieve pitch-level statcast data for Justin Verlander for the first week of June 2019. Set `start_dt` to \\\\\"2019-06-01\\\\\", `end_dt` to \\\\\"2019-06-07\\\\\", and `player_id` to Justin Verlander\\'s MLBAM ID obtained in step 1.\\\\n\\\\n3. From the output of `statcast_pitcher`, filter the data to only include pitches where `pitch_type` is \\\\\"CH\\\\\" (changeup). Note the average values of `release_speed`, `release_spin`, `pfx_x`, and `pfx_z` for Verlander\\'s changeups.\\\\n\\\\n4. Use the `statcast` function to retrieve pitch-level statcast data for all players for the first week of June 2019. Set `start_dt` to \\\\\"2019-06-01\\\\\", `end_dt` to \\\\\"2019-06-07\\\\\". This will retrieve a large dataset, so ensure you have sufficient memory and processing power.\\\\n\\\\n5. From the output of `statcast`, filter the data to only include pitches where `pitch_type` is \\\\\"CH\\\\\" (changeup).\\\\n\\\\n6. For each pitcher in the dataset, calculate the average `release_speed`, `release_spin`, `pfx_x`, and `pfx_z` for their changeups. Create an average vector for each pitcher\\'s changeup.\\\\n\\\\n7. Train a k-nearest neighbors (KNN) model on the dataset of average changeup vectors, using the parameters `release_speed`, `release_spin`, `pfx_x`, and `pfx_z` as features.\\\\n\\\\n8. Use the trained KNN model to find the three pitchers (excluding Justin Verlander) with the most similar changeups to Justin Verlander\\'s changeup. Exclude Justin Verlander from the results.\\\\n\\\\n9. For each of the three pitchers identified, use the `playerid_lookup` function to retrieve their names by passing their MLBAM player IDs as the `player_list` argument in the form of a list of tuples, where each tuple contains the pitcher\\'s last and first names. This step is to ensure you can present the names of the pitchers rather than just their IDs.\"\\n}', 'name': 'ExecutorResponse'}})]}}\n",
      "----\n",
      "{'Execute': {'messages': [HumanMessage(content=\"The three pitchers whose changeups were most similar to Justin Verlander's during the first week of June 2019 are Adam Warren, Brandon Woodruff, and Taylor Williams.\\n\\nThe original plan called for using the `statcast_pitcher` function to retrieve data for all pitchers, but this function requires a player ID and cannot be used to retrieve data for all players. The plan was modified to use the `statcast` function instead, which retrieves data for all players.\\n\\nHere is the Python code that was executed to solve this task:\\n\\n```\\nfrom pybaseball import playerid_lookup\\n\\nverlander_id = playerid_lookup('Verlander', 'Justin')['key_mlbam'][0]\\n\\nfrom pybaseball import statcast_pitcher\\n\\nverlander_data = statcast_pitcher('2019-06-01', '2019-06-07', verlander_id)\\nverlander_changeups = verlander_data[verlander_data['pitch_type'] == 'CH']\\n\\nverlander_avg_release_speed = verlander_changeups['release_speed'].mean()\\nverlander_avg_release_spin = verlander_changeups['release_spin_rate'].mean()\\nverlander_avg_pfx_x = verlander_changeups['pfx_x'].mean()\\nverlander_avg_pfx_z = verlander_changeups['pfx_z'].mean()\\n\\nfrom pybaseball import statcast\\n\\nall_players_data = statcast('2019-06-01', '2019-06-07')\\nall_changeups = all_players_data[all_players_data['pitch_type'] == 'CH']\\n\\npitcher_avg_values = all_changeups.groupby('player_name').agg({'release_speed': 'mean', 'release_spin_rate': 'mean', 'pfx_x': 'mean', 'pfx_z': 'mean'})\\npitcher_avg_values = pitcher_avg_values.dropna()\\n\\nfrom sklearn.neighbors import NearestNeighbors\\n\\n# Remove Verlander from the dataset\\npitcher_avg_values = pitcher_avg_values.drop('Verlander, Justin', errors='ignore')\\n\\n# Train the KNN model\\nknn = NearestNeighbors(n_neighbors=3)\\nknn.fit(pitcher_avg_values)\\n\\n# Find the 3 most similar pitchers to Verlander\\nverlander_vector = [[verlander_avg_release_speed, verlander_avg_release_spin, verlander_avg_pfx_x, verlander_avg_pfx_z]]\\ndistances, indices = knn.kneighbors(verlander_vector)\\n\\nsimilar_pitchers = pitcher_avg_values.iloc[indices[0]].index\\n```\\n\\nAre you satisfied with this result?\", additional_kwargs={'plan': '1. Use the `playerid_lookup` function to find Justin Verlander\\'s MLBAM player ID. Pass in \"Verlander\" as the `last` argument and \"Justin\" as the `first` argument. From the output, note the `key_mlbam` field for Justin Verlander.\\n\\n2. Use the `statcast_pitcher` function to retrieve pitch-level statcast data for Justin Verlander for the first week of June 2019. Set `start_dt` to \"2019-06-01\", `end_dt` to \"2019-06-07\", and `player_id` to Justin Verlander\\'s MLBAM ID obtained in step 1.\\n\\n3. From the output of `statcast_pitcher`, filter the data to only include pitches where `pitch_type` is \"CH\" (changeup). Note the average values of `release_speed`, `release_spin`, `pfx_x`, and `pfx_z` for Verlander\\'s changeups.\\n\\n4. Use the `statcast` function to retrieve pitch-level statcast data for all players for the first week of June 2019. Set `start_dt` to \"2019-06-01\", `end_dt` to \"2019-06-07\". This will retrieve a large dataset, so ensure you have sufficient memory and processing power.\\n\\n5. From the output of `statcast`, filter the data to only include pitches where `pitch_type` is \"CH\" (changeup).\\n\\n6. For each pitcher in the dataset, calculate the average `release_speed`, `release_spin`, `pfx_x`, and `pfx_z` for their changeups. Create an average vector for each pitcher\\'s changeup.\\n\\n7. Train a k-nearest neighbors (KNN) model on the dataset of average changeup vectors, using the parameters `release_speed`, `release_spin`, `pfx_x`, and `pfx_z` as features.\\n\\n8. Use the trained KNN model to find the three pitchers (excluding Justin Verlander) with the most similar changeups to Justin Verlander\\'s changeup. Exclude Justin Verlander from the results.\\n\\n9. For each of the three pitchers identified, use the `playerid_lookup` function to retrieve their names by passing their MLBAM player IDs as the `player_list` argument in the form of a list of tuples, where each tuple contains the pitcher\\'s last and first names. This step is to ensure you can present the names of the pitchers rather than just their IDs.'}, name='Executor')]}}\n",
      "----\n",
      "The three pitchers whose changeups were most similar to Justin Verlander's during the first week of June 2019 are Adam Warren, Brandon Woodruff, and Taylor Williams.\n",
      "\n",
      "The original plan called for using the `statcast_pitcher` function to retrieve data for all pitchers, but this function requires a player ID and cannot be used to retrieve data for all players. The plan was modified to use the `statcast` function instead, which retrieves data for all players.\n",
      "\n",
      "Here is the Python code that was executed to solve this task:\n",
      "\n",
      "```\n",
      "from pybaseball import playerid_lookup\n",
      "\n",
      "verlander_id = playerid_lookup('Verlander', 'Justin')['key_mlbam'][0]\n",
      "\n",
      "from pybaseball import statcast_pitcher\n",
      "\n",
      "verlander_data = statcast_pitcher('2019-06-01', '2019-06-07', verlander_id)\n",
      "verlander_changeups = verlander_data[verlander_data['pitch_type'] == 'CH']\n",
      "\n",
      "verlander_avg_release_speed = verlander_changeups['release_speed'].mean()\n",
      "verlander_avg_release_spin = verlander_changeups['release_spin_rate'].mean()\n",
      "verlander_avg_pfx_x = verlander_changeups['pfx_x'].mean()\n",
      "verlander_avg_pfx_z = verlander_changeups['pfx_z'].mean()\n",
      "\n",
      "from pybaseball import statcast\n",
      "\n",
      "all_players_data = statcast('2019-06-01', '2019-06-07')\n",
      "all_changeups = all_players_data[all_players_data['pitch_type'] == 'CH']\n",
      "\n",
      "pitcher_avg_values = all_changeups.groupby('player_name').agg({'release_speed': 'mean', 'release_spin_rate': 'mean', 'pfx_x': 'mean', 'pfx_z': 'mean'})\n",
      "pitcher_avg_values = pitcher_avg_values.dropna()\n",
      "\n",
      "from sklearn.neighbors import NearestNeighbors\n",
      "\n",
      "# Remove Verlander from the dataset\n",
      "pitcher_avg_values = pitcher_avg_values.drop('Verlander, Justin', errors='ignore')\n",
      "\n",
      "# Train the KNN model\n",
      "knn = NearestNeighbors(n_neighbors=3)\n",
      "knn.fit(pitcher_avg_values)\n",
      "\n",
      "# Find the 3 most similar pitchers to Verlander\n",
      "verlander_vector = [[verlander_avg_release_speed, verlander_avg_release_spin, verlander_avg_pfx_x, verlander_avg_pfx_z]]\n",
      "distances, indices = knn.kneighbors(verlander_vector)\n",
      "\n",
      "similar_pitchers = pitcher_avg_values.iloc[indices[0]].index\n",
      "```\n",
      "\n",
      "Are you satisfied with this result?\n"
     ]
    }
   ],
   "source": [
    "task = \"looks good\"\n",
    "result = baseball_lambda.execute_workflow(task, session_id)\n",
    "print(result)"
   ]
  },
  {
   "cell_type": "code",
   "execution_count": 7,
   "id": "a33d03ae",
   "metadata": {},
   "outputs": [
    {
     "name": "stdout",
     "output_type": "stream",
     "text": [
      "{'Orchestrate': {'next': 'Memorize'}}\n",
      "----\n",
      "{'Memorize': {'messages': [HumanMessage(content='Thank you, task has been written to memory', name='Memorizer')]}}\n",
      "----\n",
      "Thank you, task has been written to memory\n"
     ]
    }
   ],
   "source": [
    "task = \"yes\"\n",
    "result = baseball_lambda.execute_workflow(task, session_id)\n",
    "print(result)"
   ]
  },
  {
   "cell_type": "code",
   "execution_count": null,
   "id": "781bf191",
   "metadata": {},
   "outputs": [],
   "source": []
  }
 ],
 "metadata": {
  "kernelspec": {
   "display_name": "venv",
   "language": "python",
   "name": "python3"
  },
  "language_info": {
   "codemirror_mode": {
    "name": "ipython",
    "version": 3
   },
   "file_extension": ".py",
   "mimetype": "text/x-python",
   "name": "python",
   "nbconvert_exporter": "python",
   "pygments_lexer": "ipython3",
   "version": "3.10.8"
  }
 },
 "nbformat": 4,
 "nbformat_minor": 5
}
