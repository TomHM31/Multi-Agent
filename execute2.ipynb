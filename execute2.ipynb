{
 "cells": [
  {
   "cell_type": "code",
   "execution_count": 1,
   "metadata": {},
   "outputs": [
    {
     "name": "stderr",
     "output_type": "stream",
     "text": [
      "Python REPL can execute arbitrary code. Use with caution.\n"
     ]
    },
    {
     "data": {
      "text/plain": [
       "''"
      ]
     },
     "execution_count": 1,
     "metadata": {},
     "output_type": "execute_result"
    }
   ],
   "source": [
    "from langchain_experimental.tools import PythonREPLTool\n",
    "import text\n",
    "\n",
    "# define python repl\n",
    "python_repl = PythonREPLTool()\n",
    "\n",
    "# initiate python_repl to ignore warnings\n",
    "python_repl.invoke('import warnings\\nwarnings.simplefilter(\"ignore\")')"
   ]
  },
  {
   "cell_type": "code",
   "execution_count": 2,
   "metadata": {},
   "outputs": [],
   "source": [
    "from dotenv import load_dotenv, find_dotenv\n",
    "import re\n",
    "\n",
    "from langchain_core.messages import HumanMessage, AIMessage\n",
    "from langchain_core.prompts import ChatPromptTemplate, MessagesPlaceholder\n",
    "from langchain_core.runnables import RunnableLambda\n",
    "from langchain_community.chat_models import BedrockChat\n",
    "\n",
    "# read local .env file\n",
    "_ = load_dotenv(find_dotenv()) \n",
    "\n",
    "# define language model\n",
    "model_id = 'anthropic.claude-3-sonnet-20240229-v1:0'\n",
    "#model_id = 'anthropic.claude-3-haiku-20240307-v1:0'\n",
    "llm = BedrockChat(model_id=model_id, model_kwargs={'temperature': 0})\n",
    "\n",
    "# set a distance threshold for when to create a new plan vs modify an existing plan\n",
    "threshold = .5\n",
    "\n",
    "\n",
    "def extract_text_between_markers(text):\n",
    "    '''Helper function to extract code'''\n",
    "    start_marker = '```python'\n",
    "    end_marker = '```'\n",
    "\n",
    "    pattern = re.compile(f'{re.escape(start_marker)}(.*?){re.escape(end_marker)}', re.DOTALL)\n",
    "    matches = pattern.findall(text.content)\n",
    "    return matches[0]\n",
    "\n",
    "\n",
    "CONVERT_SYSTEM_PROMPT = '''<instructions>You are a highly skilled Python programmer.  Your goal is to help a user execute a plan by writing code for a Python REPL.</instructions>\n",
    "\n",
    "Text between the <function_detail></function_detail> tags is documentation on the functions in use.  Do not attempt to use any feature that is not explicitly listed in the data dictionary for that function.\n",
    "<function_detail> \n",
    "{function_detail}\n",
    "</function_detail>\n",
    "\n",
    "Text between the <task></task> tags is the goal of the plan.\n",
    "<task>\n",
    "{task}\n",
    "</task>\n",
    "\n",
    "Text between the <plan></plan> tags is the entire plan that will be executed.\n",
    "<plan>\n",
    "{plan}\n",
    "</plan>\n",
    "\n",
    "Text between the <rules></rules> tags are rules that must be followed.\n",
    "<rules>\n",
    "1. Import all necessary libraries at the start of your code.\n",
    "2. Always assign the result of a pybaseball function call to a variable.\n",
    "3. Use print() when you want to display the final result to the User.\n",
    "4. Never write functions\n",
    "5. Return all python code between three tick marks like this:\n",
    "```python\n",
    "python code goes here\n",
    "```\n",
    "6. Comment your code liberally to be clear about what is happening and why.\n",
    "</rules>\n",
    "'''"
   ]
  },
  {
   "cell_type": "code",
   "execution_count": 3,
   "metadata": {},
   "outputs": [],
   "source": [
    "step = '''1. Get all pitch data from 2020-08-01 to 2020-08-07:\n",
    "all_pitches = statcast('2020-08-01', '2020-08-07')'''"
   ]
  },
  {
   "cell_type": "code",
   "execution_count": 4,
   "metadata": {},
   "outputs": [],
   "source": [
    "convert_prompt_template = ChatPromptTemplate.from_messages([\n",
    "    (\"system\", CONVERT_SYSTEM_PROMPT),\n",
    "    MessagesPlaceholder(variable_name=\"messages\"), \n",
    "])\n",
    "\n",
    "convert_chain = convert_prompt_template | llm | RunnableLambda(extract_text_between_markers)\n",
    "\n",
    "convert_prefix = 'Here is the next step of the plan.  Convert this step into code that can be executed in a Python REPL.'\n",
    "messages = [HumanMessage(content=f'{convert_prefix}\\n\\n{step}')]\n",
    "\n",
    "# invoke convert chain\n",
    "code = convert_chain.invoke({'messages':messages, 'step':step, 'plan':text.plan, 'function_detail':text.function_detail, 'task':text.task}) # , 'function_detail_str': function_detail"
   ]
  },
  {
   "cell_type": "code",
   "execution_count": 5,
   "metadata": {},
   "outputs": [
    {
     "name": "stdout",
     "output_type": "stream",
     "text": [
      "\n",
      "# Import the statcast function from pybaseball\n",
      "from pybaseball import statcast\n",
      "\n",
      "# Get all pitch data from August 1st to August 7th, 2020\n",
      "all_pitches = statcast('2020-08-01', '2020-08-07')\n",
      "\n"
     ]
    }
   ],
   "source": [
    "print(code)"
   ]
  },
  {
   "cell_type": "code",
   "execution_count": 6,
   "metadata": {},
   "outputs": [
    {
     "name": "stderr",
     "output_type": "stream",
     "text": [
      "100%|██████████| 7/7 [00:04<00:00,  1.49it/s]\n"
     ]
    }
   ],
   "source": [
    "result = python_repl.invoke(code)"
   ]
  },
  {
   "cell_type": "code",
   "execution_count": 7,
   "metadata": {},
   "outputs": [
    {
     "data": {
      "text/plain": [
       "'This is a large query, it may take a moment to complete\\n'"
      ]
     },
     "execution_count": 7,
     "metadata": {},
     "output_type": "execute_result"
    }
   ],
   "source": [
    "result"
   ]
  },
  {
   "cell_type": "code",
   "execution_count": 8,
   "metadata": {},
   "outputs": [],
   "source": [
    "step = \"\"\"2. Filter for just curveballs:\n",
    "all_curves = all_pitches[all_pitches['pitch_type'] == 'CU']\"\"\""
   ]
  },
  {
   "cell_type": "code",
   "execution_count": 9,
   "metadata": {},
   "outputs": [],
   "source": [
    "messages.append(AIMessage(content=f'The previous step completed successfully with the following code:\\n\\n```python\\n{code}\\n```\\n\\nHere was the result: {result}'))\n",
    "messages.append(HumanMessage(content=f'{convert_prefix}\\n\\n{step}'))\n",
    "\n",
    "# invoke convert chain\n",
    "code = convert_chain.invoke({'messages':messages, 'step':step, 'plan':text.plan, 'function_detail':text.function_detail, 'task':text.task}) # , 'function_detail_str': function_detail"
   ]
  },
  {
   "cell_type": "code",
   "execution_count": 10,
   "metadata": {},
   "outputs": [
    {
     "name": "stdout",
     "output_type": "stream",
     "text": [
      "\n",
      "# Filter the all_pitches dataframe to only include curveballs\n",
      "all_curves = all_pitches[all_pitches['pitch_type'] == 'CU']\n",
      "\n"
     ]
    }
   ],
   "source": [
    "print(code)"
   ]
  },
  {
   "cell_type": "code",
   "execution_count": 11,
   "metadata": {},
   "outputs": [],
   "source": [
    "result = python_repl.invoke(code)"
   ]
  },
  {
   "cell_type": "code",
   "execution_count": 12,
   "metadata": {},
   "outputs": [
    {
     "name": "stdout",
     "output_type": "stream",
     "text": [
      "\n"
     ]
    }
   ],
   "source": [
    "print(result)"
   ]
  },
  {
   "cell_type": "code",
   "execution_count": 13,
   "metadata": {},
   "outputs": [],
   "source": [
    "step = \"\"\"3. Create a feature vector for each pitcher's curveballs:\n",
    "pitcher_curves = all_curves.groupby('pitcher')\n",
    "pitcher_features = pitcher_curves[['release_speed', 'release_spin', 'pfx_x', 'pfx_z']].mean().reset_index()\"\"\""
   ]
  },
  {
   "cell_type": "code",
   "execution_count": 14,
   "metadata": {},
   "outputs": [],
   "source": [
    "messages.append(AIMessage(content=f'The previous step completed successfully with the following code:\\n\\n```python\\n{code}\\n```\\n\\nHere was the result: {result}'))\n",
    "messages.append(HumanMessage(content=f'{convert_prefix}\\n\\n{step}'))\n",
    "\n",
    "# invoke convert chain\n",
    "code = convert_chain.invoke({'messages':messages, 'step':step, 'plan':text.plan, 'function_detail':text.function_detail, 'task':text.task}) # , 'function_detail_str': function_detail"
   ]
  },
  {
   "cell_type": "code",
   "execution_count": 15,
   "metadata": {},
   "outputs": [
    {
     "name": "stdout",
     "output_type": "stream",
     "text": [
      "\n",
      "# Group the curveball data by pitcher\n",
      "pitcher_curves = all_curves.groupby('pitcher')\n",
      "\n",
      "# For each pitcher, take the mean of the release_speed, release_spin, pfx_x, and pfx_z columns\n",
      "# This creates a feature vector summarizing each pitcher's curveballs\n",
      "pitcher_features = pitcher_curves[['release_speed', 'release_spin', 'pfx_x', 'pfx_z']].mean().reset_index()\n",
      "\n"
     ]
    }
   ],
   "source": [
    "print(code)"
   ]
  },
  {
   "cell_type": "code",
   "execution_count": 16,
   "metadata": {},
   "outputs": [],
   "source": [
    "result = python_repl.invoke(code)"
   ]
  },
  {
   "cell_type": "code",
   "execution_count": 17,
   "metadata": {},
   "outputs": [
    {
     "data": {
      "text/plain": [
       "'KeyError(\"Columns not found: \\'release_spin\\'\")'"
      ]
     },
     "execution_count": 17,
     "metadata": {},
     "output_type": "execute_result"
    }
   ],
   "source": [
    "result"
   ]
  },
  {
   "cell_type": "code",
   "execution_count": 18,
   "metadata": {},
   "outputs": [],
   "source": [
    "messages.append(AIMessage(content=f'The previous step reached an error with the following code:\\n\\n```python\\n{code}\\n```\\n\\nHere was the error: {result}'))\n",
    "messages.append(HumanMessage(content=f'What information would be useful in order to troubleshoot this error?  Write Python code that can be executed in a python repl to confirm this information.'))\n",
    "\n",
    "# invoke convert chain\n",
    "code = convert_chain.invoke({'messages':messages, 'step':step, 'plan':text.plan, 'function_detail':text.function_detail, 'task':text.task}) "
   ]
  },
  {
   "cell_type": "code",
   "execution_count": 19,
   "metadata": {},
   "outputs": [
    {
     "name": "stdout",
     "output_type": "stream",
     "text": [
      "\n",
      "print(all_curves.columns)\n",
      "\n"
     ]
    }
   ],
   "source": [
    "print(code)"
   ]
  },
  {
   "cell_type": "code",
   "execution_count": 20,
   "metadata": {},
   "outputs": [],
   "source": [
    "result = python_repl.invoke(code)"
   ]
  },
  {
   "cell_type": "code",
   "execution_count": 21,
   "metadata": {},
   "outputs": [
    {
     "name": "stdout",
     "output_type": "stream",
     "text": [
      "Index(['pitch_type', 'game_date', 'release_speed', 'release_pos_x',\n",
      "       'release_pos_z', 'player_name', 'batter', 'pitcher', 'events',\n",
      "       'description', 'spin_dir', 'spin_rate_deprecated',\n",
      "       'break_angle_deprecated', 'break_length_deprecated', 'zone', 'des',\n",
      "       'game_type', 'stand', 'p_throws', 'home_team', 'away_team', 'type',\n",
      "       'hit_location', 'bb_type', 'balls', 'strikes', 'game_year', 'pfx_x',\n",
      "       'pfx_z', 'plate_x', 'plate_z', 'on_3b', 'on_2b', 'on_1b',\n",
      "       'outs_when_up', 'inning', 'inning_topbot', 'hc_x', 'hc_y',\n",
      "       'tfs_deprecated', 'tfs_zulu_deprecated', 'fielder_2', 'umpire', 'sv_id',\n",
      "       'vx0', 'vy0', 'vz0', 'ax', 'ay', 'az', 'sz_top', 'sz_bot',\n",
      "       'hit_distance_sc', 'launch_speed', 'launch_angle', 'effective_speed',\n",
      "       'release_spin_rate', 'release_extension', 'game_pk', 'pitcher.1',\n",
      "       'fielder_2.1', 'fielder_3', 'fielder_4', 'fielder_5', 'fielder_6',\n",
      "       'fielder_7', 'fielder_8', 'fielder_9', 'release_pos_y',\n",
      "       'estimated_ba_using_speedangle', 'estimated_woba_using_speedangle',\n",
      "       'woba_value', 'woba_denom', 'babip_value', 'iso_value',\n",
      "       'launch_speed_angle', 'at_bat_number', 'pitch_number', 'pitch_name',\n",
      "       'home_score', 'away_score', 'bat_score', 'fld_score', 'post_away_score',\n",
      "       'post_home_score', 'post_bat_score', 'post_fld_score',\n",
      "       'if_fielding_alignment', 'of_fielding_alignment', 'spin_axis',\n",
      "       'delta_home_win_exp', 'delta_run_exp'],\n",
      "      dtype='object')\n",
      "\n"
     ]
    }
   ],
   "source": [
    "print(result)"
   ]
  },
  {
   "cell_type": "code",
   "execution_count": 22,
   "metadata": {},
   "outputs": [],
   "source": [
    "messages.append(AIMessage(content=f'The following code was executed to help troubleshoot this error:\\n\\n```python\\n{code}\\n```\\n\\nHere is the result:\\n\\n{result}'))\n",
    "messages.append(HumanMessage(content=f'{convert_prefix}\\n\\n{step}'))\n",
    "\n",
    "# invoke convert chain\n",
    "code = convert_chain.invoke({'messages':messages, 'step':step, 'plan':text.plan, 'function_detail':text.function_detail, 'task':text.task}) "
   ]
  },
  {
   "cell_type": "code",
   "execution_count": 23,
   "metadata": {},
   "outputs": [
    {
     "name": "stdout",
     "output_type": "stream",
     "text": [
      "\n",
      "# Group the curveball data by pitcher \n",
      "pitcher_curves = all_curves.groupby('pitcher')\n",
      "\n",
      "# For each pitcher, take the mean of the release_speed, release_spin_rate, pfx_x, and pfx_z columns\n",
      "# This creates a feature vector summarizing each pitcher's curveballs\n",
      "pitcher_features = pitcher_curves[['release_speed', 'release_spin_rate', 'pfx_x', 'pfx_z']].mean().reset_index()\n",
      "\n"
     ]
    }
   ],
   "source": [
    "print(code)"
   ]
  },
  {
   "cell_type": "code",
   "execution_count": 24,
   "metadata": {},
   "outputs": [],
   "source": [
    "result = python_repl.invoke(code)"
   ]
  },
  {
   "cell_type": "code",
   "execution_count": 25,
   "metadata": {},
   "outputs": [
    {
     "name": "stdout",
     "output_type": "stream",
     "text": [
      "\n"
     ]
    }
   ],
   "source": [
    "print(result)"
   ]
  },
  {
   "cell_type": "code",
   "execution_count": 27,
   "metadata": {},
   "outputs": [],
   "source": [
    "step = \"\"\"4. Get Max Scherzer's player ID:\n",
    "from pybaseball import playerid_lookup\n",
    "scherzer_id = playerid_lookup('scherzer', 'max')['key_mlbam'][0]\"\"\""
   ]
  },
  {
   "cell_type": "code",
   "execution_count": 28,
   "metadata": {},
   "outputs": [],
   "source": [
    "messages.append(AIMessage(content=f'The previous step completed successfully with the following code:\\n\\n```python\\n{code}\\n```\\n\\nHere was the result: {result}'))\n",
    "messages.append(HumanMessage(content=f'{convert_prefix}\\n\\n{step}'))\n",
    "\n",
    "# invoke convert chain\n",
    "code = convert_chain.invoke({'messages':messages, 'step':step, 'plan':text.plan, 'function_detail':text.function_detail, 'task':text.task}) # , 'function_detail_str': function_detail"
   ]
  },
  {
   "cell_type": "code",
   "execution_count": 29,
   "metadata": {},
   "outputs": [
    {
     "name": "stdout",
     "output_type": "stream",
     "text": [
      "\n",
      "# Import the playerid_lookup function\n",
      "from pybaseball import playerid_lookup\n",
      "\n",
      "# Get Max Scherzer's MLBAM player ID\n",
      "scherzer_id = playerid_lookup('scherzer', 'max')['key_mlbam'][0]\n",
      "\n"
     ]
    }
   ],
   "source": [
    "print(code)"
   ]
  },
  {
   "cell_type": "code",
   "execution_count": 30,
   "metadata": {},
   "outputs": [],
   "source": [
    "result = python_repl.invoke(code)"
   ]
  },
  {
   "cell_type": "code",
   "execution_count": 31,
   "metadata": {},
   "outputs": [
    {
     "name": "stdout",
     "output_type": "stream",
     "text": [
      "Gathering player lookup table. This may take a moment.\n",
      "\n"
     ]
    }
   ],
   "source": [
    "print(result)"
   ]
  },
  {
   "cell_type": "code",
   "execution_count": 32,
   "metadata": {},
   "outputs": [],
   "source": [
    "step = \"\"\"5. Get Scherzer's feature vector:\n",
    "scherzer_features = pitcher_features[pitcher_features['pitcher'] == scherzer_id]\"\"\""
   ]
  },
  {
   "cell_type": "code",
   "execution_count": 33,
   "metadata": {},
   "outputs": [],
   "source": [
    "messages.append(AIMessage(content=f'The previous step completed successfully with the following code:\\n\\n```python\\n{code}\\n```\\n\\nHere was the result: {result}'))\n",
    "messages.append(HumanMessage(content=f'{convert_prefix}\\n\\n{step}'))\n",
    "\n",
    "# invoke convert chain\n",
    "code = convert_chain.invoke({'messages':messages, 'step':step, 'plan':text.plan, 'function_detail':text.function_detail, 'task':text.task}) # , 'function_detail_str': function_detail"
   ]
  },
  {
   "cell_type": "code",
   "execution_count": 34,
   "metadata": {},
   "outputs": [
    {
     "name": "stdout",
     "output_type": "stream",
     "text": [
      "\n",
      "# Filter the pitcher_features dataframe to only include Max Scherzer's row\n",
      "scherzer_features = pitcher_features[pitcher_features['pitcher'] == scherzer_id]\n",
      "\n"
     ]
    }
   ],
   "source": [
    "print(code)"
   ]
  },
  {
   "cell_type": "code",
   "execution_count": 35,
   "metadata": {},
   "outputs": [],
   "source": [
    "result = python_repl.invoke(code)"
   ]
  },
  {
   "cell_type": "code",
   "execution_count": 36,
   "metadata": {},
   "outputs": [
    {
     "name": "stdout",
     "output_type": "stream",
     "text": [
      "\n"
     ]
    }
   ],
   "source": [
    "print(result)"
   ]
  },
  {
   "cell_type": "code",
   "execution_count": 37,
   "metadata": {},
   "outputs": [],
   "source": [
    "step = \"\"\"6. Import scikit-learn and create a knn model:\n",
    "from sklearn.neighbors import NearestNeighbors\n",
    "knn = NearestNeighbors(n_neighbors=4)\n",
    "knn.fit(pitcher_features[['release_speed', 'release_spin', 'pfx_x', 'pfx_z']])\"\"\""
   ]
  },
  {
   "cell_type": "code",
   "execution_count": 38,
   "metadata": {},
   "outputs": [],
   "source": [
    "messages.append(AIMessage(content=f'The previous step completed successfully with the following code:\\n\\n```python\\n{code}\\n```\\n\\nHere was the result: {result}'))\n",
    "messages.append(HumanMessage(content=f'{convert_prefix}\\n\\n{step}'))\n",
    "\n",
    "# invoke convert chain\n",
    "code = convert_chain.invoke({'messages':messages, 'step':step, 'plan':text.plan, 'function_detail':text.function_detail, 'task':text.task}) # , 'function_detail_str': function_detail"
   ]
  },
  {
   "cell_type": "code",
   "execution_count": 39,
   "metadata": {},
   "outputs": [
    {
     "name": "stdout",
     "output_type": "stream",
     "text": [
      "\n",
      "# Import the NearestNeighbors class\n",
      "from sklearn.neighbors import NearestNeighbors  \n",
      "\n",
      "# Create a kNN model to find the 4 nearest neighbors\n",
      "knn = NearestNeighbors(n_neighbors=4)\n",
      "\n",
      "# Fit the kNN model on the feature vectors\n",
      "knn.fit(pitcher_features[['release_speed', 'release_spin_rate', 'pfx_x', 'pfx_z']]) \n",
      "\n"
     ]
    }
   ],
   "source": [
    "print(code)"
   ]
  },
  {
   "cell_type": "code",
   "execution_count": 40,
   "metadata": {},
   "outputs": [],
   "source": [
    "result = python_repl.invoke(code)"
   ]
  },
  {
   "cell_type": "code",
   "execution_count": 41,
   "metadata": {},
   "outputs": [
    {
     "name": "stdout",
     "output_type": "stream",
     "text": [
      "\n"
     ]
    }
   ],
   "source": [
    "print(result)"
   ]
  },
  {
   "cell_type": "code",
   "execution_count": 42,
   "metadata": {},
   "outputs": [],
   "source": [
    "step = \"\"\"7. Find the 3 pitchers closest to Scherzer:\n",
    "distances, indices = knn.kneighbors(scherzer_features[['release_speed', 'release_spin', 'pfx_x', 'pfx_z']])\n",
    "closest_indices = indices[0][1:4]\n",
    "similar_pitchers = pitcher_features.iloc[closest_indices]\n",
    "print(similar_pitchers[['pitcher']])'''\"\"\""
   ]
  },
  {
   "cell_type": "code",
   "execution_count": 43,
   "metadata": {},
   "outputs": [],
   "source": [
    "messages.append(AIMessage(content=f'The previous step completed successfully with the following code:\\n\\n```python\\n{code}\\n```\\n\\nHere was the result: {result}'))\n",
    "messages.append(HumanMessage(content=f'{convert_prefix}\\n\\n{step}'))\n",
    "\n",
    "# invoke convert chain\n",
    "code = convert_chain.invoke({'messages':messages, 'step':step, 'plan':text.plan, 'function_detail':text.function_detail, 'task':text.task}) # , 'function_detail_str': function_detail"
   ]
  },
  {
   "cell_type": "code",
   "execution_count": 44,
   "metadata": {},
   "outputs": [
    {
     "name": "stdout",
     "output_type": "stream",
     "text": [
      "\n",
      "\n",
      "# Find the distances and indices of the nearest neighbors to Scherzer\n",
      "distances, indices = knn.kneighbors(scherzer_features[['release_speed', 'release_spin_rate', 'pfx_x', 'pfx_z']])\n",
      "\n",
      "# Get the indices of the 2nd, 3rd, and 4th closest pitchers (since 1st is Scherzer himself)\n",
      "closest_indices = indices[0][1:4]  \n",
      "\n",
      "# Use those indices to get the rows for the similar pitchers\n",
      "similar_pitchers = pitcher_features.iloc[closest_indices]\n",
      "\n",
      "# Print out just the pitcher column which contains the player IDs\n",
      "print(similar_pitchers[['pitcher']]) \n",
      "\n",
      "\n"
     ]
    }
   ],
   "source": [
    "print(code)"
   ]
  },
  {
   "cell_type": "code",
   "execution_count": 45,
   "metadata": {},
   "outputs": [],
   "source": [
    "result = python_repl.invoke(code)"
   ]
  },
  {
   "cell_type": "code",
   "execution_count": 46,
   "metadata": {},
   "outputs": [
    {
     "name": "stdout",
     "output_type": "stream",
     "text": [
      "     pitcher\n",
      "85    593833\n",
      "199   664285\n",
      "122   608331\n",
      "\n"
     ]
    }
   ],
   "source": [
    "print(result)"
   ]
  },
  {
   "cell_type": "code",
   "execution_count": 48,
   "metadata": {},
   "outputs": [
    {
     "ename": "IndexError",
     "evalue": "list index out of range",
     "output_type": "error",
     "traceback": [
      "\u001b[0;31m---------------------------------------------------------------------------\u001b[0m",
      "\u001b[0;31mIndexError\u001b[0m                                Traceback (most recent call last)",
      "Cell \u001b[0;32mIn[48], line 5\u001b[0m\n\u001b[1;32m      2\u001b[0m messages\u001b[38;5;241m.\u001b[39mappend(HumanMessage(content\u001b[38;5;241m=\u001b[39m\u001b[38;5;124m'\u001b[39m\u001b[38;5;124mDoes this result give you the information needed to solve solve the task?\u001b[39m\u001b[38;5;124m'\u001b[39m))\n\u001b[1;32m      4\u001b[0m \u001b[38;5;66;03m# invoke convert chain\u001b[39;00m\n\u001b[0;32m----> 5\u001b[0m code \u001b[38;5;241m=\u001b[39m \u001b[43mconvert_chain\u001b[49m\u001b[38;5;241;43m.\u001b[39;49m\u001b[43minvoke\u001b[49m\u001b[43m(\u001b[49m\u001b[43m{\u001b[49m\u001b[38;5;124;43m'\u001b[39;49m\u001b[38;5;124;43mmessages\u001b[39;49m\u001b[38;5;124;43m'\u001b[39;49m\u001b[43m:\u001b[49m\u001b[43mmessages\u001b[49m\u001b[43m,\u001b[49m\u001b[43m \u001b[49m\u001b[38;5;124;43m'\u001b[39;49m\u001b[38;5;124;43mstep\u001b[39;49m\u001b[38;5;124;43m'\u001b[39;49m\u001b[43m:\u001b[49m\u001b[43mstep\u001b[49m\u001b[43m,\u001b[49m\u001b[43m \u001b[49m\u001b[38;5;124;43m'\u001b[39;49m\u001b[38;5;124;43mplan\u001b[39;49m\u001b[38;5;124;43m'\u001b[39;49m\u001b[43m:\u001b[49m\u001b[43mtext\u001b[49m\u001b[38;5;241;43m.\u001b[39;49m\u001b[43mplan\u001b[49m\u001b[43m,\u001b[49m\u001b[43m \u001b[49m\u001b[38;5;124;43m'\u001b[39;49m\u001b[38;5;124;43mfunction_detail\u001b[39;49m\u001b[38;5;124;43m'\u001b[39;49m\u001b[43m:\u001b[49m\u001b[43mtext\u001b[49m\u001b[38;5;241;43m.\u001b[39;49m\u001b[43mfunction_detail\u001b[49m\u001b[43m,\u001b[49m\u001b[43m \u001b[49m\u001b[38;5;124;43m'\u001b[39;49m\u001b[38;5;124;43mtask\u001b[39;49m\u001b[38;5;124;43m'\u001b[39;49m\u001b[43m:\u001b[49m\u001b[43mtext\u001b[49m\u001b[38;5;241;43m.\u001b[39;49m\u001b[43mtask\u001b[49m\u001b[43m}\u001b[49m\u001b[43m)\u001b[49m \u001b[38;5;66;03m# , 'function_detail_str': function_detail\u001b[39;00m\n",
      "File \u001b[0;32m~/Documents/VSCode/langgraph-multi-agent/venv/lib/python3.10/site-packages/langchain_core/runnables/base.py:2499\u001b[0m, in \u001b[0;36mRunnableSequence.invoke\u001b[0;34m(self, input, config)\u001b[0m\n\u001b[1;32m   2497\u001b[0m \u001b[38;5;28;01mtry\u001b[39;00m:\n\u001b[1;32m   2498\u001b[0m     \u001b[38;5;28;01mfor\u001b[39;00m i, step \u001b[38;5;129;01min\u001b[39;00m \u001b[38;5;28menumerate\u001b[39m(\u001b[38;5;28mself\u001b[39m\u001b[38;5;241m.\u001b[39msteps):\n\u001b[0;32m-> 2499\u001b[0m         \u001b[38;5;28minput\u001b[39m \u001b[38;5;241m=\u001b[39m \u001b[43mstep\u001b[49m\u001b[38;5;241;43m.\u001b[39;49m\u001b[43minvoke\u001b[49m\u001b[43m(\u001b[49m\n\u001b[1;32m   2500\u001b[0m \u001b[43m            \u001b[49m\u001b[38;5;28;43minput\u001b[39;49m\u001b[43m,\u001b[49m\n\u001b[1;32m   2501\u001b[0m \u001b[43m            \u001b[49m\u001b[38;5;66;43;03m# mark each step as a child run\u001b[39;49;00m\n\u001b[1;32m   2502\u001b[0m \u001b[43m            \u001b[49m\u001b[43mpatch_config\u001b[49m\u001b[43m(\u001b[49m\n\u001b[1;32m   2503\u001b[0m \u001b[43m                \u001b[49m\u001b[43mconfig\u001b[49m\u001b[43m,\u001b[49m\u001b[43m \u001b[49m\u001b[43mcallbacks\u001b[49m\u001b[38;5;241;43m=\u001b[39;49m\u001b[43mrun_manager\u001b[49m\u001b[38;5;241;43m.\u001b[39;49m\u001b[43mget_child\u001b[49m\u001b[43m(\u001b[49m\u001b[38;5;124;43mf\u001b[39;49m\u001b[38;5;124;43m\"\u001b[39;49m\u001b[38;5;124;43mseq:step:\u001b[39;49m\u001b[38;5;132;43;01m{\u001b[39;49;00m\u001b[43mi\u001b[49m\u001b[38;5;241;43m+\u001b[39;49m\u001b[38;5;241;43m1\u001b[39;49m\u001b[38;5;132;43;01m}\u001b[39;49;00m\u001b[38;5;124;43m\"\u001b[39;49m\u001b[43m)\u001b[49m\n\u001b[1;32m   2504\u001b[0m \u001b[43m            \u001b[49m\u001b[43m)\u001b[49m\u001b[43m,\u001b[49m\n\u001b[1;32m   2505\u001b[0m \u001b[43m        \u001b[49m\u001b[43m)\u001b[49m\n\u001b[1;32m   2506\u001b[0m \u001b[38;5;66;03m# finish the root run\u001b[39;00m\n\u001b[1;32m   2507\u001b[0m \u001b[38;5;28;01mexcept\u001b[39;00m \u001b[38;5;167;01mBaseException\u001b[39;00m \u001b[38;5;28;01mas\u001b[39;00m e:\n",
      "File \u001b[0;32m~/Documents/VSCode/langgraph-multi-agent/venv/lib/python3.10/site-packages/langchain_core/runnables/base.py:3961\u001b[0m, in \u001b[0;36mRunnableLambda.invoke\u001b[0;34m(self, input, config, **kwargs)\u001b[0m\n\u001b[1;32m   3959\u001b[0m \u001b[38;5;250m\u001b[39m\u001b[38;5;124;03m\"\"\"Invoke this runnable synchronously.\"\"\"\u001b[39;00m\n\u001b[1;32m   3960\u001b[0m \u001b[38;5;28;01mif\u001b[39;00m \u001b[38;5;28mhasattr\u001b[39m(\u001b[38;5;28mself\u001b[39m, \u001b[38;5;124m\"\u001b[39m\u001b[38;5;124mfunc\u001b[39m\u001b[38;5;124m\"\u001b[39m):\n\u001b[0;32m-> 3961\u001b[0m     \u001b[38;5;28;01mreturn\u001b[39;00m \u001b[38;5;28;43mself\u001b[39;49m\u001b[38;5;241;43m.\u001b[39;49m\u001b[43m_call_with_config\u001b[49m\u001b[43m(\u001b[49m\n\u001b[1;32m   3962\u001b[0m \u001b[43m        \u001b[49m\u001b[38;5;28;43mself\u001b[39;49m\u001b[38;5;241;43m.\u001b[39;49m\u001b[43m_invoke\u001b[49m\u001b[43m,\u001b[49m\n\u001b[1;32m   3963\u001b[0m \u001b[43m        \u001b[49m\u001b[38;5;28;43minput\u001b[39;49m\u001b[43m,\u001b[49m\n\u001b[1;32m   3964\u001b[0m \u001b[43m        \u001b[49m\u001b[38;5;28;43mself\u001b[39;49m\u001b[38;5;241;43m.\u001b[39;49m\u001b[43m_config\u001b[49m\u001b[43m(\u001b[49m\u001b[43mconfig\u001b[49m\u001b[43m,\u001b[49m\u001b[43m \u001b[49m\u001b[38;5;28;43mself\u001b[39;49m\u001b[38;5;241;43m.\u001b[39;49m\u001b[43mfunc\u001b[49m\u001b[43m)\u001b[49m\u001b[43m,\u001b[49m\n\u001b[1;32m   3965\u001b[0m \u001b[43m        \u001b[49m\u001b[38;5;241;43m*\u001b[39;49m\u001b[38;5;241;43m*\u001b[39;49m\u001b[43mkwargs\u001b[49m\u001b[43m,\u001b[49m\n\u001b[1;32m   3966\u001b[0m \u001b[43m    \u001b[49m\u001b[43m)\u001b[49m\n\u001b[1;32m   3967\u001b[0m \u001b[38;5;28;01melse\u001b[39;00m:\n\u001b[1;32m   3968\u001b[0m     \u001b[38;5;28;01mraise\u001b[39;00m \u001b[38;5;167;01mTypeError\u001b[39;00m(\n\u001b[1;32m   3969\u001b[0m         \u001b[38;5;124m\"\u001b[39m\u001b[38;5;124mCannot invoke a coroutine function synchronously.\u001b[39m\u001b[38;5;124m\"\u001b[39m\n\u001b[1;32m   3970\u001b[0m         \u001b[38;5;124m\"\u001b[39m\u001b[38;5;124mUse `ainvoke` instead.\u001b[39m\u001b[38;5;124m\"\u001b[39m\n\u001b[1;32m   3971\u001b[0m     )\n",
      "File \u001b[0;32m~/Documents/VSCode/langgraph-multi-agent/venv/lib/python3.10/site-packages/langchain_core/runnables/base.py:1625\u001b[0m, in \u001b[0;36mRunnable._call_with_config\u001b[0;34m(self, func, input, config, run_type, **kwargs)\u001b[0m\n\u001b[1;32m   1621\u001b[0m     context \u001b[38;5;241m=\u001b[39m copy_context()\n\u001b[1;32m   1622\u001b[0m     context\u001b[38;5;241m.\u001b[39mrun(var_child_runnable_config\u001b[38;5;241m.\u001b[39mset, child_config)\n\u001b[1;32m   1623\u001b[0m     output \u001b[38;5;241m=\u001b[39m cast(\n\u001b[1;32m   1624\u001b[0m         Output,\n\u001b[0;32m-> 1625\u001b[0m         \u001b[43mcontext\u001b[49m\u001b[38;5;241;43m.\u001b[39;49m\u001b[43mrun\u001b[49m\u001b[43m(\u001b[49m\n\u001b[1;32m   1626\u001b[0m \u001b[43m            \u001b[49m\u001b[43mcall_func_with_variable_args\u001b[49m\u001b[43m,\u001b[49m\u001b[43m  \u001b[49m\u001b[38;5;66;43;03m# type: ignore[arg-type]\u001b[39;49;00m\n\u001b[1;32m   1627\u001b[0m \u001b[43m            \u001b[49m\u001b[43mfunc\u001b[49m\u001b[43m,\u001b[49m\u001b[43m  \u001b[49m\u001b[38;5;66;43;03m# type: ignore[arg-type]\u001b[39;49;00m\n\u001b[1;32m   1628\u001b[0m \u001b[43m            \u001b[49m\u001b[38;5;28;43minput\u001b[39;49m\u001b[43m,\u001b[49m\u001b[43m  \u001b[49m\u001b[38;5;66;43;03m# type: ignore[arg-type]\u001b[39;49;00m\n\u001b[1;32m   1629\u001b[0m \u001b[43m            \u001b[49m\u001b[43mconfig\u001b[49m\u001b[43m,\u001b[49m\n\u001b[1;32m   1630\u001b[0m \u001b[43m            \u001b[49m\u001b[43mrun_manager\u001b[49m\u001b[43m,\u001b[49m\n\u001b[1;32m   1631\u001b[0m \u001b[43m            \u001b[49m\u001b[38;5;241;43m*\u001b[39;49m\u001b[38;5;241;43m*\u001b[39;49m\u001b[43mkwargs\u001b[49m\u001b[43m,\u001b[49m\n\u001b[1;32m   1632\u001b[0m \u001b[43m        \u001b[49m\u001b[43m)\u001b[49m,\n\u001b[1;32m   1633\u001b[0m     )\n\u001b[1;32m   1634\u001b[0m \u001b[38;5;28;01mexcept\u001b[39;00m \u001b[38;5;167;01mBaseException\u001b[39;00m \u001b[38;5;28;01mas\u001b[39;00m e:\n\u001b[1;32m   1635\u001b[0m     run_manager\u001b[38;5;241m.\u001b[39mon_chain_error(e)\n",
      "File \u001b[0;32m~/Documents/VSCode/langgraph-multi-agent/venv/lib/python3.10/site-packages/langchain_core/runnables/config.py:347\u001b[0m, in \u001b[0;36mcall_func_with_variable_args\u001b[0;34m(func, input, config, run_manager, **kwargs)\u001b[0m\n\u001b[1;32m    345\u001b[0m \u001b[38;5;28;01mif\u001b[39;00m run_manager \u001b[38;5;129;01mis\u001b[39;00m \u001b[38;5;129;01mnot\u001b[39;00m \u001b[38;5;28;01mNone\u001b[39;00m \u001b[38;5;129;01mand\u001b[39;00m accepts_run_manager(func):\n\u001b[1;32m    346\u001b[0m     kwargs[\u001b[38;5;124m\"\u001b[39m\u001b[38;5;124mrun_manager\u001b[39m\u001b[38;5;124m\"\u001b[39m] \u001b[38;5;241m=\u001b[39m run_manager\n\u001b[0;32m--> 347\u001b[0m \u001b[38;5;28;01mreturn\u001b[39;00m \u001b[43mfunc\u001b[49m\u001b[43m(\u001b[49m\u001b[38;5;28;43minput\u001b[39;49m\u001b[43m,\u001b[49m\u001b[43m \u001b[49m\u001b[38;5;241;43m*\u001b[39;49m\u001b[38;5;241;43m*\u001b[39;49m\u001b[43mkwargs\u001b[49m\u001b[43m)\u001b[49m\n",
      "File \u001b[0;32m~/Documents/VSCode/langgraph-multi-agent/venv/lib/python3.10/site-packages/langchain_core/runnables/base.py:3835\u001b[0m, in \u001b[0;36mRunnableLambda._invoke\u001b[0;34m(self, input, run_manager, config, **kwargs)\u001b[0m\n\u001b[1;32m   3833\u001b[0m                 output \u001b[38;5;241m=\u001b[39m chunk\n\u001b[1;32m   3834\u001b[0m \u001b[38;5;28;01melse\u001b[39;00m:\n\u001b[0;32m-> 3835\u001b[0m     output \u001b[38;5;241m=\u001b[39m \u001b[43mcall_func_with_variable_args\u001b[49m\u001b[43m(\u001b[49m\n\u001b[1;32m   3836\u001b[0m \u001b[43m        \u001b[49m\u001b[38;5;28;43mself\u001b[39;49m\u001b[38;5;241;43m.\u001b[39;49m\u001b[43mfunc\u001b[49m\u001b[43m,\u001b[49m\u001b[43m \u001b[49m\u001b[38;5;28;43minput\u001b[39;49m\u001b[43m,\u001b[49m\u001b[43m \u001b[49m\u001b[43mconfig\u001b[49m\u001b[43m,\u001b[49m\u001b[43m \u001b[49m\u001b[43mrun_manager\u001b[49m\u001b[43m,\u001b[49m\u001b[43m \u001b[49m\u001b[38;5;241;43m*\u001b[39;49m\u001b[38;5;241;43m*\u001b[39;49m\u001b[43mkwargs\u001b[49m\n\u001b[1;32m   3837\u001b[0m \u001b[43m    \u001b[49m\u001b[43m)\u001b[49m\n\u001b[1;32m   3838\u001b[0m \u001b[38;5;66;03m# If the output is a runnable, invoke it\u001b[39;00m\n\u001b[1;32m   3839\u001b[0m \u001b[38;5;28;01mif\u001b[39;00m \u001b[38;5;28misinstance\u001b[39m(output, Runnable):\n",
      "File \u001b[0;32m~/Documents/VSCode/langgraph-multi-agent/venv/lib/python3.10/site-packages/langchain_core/runnables/config.py:347\u001b[0m, in \u001b[0;36mcall_func_with_variable_args\u001b[0;34m(func, input, config, run_manager, **kwargs)\u001b[0m\n\u001b[1;32m    345\u001b[0m \u001b[38;5;28;01mif\u001b[39;00m run_manager \u001b[38;5;129;01mis\u001b[39;00m \u001b[38;5;129;01mnot\u001b[39;00m \u001b[38;5;28;01mNone\u001b[39;00m \u001b[38;5;129;01mand\u001b[39;00m accepts_run_manager(func):\n\u001b[1;32m    346\u001b[0m     kwargs[\u001b[38;5;124m\"\u001b[39m\u001b[38;5;124mrun_manager\u001b[39m\u001b[38;5;124m\"\u001b[39m] \u001b[38;5;241m=\u001b[39m run_manager\n\u001b[0;32m--> 347\u001b[0m \u001b[38;5;28;01mreturn\u001b[39;00m \u001b[43mfunc\u001b[49m\u001b[43m(\u001b[49m\u001b[38;5;28;43minput\u001b[39;49m\u001b[43m,\u001b[49m\u001b[43m \u001b[49m\u001b[38;5;241;43m*\u001b[39;49m\u001b[38;5;241;43m*\u001b[39;49m\u001b[43mkwargs\u001b[49m\u001b[43m)\u001b[49m\n",
      "Cell \u001b[0;32mIn[2], line 28\u001b[0m, in \u001b[0;36mextract_text_between_markers\u001b[0;34m(text)\u001b[0m\n\u001b[1;32m     26\u001b[0m pattern \u001b[38;5;241m=\u001b[39m re\u001b[38;5;241m.\u001b[39mcompile(\u001b[38;5;124mf\u001b[39m\u001b[38;5;124m'\u001b[39m\u001b[38;5;132;01m{\u001b[39;00mre\u001b[38;5;241m.\u001b[39mescape(start_marker)\u001b[38;5;132;01m}\u001b[39;00m\u001b[38;5;124m(.*?)\u001b[39m\u001b[38;5;132;01m{\u001b[39;00mre\u001b[38;5;241m.\u001b[39mescape(end_marker)\u001b[38;5;132;01m}\u001b[39;00m\u001b[38;5;124m'\u001b[39m, re\u001b[38;5;241m.\u001b[39mDOTALL)\n\u001b[1;32m     27\u001b[0m matches \u001b[38;5;241m=\u001b[39m pattern\u001b[38;5;241m.\u001b[39mfindall(text\u001b[38;5;241m.\u001b[39mcontent)\n\u001b[0;32m---> 28\u001b[0m \u001b[38;5;28;01mreturn\u001b[39;00m \u001b[43mmatches\u001b[49m\u001b[43m[\u001b[49m\u001b[38;5;241;43m0\u001b[39;49m\u001b[43m]\u001b[49m\n",
      "\u001b[0;31mIndexError\u001b[0m: list index out of range"
     ]
    }
   ],
   "source": [
    "messages.append(AIMessage(content=f'The previous step completed successfully with the following code:\\n\\n```python\\n{code}\\n```\\n\\nHere was the result: {result}'))\n",
    "messages.append(HumanMessage(content='Does this result give you the information needed to solve solve the task?'))\n",
    "\n"
   ]
  },
  {
   "cell_type": "code",
   "execution_count": 50,
   "metadata": {},
   "outputs": [],
   "source": [
    "answer_chain = convert_prompt_template | llm \n",
    "# invoke convert chain\n",
    "answer = answer_chain.invoke({'messages':messages, 'step':step, 'plan':text.plan, 'function_detail':text.function_detail, 'task':text.task}) # , 'function_detail_str': function_detail"
   ]
  },
  {
   "cell_type": "code",
   "execution_count": 51,
   "metadata": {},
   "outputs": [
    {
     "name": "stdout",
     "output_type": "stream",
     "text": [
      "content=\"Yes, this result provides the information needed to solve the task of finding the 3 pitchers whose curveballs were most similar to Max Scherzer's during the first week of August 2020.\\n\\nThe output shows the MLBAM player IDs of the 3 pitchers whose curveball metrics (release speed, spin rate, horizontal and vertical movement) were closest to Scherzer's based on the k-nearest neighbors analysis.\\n\\nTo get the actual names of these 3 pitchers, we could use the playerid_lookup function again, passing in each of those 3 IDs.\\n\\nSo this code has successfully identified the 3 most similar curveball pitchers to Max Scherzer during that timeframe using the statcast and player lookup data from the pybaseball library combined with k-nearest neighbors from scikit-learn.\" response_metadata={'model_id': 'anthropic.claude-3-sonnet-20240229-v1:0', 'usage': {'prompt_tokens': 8616, 'completion_tokens': 191, 'total_tokens': 8807}} id='run-7aa54d03-bb76-4823-92ee-13737cf39c2c-0'\n"
     ]
    }
   ],
   "source": [
    "print(answer)"
   ]
  },
  {
   "cell_type": "code",
   "execution_count": null,
   "metadata": {},
   "outputs": [],
   "source": []
  },
  {
   "cell_type": "code",
   "execution_count": null,
   "metadata": {},
   "outputs": [],
   "source": [
    "messages = "
   ]
  },
  {
   "cell_type": "code",
   "execution_count": 47,
   "metadata": {},
   "outputs": [
    {
     "data": {
      "text/plain": [
       "[HumanMessage(content=\"Here is the next step of the plan.  Convert this step into code that can be executed in a Python REPL.\\n\\n1. Get all pitch data from 2020-08-01 to 2020-08-07:\\nall_pitches = statcast('2020-08-01', '2020-08-07')\"),\n",
       " AIMessage(content=\"The previous step completed successfully with the following code:\\n\\n```python\\n\\n# Import the statcast function from pybaseball\\nfrom pybaseball import statcast\\n\\n# Get all pitch data from August 1st to August 7th, 2020\\nall_pitches = statcast('2020-08-01', '2020-08-07')\\n\\n```\\n\\nHere was the result: This is a large query, it may take a moment to complete\\n\"),\n",
       " HumanMessage(content=\"Here is the next step of the plan.  Convert this step into code that can be executed in a Python REPL.\\n\\n2. Filter for just curveballs:\\nall_curves = all_pitches[all_pitches['pitch_type'] == 'CU']\"),\n",
       " AIMessage(content=\"The previous step completed successfully with the following code:\\n\\n```python\\n\\n# Filter the all_pitches dataframe to only include curveballs\\nall_curves = all_pitches[all_pitches['pitch_type'] == 'CU']\\n\\n```\\n\\nHere was the result: \"),\n",
       " HumanMessage(content=\"Here is the next step of the plan.  Convert this step into code that can be executed in a Python REPL.\\n\\n3. Create a feature vector for each pitcher's curveballs:\\npitcher_curves = all_curves.groupby('pitcher')\\npitcher_features = pitcher_curves[['release_speed', 'release_spin', 'pfx_x', 'pfx_z']].mean().reset_index()\"),\n",
       " AIMessage(content='The previous step reached an error with the following code:\\n\\n```python\\n\\n# Group the curveball data by pitcher\\npitcher_curves = all_curves.groupby(\\'pitcher\\')\\n\\n# For each pitcher, take the mean of the release_speed, release_spin, pfx_x, and pfx_z columns\\n# This creates a feature vector summarizing each pitcher\\'s curveballs\\npitcher_features = pitcher_curves[[\\'release_speed\\', \\'release_spin\\', \\'pfx_x\\', \\'pfx_z\\']].mean().reset_index()\\n\\n```\\n\\nHere was the error: KeyError(\"Columns not found: \\'release_spin\\'\")'),\n",
       " HumanMessage(content='What information would be useful in order to troubleshoot this error?  Write Python code that can be executed in a python repl to confirm this information.'),\n",
       " AIMessage(content=\"The following code was executed to help troubleshoot this error:\\n\\n```python\\n\\nprint(all_curves.columns)\\n\\n```\\n\\nHere is the result:\\n\\nIndex(['pitch_type', 'game_date', 'release_speed', 'release_pos_x',\\n       'release_pos_z', 'player_name', 'batter', 'pitcher', 'events',\\n       'description', 'spin_dir', 'spin_rate_deprecated',\\n       'break_angle_deprecated', 'break_length_deprecated', 'zone', 'des',\\n       'game_type', 'stand', 'p_throws', 'home_team', 'away_team', 'type',\\n       'hit_location', 'bb_type', 'balls', 'strikes', 'game_year', 'pfx_x',\\n       'pfx_z', 'plate_x', 'plate_z', 'on_3b', 'on_2b', 'on_1b',\\n       'outs_when_up', 'inning', 'inning_topbot', 'hc_x', 'hc_y',\\n       'tfs_deprecated', 'tfs_zulu_deprecated', 'fielder_2', 'umpire', 'sv_id',\\n       'vx0', 'vy0', 'vz0', 'ax', 'ay', 'az', 'sz_top', 'sz_bot',\\n       'hit_distance_sc', 'launch_speed', 'launch_angle', 'effective_speed',\\n       'release_spin_rate', 'release_extension', 'game_pk', 'pitcher.1',\\n       'fielder_2.1', 'fielder_3', 'fielder_4', 'fielder_5', 'fielder_6',\\n       'fielder_7', 'fielder_8', 'fielder_9', 'release_pos_y',\\n       'estimated_ba_using_speedangle', 'estimated_woba_using_speedangle',\\n       'woba_value', 'woba_denom', 'babip_value', 'iso_value',\\n       'launch_speed_angle', 'at_bat_number', 'pitch_number', 'pitch_name',\\n       'home_score', 'away_score', 'bat_score', 'fld_score', 'post_away_score',\\n       'post_home_score', 'post_bat_score', 'post_fld_score',\\n       'if_fielding_alignment', 'of_fielding_alignment', 'spin_axis',\\n       'delta_home_win_exp', 'delta_run_exp'],\\n      dtype='object')\\n\"),\n",
       " HumanMessage(content=\"Here is the next step of the plan.  Convert this step into code that can be executed in a Python REPL.\\n\\n3. Create a feature vector for each pitcher's curveballs:\\npitcher_curves = all_curves.groupby('pitcher')\\npitcher_features = pitcher_curves[['release_speed', 'release_spin', 'pfx_x', 'pfx_z']].mean().reset_index()\"),\n",
       " AIMessage(content=\"The previous step completed successfully with the following code:\\n\\n```python\\n\\n# Group the curveball data by pitcher \\npitcher_curves = all_curves.groupby('pitcher')\\n\\n# For each pitcher, take the mean of the release_speed, release_spin_rate, pfx_x, and pfx_z columns\\n# This creates a feature vector summarizing each pitcher's curveballs\\npitcher_features = pitcher_curves[['release_speed', 'release_spin_rate', 'pfx_x', 'pfx_z']].mean().reset_index()\\n\\n```\\n\\nHere was the result: \"),\n",
       " HumanMessage(content=\"Here is the next step of the plan.  Convert this step into code that can be executed in a Python REPL.\\n\\n4. Get Max Scherzer's player ID:\\nfrom pybaseball import playerid_lookup\\nscherzer_id = playerid_lookup('scherzer', 'max')['key_mlbam'][0]\"),\n",
       " AIMessage(content=\"The previous step completed successfully with the following code:\\n\\n```python\\n\\n# Import the playerid_lookup function\\nfrom pybaseball import playerid_lookup\\n\\n# Get Max Scherzer's MLBAM player ID\\nscherzer_id = playerid_lookup('scherzer', 'max')['key_mlbam'][0]\\n\\n```\\n\\nHere was the result: Gathering player lookup table. This may take a moment.\\n\"),\n",
       " HumanMessage(content=\"Here is the next step of the plan.  Convert this step into code that can be executed in a Python REPL.\\n\\n5. Get Scherzer's feature vector:\\nscherzer_features = pitcher_features[pitcher_features['pitcher'] == scherzer_id]\"),\n",
       " AIMessage(content=\"The previous step completed successfully with the following code:\\n\\n```python\\n\\n# Filter the pitcher_features dataframe to only include Max Scherzer's row\\nscherzer_features = pitcher_features[pitcher_features['pitcher'] == scherzer_id]\\n\\n```\\n\\nHere was the result: \"),\n",
       " HumanMessage(content=\"Here is the next step of the plan.  Convert this step into code that can be executed in a Python REPL.\\n\\n6. Import scikit-learn and create a knn model:\\nfrom sklearn.neighbors import NearestNeighbors\\nknn = NearestNeighbors(n_neighbors=4)\\nknn.fit(pitcher_features[['release_speed', 'release_spin', 'pfx_x', 'pfx_z']])\"),\n",
       " AIMessage(content=\"The previous step completed successfully with the following code:\\n\\n```python\\n\\n# Import the NearestNeighbors class\\nfrom sklearn.neighbors import NearestNeighbors  \\n\\n# Create a kNN model to find the 4 nearest neighbors\\nknn = NearestNeighbors(n_neighbors=4)\\n\\n# Fit the kNN model on the feature vectors\\nknn.fit(pitcher_features[['release_speed', 'release_spin_rate', 'pfx_x', 'pfx_z']]) \\n\\n```\\n\\nHere was the result: \"),\n",
       " HumanMessage(content=\"Here is the next step of the plan.  Convert this step into code that can be executed in a Python REPL.\\n\\n7. Find the 3 pitchers closest to Scherzer:\\ndistances, indices = knn.kneighbors(scherzer_features[['release_speed', 'release_spin', 'pfx_x', 'pfx_z']])\\nclosest_indices = indices[0][1:4]\\nsimilar_pitchers = pitcher_features.iloc[closest_indices]\\nprint(similar_pitchers[['pitcher']])'''\")]"
      ]
     },
     "execution_count": 47,
     "metadata": {},
     "output_type": "execute_result"
    }
   ],
   "source": [
    "messages"
   ]
  },
  {
   "cell_type": "code",
   "execution_count": 49,
   "metadata": {},
   "outputs": [
    {
     "data": {
      "text/plain": [
       "[HumanMessage(content=\"Here is the next step of the plan.  Convert this step into code that can be executed in a Python REPL.\\n\\n1. Get all pitch data from 2020-08-01 to 2020-08-07:\\nall_pitches = statcast('2020-08-01', '2020-08-07')\"),\n",
       " AIMessage(content=\"The previous step completed successfully with the following code:\\n\\n```python\\n\\n# Import the statcast function from pybaseball\\nfrom pybaseball import statcast\\n\\n# Get all pitch data from August 1st to August 7th, 2020\\nall_pitches = statcast('2020-08-01', '2020-08-07')\\n\\n```\\n\\nHere was the result: This is a large query, it may take a moment to complete\\n\"),\n",
       " HumanMessage(content=\"Here is the next step of the plan.  Convert this step into code that can be executed in a Python REPL.\\n\\n2. Filter for just curveballs:\\nall_curves = all_pitches[all_pitches['pitch_type'] == 'CU']\"),\n",
       " AIMessage(content=\"The previous step completed successfully with the following code:\\n\\n```python\\n\\n# Filter the all_pitches dataframe to only include curveballs\\nall_curves = all_pitches[all_pitches['pitch_type'] == 'CU']\\n\\n```\\n\\nHere was the result: \"),\n",
       " HumanMessage(content=\"Here is the next step of the plan.  Convert this step into code that can be executed in a Python REPL.\\n\\n3. Create a feature vector for each pitcher's curveballs:\\npitcher_curves = all_curves.groupby('pitcher')\\npitcher_features = pitcher_curves[['release_speed', 'release_spin', 'pfx_x', 'pfx_z']].mean().reset_index()\"),\n",
       " AIMessage(content='The previous step reached an error with the following code:\\n\\n```python\\n\\n# Group the curveball data by pitcher\\npitcher_curves = all_curves.groupby(\\'pitcher\\')\\n\\n# For each pitcher, take the mean of the release_speed, release_spin, pfx_x, and pfx_z columns\\n# This creates a feature vector summarizing each pitcher\\'s curveballs\\npitcher_features = pitcher_curves[[\\'release_speed\\', \\'release_spin\\', \\'pfx_x\\', \\'pfx_z\\']].mean().reset_index()\\n\\n```\\n\\nHere was the error: KeyError(\"Columns not found: \\'release_spin\\'\")'),\n",
       " HumanMessage(content='What information would be useful in order to troubleshoot this error?  Write Python code that can be executed in a python repl to confirm this information.'),\n",
       " AIMessage(content=\"The following code was executed to help troubleshoot this error:\\n\\n```python\\n\\nprint(all_curves.columns)\\n\\n```\\n\\nHere is the result:\\n\\nIndex(['pitch_type', 'game_date', 'release_speed', 'release_pos_x',\\n       'release_pos_z', 'player_name', 'batter', 'pitcher', 'events',\\n       'description', 'spin_dir', 'spin_rate_deprecated',\\n       'break_angle_deprecated', 'break_length_deprecated', 'zone', 'des',\\n       'game_type', 'stand', 'p_throws', 'home_team', 'away_team', 'type',\\n       'hit_location', 'bb_type', 'balls', 'strikes', 'game_year', 'pfx_x',\\n       'pfx_z', 'plate_x', 'plate_z', 'on_3b', 'on_2b', 'on_1b',\\n       'outs_when_up', 'inning', 'inning_topbot', 'hc_x', 'hc_y',\\n       'tfs_deprecated', 'tfs_zulu_deprecated', 'fielder_2', 'umpire', 'sv_id',\\n       'vx0', 'vy0', 'vz0', 'ax', 'ay', 'az', 'sz_top', 'sz_bot',\\n       'hit_distance_sc', 'launch_speed', 'launch_angle', 'effective_speed',\\n       'release_spin_rate', 'release_extension', 'game_pk', 'pitcher.1',\\n       'fielder_2.1', 'fielder_3', 'fielder_4', 'fielder_5', 'fielder_6',\\n       'fielder_7', 'fielder_8', 'fielder_9', 'release_pos_y',\\n       'estimated_ba_using_speedangle', 'estimated_woba_using_speedangle',\\n       'woba_value', 'woba_denom', 'babip_value', 'iso_value',\\n       'launch_speed_angle', 'at_bat_number', 'pitch_number', 'pitch_name',\\n       'home_score', 'away_score', 'bat_score', 'fld_score', 'post_away_score',\\n       'post_home_score', 'post_bat_score', 'post_fld_score',\\n       'if_fielding_alignment', 'of_fielding_alignment', 'spin_axis',\\n       'delta_home_win_exp', 'delta_run_exp'],\\n      dtype='object')\\n\"),\n",
       " HumanMessage(content=\"Here is the next step of the plan.  Convert this step into code that can be executed in a Python REPL.\\n\\n3. Create a feature vector for each pitcher's curveballs:\\npitcher_curves = all_curves.groupby('pitcher')\\npitcher_features = pitcher_curves[['release_speed', 'release_spin', 'pfx_x', 'pfx_z']].mean().reset_index()\"),\n",
       " AIMessage(content=\"The previous step completed successfully with the following code:\\n\\n```python\\n\\n# Group the curveball data by pitcher \\npitcher_curves = all_curves.groupby('pitcher')\\n\\n# For each pitcher, take the mean of the release_speed, release_spin_rate, pfx_x, and pfx_z columns\\n# This creates a feature vector summarizing each pitcher's curveballs\\npitcher_features = pitcher_curves[['release_speed', 'release_spin_rate', 'pfx_x', 'pfx_z']].mean().reset_index()\\n\\n```\\n\\nHere was the result: \"),\n",
       " HumanMessage(content=\"Here is the next step of the plan.  Convert this step into code that can be executed in a Python REPL.\\n\\n4. Get Max Scherzer's player ID:\\nfrom pybaseball import playerid_lookup\\nscherzer_id = playerid_lookup('scherzer', 'max')['key_mlbam'][0]\"),\n",
       " AIMessage(content=\"The previous step completed successfully with the following code:\\n\\n```python\\n\\n# Import the playerid_lookup function\\nfrom pybaseball import playerid_lookup\\n\\n# Get Max Scherzer's MLBAM player ID\\nscherzer_id = playerid_lookup('scherzer', 'max')['key_mlbam'][0]\\n\\n```\\n\\nHere was the result: Gathering player lookup table. This may take a moment.\\n\"),\n",
       " HumanMessage(content=\"Here is the next step of the plan.  Convert this step into code that can be executed in a Python REPL.\\n\\n5. Get Scherzer's feature vector:\\nscherzer_features = pitcher_features[pitcher_features['pitcher'] == scherzer_id]\"),\n",
       " AIMessage(content=\"The previous step completed successfully with the following code:\\n\\n```python\\n\\n# Filter the pitcher_features dataframe to only include Max Scherzer's row\\nscherzer_features = pitcher_features[pitcher_features['pitcher'] == scherzer_id]\\n\\n```\\n\\nHere was the result: \"),\n",
       " HumanMessage(content=\"Here is the next step of the plan.  Convert this step into code that can be executed in a Python REPL.\\n\\n6. Import scikit-learn and create a knn model:\\nfrom sklearn.neighbors import NearestNeighbors\\nknn = NearestNeighbors(n_neighbors=4)\\nknn.fit(pitcher_features[['release_speed', 'release_spin', 'pfx_x', 'pfx_z']])\"),\n",
       " AIMessage(content=\"The previous step completed successfully with the following code:\\n\\n```python\\n\\n# Import the NearestNeighbors class\\nfrom sklearn.neighbors import NearestNeighbors  \\n\\n# Create a kNN model to find the 4 nearest neighbors\\nknn = NearestNeighbors(n_neighbors=4)\\n\\n# Fit the kNN model on the feature vectors\\nknn.fit(pitcher_features[['release_speed', 'release_spin_rate', 'pfx_x', 'pfx_z']]) \\n\\n```\\n\\nHere was the result: \"),\n",
       " HumanMessage(content=\"Here is the next step of the plan.  Convert this step into code that can be executed in a Python REPL.\\n\\n7. Find the 3 pitchers closest to Scherzer:\\ndistances, indices = knn.kneighbors(scherzer_features[['release_speed', 'release_spin', 'pfx_x', 'pfx_z']])\\nclosest_indices = indices[0][1:4]\\nsimilar_pitchers = pitcher_features.iloc[closest_indices]\\nprint(similar_pitchers[['pitcher']])'''\"),\n",
       " AIMessage(content=\"The previous step completed successfully with the following code:\\n\\n```python\\n\\n\\n# Find the distances and indices of the nearest neighbors to Scherzer\\ndistances, indices = knn.kneighbors(scherzer_features[['release_speed', 'release_spin_rate', 'pfx_x', 'pfx_z']])\\n\\n# Get the indices of the 2nd, 3rd, and 4th closest pitchers (since 1st is Scherzer himself)\\nclosest_indices = indices[0][1:4]  \\n\\n# Use those indices to get the rows for the similar pitchers\\nsimilar_pitchers = pitcher_features.iloc[closest_indices]\\n\\n# Print out just the pitcher column which contains the player IDs\\nprint(similar_pitchers[['pitcher']]) \\n\\n\\n```\\n\\nHere was the result:      pitcher\\n85    593833\\n199   664285\\n122   608331\\n\"),\n",
       " HumanMessage(content='Does this result give you the information needed to solve solve the task?')]"
      ]
     },
     "execution_count": 49,
     "metadata": {},
     "output_type": "execute_result"
    }
   ],
   "source": [
    "messages"
   ]
  },
  {
   "cell_type": "code",
   "execution_count": null,
   "metadata": {},
   "outputs": [],
   "source": []
  }
 ],
 "metadata": {
  "kernelspec": {
   "display_name": "venv",
   "language": "python",
   "name": "python3"
  },
  "language_info": {
   "codemirror_mode": {
    "name": "ipython",
    "version": 3
   },
   "file_extension": ".py",
   "mimetype": "text/x-python",
   "name": "python",
   "nbconvert_exporter": "python",
   "pygments_lexer": "ipython3",
   "version": "3.10.8"
  }
 },
 "nbformat": 4,
 "nbformat_minor": 2
}
