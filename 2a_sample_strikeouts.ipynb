{
 "cells": [
  {
   "cell_type": "code",
   "execution_count": 1,
   "id": "7c01b355-66d2-40e0-92a4-c4553a8d2edd",
   "metadata": {
    "tags": []
   },
   "outputs": [
    {
     "name": "stderr",
     "output_type": "stream",
     "text": [
      "Python REPL can execute arbitrary code. Use with caution.\n"
     ]
    }
   ],
   "source": [
    "# general\n",
    "from datetime import datetime\n",
    "from dotenv import load_dotenv, find_dotenv\n",
    "import os\n",
    "\n",
    "# custom local libs\n",
    "from function import baseball_lambda"
   ]
  },
  {
   "cell_type": "code",
   "execution_count": 2,
   "id": "7a2a54ab",
   "metadata": {},
   "outputs": [],
   "source": [
    "# read local .env file\n",
    "_ = load_dotenv(find_dotenv()) "
   ]
  },
  {
   "cell_type": "code",
   "execution_count": 3,
   "id": "12b6af87",
   "metadata": {},
   "outputs": [],
   "source": [
    "# set Langsmith project\n",
    "today = datetime.now().strftime(\"%Y%m%d\")\n",
    "os.environ[\"LANGCHAIN_PROJECT\"] = f\"Baseball Strikeouts - {today}\""
   ]
  },
  {
   "cell_type": "code",
   "execution_count": 4,
   "id": "6bf9b046",
   "metadata": {},
   "outputs": [],
   "source": [
    "session_id = '078704'"
   ]
  },
  {
   "cell_type": "code",
   "execution_count": 5,
   "id": "3ab7493f",
   "metadata": {},
   "outputs": [
    {
     "name": "stdout",
     "output_type": "stream",
     "text": [
      "{'Orchestrate': {'next': 'Plan'}}\n",
      "----\n",
      "Distance to neareast plan: 0.6613866090774536\n",
      "Formulating a new plan based on User input\n",
      "Collecting metadata for functions playerid_lookup,statcast\n",
      "Modifying plan with function metadata\n",
      "{'Plan': {'messages': [HumanMessage(content=\"\\n1. Use the playerid_lookup function to get the 'key_mlbam' for Danny Duffy:\\n\\nfrom pybaseball import playerid_lookup\\nduffy_id = playerid_lookup('duffy', 'danny')['key_mlbam'].values[0]\\n\\n2. Use the statcast function to get Danny Duffy's pitch-level data for the 2018 season:\\n\\nfrom pybaseball import statcast\\nduffy_2018 = statcast(start_dt='2018-03-01', end_dt='2018-10-31', player_id=duffy_id)\\n\\n3. Filter the data to only include pitches where the 'events' column equals 'strikeout':\\n\\nstrikeouts = duffy_2018[duffy_2018['events'] == 'strikeout']\\n\\n4. Create a new column 'cumsum' that contains the cumulative sum of strikeouts:\\n\\nstrikeouts = strikeouts.sort_values('game_date').reset_index(drop=True)\\nstrikeouts['cumsum'] = strikeouts.groupby(strikeouts.index // 1)['events'].cumsum()\\n\\n5. Plot the 'cumsum' column against the 'game_date' column:\\n\\nimport matplotlib.pyplot as plt\\nplt.figure(figsize=(12, 6))\\nplt.plot(strikeouts['game_date'], strikeouts['cumsum'])\\nplt.xlabel('Game Date')\\nplt.ylabel('Cumulative Strikeouts')\\nplt.title('Danny Duffy 2018 Cumulative Strikeouts')\\nplt.show()\\n\\n\\nAre you satisfied with this plan?\")], 'task': 'Plot the cumulative sum of strikeouts thrown by Danny Duffy in the 2018 season.', 'plan': \"\\n1. Use the playerid_lookup function to get the 'key_mlbam' for Danny Duffy:\\n\\nfrom pybaseball import playerid_lookup\\nduffy_id = playerid_lookup('duffy', 'danny')['key_mlbam'].values[0]\\n\\n2. Use the statcast function to get Danny Duffy's pitch-level data for the 2018 season:\\n\\nfrom pybaseball import statcast\\nduffy_2018 = statcast(start_dt='2018-03-01', end_dt='2018-10-31', player_id=duffy_id)\\n\\n3. Filter the data to only include pitches where the 'events' column equals 'strikeout':\\n\\nstrikeouts = duffy_2018[duffy_2018['events'] == 'strikeout']\\n\\n4. Create a new column 'cumsum' that contains the cumulative sum of strikeouts:\\n\\nstrikeouts = strikeouts.sort_values('game_date').reset_index(drop=True)\\nstrikeouts['cumsum'] = strikeouts.groupby(strikeouts.index // 1)['events'].cumsum()\\n\\n5. Plot the 'cumsum' column against the 'game_date' column:\\n\\nimport matplotlib.pyplot as plt\\nplt.figure(figsize=(12, 6))\\nplt.plot(strikeouts['game_date'], strikeouts['cumsum'])\\nplt.xlabel('Game Date')\\nplt.ylabel('Cumulative Strikeouts')\\nplt.title('Danny Duffy 2018 Cumulative Strikeouts')\\nplt.show()\\n\\n\\nAre you satisfied with this plan?\", 'previous_node': 'Plan', 'function_detail': 'Text between the <playerid_lookup_documentation></playerid_lookup_documentation> tags is documentation for the playerid_lookup function.\\n<playerid_lookup_documentation>\\n# Player ID Lookup\\n\\n## Single Player Lookup\\n\\n`playerid_lookup(last, first=None, fuzzy=False)`\\n\\nLook up a player\\'s MLBAM, Retrosheet, FanGraphs, and Baseball Reference ID by name.\\n\\n## Arguments\\n`last:` String. The player\\'s last name. Case insensitive.\\n\\n`first:` String. Optional. The player\\'s first name. Case insensitive.\\n\\n`fuzzy:` Boolean. Optional. Search for inexact name matches, the 5 closest will be returned.\\n\\nProviding last name only will return all available id data for players with that last name (this will return several rows for a common last name like Jones, for example.) If multiple players exist for a (last name, first name) pair, you can figure out who\\'s who by seeing their first and last years of play in the fields `mlb_played_first` and `mlb_played_last`.\\n\\nThis data comes from Chadwick Bureau, meaning that there are several people in this data who are not MLB players. For this reason, supplying both last and first name is recommended to narrow your search. \\n\\n## Examples of valid queries\\n\\n```python\\nfrom pybaseball import playerid_lookup\\n\\n# find the ids of all players with last name Jones (returns 1,314 rows)\\ndata = playerid_lookup(\\'jones\\')\\n\\n# only return the ids of chipper jones (returns one row)\\ndata = playerid_lookup(\\'jones\\',\\'chipper\\')\\n\\n# Will return all players named Pedro Martinez (returns *2* rows)\\ndata = playerid_lookup(\"martinez\", \"pedro\", fuzzy=True)\\n\\n# Will return the 5 closest names to \"yadi molina\" (returns 5 rows)\\n# First row will be Yadier Molina\\ndata = playerid_lookup(\"molina\", \"yadi\", fuzzy=True)\\n```\\n\\n## List Lookup\\n\\n`player_search_list(player_list)`\\n\\nLook up a list of player ID\\'s by name, return a data frame of all players\\n\\n`player_list:` List. A list of tuples, of the form `(last, first)`. Case Insensitive.\\n\\nSources are the same as those used in the above `playerid_lookup` function. Queries for this function must be exact name matches.\\n\\n## Examples of valid queries\\n\\n```python\\n\\nfrom pybaseball import player_search_list\\n\\n# Will return the ids for both Lou Brock and Chipper Jones (returns 2 rows)\\ndata = player_search_list([(\"brock\",\"lou\"), (\"jones\",\"chipper\")])\\n\\n```\\n</playerid_lookup_documentation>Text between the <playerid_lookup_dictionary></playerid_lookup_dictionary> tags is the data dictionary for the playerid_lookup function.\\n<playerid_lookup_dictionary>\\n\\nname_last: player\\'s last name\\nname_first: player\\'s first name\\nkey_mlbam: MLB Advanced Media ID\\nkey_retro: MLB Retrosheet ID\\nkey_bbref: MLB Baseball Reference ID\\nkey_fangraphs: MLB FanGraphs ID\\nmlb_played_first: first season played by the player\\nmlb_played_last: last season played by the player\\n</playerid_lookup_dictionary>Text between the <statcast_documentation></statcast_documentation> tags is documentation for the statcast function.\\n<statcast_documentation>\\n# Statcast\\n`statcast(start_dt=[yesterday\\'s date], end_dt=None, team=None, verbose=True, parallel=True)`\\n\\nThe `statcast` function retrieves pitch-level statcast data for a given date or range or dates. \\n\\n## Returned data\\nThis function returns a pandas `DataFrame` with one entry for each pitch in the\\nquery. The data returned for each pitch is explained on\\n[Baseball Savant](https://baseballsavant.mlb.com/csv-docs).\\n\\n## Arguments\\n`start_dt:` first day for which you want to retrieve data. Defaults to yesterday\\'s date if nothing is entered. If you only want data for one date, supply a `start_dt` value but not an `end_dt` value. Format: YYYY-MM-DD. \\n\\n`end_dt:` last day for which you want to retrieve data. Defaults to None. If you want to retrieve data for more than one day, both a `start_dt` and `end_dt` value must be given. Format: YYYY-MM-DD. \\n\\n`team:` optional. If you only want statcast data for one team, supply that team\\'s abbreviation here (i.e. BOS, SEA, NYY, etc).\\n\\n`verbose:` Boolean, default=True. If set to True this will provide updates on query progress, if set to False it will not. \\n\\n`parallel:` Boolean, default=True. Whether to parallelize HTTP requests in large queries.\\n\\n### A note on data availability \\nThe earliest available statcast data comes from the 2008 season when the system was first introduced to Major League Baseball. Queries before this year will not work. Further, some features were introduced after the 2008 season. Launch speed angle, for example, is only available from the 2015 season forward. \\n\\n### A note on query time\\nBaseball savant limits queries to 30000 rows each. For this reason, if your request is for a period of greater than 5 days, it will be broken into two or more smaller requests. The data will still be returned to you in a single dataframe, but it will take slightly longer. \\n\\n### A note on parallelization\\nLarge queries with requests made in parallel complete substantially faster. This option exists to accommodate compute environments where multiprocessing is disabled (e.g. some AWS Lambda environments).\\n\\n## Examples of valid queries\\n\\n```python\\nfrom pybaseball import statcast\\n\\n# get all statcast data for July 4th, 2017\\ndata = statcast(\\'2017-07-04\\')\\n\\n#get data for the first seven days of August in 2016\\ndata = statcast(\\'2016-08-01\\', \\'2016-08-07\\')\\n\\n#get all data for the Texas Rangers in the 2016 season\\ndata = statcast(\\'2016-04-01\\', \\'2016-10-30\\', team=\\'TEX\\')\\n\\n# get data for yesterday\\ndata = statcast()```\\n\\n</statcast_documentation>Text between the <statcast_dictionary></statcast_dictionary> tags is the data dictionary for the statcast function.\\n<statcast_dictionary>\\n\\npitch_type\\nThe type of pitch derived from Statcast.\\n\\ngame_date\\nDate of the Game.\\n\\nrelease_speed\\nPitch velocities from 2008-16 are via Pitch F/X, and adjusted to roughly out-of-hand release point. All velocities from 2017 and beyond are Statcast, which are reported out-of-hand.\\n\\nrelease_pos_x\\nHorizontal Release Position of the ball measured in feet from the catcher\\'s perspective.\\n\\nrelease_pos_z\\nVertical Release Position of the ball measured in feet from the catcher\\'s perspective.\\n\\nplayer_name\\nPlayer\\'s name tied to the event of the search formatted as \"Last Name, First Name\"\\n\\nbatter\\nMLB Player Id tied to the play event.\\n\\npitcher\\nMLB Player Id tied to the play event.\\n\\nevents\\nEvent of the resulting Plate Appearance.\\n\\ndescription\\nDescription of the resulting pitch.\\n\\nzone\\nZone location of the ball when it crosses the plate from the catcher\\'s perspective.\\n\\ndes\\nPlate appearance description from game day.\\n\\ngame_type\\nType of Game. E = Exhibition, S = Spring Training, R = Regular Season, F = Wild Card, D = Divisional Series, L = League Championship Series, W = World Series\\n\\nstand\\nSide of the plate batter is standing.\\n\\np_throws\\nHand pitcher throws with.\\n\\nhome_team\\nAbbreviation of home team.\\n\\naway_team\\nAbbreviation of away team.\\n\\ntype\\nShort hand of pitch result. B = ball, S = strike, X = in play.\\n\\nhit_location\\nPosition of first fielder to touch the ball.\\n\\nbb_type\\nBatted ball type, ground_ball, line_drive, fly_ball, popup.\\n\\nballs\\nPre-pitch number of balls in count.\\n\\nstrikes\\nPre-pitch number of strikes in count.\\n\\ngame_year\\nYear game took place.\\n\\npfx_x\\nHorizontal movement in feet from the catcher\\'s perspective.\\n\\npfx_z\\nVertical movement in feet from the catcher\\'s perpsective.\\n\\nplate_x\\nHorizontal position of the ball when it crosses home plate from the catcher\\'s perspective.\\n\\nplate_z\\nVertical position of the ball when it crosses home plate from the catcher\\'s perspective.\\n\\non_3b\\nPre-pitch MLB Player Id of Runner on 3B.\\n\\non_2b\\nPre-pitch MLB Player Id of Runner on 2B.\\n\\non_1b\\nPre-pitch MLB Player Id of Runner on 1B.\\n\\nouts_when_up\\nPre-pitch number of outs.\\n\\ninning\\nPre-pitch inning number.\\n\\ninning_topbot\\nPre-pitch top or bottom of inning.\\n\\nhc_x\\nHit coordinate X of batted ball.\\n\\nhc_y\\nHit coordinate Y of batted ball.\\n\\nsv_id\\nNon-unique Id of play event per game.\\n\\nvx0\\nThe velocity of the pitch, in feet per second, in x-dimension, determined at y=50 feet.\\n\\nvy0\\nThe velocity of the pitch, in feet per second, in y-dimension, determined at y=50 feet.\\n\\nvy0\\nThe velocity of the pitch, in feet per second, in z-dimension, determined at y=50 feet.\\n\\nax\\nThe acceleration of the pitch, in feet per second per second, in x-dimension, determined at y=50 feet.\\n\\nay\\nThe acceleration of the pitch, in feet per second per second, in y-dimension, determined at y=50 feet.\\n\\naz\\nThe acceleration of the pitch, in feet per second per second, in z-dimension, determined at y=50 feet.\\n\\nsz_top\\nTop of the batter\\'s strike zone set by the operator when the ball is halfway to the plate.\\n\\nsz_bot\\nBottom of the batter\\'s strike zone set by the operator when the ball is halfway to the plate.\\n\\nhit_distance\\nProjected hit distance of the batted ball.\\n\\nlaunch_speed\\nExit velocity of the batted ball as tracked by Statcast. For the limited subset of batted balls not tracked directly, estimates are included based on the process described here.\\n\\nlaunch_angle\\nLaunch angle of the batted ball as tracked by Statcast. For the limited subset of batted balls not tracked directly, estimates are included based on the process described here.\\n\\neffective_speed\\nDerived speed based on the the extension of the pitcher\\'s release.\\n\\nrelease_spin\\nSpin rate of pitch tracked by Statcast.\\n\\nrelease_extension\\nRelease extension of pitch in feet as tracked by Statcast.\\n\\ngame_pk\\nUnique Id for Game.\\n\\npitcher\\nMLB Player Id tied to the play event.\\n\\nfielder_2\\nMLB Player Id for catcher.\\n\\nfielder_3\\nMLB Player Id for 1B.\\n\\nfielder_4\\nMLB Player Id for 2B.\\n\\nfielder_5\\nMLB Player Id for 3B.\\n\\nfielder_6\\nMLB Player Id for SS.\\n\\nfielder_7\\nMLB Player Id for LF.\\n\\nfielder_8\\nMLB Player Id for CF.\\n\\nfielder_9\\nMLB Player Id for RF.\\n\\nrelease_pos_y\\nRelease position of pitch measured in feet from the catcher\\'s perspective.\\n\\nestimated_ba_using_speedangle\\nEstimated Batting Avg based on launch angle and exit velocity.\\n\\nestimated_woba_using_speedangle\\nEstimated wOBA based on launch angle and exit velocity.\\n\\nwoba_value\\nwOBA value based on result of play.\\n\\nwoba_denom\\nwOBA denominator based on result of play.\\n\\nbabip_value\\nBABIP value based on result of play.\\n\\niso_value\\nISO value based on result of play.\\n\\nlaunch_speed_angle\\nLaunch speed/angle zone based on launch angle and exit velocity.\\n1: Weak\\n2: Topped\\n3: Under\\n4: Flare/Burner\\n5: Solid Contact\\n6: Barrel\\n\\n\\nat_bat_number\\nPlate appearance number of the game.\\n\\npitch_number\\nTotal pitch number of the plate appearance.\\n\\npitch_name\\nThe name of the pitch derived from the Statcast Data.\\n\\nhome_score\\nPre-pitch home score\\n\\naway_score\\nPre-pitch away score\\n\\nbat_score\\nPre-pitch bat team score\\n\\nfld_score\\nPre-pitch field team score\\n\\npost_home_score\\nPost-pitch home score\\n\\npost_away_score\\nPost-pitch away score\\n\\npost_bat_score\\nPost-pitch bat team score\\n\\nif_fielding_alignment\\nInfield fielding alignment at the time of the pitch.\\n\\nof_fielding_alignment\\nOutfield fielding alignment at the time of the pitch.\\n\\nspin_axis\\nThe Spin Axis in the 2D X-Z plane in degrees from 0 to 360, such that 180 represents a pure backspin fastball and 0 degrees represents a pure topspin (12-6) curveball\\n\\ndelta_home_win_exp\\nThe change in Win Expectancy before the Plate Appearance and after the Plate Appearance\\n\\ndelta_run_exp\\nThe change in Run Expectancy before the Pitch and after the Pitch\\n\\n</statcast_dictionary>'}}\n",
      "----\n",
      "\n",
      "1. Use the playerid_lookup function to get the 'key_mlbam' for Danny Duffy:\n",
      "\n",
      "from pybaseball import playerid_lookup\n",
      "duffy_id = playerid_lookup('duffy', 'danny')['key_mlbam'].values[0]\n",
      "\n",
      "2. Use the statcast function to get Danny Duffy's pitch-level data for the 2018 season:\n",
      "\n",
      "from pybaseball import statcast\n",
      "duffy_2018 = statcast(start_dt='2018-03-01', end_dt='2018-10-31', player_id=duffy_id)\n",
      "\n",
      "3. Filter the data to only include pitches where the 'events' column equals 'strikeout':\n",
      "\n",
      "strikeouts = duffy_2018[duffy_2018['events'] == 'strikeout']\n",
      "\n",
      "4. Create a new column 'cumsum' that contains the cumulative sum of strikeouts:\n",
      "\n",
      "strikeouts = strikeouts.sort_values('game_date').reset_index(drop=True)\n",
      "strikeouts['cumsum'] = strikeouts.groupby(strikeouts.index // 1)['events'].cumsum()\n",
      "\n",
      "5. Plot the 'cumsum' column against the 'game_date' column:\n",
      "\n",
      "import matplotlib.pyplot as plt\n",
      "plt.figure(figsize=(12, 6))\n",
      "plt.plot(strikeouts['game_date'], strikeouts['cumsum'])\n",
      "plt.xlabel('Game Date')\n",
      "plt.ylabel('Cumulative Strikeouts')\n",
      "plt.title('Danny Duffy 2018 Cumulative Strikeouts')\n",
      "plt.show()\n",
      "\n",
      "\n",
      "Are you satisfied with this plan?\n"
     ]
    }
   ],
   "source": [
    "task = '''Plot the cumulative sum of strikeouts thrown by Danny Duffy in the 2018 season.'''\n",
    "result = baseball_lambda.execute_workflow(task, session_id)\n",
    "print(result)"
   ]
  },
  {
   "cell_type": "code",
   "execution_count": null,
   "id": "405cf1fe",
   "metadata": {},
   "outputs": [],
   "source": [
    "task = '''Label the x-axis \"Game Date\" and the y-axis \"Total K's\"'''\n",
    "result = baseball_lambda.execute_workflow(task, session_id)\n",
    "print(result)"
   ]
  },
  {
   "cell_type": "code",
   "execution_count": null,
   "id": "28cf13b0",
   "metadata": {},
   "outputs": [],
   "source": [
    "task = \"approved\"\n",
    "result = baseball_lambda.execute_workflow(task, session_id)\n",
    "print(result)"
   ]
  },
  {
   "cell_type": "code",
   "execution_count": null,
   "id": "e4e16bee",
   "metadata": {},
   "outputs": [],
   "source": [
    "task = \"yes\"\n",
    "result = baseball_lambda.execute_workflow(task, session_id)\n",
    "print(result)"
   ]
  },
  {
   "cell_type": "code",
   "execution_count": null,
   "id": "981a9a05",
   "metadata": {},
   "outputs": [],
   "source": []
  }
 ],
 "metadata": {
  "kernelspec": {
   "display_name": "venv",
   "language": "python",
   "name": "python3"
  },
  "language_info": {
   "codemirror_mode": {
    "name": "ipython",
    "version": 3
   },
   "file_extension": ".py",
   "mimetype": "text/x-python",
   "name": "python",
   "nbconvert_exporter": "python",
   "pygments_lexer": "ipython3",
   "version": "3.10.8"
  }
 },
 "nbformat": 4,
 "nbformat_minor": 5
}
