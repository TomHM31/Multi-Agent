{
 "cells": [
  {
   "cell_type": "code",
   "execution_count": 1,
   "id": "7c01b355-66d2-40e0-92a4-c4553a8d2edd",
   "metadata": {
    "tags": []
   },
   "outputs": [
    {
     "name": "stderr",
     "output_type": "stream",
     "text": [
      "Python REPL can execute arbitrary code. Use with caution.\n"
     ]
    }
   ],
   "source": [
    "# general\n",
    "from datetime import datetime\n",
    "from dotenv import load_dotenv, find_dotenv\n",
    "import os\n",
    "\n",
    "# custom local libs\n",
    "from function import baseball_lambda"
   ]
  },
  {
   "cell_type": "code",
   "execution_count": 2,
   "id": "7a2a54ab",
   "metadata": {},
   "outputs": [],
   "source": [
    "# read local .env file\n",
    "_ = load_dotenv(find_dotenv()) "
   ]
  },
  {
   "cell_type": "code",
   "execution_count": 3,
   "id": "12b6af87",
   "metadata": {},
   "outputs": [],
   "source": [
    "# set Langsmith project\n",
    "today = datetime.now().strftime(\"%Y%m%d\")\n",
    "os.environ[\"LANGCHAIN_PROJECT\"] = f\"Baseball Strikeouts - {today}\""
   ]
  },
  {
   "cell_type": "code",
   "execution_count": 4,
   "id": "6bf9b046",
   "metadata": {},
   "outputs": [],
   "source": [
    "session_id = '000999732'"
   ]
  },
  {
   "cell_type": "code",
   "execution_count": 5,
   "id": "3ab7493f",
   "metadata": {},
   "outputs": [
    {
     "name": "stdout",
     "output_type": "stream",
     "text": [
      "{'Orchestrate': {'next': 'Plan'}}\n",
      "----\n",
      "Distance to neareast plan: 0.6613863706588745\n",
      "Formulating a new plan based on User input\n",
      "Collecting metadata for functions playerid_lookup,pitching_stats\n",
      "Modifying plan with function metadata\n",
      "{'Plan': {'messages': [HumanMessage(content=\"Okay, here is the plan to plot the cumulative sum of strikeouts thrown by Danny Duffy in the 2018 season:\\n\\n1. Use the `playerid_lookup` function to get the 'key_mlbam' ID for Danny Duffy.\\n   - Pass in 'duffy' as the last name and 'danny' as the first name.\\n   - Collect the 'key_mlbam' field from the output.\\n\\n2. Use the `statcast_pitcher` function to get the pitch-level data for Danny Duffy in the 2018 season.\\n   - Pass in the 'key_mlbam' for Danny Duffy and the year 2018.\\n   - Collect the following fields from the output: 'game_date', 'strikeout'.\\n\\n3. Calculate the cumulative sum of the 'strikeout' field to get the cumulative strikeouts over the season.\\n\\n4. Plot the cumulative sum of strikeouts over the 2018 season.\\n   - Use the 'game_date' field as the x-axis and the cumulative strikeouts as the y-axis.\\n   - Add appropriate labels and title to the plot.\\n\\nBy following this plan, you can create a plot showing the cumulative sum of strikeouts thrown by Danny Duffy in the 2018 season.\\n\\nAre you satisfied with this plan?\")], 'task': 'Plot the cumulative sum of strikeouts thrown by Danny Duffy in the 2018 season.', 'plan': \"Okay, here is the plan to plot the cumulative sum of strikeouts thrown by Danny Duffy in the 2018 season:\\n\\n1. Use the `playerid_lookup` function to get the 'key_mlbam' ID for Danny Duffy.\\n   - Pass in 'duffy' as the last name and 'danny' as the first name.\\n   - Collect the 'key_mlbam' field from the output.\\n\\n2. Use the `statcast_pitcher` function to get the pitch-level data for Danny Duffy in the 2018 season.\\n   - Pass in the 'key_mlbam' for Danny Duffy and the year 2018.\\n   - Collect the following fields from the output: 'game_date', 'strikeout'.\\n\\n3. Calculate the cumulative sum of the 'strikeout' field to get the cumulative strikeouts over the season.\\n\\n4. Plot the cumulative sum of strikeouts over the 2018 season.\\n   - Use the 'game_date' field as the x-axis and the cumulative strikeouts as the y-axis.\\n   - Add appropriate labels and title to the plot.\\n\\nBy following this plan, you can create a plot showing the cumulative sum of strikeouts thrown by Danny Duffy in the 2018 season.\\n\\nAre you satisfied with this plan?\", 'previous_node': 'Plan', 'function_detail': 'Here is the documentation for function playerid_lookup:\\n# Player ID Lookup\\n\\n## Single Player Lookup\\n\\n`playerid_lookup(last, first=None, fuzzy=False)`\\n\\nLook up a player\\'s MLBAM, Retrosheet, FanGraphs, and Baseball Reference ID by name.\\n\\n## Arguments\\n`last:` String. The player\\'s last name. Case insensitive.\\n\\n`first:` String. Optional. The player\\'s first name. Case insensitive.\\n\\n`fuzzy:` Boolean. Optional. Search for inexact name matches, the 5 closest will be returned.\\n\\nProviding last name only will return all available id data for players with that last name (this will return several rows for a common last name like Jones, for example.) If multiple players exist for a (last name, first name) pair, you can figure out who\\'s who by seeing their first and last years of play in the fields `mlb_played_first` and `mlb_played_last`.\\n\\nThis data comes from Chadwick Bureau, meaning that there are several people in this data who are not MLB players. For this reason, supplying both last and first name is recommended to narrow your search. \\n\\n## Examples of valid queries\\n\\n```python\\nfrom pybaseball import playerid_lookup\\n\\n# find the ids of all players with last name Jones (returns 1,314 rows)\\ndata = playerid_lookup(\\'jones\\')\\n\\n# only return the ids of chipper jones (returns one row)\\ndata = playerid_lookup(\\'jones\\',\\'chipper\\')\\n\\n# Will return all players named Pedro Martinez (returns *2* rows)\\ndata = playerid_lookup(\"martinez\", \"pedro\", fuzzy=True)\\n\\n# Will return the 5 closest names to \"yadi molina\" (returns 5 rows)\\n# First row will be Yadier Molina\\ndata = playerid_lookup(\"molina\", \"yadi\", fuzzy=True)\\n```\\n\\n## List Lookup\\n\\n`player_search_list(player_list)`\\n\\nLook up a list of player ID\\'s by name, return a data frame of all players\\n\\n`player_list:` List. A list of tuples, of the form `(last, first)`. Case Insensitive.\\n\\nSources are the same as those used in the above `playerid_lookup` function. Queries for this function must be exact name matches.\\n\\n## Examples of valid queries\\n\\n```python\\n\\nfrom pybaseball import player_search_list\\n\\n# Will return the ids for both Lou Brock and Chipper Jones (returns 2 rows)\\ndata = player_search_list([(\"brock\",\"lou\"), (\"jones\",\"chipper\")])\\n\\n```\\nHere is the data dictionary for function playerid_lookup:\\n\\nname_last: player\\'s last name\\nname_first: player\\'s first name\\nkey_mlbam: MLB Advanced Media ID\\nkey_retro: MLB Retrosheet ID\\nkey_bbref: MLB Baseball Reference ID\\nkey_fangraphs: MLB FanGraphs ID\\nmlb_played_first: first season played by the player\\nmlb_played_last: last season played by the playerHere is the documentation for function pitching_stats:\\n# Pitching Stats\\n\\n`pitching_stats(start_season, end_season=None, league=\\'all\\', qual=1, ind=1)`\\n\\nThe `pitching_stats` function returns season-level pitching data from FanGraphs.\\n\\n## Arguments\\n`start_season:` Integer. The first season you want to retrieve data from. \\n\\n`end_season:` Integer. The final season you want to retrieve data from. If omitted, the funciton will return only data from the start_season.\\n\\n`league:` String. Either \"all\" for all data, \"nl\" for National League, \"al\" for the American League, or \"mnl\" for all Negro League data. Defaults to \"all\", for returning data on all teams. See `FangraphsLeague` definition for all leagues.\\n\\n`qual:` Integer. Minimum number of plate appearances to be included in the results. Defaults to `None`, which is equivalent to the current Fangraphs \"Qualified\" PA threshold from their leaderboard.\\n\\n`ind:` 1 or 0. Equals 1 if you want data returned at the individual season level. Equals 0 if you want aggregate data over the seasons included in the query. With `ind=1` and a query spanning the 2010 through 2015 seasons, for example, you will get each player\\'s stats for 2010, 2011, 2012, 2013, 2014, and 2015 in a separate observation. With `ind=0`, this same query returns one row per player with their statistics aggregated over this period (either summed or averaged depending on what\\'s appropriate).\\n\\nNote that larger date ranges will take longer to process.\\n\\n### A note on data availability \\nWhile this query should work for any historical season, some of the more modern stats (contact %, zone %, and many others) will not be available before certain dates. \\n\\n## Examples of valid queries\\n\\n```python\\nfrom pybaseball import pitching_stats\\n\\n# get all of this season\\'s pitching data so far\\ndata = pitching_stats(2017)\\n\\n# retrieve data on only players who have pitched 50+ innings this year\\ndata = pitching_stats(2017, qual=50)\\n\\n# retrieve one row per player per season since 2000 (i.e.: who had the single most dominant season over this period?)\\ndata = pitching_stats(2010, 2016)\\n\\n# retrieve aggregate player statistics from 2000 to 2016 (i.e.: who has the most wins over this period?)\\ndata = pitching_stats(2010, 2016, ind=0)\\n```\\n\\nHere is the data dictionary for function pitching_stats:\\nERA: Earned Run Average\\nWHIP: Walks and Hits per Innings Pitched\\nFIP: Fielding Independent Pitching\\nxFIP: Expected Fielding Independent Pitching\\nSIERA: Skill-Interactive ERA\\ntERA: True Runs Allowed\\nK/9: Strikeout rate\\nBB/9: Walk rate\\nK%: Strikeout percentage\\nBB%: Walk percentage\\nK/BB: Strikeout-to-Walk ratio\\nLD%: Line drive rate\\nGB%: Ground ball rate\\nFB%: Fly ball rate\\nHR/FB: Home runs per fly ball rate\\nBABIP: Batting Average on Balls In Play\\nLOB%: Left On Base percentage\\nERA-: ERA Minus\\nFIP-: FIP Minus\\nxFIP-: xFIP Minus\\nSD: Shutdowns\\nMD: Meltdowns\\nO-Swing%: Outside-the-zone swing rate\\nZ-Swing%: Inside-the-zone swing rate\\nSwing%: Swing rate\\nO-Contact%: Outside-the-zone contact percentage\\nZ-Contact%: Inside-the-zone contact percentage\\nContact%: Contact percentage\\nZone%: Percentage of pitches within the zone\\nF-Strike%: First-pitch strike percentage\\nSwStr%: Swinging Stike percentage\\nwFB: Fastball runs above average\\nwSL: Slider runs above average\\nwCT: Cutter runs above average\\nwCB: Curveball runs above average\\nwCH: Change-up runs above average\\nwSF: Split-finger fastball runs above average\\nwKN: Knuckleball runs above average\\nwFB/C: Fastball runs above average per 100 pitches\\nwSL/C: Slider runs above average per 100 pitches\\nwCT/C: Cutter runs above average per 100 pitches\\nwCB/C: Curveball runs above average per 100 pitches\\nwCH/C: Change-up runs above average per 100 pitches\\nwSF/C: Slit-fingered fastball runs above average per 100 pitches\\nwKN/C: Knuckleball runs above average per 100 pitches'}}\n",
      "----\n",
      "Okay, here is the plan to plot the cumulative sum of strikeouts thrown by Danny Duffy in the 2018 season:\n",
      "\n",
      "1. Use the `playerid_lookup` function to get the 'key_mlbam' ID for Danny Duffy.\n",
      "   - Pass in 'duffy' as the last name and 'danny' as the first name.\n",
      "   - Collect the 'key_mlbam' field from the output.\n",
      "\n",
      "2. Use the `statcast_pitcher` function to get the pitch-level data for Danny Duffy in the 2018 season.\n",
      "   - Pass in the 'key_mlbam' for Danny Duffy and the year 2018.\n",
      "   - Collect the following fields from the output: 'game_date', 'strikeout'.\n",
      "\n",
      "3. Calculate the cumulative sum of the 'strikeout' field to get the cumulative strikeouts over the season.\n",
      "\n",
      "4. Plot the cumulative sum of strikeouts over the 2018 season.\n",
      "   - Use the 'game_date' field as the x-axis and the cumulative strikeouts as the y-axis.\n",
      "   - Add appropriate labels and title to the plot.\n",
      "\n",
      "By following this plan, you can create a plot showing the cumulative sum of strikeouts thrown by Danny Duffy in the 2018 season.\n",
      "\n",
      "Are you satisfied with this plan?\n"
     ]
    }
   ],
   "source": [
    "task = '''Plot the cumulative sum of strikeouts thrown by Danny Duffy in the 2018 season.'''\n",
    "result = baseball_lambda.execute_workflow(task, session_id)\n",
    "print(result)"
   ]
  },
  {
   "cell_type": "code",
   "execution_count": 6,
   "id": "405cf1fe",
   "metadata": {},
   "outputs": [
    {
     "data": {
      "text/plain": [
       "'\\ntask = \\'\\'\\'Label the x-axis \"Game Date\" and the y-axis \"Total K\\'s\"\\'\\'\\'\\nresult = baseball_lambda.execute_workflow(task, session_id)\\nprint(result)\\n'"
      ]
     },
     "execution_count": 6,
     "metadata": {},
     "output_type": "execute_result"
    }
   ],
   "source": [
    "\"\"\"\n",
    "task = '''Label the x-axis \"Game Date\" and the y-axis \"Total K's\"'''\n",
    "result = baseball_lambda.execute_workflow(task, session_id)\n",
    "print(result)\n",
    "\"\"\""
   ]
  },
  {
   "cell_type": "code",
   "execution_count": 7,
   "id": "28cf13b0",
   "metadata": {},
   "outputs": [
    {
     "name": "stdout",
     "output_type": "stream",
     "text": [
      "{'Orchestrate': {'next': 'Convert'}}\n",
      "----\n",
      "{'Convert': {'code': \"\\n# Import necessary libraries\\nfrom pybaseball import playerid_lookup, statcast_pitcher\\nimport matplotlib.pyplot as plt\\n\\n# 1. Get the 'key_mlbam' ID for Danny Duffy\\nduffy_id = playerid_lookup('duffy', 'danny')['key_mlbam'].values[0]\\n\\n# 2. Get the pitch-level data for Danny Duffy in the 2018 season\\nduffy_2018 = statcast_pitcher(duffy_id, 2018, ['game_date', 'strikeout'])\\n\\n# 3. Calculate the cumulative sum of strikeouts\\nduffy_2018['cum_strikeouts'] = duffy_2018['strikeout'].cumsum()\\n\\n# 4. Plot the cumulative sum of strikeouts\\nplt.figure(figsize=(10, 6))\\nplt.plot(duffy_2018['game_date'], duffy_2018['cum_strikeouts'])\\nplt.xlabel('Game Date', fontsize=14)\\nplt.ylabel('Cumulative Strikeouts', fontsize=14)\\nplt.title('Cumulative Sum of Strikeouts by Danny Duffy in 2018', fontsize=16)\\nplt.show()\\n\"}}\n",
      "----\n",
      "Executing: \n",
      "# Import necessary libraries\n",
      "from pybaseball import playerid_lookup, statcast_pitcher\n",
      "import matplotlib.pyplot as plt\n",
      "Executing: # 1. Get the 'key_mlbam' ID for Danny Duffy\n",
      "duffy_id = playerid_lookup('duffy', 'danny')['key_mlbam'].values[0]\n",
      "Result: Gathering player lookup table. This may take a moment.\n",
      "\n",
      "Executing: # 2. Get the pitch-level data for Danny Duffy in the 2018 season\n",
      "duffy_2018 = statcast_pitcher(duffy_id, 2018, ['game_date', 'strikeout'])\n",
      "Result: TypeError('strptime() argument 1 must be str, not numpy.int64')\n",
      "Executing: \n",
      "# 2. Get the pitch-level data for Danny Duffy in the 2018 season\n",
      "start_dt = str(2018) + '-01-01'\n",
      "end_dt = str(2018) + '-12-31'\n",
      "duffy_2018 = statcast_pitcher(duffy_id, start_dt, end_dt, ['game_date', 'strikeout'])\n",
      "\n",
      "Result: TypeError('statcast_pitcher() takes from 0 to 3 positional arguments but 4 were given')\n",
      "Executing: \n",
      "# 2. Get the pitch-level data for Danny Duffy in the 2018 season\n",
      "start_dt = str(2018) + '-01-01'\n",
      "end_dt = str(2018) + '-12-31'\n",
      "duffy_2018 = statcast_pitcher(duffy_id, start_dt, end_dt, fields=['game_date', 'strikeout'])\n",
      "\n",
      "Result: TypeError(\"statcast_pitcher() got an unexpected keyword argument 'fields'\")\n",
      "Executing: \n",
      "# 2. Get the pitch-level data for Danny Duffy in the 2018 season\n",
      "start_dt = str(2018) + '-01-01'\n",
      "end_dt = str(2018) + '-12-31'\n",
      "duffy_2018 = statcast_pitcher(duffy_id, start_dt, end_dt)\n",
      "\n",
      "Result: TypeError('strptime() argument 1 must be str, not numpy.int64')\n",
      "Executing: \n",
      "# 2. Get the pitch-level data for Danny Duffy in the 2018 season\n",
      "start_dt = '2018-01-01'\n",
      "end_dt = '2018-12-31'\n",
      "duffy_2018 = statcast_pitcher(duffy_id, start_dt, end_dt)\n",
      "\n",
      "# 3. Plot the cumulative sum of strikeouts\n",
      "duffy_2018['cumulative_strikeouts'] = duffy_2018['strikeouts'].cumsum()\n",
      "duffy_2018.plot(x='game_date', y='cumulative_strikeouts', figsize=(12, 6))\n",
      "plt.title('Danny Duffy Cumulative Strikeouts in 2018')\n",
      "plt.xlabel('Game Date')\n",
      "plt.ylabel('Cumulative Strikeouts')\n",
      "plt.show()\n",
      "\n",
      "Result: TypeError('strptime() argument 1 must be str, not numpy.int64')\n",
      "Executing: \n",
      "# 2. Get the pitch-level data for Danny Duffy in the 2018 season\n",
      "start_dt = '2018-01-01'\n",
      "end_dt = '2018-12-31'\n",
      "duffy_2018 = statcast_pitcher(duffy_id, start_dt, end_dt)\n",
      "\n",
      "# 3. Convert game_date to datetime format\n",
      "duffy_2018['game_date'] = pd.to_datetime(duffy_2018['game_date'])\n",
      "\n",
      "# 4. Plot the cumulative sum of strikeouts\n",
      "duffy_2018['cumulative_strikeouts'] = duffy_2018['strikeouts'].cumsum()\n",
      "duffy_2018.plot(x='game_date', y='cumulative_strikeouts', figsize=(12, 6))\n",
      "plt.title('Danny Duffy Cumulative Strikeouts in 2018')\n",
      "plt.xlabel('Game Date')\n",
      "plt.ylabel('Cumulative Strikeouts')\n",
      "plt.show()\n",
      "\n",
      "Result: TypeError('strptime() argument 1 must be str, not numpy.int64')\n",
      "Executing: \n",
      "# 2. Get the pitch-level data for Danny Duffy in the 2018 season\n",
      "start_dt = '2018-01-01'\n",
      "end_dt = '2018-12-31'\n",
      "duffy_2018 = statcast_pitcher(duffy_id, start_dt, end_dt)\n",
      "\n",
      "# 3. Convert game_date to string format, then to datetime format\n",
      "duffy_2018['game_date'] = pd.to_datetime(duffy_2018['game_date'].astype(str))\n",
      "\n",
      "# 4. Plot the cumulative sum of strikeouts\n",
      "duffy_2018['cumulative_strikeouts'] = duffy_2018['strikeouts'].cumsum()\n",
      "duffy_2018.plot(x='game_date', y='cumulative_strikeouts', figsize=(12, 6))\n",
      "plt.title('Danny Duffy Cumulative Strikeouts in 2018')\n",
      "plt.xlabel('Game Date')\n",
      "plt.ylabel('Cumulative Strikeouts')\n",
      "plt.show()\n",
      "\n",
      "Result: TypeError('strptime() argument 1 must be str, not numpy.int64')\n",
      "Executing: \n",
      "# 2. Get the pitch-level data for Danny Duffy in the 2018 season\n",
      "start_dt = '2018-01-01'\n",
      "end_dt = '2018-12-31'\n",
      "duffy_2018 = statcast_pitcher(duffy_id, start_dt, end_dt)\n",
      "\n",
      "# 3. Convert game_date to string format, then to datetime format\n",
      "duffy_2018['game_date'] = pd.to_datetime(duffy_2018['game_date'].astype(str))\n",
      "\n",
      "# 4. Plot the cumulative sum of strikeouts\n",
      "duffy_2018['cumulative_strikeouts'] = duffy_2018['strikeouts'].cumsum()\n",
      "duffy_2018.plot(x='game_date', y='cumulative_strikeouts', figsize=(12, 6))\n",
      "plt.title('Danny Duffy Cumulative Strikeouts in 2018')\n",
      "plt.xlabel('Game Date')\n",
      "plt.ylabel('Cumulative Strikeouts')\n",
      "plt.show()\n",
      "\n",
      "Result: TypeError('strptime() argument 1 must be str, not numpy.int64')\n"
     ]
    }
   ],
   "source": [
    "task = \"approved\"\n",
    "result = baseball_lambda.execute_workflow(task, session_id)\n",
    "print(result)"
   ]
  },
  {
   "cell_type": "code",
   "execution_count": null,
   "id": "e4e16bee",
   "metadata": {},
   "outputs": [],
   "source": [
    "task = \"yes\"\n",
    "result = baseball_lambda.execute_workflow(task, session_id)\n",
    "print(result)"
   ]
  },
  {
   "cell_type": "code",
   "execution_count": null,
   "id": "981a9a05",
   "metadata": {},
   "outputs": [],
   "source": []
  }
 ],
 "metadata": {
  "kernelspec": {
   "display_name": "venv",
   "language": "python",
   "name": "python3"
  },
  "language_info": {
   "codemirror_mode": {
    "name": "ipython",
    "version": 3
   },
   "file_extension": ".py",
   "mimetype": "text/x-python",
   "name": "python",
   "nbconvert_exporter": "python",
   "pygments_lexer": "ipython3",
   "version": "3.10.13"
  }
 },
 "nbformat": 4,
 "nbformat_minor": 5
}
