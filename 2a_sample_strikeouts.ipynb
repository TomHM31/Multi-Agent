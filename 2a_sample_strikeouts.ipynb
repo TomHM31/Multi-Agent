{
 "cells": [
  {
   "cell_type": "code",
   "execution_count": 1,
   "id": "7c01b355-66d2-40e0-92a4-c4553a8d2edd",
   "metadata": {
    "tags": []
   },
   "outputs": [
    {
     "name": "stderr",
     "output_type": "stream",
     "text": [
      "/Users/rosclay/Documents/VSCode/langgraph-multi-agent/venv/lib/python3.10/site-packages/langchain_core/_api/beta_decorator.py:87: LangChainBetaWarning: The function `bind_tools` is in beta. It is actively being worked on, so the API may change.\n",
      "  warn_beta(\n",
      "Python REPL can execute arbitrary code. Use with caution.\n"
     ]
    }
   ],
   "source": [
    "# general\n",
    "from datetime import datetime\n",
    "from dotenv import load_dotenv, find_dotenv\n",
    "import os\n",
    "\n",
    "# custom local libs\n",
    "from function import baseball_lambda"
   ]
  },
  {
   "cell_type": "code",
   "execution_count": 2,
   "id": "7a2a54ab",
   "metadata": {},
   "outputs": [],
   "source": [
    "# read local .env file\n",
    "_ = load_dotenv(find_dotenv()) "
   ]
  },
  {
   "cell_type": "code",
   "execution_count": 3,
   "id": "12b6af87",
   "metadata": {},
   "outputs": [],
   "source": [
    "# set Langsmith project\n",
    "today = datetime.now().strftime(\"%Y%m%d\")\n",
    "os.environ[\"LANGCHAIN_PROJECT\"] = f\"Baseball Strikeouts - {today}\""
   ]
  },
  {
   "cell_type": "code",
   "execution_count": 4,
   "id": "6bf9b046",
   "metadata": {},
   "outputs": [],
   "source": [
    "session_id = '00792'"
   ]
  },
  {
   "cell_type": "code",
   "execution_count": 5,
   "id": "3ab7493f",
   "metadata": {},
   "outputs": [
    {
     "name": "stdout",
     "output_type": "stream",
     "text": [
      "\n",
      "*** Entered Orchestrate Node ***\n",
      "\n",
      "*** Entered Retrieve Node ***\n",
      "\n",
      "Distance to neareast plan: 0.5461114645004272\n",
      "\n",
      "*** Entered Initialize Node ***\n",
      "\n",
      "Formulating a new plan to solve the task.\n",
      "Collecting documentation for playerid_lookup, statcast_pitcher\n",
      "\n",
      "*** Entered Update Node ***\n",
      "\n",
      "Updating plan based function documentation\n",
      "The updated plan to plot Danny Duffy's cumulative strikeouts in 2018 is as follows:\n",
      "\n",
      "1. Import the required pybaseball and matplotlib libraries.\n",
      "2. Look up Danny Duffy's mlbam ID using the playerid_lookup function, passing 'duffy' for the last name and 'danny' for the first name.\n",
      "3. Get Danny Duffy's 2018 statcast pitching data using the statcast_pitcher function, passing '2018-01-01' for start_dt, '2018-12-31' for end_dt, and the player ID from step 2.\n",
      "4. Filter the dataframe to only include strikeouts (where the 'events' column is 'strikeout').\n",
      "5. Group the data by game date and calculate the cumulative sum of strikeouts.\n",
      "6. Create a plot of the cumulative strikeouts by game date using matplotlib.\n",
      "\n",
      "Are you satisfied with this plan?\n"
     ]
    }
   ],
   "source": [
    "task = '''Plot the cumulative sum of strikeouts thrown by Danny Duffy in the 2018 season.'''\n",
    "result = baseball_lambda.execute_workflow(task, session_id)\n",
    "print(result)"
   ]
  },
  {
   "cell_type": "code",
   "execution_count": 6,
   "id": "16e38e7d",
   "metadata": {},
   "outputs": [
    {
     "name": "stdout",
     "output_type": "stream",
     "text": [
      "\n",
      "*** Entered Orchestrate Node ***\n",
      "\n",
      "*** Entered Revise Node ***\n",
      "\n",
      "The revised plan looks good. Here is a summary:\n",
      "\n",
      "1. Import the required pybaseball and matplotlib libraries.\n",
      "2. Look up Danny Duffy's MLBAM ID using the playerid_lookup function.\n",
      "3. Get Danny Duffy's 2018 statcast pitching data using the statcast_pitcher function.\n",
      "4. Filter the dataframe to only include strikeouts.\n",
      "5. Group the filtered data by 'game_date' and sum the number of strikeouts for each game.\n",
      "6. Sort the summed strikeouts by 'game_date' in ascending order.\n",
      "7. Calculate the cumulative sum of strikeouts across the sorted game dates.\n",
      "8. Create a line plot of the cumulative strikeouts by game date using matplotlib.\n",
      "9. Add titles and labels to the plot and display it.\n",
      "\n",
      "This revised plan addresses the issue of summing the strikeouts per game date before calculating the cumulative sum, which will provide a more accurate visualization of Duffy's strikeout performance over the 2018 season. Let me know if you have any other feedback or if you would like me to expand on any of the steps further.\n",
      "\n",
      "Are you satisfied with this plan?\n"
     ]
    }
   ],
   "source": [
    "task = \"First sum strikeouts by date and then calculate a cumulative sum across dates\"\n",
    "result = baseball_lambda.execute_workflow(task, session_id)\n",
    "print(result)"
   ]
  },
  {
   "cell_type": "code",
   "execution_count": 7,
   "id": "28cf13b0",
   "metadata": {},
   "outputs": [
    {
     "name": "stdout",
     "output_type": "stream",
     "text": [
      "\n",
      "*** Entered Orchestrate Node ***\n",
      "Unknown plan. Executing with Opus\n",
      "\n",
      "*** Entered Generate Node ***\n",
      "\n",
      "\n",
      "*** Entered Execute Node ***\n",
      "\n",
      "\n",
      "Executing:\n",
      "import matplotlib.pyplot as plt\n",
      "from pybaseball import playerid_lookup, statcast_pitcher\n",
      "\n",
      "*** Entered Generate Node ***\n",
      "\n",
      "\n",
      "*** Entered Execute Node ***\n",
      "\n",
      "\n",
      "Executing:\n",
      "# Look up Danny Duffy's MLBAM ID\n",
      "duffy_id = playerid_lookup('duffy', 'danny')['key_mlbam'].values[0]\n",
      "print(f\"Danny Duffy's player ID is: {duffy_id}\")\n",
      "\n",
      "Result:\n",
      "Gathering player lookup table. This may take a moment.\n",
      "Danny Duffy's player ID is: 518633\n",
      "\n",
      "\n",
      "*** Entered Generate Node ***\n",
      "\n",
      "\n",
      "*** Entered Execute Node ***\n",
      "\n",
      "\n",
      "Executing:\n",
      "# Get Danny Duffy's 2018 statcast pitching data  \n",
      "duffy_2018 = statcast_pitcher('2018-01-01', '2018-12-31', player_id=duffy_id)\n",
      "\n",
      "Result:\n",
      "Gathering Player Data\n",
      "\n",
      "\n",
      "*** Entered Generate Node ***\n",
      "\n",
      "\n",
      "*** Entered Execute Node ***\n",
      "\n",
      "\n",
      "Executing:\n",
      "# Filter to only strikeouts\n",
      "duffy_2018_so = duffy_2018[(duffy_2018['events']=='strikeout') | \n",
      "                           (duffy_2018['events']=='strikeout_double_play') |\n",
      "                           ((duffy_2018['description']=='called_strike') & (duffy_2018['strike_count']==3))]\n",
      "\n",
      "Result:\n",
      "KeyError('strike_count')\n",
      "\n",
      "*** Entered Generate Node ***\n",
      "\n",
      "\n",
      "*** Entered Execute Node ***\n",
      "\n",
      "\n",
      "Executing:\n",
      "print(duffy_2018.columns)\n",
      "\n",
      "Result:\n",
      "Index(['pitch_type', 'game_date', 'release_speed', 'release_pos_x',\n",
      "       'release_pos_z', 'player_name', 'batter', 'pitcher', 'events',\n",
      "       'description', 'spin_dir', 'spin_rate_deprecated',\n",
      "       'break_angle_deprecated', 'break_length_deprecated', 'zone', 'des',\n",
      "       'game_type', 'stand', 'p_throws', 'home_team', 'away_team', 'type',\n",
      "       'hit_location', 'bb_type', 'balls', 'strikes', 'game_year', 'pfx_x',\n",
      "       'pfx_z', 'plate_x', 'plate_z', 'on_3b', 'on_2b', 'on_1b',\n",
      "       'outs_when_up', 'inning', 'inning_topbot', 'hc_x', 'hc_y',\n",
      "       'tfs_deprecated', 'tfs_zulu_deprecated', 'fielder_2', 'umpire', 'sv_id',\n",
      "       'vx0', 'vy0', 'vz0', 'ax', 'ay', 'az', 'sz_top', 'sz_bot',\n",
      "       'hit_distance_sc', 'launch_speed', 'launch_angle', 'effective_speed',\n",
      "       'release_spin_rate', 'release_extension', 'game_pk', 'pitcher.1',\n",
      "       'fielder_2.1', 'fielder_3', 'fielder_4', 'fielder_5', 'fielder_6',\n",
      "       'fielder_7', 'fielder_8', 'fielder_9', 'release_pos_y',\n",
      "       'estimated_ba_using_speedangle', 'estimated_woba_using_speedangle',\n",
      "       'woba_value', 'woba_denom', 'babip_value', 'iso_value',\n",
      "       'launch_speed_angle', 'at_bat_number', 'pitch_number', 'pitch_name',\n",
      "       'home_score', 'away_score', 'bat_score', 'fld_score', 'post_away_score',\n",
      "       'post_home_score', 'post_bat_score', 'post_fld_score',\n",
      "       'if_fielding_alignment', 'of_fielding_alignment', 'spin_axis',\n",
      "       'delta_home_win_exp', 'delta_run_exp'],\n",
      "      dtype='object')\n",
      "\n",
      "\n",
      "*** Entered Generate Node ***\n",
      "\n",
      "\n",
      "*** Entered Execute Node ***\n",
      "\n",
      "\n",
      "Executing:\n",
      "# Filter to only strikeouts\n",
      "duffy_2018_so = duffy_2018[(duffy_2018['events']=='strikeout') | \n",
      "                           (duffy_2018['events']=='strikeout_double_play') |\n",
      "                           (duffy_2018['description'].str.contains('strikes out'))]\n",
      "\n",
      "*** Entered Generate Node ***\n",
      "\n",
      "\n",
      "*** Entered Execute Node ***\n",
      "\n",
      "\n",
      "Executing:\n",
      "# Group by game date and sum strikeouts\n",
      "duffy_2018_so_by_game = duffy_2018_so.groupby('game_date').size().reset_index(name='strikeouts')\n",
      "\n",
      "*** Entered Generate Node ***\n",
      "\n",
      "\n",
      "*** Entered Execute Node ***\n",
      "\n",
      "\n",
      "Executing:\n",
      "# Sort by game date  \n",
      "duffy_2018_so_by_game = duffy_2018_so_by_game.sort_values('game_date', ascending=True)\n",
      "\n",
      "*** Entered Generate Node ***\n",
      "\n",
      "\n",
      "*** Entered Execute Node ***\n",
      "\n",
      "\n",
      "Executing:\n",
      "# Calculate cumulative sum of strikeouts  \n",
      "duffy_2018_so_by_game['strikeouts_cumsum'] = duffy_2018_so_by_game['strikeouts'].cumsum()\n",
      "\n",
      "*** Entered Generate Node ***\n",
      "\n",
      "\n",
      "*** Entered Execute Node ***\n",
      "\n",
      "\n",
      "Executing:\n",
      "# Create plot\n",
      "plt.figure(figsize=(12,6))\n",
      "plt.plot(duffy_2018_so_by_game['game_date'], duffy_2018_so_by_game['strikeouts_cumsum'])\n",
      "plt.title('Danny Duffy Cumulative Strikeouts in 2018') \n",
      "plt.xlabel('Game Date')\n",
      "plt.ylabel('Cumulative Strikeouts')\n",
      "plt.show()\n",
      "\n",
      "print(\"The plot shows Danny Duffy's cumulative strikeout total over the course of the 2018 season. Each point represents a game, and the y-value is the total number of strikeouts Duffy had recorded up to that point in the season. You can see his strikeout total increasing from 0 at the start of the season up to his season-ending total.\")\n"
     ]
    },
    {
     "data": {
      "image/png": "[encoded data removed]",
      "text/plain": [
       "<Figure size 1200x600 with 1 Axes>"
      ]
     },
     "metadata": {},
     "output_type": "display_data"
    },
    {
     "name": "stdout",
     "output_type": "stream",
     "text": [
      "\n",
      "Result:\n",
      "The plot shows Danny Duffy's cumulative strikeout total over the course of the 2018 season. Each point represents a game, and the y-value is the total number of strikeouts Duffy had recorded up to that point in the season. You can see his strikeout total increasing from 0 at the start of the season up to his season-ending total.\n",
      "\n",
      "\n",
      "*** Entered Generate Node ***\n",
      "\n",
      "\n",
      "*** Entered Summarize Node ***\n",
      "\n",
      "The plot shows Danny Duffy's cumulative strikeout total over the course of the 2018 season. Each point represents a game, and the y-value is the total number of strikeouts Duffy had recorded up to that point in the season. You can see his strikeout total increasing from 0 at the start of the season up to his season-ending total.\n",
      "\n",
      "Here is the code that was used to reach this solution:\n",
      "\n",
      "```python\n",
      "\n",
      "import matplotlib.pyplot as plt\n",
      "from pybaseball import playerid_lookup, statcast_pitcher\n",
      "\n",
      "# Look up Danny Duffy's MLBAM ID\n",
      "duffy_id = playerid_lookup('duffy', 'danny')['key_mlbam'].values[0]\n",
      "print(f\"Danny Duffy's player ID is: {duffy_id}\")\n",
      "\n",
      "# Get Danny Duffy's 2018 statcast pitching data  \n",
      "duffy_2018 = statcast_pitcher('2018-01-01', '2018-12-31', player_id=duffy_id)\n",
      "\n",
      "print(duffy_2018.columns)\n",
      "\n",
      "# Filter to only strikeouts\n",
      "duffy_2018_so = duffy_2018[(duffy_2018['events']=='strikeout') | \n",
      "                           (duffy_2018['events']=='strikeout_double_play') |\n",
      "                           (duffy_2018['description'].str.contains('strikes out'))]\n",
      "\n",
      "# Group by game date and sum strikeouts\n",
      "duffy_2018_so_by_game = duffy_2018_so.groupby('game_date').size().reset_index(name='strikeouts')\n",
      "\n",
      "# Sort by game date  \n",
      "duffy_2018_so_by_game = duffy_2018_so_by_game.sort_values('game_date', ascending=True)\n",
      "\n",
      "# Calculate cumulative sum of strikeouts  \n",
      "duffy_2018_so_by_game['strikeouts_cumsum'] = duffy_2018_so_by_game['strikeouts'].cumsum()\n",
      "\n",
      "# Create plot\n",
      "plt.figure(figsize=(12,6))\n",
      "plt.plot(duffy_2018_so_by_game['game_date'], duffy_2018_so_by_game['strikeouts_cumsum'])\n",
      "plt.title('Danny Duffy Cumulative Strikeouts in 2018') \n",
      "plt.xlabel('Game Date')\n",
      "plt.ylabel('Cumulative Strikeouts')\n",
      "plt.show()\n",
      "\n",
      "print(\"The plot shows Danny Duffy's cumulative strikeout total over the course of the 2018 season. Each point represents a game, and the y-value is the total number of strikeouts Duffy had recorded up to that point in the season. You can see his strikeout total increasing from 0 at the start of the season up to his season-ending total.\")\n",
      "```\n",
      "\n",
      "Are you satisfied with this result?\n"
     ]
    }
   ],
   "source": [
    "task = \"approved\"\n",
    "result = baseball_lambda.execute_workflow(task, session_id)\n",
    "print(result)"
   ]
  },
  {
   "cell_type": "code",
   "execution_count": 8,
   "id": "e4e16bee",
   "metadata": {},
   "outputs": [
    {
     "name": "stdout",
     "output_type": "stream",
     "text": [
      "\n",
      "*** Entered Orchestrate Node ***\n",
      "\n",
      "*** Entered Memorize Node ***\n",
      "\n",
      "Thank you, task has been commited to memory\n"
     ]
    }
   ],
   "source": [
    "task = \"yes\"\n",
    "result = baseball_lambda.execute_workflow(task, session_id)\n",
    "print(result)"
   ]
  },
  {
   "cell_type": "code",
   "execution_count": null,
   "id": "981a9a05",
   "metadata": {},
   "outputs": [],
   "source": []
  }
 ],
 "metadata": {
  "kernelspec": {
   "display_name": "venv",
   "language": "python",
   "name": "python3"
  },
  "language_info": {
   "codemirror_mode": {
    "name": "ipython",
    "version": 3
   },
   "file_extension": ".py",
   "mimetype": "text/x-python",
   "name": "python",
   "nbconvert_exporter": "python",
   "pygments_lexer": "ipython3",
   "version": "3.10.8"
  }
 },
 "nbformat": 4,
 "nbformat_minor": 5
}
