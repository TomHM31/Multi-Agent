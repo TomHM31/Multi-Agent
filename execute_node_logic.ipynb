{
 "cells": [
  {
   "cell_type": "code",
   "execution_count": 1,
   "metadata": {},
   "outputs": [
    {
     "name": "stderr",
     "output_type": "stream",
     "text": [
      "/Users/rosclay/Documents/VSCode/langgraph-multi-agent/venv/lib/python3.10/site-packages/langchain_core/_api/beta_decorator.py:87: LangChainBetaWarning: The function `bind_tools` is in beta. It is actively being worked on, so the API may change.\n",
      "  warn_beta(\n",
      "Python REPL can execute arbitrary code. Use with caution.\n"
     ]
    },
    {
     "name": "stdout",
     "output_type": "stream",
     "text": [
      "content=[{'text': 'Here is the code to execute the next step of the plan:', 'type': 'text'}, {'id': 'toolu_01UNUqYsys9JWzJgzMt3ivzJ', 'input': {'code': 'import pandas as pd\\nfrom pybaseball import statcast\\n\\n# 1. Get all pitch data from 2020-08-01 to 2020-08-07\\nall_pitches = statcast(\\'2020-08-01\\', \\'2020-08-07\\')\\nprint(f\"Retrieved {len(all_pitches)} pitches from 2020-08-01 to 2020-08-07\")'}, 'name': 'PythonREPL', 'type': 'tool_use'}] response_metadata={'id': 'msg_016SkY3WbMd1dMXwsBPQKtLE', 'model': 'claude-3-sonnet-20240229', 'stop_reason': 'tool_use', 'stop_sequence': None, 'usage': {'input_tokens': 6438, 'output_tokens': 167}} id='run-9fa57cec-ba90-48c5-92ef-88823584c37a-0'\n",
      "Executing: import pandas as pd\n",
      "from pybaseball import statcast\n",
      "\n",
      "# 1. Get all pitch data from 2020-08-01 to 2020-08-07\n",
      "all_pitches = statcast('2020-08-01', '2020-08-07')\n",
      "print(f\"Retrieved {len(all_pitches)} pitches from 2020-08-01 to 2020-08-07\")\n"
     ]
    },
    {
     "name": "stderr",
     "output_type": "stream",
     "text": [
      "100%|██████████| 7/7 [00:04<00:00,  1.58it/s]\n"
     ]
    },
    {
     "name": "stdout",
     "output_type": "stream",
     "text": [
      "Result: This is a large query, it may take a moment to complete\n",
      "Retrieved 24877 pitches from 2020-08-01 to 2020-08-07\n",
      "\n",
      "content=[{'text': 'Here is the code for the next step of the plan:', 'type': 'text'}, {'id': 'toolu_01PghCEkLE9RevH3WMafvKXY', 'input': {'code': '# 2. Filter for just curveballs\\nall_curves = all_pitches[all_pitches[\\'pitch_type\\'] == \\'CU\\']\\nprint(f\"There were {len(all_curves)} curveballs in the data\")'}, 'name': 'PythonREPL', 'type': 'tool_use'}] response_metadata={'id': 'msg_01RqPQ1c711z6hRkUBPZu1rq', 'model': 'claude-3-sonnet-20240229', 'stop_reason': 'tool_use', 'stop_sequence': None, 'usage': {'input_tokens': 6797, 'output_tokens': 128}} id='run-46f2eb3b-f2e4-40b6-9de3-4ac53b723c81-0'\n",
      "Executing: # 2. Filter for just curveballs\n",
      "all_curves = all_pitches[all_pitches['pitch_type'] == 'CU']\n",
      "print(f\"There were {len(all_curves)} curveballs in the data\")\n",
      "Result: There were 2025 curveballs in the data\n",
      "\n",
      "content=[{'text': 'Here is the code for the next step:', 'type': 'text'}, {'id': 'toolu_014jSvNiVdvqRA5GuAAtNj9L', 'input': {'code': '# 3. Create a feature vector for each pitcher\\'s curveballs\\npitcher_curves = all_curves.groupby(\\'pitcher\\')\\npitcher_features = pitcher_curves[[\\'release_speed\\', \\'release_spin\\', \\'pfx_x\\', \\'pfx_z\\']].mean().reset_index()\\n\\nprint(f\"Created feature vectors for {len(pitcher_features)} pitchers\")'}, 'name': 'PythonREPL', 'type': 'tool_use'}] response_metadata={'id': 'msg_01KuXPieWCTSW2JqY13N5qo7', 'model': 'claude-3-sonnet-20240229', 'stop_reason': 'tool_use', 'stop_sequence': None, 'usage': {'input_tokens': 7054, 'output_tokens': 155}} id='run-09050cba-0f78-4ea2-9906-b7a79bf8c5bb-0'\n",
      "Executing: # 3. Create a feature vector for each pitcher's curveballs\n",
      "pitcher_curves = all_curves.groupby('pitcher')\n",
      "pitcher_features = pitcher_curves[['release_speed', 'release_spin', 'pfx_x', 'pfx_z']].mean().reset_index()\n",
      "\n",
      "print(f\"Created feature vectors for {len(pitcher_features)} pitchers\")\n",
      "Result: KeyError(\"Columns not found: 'release_spin'\")\n",
      "content=[{'text': 'To troubleshoot the KeyError, it would be useful to see the columns that are available in the `all_curves` DataFrame. We can print the columns like this:', 'type': 'text'}, {'id': 'toolu_01JAdusycXgsGeNDDS1BPHVX', 'input': {'code': 'print(all_curves.columns)'}, 'name': 'PythonREPL', 'type': 'tool_use'}] response_metadata={'id': 'msg_01TTqAnMuFs97QbXrnzBTACa', 'model': 'claude-3-sonnet-20240229', 'stop_reason': 'tool_use', 'stop_sequence': None, 'usage': {'input_tokens': 7385, 'output_tokens': 99}} id='run-b334b82f-af71-4a43-8390-379382abbf51-0'\n",
      "Executing: print(all_curves.columns)\n",
      "Result: Index(['pitch_type', 'game_date', 'release_speed', 'release_pos_x',\n",
      "       'release_pos_z', 'player_name', 'batter', 'pitcher', 'events',\n",
      "       'description', 'spin_dir', 'spin_rate_deprecated',\n",
      "       'break_angle_deprecated', 'break_length_deprecated', 'zone', 'des',\n",
      "       'game_type', 'stand', 'p_throws', 'home_team', 'away_team', 'type',\n",
      "       'hit_location', 'bb_type', 'balls', 'strikes', 'game_year', 'pfx_x',\n",
      "       'pfx_z', 'plate_x', 'plate_z', 'on_3b', 'on_2b', 'on_1b',\n",
      "       'outs_when_up', 'inning', 'inning_topbot', 'hc_x', 'hc_y',\n",
      "       'tfs_deprecated', 'tfs_zulu_deprecated', 'fielder_2', 'umpire', 'sv_id',\n",
      "       'vx0', 'vy0', 'vz0', 'ax', 'ay', 'az', 'sz_top', 'sz_bot',\n",
      "       'hit_distance_sc', 'launch_speed', 'launch_angle', 'effective_speed',\n",
      "       'release_spin_rate', 'release_extension', 'game_pk', 'pitcher.1',\n",
      "       'fielder_2.1', 'fielder_3', 'fielder_4', 'fielder_5', 'fielder_6',\n",
      "       'fielder_7', 'fielder_8', 'fielder_9', 'release_pos_y',\n",
      "       'estimated_ba_using_speedangle', 'estimated_woba_using_speedangle',\n",
      "       'woba_value', 'woba_denom', 'babip_value', 'iso_value',\n",
      "       'launch_speed_angle', 'at_bat_number', 'pitch_number', 'pitch_name',\n",
      "       'home_score', 'away_score', 'bat_score', 'fld_score', 'post_away_score',\n",
      "       'post_home_score', 'post_bat_score', 'post_fld_score',\n",
      "       'if_fielding_alignment', 'of_fielding_alignment', 'spin_axis',\n",
      "       'delta_home_win_exp', 'delta_run_exp'],\n",
      "      dtype='object')\n",
      "\n",
      "content=[{'text': 'Based on the column names printed, it appears the `release_spin` column is not present in the data. However, there is a `release_spin_rate` column, so we can use that instead. Here is the updated code:', 'type': 'text'}, {'id': 'toolu_01PUhWrg9TzRfSUCE31bGr8i', 'input': {'code': '# 3. Create a feature vector for each pitcher\\'s curveballs \\npitcher_curves = all_curves.groupby(\\'pitcher\\')\\npitcher_features = pitcher_curves[[\\'release_speed\\', \\'release_spin_rate\\', \\'pfx_x\\', \\'pfx_z\\']].mean().reset_index()\\n\\nprint(f\"Created feature vectors for {len(pitcher_features)} pitchers\")'}, 'name': 'PythonREPL', 'type': 'tool_use'}] response_metadata={'id': 'msg_014aZ7HLJRnd6HNWdUB34mhx', 'model': 'claude-3-sonnet-20240229', 'stop_reason': 'tool_use', 'stop_sequence': None, 'usage': {'input_tokens': 8189, 'output_tokens': 199}} id='run-d5409aa7-6230-439f-80e6-1582fe6ae79c-0'\n",
      "Executing: # 3. Create a feature vector for each pitcher's curveballs \n",
      "pitcher_curves = all_curves.groupby('pitcher')\n",
      "pitcher_features = pitcher_curves[['release_speed', 'release_spin_rate', 'pfx_x', 'pfx_z']].mean().reset_index()\n",
      "\n",
      "print(f\"Created feature vectors for {len(pitcher_features)} pitchers\")\n",
      "Result: Created feature vectors for 215 pitchers\n",
      "\n",
      "content=[{'text': 'Here is the code for the next step:', 'type': 'text'}, {'id': 'toolu_014KGBWm88W6c1kNReSdJM8b', 'input': {'code': 'from pybaseball import playerid_lookup\\n\\n# 4. Get Max Scherzer\\'s player ID\\nscherzer_id = playerid_lookup(\\'scherzer\\', \\'max\\')[\\'key_mlbam\\'][0]\\nprint(f\"Max Scherzer\\'s player ID is: {scherzer_id}\")'}, 'name': 'PythonREPL', 'type': 'tool_use'}] response_metadata={'id': 'msg_011tuXnn8Cyrx7P3Xc1MD4D8', 'model': 'claude-3-sonnet-20240229', 'stop_reason': 'tool_use', 'stop_sequence': None, 'usage': {'input_tokens': 8550, 'output_tokens': 139}} id='run-81793c6a-cf24-4c53-9690-ec418fa05a0f-0'\n",
      "Executing: from pybaseball import playerid_lookup\n",
      "\n",
      "# 4. Get Max Scherzer's player ID\n",
      "scherzer_id = playerid_lookup('scherzer', 'max')['key_mlbam'][0]\n",
      "print(f\"Max Scherzer's player ID is: {scherzer_id}\")\n",
      "Result: Gathering player lookup table. This may take a moment.\n",
      "Max Scherzer's player ID is: 453286\n",
      "\n",
      "content=[{'text': 'Here is the code for the next step:', 'type': 'text'}, {'id': 'toolu_01JBnWK82byQwTodAACWei7u', 'input': {'code': \"# 5. Get Scherzer's feature vector\\nscherzer_features = pitcher_features[pitcher_features['pitcher'] == scherzer_id]\\nprint(scherzer_features)\"}, 'name': 'PythonREPL', 'type': 'tool_use'}] response_metadata={'id': 'msg_012ojVTdne7qJ11oVspiMi3y', 'model': 'claude-3-sonnet-20240229', 'stop_reason': 'tool_use', 'stop_sequence': None, 'usage': {'input_tokens': 8849, 'output_tokens': 109}} id='run-cf41c147-1d4d-4cdf-a266-46d4a7f396cb-0'\n",
      "Executing: # 5. Get Scherzer's feature vector\n",
      "scherzer_features = pitcher_features[pitcher_features['pitcher'] == scherzer_id]\n",
      "print(scherzer_features)\n",
      "Result:    pitcher  release_speed  release_spin_rate  pfx_x     pfx_z\n",
      "9   453286      75.433333        2861.666667   1.46 -0.756667\n",
      "\n",
      "content=[{'text': 'Here is the code for the next step:', 'type': 'text'}, {'id': 'toolu_017no7TuihickVhSCTp9C4ZU', 'input': {'code': 'from sklearn.neighbors import NearestNeighbors\\n\\n# 6. Import scikit-learn and create a knn model\\nknn = NearestNeighbors(n_neighbors=4)\\nfeatures = pitcher_features[[\\'release_speed\\', \\'release_spin_rate\\', \\'pfx_x\\', \\'pfx_z\\']]\\nknn.fit(features)\\n\\nprint(\"Fitted kNN model on pitcher curveball features\")'}, 'name': 'PythonREPL', 'type': 'tool_use'}] response_metadata={'id': 'msg_0185xPX9RRjXnunNBqjeuDQo', 'model': 'claude-3-sonnet-20240229', 'stop_reason': 'tool_use', 'stop_sequence': None, 'usage': {'input_tokens': 9111, 'output_tokens': 169}} id='run-5a69ec25-2712-4715-9bbf-5c7858ec61db-0'\n",
      "Executing: from sklearn.neighbors import NearestNeighbors\n",
      "\n",
      "# 6. Import scikit-learn and create a knn model\n",
      "knn = NearestNeighbors(n_neighbors=4)\n",
      "features = pitcher_features[['release_speed', 'release_spin_rate', 'pfx_x', 'pfx_z']]\n",
      "knn.fit(features)\n",
      "\n",
      "print(\"Fitted kNN model on pitcher curveball features\")\n",
      "Result: Fitted kNN model on pitcher curveball features\n",
      "\n",
      "content=[{'text': 'Here is the code for the next step:', 'type': 'text'}, {'id': 'toolu_01JiQ7eu2AaZo5uPyTPQZ8H3', 'input': {'code': '# 7. Find the 3 pitchers closest to Scherzer\\ndistances, indices = knn.kneighbors(scherzer_features[[\\'release_speed\\', \\'release_spin_rate\\', \\'pfx_x\\', \\'pfx_z\\']])\\nclosest_indices = indices[0][1:4]\\nsimilar_pitchers = pitcher_features.iloc[closest_indices]\\n\\nprint(\"The 3 pitchers with curveballs most similar to Max Scherzer:\")\\nprint(similar_pitchers[[\\'pitcher\\']])'}, 'name': 'PythonREPL', 'type': 'tool_use'}] response_metadata={'id': 'msg_01Gm4ZFmftfk8nxt1qzwBv7L', 'model': 'claude-3-sonnet-20240229', 'stop_reason': 'tool_use', 'stop_sequence': None, 'usage': {'input_tokens': 9455, 'output_tokens': 194}} id='run-771cbc2c-5f44-4168-b814-ed27e030fd0a-0'\n",
      "Executing: # 7. Find the 3 pitchers closest to Scherzer\n",
      "distances, indices = knn.kneighbors(scherzer_features[['release_speed', 'release_spin_rate', 'pfx_x', 'pfx_z']])\n",
      "closest_indices = indices[0][1:4]\n",
      "similar_pitchers = pitcher_features.iloc[closest_indices]\n",
      "\n",
      "print(\"The 3 pitchers with curveballs most similar to Max Scherzer:\")\n",
      "print(similar_pitchers[['pitcher']])\n",
      "Result: The 3 pitchers with curveballs most similar to Max Scherzer:\n",
      "     pitcher\n",
      "85    593833\n",
      "199   664285\n",
      "122   608331\n",
      "\n",
      "content=[{'text': \"There are no more steps in the provided plan. The last step was to print out the 3 pitchers with curveballs most similar to Max Scherzer's, which was done in the previous code block.\\n\\nSince there are no more steps, I will just print a message indicating the plan has been completed:\", 'type': 'text'}, {'id': 'toolu_01UMJ7rCe9ZSdRSvmeWqXwMY', 'input': {'code': 'print(\"Plan execution completed successfully!\")'}, 'name': 'PythonREPL', 'type': 'tool_use'}] response_metadata={'id': 'msg_017f7wqsxdZcVyKSKCNVBfhg', 'model': 'claude-3-sonnet-20240229', 'stop_reason': 'tool_use', 'stop_sequence': None, 'usage': {'input_tokens': 9876, 'output_tokens': 131}} id='run-e710ca45-0e1e-42ca-8cd2-5c470e4ecaca-0'\n",
      "Executing: print(\"Plan execution completed successfully!\")\n",
      "Result: Plan execution completed successfully!\n",
      "\n"
     ]
    },
    {
     "ename": "KeyError",
     "evalue": "'final_result'",
     "output_type": "error",
     "traceback": [
      "\u001b[0;31m---------------------------------------------------------------------------\u001b[0m",
      "\u001b[0;31mKeyError\u001b[0m                                  Traceback (most recent call last)",
      "Cell \u001b[0;32mIn[1], line 14\u001b[0m\n\u001b[1;32m     12\u001b[0m \u001b[38;5;28;01mfor\u001b[39;00m s \u001b[38;5;129;01min\u001b[39;00m execute_graph\u001b[38;5;241m.\u001b[39mgraph\u001b[38;5;241m.\u001b[39mstream(inputs, {\u001b[38;5;124m\"\u001b[39m\u001b[38;5;124mrecursion_limit\u001b[39m\u001b[38;5;124m\"\u001b[39m: \u001b[38;5;241m100\u001b[39m}):\n\u001b[1;32m     13\u001b[0m     \u001b[38;5;28;01mif\u001b[39;00m \u001b[38;5;124m\"\u001b[39m\u001b[38;5;124m__end__\u001b[39m\u001b[38;5;124m\"\u001b[39m  \u001b[38;5;129;01min\u001b[39;00m s:\n\u001b[0;32m---> 14\u001b[0m         final_result \u001b[38;5;241m=\u001b[39m \u001b[43ms\u001b[49m\u001b[43m[\u001b[49m\u001b[38;5;124;43m'\u001b[39;49m\u001b[38;5;124;43m__end__\u001b[39;49m\u001b[38;5;124;43m'\u001b[39;49m\u001b[43m]\u001b[49m\u001b[43m[\u001b[49m\u001b[38;5;124;43m'\u001b[39;49m\u001b[38;5;124;43mfinal_result\u001b[39;49m\u001b[38;5;124;43m'\u001b[39;49m\u001b[43m]\u001b[49m\n\u001b[1;32m     15\u001b[0m         successful_code \u001b[38;5;241m=\u001b[39m s[\u001b[38;5;124m'\u001b[39m\u001b[38;5;124m__end__\u001b[39m\u001b[38;5;124m'\u001b[39m][\u001b[38;5;124m'\u001b[39m\u001b[38;5;124msuccessful_code\u001b[39m\u001b[38;5;124m'\u001b[39m]\n",
      "\u001b[0;31mKeyError\u001b[0m: 'final_result'"
     ]
    }
   ],
   "source": [
    "from graphs import execute_graph\n",
    "import text\n",
    "\n",
    "# collect metadata from state\n",
    "plan = text.plan\n",
    "task = text.task\n",
    "function_detail = text.function_detail\n",
    "session_id = '1'\n",
    "\n",
    "inputs = {\"plan\": plan, \"task\": task, \"function_detail\":function_detail, \"session_id\": session_id, 'messages':[], 'successful_code': []}\n",
    "\n",
    "for s in execute_graph.graph.stream(inputs, {\"recursion_limit\": 100}):\n",
    "    if \"__end__\"  in s:\n",
    "        final_result = s['__end__']['final_result']\n",
    "        successful_code = s['__end__']['successful_code']"
   ]
  },
  {
   "cell_type": "code",
   "execution_count": 2,
   "metadata": {},
   "outputs": [
    {
     "data": {
      "text/plain": [
       "dict_keys(['messages', 'session_id', 'plan', 'task', 'function_detail', 'result', 'successful_code'])"
      ]
     },
     "execution_count": 2,
     "metadata": {},
     "output_type": "execute_result"
    }
   ],
   "source": [
    "s['__end__'].keys()"
   ]
  },
  {
   "cell_type": "code",
   "execution_count": 9,
   "metadata": {},
   "outputs": [
    {
     "data": {
      "text/plain": [
       "[HumanMessage(content='Convert the next step of the plan into code that can be executed in a Python REPL.'),\n",
       " AIMessage(content=[{'text': 'Here is the code to execute the next step of the plan:', 'type': 'text'}, {'id': 'toolu_01UNUqYsys9JWzJgzMt3ivzJ', 'input': {'code': 'import pandas as pd\\nfrom pybaseball import statcast\\n\\n# 1. Get all pitch data from 2020-08-01 to 2020-08-07\\nall_pitches = statcast(\\'2020-08-01\\', \\'2020-08-07\\')\\nprint(f\"Retrieved {len(all_pitches)} pitches from 2020-08-01 to 2020-08-07\")'}, 'name': 'PythonREPL', 'type': 'tool_use'}], response_metadata={'id': 'msg_016SkY3WbMd1dMXwsBPQKtLE', 'model': 'claude-3-sonnet-20240229', 'stop_reason': 'tool_use', 'stop_sequence': None, 'usage': {'input_tokens': 6438, 'output_tokens': 167}}, id='run-9fa57cec-ba90-48c5-92ef-88823584c37a-0'),\n",
       " ToolMessage(content='The previous step completed successfully with the following code:\\n\\n```python\\nimport pandas as pd\\nfrom pybaseball import statcast\\n\\n# 1. Get all pitch data from 2020-08-01 to 2020-08-07\\nall_pitches = statcast(\\'2020-08-01\\', \\'2020-08-07\\')\\nprint(f\"Retrieved {len(all_pitches)} pitches from 2020-08-01 to 2020-08-07\")\\n```\\n\\nHere was the result: This is a large query, it may take a moment to complete\\nRetrieved 24877 pitches from 2020-08-01 to 2020-08-07\\n', tool_call_id='toolu_01UNUqYsys9JWzJgzMt3ivzJ'),\n",
       " HumanMessage(content='Convert the next step of the plan into code that can be executed in a Python REPL.'),\n",
       " AIMessage(content=[{'text': 'Here is the code for the next step of the plan:', 'type': 'text'}, {'id': 'toolu_01PghCEkLE9RevH3WMafvKXY', 'input': {'code': '# 2. Filter for just curveballs\\nall_curves = all_pitches[all_pitches[\\'pitch_type\\'] == \\'CU\\']\\nprint(f\"There were {len(all_curves)} curveballs in the data\")'}, 'name': 'PythonREPL', 'type': 'tool_use'}], response_metadata={'id': 'msg_01RqPQ1c711z6hRkUBPZu1rq', 'model': 'claude-3-sonnet-20240229', 'stop_reason': 'tool_use', 'stop_sequence': None, 'usage': {'input_tokens': 6797, 'output_tokens': 128}}, id='run-46f2eb3b-f2e4-40b6-9de3-4ac53b723c81-0'),\n",
       " ToolMessage(content='The previous step completed successfully with the following code:\\n\\n```python\\n# 2. Filter for just curveballs\\nall_curves = all_pitches[all_pitches[\\'pitch_type\\'] == \\'CU\\']\\nprint(f\"There were {len(all_curves)} curveballs in the data\")\\n```\\n\\nHere was the result: There were 2025 curveballs in the data\\n', tool_call_id='toolu_01PghCEkLE9RevH3WMafvKXY'),\n",
       " HumanMessage(content='Convert the next step of the plan into code that can be executed in a Python REPL.'),\n",
       " AIMessage(content=[{'text': 'Here is the code for the next step:', 'type': 'text'}, {'id': 'toolu_014jSvNiVdvqRA5GuAAtNj9L', 'input': {'code': '# 3. Create a feature vector for each pitcher\\'s curveballs\\npitcher_curves = all_curves.groupby(\\'pitcher\\')\\npitcher_features = pitcher_curves[[\\'release_speed\\', \\'release_spin\\', \\'pfx_x\\', \\'pfx_z\\']].mean().reset_index()\\n\\nprint(f\"Created feature vectors for {len(pitcher_features)} pitchers\")'}, 'name': 'PythonREPL', 'type': 'tool_use'}], response_metadata={'id': 'msg_01KuXPieWCTSW2JqY13N5qo7', 'model': 'claude-3-sonnet-20240229', 'stop_reason': 'tool_use', 'stop_sequence': None, 'usage': {'input_tokens': 7054, 'output_tokens': 155}}, id='run-09050cba-0f78-4ea2-9906-b7a79bf8c5bb-0'),\n",
       " ToolMessage(content='The previous step reached an error with the following code:\\n\\n```python\\n# 3. Create a feature vector for each pitcher\\'s curveballs\\npitcher_curves = all_curves.groupby(\\'pitcher\\')\\npitcher_features = pitcher_curves[[\\'release_speed\\', \\'release_spin\\', \\'pfx_x\\', \\'pfx_z\\']].mean().reset_index()\\n\\nprint(f\"Created feature vectors for {len(pitcher_features)} pitchers\")\\n```\\n\\nHere was the error: KeyError(\"Columns not found: \\'release_spin\\'\")', tool_call_id='toolu_014jSvNiVdvqRA5GuAAtNj9L'),\n",
       " HumanMessage(content='What information would be useful in order to troubleshoot this error?  Write Python code that can be executed in a python repl to confirm this information.'),\n",
       " AIMessage(content=[{'text': 'To troubleshoot the KeyError, it would be useful to see the columns that are available in the `all_curves` DataFrame. We can print the columns like this:', 'type': 'text'}, {'id': 'toolu_01JAdusycXgsGeNDDS1BPHVX', 'input': {'code': 'print(all_curves.columns)'}, 'name': 'PythonREPL', 'type': 'tool_use'}], response_metadata={'id': 'msg_01TTqAnMuFs97QbXrnzBTACa', 'model': 'claude-3-sonnet-20240229', 'stop_reason': 'tool_use', 'stop_sequence': None, 'usage': {'input_tokens': 7385, 'output_tokens': 99}}, id='run-b334b82f-af71-4a43-8390-379382abbf51-0'),\n",
       " ToolMessage(content=\"The previous step completed successfully with the following code:\\n\\n```python\\nprint(all_curves.columns)\\n```\\n\\nHere was the result: Index(['pitch_type', 'game_date', 'release_speed', 'release_pos_x',\\n       'release_pos_z', 'player_name', 'batter', 'pitcher', 'events',\\n       'description', 'spin_dir', 'spin_rate_deprecated',\\n       'break_angle_deprecated', 'break_length_deprecated', 'zone', 'des',\\n       'game_type', 'stand', 'p_throws', 'home_team', 'away_team', 'type',\\n       'hit_location', 'bb_type', 'balls', 'strikes', 'game_year', 'pfx_x',\\n       'pfx_z', 'plate_x', 'plate_z', 'on_3b', 'on_2b', 'on_1b',\\n       'outs_when_up', 'inning', 'inning_topbot', 'hc_x', 'hc_y',\\n       'tfs_deprecated', 'tfs_zulu_deprecated', 'fielder_2', 'umpire', 'sv_id',\\n       'vx0', 'vy0', 'vz0', 'ax', 'ay', 'az', 'sz_top', 'sz_bot',\\n       'hit_distance_sc', 'launch_speed', 'launch_angle', 'effective_speed',\\n       'release_spin_rate', 'release_extension', 'game_pk', 'pitcher.1',\\n       'fielder_2.1', 'fielder_3', 'fielder_4', 'fielder_5', 'fielder_6',\\n       'fielder_7', 'fielder_8', 'fielder_9', 'release_pos_y',\\n       'estimated_ba_using_speedangle', 'estimated_woba_using_speedangle',\\n       'woba_value', 'woba_denom', 'babip_value', 'iso_value',\\n       'launch_speed_angle', 'at_bat_number', 'pitch_number', 'pitch_name',\\n       'home_score', 'away_score', 'bat_score', 'fld_score', 'post_away_score',\\n       'post_home_score', 'post_bat_score', 'post_fld_score',\\n       'if_fielding_alignment', 'of_fielding_alignment', 'spin_axis',\\n       'delta_home_win_exp', 'delta_run_exp'],\\n      dtype='object')\\n\", tool_call_id='toolu_01JAdusycXgsGeNDDS1BPHVX'),\n",
       " HumanMessage(content='Convert the next step of the plan into code that can be executed in a Python REPL.'),\n",
       " AIMessage(content=[{'text': 'Based on the column names printed, it appears the `release_spin` column is not present in the data. However, there is a `release_spin_rate` column, so we can use that instead. Here is the updated code:', 'type': 'text'}, {'id': 'toolu_01PUhWrg9TzRfSUCE31bGr8i', 'input': {'code': '# 3. Create a feature vector for each pitcher\\'s curveballs \\npitcher_curves = all_curves.groupby(\\'pitcher\\')\\npitcher_features = pitcher_curves[[\\'release_speed\\', \\'release_spin_rate\\', \\'pfx_x\\', \\'pfx_z\\']].mean().reset_index()\\n\\nprint(f\"Created feature vectors for {len(pitcher_features)} pitchers\")'}, 'name': 'PythonREPL', 'type': 'tool_use'}], response_metadata={'id': 'msg_014aZ7HLJRnd6HNWdUB34mhx', 'model': 'claude-3-sonnet-20240229', 'stop_reason': 'tool_use', 'stop_sequence': None, 'usage': {'input_tokens': 8189, 'output_tokens': 199}}, id='run-d5409aa7-6230-439f-80e6-1582fe6ae79c-0'),\n",
       " ToolMessage(content='The previous step completed successfully with the following code:\\n\\n```python\\n# 3. Create a feature vector for each pitcher\\'s curveballs \\npitcher_curves = all_curves.groupby(\\'pitcher\\')\\npitcher_features = pitcher_curves[[\\'release_speed\\', \\'release_spin_rate\\', \\'pfx_x\\', \\'pfx_z\\']].mean().reset_index()\\n\\nprint(f\"Created feature vectors for {len(pitcher_features)} pitchers\")\\n```\\n\\nHere was the result: Created feature vectors for 215 pitchers\\n', tool_call_id='toolu_01PUhWrg9TzRfSUCE31bGr8i'),\n",
       " HumanMessage(content='Convert the next step of the plan into code that can be executed in a Python REPL.'),\n",
       " AIMessage(content=[{'text': 'Here is the code for the next step:', 'type': 'text'}, {'id': 'toolu_014KGBWm88W6c1kNReSdJM8b', 'input': {'code': 'from pybaseball import playerid_lookup\\n\\n# 4. Get Max Scherzer\\'s player ID\\nscherzer_id = playerid_lookup(\\'scherzer\\', \\'max\\')[\\'key_mlbam\\'][0]\\nprint(f\"Max Scherzer\\'s player ID is: {scherzer_id}\")'}, 'name': 'PythonREPL', 'type': 'tool_use'}], response_metadata={'id': 'msg_011tuXnn8Cyrx7P3Xc1MD4D8', 'model': 'claude-3-sonnet-20240229', 'stop_reason': 'tool_use', 'stop_sequence': None, 'usage': {'input_tokens': 8550, 'output_tokens': 139}}, id='run-81793c6a-cf24-4c53-9690-ec418fa05a0f-0'),\n",
       " ToolMessage(content='The previous step completed successfully with the following code:\\n\\n```python\\nfrom pybaseball import playerid_lookup\\n\\n# 4. Get Max Scherzer\\'s player ID\\nscherzer_id = playerid_lookup(\\'scherzer\\', \\'max\\')[\\'key_mlbam\\'][0]\\nprint(f\"Max Scherzer\\'s player ID is: {scherzer_id}\")\\n```\\n\\nHere was the result: Gathering player lookup table. This may take a moment.\\nMax Scherzer\\'s player ID is: 453286\\n', tool_call_id='toolu_014KGBWm88W6c1kNReSdJM8b'),\n",
       " HumanMessage(content='Convert the next step of the plan into code that can be executed in a Python REPL.'),\n",
       " AIMessage(content=[{'text': 'Here is the code for the next step:', 'type': 'text'}, {'id': 'toolu_01JBnWK82byQwTodAACWei7u', 'input': {'code': \"# 5. Get Scherzer's feature vector\\nscherzer_features = pitcher_features[pitcher_features['pitcher'] == scherzer_id]\\nprint(scherzer_features)\"}, 'name': 'PythonREPL', 'type': 'tool_use'}], response_metadata={'id': 'msg_012ojVTdne7qJ11oVspiMi3y', 'model': 'claude-3-sonnet-20240229', 'stop_reason': 'tool_use', 'stop_sequence': None, 'usage': {'input_tokens': 8849, 'output_tokens': 109}}, id='run-cf41c147-1d4d-4cdf-a266-46d4a7f396cb-0'),\n",
       " ToolMessage(content=\"The previous step completed successfully with the following code:\\n\\n```python\\n# 5. Get Scherzer's feature vector\\nscherzer_features = pitcher_features[pitcher_features['pitcher'] == scherzer_id]\\nprint(scherzer_features)\\n```\\n\\nHere was the result:    pitcher  release_speed  release_spin_rate  pfx_x     pfx_z\\n9   453286      75.433333        2861.666667   1.46 -0.756667\\n\", tool_call_id='toolu_01JBnWK82byQwTodAACWei7u'),\n",
       " HumanMessage(content='Convert the next step of the plan into code that can be executed in a Python REPL.'),\n",
       " AIMessage(content=[{'text': 'Here is the code for the next step:', 'type': 'text'}, {'id': 'toolu_017no7TuihickVhSCTp9C4ZU', 'input': {'code': 'from sklearn.neighbors import NearestNeighbors\\n\\n# 6. Import scikit-learn and create a knn model\\nknn = NearestNeighbors(n_neighbors=4)\\nfeatures = pitcher_features[[\\'release_speed\\', \\'release_spin_rate\\', \\'pfx_x\\', \\'pfx_z\\']]\\nknn.fit(features)\\n\\nprint(\"Fitted kNN model on pitcher curveball features\")'}, 'name': 'PythonREPL', 'type': 'tool_use'}], response_metadata={'id': 'msg_0185xPX9RRjXnunNBqjeuDQo', 'model': 'claude-3-sonnet-20240229', 'stop_reason': 'tool_use', 'stop_sequence': None, 'usage': {'input_tokens': 9111, 'output_tokens': 169}}, id='run-5a69ec25-2712-4715-9bbf-5c7858ec61db-0'),\n",
       " ToolMessage(content='The previous step completed successfully with the following code:\\n\\n```python\\nfrom sklearn.neighbors import NearestNeighbors\\n\\n# 6. Import scikit-learn and create a knn model\\nknn = NearestNeighbors(n_neighbors=4)\\nfeatures = pitcher_features[[\\'release_speed\\', \\'release_spin_rate\\', \\'pfx_x\\', \\'pfx_z\\']]\\nknn.fit(features)\\n\\nprint(\"Fitted kNN model on pitcher curveball features\")\\n```\\n\\nHere was the result: Fitted kNN model on pitcher curveball features\\n', tool_call_id='toolu_017no7TuihickVhSCTp9C4ZU'),\n",
       " HumanMessage(content='Convert the next step of the plan into code that can be executed in a Python REPL.'),\n",
       " AIMessage(content=[{'text': 'Here is the code for the next step:', 'type': 'text'}, {'id': 'toolu_01JiQ7eu2AaZo5uPyTPQZ8H3', 'input': {'code': '# 7. Find the 3 pitchers closest to Scherzer\\ndistances, indices = knn.kneighbors(scherzer_features[[\\'release_speed\\', \\'release_spin_rate\\', \\'pfx_x\\', \\'pfx_z\\']])\\nclosest_indices = indices[0][1:4]\\nsimilar_pitchers = pitcher_features.iloc[closest_indices]\\n\\nprint(\"The 3 pitchers with curveballs most similar to Max Scherzer:\")\\nprint(similar_pitchers[[\\'pitcher\\']])'}, 'name': 'PythonREPL', 'type': 'tool_use'}], response_metadata={'id': 'msg_01Gm4ZFmftfk8nxt1qzwBv7L', 'model': 'claude-3-sonnet-20240229', 'stop_reason': 'tool_use', 'stop_sequence': None, 'usage': {'input_tokens': 9455, 'output_tokens': 194}}, id='run-771cbc2c-5f44-4168-b814-ed27e030fd0a-0'),\n",
       " ToolMessage(content='The previous step completed successfully with the following code:\\n\\n```python\\n# 7. Find the 3 pitchers closest to Scherzer\\ndistances, indices = knn.kneighbors(scherzer_features[[\\'release_speed\\', \\'release_spin_rate\\', \\'pfx_x\\', \\'pfx_z\\']])\\nclosest_indices = indices[0][1:4]\\nsimilar_pitchers = pitcher_features.iloc[closest_indices]\\n\\nprint(\"The 3 pitchers with curveballs most similar to Max Scherzer:\")\\nprint(similar_pitchers[[\\'pitcher\\']])\\n```\\n\\nHere was the result: The 3 pitchers with curveballs most similar to Max Scherzer:\\n     pitcher\\n85    593833\\n199   664285\\n122   608331\\n', tool_call_id='toolu_01JiQ7eu2AaZo5uPyTPQZ8H3'),\n",
       " HumanMessage(content='Convert the next step of the plan into code that can be executed in a Python REPL.'),\n",
       " AIMessage(content=[{'text': \"There are no more steps in the provided plan. The last step was to print out the 3 pitchers with curveballs most similar to Max Scherzer's, which was done in the previous code block.\\n\\nSince there are no more steps, I will just print a message indicating the plan has been completed:\", 'type': 'text'}, {'id': 'toolu_01UMJ7rCe9ZSdRSvmeWqXwMY', 'input': {'code': 'print(\"Plan execution completed successfully!\")'}, 'name': 'PythonREPL', 'type': 'tool_use'}], response_metadata={'id': 'msg_017f7wqsxdZcVyKSKCNVBfhg', 'model': 'claude-3-sonnet-20240229', 'stop_reason': 'tool_use', 'stop_sequence': None, 'usage': {'input_tokens': 9876, 'output_tokens': 131}}, id='run-e710ca45-0e1e-42ca-8cd2-5c470e4ecaca-0'),\n",
       " ToolMessage(content='The previous step completed successfully with the following code:\\n\\n```python\\nprint(\"Plan execution completed successfully!\")\\n```\\n\\nHere was the result: Plan execution completed successfully!\\n', tool_call_id='toolu_01UMJ7rCe9ZSdRSvmeWqXwMY'),\n",
       " HumanMessage(content='Convert the next step of the plan into code that can be executed in a Python REPL.'),\n",
       " AIMessage(content='Since there are no more steps in the provided plan, I cannot convert any additional steps into code. The plan has been fully executed. If you have any other requests, please let me know.', response_metadata={'id': 'msg_011VwuvQg3PnPS6vdAFbSQ6J', 'model': 'claude-3-sonnet-20240229', 'stop_reason': 'end_turn', 'stop_sequence': None, 'usage': {'input_tokens': 10079, 'output_tokens': 42}}, id='run-63eae358-1d61-43ea-9ab9-b73877d46dda-0')]"
      ]
     },
     "execution_count": 9,
     "metadata": {},
     "output_type": "execute_result"
    }
   ],
   "source": [
    "s['__end__']['messages']"
   ]
  },
  {
   "cell_type": "code",
   "execution_count": null,
   "metadata": {},
   "outputs": [],
   "source": []
  }
 ],
 "metadata": {
  "kernelspec": {
   "display_name": "venv",
   "language": "python",
   "name": "python3"
  },
  "language_info": {
   "codemirror_mode": {
    "name": "ipython",
    "version": 3
   },
   "file_extension": ".py",
   "mimetype": "text/x-python",
   "name": "python",
   "nbconvert_exporter": "python",
   "pygments_lexer": "ipython3",
   "version": "3.10.8"
  }
 },
 "nbformat": 4,
 "nbformat_minor": 2
}
