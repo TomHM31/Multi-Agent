{
 "cells": [
  {
   "cell_type": "code",
   "execution_count": 1,
   "metadata": {},
   "outputs": [
    {
     "name": "stderr",
     "output_type": "stream",
     "text": [
      "/Users/rosclay/Documents/VSCode/langgraph-multi-agent/venv/lib/python3.10/site-packages/langchain_core/_api/beta_decorator.py:87: LangChainBetaWarning: The function `bind_tools` is in beta. It is actively being worked on, so the API may change.\n",
      "  warn_beta(\n",
      "Python REPL can execute arbitrary code. Use with caution.\n"
     ]
    },
    {
     "name": "stdout",
     "output_type": "stream",
     "text": [
      "Executing: import pandas as pd\n",
      "from pybaseball import statcast\n",
      "\n",
      "# 1. Get all pitch data from 2020-08-01 to 2020-08-07\n",
      "all_pitches = statcast('2020-08-01', '2020-08-07')\n"
     ]
    },
    {
     "name": "stderr",
     "output_type": "stream",
     "text": [
      "100%|██████████| 7/7 [00:04<00:00,  1.49it/s]\n"
     ]
    },
    {
     "name": "stdout",
     "output_type": "stream",
     "text": [
      "Result: This is a large query, it may take a moment to complete\n",
      "\n",
      "Executing: # 2. Filter for just curveballs\n",
      "all_curves = all_pitches[all_pitches['pitch_type'] == 'CU']\n",
      "Executing: import pandas as pd\n",
      "\n",
      "# 3. Create a feature vector for each pitcher's curveballs\n",
      "pitcher_curves = all_curves.groupby('pitcher')\n",
      "pitcher_features = pitcher_curves[['release_speed', 'release_spin', 'pfx_x', 'pfx_z']].mean().reset_index()\n",
      "Result: KeyError(\"Columns not found: 'release_spin'\")\n",
      "Executing: print(all_curves.columns)\n",
      "Result: Index(['pitch_type', 'game_date', 'release_speed', 'release_pos_x',\n",
      "       'release_pos_z', 'player_name', 'batter', 'pitcher', 'events',\n",
      "       'description', 'spin_dir', 'spin_rate_deprecated',\n",
      "       'break_angle_deprecated', 'break_length_deprecated', 'zone', 'des',\n",
      "       'game_type', 'stand', 'p_throws', 'home_team', 'away_team', 'type',\n",
      "       'hit_location', 'bb_type', 'balls', 'strikes', 'game_year', 'pfx_x',\n",
      "       'pfx_z', 'plate_x', 'plate_z', 'on_3b', 'on_2b', 'on_1b',\n",
      "       'outs_when_up', 'inning', 'inning_topbot', 'hc_x', 'hc_y',\n",
      "       'tfs_deprecated', 'tfs_zulu_deprecated', 'fielder_2', 'umpire', 'sv_id',\n",
      "       'vx0', 'vy0', 'vz0', 'ax', 'ay', 'az', 'sz_top', 'sz_bot',\n",
      "       'hit_distance_sc', 'launch_speed', 'launch_angle', 'effective_speed',\n",
      "       'release_spin_rate', 'release_extension', 'game_pk', 'pitcher.1',\n",
      "       'fielder_2.1', 'fielder_3', 'fielder_4', 'fielder_5', 'fielder_6',\n",
      "       'fielder_7', 'fielder_8', 'fielder_9', 'release_pos_y',\n",
      "       'estimated_ba_using_speedangle', 'estimated_woba_using_speedangle',\n",
      "       'woba_value', 'woba_denom', 'babip_value', 'iso_value',\n",
      "       'launch_speed_angle', 'at_bat_number', 'pitch_number', 'pitch_name',\n",
      "       'home_score', 'away_score', 'bat_score', 'fld_score', 'post_away_score',\n",
      "       'post_home_score', 'post_bat_score', 'post_fld_score',\n",
      "       'if_fielding_alignment', 'of_fielding_alignment', 'spin_axis',\n",
      "       'delta_home_win_exp', 'delta_run_exp'],\n",
      "      dtype='object')\n",
      "\n",
      "Executing: import pandas as pd  \n",
      "\n",
      "# 3. Create a feature vector for each pitcher's curveballs\n",
      "pitcher_curves = all_curves.groupby('pitcher')\n",
      "pitcher_features = pitcher_curves[['release_speed', 'release_spin_rate', 'pfx_x', 'pfx_z']].mean().reset_index()\n",
      "Executing: from pybaseball import playerid_lookup\n",
      "\n",
      "# 4. Get Max Scherzer's player ID\n",
      "scherzer_id = playerid_lookup('scherzer', 'max')['key_mlbam'][0]\n",
      "print(scherzer_id)\n",
      "Result: Gathering player lookup table. This may take a moment.\n",
      "453286\n",
      "\n",
      "Executing: # 5. Get Scherzer's feature vector\n",
      "scherzer_features = pitcher_features[pitcher_features['pitcher'] == scherzer_id]\n",
      "print(scherzer_features)\n",
      "Result:    pitcher  release_speed  release_spin_rate  pfx_x     pfx_z\n",
      "9   453286      75.433333        2861.666667   1.46 -0.756667\n",
      "\n",
      "Executing: from sklearn.neighbors import NearestNeighbors\n",
      "\n",
      "# 6. Import scikit-learn and create a knn model\n",
      "knn = NearestNeighbors(n_neighbors=4)\n",
      "knn.fit(pitcher_features[['release_speed', 'release_spin_rate', 'pfx_x', 'pfx_z']])\n",
      "Executing: # 7. Find the 3 pitchers closest to Scherzer\n",
      "distances, indices = knn.kneighbors(scherzer_features[['release_speed', 'release_spin_rate', 'pfx_x', 'pfx_z']])\n",
      "closest_indices = indices[0][1:4]\n",
      "similar_pitchers = pitcher_features.iloc[closest_indices]\n",
      "\n",
      "print('The 3 pitchers with curveballs most similar to Max Scherzer:')\n",
      "print(similar_pitchers[['pitcher']])\n",
      "Result: The 3 pitchers with curveballs most similar to Max Scherzer:\n",
      "     pitcher\n",
      "85    593833\n",
      "199   664285\n",
      "122   608331\n",
      "\n"
     ]
    }
   ],
   "source": [
    "from graphs import execute_graph\n",
    "import text\n",
    "\n",
    "# collect metadata from state\n",
    "plan = text.plan\n",
    "task = text.task\n",
    "function_detail = text.function_detail\n",
    "session_id = '1'\n",
    "\n",
    "inputs = {\"plan\": plan, \"task\": task, \"function_detail\":function_detail, \"session_id\": session_id, 'messages':[], 'successful_code': []}\n",
    "\n",
    "for s in execute_graph.graph.stream(inputs, {\"recursion_limit\": 100}):\n",
    "    if \"__end__\"  in s:\n",
    "        successful_code = s['__end__']['successful_code']\n",
    "        final_answer = s['__end__']['generation_result'].content[1]['input']['answer']\n",
    "        plan = s['__end__']['generation_result'].content[1]['input']['plan']"
   ]
  },
  {
   "cell_type": "code",
   "execution_count": 2,
   "metadata": {},
   "outputs": [
    {
     "name": "stdout",
     "output_type": "stream",
     "text": [
      "import pandas as pd\n",
      "from pybaseball import statcast\n",
      "\n",
      "# 1. Get all pitch data from 2020-08-01 to 2020-08-07\n",
      "all_pitches = statcast('2020-08-01', '2020-08-07')# 2. Filter for just curveballs\n",
      "all_curves = all_pitches[all_pitches['pitch_type'] == 'CU']print(all_curves.columns)import pandas as pd  \n",
      "\n",
      "# 3. Create a feature vector for each pitcher's curveballs\n",
      "pitcher_curves = all_curves.groupby('pitcher')\n",
      "pitcher_features = pitcher_curves[['release_speed', 'release_spin_rate', 'pfx_x', 'pfx_z']].mean().reset_index()from pybaseball import playerid_lookup\n",
      "\n",
      "# 4. Get Max Scherzer's player ID\n",
      "scherzer_id = playerid_lookup('scherzer', 'max')['key_mlbam'][0]\n",
      "print(scherzer_id)# 5. Get Scherzer's feature vector\n",
      "scherzer_features = pitcher_features[pitcher_features['pitcher'] == scherzer_id]\n",
      "print(scherzer_features)from sklearn.neighbors import NearestNeighbors\n",
      "\n",
      "# 6. Import scikit-learn and create a knn model\n",
      "knn = NearestNeighbors(n_neighbors=4)\n",
      "knn.fit(pitcher_features[['release_speed', 'release_spin_rate', 'pfx_x', 'pfx_z']])# 7. Find the 3 pitchers closest to Scherzer\n",
      "distances, indices = knn.kneighbors(scherzer_features[['release_speed', 'release_spin_rate', 'pfx_x', 'pfx_z']])\n",
      "closest_indices = indices[0][1:4]\n",
      "similar_pitchers = pitcher_features.iloc[closest_indices]\n",
      "\n",
      "print('The 3 pitchers with curveballs most similar to Max Scherzer:')\n",
      "print(similar_pitchers[['pitcher']])\n"
     ]
    }
   ],
   "source": [
    "print(''.join(successful_code))"
   ]
  },
  {
   "cell_type": "code",
   "execution_count": 3,
   "metadata": {},
   "outputs": [
    {
     "name": "stdout",
     "output_type": "stream",
     "text": [
      "The 3 pitchers with curveballs most similar to Max Scherzer's in the first week of August 2020, based on release speed, spin rate, horizontal and vertical movement, were:\n",
      "\n",
      "593833\n",
      "664285  \n",
      "608331\n"
     ]
    }
   ],
   "source": [
    "print(final_answer)"
   ]
  },
  {
   "cell_type": "code",
   "execution_count": 4,
   "metadata": {},
   "outputs": [
    {
     "name": "stdout",
     "output_type": "stream",
     "text": [
      "1. Get all pitch data from 2020-08-01 to 2020-08-07:\n",
      "all_pitches = statcast('2020-08-01', '2020-08-07')\n",
      "\n",
      "2. Filter for just curveballs:\n",
      "all_curves = all_pitches[all_pitches['pitch_type'] == 'CU'] \n",
      "\n",
      "3. Create a feature vector for each pitcher's curveballs:\n",
      "pitcher_curves = all_curves.groupby('pitcher')\n",
      "pitcher_features = pitcher_curves[['release_speed', 'release_spin_rate', 'pfx_x', 'pfx_z']].mean().reset_index()\n",
      "\n",
      "4. Get Max Scherzer's player ID:\n",
      "scherzer_id = playerid_lookup('scherzer', 'max')['key_mlbam'][0]\n",
      "\n",
      "5. Get Scherzer's feature vector:\n",
      "scherzer_features = pitcher_features[pitcher_features['pitcher'] == scherzer_id]\n",
      "\n",
      "6. Import scikit-learn and create a knn model:\n",
      "knn = NearestNeighbors(n_neighbors=4) \n",
      "knn.fit(pitcher_features[['release_speed', 'release_spin_rate', 'pfx_x', 'pfx_z']])\n",
      "\n",
      "7. Find the 3 pitchers closest to Scherzer:\n",
      "distances, indices = knn.kneighbors(scherzer_features[['release_speed', 'release_spin_rate', 'pfx_x', 'pfx_z']])\n",
      "closest_indices = indices[0][1:4]\n",
      "similar_pitchers = pitcher_features.iloc[closest_indices]\n"
     ]
    }
   ],
   "source": [
    "print(plan)"
   ]
  },
  {
   "cell_type": "code",
   "execution_count": null,
   "metadata": {},
   "outputs": [],
   "source": []
  }
 ],
 "metadata": {
  "kernelspec": {
   "display_name": "venv",
   "language": "python",
   "name": "python3"
  },
  "language_info": {
   "codemirror_mode": {
    "name": "ipython",
    "version": 3
   },
   "file_extension": ".py",
   "mimetype": "text/x-python",
   "name": "python",
   "nbconvert_exporter": "python",
   "pygments_lexer": "ipython3",
   "version": "3.10.8"
  }
 },
 "nbformat": 4,
 "nbformat_minor": 2
}
