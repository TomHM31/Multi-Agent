{
 "cells": [
  {
   "cell_type": "code",
   "execution_count": null,
   "metadata": {},
   "outputs": [],
   "source": [
    "from graphs import execute_graph\n",
    "import text\n",
    "\n",
    "# collect metadata from state\n",
    "plan = text.plan\n",
    "task = text.task\n",
    "function_detail = text.function_detail\n",
    "session_id = '1'\n",
    "\n",
    "inputs = {\"plan\": plan, \"task\": task, \"function_detail\":function_detail, \"session_id\": session_id, 'messages':[], 'successful_code': []}\n",
    "\n",
    "for s in execute_graph.graph.stream(inputs, {\"recursion_limit\": 100}):\n",
    "    if \"__end__\"  in s:\n",
    "        successful_code = s['__end__']['successful_code']\n",
    "        final_answer = s['__end__']['generation_result'].content[1]['input']['answer']\n",
    "        plan = s['__end__']['generation_result'].content[1]['input']['plan']"
   ]
  },
  {
   "cell_type": "code",
   "execution_count": null,
   "metadata": {},
   "outputs": [],
   "source": [
    "print(''.join(successful_code))"
   ]
  },
  {
   "cell_type": "code",
   "execution_count": null,
   "metadata": {},
   "outputs": [],
   "source": [
    "print(final_answer)"
   ]
  },
  {
   "cell_type": "code",
   "execution_count": null,
   "metadata": {},
   "outputs": [],
   "source": [
    "print(plan)"
   ]
  },
  {
   "cell_type": "code",
   "execution_count": null,
   "metadata": {},
   "outputs": [],
   "source": []
  }
 ],
 "metadata": {
  "kernelspec": {
   "display_name": "venv",
   "language": "python",
   "name": "python3"
  },
  "language_info": {
   "codemirror_mode": {
    "name": "ipython",
    "version": 3
   },
   "file_extension": ".py",
   "mimetype": "text/x-python",
   "name": "python",
   "nbconvert_exporter": "python",
   "pygments_lexer": "ipython3",
   "version": "3.10.8"
  }
 },
 "nbformat": 4,
 "nbformat_minor": 2
}
