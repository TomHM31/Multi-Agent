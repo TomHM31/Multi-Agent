{
 "cells": [
  {
   "cell_type": "code",
   "execution_count": 1,
   "id": "7c01b355-66d2-40e0-92a4-c4553a8d2edd",
   "metadata": {
    "tags": []
   },
   "outputs": [
    {
     "name": "stderr",
     "output_type": "stream",
     "text": [
      "/Users/rosclay/Documents/VSCode/langgraph-multi-agent/venv/lib/python3.10/site-packages/langchain_core/_api/beta_decorator.py:87: LangChainBetaWarning: The function `bind_tools` is in beta. It is actively being worked on, so the API may change.\n",
      "  warn_beta(\n",
      "Python REPL can execute arbitrary code. Use with caution.\n"
     ]
    }
   ],
   "source": [
    "# general\n",
    "from datetime import datetime\n",
    "from dotenv import load_dotenv, find_dotenv\n",
    "import os\n",
    "\n",
    "# custom local libs\n",
    "from function import baseball_lambda"
   ]
  },
  {
   "cell_type": "code",
   "execution_count": 2,
   "id": "7a2a54ab",
   "metadata": {},
   "outputs": [],
   "source": [
    "# read local .env file\n",
    "_ = load_dotenv(find_dotenv()) "
   ]
  },
  {
   "cell_type": "code",
   "execution_count": 3,
   "id": "12b6af87",
   "metadata": {},
   "outputs": [],
   "source": [
    "# set Langsmith project\n",
    "today = datetime.now().strftime(\"%Y%m%d\")\n",
    "os.environ[\"LANGCHAIN_PROJECT\"] = f\"Baseball Walks - {today}\""
   ]
  },
  {
   "cell_type": "code",
   "execution_count": 4,
   "id": "6bf9b046",
   "metadata": {},
   "outputs": [],
   "source": [
    "session_id = '17330'"
   ]
  },
  {
   "cell_type": "code",
   "execution_count": 5,
   "id": "3ab7493f",
   "metadata": {},
   "outputs": [
    {
     "name": "stdout",
     "output_type": "stream",
     "text": [
      "\n",
      "*** Entered Orchestrate Node ***\n",
      "\n",
      "*** Entered Retrieve Node ***\n",
      "\n",
      "Distance to neareast plan: 0.47105205059051514\n",
      "\n",
      "*** Entered Modify Node ***\n",
      "\n",
      "Modifying nearest plan with User input\n",
      "1. Import the required pybaseball and matplotlib libraries.\n",
      "2. Look up Shane Bieber's MLBAM ID using the playerid_lookup function.\n",
      "3. Get Shane Bieber's 2020 statcast pitching data using the statcast_pitcher function. \n",
      "4. Filter the dataframe to only include walks.\n",
      "5. Group the filtered data by 'game_date' and sum the number of walks for each game.\n",
      "6. Sort the summed walks by 'game_date' in ascending order.\n",
      "7. Calculate the cumulative sum of walks across the sorted game dates.\n",
      "8. Create a line plot of the cumulative walks by game date using matplotlib.\n",
      "9. Add titles and labels to the plot and display it.\n"
     ]
    }
   ],
   "source": [
    "task = \"plot the cumulative sum of total walks thrown by Shane Bieber in the 2020 season.\"\n",
    "result = baseball_lambda.execute_workflow(task, session_id)\n",
    "print(result)"
   ]
  },
  {
   "cell_type": "code",
   "execution_count": 6,
   "id": "28cf13b0",
   "metadata": {},
   "outputs": [
    {
     "name": "stdout",
     "output_type": "stream",
     "text": [
      "\n",
      "*** Entered Orchestrate Node ***\n",
      "Known plan. Executing with Sonnet\n",
      "\n",
      "*** Entered Generate Node ***\n",
      "\n",
      "\n",
      "*** Entered Execute Node ***\n",
      "\n",
      "\n",
      "Executing:\n",
      "# Step 1: Import required libraries\n",
      "import matplotlib.pyplot as plt\n",
      "from pybaseball import playerid_lookup, statcast_pitcher\n",
      "\n",
      "*** Entered Generate Node ***\n",
      "\n",
      "\n",
      "*** Entered Execute Node ***\n",
      "\n",
      "\n",
      "Executing:\n",
      "# Step 2: Look up Shane Bieber's player ID\n",
      "bieber_id = playerid_lookup('bieber', 'shane')['key_mlbam'].values[0]\n",
      "print(f\"Shane Bieber's player ID is: {bieber_id}\")\n",
      "\n",
      "Result:\n",
      "Gathering player lookup table. This may take a moment.\n",
      "Shane Bieber's player ID is: 669456\n",
      "\n",
      "\n",
      "*** Entered Generate Node ***\n",
      "\n",
      "\n",
      "*** Entered Execute Node ***\n",
      "\n",
      "\n",
      "Executing:\n",
      "# Step 3: Get Bieber's 2020 statcast data\n",
      "bieber_2020 = statcast_pitcher('2020-01-01', '2020-12-31', player_id=669456)\n",
      "\n",
      "Result:\n",
      "Gathering Player Data\n",
      "\n",
      "\n",
      "*** Entered Generate Node ***\n",
      "\n",
      "\n",
      "*** Entered Execute Node ***\n",
      "\n",
      "\n",
      "Executing:\n",
      "# Step 4: Filter to only walks \n",
      "bieber_2020_walks = bieber_2020[bieber_2020['events']=='walk']\n",
      "\n",
      "*** Entered Generate Node ***\n",
      "\n",
      "\n",
      "*** Entered Execute Node ***\n",
      "\n",
      "\n",
      "Executing:\n",
      "# Step 5: Group by game date and sum walks\n",
      "bieber_walks_by_game = bieber_2020_walks.groupby('game_date').size().reset_index(name='walks')\n",
      "\n",
      "*** Entered Generate Node ***\n",
      "\n",
      "\n",
      "*** Entered Execute Node ***\n",
      "\n",
      "\n",
      "Executing:\n",
      "# Step 6: Sort walks by game date\n",
      "bieber_walks_by_game = bieber_walks_by_game.sort_values('game_date')\n",
      "\n",
      "*** Entered Generate Node ***\n",
      "\n",
      "\n",
      "*** Entered Execute Node ***\n",
      "\n",
      "\n",
      "Executing:\n",
      "# Step 7: Calculate cumulative sum of walks\n",
      "bieber_walks_by_game['walks_cumsum'] = bieber_walks_by_game['walks'].cumsum()\n",
      "\n",
      "*** Entered Generate Node ***\n",
      "\n",
      "\n",
      "*** Entered Execute Node ***\n",
      "\n",
      "\n",
      "Executing:\n",
      "# Step 8: Create plot \n",
      "plt.figure(figsize=(12,6))\n",
      "plt.plot(bieber_walks_by_game['game_date'], bieber_walks_by_game['walks_cumsum'])\n",
      "plt.title('Shane Bieber Cumulative Walks in 2020')\n",
      "plt.xlabel('Game Date') \n",
      "plt.ylabel('Cumulative Walks')\n",
      "plt.show()\n"
     ]
    },
    {
     "data": {
      "image/png": "[encoded data removed]",
      "text/plain": [
       "<Figure size 1200x600 with 1 Axes>"
      ]
     },
     "metadata": {},
     "output_type": "display_data"
    },
    {
     "name": "stdout",
     "output_type": "stream",
     "text": [
      "\n",
      "*** Entered Generate Node ***\n",
      "\n",
      "\n",
      "*** Entered Execute Node ***\n",
      "\n",
      "\n",
      "Executing:\n",
      "# Step 9: Describe results\n",
      "print(\"The plot shows Shane Bieber's cumulative walk total over the course of the 2020 season. Each point represents a game, and the y-value is the total number of walks Bieber had issued up to that point in the season. You can see his walk total increasing from 0 at the start of the season up to his season-ending total.\")\n",
      "\n",
      "Result:\n",
      "The plot shows Shane Bieber's cumulative walk total over the course of the 2020 season. Each point represents a game, and the y-value is the total number of walks Bieber had issued up to that point in the season. You can see his walk total increasing from 0 at the start of the season up to his season-ending total.\n",
      "\n",
      "\n",
      "*** Entered Generate Node ***\n",
      "\n",
      "\n",
      "*** Entered Summarize Node ***\n",
      "\n",
      "The plot shows Shane Bieber's cumulative walk total over the course of the 2020 season. Each point represents a game, and the y-value is the total number of walks Bieber had issued up to that point in the season. The plot shows his walk total increasing from 0 at the start of the season up to his season-ending total.\n",
      "\n",
      "Here is the code that was used to reach this solution:\n",
      "\n",
      "```python\n",
      "\n",
      "# Step 1: Import required libraries\n",
      "import matplotlib.pyplot as plt\n",
      "from pybaseball import playerid_lookup, statcast_pitcher\n",
      "\n",
      "# Step 2: Look up Shane Bieber's player ID\n",
      "bieber_id = playerid_lookup('bieber', 'shane')['key_mlbam'].values[0]\n",
      "print(f\"Shane Bieber's player ID is: {bieber_id}\")\n",
      "\n",
      "# Step 3: Get Bieber's 2020 statcast data\n",
      "bieber_2020 = statcast_pitcher('2020-01-01', '2020-12-31', player_id=669456)\n",
      "\n",
      "# Step 4: Filter to only walks \n",
      "bieber_2020_walks = bieber_2020[bieber_2020['events']=='walk']\n",
      "\n",
      "# Step 5: Group by game date and sum walks\n",
      "bieber_walks_by_game = bieber_2020_walks.groupby('game_date').size().reset_index(name='walks')\n",
      "\n",
      "# Step 6: Sort walks by game date\n",
      "bieber_walks_by_game = bieber_walks_by_game.sort_values('game_date')\n",
      "\n",
      "# Step 7: Calculate cumulative sum of walks\n",
      "bieber_walks_by_game['walks_cumsum'] = bieber_walks_by_game['walks'].cumsum()\n",
      "\n",
      "# Step 8: Create plot \n",
      "plt.figure(figsize=(12,6))\n",
      "plt.plot(bieber_walks_by_game['game_date'], bieber_walks_by_game['walks_cumsum'])\n",
      "plt.title('Shane Bieber Cumulative Walks in 2020')\n",
      "plt.xlabel('Game Date') \n",
      "plt.ylabel('Cumulative Walks')\n",
      "plt.show()\n",
      "\n",
      "# Step 9: Describe results\n",
      "print(\"The plot shows Shane Bieber's cumulative walk total over the course of the 2020 season. Each point represents a game, and the y-value is the total number of walks Bieber had issued up to that point in the season. You can see his walk total increasing from 0 at the start of the season up to his season-ending total.\")\n",
      "```\n",
      "\n",
      "Are you satisfied with this result?\n"
     ]
    }
   ],
   "source": [
    "task = \"looks good\"\n",
    "result = baseball_lambda.execute_workflow(task, session_id)\n",
    "print(result)"
   ]
  },
  {
   "cell_type": "code",
   "execution_count": 7,
   "id": "6c4b5136",
   "metadata": {},
   "outputs": [
    {
     "name": "stdout",
     "output_type": "stream",
     "text": [
      "\n",
      "*** Entered Orchestrate Node ***\n",
      "\n",
      "*** Entered Memorize Node ***\n",
      "\n",
      "Thank you, task has been commited to memory\n"
     ]
    }
   ],
   "source": [
    "task = \"yes, thanks\"\n",
    "result = baseball_lambda.execute_workflow(task, session_id)\n",
    "print(result)"
   ]
  },
  {
   "cell_type": "code",
   "execution_count": null,
   "id": "0c451d2f",
   "metadata": {},
   "outputs": [],
   "source": []
  }
 ],
 "metadata": {
  "kernelspec": {
   "display_name": "venv",
   "language": "python",
   "name": "python3"
  },
  "language_info": {
   "codemirror_mode": {
    "name": "ipython",
    "version": 3
   },
   "file_extension": ".py",
   "mimetype": "text/x-python",
   "name": "python",
   "nbconvert_exporter": "python",
   "pygments_lexer": "ipython3",
   "version": "3.10.8"
  }
 },
 "nbformat": 4,
 "nbformat_minor": 5
}
