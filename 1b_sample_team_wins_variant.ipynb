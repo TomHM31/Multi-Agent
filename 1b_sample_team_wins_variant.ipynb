{
 "cells": [
  {
   "cell_type": "code",
   "execution_count": 1,
   "id": "7c01b355-66d2-40e0-92a4-c4553a8d2edd",
   "metadata": {
    "tags": []
   },
   "outputs": [
    {
     "name": "stderr",
     "output_type": "stream",
     "text": [
      "/Users/rosclay/Documents/VSCode/langgraph-multi-agent/venv/lib/python3.10/site-packages/langchain_core/_api/beta_decorator.py:87: LangChainBetaWarning: The function `bind_tools` is in beta. It is actively being worked on, so the API may change.\n",
      "  warn_beta(\n",
      "Python REPL can execute arbitrary code. Use with caution.\n"
     ]
    }
   ],
   "source": [
    "# general\n",
    "from datetime import datetime\n",
    "from dotenv import load_dotenv, find_dotenv\n",
    "import os\n",
    "\n",
    "# custom local libs\n",
    "from function import baseball_lambda"
   ]
  },
  {
   "cell_type": "code",
   "execution_count": 2,
   "id": "7a2a54ab",
   "metadata": {
    "tags": []
   },
   "outputs": [],
   "source": [
    "# read local .env file\n",
    "_ = load_dotenv(find_dotenv()) "
   ]
  },
  {
   "cell_type": "code",
   "execution_count": 3,
   "id": "12b6af87",
   "metadata": {
    "tags": []
   },
   "outputs": [],
   "source": [
    "# set Langsmith project\n",
    "today = datetime.now().strftime(\"%Y%m%d\")\n",
    "os.environ[\"LANGCHAIN_PROJECT\"] = f\"Baseball Wins - {today}\""
   ]
  },
  {
   "cell_type": "code",
   "execution_count": 4,
   "id": "a9ed0aff",
   "metadata": {
    "tags": []
   },
   "outputs": [],
   "source": [
    "session_id = '543108'"
   ]
  },
  {
   "cell_type": "code",
   "execution_count": 5,
   "id": "024b632a",
   "metadata": {
    "tags": []
   },
   "outputs": [
    {
     "name": "stdout",
     "output_type": "stream",
     "text": [
      "{'Orchestrate': {'next': 'Retrieve'}}\n",
      "----\n",
      "Distance to neareast plan: 0.4730713367462158\n",
      "{'Retrieve': {'next': 'Modify', 'nearest_plan': 'Here is the updated plan with the code used:\\n\\n1. Import the statcast_batter and playerid_lookup functions from pybaseball:\\n\\n```python\\nfrom pybaseball import statcast_batter, playerid_lookup\\n```\\n\\n2. Look up Derek Jeter\\'s MLBAM player ID using fuzzy matching:\\n\\n```python \\njeter_id = playerid_lookup(\\'jeter\\', \\'derek\\', fuzzy=True)\\njeter_mlbam_id = jeter_id[\\'key_mlbam\\'][0]  \\n```\\n\\n3. Get Derek Jeter\\'s statcast batting data for the 2008 season:\\n\\n```python\\njeter_2008_data = statcast_batter(\\'2008-01-01\\', \\'2008-12-31\\', player_id=jeter_mlbam_id)\\n```\\n\\n4. Filter to only pitches that resulted in home runs and count the number of rows:\\n\\n```python\\n# Filter to only pitches that resulted in home runs\\njeter_2008_hr = jeter_2008_data[jeter_2008_data[\\'events\\'] == \\'home_run\\']\\n\\n# Count the number of home runs\\nhr_count = len(jeter_2008_hr) \\n\\n# Print the result\\nprint(f\"Derek Jeter hit {hr_count} home runs in the 2008 season.\")\\n```', 'nearest_task': 'How many home runs did Derek Jeter hit in 2008?', 'nearest_code': 'from pybaseball import statcast_batter, playerid_lookup\\njeter_id = playerid_lookup(\\'jeter\\', \\'derek\\', fuzzy=True)  \\njeter_mlbam_id = jeter_id[\\'key_mlbam\\'][0]\\njeter_2008_data = statcast_batter(\\'2008-01-01\\', \\'2008-12-31\\', player_id=jeter_mlbam_id)\\n# Filter to only pitches that resulted in home runs\\njeter_2008_hr = jeter_2008_data[jeter_2008_data[\\'events\\'] == \\'home_run\\']\\n\\n# Count the number of home runs \\nhr_count = len(jeter_2008_hr)\\n\\n# Print the result\\nprint(f\"Derek Jeter hit {hr_count} home runs in the 2008 season.\")', 'task': 'How many doubles did Whit Merrifield hit in 2019?', 'previous_node': 'Retrieve'}}\n",
      "----\n",
      "Modifying nearest plan with User input\n",
      "{'Modify': {'messages': [HumanMessage(content='How many doubles did Whit Merrifield hit in 2019?', name='User'), AIMessage(content='1. Import the statcast_batter and playerid_lookup functions from pybaseball:\\n\\n```python\\nfrom pybaseball import statcast_batter, playerid_lookup\\n```\\n\\n2. Look up Whit Merrifield\\'s MLBAM player ID using fuzzy matching:\\n\\n```python\\nmerrifield_id = playerid_lookup(\\'merrifield\\', \\'whit\\', fuzzy=True)\\nmerrifield_mlbam_id = merrifield_id[\\'key_mlbam\\'][0]\\n```\\n\\n3. Get Whit Merrifield\\'s statcast batting data for the 2019 season:\\n\\n```python\\nmerrifield_2019_data = statcast_batter(\\'2019-01-01\\', \\'2019-12-31\\', player_id=merrifield_mlbam_id)\\n```\\n\\n4. Filter to only pitches that resulted in doubles and count the number:\\n\\n```python\\n# Filter to only pitches that resulted in doubles\\nmerrifield_2019_doubles = merrifield_2019_data[merrifield_2019_data[\\'events\\'] == \\'double\\']\\n\\n# Count the number of doubles \\ndoubles_count = len(merrifield_2019_doubles)\\n\\n# Print the result\\nprint(f\"Whit Merrifield hit {doubles_count} doubles in the 2019 season.\")\\n```')], 'task': 'How many doubles did Whit Merrifield hit in 2019?', 'plan': '1. Import the statcast_batter and playerid_lookup functions from pybaseball:\\n\\n```python\\nfrom pybaseball import statcast_batter, playerid_lookup\\n```\\n\\n2. Look up Whit Merrifield\\'s MLBAM player ID using fuzzy matching:\\n\\n```python\\nmerrifield_id = playerid_lookup(\\'merrifield\\', \\'whit\\', fuzzy=True)\\nmerrifield_mlbam_id = merrifield_id[\\'key_mlbam\\'][0]\\n```\\n\\n3. Get Whit Merrifield\\'s statcast batting data for the 2019 season:\\n\\n```python\\nmerrifield_2019_data = statcast_batter(\\'2019-01-01\\', \\'2019-12-31\\', player_id=merrifield_mlbam_id)\\n```\\n\\n4. Filter to only pitches that resulted in doubles and count the number:\\n\\n```python\\n# Filter to only pitches that resulted in doubles\\nmerrifield_2019_doubles = merrifield_2019_data[merrifield_2019_data[\\'events\\'] == \\'double\\']\\n\\n# Count the number of doubles \\ndoubles_count = len(merrifield_2019_doubles)\\n\\n# Print the result\\nprint(f\"Whit Merrifield hit {doubles_count} doubles in the 2019 season.\")\\n```', 'previous_node': 'Modify'}}\n",
      "----\n",
      "1. Import the statcast_batter and playerid_lookup functions from pybaseball:\n",
      "\n",
      "```python\n",
      "from pybaseball import statcast_batter, playerid_lookup\n",
      "```\n",
      "\n",
      "2. Look up Whit Merrifield's MLBAM player ID using fuzzy matching:\n",
      "\n",
      "```python\n",
      "merrifield_id = playerid_lookup('merrifield', 'whit', fuzzy=True)\n",
      "merrifield_mlbam_id = merrifield_id['key_mlbam'][0]\n",
      "```\n",
      "\n",
      "3. Get Whit Merrifield's statcast batting data for the 2019 season:\n",
      "\n",
      "```python\n",
      "merrifield_2019_data = statcast_batter('2019-01-01', '2019-12-31', player_id=merrifield_mlbam_id)\n",
      "```\n",
      "\n",
      "4. Filter to only pitches that resulted in doubles and count the number:\n",
      "\n",
      "```python\n",
      "# Filter to only pitches that resulted in doubles\n",
      "merrifield_2019_doubles = merrifield_2019_data[merrifield_2019_data['events'] == 'double']\n",
      "\n",
      "# Count the number of doubles \n",
      "doubles_count = len(merrifield_2019_doubles)\n",
      "\n",
      "# Print the result\n",
      "print(f\"Whit Merrifield hit {doubles_count} doubles in the 2019 season.\")\n",
      "```\n"
     ]
    }
   ],
   "source": [
    "task = 'How many doubles did Whit Merrifield hit in 2019?' \n",
    "result = baseball_lambda.execute_workflow(task, session_id)\n",
    "print(result)"
   ]
  },
  {
   "cell_type": "code",
   "execution_count": 6,
   "id": "8c9e31b6",
   "metadata": {
    "tags": []
   },
   "outputs": [
    {
     "name": "stdout",
     "output_type": "stream",
     "text": [
      "{'Orchestrate': {'next': 'Execute'}}\n",
      "----\n",
      "Executing: merrifield_id = playerid_lookup('merrifield', 'whit', fuzzy=True)\n",
      "merrifield_mlbam_id = merrifield_id['key_mlbam'][0]\n",
      "Result: NameError(\"name 'playerid_lookup' is not defined\")\n",
      "Executing: from pybaseball import statcast_batter, playerid_lookup\n",
      "Executing: merrifield_id = playerid_lookup('merrifield', 'whit', fuzzy=True)\n",
      "merrifield_mlbam_id = merrifield_id['key_mlbam'][0]\n",
      "Result: Gathering player lookup table. This may take a moment.\n",
      "\n",
      "Executing: merrifield_2019_data = statcast_batter('2019-01-01', '2019-12-31', player_id=merrifield_mlbam_id)\n",
      "Result: Gathering Player Data\n",
      "\n",
      "Executing: # Filter to only pitches that resulted in doubles\n",
      "merrifield_2019_doubles = merrifield_2019_data[merrifield_2019_data['events'] == 'double']\n",
      "\n",
      "# Count the number of doubles\n",
      "doubles_count = len(merrifield_2019_doubles)\n",
      "\n",
      "# Print the result \n",
      "print(f\"Whit Merrifield hit {doubles_count} doubles in the 2019 season.\")\n",
      "Result: Whit Merrifield hit 45 doubles in the 2019 season.\n",
      "\n",
      "{'Execute': {'messages': [AIMessage(content='Whit Merrifield hit 45 doubles in the 2019 season.\\nHere is the code that was used to reach this solution:\\n\\n```python\\n\\nfrom pybaseball import statcast_batter, playerid_lookup\\nmerrifield_id = playerid_lookup(\\'merrifield\\', \\'whit\\', fuzzy=True)\\nmerrifield_mlbam_id = merrifield_id[\\'key_mlbam\\'][0]\\nmerrifield_2019_data = statcast_batter(\\'2019-01-01\\', \\'2019-12-31\\', player_id=merrifield_mlbam_id)\\n# Filter to only pitches that resulted in doubles\\nmerrifield_2019_doubles = merrifield_2019_data[merrifield_2019_data[\\'events\\'] == \\'double\\']\\n\\n# Count the number of doubles\\ndoubles_count = len(merrifield_2019_doubles)\\n\\n# Print the result \\nprint(f\"Whit Merrifield hit {doubles_count} doubles in the 2019 season.\")\\n```\\n\\nAre you satisfied with this result?')], 'previous_node': 'Execute', 'code': 'from pybaseball import statcast_batter, playerid_lookup\\nmerrifield_id = playerid_lookup(\\'merrifield\\', \\'whit\\', fuzzy=True)\\nmerrifield_mlbam_id = merrifield_id[\\'key_mlbam\\'][0]\\nmerrifield_2019_data = statcast_batter(\\'2019-01-01\\', \\'2019-12-31\\', player_id=merrifield_mlbam_id)\\n# Filter to only pitches that resulted in doubles\\nmerrifield_2019_doubles = merrifield_2019_data[merrifield_2019_data[\\'events\\'] == \\'double\\']\\n\\n# Count the number of doubles\\ndoubles_count = len(merrifield_2019_doubles)\\n\\n# Print the result \\nprint(f\"Whit Merrifield hit {doubles_count} doubles in the 2019 season.\")', 'plan': '1. Import the statcast_batter and playerid_lookup functions from pybaseball:\\n\\n```python\\nfrom pybaseball import statcast_batter, playerid_lookup\\n```\\n\\n2. Look up Whit Merrifield\\'s MLBAM player ID using fuzzy matching:\\n\\n```python\\nmerrifield_id = playerid_lookup(\\'merrifield\\', \\'whit\\', fuzzy=True)\\nmerrifield_mlbam_id = merrifield_id[\\'key_mlbam\\'][0]\\n```\\n\\n3. Get Whit Merrifield\\'s statcast batting data for the 2019 season:\\n\\n```python\\nmerrifield_2019_data = statcast_batter(\\'2019-01-01\\', \\'2019-12-31\\', player_id=merrifield_mlbam_id)\\n```\\n\\n4. Filter to only pitches that resulted in doubles and count the number:\\n\\n```python\\n# Filter to only pitches that resulted in doubles\\nmerrifield_2019_doubles = merrifield_2019_data[merrifield_2019_data[\\'events\\'] == \\'double\\']\\n\\n# Count the number of doubles \\ndoubles_count = len(merrifield_2019_doubles)\\n\\n# Print the result\\nprint(f\"Whit Merrifield hit {doubles_count} doubles in the 2019 season.\")\\n```'}}\n",
      "----\n",
      "Whit Merrifield hit 45 doubles in the 2019 season.\n",
      "Here is the code that was used to reach this solution:\n",
      "\n",
      "```python\n",
      "\n",
      "from pybaseball import statcast_batter, playerid_lookup\n",
      "merrifield_id = playerid_lookup('merrifield', 'whit', fuzzy=True)\n",
      "merrifield_mlbam_id = merrifield_id['key_mlbam'][0]\n",
      "merrifield_2019_data = statcast_batter('2019-01-01', '2019-12-31', player_id=merrifield_mlbam_id)\n",
      "# Filter to only pitches that resulted in doubles\n",
      "merrifield_2019_doubles = merrifield_2019_data[merrifield_2019_data['events'] == 'double']\n",
      "\n",
      "# Count the number of doubles\n",
      "doubles_count = len(merrifield_2019_doubles)\n",
      "\n",
      "# Print the result \n",
      "print(f\"Whit Merrifield hit {doubles_count} doubles in the 2019 season.\")\n",
      "```\n",
      "\n",
      "Are you satisfied with this result?\n"
     ]
    }
   ],
   "source": [
    "task = \"looks good\"\n",
    "result = baseball_lambda.execute_workflow(task, session_id)\n",
    "print(result)"
   ]
  },
  {
   "cell_type": "code",
   "execution_count": 7,
   "id": "907e823a",
   "metadata": {
    "tags": []
   },
   "outputs": [
    {
     "name": "stdout",
     "output_type": "stream",
     "text": [
      "{'Orchestrate': {'next': 'Memorize'}}\n",
      "----\n",
      "{'Memorize': {'messages': [AIMessage(content='Thank you, task has been commited to memory')], 'previous_node': 'Memorize'}}\n",
      "----\n",
      "Thank you, task has been commited to memory\n"
     ]
    }
   ],
   "source": [
    "task = \"yes\"\n",
    "result = baseball_lambda.execute_workflow(task, session_id)\n",
    "print(result)"
   ]
  },
  {
   "cell_type": "code",
   "execution_count": null,
   "id": "e21fc241",
   "metadata": {},
   "outputs": [],
   "source": []
  }
 ],
 "metadata": {
  "kernelspec": {
   "display_name": "venv",
   "language": "python",
   "name": "python3"
  },
  "language_info": {
   "codemirror_mode": {
    "name": "ipython",
    "version": 3
   },
   "file_extension": ".py",
   "mimetype": "text/x-python",
   "name": "python",
   "nbconvert_exporter": "python",
   "pygments_lexer": "ipython3",
   "version": "3.10.8"
  }
 },
 "nbformat": 4,
 "nbformat_minor": 5
}
