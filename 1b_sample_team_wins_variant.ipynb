{
 "cells": [
  {
   "cell_type": "code",
   "execution_count": 1,
   "id": "7c01b355-66d2-40e0-92a4-c4553a8d2edd",
   "metadata": {
    "tags": []
   },
   "outputs": [
    {
     "name": "stderr",
     "output_type": "stream",
     "text": [
      "Python REPL can execute arbitrary code. Use with caution.\n"
     ]
    }
   ],
   "source": [
    "# general\n",
    "from datetime import datetime\n",
    "from dotenv import load_dotenv, find_dotenv\n",
    "import os\n",
    "\n",
    "# custom local libs\n",
    "from function import baseball_lambda"
   ]
  },
  {
   "cell_type": "code",
   "execution_count": 2,
   "id": "7a2a54ab",
   "metadata": {
    "tags": []
   },
   "outputs": [],
   "source": [
    "# read local .env file\n",
    "_ = load_dotenv(find_dotenv()) "
   ]
  },
  {
   "cell_type": "code",
   "execution_count": 3,
   "id": "12b6af87",
   "metadata": {
    "tags": []
   },
   "outputs": [],
   "source": [
    "# set Langsmith project\n",
    "today = datetime.now().strftime(\"%Y%m%d\")\n",
    "os.environ[\"LANGCHAIN_PROJECT\"] = f\"Baseball Wins - {today}\""
   ]
  },
  {
   "cell_type": "code",
   "execution_count": 4,
   "id": "a9ed0aff",
   "metadata": {
    "tags": []
   },
   "outputs": [],
   "source": [
    "session_id = '54321111'"
   ]
  },
  {
   "cell_type": "code",
   "execution_count": 5,
   "id": "024b632a",
   "metadata": {
    "tags": []
   },
   "outputs": [
    {
     "name": "stdout",
     "output_type": "stream",
     "text": [
      "{'Orchestrate': {'next': 'Plan'}}\n",
      "----\n",
      "Distance to neareast plan: 0.3378670811653137\n",
      "Modifying nearest plan with User input\n",
      "{'Plan': {'messages': [HumanMessage(content=' Here is the original plan without modifications:\\n\\nHere is an updated plan for determining how many games the Braves won in 2022 using pybaseball: \\n\\n1. Use the schedule_and_record() function to get the Braves\\' 2022 season schedule and results. Pass in 2022 for the season and \"ATL\" for the Braves team abbreviation.\\n\\n2. From the schedule_and_record output, filter the dataframe to only include rows where the Home_Away column equals \\'Home\\' or \\'@\\'. This will remove extraneous rows and correctly identify away games.\\n\\n3. Create a new column in the filtered dataframe called \\'Braves Win\\' that indicates whether the Braves won each game. Set to 1 if the W/L column equals \\'W\\' or \\'W-wo\\' for a Braves win, and 0 if W/L equals \\'L\\' for a Braves loss.\\n\\n4. Sum the \\'Braves Win\\' column to get the total number of Braves wins for the season, including walk-off wins.\\n\\nAre you satisfied with this plan?\\n\\nAre you satisfied with this plan?')], 'task': 'How many games did the Braves win in 2022?', 'plan': ' Here is the original plan without modifications:\\n\\nHere is an updated plan for determining how many games the Braves won in 2022 using pybaseball: \\n\\n1. Use the schedule_and_record() function to get the Braves\\' 2022 season schedule and results. Pass in 2022 for the season and \"ATL\" for the Braves team abbreviation.\\n\\n2. From the schedule_and_record output, filter the dataframe to only include rows where the Home_Away column equals \\'Home\\' or \\'@\\'. This will remove extraneous rows and correctly identify away games.\\n\\n3. Create a new column in the filtered dataframe called \\'Braves Win\\' that indicates whether the Braves won each game. Set to 1 if the W/L column equals \\'W\\' or \\'W-wo\\' for a Braves win, and 0 if W/L equals \\'L\\' for a Braves loss.\\n\\n4. Sum the \\'Braves Win\\' column to get the total number of Braves wins for the season, including walk-off wins.\\n\\nAre you satisfied with this plan?\\n\\nAre you satisfied with this plan?', 'previous_node': 'Plan'}}\n",
      "----\n",
      " Here is the original plan without modifications:\n",
      "\n",
      "Here is an updated plan for determining how many games the Braves won in 2022 using pybaseball: \n",
      "\n",
      "1. Use the schedule_and_record() function to get the Braves' 2022 season schedule and results. Pass in 2022 for the season and \"ATL\" for the Braves team abbreviation.\n",
      "\n",
      "2. From the schedule_and_record output, filter the dataframe to only include rows where the Home_Away column equals 'Home' or '@'. This will remove extraneous rows and correctly identify away games.\n",
      "\n",
      "3. Create a new column in the filtered dataframe called 'Braves Win' that indicates whether the Braves won each game. Set to 1 if the W/L column equals 'W' or 'W-wo' for a Braves win, and 0 if W/L equals 'L' for a Braves loss.\n",
      "\n",
      "4. Sum the 'Braves Win' column to get the total number of Braves wins for the season, including walk-off wins.\n",
      "\n",
      "Are you satisfied with this plan?\n",
      "\n",
      "Are you satisfied with this plan?\n"
     ]
    }
   ],
   "source": [
    "task = 'How many games did the Braves win in 2022?' \n",
    "result = baseball_lambda.execute_workflow(task, session_id)\n",
    "print(result)"
   ]
  },
  {
   "cell_type": "code",
   "execution_count": 6,
   "id": "8c9e31b6",
   "metadata": {
    "tags": []
   },
   "outputs": [
    {
     "name": "stdout",
     "output_type": "stream",
     "text": [
      "{'Orchestrate': {'next': 'Convert'}}\n",
      "----\n",
      "{'Convert': {'code': '\\nimport pandas as pd\\nfrom pybaseball import schedule_and_record\\n\\n# 1. Get Braves 2022 schedule data\\nbraves_2022 = schedule_and_record(2022, \"ATL\")  \\n\\n# 2. Filter for home and away games\\nbraves_2022 = braves_2022[(braves_2022.Home_Away == \"Home\") | (braves_2022.Home_Away == \"@\")]\\n\\n# 3. Add column indicating whether Braves won \\nbraves_2022[\"Braves Win\"] = braves_2022[\"W/L\"].apply(lambda x: 1 if x in [\"W\", \"W-wo\"] else 0)\\n\\n# 4. Sum Braves Win column to get total wins\\nbraves_wins = braves_2022[\"Braves Win\"].sum()\\n\\n# Print final result \\nprint(f\"The Atlanta Braves won {braves_wins} games in 2022\")\\n'}}\n",
      "----\n",
      "Executing: \n",
      "import pandas as pd\n",
      "from pybaseball import schedule_and_record\n",
      "Executing: # 1. Get Braves 2022 schedule data\n",
      "braves_2022 = schedule_and_record(2022, \"ATL\")  \n",
      "Result: http://www.baseball-reference.com/teams/ATL/2022-schedule-scores.shtml\n",
      "\n",
      "Executing: # 2. Filter for home and away games\n",
      "braves_2022 = braves_2022[(braves_2022.Home_Away == \"Home\") | (braves_2022.Home_Away == \"@\")]\n",
      "Executing: # 3. Add column indicating whether Braves won \n",
      "braves_2022[\"Braves Win\"] = braves_2022[\"W/L\"].apply(lambda x: 1 if x in [\"W\", \"W-wo\"] else 0)\n",
      "Executing: # 4. Sum Braves Win column to get total wins\n",
      "braves_wins = braves_2022[\"Braves Win\"].sum()\n",
      "Executing: # Print final result \n",
      "print(f\"The Atlanta Braves won {braves_wins} games in 2022\")\n",
      "\n",
      "Result: The Atlanta Braves won 101 games in 2022\n",
      "\n",
      "{'Execute': {'messages': [AIMessage(content='The Atlanta Braves won 101 games in 2022\\n\\nHere is the code that was used to reach this solution:\\n```python\\n\\nimport pandas as pd\\nfrom pybaseball import schedule_and_record\\n# 1. Get Braves 2022 schedule data\\nbraves_2022 = schedule_and_record(2022, \"ATL\")  \\n# 2. Filter for home and away games\\nbraves_2022 = braves_2022[(braves_2022.Home_Away == \"Home\") | (braves_2022.Home_Away == \"@\")]\\n# 3. Add column indicating whether Braves won \\nbraves_2022[\"Braves Win\"] = braves_2022[\"W/L\"].apply(lambda x: 1 if x in [\"W\", \"W-wo\"] else 0)\\n# 4. Sum Braves Win column to get total wins\\nbraves_wins = braves_2022[\"Braves Win\"].sum()\\n```\\n\\nAre you satisfied with this result?')], 'previous_node': 'Execute', 'code': '\\nimport pandas as pd\\nfrom pybaseball import schedule_and_record\\n# 1. Get Braves 2022 schedule data\\nbraves_2022 = schedule_and_record(2022, \"ATL\")  \\n# 2. Filter for home and away games\\nbraves_2022 = braves_2022[(braves_2022.Home_Away == \"Home\") | (braves_2022.Home_Away == \"@\")]\\n# 3. Add column indicating whether Braves won \\nbraves_2022[\"Braves Win\"] = braves_2022[\"W/L\"].apply(lambda x: 1 if x in [\"W\", \"W-wo\"] else 0)\\n# 4. Sum Braves Win column to get total wins\\nbraves_wins = braves_2022[\"Braves Win\"].sum()\\n# Print final result \\nprint(f\"The Atlanta Braves won {braves_wins} games in 2022\")\\n'}}\n",
      "----\n",
      "The Atlanta Braves won 101 games in 2022\n",
      "\n",
      "Here is the code that was used to reach this solution:\n",
      "```python\n",
      "\n",
      "import pandas as pd\n",
      "from pybaseball import schedule_and_record\n",
      "# 1. Get Braves 2022 schedule data\n",
      "braves_2022 = schedule_and_record(2022, \"ATL\")  \n",
      "# 2. Filter for home and away games\n",
      "braves_2022 = braves_2022[(braves_2022.Home_Away == \"Home\") | (braves_2022.Home_Away == \"@\")]\n",
      "# 3. Add column indicating whether Braves won \n",
      "braves_2022[\"Braves Win\"] = braves_2022[\"W/L\"].apply(lambda x: 1 if x in [\"W\", \"W-wo\"] else 0)\n",
      "# 4. Sum Braves Win column to get total wins\n",
      "braves_wins = braves_2022[\"Braves Win\"].sum()\n",
      "```\n",
      "\n",
      "Are you satisfied with this result?\n"
     ]
    }
   ],
   "source": [
    "task = \"looks good\"\n",
    "result = baseball_lambda.execute_workflow(task, session_id)\n",
    "print(result)"
   ]
  },
  {
   "cell_type": "code",
   "execution_count": 7,
   "id": "907e823a",
   "metadata": {
    "tags": []
   },
   "outputs": [
    {
     "name": "stdout",
     "output_type": "stream",
     "text": [
      "{'Orchestrate': {'next': 'Memorize'}}\n",
      "----\n",
      "{'Memorize': {'messages': [AIMessage(content='Thank you, task has been commited to memory')], 'previous_node': 'Memorize'}}\n",
      "----\n",
      "Thank you, task has been commited to memory\n"
     ]
    }
   ],
   "source": [
    "task = \"yes\"\n",
    "result = baseball_lambda.execute_workflow(task, session_id)\n",
    "print(result)"
   ]
  },
  {
   "cell_type": "code",
   "execution_count": null,
   "id": "e21fc241",
   "metadata": {},
   "outputs": [],
   "source": []
  }
 ],
 "metadata": {
  "kernelspec": {
   "display_name": "conda_python3",
   "language": "python",
   "name": "conda_python3"
  },
  "language_info": {
   "codemirror_mode": {
    "name": "ipython",
    "version": 3
   },
   "file_extension": ".py",
   "mimetype": "text/x-python",
   "name": "python",
   "nbconvert_exporter": "python",
   "pygments_lexer": "ipython3",
   "version": "3.10.13"
  }
 },
 "nbformat": 4,
 "nbformat_minor": 5
}
