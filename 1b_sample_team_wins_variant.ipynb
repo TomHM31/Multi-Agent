{
 "cells": [
  {
   "cell_type": "code",
   "execution_count": 1,
   "id": "7c01b355-66d2-40e0-92a4-c4553a8d2edd",
   "metadata": {
    "tags": []
   },
   "outputs": [
    {
     "name": "stderr",
     "output_type": "stream",
     "text": [
      "Python REPL can execute arbitrary code. Use with caution.\n"
     ]
    }
   ],
   "source": [
    "# general\n",
    "from datetime import datetime\n",
    "from dotenv import load_dotenv, find_dotenv\n",
    "import os\n",
    "\n",
    "# custom local libs\n",
    "from function import baseball_lambda"
   ]
  },
  {
   "cell_type": "code",
   "execution_count": 2,
   "id": "7a2a54ab",
   "metadata": {
    "tags": []
   },
   "outputs": [],
   "source": [
    "# read local .env file\n",
    "_ = load_dotenv(find_dotenv()) "
   ]
  },
  {
   "cell_type": "code",
   "execution_count": 3,
   "id": "12b6af87",
   "metadata": {
    "tags": []
   },
   "outputs": [],
   "source": [
    "# set Langsmith project\n",
    "today = datetime.now().strftime(\"%Y%m%d\")\n",
    "os.environ[\"LANGCHAIN_PROJECT\"] = f\"Baseball Wins - {today}\""
   ]
  },
  {
   "cell_type": "code",
   "execution_count": 4,
   "id": "a9ed0aff",
   "metadata": {
    "tags": []
   },
   "outputs": [],
   "source": [
    "session_id = '5432111'"
   ]
  },
  {
   "cell_type": "code",
   "execution_count": 5,
   "id": "024b632a",
   "metadata": {
    "tags": []
   },
   "outputs": [
    {
     "name": "stdout",
     "output_type": "stream",
     "text": [
      "{'Orchestrate': {'next': 'Plan'}}\n",
      "----\n",
      "Distance to neareast plan: 0.3378669023513794\n",
      "Modifying nearest plan with User input\n",
      "{'Plan': {'messages': [HumanMessage(content='\\n\\n1. Import the necessary libraries:\\n```python\\nfrom pybaseball import schedule_and_record\\n```\\n\\n2. Get the 2022 schedule and results for the Braves:\\n```python\\nbraves_2022 = schedule_and_record(2022, \"ATL\")\\n```\\n\\n3. Filter the dataframe to only games where the Braves won (W/L == \"W\" or W/L == \"W-wo\"):\\n```python\\nbraves_wins = braves_2022[(braves_2022[\"W/L\"] == \"W\") | (braves_2022[\"W/L\"] == \"W-wo\")]\\n```\\n\\n4. Count the number of rows to get the total wins (including walk-offs):\\n```python\\ntotal_wins = len(braves_wins)\\nprint(f\"The Braves won {total_wins} games in 2022 (including walk-offs).\")\\n```\\n\\n\\n\\nAre you satisfied with this plan?')], 'task': 'How many games did the Braves win in 2022?', 'plan': '\\n\\n1. Import the necessary libraries:\\n```python\\nfrom pybaseball import schedule_and_record\\n```\\n\\n2. Get the 2022 schedule and results for the Braves:\\n```python\\nbraves_2022 = schedule_and_record(2022, \"ATL\")\\n```\\n\\n3. Filter the dataframe to only games where the Braves won (W/L == \"W\" or W/L == \"W-wo\"):\\n```python\\nbraves_wins = braves_2022[(braves_2022[\"W/L\"] == \"W\") | (braves_2022[\"W/L\"] == \"W-wo\")]\\n```\\n\\n4. Count the number of rows to get the total wins (including walk-offs):\\n```python\\ntotal_wins = len(braves_wins)\\nprint(f\"The Braves won {total_wins} games in 2022 (including walk-offs).\")\\n```\\n\\n\\n\\nAre you satisfied with this plan?', 'previous_node': 'Plan'}}\n",
      "----\n",
      "\n",
      "\n",
      "1. Import the necessary libraries:\n",
      "```python\n",
      "from pybaseball import schedule_and_record\n",
      "```\n",
      "\n",
      "2. Get the 2022 schedule and results for the Braves:\n",
      "```python\n",
      "braves_2022 = schedule_and_record(2022, \"ATL\")\n",
      "```\n",
      "\n",
      "3. Filter the dataframe to only games where the Braves won (W/L == \"W\" or W/L == \"W-wo\"):\n",
      "```python\n",
      "braves_wins = braves_2022[(braves_2022[\"W/L\"] == \"W\") | (braves_2022[\"W/L\"] == \"W-wo\")]\n",
      "```\n",
      "\n",
      "4. Count the number of rows to get the total wins (including walk-offs):\n",
      "```python\n",
      "total_wins = len(braves_wins)\n",
      "print(f\"The Braves won {total_wins} games in 2022 (including walk-offs).\")\n",
      "```\n",
      "\n",
      "\n",
      "\n",
      "Are you satisfied with this plan?\n"
     ]
    }
   ],
   "source": [
    "task = 'How many games did the Braves win in 2022?' \n",
    "result = baseball_lambda.execute_workflow(task, session_id)\n",
    "print(result)"
   ]
  },
  {
   "cell_type": "code",
   "execution_count": 6,
   "id": "8c9e31b6",
   "metadata": {
    "tags": []
   },
   "outputs": [
    {
     "name": "stdout",
     "output_type": "stream",
     "text": [
      "{'Orchestrate': {'next': 'Execute'}}\n",
      "----\n",
      "Executing: \n",
      "# Import the pybaseball library\n",
      "from pybaseball import schedule_and_record\n",
      "\n",
      "# Get the 2022 schedule and results for the Braves\n",
      "braves_2022 = schedule_and_record(2022, \"ATL\")\n",
      "\n",
      "Result: http://www.baseball-reference.com/teams/ATL/2022-schedule-scores.shtml\n",
      "\n",
      "Executing: \n",
      "# Filter the dataframe to only games where the Braves won (W/L == \"W\" or W/L == \"W-wo\")\n",
      "braves_wins = braves_2022[(braves_2022[\"W/L\"] == \"W\") | (braves_2022[\"W/L\"] == \"W-wo\")]\n",
      "\n",
      "Executing: \n",
      "# Count the number of rows to get the total wins (including walk-offs)\n",
      "total_wins = len(braves_wins)\n",
      "\n",
      "# Print the total number of wins\n",
      "print(f\"The Braves won {total_wins} games in 2022 (including walk-offs).\")\n",
      "\n",
      "Result: The Braves won 101 games in 2022 (including walk-offs).\n",
      "\n",
      "{'Execute': {'messages': [AIMessage(content='\\nThe Braves won 101 games in 2022 (including walk-offs).\\n\\nHere is the code that was used to reach this solution:\\n\\n```python\\n\\n\\n# Import the pybaseball library\\nfrom pybaseball import schedule_and_record\\n\\n# Get the 2022 schedule and results for the Braves\\nbraves_2022 = schedule_and_record(2022, \"ATL\")\\n\\n# Filter the dataframe to only games where the Braves won (W/L == \"W\" or W/L == \"W-wo\")\\nbraves_wins = braves_2022[(braves_2022[\"W/L\"] == \"W\") | (braves_2022[\"W/L\"] == \"W-wo\")]\\n\\n# Count the number of rows to get the total wins (including walk-offs)\\ntotal_wins = len(braves_wins)\\n\\n# Print the total number of wins\\nprint(f\"The Braves won {total_wins} games in 2022 (including walk-offs).\")\\n\\n```\\n\\nAre you satisfied with this result?')], 'previous_node': 'Execute', 'code': '\\n# Import the pybaseball library\\nfrom pybaseball import schedule_and_record\\n\\n# Get the 2022 schedule and results for the Braves\\nbraves_2022 = schedule_and_record(2022, \"ATL\")\\n\\n\\n# Filter the dataframe to only games where the Braves won (W/L == \"W\" or W/L == \"W-wo\")\\nbraves_wins = braves_2022[(braves_2022[\"W/L\"] == \"W\") | (braves_2022[\"W/L\"] == \"W-wo\")]\\n\\n\\n# Count the number of rows to get the total wins (including walk-offs)\\ntotal_wins = len(braves_wins)\\n\\n# Print the total number of wins\\nprint(f\"The Braves won {total_wins} games in 2022 (including walk-offs).\")\\n'}}\n",
      "----\n",
      "\n",
      "The Braves won 101 games in 2022 (including walk-offs).\n",
      "\n",
      "Here is the code that was used to reach this solution:\n",
      "\n",
      "```python\n",
      "\n",
      "\n",
      "# Import the pybaseball library\n",
      "from pybaseball import schedule_and_record\n",
      "\n",
      "# Get the 2022 schedule and results for the Braves\n",
      "braves_2022 = schedule_and_record(2022, \"ATL\")\n",
      "\n",
      "# Filter the dataframe to only games where the Braves won (W/L == \"W\" or W/L == \"W-wo\")\n",
      "braves_wins = braves_2022[(braves_2022[\"W/L\"] == \"W\") | (braves_2022[\"W/L\"] == \"W-wo\")]\n",
      "\n",
      "# Count the number of rows to get the total wins (including walk-offs)\n",
      "total_wins = len(braves_wins)\n",
      "\n",
      "# Print the total number of wins\n",
      "print(f\"The Braves won {total_wins} games in 2022 (including walk-offs).\")\n",
      "\n",
      "```\n",
      "\n",
      "Are you satisfied with this result?\n"
     ]
    }
   ],
   "source": [
    "task = \"looks good\"\n",
    "result = baseball_lambda.execute_workflow(task, session_id)\n",
    "print(result)"
   ]
  },
  {
   "cell_type": "code",
   "execution_count": 7,
   "id": "907e823a",
   "metadata": {
    "tags": []
   },
   "outputs": [
    {
     "name": "stdout",
     "output_type": "stream",
     "text": [
      "{'Orchestrate': {'next': 'Memorize'}}\n",
      "----\n",
      "{'Memorize': {'messages': [AIMessage(content='Thank you, task has been commited to memory')], 'previous_node': 'Memorize'}}\n",
      "----\n",
      "Thank you, task has been commited to memory\n"
     ]
    }
   ],
   "source": [
    "task = \"yes\"\n",
    "result = baseball_lambda.execute_workflow(task, session_id)\n",
    "print(result)"
   ]
  },
  {
   "cell_type": "code",
   "execution_count": null,
   "id": "e21fc241",
   "metadata": {},
   "outputs": [],
   "source": []
  }
 ],
 "metadata": {
  "kernelspec": {
   "display_name": "venv",
   "language": "python",
   "name": "python3"
  },
  "language_info": {
   "codemirror_mode": {
    "name": "ipython",
    "version": 3
   },
   "file_extension": ".py",
   "mimetype": "text/x-python",
   "name": "python",
   "nbconvert_exporter": "python",
   "pygments_lexer": "ipython3",
   "version": "3.10.8"
  }
 },
 "nbformat": 4,
 "nbformat_minor": 5
}
