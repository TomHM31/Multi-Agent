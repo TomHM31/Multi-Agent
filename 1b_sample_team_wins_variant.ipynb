{
 "cells": [
  {
   "cell_type": "code",
   "execution_count": 1,
   "id": "7c01b355-66d2-40e0-92a4-c4553a8d2edd",
   "metadata": {
    "tags": []
   },
   "outputs": [
    {
     "name": "stderr",
     "output_type": "stream",
     "text": [
      "Python REPL can execute arbitrary code. Use with caution.\n"
     ]
    }
   ],
   "source": [
    "# general\n",
    "from datetime import datetime\n",
    "from dotenv import load_dotenv, find_dotenv\n",
    "import os\n",
    "\n",
    "# custom local libs\n",
    "from function import baseball_lambda"
   ]
  },
  {
   "cell_type": "code",
   "execution_count": 2,
   "id": "7a2a54ab",
   "metadata": {
    "tags": []
   },
   "outputs": [],
   "source": [
    "# read local .env file\n",
    "_ = load_dotenv(find_dotenv()) "
   ]
  },
  {
   "cell_type": "code",
   "execution_count": 3,
   "id": "12b6af87",
   "metadata": {
    "tags": []
   },
   "outputs": [],
   "source": [
    "# set Langsmith project\n",
    "today = datetime.now().strftime(\"%Y%m%d\")\n",
    "os.environ[\"LANGCHAIN_PROJECT\"] = f\"Baseball Wins - {today}\""
   ]
  },
  {
   "cell_type": "code",
   "execution_count": 4,
   "id": "a9ed0aff",
   "metadata": {
    "tags": []
   },
   "outputs": [],
   "source": [
    "session_id = '5432111'"
   ]
  },
  {
   "cell_type": "code",
   "execution_count": 5,
   "id": "024b632a",
   "metadata": {
    "tags": []
   },
   "outputs": [
    {
     "name": "stdout",
     "output_type": "stream",
     "text": [
      "{'Orchestrate': {'next': 'Plan'}}\n",
      "----\n",
      "Distance to neareast plan: 0.33786702156066895\n",
      "Modifying nearest plan with User input\n",
      "{'Plan': {'messages': [HumanMessage(content=\"Okay, here is a plan to find the total number of games the Atlanta Braves won in the 2022 season, including walk-off wins:\\n\\n1. Use the schedule_and_record function, passing in the season argument as 2022 and the team argument as 'ATL' for the Atlanta Braves.\\n\\n2. From the output of schedule_and_record, select only the 'W/L' column which contains the game result.\\n\\n3. Filter the 'W/L' column to include rows where the value is 'W' for a regular win OR 'W-wo' for a walk-off win.\\n\\n4. Count the total number of remaining rows, which will give you the number of games the Braves won in 2022, including walk-off victories.\\n\\nTo summarize:\\n1. Use schedule_and_record(2022, 'ATL') to get Braves schedule data\\n2. Select only the 'W/L' column  \\n3. Filter for 'W' or 'W-wo'\\n4. Count filtered rows to get total wins (regular + walk-offs)\\n\\nThis will allow you to determine the exact number of games the Atlanta Braves won during the 2022 MLB season, counting both regular wins and walk-off wins.\\n\\nAre you satisfied with this plan?\")], 'task': 'How many games did the Braves win in 2022?', 'plan': \"Okay, here is a plan to find the total number of games the Atlanta Braves won in the 2022 season, including walk-off wins:\\n\\n1. Use the schedule_and_record function, passing in the season argument as 2022 and the team argument as 'ATL' for the Atlanta Braves.\\n\\n2. From the output of schedule_and_record, select only the 'W/L' column which contains the game result.\\n\\n3. Filter the 'W/L' column to include rows where the value is 'W' for a regular win OR 'W-wo' for a walk-off win.\\n\\n4. Count the total number of remaining rows, which will give you the number of games the Braves won in 2022, including walk-off victories.\\n\\nTo summarize:\\n1. Use schedule_and_record(2022, 'ATL') to get Braves schedule data\\n2. Select only the 'W/L' column  \\n3. Filter for 'W' or 'W-wo'\\n4. Count filtered rows to get total wins (regular + walk-offs)\\n\\nThis will allow you to determine the exact number of games the Atlanta Braves won during the 2022 MLB season, counting both regular wins and walk-off wins.\\n\\nAre you satisfied with this plan?\", 'previous_node': 'Plan'}}\n",
      "----\n",
      "Okay, here is a plan to find the total number of games the Atlanta Braves won in the 2022 season, including walk-off wins:\n",
      "\n",
      "1. Use the schedule_and_record function, passing in the season argument as 2022 and the team argument as 'ATL' for the Atlanta Braves.\n",
      "\n",
      "2. From the output of schedule_and_record, select only the 'W/L' column which contains the game result.\n",
      "\n",
      "3. Filter the 'W/L' column to include rows where the value is 'W' for a regular win OR 'W-wo' for a walk-off win.\n",
      "\n",
      "4. Count the total number of remaining rows, which will give you the number of games the Braves won in 2022, including walk-off victories.\n",
      "\n",
      "To summarize:\n",
      "1. Use schedule_and_record(2022, 'ATL') to get Braves schedule data\n",
      "2. Select only the 'W/L' column  \n",
      "3. Filter for 'W' or 'W-wo'\n",
      "4. Count filtered rows to get total wins (regular + walk-offs)\n",
      "\n",
      "This will allow you to determine the exact number of games the Atlanta Braves won during the 2022 MLB season, counting both regular wins and walk-off wins.\n",
      "\n",
      "Are you satisfied with this plan?\n"
     ]
    }
   ],
   "source": [
    "task = 'How many games did the Braves win in 2022?' \n",
    "result = baseball_lambda.execute_workflow(task, session_id)\n",
    "print(result)"
   ]
  },
  {
   "cell_type": "code",
   "execution_count": 6,
   "id": "8c9e31b6",
   "metadata": {
    "tags": []
   },
   "outputs": [
    {
     "name": "stdout",
     "output_type": "stream",
     "text": [
      "{'Orchestrate': {'next': 'Convert'}}\n",
      "----\n",
      "{'Convert': {'code': '\\n# Import necessary libraries\\nfrom pybaseball import schedule_and_record\\n\\n# 1. Get 2022 schedule data for Atlanta Braves\\nbraves_2022 = schedule_and_record(2022, \\'ATL\\')\\n\\n# 2. Select \\'W/L\\' column with game results\\nbraves_results = braves_2022[\\'W/L\\']\\n\\n# 3. Filter for regular wins (\\'W\\') and walk-off wins (\\'W-wo\\')\\nbraves_wins = braves_results[braves_results.isin([\\'W\\', \\'W-wo\\'])]\\n\\n# 4. Count total wins (regular + walk-offs)\\ntotal_wins = len(braves_wins)\\n\\n# Print the result\\nprint(f\"The Atlanta Braves won {total_wins} games in 2022, including walk-off wins.\")\\n'}}\n",
      "----\n",
      "Executing: \n",
      "# Import necessary libraries\n",
      "from pybaseball import schedule_and_record\n",
      "Executing: # 1. Get 2022 schedule data for Atlanta Braves\n",
      "braves_2022 = schedule_and_record(2022, 'ATL')\n",
      "Result: http://www.baseball-reference.com/teams/ATL/2022-schedule-scores.shtml\n",
      "\n",
      "Executing: # 2. Select 'W/L' column with game results\n",
      "braves_results = braves_2022['W/L']\n",
      "Executing: # 3. Filter for regular wins ('W') and walk-off wins ('W-wo')\n",
      "braves_wins = braves_results[braves_results.isin(['W', 'W-wo'])]\n",
      "Executing: # 4. Count total wins (regular + walk-offs)\n",
      "total_wins = len(braves_wins)\n",
      "Executing: # Print the result\n",
      "print(f\"The Atlanta Braves won {total_wins} games in 2022, including walk-off wins.\")\n",
      "\n",
      "Result: The Atlanta Braves won 101 games in 2022, including walk-off wins.\n",
      "\n",
      "{'Execute': {'messages': [AIMessage(content='The Atlanta Braves won 101 games in 2022, including walk-off wins.\\n\\nHere is the code that was used to reach this solution:\\n```python\\n\\n# Import necessary libraries\\nfrom pybaseball import schedule_and_record\\n# 1. Get 2022 schedule data for Atlanta Braves\\nbraves_2022 = schedule_and_record(2022, \\'ATL\\')\\n# 2. Select \\'W/L\\' column with game results\\nbraves_results = braves_2022[\\'W/L\\']\\n# 3. Filter for regular wins (\\'W\\') and walk-off wins (\\'W-wo\\')\\nbraves_wins = braves_results[braves_results.isin([\\'W\\', \\'W-wo\\'])]\\n# 4. Count total wins (regular + walk-offs)\\ntotal_wins = len(braves_wins)\\n# Print the result\\nprint(f\"The Atlanta Braves won {total_wins} games in 2022, including walk-off wins.\")\\n\\n```\\n\\nAre you satisfied with this result?')], 'previous_node': 'Execute', 'code': '\\n# Import necessary libraries\\nfrom pybaseball import schedule_and_record\\n# 1. Get 2022 schedule data for Atlanta Braves\\nbraves_2022 = schedule_and_record(2022, \\'ATL\\')\\n# 2. Select \\'W/L\\' column with game results\\nbraves_results = braves_2022[\\'W/L\\']\\n# 3. Filter for regular wins (\\'W\\') and walk-off wins (\\'W-wo\\')\\nbraves_wins = braves_results[braves_results.isin([\\'W\\', \\'W-wo\\'])]\\n# 4. Count total wins (regular + walk-offs)\\ntotal_wins = len(braves_wins)\\n# Print the result\\nprint(f\"The Atlanta Braves won {total_wins} games in 2022, including walk-off wins.\")\\n'}}\n",
      "----\n",
      "The Atlanta Braves won 101 games in 2022, including walk-off wins.\n",
      "\n",
      "Here is the code that was used to reach this solution:\n",
      "```python\n",
      "\n",
      "# Import necessary libraries\n",
      "from pybaseball import schedule_and_record\n",
      "# 1. Get 2022 schedule data for Atlanta Braves\n",
      "braves_2022 = schedule_and_record(2022, 'ATL')\n",
      "# 2. Select 'W/L' column with game results\n",
      "braves_results = braves_2022['W/L']\n",
      "# 3. Filter for regular wins ('W') and walk-off wins ('W-wo')\n",
      "braves_wins = braves_results[braves_results.isin(['W', 'W-wo'])]\n",
      "# 4. Count total wins (regular + walk-offs)\n",
      "total_wins = len(braves_wins)\n",
      "# Print the result\n",
      "print(f\"The Atlanta Braves won {total_wins} games in 2022, including walk-off wins.\")\n",
      "\n",
      "```\n",
      "\n",
      "Are you satisfied with this result?\n"
     ]
    }
   ],
   "source": [
    "task = \"looks good\"\n",
    "result = baseball_lambda.execute_workflow(task, session_id)\n",
    "print(result)"
   ]
  },
  {
   "cell_type": "code",
   "execution_count": 7,
   "id": "907e823a",
   "metadata": {
    "tags": []
   },
   "outputs": [
    {
     "name": "stdout",
     "output_type": "stream",
     "text": [
      "{'Orchestrate': {'next': 'Memorize'}}\n",
      "----\n",
      "{'Memorize': {'messages': [AIMessage(content='Thank you, task has been commited to memory')], 'previous_node': 'Memorize'}}\n",
      "----\n",
      "Thank you, task has been commited to memory\n"
     ]
    }
   ],
   "source": [
    "task = \"yes\"\n",
    "result = baseball_lambda.execute_workflow(task, session_id)\n",
    "print(result)"
   ]
  },
  {
   "cell_type": "code",
   "execution_count": null,
   "id": "e21fc241",
   "metadata": {},
   "outputs": [],
   "source": []
  }
 ],
 "metadata": {
  "kernelspec": {
   "display_name": "venv",
   "language": "python",
   "name": "python3"
  },
  "language_info": {
   "codemirror_mode": {
    "name": "ipython",
    "version": 3
   },
   "file_extension": ".py",
   "mimetype": "text/x-python",
   "name": "python",
   "nbconvert_exporter": "python",
   "pygments_lexer": "ipython3",
   "version": "3.10.8"
  }
 },
 "nbformat": 4,
 "nbformat_minor": 5
}
