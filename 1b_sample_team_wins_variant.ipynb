{
 "cells": [
  {
   "cell_type": "code",
   "execution_count": 1,
   "id": "7c01b355-66d2-40e0-92a4-c4553a8d2edd",
   "metadata": {
    "tags": []
   },
   "outputs": [
    {
     "name": "stderr",
     "output_type": "stream",
     "text": [
      "Python REPL can execute arbitrary code. Use with caution.\n"
     ]
    }
   ],
   "source": [
    "# general\n",
    "from datetime import datetime\n",
    "from dotenv import load_dotenv, find_dotenv\n",
    "import os\n",
    "\n",
    "# custom local libs\n",
    "from function import baseball_lambda"
   ]
  },
  {
   "cell_type": "code",
   "execution_count": 2,
   "id": "7a2a54ab",
   "metadata": {
    "tags": []
   },
   "outputs": [],
   "source": [
    "# read local .env file\n",
    "_ = load_dotenv(find_dotenv()) "
   ]
  },
  {
   "cell_type": "code",
   "execution_count": 3,
   "id": "12b6af87",
   "metadata": {
    "tags": []
   },
   "outputs": [],
   "source": [
    "# set Langsmith project\n",
    "today = datetime.now().strftime(\"%Y%m%d\")\n",
    "os.environ[\"LANGCHAIN_PROJECT\"] = f\"Baseball Wins - {today}\""
   ]
  },
  {
   "cell_type": "code",
   "execution_count": 4,
   "id": "a9ed0aff",
   "metadata": {
    "tags": []
   },
   "outputs": [],
   "source": [
    "session_id = '5432111'"
   ]
  },
  {
   "cell_type": "code",
   "execution_count": 5,
   "id": "024b632a",
   "metadata": {
    "tags": []
   },
   "outputs": [
    {
     "name": "stdout",
     "output_type": "stream",
     "text": [
      "{'Orchestrate': {'next': 'Plan'}}\n",
      "----\n",
      "TASK\n",
      "How many games did the Braves win in 2022?\n",
      "Distance to neareast plan: 0.3378670811653137\n",
      "Modifying nearest plan with User input\n",
      "{'Plan': {'messages': [HumanMessage(content='Okay, here is the plan to determine how many games the Atlanta Braves won in 2022:\\n\\n1. Use the `schedule_and_record` function to get the game-level results for the Atlanta Braves in the 2022 season.\\n   - Pass in the season year 2022 and the team abbreviation \"ATL\" for the Braves.\\n   - Collect the following fields from the output: Date, Tm, W/L, R, RA.\\n\\n2. Count the number of rows where the W/L column indicates a win (\"W\") or a walk-off win (\"W-wo\") for the Braves.\\n\\nBy following this plan, you can accurately determine the total number of games the Atlanta Braves won in the 2022 season, including their walk-off victories.\\n\\nPlease let me know if this plan looks good or if you need any clarification.\\n\\nAre you satisfied with this plan?')], 'task': 'How many games did the Braves win in 2022?', 'plan': 'Okay, here is the plan to determine how many games the Atlanta Braves won in 2022:\\n\\n1. Use the `schedule_and_record` function to get the game-level results for the Atlanta Braves in the 2022 season.\\n   - Pass in the season year 2022 and the team abbreviation \"ATL\" for the Braves.\\n   - Collect the following fields from the output: Date, Tm, W/L, R, RA.\\n\\n2. Count the number of rows where the W/L column indicates a win (\"W\") or a walk-off win (\"W-wo\") for the Braves.\\n\\nBy following this plan, you can accurately determine the total number of games the Atlanta Braves won in the 2022 season, including their walk-off victories.\\n\\nPlease let me know if this plan looks good or if you need any clarification.\\n\\nAre you satisfied with this plan?', 'previous_node': 'Plan'}}\n",
      "----\n",
      "Okay, here is the plan to determine how many games the Atlanta Braves won in 2022:\n",
      "\n",
      "1. Use the `schedule_and_record` function to get the game-level results for the Atlanta Braves in the 2022 season.\n",
      "   - Pass in the season year 2022 and the team abbreviation \"ATL\" for the Braves.\n",
      "   - Collect the following fields from the output: Date, Tm, W/L, R, RA.\n",
      "\n",
      "2. Count the number of rows where the W/L column indicates a win (\"W\") or a walk-off win (\"W-wo\") for the Braves.\n",
      "\n",
      "By following this plan, you can accurately determine the total number of games the Atlanta Braves won in the 2022 season, including their walk-off victories.\n",
      "\n",
      "Please let me know if this plan looks good or if you need any clarification.\n",
      "\n",
      "Are you satisfied with this plan?\n"
     ]
    }
   ],
   "source": [
    "task = 'How many games did the Braves win in 2022?' \n",
    "result = baseball_lambda.execute_workflow(task, session_id)\n",
    "print(result)"
   ]
  },
  {
   "cell_type": "code",
   "execution_count": 6,
   "id": "8c9e31b6",
   "metadata": {
    "tags": []
   },
   "outputs": [
    {
     "name": "stdout",
     "output_type": "stream",
     "text": [
      "{'Orchestrate': {'next': 'Convert'}}\n",
      "----\n",
      "{'Convert': {'code': '\\n# Import the necessary library\\nfrom pybaseball import schedule_and_record\\n\\n# Get the game-level results for the Atlanta Braves in the 2022 season\\nbraves_2022 = schedule_and_record(2022, \"ATL\")\\n\\n# Extract the relevant fields\\nbraves_2022 = braves_2022[[\"Date\", \"Tm\", \"W/L\", \"R\", \"RA\"]]\\n\\n# Count the number of wins (including walk-off wins) for the Braves\\nbraves_wins = braves_2022[braves_2022[\"W/L\"].isin([\"W\", \"W-wo\"])].shape[0]\\n\\n# Print the total number of games the Braves won in 2022\\nprint(f\"The Atlanta Braves won {braves_wins} games in the 2022 season.\")\\n'}}\n",
      "----\n",
      "Executing: \n",
      "# Import the necessary library\n",
      "from pybaseball import schedule_and_record\n",
      "Executing: # Get the game-level results for the Atlanta Braves in the 2022 season\n",
      "braves_2022 = schedule_and_record(2022, \"ATL\")\n",
      "Result: http://www.baseball-reference.com/teams/ATL/2022-schedule-scores.shtml\n",
      "\n",
      "Executing: # Extract the relevant fields\n",
      "braves_2022 = braves_2022[[\"Date\", \"Tm\", \"W/L\", \"R\", \"RA\"]]\n",
      "Executing: # Count the number of wins (including walk-off wins) for the Braves\n",
      "braves_wins = braves_2022[braves_2022[\"W/L\"].isin([\"W\", \"W-wo\"])].shape[0]\n",
      "Executing: # Print the total number of games the Braves won in 2022\n",
      "print(f\"The Atlanta Braves won {braves_wins} games in the 2022 season.\")\n",
      "\n",
      "Result: The Atlanta Braves won 101 games in the 2022 season.\n",
      "\n",
      "{'Execute': {'messages': [AIMessage(content='The Atlanta Braves won 101 games in the 2022 season.\\n\\nHere is the code that was used to reach this solution:\\n```python\\n\\n# Import the necessary library\\nfrom pybaseball import schedule_and_record\\n# Get the game-level results for the Atlanta Braves in the 2022 season\\nbraves_2022 = schedule_and_record(2022, \"ATL\")\\n# Extract the relevant fields\\nbraves_2022 = braves_2022[[\"Date\", \"Tm\", \"W/L\", \"R\", \"RA\"]]\\n# Count the number of wins (including walk-off wins) for the Braves\\nbraves_wins = braves_2022[braves_2022[\"W/L\"].isin([\"W\", \"W-wo\"])].shape[0]\\n```\\n\\nAre you satisfied with this result?')], 'previous_node': 'Execute', 'code': '\\n# Import the necessary library\\nfrom pybaseball import schedule_and_record\\n# Get the game-level results for the Atlanta Braves in the 2022 season\\nbraves_2022 = schedule_and_record(2022, \"ATL\")\\n# Extract the relevant fields\\nbraves_2022 = braves_2022[[\"Date\", \"Tm\", \"W/L\", \"R\", \"RA\"]]\\n# Count the number of wins (including walk-off wins) for the Braves\\nbraves_wins = braves_2022[braves_2022[\"W/L\"].isin([\"W\", \"W-wo\"])].shape[0]\\n# Print the total number of games the Braves won in 2022\\nprint(f\"The Atlanta Braves won {braves_wins} games in the 2022 season.\")\\n'}}\n",
      "----\n",
      "The Atlanta Braves won 101 games in the 2022 season.\n",
      "\n",
      "Here is the code that was used to reach this solution:\n",
      "```python\n",
      "\n",
      "# Import the necessary library\n",
      "from pybaseball import schedule_and_record\n",
      "# Get the game-level results for the Atlanta Braves in the 2022 season\n",
      "braves_2022 = schedule_and_record(2022, \"ATL\")\n",
      "# Extract the relevant fields\n",
      "braves_2022 = braves_2022[[\"Date\", \"Tm\", \"W/L\", \"R\", \"RA\"]]\n",
      "# Count the number of wins (including walk-off wins) for the Braves\n",
      "braves_wins = braves_2022[braves_2022[\"W/L\"].isin([\"W\", \"W-wo\"])].shape[0]\n",
      "```\n",
      "\n",
      "Are you satisfied with this result?\n"
     ]
    }
   ],
   "source": [
    "task = \"looks good\"\n",
    "result = baseball_lambda.execute_workflow(task, session_id)\n",
    "print(result)"
   ]
  },
  {
   "cell_type": "code",
   "execution_count": 7,
   "id": "907e823a",
   "metadata": {
    "tags": []
   },
   "outputs": [
    {
     "name": "stdout",
     "output_type": "stream",
     "text": [
      "{'Orchestrate': {'next': 'Memorize'}}\n",
      "----\n",
      "{'Memorize': {'messages': [AIMessage(content='Thank you, task has been commited to memory')], 'previous_node': 'Memorize'}}\n",
      "----\n",
      "Thank you, task has been commited to memory\n"
     ]
    }
   ],
   "source": [
    "task = \"yes\"\n",
    "result = baseball_lambda.execute_workflow(task, session_id)\n",
    "print(result)"
   ]
  },
  {
   "cell_type": "code",
   "execution_count": null,
   "id": "e21fc241",
   "metadata": {},
   "outputs": [],
   "source": []
  }
 ],
 "metadata": {
  "kernelspec": {
   "display_name": "venv",
   "language": "python",
   "name": "python3"
  },
  "language_info": {
   "codemirror_mode": {
    "name": "ipython",
    "version": 3
   },
   "file_extension": ".py",
   "mimetype": "text/x-python",
   "name": "python",
   "nbconvert_exporter": "python",
   "pygments_lexer": "ipython3",
   "version": "3.10.13"
  }
 },
 "nbformat": 4,
 "nbformat_minor": 5
}
