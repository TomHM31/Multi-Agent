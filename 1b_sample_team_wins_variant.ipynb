{
 "cells": [
  {
   "cell_type": "code",
   "execution_count": 1,
   "id": "7c01b355-66d2-40e0-92a4-c4553a8d2edd",
   "metadata": {
    "tags": []
   },
   "outputs": [],
   "source": [
    "# general\n",
    "from datetime import datetime\n",
    "from dotenv import load_dotenv, find_dotenv\n",
    "import os\n",
    "\n",
    "# custom local libs\n",
    "from lambda_function import baseball_lambda"
   ]
  },
  {
   "cell_type": "code",
   "execution_count": 2,
   "id": "7a2a54ab",
   "metadata": {},
   "outputs": [],
   "source": [
    "# read local .env file\n",
    "_ = load_dotenv(find_dotenv()) "
   ]
  },
  {
   "cell_type": "code",
   "execution_count": 3,
   "id": "12b6af87",
   "metadata": {},
   "outputs": [],
   "source": [
    "# set Langsmith project\n",
    "today = datetime.now().strftime(\"%Y%m%d\")\n",
    "os.environ[\"LANGCHAIN_PROJECT\"] = f\"Baseball Wins - {today}\""
   ]
  },
  {
   "cell_type": "code",
   "execution_count": 4,
   "id": "a9ed0aff",
   "metadata": {},
   "outputs": [],
   "source": [
    "session_id = '54321'"
   ]
  },
  {
   "cell_type": "code",
   "execution_count": 5,
   "id": "024b632a",
   "metadata": {},
   "outputs": [
    {
     "name": "stdout",
     "output_type": "stream",
     "text": [
      "{'Orchestrate': {'next': 'Plan'}}\n",
      "----\n",
      "Distance to neareast plan: 0.3378670811653137\n",
      "Modifying nearest plan with User input\n",
      "{'Plan': {'messages': [HumanMessage(content='The original plan does not align with the new request to determine the number of games won by the Braves in 2022. Here is an updated plan to retrieve the game-level results for the Atlanta Braves and count their wins in the 2022 season:\\n\\n1. Use the `schedule_and_record` function from the pybaseball library to retrieve the game-level results for the Atlanta Braves for the 2022 season. To do this, pass in two specific attributes to the function:\\n   - `season`: Set this to `2022` to specify the year you are interested in.\\n   - `team`: Use the abbreviation for the Atlanta Braves, which is `\"ATL\"`. This is crucial as using the wrong abbreviation or a full team name will result in an unsuccessful query.\\n\\n2. Once you have the data, focus on the \"W/L\" column of the returned dataframe. This column indicates whether the Braves won or lost each game.\\n\\n3. To count the number of games won by the Braves in 2022, filter the dataframe for rows where the \"W/L\" column has a value of \"W\" or \"W-wo\". \"W\" stands for a regular win, while \"W-wo\" stands for a walk-off win.\\n\\n4. After filtering, count the number of rows in the filtered dataframe. This count will give you the total number of games won by the Braves in 2022, including both regular wins and walk-off wins.\\n\\n5. There is no need to manually check each game\\'s result. The filtering and counting steps will automatically calculate the total wins for you, considering both regular wins and walk-off wins.\\n\\nBy following these steps, you will be able to accurately determine how many games the Atlanta Braves won in the 2022 season, including walk-off wins, without manually going through each game\\'s result. This method is efficient and leverages the capabilities of the pybaseball library to handle baseball data effectively.\\n\\nAre you satisfied with this plan?', name='Plan')]}}\n",
      "----\n",
      "The original plan does not align with the new request to determine the number of games won by the Braves in 2022. Here is an updated plan to retrieve the game-level results for the Atlanta Braves and count their wins in the 2022 season:\n",
      "\n",
      "1. Use the `schedule_and_record` function from the pybaseball library to retrieve the game-level results for the Atlanta Braves for the 2022 season. To do this, pass in two specific attributes to the function:\n",
      "   - `season`: Set this to `2022` to specify the year you are interested in.\n",
      "   - `team`: Use the abbreviation for the Atlanta Braves, which is `\"ATL\"`. This is crucial as using the wrong abbreviation or a full team name will result in an unsuccessful query.\n",
      "\n",
      "2. Once you have the data, focus on the \"W/L\" column of the returned dataframe. This column indicates whether the Braves won or lost each game.\n",
      "\n",
      "3. To count the number of games won by the Braves in 2022, filter the dataframe for rows where the \"W/L\" column has a value of \"W\" or \"W-wo\". \"W\" stands for a regular win, while \"W-wo\" stands for a walk-off win.\n",
      "\n",
      "4. After filtering, count the number of rows in the filtered dataframe. This count will give you the total number of games won by the Braves in 2022, including both regular wins and walk-off wins.\n",
      "\n",
      "5. There is no need to manually check each game's result. The filtering and counting steps will automatically calculate the total wins for you, considering both regular wins and walk-off wins.\n",
      "\n",
      "By following these steps, you will be able to accurately determine how many games the Atlanta Braves won in the 2022 season, including walk-off wins, without manually going through each game's result. This method is efficient and leverages the capabilities of the pybaseball library to handle baseball data effectively.\n",
      "\n",
      "Are you satisfied with this plan?\n"
     ]
    }
   ],
   "source": [
    "task = 'How many games did the Braves win in 2022?' \n",
    "result = baseball_lambda.execute_workflow(task, session_id)\n",
    "print(result)"
   ]
  },
  {
   "cell_type": "code",
   "execution_count": 6,
   "id": "8c9e31b6",
   "metadata": {},
   "outputs": [
    {
     "name": "stdout",
     "output_type": "stream",
     "text": [
      "{'Orchestrate': {'next': 'Execute'}}\n",
      "----\n"
     ]
    },
    {
     "name": "stderr",
     "output_type": "stream",
     "text": [
      "Python REPL can execute arbitrary code. Use with caution.\n"
     ]
    },
    {
     "name": "stdout",
     "output_type": "stream",
     "text": [
      "{'agent': {'messages': [AIMessage(content='', additional_kwargs={'function_call': {'arguments': '{\\n  \"__arg1\": \"from pybaseball import schedule_and_record\"\\n}', 'name': 'Python_REPL'}})]}}\n",
      "----\n",
      "{'action': {'messages': [FunctionMessage(content='', name='Python_REPL')]}}\n",
      "----\n",
      "{'agent': {'messages': [AIMessage(content='', additional_kwargs={'function_call': {'arguments': '{\\n  \"__arg1\": \"braves_2022 = schedule_and_record(2022, \\'ATL\\')\"\\n}', 'name': 'Python_REPL'}})]}}\n",
      "----\n",
      "{'action': {'messages': [FunctionMessage(content='http://www.baseball-reference.com/teams/ATL/2022-schedule-scores.shtml\\n', name='Python_REPL')]}}\n",
      "----\n",
      "{'agent': {'messages': [AIMessage(content='', additional_kwargs={'function_call': {'arguments': '{\\n  \"__arg1\": \"braves_wins_2022 = braves_2022[braves_2022[\\'W/L\\'].str.contains(\\'W\\')]\"\\n}', 'name': 'Python_REPL'}})]}}\n",
      "----\n",
      "{'action': {'messages': [FunctionMessage(content='', name='Python_REPL')]}}\n",
      "----\n",
      "{'agent': {'messages': [AIMessage(content='', additional_kwargs={'function_call': {'arguments': '{\\n  \"__arg1\": \"num_wins = len(braves_wins_2022)\"\\n}', 'name': 'Python_REPL'}})]}}\n",
      "----\n",
      "{'action': {'messages': [FunctionMessage(content='', name='Python_REPL')]}}\n",
      "----\n",
      "{'agent': {'messages': [AIMessage(content='', additional_kwargs={'function_call': {'arguments': '{\\n  \"__arg1\": \"print(num_wins)\"\\n}', 'name': 'Python_REPL'}})]}}\n",
      "----\n",
      "{'action': {'messages': [FunctionMessage(content='101\\n', name='Python_REPL')]}}\n",
      "----\n",
      "{'agent': {'messages': [AIMessage(content='', additional_kwargs={'function_call': {'arguments': '{\\n  \"answer\": \"The Braves won 101 games in 2022.\",\\n  \"python_code\": \"from pybaseball import schedule_and_record\\\\nbraves_2022 = schedule_and_record(2022, \\'ATL\\')\\\\nbraves_wins_2022 = braves_2022[braves_2022[\\'W/L\\'].str.contains(\\'W\\')]\\\\nnum_wins = len(braves_wins_2022)\\\\nprint(num_wins)\",\\n  \"modifications\": \"none\",\\n  \"plan\": \"1. Use the `schedule_and_record` function from the pybaseball library to retrieve the game-level results for the Atlanta Braves for the 2022 season.\\\\n2. Focus on the \\\\\"W/L\\\\\" column of the returned dataframe.\\\\n3. Filter the dataframe for rows where the \\\\\"W/L\\\\\" column has a value of \\\\\"W\\\\\" or \\\\\"W-wo\\\\\".\\\\n4. Count the number of rows in the filtered dataframe.\\\\n5. There is no need to manually check each game\\'s result.\"\\n}', 'name': 'ExecutorResponse'}})]}}\n",
      "----\n",
      "{'Execute': {'messages': [HumanMessage(content=\"The Braves won 101 games in 2022.\\n\\nHere is the Python code that was executed to solve this task:\\n\\n```\\nfrom pybaseball import schedule_and_record\\nbraves_2022 = schedule_and_record(2022, 'ATL')\\nbraves_wins_2022 = braves_2022[braves_2022['W/L'].str.contains('W')]\\nnum_wins = len(braves_wins_2022)\\nprint(num_wins)\\n```\\n\\nAre you satisfied with this result?\", additional_kwargs={'plan': '1. Use the `schedule_and_record` function from the pybaseball library to retrieve the game-level results for the Atlanta Braves for the 2022 season.\\n2. Focus on the \"W/L\" column of the returned dataframe.\\n3. Filter the dataframe for rows where the \"W/L\" column has a value of \"W\" or \"W-wo\".\\n4. Count the number of rows in the filtered dataframe.\\n5. There is no need to manually check each game\\'s result.'}, name='Executor')]}}\n",
      "----\n",
      "The Braves won 101 games in 2022.\n",
      "\n",
      "Here is the Python code that was executed to solve this task:\n",
      "\n",
      "```\n",
      "from pybaseball import schedule_and_record\n",
      "braves_2022 = schedule_and_record(2022, 'ATL')\n",
      "braves_wins_2022 = braves_2022[braves_2022['W/L'].str.contains('W')]\n",
      "num_wins = len(braves_wins_2022)\n",
      "print(num_wins)\n",
      "```\n",
      "\n",
      "Are you satisfied with this result?\n"
     ]
    }
   ],
   "source": [
    "task = \"looks good\"\n",
    "result = baseball_lambda.execute_workflow(task, session_id)\n",
    "print(result)"
   ]
  },
  {
   "cell_type": "code",
   "execution_count": 7,
   "id": "907e823a",
   "metadata": {},
   "outputs": [
    {
     "name": "stdout",
     "output_type": "stream",
     "text": [
      "{'Orchestrate': {'next': 'Memorize'}}\n",
      "----\n",
      "{'Memorize': {'messages': [HumanMessage(content='Thank you, task has been written to memory', name='Memorizer')]}}\n",
      "----\n",
      "Thank you, task has been written to memory\n"
     ]
    }
   ],
   "source": [
    "task = \"yes\"\n",
    "result = baseball_lambda.execute_workflow(task, session_id)\n",
    "print(result)"
   ]
  },
  {
   "cell_type": "code",
   "execution_count": null,
   "id": "e21fc241",
   "metadata": {},
   "outputs": [],
   "source": []
  }
 ],
 "metadata": {
  "kernelspec": {
   "display_name": "venv",
   "language": "python",
   "name": "python3"
  },
  "language_info": {
   "codemirror_mode": {
    "name": "ipython",
    "version": 3
   },
   "file_extension": ".py",
   "mimetype": "text/x-python",
   "name": "python",
   "nbconvert_exporter": "python",
   "pygments_lexer": "ipython3",
   "version": "3.10.8"
  }
 },
 "nbformat": 4,
 "nbformat_minor": 5
}
