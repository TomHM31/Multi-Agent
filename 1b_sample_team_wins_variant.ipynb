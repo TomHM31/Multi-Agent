{
 "cells": [
  {
   "cell_type": "code",
   "execution_count": 1,
   "id": "7c01b355-66d2-40e0-92a4-c4553a8d2edd",
   "metadata": {
    "tags": []
   },
   "outputs": [
    {
     "name": "stderr",
     "output_type": "stream",
     "text": [
      "Python REPL can execute arbitrary code. Use with caution.\n"
     ]
    }
   ],
   "source": [
    "# general\n",
    "from datetime import datetime\n",
    "from dotenv import load_dotenv, find_dotenv\n",
    "import os\n",
    "\n",
    "# custom local libs\n",
    "from function import baseball_lambda"
   ]
  },
  {
   "cell_type": "code",
   "execution_count": 2,
   "id": "7a2a54ab",
   "metadata": {},
   "outputs": [],
   "source": [
    "# read local .env file\n",
    "_ = load_dotenv(find_dotenv()) "
   ]
  },
  {
   "cell_type": "code",
   "execution_count": 3,
   "id": "12b6af87",
   "metadata": {},
   "outputs": [],
   "source": [
    "# set Langsmith project\n",
    "today = datetime.now().strftime(\"%Y%m%d\")\n",
    "os.environ[\"LANGCHAIN_PROJECT\"] = f\"Baseball Wins - {today}\""
   ]
  },
  {
   "cell_type": "code",
   "execution_count": 4,
   "id": "a9ed0aff",
   "metadata": {},
   "outputs": [],
   "source": [
    "session_id = '54321111'"
   ]
  },
  {
   "cell_type": "code",
   "execution_count": 5,
   "id": "024b632a",
   "metadata": {},
   "outputs": [
    {
     "name": "stdout",
     "output_type": "stream",
     "text": [
      "{'Orchestrate': {'next': 'Plan'}}\n",
      "----\n",
      "Distance to neareast plan: 0.3378669023513794\n",
      "Modifying nearest plan with User input\n",
      "{'Plan': {'messages': [HumanMessage(content='The original plan does not align with the new request to count the number of games won by the Braves in 2022. Here is the revised plan for the new request:\\n\\nRevised Plan:\\n\\n1. Use the `schedule_and_record` function from the pybaseball library.\\n2. Pass in the following attributes:\\n   - season: 2022\\n   - team: \"ATL\" (abbreviation for the Atlanta Braves)\\n3. Retrieve the output dataframe from the function.\\n4. Extract the \"W/L\" column from the dataframe, which indicates whether the Braves won or lost each game.\\n5. Modify the step to count the number of games won by the Braves in 2022 to include both \"W\" and \"W-wo\" values in the \"W/L\" column. This can be done by filtering the dataframe for rows where the \"W/L\" column is either \"W\" or \"W-wo\" and then counting the number of such rows.\\n6. Sum the counts of \"W\" and \"W-wo\" to get the total number of games won by the Braves in 2022.\\n\\nThis revised plan ensures that all types of wins, including walk-off wins, are accurately counted for the Atlanta Braves in the 2022 season.\\n\\nAre you satisfied with this plan?')], 'task': 'How many games did the Braves win in 2022?', 'plan': 'The original plan does not align with the new request to count the number of games won by the Braves in 2022. Here is the revised plan for the new request:\\n\\nRevised Plan:\\n\\n1. Use the `schedule_and_record` function from the pybaseball library.\\n2. Pass in the following attributes:\\n   - season: 2022\\n   - team: \"ATL\" (abbreviation for the Atlanta Braves)\\n3. Retrieve the output dataframe from the function.\\n4. Extract the \"W/L\" column from the dataframe, which indicates whether the Braves won or lost each game.\\n5. Modify the step to count the number of games won by the Braves in 2022 to include both \"W\" and \"W-wo\" values in the \"W/L\" column. This can be done by filtering the dataframe for rows where the \"W/L\" column is either \"W\" or \"W-wo\" and then counting the number of such rows.\\n6. Sum the counts of \"W\" and \"W-wo\" to get the total number of games won by the Braves in 2022.\\n\\nThis revised plan ensures that all types of wins, including walk-off wins, are accurately counted for the Atlanta Braves in the 2022 season.\\n\\nAre you satisfied with this plan?', 'previous_node': 'Plan'}}\n",
      "----\n",
      "The original plan does not align with the new request to count the number of games won by the Braves in 2022. Here is the revised plan for the new request:\n",
      "\n",
      "Revised Plan:\n",
      "\n",
      "1. Use the `schedule_and_record` function from the pybaseball library.\n",
      "2. Pass in the following attributes:\n",
      "   - season: 2022\n",
      "   - team: \"ATL\" (abbreviation for the Atlanta Braves)\n",
      "3. Retrieve the output dataframe from the function.\n",
      "4. Extract the \"W/L\" column from the dataframe, which indicates whether the Braves won or lost each game.\n",
      "5. Modify the step to count the number of games won by the Braves in 2022 to include both \"W\" and \"W-wo\" values in the \"W/L\" column. This can be done by filtering the dataframe for rows where the \"W/L\" column is either \"W\" or \"W-wo\" and then counting the number of such rows.\n",
      "6. Sum the counts of \"W\" and \"W-wo\" to get the total number of games won by the Braves in 2022.\n",
      "\n",
      "This revised plan ensures that all types of wins, including walk-off wins, are accurately counted for the Atlanta Braves in the 2022 season.\n",
      "\n",
      "Are you satisfied with this plan?\n"
     ]
    }
   ],
   "source": [
    "task = 'How many games did the Braves win in 2022?' \n",
    "result = baseball_lambda.execute_workflow(task, session_id)\n",
    "print(result)"
   ]
  },
  {
   "cell_type": "code",
   "execution_count": 6,
   "id": "8c9e31b6",
   "metadata": {},
   "outputs": [
    {
     "name": "stdout",
     "output_type": "stream",
     "text": [
      "{'Orchestrate': {'next': 'Convert'}}\n",
      "----\n",
      "{'Convert': {'code': '\\n# Import necessary library\\nfrom pybaseball import schedule_and_record\\n\\n# Step 1 & 2: Use the `schedule_and_record` function to get the Atlanta Braves\\' 2022 season record\\nbraves_schedule_2022 = schedule_and_record(2022, \"ATL\")\\n# Step 3: The output dataframe is already stored in `braves_schedule_2022`\\n\\n# Step 4: Extract the \"W/L\" column from the dataframe to identify wins and losses\\nwl_column = braves_schedule_2022[\"W/L\"]\\n\\n# Step 5: Filter the dataframe for rows where the \"W/L\" column is either \"W\" or \"W-wo\"\\n# This is done by using the .isin() method to check for rows that match either \"W\" or \"W-wo\"\\n# This step is crucial for accurately counting all types of wins, including walk-off wins\\nwins = wl_column.isin([\"W\", \"W-wo\"])\\n\\n# Step 6: Count the number of True values in the `wins` series to get the total number of wins\\n# True values indicate a win (either \"W\" or \"W-wo\"), and the .sum() method counts these True values\\ntotal_wins = wins.sum()\\n\\n# Display the total number of games won by the Braves in 2022, including walk-off wins\\n# This gives a complete picture of the team\\'s performance in terms of wins for the season\\nprint(f\"The Atlanta Braves won a total of {total_wins} games in 2022, including walk-off wins.\")\\n'}}\n",
      "----\n",
      "Executing: \n",
      "# Import necessary library\n",
      "from pybaseball import schedule_and_record\n",
      "Executing: # Step 1 & 2: Use the `schedule_and_record` function to get the Atlanta Braves' 2022 season record\n",
      "braves_schedule_2022 = schedule_and_record(2022, \"ATL\")\n",
      "# Step 3: The output dataframe is already stored in `braves_schedule_2022`\n",
      "Result: http://www.baseball-reference.com/teams/ATL/2022-schedule-scores.shtml\n",
      "\n",
      "Executing: # Step 4: Extract the \"W/L\" column from the dataframe to identify wins and losses\n",
      "wl_column = braves_schedule_2022[\"W/L\"]\n",
      "Executing: # Step 5: Filter the dataframe for rows where the \"W/L\" column is either \"W\" or \"W-wo\"\n",
      "# This is done by using the .isin() method to check for rows that match either \"W\" or \"W-wo\"\n",
      "# This step is crucial for accurately counting all types of wins, including walk-off wins\n",
      "wins = wl_column.isin([\"W\", \"W-wo\"])\n",
      "import aegaefg\n",
      "Result: ModuleNotFoundError(\"No module named 'aegaefg'\")\n",
      "Executing: \n",
      "# Step 5: Filter the dataframe for rows where the \"W/L\" column is either \"W\" or \"W-wo\"\n",
      "# This is done by using the .isin() method to check for rows that match either \"W\" or \"W-wo\"\n",
      "# This step is crucial for accurately counting all types of wins, including walk-off wins\n",
      "wins = wl_column.isin([\"W\", \"W-wo\"])\n",
      "\n",
      "Executing: # Step 6: Count the number of True values in the `wins` series to get the total number of wins\n",
      "# True values indicate a win (either \"W\" or \"W-wo\"), and the .sum() method counts these True values\n",
      "total_wins = wins.sum()\n",
      "Executing: # Display the total number of games won by the Braves in 2022, including walk-off wins\n",
      "# This gives a complete picture of the team's performance in terms of wins for the season\n",
      "print(f\"The Atlanta Braves won a total of {total_wins} games in 2022, including walk-off wins.\")\n",
      "\n",
      "Result: The Atlanta Braves won a total of 101 games in 2022, including walk-off wins.\n",
      "\n",
      "{'Execute': {'messages': [AIMessage(content='The Atlanta Braves won a total of 101 games in 2022, including walk-off wins.\\n\\nHere is the code that was used to reach this solution:\\n```python\\n\\n# Import necessary library\\nfrom pybaseball import schedule_and_record\\n# Step 1 & 2: Use the `schedule_and_record` function to get the Atlanta Braves\\' 2022 season record\\nbraves_schedule_2022 = schedule_and_record(2022, \"ATL\")\\n# Step 3: The output dataframe is already stored in `braves_schedule_2022`\\n# Step 4: Extract the \"W/L\" column from the dataframe to identify wins and losses\\nwl_column = braves_schedule_2022[\"W/L\"]\\n\\n# Step 5: Filter the dataframe for rows where the \"W/L\" column is either \"W\" or \"W-wo\"\\n# This is done by using the .isin() method to check for rows that match either \"W\" or \"W-wo\"\\n# This step is crucial for accurately counting all types of wins, including walk-off wins\\nwins = wl_column.isin([\"W\", \"W-wo\"])\\n\\n# Step 6: Count the number of True values in the `wins` series to get the total number of wins\\n# True values indicate a win (either \"W\" or \"W-wo\"), and the .sum() method counts these True values\\ntotal_wins = wins.sum()\\n```\\n\\nAre you satisfied with this result?')], 'previous_node': 'Execute', 'code': '\\n# Import necessary library\\nfrom pybaseball import schedule_and_record\\n# Step 1 & 2: Use the `schedule_and_record` function to get the Atlanta Braves\\' 2022 season record\\nbraves_schedule_2022 = schedule_and_record(2022, \"ATL\")\\n# Step 3: The output dataframe is already stored in `braves_schedule_2022`\\n# Step 4: Extract the \"W/L\" column from the dataframe to identify wins and losses\\nwl_column = braves_schedule_2022[\"W/L\"]\\n\\n# Step 5: Filter the dataframe for rows where the \"W/L\" column is either \"W\" or \"W-wo\"\\n# This is done by using the .isin() method to check for rows that match either \"W\" or \"W-wo\"\\n# This step is crucial for accurately counting all types of wins, including walk-off wins\\nwins = wl_column.isin([\"W\", \"W-wo\"])\\n\\n# Step 6: Count the number of True values in the `wins` series to get the total number of wins\\n# True values indicate a win (either \"W\" or \"W-wo\"), and the .sum() method counts these True values\\ntotal_wins = wins.sum()\\n# Display the total number of games won by the Braves in 2022, including walk-off wins\\n# This gives a complete picture of the team\\'s performance in terms of wins for the season\\nprint(f\"The Atlanta Braves won a total of {total_wins} games in 2022, including walk-off wins.\")\\n'}}\n",
      "----\n",
      "The Atlanta Braves won a total of 101 games in 2022, including walk-off wins.\n",
      "\n",
      "Here is the code that was used to reach this solution:\n",
      "```python\n",
      "\n",
      "# Import necessary library\n",
      "from pybaseball import schedule_and_record\n",
      "# Step 1 & 2: Use the `schedule_and_record` function to get the Atlanta Braves' 2022 season record\n",
      "braves_schedule_2022 = schedule_and_record(2022, \"ATL\")\n",
      "# Step 3: The output dataframe is already stored in `braves_schedule_2022`\n",
      "# Step 4: Extract the \"W/L\" column from the dataframe to identify wins and losses\n",
      "wl_column = braves_schedule_2022[\"W/L\"]\n",
      "\n",
      "# Step 5: Filter the dataframe for rows where the \"W/L\" column is either \"W\" or \"W-wo\"\n",
      "# This is done by using the .isin() method to check for rows that match either \"W\" or \"W-wo\"\n",
      "# This step is crucial for accurately counting all types of wins, including walk-off wins\n",
      "wins = wl_column.isin([\"W\", \"W-wo\"])\n",
      "\n",
      "# Step 6: Count the number of True values in the `wins` series to get the total number of wins\n",
      "# True values indicate a win (either \"W\" or \"W-wo\"), and the .sum() method counts these True values\n",
      "total_wins = wins.sum()\n",
      "```\n",
      "\n",
      "Are you satisfied with this result?\n"
     ]
    }
   ],
   "source": [
    "task = \"looks good\"\n",
    "result = baseball_lambda.execute_workflow(task, session_id)\n",
    "print(result)"
   ]
  },
  {
   "cell_type": "code",
   "execution_count": 7,
   "id": "907e823a",
   "metadata": {},
   "outputs": [
    {
     "name": "stdout",
     "output_type": "stream",
     "text": [
      "{'Orchestrate': {'next': 'Memorize'}}\n",
      "----\n",
      "{'Memorize': {'messages': [AIMessage(content='Thank you, task has been commited to memory')], 'previous_node': 'Memorize'}}\n",
      "----\n",
      "Thank you, task has been commited to memory\n"
     ]
    }
   ],
   "source": [
    "task = \"yes\"\n",
    "result = baseball_lambda.execute_workflow(task, session_id)\n",
    "print(result)"
   ]
  },
  {
   "cell_type": "code",
   "execution_count": null,
   "id": "e21fc241",
   "metadata": {},
   "outputs": [],
   "source": []
  }
 ],
 "metadata": {
  "kernelspec": {
   "display_name": "venv",
   "language": "python",
   "name": "python3"
  },
  "language_info": {
   "codemirror_mode": {
    "name": "ipython",
    "version": 3
   },
   "file_extension": ".py",
   "mimetype": "text/x-python",
   "name": "python",
   "nbconvert_exporter": "python",
   "pygments_lexer": "ipython3",
   "version": "3.10.8"
  }
 },
 "nbformat": 4,
 "nbformat_minor": 5
}
