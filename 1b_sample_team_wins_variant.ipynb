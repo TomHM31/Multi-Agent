{
 "cells": [
  {
   "cell_type": "code",
   "execution_count": 1,
   "id": "7c01b355-66d2-40e0-92a4-c4553a8d2edd",
   "metadata": {
    "tags": []
   },
   "outputs": [
    {
     "name": "stderr",
     "output_type": "stream",
     "text": [
      "/Users/rosclay/Documents/VSCode/langgraph-multi-agent/venv/lib/python3.10/site-packages/langchain_core/_api/beta_decorator.py:87: LangChainBetaWarning: The function `bind_tools` is in beta. It is actively being worked on, so the API may change.\n",
      "  warn_beta(\n",
      "Python REPL can execute arbitrary code. Use with caution.\n"
     ]
    }
   ],
   "source": [
    "# general\n",
    "from datetime import datetime\n",
    "from dotenv import load_dotenv, find_dotenv\n",
    "import os\n",
    "\n",
    "# custom local libs\n",
    "from function import baseball_lambda"
   ]
  },
  {
   "cell_type": "code",
   "execution_count": 2,
   "id": "7a2a54ab",
   "metadata": {
    "tags": []
   },
   "outputs": [],
   "source": [
    "# read local .env file\n",
    "_ = load_dotenv(find_dotenv()) "
   ]
  },
  {
   "cell_type": "code",
   "execution_count": 3,
   "id": "12b6af87",
   "metadata": {
    "tags": []
   },
   "outputs": [],
   "source": [
    "# set Langsmith project\n",
    "today = datetime.now().strftime(\"%Y%m%d\")\n",
    "os.environ[\"LANGCHAIN_PROJECT\"] = f\"Baseball Wins - {today}\""
   ]
  },
  {
   "cell_type": "code",
   "execution_count": 4,
   "id": "a9ed0aff",
   "metadata": {
    "tags": []
   },
   "outputs": [],
   "source": [
    "session_id = '54322'"
   ]
  },
  {
   "cell_type": "code",
   "execution_count": 5,
   "id": "024b632a",
   "metadata": {
    "tags": []
   },
   "outputs": [
    {
     "name": "stdout",
     "output_type": "stream",
     "text": [
      "{'Orchestrate': {'next': 'Plan'}}\n",
      "----\n",
      "Distance to neareast plan: 0.43230772018432617\n",
      "Modifying nearest plan with User input\n",
      "{'Plan': {'messages': [HumanMessage(content='How many games did the Braves win in 2022?', name='User'), AIMessage(content=\"Step 1: Import the pybaseball library and the schedule_and_record function.\\n\\nimport pybaseball\\nfrom pybaseball import schedule_and_record  \\n\\nStep 2: Call the schedule_and_record function to get the 2022 Braves game results.\\n\\nbraves_2022 = schedule_and_record(2022, 'ATL')\\n\\nStep 3: Filter the dataframe to include games where the Braves won (W) or had a walk-off win (W-wo).  \\n\\nbraves_wins = braves_2022[braves_2022['W/L'].isin(['W', 'W-wo'])]\\n\\nStep 4: Count the number of rows in the filtered dataframe to get the total wins including walk-offs.\\n\\ntotal_wins = len(braves_wins)  \\n\\nStep 5: Print out the total wins for the 2022 Braves season including walk-offs.\\n\\nprint(f'The Atlanta Braves won {total_wins} games in the 2022 season including walk-off wins.')\")], 'task': 'How many games did the Braves win in 2022?', 'plan': \"Step 1: Import the pybaseball library and the schedule_and_record function.\\n\\nimport pybaseball\\nfrom pybaseball import schedule_and_record  \\n\\nStep 2: Call the schedule_and_record function to get the 2022 Braves game results.\\n\\nbraves_2022 = schedule_and_record(2022, 'ATL')\\n\\nStep 3: Filter the dataframe to include games where the Braves won (W) or had a walk-off win (W-wo).  \\n\\nbraves_wins = braves_2022[braves_2022['W/L'].isin(['W', 'W-wo'])]\\n\\nStep 4: Count the number of rows in the filtered dataframe to get the total wins including walk-offs.\\n\\ntotal_wins = len(braves_wins)  \\n\\nStep 5: Print out the total wins for the 2022 Braves season including walk-offs.\\n\\nprint(f'The Atlanta Braves won {total_wins} games in the 2022 season including walk-off wins.')\", 'previous_node': 'Plan'}}\n",
      "----\n",
      "Step 1: Import the pybaseball library and the schedule_and_record function.\n",
      "\n",
      "import pybaseball\n",
      "from pybaseball import schedule_and_record  \n",
      "\n",
      "Step 2: Call the schedule_and_record function to get the 2022 Braves game results.\n",
      "\n",
      "braves_2022 = schedule_and_record(2022, 'ATL')\n",
      "\n",
      "Step 3: Filter the dataframe to include games where the Braves won (W) or had a walk-off win (W-wo).  \n",
      "\n",
      "braves_wins = braves_2022[braves_2022['W/L'].isin(['W', 'W-wo'])]\n",
      "\n",
      "Step 4: Count the number of rows in the filtered dataframe to get the total wins including walk-offs.\n",
      "\n",
      "total_wins = len(braves_wins)  \n",
      "\n",
      "Step 5: Print out the total wins for the 2022 Braves season including walk-offs.\n",
      "\n",
      "print(f'The Atlanta Braves won {total_wins} games in the 2022 season including walk-off wins.')\n"
     ]
    }
   ],
   "source": [
    "task = 'How many games did the Braves win in 2022?' \n",
    "result = baseball_lambda.execute_workflow(task, session_id)\n",
    "print(result)"
   ]
  },
  {
   "cell_type": "code",
   "execution_count": 6,
   "id": "8c9e31b6",
   "metadata": {
    "tags": []
   },
   "outputs": [
    {
     "name": "stdout",
     "output_type": "stream",
     "text": [
      "{'Orchestrate': {'next': 'Execute'}}\n",
      "----\n",
      "Executing: import pybaseball\n",
      "from pybaseball import schedule_and_record\n",
      "\n",
      "braves_2022 = schedule_and_record(2022, 'ATL')\n",
      "Result: http://www.baseball-reference.com/teams/ATL/2022-schedule-scores.shtml\n",
      "\n",
      "Executing: braves_wins = braves_2022[braves_2022['W/L'].isin(['W', 'W-wo'])]\n",
      "Executing: total_wins = len(braves_wins)\n",
      "Executing: print(f'The Atlanta Braves won {total_wins} games in the 2022 season including walk-off wins.')\n",
      "Result: The Atlanta Braves won 101 games in the 2022 season including walk-off wins.\n",
      "\n",
      "{'Execute': {'messages': [AIMessage(content=\"The Atlanta Braves won 101 games in the 2022 season including walk-off wins.\\nHere is the code that was used to reach this solution:\\n\\n```python\\n\\nimport pybaseball\\nfrom pybaseball import schedule_and_record\\n\\nbraves_2022 = schedule_and_record(2022, 'ATL')\\nbraves_wins = braves_2022[braves_2022['W/L'].isin(['W', 'W-wo'])]\\ntotal_wins = len(braves_wins)\\nprint(f'The Atlanta Braves won {total_wins} games in the 2022 season including walk-off wins.')\\n```\\n\\nAre you satisfied with this result?\")], 'previous_node': 'Execute', 'code': \"import pybaseball\\nfrom pybaseball import schedule_and_record\\n\\nbraves_2022 = schedule_and_record(2022, 'ATL')\\nbraves_wins = braves_2022[braves_2022['W/L'].isin(['W', 'W-wo'])]\\ntotal_wins = len(braves_wins)\\nprint(f'The Atlanta Braves won {total_wins} games in the 2022 season including walk-off wins.')\", 'plan': \"Step 1: Import the pybaseball library and the schedule_and_record function.\\n\\nimport pybaseball\\nfrom pybaseball import schedule_and_record  \\n\\nStep 2: Call the schedule_and_record function to get the 2022 Braves game results.\\n\\nbraves_2022 = schedule_and_record(2022, 'ATL')\\n\\nStep 3: Filter the dataframe to include games where the Braves won (W) or had a walk-off win (W-wo).  \\n\\nbraves_wins = braves_2022[braves_2022['W/L'].isin(['W', 'W-wo'])]\\n\\nStep 4: Count the number of rows in the filtered dataframe to get the total wins including walk-offs.\\n\\ntotal_wins = len(braves_wins)  \\n\\nStep 5: Print out the total wins for the 2022 Braves season including walk-offs.\\n\\nprint(f'The Atlanta Braves won {total_wins} games in the 2022 season including walk-off wins.')\"}}\n",
      "----\n",
      "The Atlanta Braves won 101 games in the 2022 season including walk-off wins.\n",
      "Here is the code that was used to reach this solution:\n",
      "\n",
      "```python\n",
      "\n",
      "import pybaseball\n",
      "from pybaseball import schedule_and_record\n",
      "\n",
      "braves_2022 = schedule_and_record(2022, 'ATL')\n",
      "braves_wins = braves_2022[braves_2022['W/L'].isin(['W', 'W-wo'])]\n",
      "total_wins = len(braves_wins)\n",
      "print(f'The Atlanta Braves won {total_wins} games in the 2022 season including walk-off wins.')\n",
      "```\n",
      "\n",
      "Are you satisfied with this result?\n"
     ]
    }
   ],
   "source": [
    "task = \"looks good\"\n",
    "result = baseball_lambda.execute_workflow(task, session_id)\n",
    "print(result)"
   ]
  },
  {
   "cell_type": "code",
   "execution_count": 7,
   "id": "907e823a",
   "metadata": {
    "tags": []
   },
   "outputs": [
    {
     "name": "stdout",
     "output_type": "stream",
     "text": [
      "{'Orchestrate': {'next': 'Memorize'}}\n",
      "----\n",
      "{'Memorize': {'messages': [AIMessage(content='Thank you, task has been commited to memory')], 'previous_node': 'Memorize'}}\n",
      "----\n",
      "Thank you, task has been commited to memory\n"
     ]
    }
   ],
   "source": [
    "task = \"yes\"\n",
    "result = baseball_lambda.execute_workflow(task, session_id)\n",
    "print(result)"
   ]
  },
  {
   "cell_type": "code",
   "execution_count": null,
   "id": "e21fc241",
   "metadata": {},
   "outputs": [],
   "source": []
  }
 ],
 "metadata": {
  "kernelspec": {
   "display_name": "venv",
   "language": "python",
   "name": "python3"
  },
  "language_info": {
   "codemirror_mode": {
    "name": "ipython",
    "version": 3
   },
   "file_extension": ".py",
   "mimetype": "text/x-python",
   "name": "python",
   "nbconvert_exporter": "python",
   "pygments_lexer": "ipython3",
   "version": "3.10.8"
  }
 },
 "nbformat": 4,
 "nbformat_minor": 5
}
