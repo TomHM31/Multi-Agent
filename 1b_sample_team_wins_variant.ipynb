{
 "cells": [
  {
   "cell_type": "code",
   "execution_count": 1,
   "id": "7c01b355-66d2-40e0-92a4-c4553a8d2edd",
   "metadata": {
    "tags": []
   },
   "outputs": [
    {
     "name": "stderr",
     "output_type": "stream",
     "text": [
      "/Users/rosclay/Documents/VSCode/langgraph-multi-agent/venv/lib/python3.10/site-packages/langchain_core/_api/beta_decorator.py:87: LangChainBetaWarning: The function `bind_tools` is in beta. It is actively being worked on, so the API may change.\n",
      "  warn_beta(\n",
      "Python REPL can execute arbitrary code. Use with caution.\n"
     ]
    }
   ],
   "source": [
    "# general\n",
    "from datetime import datetime\n",
    "from dotenv import load_dotenv, find_dotenv\n",
    "import os\n",
    "\n",
    "# custom local libs\n",
    "from function import baseball_lambda"
   ]
  },
  {
   "cell_type": "code",
   "execution_count": 2,
   "id": "7a2a54ab",
   "metadata": {
    "tags": []
   },
   "outputs": [],
   "source": [
    "# read local .env file\n",
    "_ = load_dotenv(find_dotenv()) "
   ]
  },
  {
   "cell_type": "code",
   "execution_count": 3,
   "id": "12b6af87",
   "metadata": {
    "tags": []
   },
   "outputs": [],
   "source": [
    "# set Langsmith project\n",
    "today = datetime.now().strftime(\"%Y%m%d\")\n",
    "os.environ[\"LANGCHAIN_PROJECT\"] = f\"Baseball Wins - {today}\""
   ]
  },
  {
   "cell_type": "code",
   "execution_count": 4,
   "id": "a9ed0aff",
   "metadata": {
    "tags": []
   },
   "outputs": [],
   "source": [
    "session_id = '54322'"
   ]
  },
  {
   "cell_type": "code",
   "execution_count": 5,
   "id": "024b632a",
   "metadata": {
    "tags": []
   },
   "outputs": [
    {
     "name": "stdout",
     "output_type": "stream",
     "text": [
      "{'Orchestrate': {'next': 'Plan'}}\n",
      "----\n",
      "Distance to neareast plan: 0.3378669023513794\n",
      "Modifying nearest plan with User input\n",
      "{'Plan': {'messages': [HumanMessage(content='How many games did the Braves win in 2022?', name='User'), AIMessage(content='Step 1: Import the necessary libraries\\nimport pandas as pd\\nfrom pybaseball import schedule_and_record\\n\\nStep 2: Use the schedule_and_record function to retrieve the Braves\\' 2022 game results\\nbraves_2022 = schedule_and_record(2022, \\'ATL\\')\\n\\nStep 3: Count the number of regular wins\\nnum_regular_wins = len(braves_2022[braves_2022[\\'W/L\\'] == \\'W\\'])\\n\\nStep 4: Count the number of walk-off wins\\nnum_walkoff_wins = len(braves_2022[braves_2022[\\'W/L\\'] == \\'W-wo\\'])\\n\\nStep 5: Calculate the total number of wins\\nnum_total_wins = num_regular_wins + num_walkoff_wins\\n\\nStep 6: Print the result\\nprint(f\"The Atlanta Braves won {num_total_wins} games in the 2022 season.\")\\n\\nAre you satisfied with this plan?')], 'task': 'How many games did the Braves win in 2022?', 'plan': 'Step 1: Import the necessary libraries\\nimport pandas as pd\\nfrom pybaseball import schedule_and_record\\n\\nStep 2: Use the schedule_and_record function to retrieve the Braves\\' 2022 game results\\nbraves_2022 = schedule_and_record(2022, \\'ATL\\')\\n\\nStep 3: Count the number of regular wins\\nnum_regular_wins = len(braves_2022[braves_2022[\\'W/L\\'] == \\'W\\'])\\n\\nStep 4: Count the number of walk-off wins\\nnum_walkoff_wins = len(braves_2022[braves_2022[\\'W/L\\'] == \\'W-wo\\'])\\n\\nStep 5: Calculate the total number of wins\\nnum_total_wins = num_regular_wins + num_walkoff_wins\\n\\nStep 6: Print the result\\nprint(f\"The Atlanta Braves won {num_total_wins} games in the 2022 season.\")\\n\\nAre you satisfied with this plan?', 'previous_node': 'Plan'}}\n",
      "----\n",
      "Step 1: Import the necessary libraries\n",
      "import pandas as pd\n",
      "from pybaseball import schedule_and_record\n",
      "\n",
      "Step 2: Use the schedule_and_record function to retrieve the Braves' 2022 game results\n",
      "braves_2022 = schedule_and_record(2022, 'ATL')\n",
      "\n",
      "Step 3: Count the number of regular wins\n",
      "num_regular_wins = len(braves_2022[braves_2022['W/L'] == 'W'])\n",
      "\n",
      "Step 4: Count the number of walk-off wins\n",
      "num_walkoff_wins = len(braves_2022[braves_2022['W/L'] == 'W-wo'])\n",
      "\n",
      "Step 5: Calculate the total number of wins\n",
      "num_total_wins = num_regular_wins + num_walkoff_wins\n",
      "\n",
      "Step 6: Print the result\n",
      "print(f\"The Atlanta Braves won {num_total_wins} games in the 2022 season.\")\n",
      "\n",
      "Are you satisfied with this plan?\n"
     ]
    }
   ],
   "source": [
    "task = 'How many games did the Braves win in 2022?' \n",
    "result = baseball_lambda.execute_workflow(task, session_id)\n",
    "print(result)"
   ]
  },
  {
   "cell_type": "code",
   "execution_count": 6,
   "id": "8c9e31b6",
   "metadata": {
    "tags": []
   },
   "outputs": [
    {
     "name": "stdout",
     "output_type": "stream",
     "text": [
      "{'Orchestrate': {'next': 'Execute'}}\n",
      "----\n",
      "Executing: import pandas as pd\n",
      "from pybaseball import schedule_and_record\n",
      "Executing: braves_2022 = schedule_and_record(2022, 'ATL')\n",
      "Result: http://www.baseball-reference.com/teams/ATL/2022-schedule-scores.shtml\n",
      "\n",
      "Executing: num_regular_wins = len(braves_2022[braves_2022['W/L'] == 'W'])\n",
      "Executing: num_walkoff_wins = len(braves_2022[braves_2022['W/L'] == 'W-wo'])\n",
      "Executing: num_total_wins = num_regular_wins + num_walkoff_wins\n",
      "Executing: print(f\"The Atlanta Braves won {num_total_wins} games in the 2022 season.\")\n",
      "Result: The Atlanta Braves won 101 games in the 2022 season.\n",
      "\n",
      "{'Execute': {'messages': [AIMessage(content='The Atlanta Braves won 101 games in the 2022 MLB season.\\nHere is the code that was used to reach this solution:\\n\\n```python\\n\\nimport pandas as pd\\nfrom pybaseball import schedule_and_record\\nbraves_2022 = schedule_and_record(2022, \\'ATL\\')\\nnum_regular_wins = len(braves_2022[braves_2022[\\'W/L\\'] == \\'W\\'])\\nnum_walkoff_wins = len(braves_2022[braves_2022[\\'W/L\\'] == \\'W-wo\\'])\\nnum_total_wins = num_regular_wins + num_walkoff_wins\\nprint(f\"The Atlanta Braves won {num_total_wins} games in the 2022 season.\")\\n```\\n\\nAre you satisfied with this result?')], 'previous_node': 'Execute', 'code': 'import pandas as pd\\nfrom pybaseball import schedule_and_record\\nbraves_2022 = schedule_and_record(2022, \\'ATL\\')\\nnum_regular_wins = len(braves_2022[braves_2022[\\'W/L\\'] == \\'W\\'])\\nnum_walkoff_wins = len(braves_2022[braves_2022[\\'W/L\\'] == \\'W-wo\\'])\\nnum_total_wins = num_regular_wins + num_walkoff_wins\\nprint(f\"The Atlanta Braves won {num_total_wins} games in the 2022 season.\")', 'plan': 'Step 1: Import the necessary libraries\\nimport pandas as pd\\nfrom pybaseball import schedule_and_record\\n\\nStep 2: Use the schedule_and_record function to retrieve the Braves\\' 2022 game results\\nbraves_2022 = schedule_and_record(2022, \\'ATL\\')\\n\\nStep 3: Count the number of regular wins \\nnum_regular_wins = len(braves_2022[braves_2022[\\'W/L\\'] == \\'W\\'])\\n\\nStep 4: Count the number of walk-off wins\\nnum_walkoff_wins = len(braves_2022[braves_2022[\\'W/L\\'] == \\'W-wo\\'])\\n\\nStep 5: Calculate the total number of wins\\nnum_total_wins = num_regular_wins + num_walkoff_wins\\n\\nStep 6: Print the result\\nprint(f\"The Atlanta Braves won {num_total_wins} games in the 2022 season.\")'}}\n",
      "----\n",
      "The Atlanta Braves won 101 games in the 2022 MLB season.\n",
      "Here is the code that was used to reach this solution:\n",
      "\n",
      "```python\n",
      "\n",
      "import pandas as pd\n",
      "from pybaseball import schedule_and_record\n",
      "braves_2022 = schedule_and_record(2022, 'ATL')\n",
      "num_regular_wins = len(braves_2022[braves_2022['W/L'] == 'W'])\n",
      "num_walkoff_wins = len(braves_2022[braves_2022['W/L'] == 'W-wo'])\n",
      "num_total_wins = num_regular_wins + num_walkoff_wins\n",
      "print(f\"The Atlanta Braves won {num_total_wins} games in the 2022 season.\")\n",
      "```\n",
      "\n",
      "Are you satisfied with this result?\n"
     ]
    }
   ],
   "source": [
    "task = \"looks good\"\n",
    "result = baseball_lambda.execute_workflow(task, session_id)\n",
    "print(result)"
   ]
  },
  {
   "cell_type": "code",
   "execution_count": 7,
   "id": "907e823a",
   "metadata": {
    "tags": []
   },
   "outputs": [
    {
     "name": "stdout",
     "output_type": "stream",
     "text": [
      "{'Orchestrate': {'next': 'Memorize'}}\n",
      "----\n",
      "{'Memorize': {'messages': [AIMessage(content='Thank you, task has been commited to memory')], 'previous_node': 'Memorize'}}\n",
      "----\n",
      "Thank you, task has been commited to memory\n"
     ]
    }
   ],
   "source": [
    "task = \"yes\"\n",
    "result = baseball_lambda.execute_workflow(task, session_id)\n",
    "print(result)"
   ]
  },
  {
   "cell_type": "code",
   "execution_count": null,
   "id": "e21fc241",
   "metadata": {},
   "outputs": [],
   "source": []
  }
 ],
 "metadata": {
  "kernelspec": {
   "display_name": "venv",
   "language": "python",
   "name": "python3"
  },
  "language_info": {
   "codemirror_mode": {
    "name": "ipython",
    "version": 3
   },
   "file_extension": ".py",
   "mimetype": "text/x-python",
   "name": "python",
   "nbconvert_exporter": "python",
   "pygments_lexer": "ipython3",
   "version": "3.10.8"
  }
 },
 "nbformat": 4,
 "nbformat_minor": 5
}
