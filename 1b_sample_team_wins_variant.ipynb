{
 "cells": [
  {
   "cell_type": "code",
   "execution_count": 1,
   "id": "7c01b355-66d2-40e0-92a4-c4553a8d2edd",
   "metadata": {
    "tags": []
   },
   "outputs": [
    {
     "name": "stderr",
     "output_type": "stream",
     "text": [
      "Python REPL can execute arbitrary code. Use with caution.\n"
     ]
    }
   ],
   "source": [
    "# general\n",
    "from datetime import datetime\n",
    "from dotenv import load_dotenv, find_dotenv\n",
    "import os\n",
    "\n",
    "# custom local libs\n",
    "from function import baseball_lambda"
   ]
  },
  {
   "cell_type": "code",
   "execution_count": 2,
   "id": "7a2a54ab",
   "metadata": {
    "tags": []
   },
   "outputs": [],
   "source": [
    "# read local .env file\n",
    "_ = load_dotenv(find_dotenv()) "
   ]
  },
  {
   "cell_type": "code",
   "execution_count": 3,
   "id": "12b6af87",
   "metadata": {
    "tags": []
   },
   "outputs": [],
   "source": [
    "# set Langsmith project\n",
    "today = datetime.now().strftime(\"%Y%m%d\")\n",
    "os.environ[\"LANGCHAIN_PROJECT\"] = f\"Baseball Wins - {today}\""
   ]
  },
  {
   "cell_type": "code",
   "execution_count": 4,
   "id": "a9ed0aff",
   "metadata": {
    "tags": []
   },
   "outputs": [],
   "source": [
    "session_id = '5432111'"
   ]
  },
  {
   "cell_type": "code",
   "execution_count": 5,
   "id": "024b632a",
   "metadata": {
    "tags": []
   },
   "outputs": [
    {
     "name": "stdout",
     "output_type": "stream",
     "text": [
      "{'Orchestrate': {'next': 'Plan'}}\n",
      "----\n",
      "Distance to neareast plan: 0.3378669023513794\n",
      "Modifying nearest plan with User input\n",
      "{'Plan': {'messages': [HumanMessage(content='\\n1. Import the schedule_and_record function from the pybaseball library:\\n\\nfrom pybaseball import schedule_and_record\\n\\n2. Call the schedule_and_record function with the season (2022) and team (\\'ATL\\' for Atlanta Braves):\\n\\nbraves_2022 = schedule_and_record(2022, \\'ATL\\')\\n\\n3. To get the number of wins, filter the dataframe to rows where the \\'W/L\\' column equals \\'W\\' (for wins) or \\'W-wo\\' (for walk-off wins):\\n\\nwins = braves_2022[(braves_2022[\\'W/L\\'] == \\'W\\') | (braves_2022[\\'W/L\\'] == \\'W-wo\\')]\\n\\n4. Get the count of rows in the filtered dataframe to get the total number of wins (including walk-offs):\\n\\nnum_wins = len(wins)\\n\\n5. Print out the number of wins:\\n\\nprint(f\"The Atlanta Braves won {num_wins} games in the 2022 season (including walk-offs).\")\\n\\n\\nAre you satisfied with this plan?')], 'task': 'How many games did the Braves win in 2022?', 'plan': '\\n1. Import the schedule_and_record function from the pybaseball library:\\n\\nfrom pybaseball import schedule_and_record\\n\\n2. Call the schedule_and_record function with the season (2022) and team (\\'ATL\\' for Atlanta Braves):\\n\\nbraves_2022 = schedule_and_record(2022, \\'ATL\\')\\n\\n3. To get the number of wins, filter the dataframe to rows where the \\'W/L\\' column equals \\'W\\' (for wins) or \\'W-wo\\' (for walk-off wins):\\n\\nwins = braves_2022[(braves_2022[\\'W/L\\'] == \\'W\\') | (braves_2022[\\'W/L\\'] == \\'W-wo\\')]\\n\\n4. Get the count of rows in the filtered dataframe to get the total number of wins (including walk-offs):\\n\\nnum_wins = len(wins)\\n\\n5. Print out the number of wins:\\n\\nprint(f\"The Atlanta Braves won {num_wins} games in the 2022 season (including walk-offs).\")\\n\\n\\nAre you satisfied with this plan?', 'previous_node': 'Plan'}}\n",
      "----\n",
      "\n",
      "1. Import the schedule_and_record function from the pybaseball library:\n",
      "\n",
      "from pybaseball import schedule_and_record\n",
      "\n",
      "2. Call the schedule_and_record function with the season (2022) and team ('ATL' for Atlanta Braves):\n",
      "\n",
      "braves_2022 = schedule_and_record(2022, 'ATL')\n",
      "\n",
      "3. To get the number of wins, filter the dataframe to rows where the 'W/L' column equals 'W' (for wins) or 'W-wo' (for walk-off wins):\n",
      "\n",
      "wins = braves_2022[(braves_2022['W/L'] == 'W') | (braves_2022['W/L'] == 'W-wo')]\n",
      "\n",
      "4. Get the count of rows in the filtered dataframe to get the total number of wins (including walk-offs):\n",
      "\n",
      "num_wins = len(wins)\n",
      "\n",
      "5. Print out the number of wins:\n",
      "\n",
      "print(f\"The Atlanta Braves won {num_wins} games in the 2022 season (including walk-offs).\")\n",
      "\n",
      "\n",
      "Are you satisfied with this plan?\n"
     ]
    }
   ],
   "source": [
    "task = 'How many games did the Braves win in 2022?' \n",
    "result = baseball_lambda.execute_workflow(task, session_id)\n",
    "print(result)"
   ]
  },
  {
   "cell_type": "code",
   "execution_count": 6,
   "id": "8c9e31b6",
   "metadata": {
    "tags": []
   },
   "outputs": [
    {
     "name": "stdout",
     "output_type": "stream",
     "text": [
      "{'Orchestrate': {'next': 'Convert'}}\n",
      "----\n",
      "{'Convert': {'code': '\\n# Import the schedule_and_record function from the pybaseball library\\nfrom pybaseball import schedule_and_record\\n\\n# Call the schedule_and_record function with the season (2022) and team (\\'ATL\\' for Atlanta Braves)\\nbraves_2022 = schedule_and_record(2022, \\'ATL\\')\\n\\n# To get the number of wins, filter the dataframe to rows where the \\'W/L\\' column equals \\'W\\' (for wins) or \\'W-wo\\' (for walk-off wins)\\nwins = braves_2022[(braves_2022[\\'W/L\\'] == \\'W\\') | (braves_2022[\\'W/L\\'] == \\'W-wo\\')]\\n\\n# Get the count of rows in the filtered dataframe to get the total number of wins (including walk-offs)\\nnum_wins = len(wins)\\n\\n# Print out the number of wins\\nprint(f\"The Atlanta Braves won {num_wins} games in the 2022 season (including walk-offs).\")\\n'}}\n",
      "----\n",
      "Executing: \n",
      "# Import the schedule_and_record function from the pybaseball library\n",
      "from pybaseball import schedule_and_record\n",
      "Executing: # Call the schedule_and_record function with the season (2022) and team ('ATL' for Atlanta Braves)\n",
      "braves_2022 = schedule_and_record(2022, 'ATL')\n",
      "Result: http://www.baseball-reference.com/teams/ATL/2022-schedule-scores.shtml\n",
      "\n",
      "Executing: # To get the number of wins, filter the dataframe to rows where the 'W/L' column equals 'W' (for wins) or 'W-wo' (for walk-off wins)\n",
      "wins = braves_2022[(braves_2022['W/L'] == 'W') | (braves_2022['W/L'] == 'W-wo')]\n",
      "Executing: # Get the count of rows in the filtered dataframe to get the total number of wins (including walk-offs)\n",
      "num_wins = len(wins)\n",
      "Executing: # Print out the number of wins\n",
      "print(f\"The Atlanta Braves won {num_wins} games in the 2022 season (including walk-offs).\")\n",
      "\n",
      "Result: The Atlanta Braves won 101 games in the 2022 season (including walk-offs).\n",
      "\n",
      "{'Execute': {'messages': [AIMessage(content='The Atlanta Braves won 101 games in the 2022 season (including walk-offs).\\n\\nHere is the code that was used to reach this solution:\\n```python\\n\\n# Import the schedule_and_record function from the pybaseball library\\nfrom pybaseball import schedule_and_record\\n# Call the schedule_and_record function with the season (2022) and team (\\'ATL\\' for Atlanta Braves)\\nbraves_2022 = schedule_and_record(2022, \\'ATL\\')\\n# To get the number of wins, filter the dataframe to rows where the \\'W/L\\' column equals \\'W\\' (for wins) or \\'W-wo\\' (for walk-off wins)\\nwins = braves_2022[(braves_2022[\\'W/L\\'] == \\'W\\') | (braves_2022[\\'W/L\\'] == \\'W-wo\\')]\\n# Get the count of rows in the filtered dataframe to get the total number of wins (including walk-offs)\\nnum_wins = len(wins)\\n# Print out the number of wins\\nprint(f\"The Atlanta Braves won {num_wins} games in the 2022 season (including walk-offs).\")\\n\\n```\\n\\nAre you satisfied with this result?')], 'previous_node': 'Execute', 'code': '\\n# Import the schedule_and_record function from the pybaseball library\\nfrom pybaseball import schedule_and_record\\n# Call the schedule_and_record function with the season (2022) and team (\\'ATL\\' for Atlanta Braves)\\nbraves_2022 = schedule_and_record(2022, \\'ATL\\')\\n# To get the number of wins, filter the dataframe to rows where the \\'W/L\\' column equals \\'W\\' (for wins) or \\'W-wo\\' (for walk-off wins)\\nwins = braves_2022[(braves_2022[\\'W/L\\'] == \\'W\\') | (braves_2022[\\'W/L\\'] == \\'W-wo\\')]\\n# Get the count of rows in the filtered dataframe to get the total number of wins (including walk-offs)\\nnum_wins = len(wins)\\n# Print out the number of wins\\nprint(f\"The Atlanta Braves won {num_wins} games in the 2022 season (including walk-offs).\")\\n'}}\n",
      "----\n",
      "The Atlanta Braves won 101 games in the 2022 season (including walk-offs).\n",
      "\n",
      "Here is the code that was used to reach this solution:\n",
      "```python\n",
      "\n",
      "# Import the schedule_and_record function from the pybaseball library\n",
      "from pybaseball import schedule_and_record\n",
      "# Call the schedule_and_record function with the season (2022) and team ('ATL' for Atlanta Braves)\n",
      "braves_2022 = schedule_and_record(2022, 'ATL')\n",
      "# To get the number of wins, filter the dataframe to rows where the 'W/L' column equals 'W' (for wins) or 'W-wo' (for walk-off wins)\n",
      "wins = braves_2022[(braves_2022['W/L'] == 'W') | (braves_2022['W/L'] == 'W-wo')]\n",
      "# Get the count of rows in the filtered dataframe to get the total number of wins (including walk-offs)\n",
      "num_wins = len(wins)\n",
      "# Print out the number of wins\n",
      "print(f\"The Atlanta Braves won {num_wins} games in the 2022 season (including walk-offs).\")\n",
      "\n",
      "```\n",
      "\n",
      "Are you satisfied with this result?\n"
     ]
    }
   ],
   "source": [
    "task = \"looks good\"\n",
    "result = baseball_lambda.execute_workflow(task, session_id)\n",
    "print(result)"
   ]
  },
  {
   "cell_type": "code",
   "execution_count": 7,
   "id": "907e823a",
   "metadata": {
    "tags": []
   },
   "outputs": [
    {
     "name": "stdout",
     "output_type": "stream",
     "text": [
      "{'Orchestrate': {'next': 'Memorize'}}\n",
      "----\n",
      "{'Memorize': {'messages': [AIMessage(content='Thank you, task has been commited to memory')], 'previous_node': 'Memorize'}}\n",
      "----\n",
      "Thank you, task has been commited to memory\n"
     ]
    }
   ],
   "source": [
    "task = \"yes\"\n",
    "result = baseball_lambda.execute_workflow(task, session_id)\n",
    "print(result)"
   ]
  },
  {
   "cell_type": "code",
   "execution_count": null,
   "id": "e21fc241",
   "metadata": {},
   "outputs": [],
   "source": []
  }
 ],
 "metadata": {
  "kernelspec": {
   "display_name": "venv",
   "language": "python",
   "name": "python3"
  },
  "language_info": {
   "codemirror_mode": {
    "name": "ipython",
    "version": 3
   },
   "file_extension": ".py",
   "mimetype": "text/x-python",
   "name": "python",
   "nbconvert_exporter": "python",
   "pygments_lexer": "ipython3",
   "version": "3.10.8"
  }
 },
 "nbformat": 4,
 "nbformat_minor": 5
}
