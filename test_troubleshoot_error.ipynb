{
 "cells": [
  {
   "cell_type": "code",
   "execution_count": 5,
   "metadata": {},
   "outputs": [],
   "source": [
    "from dotenv import load_dotenv, find_dotenv\n",
    "import re\n",
    "\n",
    "from langchain_core.messages import HumanMessage\n",
    "from langchain_core.prompts import ChatPromptTemplate, MessagesPlaceholder\n",
    "from langchain_core.runnables import RunnableLambda\n",
    "from langchain_community.chat_models import BedrockChat\n",
    "\n",
    "def extract_text_between_markers(text):\n",
    "    '''Helper function to extract code'''\n",
    "    start_marker='```python'\n",
    "    end_marker='```'\n",
    "\n",
    "    pattern = re.compile(f'{re.escape(start_marker)}(.*?){re.escape(end_marker)}', re.DOTALL)\n",
    "    matches = pattern.findall(text.content)\n",
    "    return matches[0]\n",
    " \n",
    "\n",
    "# define language model\n",
    "model_id = 'anthropic.claude-3-sonnet-20240229-v1:0'\n",
    "#model_id = 'anthropic.claude-3-haiku-20240307-v1:0'\n",
    "llm = BedrockChat(model_id=model_id, model_kwargs={'temperature': 0})\n",
    "\n",
    "\n",
    "CONVERT_SYSTEM_PROMPT = '''\n",
    "You are a world-class Python programmer and an expert on baseball, with a specialization in data analysis using the pybaseball Python library. \n",
    "Your goal is to update a code block in order to resolve an error.\n",
    "\n",
    "This code block is one step toward accomplishing this task:\n",
    "###\n",
    "Plot the cumulative sum of strikeouts thrown by Danny Duffy in the 2018 season. \n",
    "###\n",
    "\n",
    "Here is the code that has been executed successfully so far:\n",
    "```python\n",
    "\n",
    "# Import necessary libraries\n",
    "from pybaseball import playerid_lookup, statcast_pitcher\n",
    "import matplotlib.pyplot as plt\n",
    "# 1. Get the 'key_mlbam' ID for Danny Duffy\n",
    "duffy_id = playerid_lookup('duffy', 'danny')['key_mlbam'].values[0]\n",
    "```\n",
    "\n",
    "\n",
    "Here is the next code block that threw an error: \n",
    "```python\n",
    "# 2. Get the pitch-level data for Danny Duffy in 2018\n",
    "duffy_2018 = statcast_pitcher(duffy_id, 2018, ['date', 'strikeouts']) \n",
    "```\n",
    "\n",
    "Review the error message and rewrite the code block that threw an error to resolve the issue. \n",
    "\n",
    "Return all python code between three tick marks like this:\n",
    "\n",
    "```python\n",
    "python code goes here\n",
    "```\n",
    "\n",
    "'''\n",
    "\n",
    "generate_prompt_template = ChatPromptTemplate.from_messages([\n",
    "    (\"system\", CONVERT_SYSTEM_PROMPT),\n",
    "    MessagesPlaceholder(variable_name=\"messages\"), \n",
    "])"
   ]
  },
  {
   "cell_type": "code",
   "execution_count": 6,
   "metadata": {},
   "outputs": [],
   "source": [
    "error = \"TypeError('strptime() argument 1 must be str, not numpy.int64')\""
   ]
  },
  {
   "cell_type": "code",
   "execution_count": 7,
   "metadata": {},
   "outputs": [],
   "source": [
    "# Chain\n",
    "generate_chain = generate_prompt_template | llm | RunnableLambda(extract_text_between_markers)\n",
    "\n",
    "code_solution = generate_chain.invoke({\"messages\": [HumanMessage(content=f'Here is the error message:\\n\\n{error}')]})"
   ]
  },
  {
   "cell_type": "code",
   "execution_count": 8,
   "metadata": {},
   "outputs": [
    {
     "name": "stdout",
     "output_type": "stream",
     "text": [
      "\n",
      "# 2. Get the pitch-level data for Danny Duffy in 2018\n",
      "duffy_2018 = statcast_pitcher(duffy_id, start_dt=str(2018), end_dt=str(2018), data_type=['date', 'strikeouts'])\n",
      "\n"
     ]
    }
   ],
   "source": [
    "print(code_solution)"
   ]
  },
  {
   "cell_type": "code",
   "execution_count": null,
   "metadata": {},
   "outputs": [],
   "source": []
  }
 ],
 "metadata": {
  "kernelspec": {
   "display_name": "venv",
   "language": "python",
   "name": "python3"
  },
  "language_info": {
   "codemirror_mode": {
    "name": "ipython",
    "version": 3
   },
   "file_extension": ".py",
   "mimetype": "text/x-python",
   "name": "python",
   "nbconvert_exporter": "python",
   "pygments_lexer": "ipython3",
   "version": "3.10.13"
  }
 },
 "nbformat": 4,
 "nbformat_minor": 2
}
