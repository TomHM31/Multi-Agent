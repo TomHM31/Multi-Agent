{
 "cells": [
  {
   "cell_type": "code",
   "execution_count": 1,
   "metadata": {},
   "outputs": [
    {
     "name": "stderr",
     "output_type": "stream",
     "text": [
      "Python REPL can execute arbitrary code. Use with caution.\n"
     ]
    },
    {
     "data": {
      "text/plain": [
       "''"
      ]
     },
     "execution_count": 1,
     "metadata": {},
     "output_type": "execute_result"
    }
   ],
   "source": [
    "from langchain_experimental.tools import PythonREPLTool\n",
    "import text\n",
    "\n",
    "# define python repl\n",
    "python_repl = PythonREPLTool()\n",
    "\n",
    "# initiate python_repl to ignore warnings\n",
    "python_repl.invoke('import warnings\\nwarnings.simplefilter(\"ignore\")')"
   ]
  },
  {
   "cell_type": "code",
   "execution_count": 2,
   "metadata": {},
   "outputs": [],
   "source": [
    "from dotenv import load_dotenv, find_dotenv\n",
    "import re\n",
    "\n",
    "from langchain_core.messages import HumanMessage, AIMessage\n",
    "from langchain_core.prompts import ChatPromptTemplate, MessagesPlaceholder\n",
    "from langchain_core.runnables import RunnableLambda\n",
    "from langchain_community.chat_models import BedrockChat\n",
    "\n",
    "# read local .env file\n",
    "_ = load_dotenv(find_dotenv()) \n",
    "\n",
    "# define language model\n",
    "model_id = 'anthropic.claude-3-sonnet-20240229-v1:0'\n",
    "#model_id = 'anthropic.claude-3-haiku-20240307-v1:0'\n",
    "llm = BedrockChat(model_id=model_id, model_kwargs={'temperature': 0})\n",
    "\n",
    "# set a distance threshold for when to create a new plan vs modify an existing plan\n",
    "threshold = .5\n",
    "\n",
    "\n",
    "def extract_text_between_markers(text):\n",
    "    '''Helper function to extract code'''\n",
    "    start_marker = '```python'\n",
    "    end_marker = '```'\n",
    "\n",
    "    pattern = re.compile(f'{re.escape(start_marker)}(.*?){re.escape(end_marker)}', re.DOTALL)\n",
    "    matches = pattern.findall(text.content)\n",
    "    return matches[0]\n",
    "\n",
    "\n",
    "CONVERT_SYSTEM_PROMPT = '''<instructions>You are a highly skilled Python programmer.  Your goal is to help a user execute a plan by writing code for a Python REPL.</instructions>\n",
    "\n",
    "Text between the <function_detail></function_detail> tags is documentation on the functions in use.  Do not attempt to use any feature that is not explicitly listed in the data dictionary for that function.\n",
    "<function_detail> \n",
    "{function_detail}\n",
    "</function_detail>\n",
    "\n",
    "Text between the <task></task> tags is the goal of the plan.\n",
    "<task>\n",
    "{task}\n",
    "</task>\n",
    "\n",
    "Text between the <plan></plan> tags is the entire plan that will be executed.\n",
    "<plan>\n",
    "{plan}\n",
    "</plan>\n",
    "\n",
    "Text between the <rules></rules> tags are rules that must be followed.\n",
    "<rules>\n",
    "1. Import all necessary libraries at the start of your code.\n",
    "2. Always assign the result of a pybaseball function call to a variable.\n",
    "3. When writing code for the last step in the plan, always use print() to write a summary of the results.\n",
    "4. Never write functions\n",
    "5. Return all python code between three tick marks like this:\n",
    "```python\n",
    "python code goes here\n",
    "```\n",
    "6. Comment your code liberally to be clear about what is happening and why.\n",
    "</rules>\n",
    "'''"
   ]
  },
  {
   "cell_type": "code",
   "execution_count": 3,
   "metadata": {},
   "outputs": [],
   "source": [
    "convert_prompt_template = ChatPromptTemplate.from_messages([\n",
    "    (\"system\", CONVERT_SYSTEM_PROMPT),\n",
    "    MessagesPlaceholder(variable_name=\"messages\"), \n",
    "]).partial(function_detail=text.function_detail, task=text.task, plan=text.plan)\n",
    "\n",
    "convert_chain = convert_prompt_template | llm | RunnableLambda(extract_text_between_markers)\n",
    "\n",
    "convert_message = 'Convert the next step of the plan into code that can be executed in a Python REPL.'\n",
    "\n",
    "messages = [HumanMessage(content=convert_message)]\n",
    "\n",
    "# invoke convert chain\n",
    "code = convert_chain.invoke({'messages':messages}) "
   ]
  },
  {
   "cell_type": "code",
   "execution_count": 4,
   "metadata": {},
   "outputs": [
    {
     "name": "stdout",
     "output_type": "stream",
     "text": [
      "\n",
      "# Import necessary libraries\n",
      "from pybaseball import statcast\n",
      "import pandas as pd\n",
      "\n",
      "# 1. Get all pitch data from 2020-08-01 to 2020-08-07\n",
      "all_pitches = statcast('2020-08-01', '2020-08-07')\n",
      "\n"
     ]
    }
   ],
   "source": [
    "print(code)"
   ]
  },
  {
   "cell_type": "code",
   "execution_count": null,
   "metadata": {},
   "outputs": [],
   "source": [
    "result = python_repl.invoke(code)"
   ]
  },
  {
   "cell_type": "code",
   "execution_count": null,
   "metadata": {},
   "outputs": [],
   "source": [
    "result"
   ]
  },
  {
   "cell_type": "code",
   "execution_count": null,
   "metadata": {},
   "outputs": [],
   "source": [
    "'''\n",
    "step = \"\"\"2. Filter for just curveballs:\n",
    "all_curves = all_pitches[all_pitches['pitch_type'] == 'CU']\"\"\"\n",
    "'''"
   ]
  },
  {
   "cell_type": "code",
   "execution_count": null,
   "metadata": {},
   "outputs": [],
   "source": [
    "messages.append(AIMessage(content=f'The previous step completed successfully with the following code:\\n\\n```python\\n{code}\\n```\\n\\nHere was the result: {result}'))\n",
    "messages.append(HumanMessage(content=convert_message))\n",
    "\n",
    "# invoke convert chain\n",
    "code = convert_chain.invoke({'messages':messages}) "
   ]
  },
  {
   "cell_type": "code",
   "execution_count": null,
   "metadata": {},
   "outputs": [],
   "source": [
    "print(code)"
   ]
  },
  {
   "cell_type": "code",
   "execution_count": null,
   "metadata": {},
   "outputs": [],
   "source": [
    "result = python_repl.invoke(code)"
   ]
  },
  {
   "cell_type": "code",
   "execution_count": null,
   "metadata": {},
   "outputs": [],
   "source": [
    "print(result)"
   ]
  },
  {
   "cell_type": "code",
   "execution_count": null,
   "metadata": {},
   "outputs": [],
   "source": [
    "messages.append(AIMessage(content=f'The previous step completed successfully with the following code:\\n\\n```python\\n{code}\\n```\\n\\nHere was the result: {result}'))\n",
    "messages.append(HumanMessage(content=convert_message))\n",
    "\n",
    "# invoke convert chain\n",
    "code = convert_chain.invoke({'messages':messages}) "
   ]
  },
  {
   "cell_type": "code",
   "execution_count": null,
   "metadata": {},
   "outputs": [],
   "source": [
    "print(code)"
   ]
  },
  {
   "cell_type": "code",
   "execution_count": null,
   "metadata": {},
   "outputs": [],
   "source": [
    "result = python_repl.invoke(code)"
   ]
  },
  {
   "cell_type": "code",
   "execution_count": null,
   "metadata": {},
   "outputs": [],
   "source": [
    "result"
   ]
  },
  {
   "cell_type": "code",
   "execution_count": null,
   "metadata": {},
   "outputs": [],
   "source": [
    "messages.append(AIMessage(content=f'The previous step reached an error with the following code:\\n\\n```python\\n{code}\\n```\\n\\nHere was the error: {result}'))\n",
    "messages.append(HumanMessage(content=f'What information would be useful in order to troubleshoot this error?  Write Python code that can be executed in a python repl to confirm this information.'))\n",
    "\n",
    "# invoke convert chain\n",
    "code = convert_chain.invoke({'messages':messages}) "
   ]
  },
  {
   "cell_type": "code",
   "execution_count": null,
   "metadata": {},
   "outputs": [],
   "source": [
    "print(code)"
   ]
  },
  {
   "cell_type": "code",
   "execution_count": null,
   "metadata": {},
   "outputs": [],
   "source": [
    "result = python_repl.invoke(code)"
   ]
  },
  {
   "cell_type": "code",
   "execution_count": null,
   "metadata": {},
   "outputs": [],
   "source": [
    "print(result)"
   ]
  },
  {
   "cell_type": "code",
   "execution_count": null,
   "metadata": {},
   "outputs": [],
   "source": [
    "messages.append(AIMessage(content=f'The following code was executed to help troubleshoot this error:\\n\\n```python\\n{code}\\n```\\n\\nHere is the result:\\n\\n{result}'))\n",
    "messages.append(HumanMessage(content=convert_message))\n",
    "\n",
    "# invoke convert chain\n",
    "code = convert_chain.invoke({'messages':messages}) "
   ]
  },
  {
   "cell_type": "code",
   "execution_count": null,
   "metadata": {},
   "outputs": [],
   "source": [
    "print(code)"
   ]
  },
  {
   "cell_type": "code",
   "execution_count": null,
   "metadata": {},
   "outputs": [],
   "source": [
    "result = python_repl.invoke(code)"
   ]
  },
  {
   "cell_type": "code",
   "execution_count": null,
   "metadata": {},
   "outputs": [],
   "source": [
    "print(result)"
   ]
  },
  {
   "cell_type": "code",
   "execution_count": null,
   "metadata": {},
   "outputs": [],
   "source": [
    "messages.append(AIMessage(content=f'The previous step completed successfully with the following code:\\n\\n```python\\n{code}\\n```\\n\\nHere was the result: {result}'))\n",
    "messages.append(HumanMessage(content=convert_message))\n",
    "\n",
    "# invoke convert chain\n",
    "code = convert_chain.invoke({'messages':messages}) "
   ]
  },
  {
   "cell_type": "code",
   "execution_count": null,
   "metadata": {},
   "outputs": [],
   "source": [
    "print(code)"
   ]
  },
  {
   "cell_type": "code",
   "execution_count": null,
   "metadata": {},
   "outputs": [],
   "source": [
    "result = python_repl.invoke(code)"
   ]
  },
  {
   "cell_type": "code",
   "execution_count": null,
   "metadata": {},
   "outputs": [],
   "source": [
    "print(result)"
   ]
  },
  {
   "cell_type": "code",
   "execution_count": null,
   "metadata": {},
   "outputs": [],
   "source": [
    "messages.append(AIMessage(content=f'The previous step completed successfully with the following code:\\n\\n```python\\n{code}\\n```\\n\\nHere was the result: {result}'))\n",
    "messages.append(HumanMessage(content=convert_message))\n",
    "\n",
    "# invoke convert chain\n",
    "code = convert_chain.invoke({'messages':messages}) "
   ]
  },
  {
   "cell_type": "code",
   "execution_count": null,
   "metadata": {},
   "outputs": [],
   "source": [
    "print(code)"
   ]
  },
  {
   "cell_type": "code",
   "execution_count": null,
   "metadata": {},
   "outputs": [],
   "source": [
    "result = python_repl.invoke(code)"
   ]
  },
  {
   "cell_type": "code",
   "execution_count": null,
   "metadata": {},
   "outputs": [],
   "source": [
    "print(result)"
   ]
  },
  {
   "cell_type": "code",
   "execution_count": null,
   "metadata": {},
   "outputs": [],
   "source": [
    "messages.append(AIMessage(content=f'The previous step completed successfully with the following code:\\n\\n```python\\n{code}\\n```\\n\\nHere was the result: {result}'))\n",
    "messages.append(HumanMessage(content=convert_message))\n",
    "\n",
    "# invoke convert chain\n",
    "code = convert_chain.invoke({'messages':messages}) "
   ]
  },
  {
   "cell_type": "code",
   "execution_count": null,
   "metadata": {},
   "outputs": [],
   "source": [
    "print(code)"
   ]
  },
  {
   "cell_type": "code",
   "execution_count": null,
   "metadata": {},
   "outputs": [],
   "source": [
    "result = python_repl.invoke(code)"
   ]
  },
  {
   "cell_type": "code",
   "execution_count": null,
   "metadata": {},
   "outputs": [],
   "source": [
    "print(result)"
   ]
  },
  {
   "cell_type": "code",
   "execution_count": null,
   "metadata": {},
   "outputs": [],
   "source": [
    "messages.append(AIMessage(content=f'The previous step completed successfully with the following code:\\n\\n```python\\n{code}\\n```\\n\\nHere was the result: {result}'))\n",
    "messages.append(HumanMessage(content=convert_message))\n",
    "\n",
    "# invoke convert chain\n",
    "code = convert_chain.invoke({'messages':messages}) "
   ]
  },
  {
   "cell_type": "code",
   "execution_count": null,
   "metadata": {},
   "outputs": [],
   "source": [
    "print(code)"
   ]
  },
  {
   "cell_type": "code",
   "execution_count": null,
   "metadata": {},
   "outputs": [],
   "source": [
    "result = python_repl.invoke(code)"
   ]
  },
  {
   "cell_type": "code",
   "execution_count": null,
   "metadata": {},
   "outputs": [],
   "source": [
    "print(result)"
   ]
  },
  {
   "cell_type": "code",
   "execution_count": null,
   "metadata": {},
   "outputs": [],
   "source": [
    "messages.append(AIMessage(content=f'The previous step completed successfully with the following code:\\n\\n```python\\n{code}\\n```\\n\\nHere was the result: {result}'))\n",
    "messages.append(HumanMessage(content=convert_message))"
   ]
  },
  {
   "cell_type": "code",
   "execution_count": null,
   "metadata": {},
   "outputs": [],
   "source": [
    "messages"
   ]
  },
  {
   "cell_type": "code",
   "execution_count": null,
   "metadata": {},
   "outputs": [],
   "source": []
  }
 ],
 "metadata": {
  "kernelspec": {
   "display_name": "venv",
   "language": "python",
   "name": "python3"
  },
  "language_info": {
   "codemirror_mode": {
    "name": "ipython",
    "version": 3
   },
   "file_extension": ".py",
   "mimetype": "text/x-python",
   "name": "python",
   "nbconvert_exporter": "python",
   "pygments_lexer": "ipython3",
   "version": "3.10.8"
  }
 },
 "nbformat": 4,
 "nbformat_minor": 2
}
